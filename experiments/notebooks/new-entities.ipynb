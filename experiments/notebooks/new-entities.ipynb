{
 "cells": [
  {
   "cell_type": "markdown",
   "metadata": {},
   "source": [
    "# Can we find triples about new entities?"
   ]
  },
  {
   "cell_type": "code",
   "execution_count": 134,
   "metadata": {},
   "outputs": [],
   "source": [
    "# get classes & instance predictions\n",
    "import pandas as pd\n",
    "\n",
    "file_classes = './data/output_tables_instance_v1/class_decision.csv'\n",
    "file_instances = './data/output_tables_instance_v1/instance_correspondences.csv'\n",
    "file_schemas = './data/output_tables_instance_v1/schema_correspondences.csv'\n",
    "\n",
    "file_classes = './data/t2d_instance_v1/gs_class.csv'\n",
    "file_instances = './data/t2d_instance_v1/gs_instance.csv'\n",
    "file_schemas = './data/t2d_instance_v1/gs_property.csv'\n",
    "\n",
    "dir_tables = './data/t2d_instance_v1/tables/'"
   ]
  },
  {
   "cell_type": "code",
   "execution_count": 139,
   "metadata": {},
   "outputs": [],
   "source": [
    "classes = pd.read_csv(file_classes, header=None, index_col = 0)\n",
    "if list(classes.index)[0] == 0:\n",
    "    classes.set_index(1, inplace=True)\n",
    "else:\n",
    "    del classes[2]\n",
    "classes.columns = ['name']\n",
    "# classes.head()"
   ]
  },
  {
   "cell_type": "code",
   "execution_count": 136,
   "metadata": {},
   "outputs": [],
   "source": [
    "schemas = pd.read_csv(file_schemas, header=None)\n",
    "schemas['table'] = schemas[0].map(lambda s: s.split('~')[0])\n",
    "schemas['col'] = schemas[0].map(lambda s: int(s.split('~Col')[1]))\n",
    "del schemas[0]\n",
    "schemas.set_index('table', inplace=True)\n",
    "# schemas.head()"
   ]
  },
  {
   "cell_type": "code",
   "execution_count": 137,
   "metadata": {},
   "outputs": [],
   "source": [
    "instances = pd.read_csv(file_instances, header=None)\n",
    "instances['table'] = instances[0].map(lambda s: s.split('~')[0])\n",
    "instances['row'] = instances[0].map(lambda s: int(s.split('~Row')[1]))\n",
    "del instances[0]\n",
    "instances.set_index('table', inplace=True)\n",
    "# instances.head()"
   ]
  },
  {
   "cell_type": "code",
   "execution_count": 140,
   "metadata": {
    "scrolled": false
   },
   "outputs": [
    {
     "name": "stdout",
     "output_type": "stream",
     "text": [
      "28079336_2_2139598421036200532.csv~Row0\ttype\tCompany\n",
      "28079336_2_2139598421036200532.csv~Row0\thttp://www.w3.org/2000/01/rdf-schema#label\tcompany name\n",
      "28079336_2_2139598421036200532.csv~Row0\thttp://dbpedia.org/ontology/industry\tindustry\n",
      "32812626_0_5428724146873158593.csv~Row0\ttype\tHospital\n",
      "32812626_0_5428724146873158593.csv~Row0\thttp://www.w3.org/2000/01/rdf-schema#label\t6th medical group - macdill air force base\n",
      "32812626_0_5428724146873158593.csv~Row0\thttp://dbpedia.org/ontology/circle\tmacdill air force base\n",
      "32812626_0_5428724146873158593.csv~Row0\thttp://dbpedia.org/ontology/bedCount\t0\n",
      "69537082_0_7789694313271016902.csv~Row0\ttype\tCountry\n",
      "69537082_0_7789694313271016902.csv~Row0\thttp://www.w3.org/2000/01/rdf-schema#label\tworld\n",
      "69537082_0_7789694313271016902.csv~Row0\thttp://dbpedia.org/ontology/populationTotal\t6446131400\n",
      "41194422_0_7231546114369966811.csv~Row0\ttype\tCountry\n",
      "41194422_0_7231546114369966811.csv~Row0\thttp://www.w3.org/2000/01/rdf-schema#label\tworld\n",
      "41194422_0_7231546114369966811.csv~Row0\thttp://dbpedia.org/ontology/populationTotal\t6464750000\n",
      "8009320_0_5507755752653817624.csv~Row0\ttype\tCountry\n",
      "8009320_0_5507755752653817624.csv~Row0\thttp://dbpedia.org/ontology/GeopoliticalOrganisation/populationDensity\t(/km�)\n",
      "8009320_0_5507755752653817624.csv~Row0\thttp://dbpedia.org/ontology/PopulatedPlace/areaTotal\t(km�)\n",
      "8009320_0_5507755752653817624.csv~Row0\thttp://dbpedia.org/ontology/populationTotal\t(2002-07-01 est.)\n",
      "92896255_0_4593968708343548527.csv~Row0\ttype\tPlant\n",
      "92896255_0_4593968708343548527.csv~Row0\thttp://www.w3.org/2000/01/rdf-schema#label\tnan\n",
      "93078729_0_1451251196788678526.csv~Row0\ttype\tLake\n",
      "93078729_0_1451251196788678526.csv~Row0\thttp://www.w3.org/2000/01/rdf-schema#label\talder pond\n",
      "93078729_0_1451251196788678526.csv~Row0\thttp://dbpedia.org/ontology/location\talder brook twp.\n",
      "36039980_4_4283009829602711082.csv~Row0\ttype\tMountain\n",
      "36039980_4_4283009829602711082.csv~Row0\thttp://www.w3.org/2000/01/rdf-schema#label\tcima della vallettamottone della tappa\n",
      "36039980_4_4283009829602711082.csv~Row0\thttp://dbpedia.org/ontology/elevation\t2130\n",
      "8286121_0_8471791395229161598.csv~Row0\ttype\tCountry\n",
      "america continent395229161598.csv~Row0\thttp://www.w3.org/2000/01/rdf-schema#label\tsouth\n",
      "28993628_1_6072768612274729703.csv~Row0\ttype\tMountain\n",
      "28993628_1_6072768612274729703.csv~Row0\thttp://www.w3.org/2000/01/rdf-schema#label\tcharenstock\n",
      "41839679_0_3009344178474568371.csv~Row0\ttype\tMonarch\n",
      "41839679_0_3009344178474568371.csv~Row0\thttp://www.w3.org/2000/01/rdf-schema#label\tconsular (&ldquo;acisculus.&rdquo;        valeria gens).\n",
      "41194422_1_1172256090552737974.csv~Row0\ttype\tCountry\n",
      "41194422_1_1172256090552737974.csv~Row0\thttp://www.w3.org/2000/01/rdf-schema#label\tworld\n",
      "41194422_1_1172256090552737974.csv~Row0\thttp://dbpedia.org/ontology/populationTotal\t6464750000\n",
      "43237185_1_3636357855502246981.csv~Row0\ttype\tScientist\n",
      "43237185_1_3636357855502246981.csv~Row0\thttp://www.w3.org/2000/01/rdf-schema#label\tkeith f. taylor\n",
      "43237185_1_3636357855502246981.csv~Row0\thttp://dbpedia.org/ontology/almaMater\tuniversity of alberta\n",
      "43237185_1_3636357855502246981.csv~Row0\thttp://dbpedia.org/ontology/doctoralAdvisor\tanthony to-ming lau\n",
      "64734047_0_5880705307495695536.csv~Row0\ttype\tHospital\n",
      "64734047_0_5880705307495695536.csv~Row0\thttp://www.w3.org/2000/01/rdf-schema#label\tinstitute of psychiatry & neurology\n",
      "64734047_0_5880705307495695536.csv~Row0\thttp://dbpedia.org/ontology/country\tpoland\n",
      "79966524_0_1484492112455633784.csv~Row0\ttype\tAnimal\n",
      "90593344_0_8311455501234425088.csv~Row0\ttype\tMountain\n",
      "53989675_0_8697482470743954630.csv~Row0\ttype\tLake\n",
      "53989675_0_8697482470743954630.csv~Row0\thttp://www.w3.org/2000/01/rdf-schema#label\tbony lake\n",
      "54719588_0_8417197176086756912.csv~Row0\ttype\tFilm\n",
      "54719588_0_8417197176086756912.csv~Row0\thttp://dbpedia.org/ontology/releaseDate\t1992.82\n"
     ]
    }
   ],
   "source": [
    "import os, glob\n",
    "\n",
    "TYPE_URI = 'type'\n",
    "\n",
    "def parse_cell(cell):\n",
    "    cell = str(cell)\n",
    "    if cell[0] == '{' and cell[-1] == '}':\n",
    "        for part in cell[1:-1].split('|'):\n",
    "            yield part\n",
    "    elif cell == '&nbsp;':\n",
    "        return\n",
    "    else:\n",
    "        yield cell\n",
    "\n",
    "for fname in glob.glob('%s/*.*' % dir_tables):\n",
    "    name = os.path.basename(fname)\n",
    "    table = pd.read_csv(fname)\n",
    "    \n",
    "    d = pd.DataFrame(instances.loc[name])\n",
    "    d.set_index('row', inplace=True)\n",
    "    \n",
    "    schema = {t.col:t._1 for t in schemas.loc[[name]].itertuples()}\n",
    "    types = set(c for cs in classes.loc[[name]].itertuples() for c in cs.name.split(','))\n",
    "    \n",
    "    for tup in table.itertuples():\n",
    "        i = tup.Index\n",
    "        instance = d.loc[i][1] if i in d.index else None\n",
    "        if not instance:\n",
    "            row_id = '%s~Row%s' % (name, i)\n",
    "            for t in types:\n",
    "                print(row_id, TYPE_URI, t, sep='\\t')\n",
    "            for i, cell in enumerate(list(tup)[1:]):\n",
    "                if i in schema:\n",
    "                    for c in parse_cell(cell):\n",
    "                        print(row_id, schema[i], c, sep='\\t')\n",
    "        break\n",
    "#     break\n",
    "\n"
   ]
  },
  {
   "cell_type": "code",
   "execution_count": null,
   "metadata": {},
   "outputs": [],
   "source": []
  }
 ],
 "metadata": {
  "kernelspec": {
   "display_name": "Python 3",
   "language": "python",
   "name": "python3"
  },
  "language_info": {
   "codemirror_mode": {
    "name": "ipython",
    "version": 3
   },
   "file_extension": ".py",
   "mimetype": "text/x-python",
   "name": "python",
   "nbconvert_exporter": "python",
   "pygments_lexer": "ipython3",
   "version": "3.6.6"
  }
 },
 "nbformat": 4,
 "nbformat_minor": 2
}
