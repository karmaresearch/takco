{
 "cells": [
  {
   "cell_type": "code",
   "execution_count": 44,
   "metadata": {},
   "outputs": [
    {
     "name": "stdout",
     "output_type": "stream",
     "text": [
      "31988193 terms, 109490101 triples\n"
     ]
    }
   ],
   "source": [
    "# DB_PATH = './data/dbpedia_part/db/'\n",
    "DB_PATH = './data/dbpedia_part/db_infloc/'\n",
    "# DB_PATH = './data/dbpedia_subset/db/'\n",
    "DATA_PATH = './results/8sep-ft1-bp2-nolcwa'\n",
    "import trident\n",
    "trident.setLoggingLevel(0)\n",
    "g = trident.Db(DB_PATH)\n",
    "type_id = g.lookup_id('<http://www.w3.org/1999/02/22-rdf-syntax-ns#type>')\n",
    "assert type_id != None\n",
    "print('%d terms, %d triples' % (g.n_terms(), g.n_triples()))"
   ]
  },
  {
   "cell_type": "code",
   "execution_count": 47,
   "metadata": {},
   "outputs": [
    {
     "name": "stdout",
     "output_type": "stream",
     "text": [
      "                <http://purl.org/dc/terms/subject> <http://dbpedia.org/resource/Category:Hospitals_affiliated_with_the_Roman_Catholic_Church>\n",
      "                <http://purl.org/dc/terms/subject> <http://dbpedia.org/resource/Category:Hospitals_established_in_1958>\n",
      "                <http://purl.org/dc/terms/subject> <http://dbpedia.org/resource/Category:Hospitals_in_Dublin_(city)>\n",
      "                <http://purl.org/dc/terms/subject>      <http://dbpedia.org/resource/Category:Raheny>\n",
      "      <http://www.w3.org/2000/01/rdf-schema#label>                 \"St. Joseph's Hospital, Dublin\"@en\n"
     ]
    }
   ],
   "source": [
    "e = g.lookup_id('<http://dbpedia.org/resource/St._Joseph\\'s_Hospital,_Dublin>')\n",
    "for p,o in g.po(e):\n",
    "    print('%50s %50s' % (g.lookup_str(p),g.lookup_str(o)))"
   ]
  },
  {
   "cell_type": "code",
   "execution_count": 38,
   "metadata": {},
   "outputs": [
    {
     "name": "stdout",
     "output_type": "stream",
     "text": [
      "total 11G\r\n",
      "-rw-r--r-- 1 kruit da  468M Sep  8 20:16 53822652_0_5767892317858575530.csv.tsv\r\n",
      "-rw-r--r-- 1 kruit da  431M Sep  8 20:20 88523363_0_8180214313099580515.csv.tsv\r\n",
      "-rw-r--r-- 1 kruit da  424M Sep  8 20:23 19272019_0_1508498249156534553.csv.tsv\r\n",
      "-rw-r--r-- 1 kruit da  388M Sep  8 20:11 18422942_0_3659164506677528063.csv.tsv\r\n",
      "-rw-r--r-- 1 kruit da  354M Sep  8 20:14 47709681_0_4437772923903322343.csv.tsv\r\n",
      "-rw-r--r-- 1 kruit da  353M Sep  8 20:17 73988811_0_2775758476756716904.csv.tsv\r\n",
      "-rw-r--r-- 1 kruit da  337M Sep  8 20:23 37856682_0_6818907050314633217.csv.tsv\r\n",
      "-rw-r--r-- 1 kruit da  328M Sep  8 20:14 13719111_1_5719401842463579519.csv.tsv\r\n",
      "-rw-r--r-- 1 kruit da  306M Sep  8 20:15 22864497_0_8632623712684511496.csv.tsv\r\n",
      "ls: write error: Broken pipe\r\n"
     ]
    }
   ],
   "source": [
    "!ls -lSh $DATA_PATH/sims/ | head"
   ]
  },
  {
   "cell_type": "code",
   "execution_count": 39,
   "metadata": {},
   "outputs": [],
   "source": [
    "import os\n",
    "# table = '42764224_0_515744189130384109.csv' # danish politics\n",
    "table = '36102169_0_7739454799295072814.csv' # video games\n",
    "table = '33167985_0_5220049369716352813.csv' # mammals\n",
    "table = '73242003_5_4847571983313033360.csv' # video games (small)\n",
    "table = '43226272_0_5995103035300388365.csv' # irish hospitals\n",
    "table = '86627271_6_2239821927452848323.csv' # lakes\n",
    "\n",
    "simfile = DATA_PATH + '/sims/%s.tsv' % table\n",
    "assert os.path.exists(simfile)"
   ]
  },
  {
   "cell_type": "code",
   "execution_count": 40,
   "metadata": {
    "scrolled": false
   },
   "outputs": [
    {
     "data": {
      "text/html": [
       "<div>\n",
       "<style scoped>\n",
       "    .dataframe tbody tr th:only-of-type {\n",
       "        vertical-align: middle;\n",
       "    }\n",
       "\n",
       "    .dataframe tbody tr th {\n",
       "        vertical-align: top;\n",
       "    }\n",
       "\n",
       "    .dataframe thead th {\n",
       "        text-align: right;\n",
       "    }\n",
       "</style>\n",
       "<table border=\"1\" class=\"dataframe\">\n",
       "  <thead>\n",
       "    <tr style=\"text-align: right;\">\n",
       "      <th></th>\n",
       "      <th>Unnamed: 0</th>\n",
       "      <th>row</th>\n",
       "      <th>entity</th>\n",
       "      <th>gold</th>\n",
       "      <th>table</th>\n",
       "      <th>id</th>\n",
       "      <th>rowcontent</th>\n",
       "      <th>score</th>\n",
       "      <th>rownr</th>\n",
       "      <th>name</th>\n",
       "      <th>strscore</th>\n",
       "      <th>simscore</th>\n",
       "      <th>n_feats</th>\n",
       "      <th>strscore_numer</th>\n",
       "      <th>strscore_denom</th>\n",
       "      <th>coherence</th>\n",
       "      <th>sim</th>\n",
       "    </tr>\n",
       "  </thead>\n",
       "  <tbody>\n",
       "    <tr>\n",
       "      <th>2</th>\n",
       "      <td>2</td>\n",
       "      <td>86627271_6_2239821927452848323.csv~Row0</td>\n",
       "      <td>http://dbpedia.org/resource/Nettilling_Lake</td>\n",
       "      <td>True</td>\n",
       "      <td>86627271_6_2239821927452848323.csv</td>\n",
       "      <td>26173110</td>\n",
       "      <td>nettilling lake|5063|5542|30</td>\n",
       "      <td>0.750002</td>\n",
       "      <td>0</td>\n",
       "      <td>Nettilling_Lake</td>\n",
       "      <td>0.0</td>\n",
       "      <td>0.0</td>\n",
       "      <td>41</td>\n",
       "      <td>0.0</td>\n",
       "      <td>0.0</td>\n",
       "      <td>0.0</td>\n",
       "      <td>0.0</td>\n",
       "    </tr>\n",
       "    <tr>\n",
       "      <th>112</th>\n",
       "      <td>112</td>\n",
       "      <td>86627271_6_2239821927452848323.csv~Row0</td>\n",
       "      <td>http://dbpedia.org/resource/Lake_Laka</td>\n",
       "      <td>False</td>\n",
       "      <td>86627271_6_2239821927452848323.csv</td>\n",
       "      <td>24231379</td>\n",
       "      <td>nettilling lake|5063|5542|30</td>\n",
       "      <td>0.249998</td>\n",
       "      <td>0</td>\n",
       "      <td>Lake_Laka</td>\n",
       "      <td>0.0</td>\n",
       "      <td>0.0</td>\n",
       "      <td>32</td>\n",
       "      <td>0.0</td>\n",
       "      <td>0.0</td>\n",
       "      <td>0.0</td>\n",
       "      <td>0.0</td>\n",
       "    </tr>\n",
       "    <tr>\n",
       "      <th>81</th>\n",
       "      <td>81</td>\n",
       "      <td>86627271_6_2239821927452848323.csv~Row1</td>\n",
       "      <td>http://dbpedia.org/resource/Lake_Laka</td>\n",
       "      <td>False</td>\n",
       "      <td>86627271_6_2239821927452848323.csv</td>\n",
       "      <td>24231379</td>\n",
       "      <td>dubawnt lake|3629|3833|236</td>\n",
       "      <td>0.199999</td>\n",
       "      <td>1</td>\n",
       "      <td>Lake_Laka</td>\n",
       "      <td>0.0</td>\n",
       "      <td>0.0</td>\n",
       "      <td>32</td>\n",
       "      <td>0.0</td>\n",
       "      <td>0.0</td>\n",
       "      <td>0.0</td>\n",
       "      <td>0.0</td>\n",
       "    </tr>\n",
       "    <tr>\n",
       "      <th>16</th>\n",
       "      <td>16</td>\n",
       "      <td>86627271_6_2239821927452848323.csv~Row1</td>\n",
       "      <td>http://dbpedia.org/resource/Dubawnt_Lake</td>\n",
       "      <td>True</td>\n",
       "      <td>86627271_6_2239821927452848323.csv</td>\n",
       "      <td>20592507</td>\n",
       "      <td>dubawnt lake|3629|3833|236</td>\n",
       "      <td>0.600002</td>\n",
       "      <td>1</td>\n",
       "      <td>Dubawnt_Lake</td>\n",
       "      <td>0.0</td>\n",
       "      <td>0.0</td>\n",
       "      <td>35</td>\n",
       "      <td>0.0</td>\n",
       "      <td>0.0</td>\n",
       "      <td>0.0</td>\n",
       "      <td>0.0</td>\n",
       "    </tr>\n",
       "    <tr>\n",
       "      <th>78</th>\n",
       "      <td>78</td>\n",
       "      <td>86627271_6_2239821927452848323.csv~Row1</td>\n",
       "      <td>http://dbpedia.org/resource/Lago_delle_Lame</td>\n",
       "      <td>False</td>\n",
       "      <td>86627271_6_2239821927452848323.csv</td>\n",
       "      <td>24220295</td>\n",
       "      <td>dubawnt lake|3629|3833|236</td>\n",
       "      <td>0.199999</td>\n",
       "      <td>1</td>\n",
       "      <td>Lago_delle_Lame</td>\n",
       "      <td>0.0</td>\n",
       "      <td>0.0</td>\n",
       "      <td>31</td>\n",
       "      <td>0.0</td>\n",
       "      <td>0.0</td>\n",
       "      <td>0.0</td>\n",
       "      <td>0.0</td>\n",
       "    </tr>\n",
       "  </tbody>\n",
       "</table>\n",
       "</div>"
      ],
      "text/plain": [
       "     Unnamed: 0                                      row  \\\n",
       "2             2  86627271_6_2239821927452848323.csv~Row0   \n",
       "112         112  86627271_6_2239821927452848323.csv~Row0   \n",
       "81           81  86627271_6_2239821927452848323.csv~Row1   \n",
       "16           16  86627271_6_2239821927452848323.csv~Row1   \n",
       "78           78  86627271_6_2239821927452848323.csv~Row1   \n",
       "\n",
       "                                          entity   gold  \\\n",
       "2    http://dbpedia.org/resource/Nettilling_Lake   True   \n",
       "112        http://dbpedia.org/resource/Lake_Laka  False   \n",
       "81         http://dbpedia.org/resource/Lake_Laka  False   \n",
       "16      http://dbpedia.org/resource/Dubawnt_Lake   True   \n",
       "78   http://dbpedia.org/resource/Lago_delle_Lame  False   \n",
       "\n",
       "                                  table        id  \\\n",
       "2    86627271_6_2239821927452848323.csv  26173110   \n",
       "112  86627271_6_2239821927452848323.csv  24231379   \n",
       "81   86627271_6_2239821927452848323.csv  24231379   \n",
       "16   86627271_6_2239821927452848323.csv  20592507   \n",
       "78   86627271_6_2239821927452848323.csv  24220295   \n",
       "\n",
       "                       rowcontent     score  rownr             name  strscore  \\\n",
       "2    nettilling lake|5063|5542|30  0.750002      0  Nettilling_Lake       0.0   \n",
       "112  nettilling lake|5063|5542|30  0.249998      0        Lake_Laka       0.0   \n",
       "81     dubawnt lake|3629|3833|236  0.199999      1        Lake_Laka       0.0   \n",
       "16     dubawnt lake|3629|3833|236  0.600002      1     Dubawnt_Lake       0.0   \n",
       "78     dubawnt lake|3629|3833|236  0.199999      1  Lago_delle_Lame       0.0   \n",
       "\n",
       "     simscore  n_feats  strscore_numer  strscore_denom  coherence  sim  \n",
       "2         0.0       41             0.0             0.0        0.0  0.0  \n",
       "112       0.0       32             0.0             0.0        0.0  0.0  \n",
       "81        0.0       32             0.0             0.0        0.0  0.0  \n",
       "16        0.0       35             0.0             0.0        0.0  0.0  \n",
       "78        0.0       31             0.0             0.0        0.0  0.0  "
      ]
     },
     "execution_count": 40,
     "metadata": {},
     "output_type": "execute_result"
    }
   ],
   "source": [
    "import pandas as pd\n",
    "results = pd.concat([pd.read_csv(os.path.join(DATA_PATH+'/instance/',fname)) for fname in os.listdir(DATA_PATH+'/instance/')])\n",
    "results = results[results.table == table]\n",
    "results['rownr'] = results.row.map(lambda r: int(r.split('~Row')[1]))\n",
    "pred = dict(zip(results.id,(results.simscore == results.groupby('row').simscore.transform('max'))))\n",
    "gold = dict(zip(results.id,(results.gold == results.groupby('row').gold.transform('max'))))\n",
    "strscore = dict(zip(results.id, results.groupby('id').strscore.transform('max')))\n",
    "n_feats = dict(zip(results.id, results.n_feats))\n",
    "row_content = dict(zip(results.rownr, results.rowcontent))\n",
    "row_gold = {r:e for r,e,isgold in zip(results.rownr, results.id, results.gold) if isgold}\n",
    "results.sort_values('row').head()"
   ]
  },
  {
   "cell_type": "code",
   "execution_count": 41,
   "metadata": {},
   "outputs": [
    {
     "name": "stdout",
     "output_type": "stream",
     "text": [
      "AP = 0.17391304347826086\n"
     ]
    },
    {
     "data": {
      "text/plain": [
       "[<matplotlib.lines.Line2D at 0x7f3520d45d68>]"
      ]
     },
     "execution_count": 41,
     "metadata": {},
     "output_type": "execute_result"
    },
    {
     "data": {
      "image/png": "[encoded data removed]",
      "text/plain": [
       "<Figure size 432x288 with 1 Axes>"
      ]
     },
     "metadata": {},
     "output_type": "display_data"
    }
   ],
   "source": [
    "p = (results.simscore == results.groupby('row').simscore.transform('max'))\n",
    "y_test, y_score = results.gold[p], results.simscore[p]\n",
    "\n",
    "from sklearn.metrics import average_precision_score\n",
    "print('AP = %s' % average_precision_score(y_test, y_score) )\n",
    "\n",
    "from sklearn.metrics import precision_recall_curve\n",
    "import matplotlib.pyplot as plt\n",
    "p_curve, r_curve, _ = precision_recall_curve(y_test, y_score)\n",
    "plt.step(r_curve[1:-1], p_curve[1:-1], where='post')    "
   ]
  },
  {
   "cell_type": "code",
   "execution_count": 42,
   "metadata": {},
   "outputs": [
    {
     "name": "stdout",
     "output_type": "stream",
     "text": [
      "AP = 0.17391304347826086\n"
     ]
    },
    {
     "data": {
      "text/plain": [
       "[<matplotlib.lines.Line2D at 0x7f3520f22550>]"
      ]
     },
     "execution_count": 42,
     "metadata": {},
     "output_type": "execute_result"
    },
    {
     "data": {
      "image/png": "[encoded data removed]",
      "text/plain": [
       "<Figure size 432x288 with 1 Axes>"
      ]
     },
     "metadata": {},
     "output_type": "display_data"
    }
   ],
   "source": [
    "p = (results.strscore == results.groupby('row').strscore.transform('max'))\n",
    "y_test, y_score = results.gold[p], results.strscore[p]\n",
    "\n",
    "from sklearn.metrics import average_precision_score\n",
    "print('AP = %s' % average_precision_score(y_test, y_score) )\n",
    "\n",
    "from sklearn.metrics import precision_recall_curve\n",
    "import matplotlib.pyplot as plt\n",
    "p_curve, r_curve, _ = precision_recall_curve(y_test, y_score)\n",
    "plt.step(r_curve[1:-1], p_curve[1:-1], where='post')    "
   ]
  },
  {
   "cell_type": "code",
   "execution_count": 43,
   "metadata": {},
   "outputs": [
    {
     "name": "stdout",
     "output_type": "stream",
     "text": [
      "0 ./results/8sep-ft1-bp2-nolcwa/sims/86627271_6_2239821927452848323.csv.tsv\r\n"
     ]
    }
   ],
   "source": [
    "!wc -l $simfile"
   ]
  },
  {
   "cell_type": "code",
   "execution_count": 7,
   "metadata": {},
   "outputs": [
    {
     "ename": "ValueError",
     "evalue": "max() arg is an empty sequence",
     "output_type": "error",
     "traceback": [
      "\u001b[0;31m---------------------------------------------------------------------------\u001b[0m",
      "\u001b[0;31mValueError\u001b[0m                                Traceback (most recent call last)",
      "\u001b[0;32m<ipython-input-7-745b1953f757>\u001b[0m in \u001b[0;36m<module>\u001b[0;34m()\u001b[0m\n\u001b[1;32m      5\u001b[0m     \u001b[0msim\u001b[0m\u001b[0;34m[\u001b[0m\u001b[0;34m(\u001b[0m\u001b[0mint\u001b[0m\u001b[0;34m(\u001b[0m\u001b[0me1\u001b[0m\u001b[0;34m)\u001b[0m\u001b[0;34m,\u001b[0m\u001b[0mint\u001b[0m\u001b[0;34m(\u001b[0m\u001b[0me2\u001b[0m\u001b[0;34m)\u001b[0m\u001b[0;34m)\u001b[0m\u001b[0;34m]\u001b[0m \u001b[0;34m=\u001b[0m \u001b[0mmath\u001b[0m\u001b[0;34m.\u001b[0m\u001b[0mexp\u001b[0m\u001b[0;34m(\u001b[0m\u001b[0;34m-\u001b[0m\u001b[0mfloat\u001b[0m\u001b[0;34m(\u001b[0m\u001b[0ms\u001b[0m\u001b[0;34m)\u001b[0m\u001b[0;34m)\u001b[0m\u001b[0;34m\u001b[0m\u001b[0m\n\u001b[1;32m      6\u001b[0m     \u001b[0msim\u001b[0m\u001b[0;34m[\u001b[0m\u001b[0;34m(\u001b[0m\u001b[0mint\u001b[0m\u001b[0;34m(\u001b[0m\u001b[0me2\u001b[0m\u001b[0;34m)\u001b[0m\u001b[0;34m,\u001b[0m\u001b[0mint\u001b[0m\u001b[0;34m(\u001b[0m\u001b[0me1\u001b[0m\u001b[0;34m)\u001b[0m\u001b[0;34m)\u001b[0m\u001b[0;34m]\u001b[0m \u001b[0;34m=\u001b[0m \u001b[0mmath\u001b[0m\u001b[0;34m.\u001b[0m\u001b[0mexp\u001b[0m\u001b[0;34m(\u001b[0m\u001b[0;34m-\u001b[0m\u001b[0mfloat\u001b[0m\u001b[0;34m(\u001b[0m\u001b[0ms\u001b[0m\u001b[0;34m)\u001b[0m\u001b[0;34m)\u001b[0m\u001b[0;34m\u001b[0m\u001b[0m\n\u001b[0;32m----> 7\u001b[0;31m \u001b[0mm\u001b[0m \u001b[0;34m=\u001b[0m \u001b[0mmax\u001b[0m\u001b[0;34m(\u001b[0m\u001b[0msim\u001b[0m\u001b[0;34m.\u001b[0m\u001b[0mvalues\u001b[0m\u001b[0;34m(\u001b[0m\u001b[0;34m)\u001b[0m\u001b[0;34m)\u001b[0m\u001b[0;34m\u001b[0m\u001b[0m\n\u001b[0m\u001b[1;32m      8\u001b[0m \u001b[0msim\u001b[0m \u001b[0;34m=\u001b[0m \u001b[0;34m{\u001b[0m\u001b[0mk\u001b[0m\u001b[0;34m:\u001b[0m\u001b[0;36m0.5\u001b[0m\u001b[0;34m*\u001b[0m\u001b[0;34m(\u001b[0m\u001b[0mv\u001b[0m\u001b[0;34m/\u001b[0m\u001b[0mm\u001b[0m\u001b[0;34m)\u001b[0m \u001b[0;32mfor\u001b[0m \u001b[0mk\u001b[0m\u001b[0;34m,\u001b[0m\u001b[0mv\u001b[0m \u001b[0;32min\u001b[0m \u001b[0msim\u001b[0m\u001b[0;34m.\u001b[0m\u001b[0mitems\u001b[0m\u001b[0;34m(\u001b[0m\u001b[0;34m)\u001b[0m\u001b[0;34m}\u001b[0m\u001b[0;34m\u001b[0m\u001b[0m\n",
      "\u001b[0;31mValueError\u001b[0m: max() arg is an empty sequence"
     ]
    }
   ],
   "source": [
    "import math\n",
    "sim = {}\n",
    "for line in open(simfile):\n",
    "    e1,e2,s = line.strip().split('\\t')\n",
    "    sim[(int(e1),int(e2))] = math.exp(-float(s))\n",
    "    sim[(int(e2),int(e1))] = math.exp(-float(s))\n",
    "m = max(sim.values())\n",
    "sim = {k:0.5*(v/m) for k,v in sim.items()}"
   ]
  },
  {
   "cell_type": "code",
   "execution_count": null,
   "metadata": {},
   "outputs": [],
   "source": [
    "from collections import Counter\n",
    "es = Counter(tuple(zip(*sim))[0]) + Counter(tuple(zip(*sim))[1])\n",
    "es = Counter({e:c for e,c in es.items() if strscore.get(e,0)>0})\n",
    "print('%d entities' % len(es))\n",
    "n = len(es)\n",
    "e_i = {e:i for i,(e,_) in enumerate(es.most_common(n))}\n",
    "i_e = {i:e for i,(e,_) in enumerate(es.most_common(n))}\n",
    "name = lambda e: ((g.lookup_str(e) or '').split('/')[-1][:-1])\n",
    "for e,n in es.most_common(3):\n",
    "    print(name(e))"
   ]
  },
  {
   "cell_type": "code",
   "execution_count": null,
   "metadata": {},
   "outputs": [],
   "source": [
    "%%time\n",
    "import scipy.sparse\n",
    "data, i, j = zip(*[(s, e_i[e1], e_i[e2]) for (e1,e2),s in sim.items() if e1 in e_i and e2 in e_i if e1!=e2 if s>0])\n",
    "D = scipy.sparse.coo_matrix((data, (i, j)), shape=(len(e_i), len(e_i)))\n",
    "D"
   ]
  },
  {
   "cell_type": "code",
   "execution_count": null,
   "metadata": {},
   "outputs": [],
   "source": [
    "%%time\n",
    "from sklearn.manifold import TSNE\n",
    "tsne = TSNE()\n",
    "# X = tsne.fit_transform(D.toarray())\n",
    "X = tsne.fit_transform(scipy.log1p(D.todense()))\n",
    "print(X.shape)"
   ]
  },
  {
   "cell_type": "code",
   "execution_count": null,
   "metadata": {},
   "outputs": [],
   "source": [
    "%matplotlib inline\n",
    "import matplotlib.pyplot as plt\n",
    "plt.scatter(*X.T)"
   ]
  },
  {
   "cell_type": "code",
   "execution_count": null,
   "metadata": {
    "scrolled": false
   },
   "outputs": [],
   "source": [
    "import pandas as pd\n",
    "x, y = X.T\n",
    "df = pd.DataFrame(dict(\n",
    "    x=x,\n",
    "    y=y,\n",
    "    text=['%s (%d)' % ((g.lookup_str(i_e[i]) or '').split('/')[-1][:-1], n_feats[i_e[i]]) for i in range(len(X))],\n",
    "    type=[(g.lookup_str(t) or '').split('/')[-1][:-1] \n",
    "          for i in range(len(X)) for t in [(g.o(i_e[i], type_id) or [-1])[0]]], \n",
    "    score=[strscore.get(i_e[i],0) for i in range(len(X))], \n",
    "    gold=[gold.get(i_e[i],False) for i in range(len(X))],\n",
    "    pred=[pred.get(i_e[i],False) for i in range(len(X))]\n",
    ")).sort_values(['pred','gold'], ascending=True)\n",
    "df = df[df.score>0]\n",
    "\n",
    "import plotly.offline\n",
    "import plotly.graph_objs as go\n",
    "plotly.offline.init_notebook_mode(connected=True)\n",
    "plotly.offline.iplot({\n",
    "    \"data\": [\n",
    "        {'x':df.x[df.type==t],\n",
    "         'y':df.y[df.type==t],\n",
    "         'text':df.text[df.type==t], \n",
    "         'marker': {\n",
    "             'size':4+df.score[df.type==t]*20,\n",
    "             'symbol':'circle',\n",
    "             'line': {\n",
    "                 'color':[('#0a0' if g and p else ('#a00' if p else ('#aa0' if g else '#000')))\n",
    "                           for g,p in zip(df.gold[df.type==t],df.pred[df.type==t])],\n",
    "                 'width':[4 if g or p else 0 for g,p in zip(df.gold[df.type==t],df.pred[df.type==t])]\n",
    "             }\n",
    "         },\n",
    "         'name': t,\n",
    "         'mode': 'markers'}\n",
    "        for t in set(df.type)\n",
    "    ],\n",
    "    'layout': {'height':800, 'hovermode':'closest'}\n",
    "})"
   ]
  },
  {
   "cell_type": "markdown",
   "metadata": {},
   "source": [
    "# Belief Propagation"
   ]
  },
  {
   "cell_type": "code",
   "execution_count": null,
   "metadata": {},
   "outputs": [],
   "source": [
    "row_e_p = {}\n",
    "for e, r, s  in zip(results.id, results.row.map(lambda r: int(r.split('~Row')[1])), results.strscore):\n",
    "    row_e_p.setdefault(r, {})[e] = s\n",
    "print('%d rows' % len(row_e_p))\n",
    "# row_e_p = {r:{e:es[e]/sum(es.values()) for e in es} for r,es in row_es.items()}"
   ]
  },
  {
   "cell_type": "code",
   "execution_count": null,
   "metadata": {},
   "outputs": [],
   "source": [
    "# Prior distribution: string scores normalized by row (R * C)\n",
    "data,i,j = zip(*((p, row, e_i[e]) for row,ep in row_e_p.items() for e,p in ep.items() if e in e_i))\n",
    "P = scipy.sparse.coo_matrix((data,(i,j)),shape=(max(row_e_p)+1, len(es)))\n",
    "P"
   ]
  },
  {
   "cell_type": "code",
   "execution_count": null,
   "metadata": {},
   "outputs": [],
   "source": [
    "def get_dist(d):\n",
    "    return sorted((d[0,i],name(i_e[i]), i) for i in d.nonzero()[1])[::-1]\n",
    "def get_dist_rows(M):\n",
    "    for r in range(M.shape[0]):\n",
    "        d = get_dist(M.getrow(r))\n",
    "        yield r, d, (row_gold.get(r,None) != i_e[d[0][2]] if d else False)\n",
    "def show_dist_rows(M, n=3,m=3):\n",
    "    for r,d,t in [(r,d,t) for r,d,t in get_dist_rows(M) if t][:m]:\n",
    "        print( 'Row %d'%r, row_content.get(r,''), '(gold: %s [%d])'%(name(row_gold.get(r,-1)), e_i.get(row_gold.get(r,-1),-1)) )\n",
    "        print('\\t' + '\\n\\t'.join('%.2f %s [%d]'%c for c in d[:n]) )\n",
    "\n",
    "show_dist_rows(P,m=5) # Prior"
   ]
  },
  {
   "cell_type": "code",
   "execution_count": null,
   "metadata": {},
   "outputs": [],
   "source": [
    "import numpy as np\n",
    "M = P\n",
    "for _ in range( 1 ):\n",
    "    K = np.array(scipy.log1p(M.dot(D).todense()).sum(axis=0))[0]\n",
    "    K = K / K.max()\n",
    "    M = scipy.sparse.coo_matrix(P.toarray()*K)\n",
    "\n",
    "show_dist_rows(M, m=10) # one BP step"
   ]
  },
  {
   "cell_type": "code",
   "execution_count": null,
   "metadata": {
    "scrolled": false
   },
   "outputs": [],
   "source": [
    "results2 = results.merge(pd.DataFrame([(r,i_e[i],s) for r,i,s in zip(*M.nonzero(), M.data)], \n",
    "                                columns=['rownr', 'id', 'pscore']), how='outer')\n",
    "p = (results2.pscore == results2.groupby('row').pscore.transform('max'))\n",
    "pred2 = dict(zip(results2.id, p))\n",
    "\n",
    "import pandas as pd\n",
    "x, y = X.T\n",
    "df = pd.DataFrame(dict(\n",
    "    x=x,\n",
    "    y=y,\n",
    "    text=['%s (%d)' % ((g.lookup_str(i_e[i]) or '').split('/')[-1][:-1], n_feats[i_e[i]]) for i in range(len(X))],\n",
    "    type=[(g.lookup_str(t) or '').split('/')[-1][:-1] \n",
    "          for i in range(len(X)) for t in [(g.o(i_e[i], type_id) or [-1])[0]]], \n",
    "    score=K,\n",
    "    gold=[gold.get(i_e[i],False) for i in range(len(X))],\n",
    "    pred=[pred2.get(i_e[i],False) for i in range(len(X))]\n",
    ")).sort_values(['gold','pred'], ascending=True)\n",
    "df = df[df.score>0]\n",
    "\n",
    "import plotly.offline\n",
    "import plotly.graph_objs as go\n",
    "plotly.offline.init_notebook_mode(connected=True)\n",
    "plotly.offline.iplot({\n",
    "    \"data\": [\n",
    "        {'x':df.x[df.type==t],\n",
    "         'y':df.y[df.type==t],\n",
    "         'text':df.text[df.type==t], \n",
    "         'marker': {\n",
    "             'size':4+df.score[df.type==t]*20,\n",
    "             'symbol':'circle',\n",
    "             'line': {\n",
    "                 'color':[('#0a0' if g and p else ('#a00' if p else ('#00a' if g else '#000')))\n",
    "                           for g,p in zip(df.gold[df.type==t],df.pred[df.type==t])],\n",
    "                 'width':[4 if g or p else 0 for g,p in zip(df.gold[df.type==t],df.pred[df.type==t])]\n",
    "             }\n",
    "         },\n",
    "         'name': t,\n",
    "         'mode': 'markers'}\n",
    "        for t in set(df.type)\n",
    "    ],\n",
    "    'layout': {'height':800, 'hovermode':'closest'}\n",
    "})"
   ]
  },
  {
   "cell_type": "code",
   "execution_count": null,
   "metadata": {},
   "outputs": [],
   "source": [
    "results2 = results.merge(pd.DataFrame([(r,i_e[i],s) for r,i,s in zip(*M.nonzero(), M.data)], \n",
    "                                columns=['rownr', 'id', 'pscore']), how='outer')\n",
    "p = (results2.pscore == results2.groupby('row').pscore.transform('max'))\n",
    "y_test, y_score = results2.gold[p], results2.pscore[p]\n",
    "print(len(y_test))\n",
    "\n",
    "from sklearn.metrics import average_precision_score\n",
    "print('AP = %s' % average_precision_score(y_test, y_score) )\n",
    "\n",
    "from sklearn.metrics import precision_recall_curve\n",
    "import matplotlib.pyplot as plt\n",
    "p_curve, r_curve, _ = precision_recall_curve(y_test, y_score)\n",
    "plt.step(r_curve[1:-1], p_curve[1:-1], where='post', label='%s' %name)"
   ]
  },
  {
   "cell_type": "markdown",
   "metadata": {},
   "source": [
    "# Look at features"
   ]
  },
  {
   "cell_type": "code",
   "execution_count": null,
   "metadata": {},
   "outputs": [],
   "source": [
    "featfile = DATA_PATH + '/features/%s.tsv' % table\n",
    "feats = pd.read_csv(featfile, sep='\\t', index_col='feature').sort_values('score', ascending=False)"
   ]
  },
  {
   "cell_type": "code",
   "execution_count": null,
   "metadata": {},
   "outputs": [],
   "source": [
    "entfile = DATA_PATH + '/entities/%s.tsv' % table\n",
    "e_feat_score = {e:{f:float(s) for f,s in gr.groupby('feature').score } \n",
    "    for e,gr in pd.read_csv(entfile, sep='\\t').groupby('entity') }"
   ]
  },
  {
   "cell_type": "code",
   "execution_count": null,
   "metadata": {},
   "outputs": [],
   "source": [
    "feats.sort_values('score', ascending=False)"
   ]
  },
  {
   "cell_type": "code",
   "execution_count": null,
   "metadata": {},
   "outputs": [],
   "source": [
    "i = 55\n",
    "# i = 57\n",
    "print(name(i_e[i]))\n",
    "feats.loc[list(e_feat_score[i_e[i]])].sort_values('score', ascending=False)"
   ]
  },
  {
   "cell_type": "code",
   "execution_count": null,
   "metadata": {},
   "outputs": [],
   "source": [
    "M"
   ]
  },
  {
   "cell_type": "code",
   "execution_count": null,
   "metadata": {},
   "outputs": [],
   "source": [
    "from sklearn.decomposition import NMF, LatentDirichletAllocation"
   ]
  },
  {
   "cell_type": "code",
   "execution_count": null,
   "metadata": {},
   "outputs": [],
   "source": [
    "NMF.fit?"
   ]
  },
  {
   "cell_type": "code",
   "execution_count": null,
   "metadata": {},
   "outputs": [],
   "source": [
    "e_feat_score"
   ]
  },
  {
   "cell_type": "code",
   "execution_count": null,
   "metadata": {},
   "outputs": [],
   "source": []
  }
 ],
 "metadata": {
  "kernelspec": {
   "display_name": "Python 3",
   "language": "python",
   "name": "python3"
  },
  "language_info": {
   "codemirror_mode": {
    "name": "ipython",
    "version": 3
   },
   "file_extension": ".py",
   "mimetype": "text/x-python",
   "name": "python",
   "nbconvert_exporter": "python",
   "pygments_lexer": "ipython3",
   "version": "3.6.6"
  }
 },
 "nbformat": 4,
 "nbformat_minor": 2
}
