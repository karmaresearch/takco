{
 "cells": [
  {
   "cell_type": "markdown",
   "metadata": {},
   "source": [
    "# Entity label index\n",
    "\n",
    "- What entity label index has best recall?"
   ]
  },
  {
   "cell_type": "code",
   "execution_count": 245,
   "metadata": {},
   "outputs": [
    {
     "name": "stdout",
     "output_type": "stream",
     "text": [
      "Trident KB has 30727783 terms, 99968667 triples\n"
     ]
    }
   ],
   "source": [
    "DB_PATH = 'data/dbpedia/2014_part/'\n",
    "URI_PREFIX = 'http://dbpedia.org/resource/'\n",
    "g = trident.Db(DB_PATH)\n",
    "type_id = g.lookup_id('<http://www.w3.org/1999/02/22-rdf-syntax-ns#type>')\n",
    "label_id = g.lookup_id('<http://www.w3.org/2000/01/rdf-schema#label>')\n",
    "assert label_id != None\n",
    "print('Trident KB has %d terms, %d triples' % (g.n_terms(), g.n_triples()))\n",
    "def try_lookup(uri):\n",
    "    uri = util.quote(util.unquote(util.unquote(uri)))\n",
    "    return g.lookup_id('<%s>' % uri) or -1"
   ]
  },
  {
   "cell_type": "code",
   "execution_count": 1,
   "metadata": {},
   "outputs": [
    {
     "name": "stdout",
     "output_type": "stream",
     "text": [
      "Loaded 233 key columns\n"
     ]
    }
   ],
   "source": [
    "import pandas as pd\n",
    "import os\n",
    "gold_path = 't2k/data/v1/'\n",
    "gold_prop_fname = os.path.join(gold_path,'gs_property.csv') # needed for gold subject column\n",
    "gs_property = pd.read_csv(gold_prop_fname, header=None, names=['col', 'uri', 'gold'])\n",
    "gs_property['table'], gs_property['columnIndex'] = zip(*(s.split('.csv~Col') for s in gs_property['col']))\n",
    "gs_property['columnIndex'] = gs_property['columnIndex'].map(int)\n",
    "key_cols = gs_property[(gs_property['uri'] == 'http://www.w3.org/2000/01/rdf-schema#label')][['table','columnIndex']]\n",
    "key_cols = key_cols.set_index('table')['columnIndex'].to_dict()\n",
    "print(f'Loaded {len(key_cols)} key columns')"
   ]
  },
  {
   "cell_type": "code",
   "execution_count": 2,
   "metadata": {},
   "outputs": [
    {
     "name": "stdout",
     "output_type": "stream",
     "text": [
      "26124 instances\n"
     ]
    }
   ],
   "source": [
    "gs_instance_fname = os.path.join(gold_path,'gs_instance.csv')\n",
    "gs_instance = pd.read_csv(gs_instance_fname, header=None, names=['row', 'uri', 'gold'])\n",
    "print('%d instances' % len(gs_instance))"
   ]
  },
  {
   "cell_type": "code",
   "execution_count": 3,
   "metadata": {},
   "outputs": [
    {
     "name": "stderr",
     "output_type": "stream",
     "text": [
      "Loading redirects line 7600000    \r"
     ]
    }
   ],
   "source": [
    "import sys, urllib.parse\n",
    "REDIR = 'data/transitive_redirects_en.ttl'\n",
    "redir = {}\n",
    "for i,line in enumerate(open(REDIR)):\n",
    "    source, _, target = line.strip()[:-2].split(None, 2)\n",
    "    source, target = urllib.parse.unquote(source[1:-1]), urllib.parse.unquote(target[1:-1])\n",
    "    redir[source] = target\n",
    "    if 0 == i % 100000:\n",
    "        print('Loading redirects line %d    ' % i, end='\\r', file=sys.stderr)"
   ]
  },
  {
   "cell_type": "code",
   "execution_count": 4,
   "metadata": {},
   "outputs": [
    {
     "name": "stdout",
     "output_type": "stream",
     "text": [
      "Loaded 28333 rows\n"
     ]
    }
   ],
   "source": [
    "import glob\n",
    "table_fnames = glob.glob('data_t2k/v1/tables/*.csv')\n",
    "### LOAD TABLE CELLS ###\n",
    "rowcontents = {}\n",
    "table_col_isnumeric = {}\n",
    "import os, csv, html, re\n",
    "token_pattern = re.compile(r\"(?u)\\b\\w+\\b\")\n",
    "def tokenize(s):\n",
    "    return tuple(s.split())\n",
    "#     return tuple(token_pattern.findall(s.lower()))\n",
    "def splitcells(cells):\n",
    "    # T2KMatch table serialization reader\n",
    "    cells = html.unescape(cells).replace('}','{').replace('NULL', '')\n",
    "    cells = [c.split('|') for c in next(csv.reader([cells], delimiter='|', quotechar='{'))]\n",
    "    cells = [set([tokenize(c) for c in cs]) for cs in cells]\n",
    "    return cells\n",
    "NUM = re.compile('[-0-9.]')\n",
    "def isnumeric(col):\n",
    "    col = [c for c in col if c]\n",
    "    numratio = [(sum(1 for _ in NUM.finditer(c)) / len(c)) if c else 0 for c in col]\n",
    "    return (((sum(numratio) / len(col)) if col else 0) > 0.5)\n",
    "WHITESPACE = re.compile('\\s+')\n",
    "for fname in table_fnames:\n",
    "    name = os.path.basename(fname)\n",
    "    header, *rows = list(csv.reader(open(fname,'r')))\n",
    "    rows = [[WHITESPACE.sub(' ',c) for c in r] for r in rows]\n",
    "    cols = zip(*[[' '.join(c_ for cs in splitcells(cell) for c in cs for c_ in c) for cell in row] for row in rows])\n",
    "    table_col_isnumeric[name] = {i: isnumeric(col) for i,col in enumerate(cols)}\n",
    "    for i,row in enumerate(rows):\n",
    "        rowcontents['%s~Row%d' % (name, i)] = [[' '.join(c) for cs in splitcells(cell) for c in cs] for cell in row]\n",
    "print(f'Loaded {len(rowcontents)} rows')"
   ]
  },
  {
   "cell_type": "code",
   "execution_count": 5,
   "metadata": {},
   "outputs": [
    {
     "name": "stdout",
     "output_type": "stream",
     "text": [
      "Loaded 26047 queries\n"
     ]
    }
   ],
   "source": [
    "# Get all search queries\n",
    "queries = set()\n",
    "for i,row in gs_instance.iterrows():\n",
    "    contents = rowcontents.get(row['row'], '')\n",
    "    gold_uri = redir.get(row['uri'], row['uri'])\n",
    "    table = row['row'].split('.csv~Row')[0]\n",
    "    numeric = table_col_isnumeric.get('%s.csv'%table, {})\n",
    "    keycol = key_cols.get(table, 0)\n",
    "    key, rest = [], []\n",
    "    for c,cell in enumerate(contents):\n",
    "        if not numeric.get(c, False):\n",
    "            if keycol == c:\n",
    "                key += cell\n",
    "            else:\n",
    "                rest += cell\n",
    "    key, rest = ' '.join(key), ' '.join(rest)\n",
    "    queries.add( (key, rest, gold_uri, table) )\n",
    "print(f'Loaded {len(queries)} queries')"
   ]
  },
  {
   "cell_type": "markdown",
   "metadata": {},
   "source": [
    "# Label index with links"
   ]
  },
  {
   "cell_type": "code",
   "execution_count": 258,
   "metadata": {
    "scrolled": true
   },
   "outputs": [
    {
     "name": "stdout",
     "output_type": "stream",
     "text": [
      " 0 33.45 1.00  28017146                   Singer_Laren singer museum                 \n",
      " 1  9.40 0.25  20756129                  Danny_Worsnop danny worsnop (singer)        \n",
      " 1  9.40 0.25  17855406              Asking_Alexandria danny worsnop (singer)        \n",
      " 2  9.40 0.33  21470306                    Eric_Singer eric singer                   \n",
      " 2  9.40 0.33  21470307     Eric_Singer_(graphologist) eric singer                   \n",
      " 3  9.40 0.33  23668387         Joseph_Singer_(bishop) james singer                  \n",
      " 3  9.40 0.33  23340094          James_Singer_(comics) james singer                  \n",
      " 4  9.40 0.17  19278178 Category:Don_Moen_(singer)_liv don moen (singer) live albums \n",
      " 5  9.40 0.25  19280744    Category:Duffy_(singer)_EPs duffy (singer) eps            \n",
      " 6  9.40 0.25  19256618   Category:Danish_singer_stubs danish singer stubs           \n",
      " 7  9.40 0.17  19257622 Category:David_Ball_(country_s david ball (country singer) albums\n",
      " 8  9.40 0.25  19284508 Category:Eamon_(singer)_albums eamon (singer) albums         \n",
      " 9  9.40 0.20  19288887 Category:Eddie_Fisher_(singer) eddie fisher (singer) albums  \n",
      "10  9.40 0.20  19288888 Category:Eddie_Fisher_(singer) eddie fisher (singer) songs   \n",
      "11  9.40 0.25  19396617 Category:Greek_singer-songwrit greek singer-songwriters      \n",
      "12  9.40 0.25  19403230 Category:Hariharan_(singer)_al hariharan (singer) albums     \n",
      "13  9.40 0.25  19551955 Category:Miguel_(singer)_songs miguel (singer) songs         \n",
      "14  9.40 0.20  19552033 Category:Mike_Reid_(singer)_so mike reid (singer) songs      \n",
      "15  9.40 0.25  19547895  Category:Mexican_singer_stubs mexican singer stubs          \n",
      "16  9.40 0.17  19463685 Category:Israeli_female_pop_si israeli female pop singer-songwriters\n",
      "17  9.40 0.20  19435591 Category:Images_of_Pink_(singe images of pink (singer)       \n",
      "18  9.40 0.20  19468728 Category:James_Arthur_(singer) james arthur (singer) albums  \n",
      "19  9.40 0.20  19468858 Category:James_Morrison_(singe james morrison (singer) albums\n",
      "20  9.40 0.20  19468859 Category:James_Morrison_(singe james morrison (singer) songs \n",
      "21  9.40 0.20  19471394 Category:Jason_Chan_(singer)_a jason chan (singer) albums    \n",
      "22  9.40 0.25  19472752  Category:Jewel_(singer)_songs jewel (singer) songs          \n",
      "23  9.40 0.25  19485392   Category:Korean_singer_stubs korean singer stubs           \n",
      "24  9.40 0.25  19486368 Category:Kurdish_singer-songwr kurdish singer-songwriters    \n",
      "25  9.40 0.17  19475577 Category:Josh_Logan_(country_s josh logan (country singer) songs\n",
      "26  9.40 0.25  19471057 Category:Japanese_singer_stubs japanese singer stubs         \n",
      "27  9.40 0.25  19222328 Category:Colombian_singer-song colombian singer-songwriters  \n",
      "28  9.40 0.25  19186346 Category:Caribbean_singer_stub caribbean singer stubs        \n",
      "29  9.40 0.17  19298772 Category:Elisa_(Italian_singer elisa (italian singer) compilation albums\n",
      "30  9.40 0.25  19298782 Category:Elissa_(singer)_album elissa (singer) albums        \n",
      "31  9.40 0.25  19307780   Category:Eru_(singer)_albums eru (singer) albums           \n",
      "32  9.40 0.20  19435103 Category:Images_of_Ashanti_(si images of ashanti (singer)    \n",
      "33  9.40 0.25  19241206 Category:Country_singer-songwr country singer-songwriters    \n",
      "34  9.40 0.20  19254113 Category:Dallas_Smith_(singer) dallas smith (singer) songs   \n",
      "35  9.40 0.25  19267705   Category:Dev_(singer)_albums dev (singer) albums           \n",
      "36  9.40 0.11  19337561 Category:Films_based_on_works_ films based on works by isaac bashevis singer\n",
      "37  9.40 0.25  19330422 Category:Fergie_(singer)_songs fergie (singer) songs         \n",
      "38  9.40 0.25  19238957  Category:Coro_(singer)_albums coro (singer) albums          \n",
      "39  9.40 0.20  19238733 Category:Corneille_(singer)_li corneille (singer) live albums\n",
      "40  9.40 0.25  19364618 Category:French_singer-songwri french singer-songwriters     \n",
      "41  9.40 0.20  19351167 Category:Fonseca_(singer)_albu fonseca (singer) album covers \n",
      "42  9.40 0.20  19562849 Category:Mona_Lisa_(singer)_al mona lisa (singer) albums     \n",
      "43  9.40 0.20  19602548 Category:New_Zealand_singer_st new zealand singer stubs      \n",
      "44  9.40 0.20  19604590 Category:Nicole_(Chilean_singe nicole (chilean singer) albums\n",
      "45  9.40 0.25  18755239               Camus_(musician) camus, singer songwiter       \n",
      "46  9.40 0.20  18834810 Caroline_Müller_(mezzo-soprano caroline müller (opera singer)\n",
      "47  9.40 0.25  18823554           Carlos_Peña_(singer) carlos pena (singer)          \n",
      "48  9.40 0.20  18832633                    Carol_Woods carol woods (singer / actress)\n",
      "49  9.40 0.33  18832711                         Carola carola (singer)               \n",
      "50  9.40 0.25  26905987 Pussycat_Dolls_Present:_Girlic carrie jones (singer)         \n",
      "51  9.40 0.25  18822759         Carlos_Mendes_(singer) carlos mendes (singer)        \n",
      "52  9.40 0.20  19135930 Category:Bilal_(American_singe bilal (american singer) songs \n",
      "53  9.40 0.25  19140494 Category:Blues_singer-songwrit blues singer-songwriters      \n",
      "54  9.40 0.14  19140971 Category:Bob_Bennett_(singer-s bob bennett (singer-songwriter) compilation albums\n",
      "55  9.40 0.20  19141032 Category:Bob_Woodruff_(singer) bob woodruff (singer) songs   \n",
      "56  9.40 0.17  19141059 Category:Bobby_Lewis_(country_ bobby lewis (country singer) songs\n",
      "57  9.40 0.25  19150083 Category:Brazilian_singer-song brazilian singer-songwriters  \n",
      "58  9.40 0.20  19181390 Category:Canadian_folk_singer- canadian folk singer-songwriters\n",
      "59  9.40 0.20  19181311 Category:Canadian_female_singe canadian female singer-songwriters\n",
      "60  9.40 0.20  19074028 Category:American_blues_singer american blues singer-songwriters\n",
      "61  9.40 0.20  19077827 Category:American_rock_singer_ american rock singer stubs    \n",
      "62  9.40 0.20  19084537 Category:Annie_(Norwegian_sing annie (norwegian singer) songs\n",
      "63  9.40 0.20  19084751 Category:Anouk_(singer)_live_a anouk (singer) live albums    \n",
      "64  9.40 0.20  19084978 Category:Anthony_Smith_(singer anthony smith (singer) albums \n",
      "65  9.40 0.20  19076716 Category:American_opera_singer american opera singer stubs   \n",
      "66  9.40 0.14  17982641 BBC_Cardiff_Singer_of_the_Worl cardiff singer of the world competition\n",
      "67  9.40 0.25  19198113 Category:Chara_(singer)_albums chara (singer) albums         \n",
      "68  9.40 0.20  19198114 Category:Chara_(singer)_compil chara (singer) compilation albums\n",
      "69  9.40 0.20  19198951 Category:Charlie_Green_(singer charlie green (singer) albums \n",
      "70  9.40 0.25  19202443 Category:Chilean_singer-songwr chilean singer-songwriters    \n",
      "71  9.40 0.25  19866160  Category:Swedish_singer_stubs swedish singer stubs          \n",
      "72  9.40 0.25  19870244    Category:TQ_(singer)_albums tq (singer) albums            \n",
      "73  9.40 0.25  19871478 Category:Taiwanese_singer_stub taiwanese singer stubs        \n",
      "74  9.40 0.14  19813967 Category:Songs_written_by_Alla songs written by allan clarke (singer)\n",
      "75  9.40 0.14  19814612 Category:Songs_written_by_Chri songs written by chris robinson (singer)\n",
      "76  9.40 0.14  19815114 Category:Songs_written_by_Eliz songs written by eliza doolittle (singer)\n",
      "77  9.40 0.17  19815205 Category:Songs_written_by_Ferg songs written by fergie (singer)\n",
      "78  9.40 0.14  19815804 Category:Songs_written_by_Jeff songs written by jeff stevens (singer)\n",
      "79  9.40 0.17  19815878 Category:Songs_written_by_Jewe songs written by jewel (singer)\n",
      "80  9.40 0.14  19816672 Category:Songs_written_by_Mark songs written by mark gray (singer)\n",
      "81  9.40 0.14  19816882 Category:Songs_written_by_Mick songs written by mick jackson (singer)\n",
      "82  9.40 0.12  19817180 Category:Songs_written_by_Paul songs written by paul field (christian singer)\n",
      "83  9.40 0.14  19817776 Category:Songs_written_by_Shar songs written by sharon anderson (singer)\n",
      "84  9.40 0.17  19817969 Category:Songs_written_by_Sugg songs written by suggs (singer)\n",
      "85  9.40 0.14  19818346 Category:Songs_written_by_Will songs written by william beckett (singer)\n",
      "86  9.40 0.25  19818457 Category:Sonia_(singer)_albums sonia (singer) albums         \n",
      "87  9.40 0.14  19815833 Category:Songs_written_by_Jerr songs written by jerry butler (singer)\n",
      "88  9.40 0.14  19815891 Category:Songs_written_by_Jim_ songs written by jim diamond (singer)\n",
      "89  9.40 0.14  19816162 Category:Songs_written_by_Josh songs written by josh thompson (singer)\n",
      "90  9.40 0.25  19809178 Category:Smooth_(singer)_album smooth (singer) albums        \n",
      "91  9.40 0.20  19820314 Category:South_African_singer- south african singer-songwriters\n",
      "92  9.40 0.25  19689192   Category:Pink_(singer)_songs pink (singer) songs           \n",
      "93  9.40 0.25  19689189  Category:Pink_(singer)_albums pink (singer) albums          \n",
      "94  9.40 0.20  19689190 Category:Pink_(singer)_audio_s pink (singer) audio samples   \n",
      "95  9.40 0.33  20337182                  Claudia_Pavel cream (singer)                \n",
      "96  9.40 0.33  24115487                    Kurt_Singer curt singer                   \n",
      "97  9.40 0.33  20653949               Cynthia_(singer) cynthia (singer)              \n",
      "98  9.40 0.33  21097239                Double_(singer) double (singer)               \n",
      "99  9.40 0.25  20740753                  Daniel_Martín dani martin (singer)          \n"
     ]
    }
   ],
   "source": [
    "from elasticsearch import Elasticsearch\n",
    "import logging, random, util\n",
    "es = Elasticsearch()\n",
    "logging.getLogger('elasticsearch').setLevel(logging.CRITICAL)\n",
    "\n",
    "# index='dbpedia2014_part_labeldocs_nosurface'\n",
    "# index='dbpedia2014_part_labeldocs_surface'\n",
    "# index='dbpedia2014_part_linklabeldocs_utf8fix'\n",
    "# index='dbpedia_2014_labels_intl_labeldocs'\n",
    "index='dbpedia2014_part_subjectdocs'\n",
    "typ='linklabeldoc'\n",
    "\n",
    "def query(key, rest):\n",
    "    return {\n",
    "        \"query\": {\n",
    "            \"bool\": {\n",
    "                \"must\": [\n",
    "                    {\"term\":{\"p\": label_id }},\n",
    "                ],\n",
    "                \"should\":[\n",
    "#                     {\"match\":{\"label\": {\"query\":key, \"analyzer\": \"myanalyzer\" }}},\n",
    "#                     {\"match_phrase\":{\"label\": {\"query\":key, \"slop\":1, \"analyzer\": \"myanalyzer\"}}},\n",
    "                    {\"match\":{\"label\": {\"query\":key }}},\n",
    "                    {\"match_phrase\":{\"label\": {\"query\":key, \"slop\":1}}},\n",
    "                ]\n",
    "            }\n",
    "        }\n",
    "    }\n",
    "\n",
    "def search(key, rest, size=50, cutoff=0.7):\n",
    "    q = query(key, rest)\n",
    "    q['size'] = size\n",
    "    hits = es.search(index=index, body=q).get('hits', {}).get('hits', [])\n",
    "    return hits\n",
    "\n",
    "# generic\n",
    "# key, rest = 'green lake','green lake county wisconsin united states'\n",
    "# key, rest = 'edward jones','investment firm' \n",
    "# key,rest = 'medical physics',''\n",
    "\n",
    "# only works with redir & disambig\n",
    "key, rest = 'singer museum', 'netherlands'\n",
    "# key, rest = 'south tyneside district hospital', ''\n",
    "\n",
    "# messy\n",
    "# key,rest = 'sth manchester univ. hospital', '' # bad\n",
    "# key,rest = 'south manchester university hospital', '' # good\n",
    "# key, rest = 'air madagascar',''\n",
    "# key, rest = 'invitrogn', ''\n",
    "# key, rest = 'ado fm', ''\n",
    "\n",
    "hits = search(key, rest, size=100)\n",
    "for i, hit in enumerate(hits):\n",
    "#     print(f'{i:2d} {hit[\"_score\"]:.2f}', hit['_source'])\n",
    "#     print(f'{i:2d} {hit[\"_score\"]:.2f}', '%30s %30s' % (hit['_source']['entity'], hit['_source']['label']))\n",
    "    for entity in hit['_source']['ids']:\n",
    "        if type(entity) == int:\n",
    "            s, entity = entity, db.lookup_str(entity)[1:-1].split('/')[-1]\n",
    "        else:\n",
    "            s, entity = try_lookup(URI_PREFIX + entity), entity\n",
    "        label = hit['_source']['label']\n",
    "        uripart = util.unquote(util.unquote(entity))\n",
    "        tokenjacc = util.tokenjaccard(label, key)\n",
    "        print(f'{i:2d} {hit[\"_score\"]:5.2f} {tokenjacc:.2f} {s:9d} {uripart[:30]:>30s} {label:30s}')"
   ]
  },
  {
   "cell_type": "markdown",
   "metadata": {},
   "source": [
    "## Attribute query"
   ]
  },
  {
   "cell_type": "code",
   "execution_count": 266,
   "metadata": {},
   "outputs": [
    {
     "name": "stdout",
     "output_type": "stream",
     "text": [
      " 0.14  art museums and galleries in the netherl <http://purl.org/dc/terms/subject>\n"
     ]
    }
   ],
   "source": [
    "def att_query(att, subject_id):\n",
    "    return {\n",
    "        \"query\": {\n",
    "            \"bool\": {\n",
    "                \"filter\": [\n",
    "                    {\"term\":{\"ids\": subject_id }},\n",
    "                ],\n",
    "                \"should\":[\n",
    "#                     {\"match\":{\"label\": {\"query\":key, \"analyzer\": \"myanalyzer\" }}},\n",
    "#                     {\"match_phrase\":{\"label\": {\"query\":key, \"slop\":1, \"analyzer\": \"myanalyzer\"}}},\n",
    "                    {\"match\":{\"label\": {\"query\":att }}},\n",
    "                    {\"match_phrase\":{\"label\": {\"query\":att, \"slop\":1}}},\n",
    "                ]\n",
    "            }\n",
    "        }\n",
    "    }\n",
    "\n",
    "def att_search(att, subject_id, size=50, cutoff=0.7):\n",
    "    q = att_query(att, subject_id)\n",
    "    q['size'] = size\n",
    "    hits = es.search(index=index, body=q).get('hits', {}).get('hits', [])\n",
    "    for hit in hits:\n",
    "        label = hit.get('_source', {}).get('label','')\n",
    "        p = hit.get('_source', {}).get('p', -1)\n",
    "        tokenjacc = util.tokenjaccard(label, att)\n",
    "        if tokenjacc:\n",
    "            yield tokenjacc, p, label\n",
    "\n",
    "hits = att_search('netherlands', 28017146)\n",
    "for tokenjacc, p, label in hits:\n",
    "    print(f'{tokenjacc:5.2f}  {label[:40]:40s} {db.lookup_str(p)}')"
   ]
  },
  {
   "cell_type": "code",
   "execution_count": 268,
   "metadata": {},
   "outputs": [
    {
     "data": {
      "text/plain": [
       "2"
      ]
     },
     "execution_count": 268,
     "metadata": {},
     "output_type": "execute_result"
    }
   ],
   "source": [
    "label_id"
   ]
  },
  {
   "cell_type": "markdown",
   "metadata": {},
   "source": [
    "# Entity properties"
   ]
  },
  {
   "cell_type": "code",
   "execution_count": 167,
   "metadata": {},
   "outputs": [
    {
     "name": "stdout",
     "output_type": "stream",
     "text": [
      "<http://www.w3.org/2000/01/rdf-schema#label>       \"Newnans Lake\"@en                                 \n"
     ]
    }
   ],
   "source": [
    "DB_PATH = './data/dbpedia/2014_part/'\n",
    "import trident, urllib\n",
    "db = trident.Db(DB_PATH)\n",
    "type_id = db.lookup_id('<http://www.w3.org/1999/02/22-rdf-syntax-ns#type>')\n",
    "label_id = db.lookup_id('<http://www.w3.org/2000/01/rdf-schema#label>')\n",
    "\n",
    "# uripart = 'Atmospheric_Environment'\n",
    "# uripart = 'Schloss_Wei%C3%9Fenstein'\n",
    "uripart = 'Newnans_Lake'\n",
    "SAFE = \",()':&!/+*%\"\n",
    "quote = lambda uri: urllib.parse.quote(uri, SAFE)\n",
    "uripart = quote(uripart)\n",
    "s = db.lookup_id(f'<http://dbpedia.org/resource/{uripart}>')\n",
    "if s:\n",
    "    for p,o in db.po(s):\n",
    "        if p in [label_id]:\n",
    "            print(f'{db.lookup_str(p):50s} {db.lookup_str(o):50s}')\n",
    "else:\n",
    "    print('not found')"
   ]
  },
  {
   "cell_type": "code",
   "execution_count": 199,
   "metadata": {
    "scrolled": false
   },
   "outputs": [
    {
     "name": "stdout",
     "output_type": "stream",
     "text": [
      "w c 3 b 6 rthersee\tlake w%c3%b6rther\twoerthersee\tworthersee\n",
      "hypo arena\tw\\u00f6rtherseestadion\tklagenfurt\n",
      "p c 3 b 6 rtschach am w c 3 b 6 rthersee\tp%c3%b6rtschach\tpoertschach\tportschach\n",
      "w c 3 b 6 rthersee stadion\tw%c3%b6rtherseestadion\twaidmannsdorf\twortherseestadion\n",
      "ein schlo c 3 9 f am w c 3 b 6 rthersee\tein schloss am worthersee\n",
      "velden am w c 3 b 6 rther see\tvelden am w%c3%b6rthersee\tvelden am woerther see\tvelden am woerthersee\n"
     ]
    }
   ],
   "source": [
    "!grep \"rthersee\" ../T2KMatch/data/surfaceforms.txt"
   ]
  },
  {
   "cell_type": "code",
   "execution_count": null,
   "metadata": {},
   "outputs": [],
   "source": []
  }
 ],
 "metadata": {
  "kernelspec": {
   "display_name": "Python 3",
   "language": "python",
   "name": "python3"
  },
  "language_info": {
   "codemirror_mode": {
    "name": "ipython",
    "version": 3
   },
   "file_extension": ".py",
   "mimetype": "text/x-python",
   "name": "python",
   "nbconvert_exporter": "python",
   "pygments_lexer": "ipython3",
   "version": "3.6.6"
  }
 },
 "nbformat": 4,
 "nbformat_minor": 2
}
