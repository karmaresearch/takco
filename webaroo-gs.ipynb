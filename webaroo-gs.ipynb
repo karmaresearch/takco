{
 "cells": [
  {
   "cell_type": "code",
   "execution_count": 1,
   "metadata": {},
   "outputs": [
    {
     "name": "stdout",
     "output_type": "stream",
     "text": [
      "9115\n"
     ]
    }
   ],
   "source": [
    "import glob, os\n",
    "fnames = glob.glob('./sti/data/webarooListsAsWikiTables/entities/*.csv')\n",
    "import pandas as pd\n",
    "gs = []\n",
    "for fname in fnames:\n",
    "    if os.stat(fname).st_size:\n",
    "        ann = pd.read_csv(fname, names=['uripart', 'label', 'rownr'])\n",
    "        ann['table'] = os.path.basename(fname)\n",
    "        gs.append(ann)\n",
    "gs = pd.concat(gs)\n",
    "print(len(gs))"
   ]
  },
  {
   "cell_type": "code",
   "execution_count": 5,
   "metadata": {},
   "outputs": [
    {
     "name": "stdout",
     "output_type": "stream",
     "text": [
      "9522\n"
     ]
    }
   ],
   "source": [
    "import util\n",
    "table_names = set(gs['table'])\n",
    "table_keys = []\n",
    "for name in table_names:\n",
    "    fname = f'./sti/data/webarooListsAsWikiTables/tables/{name}'\n",
    "    webtable = util.WebTable.from_csv(fname, header=False)\n",
    "    for r,key in webtable.enumerate_keys():\n",
    "        table_keys.append(\n",
    "            (name, r, key, 'TRUE')\n",
    "        )\n",
    "table_keys = pd.DataFrame(table_keys, columns=['table', 'rownr', 'label', 'key'])\n",
    "print(len(table_keys))"
   ]
  },
  {
   "cell_type": "code",
   "execution_count": 19,
   "metadata": {},
   "outputs": [
    {
     "data": {
      "text/plain": [
       "4447"
      ]
     },
     "execution_count": 19,
     "metadata": {},
     "output_type": "execute_result"
    }
   ],
   "source": [
    "newgs = gs.merge(table_keys, on=['table', 'rownr', 'label'])\n",
    "newgs.sort_values(['table', 'rownr'])\n",
    "newgs['rownr'] = newgs['rownr'] - 1\n",
    "newgs['row'] = newgs['table'] + '~Row' + newgs['rownr'].map(str)\n",
    "newgs['uri'] = 'http://dbpedia.org/resource/' + newgs['uripart']\n",
    "newgs = newgs[['row', 'uri', 'key']]\n",
    "newgs.to_csv('./sti/data/webarooListsAsWikiTables/gs_instance.csv', header=None, index=None)\n",
    "len(newgs)"
   ]
  },
  {
   "cell_type": "code",
   "execution_count": 20,
   "metadata": {},
   "outputs": [
    {
     "name": "stdout",
     "output_type": "stream",
     "text": [
      "file95757_0_cols1_rows19.csv~Row0,http://dbpedia.org/resource/Alexander_Mackenzie,True\r\n",
      "file95757_0_cols1_rows19.csv~Row1,http://dbpedia.org/resource/Arthur_Meighen,True\r\n",
      "file95757_0_cols1_rows19.csv~Row2,http://dbpedia.org/resource/Brian_Mulroney,True\r\n",
      "file95757_0_cols1_rows19.csv~Row3,http://dbpedia.org/resource/Charles_Tupper,True\r\n",
      "file95757_0_cols1_rows19.csv~Row4,http://dbpedia.org/resource/Jean_Chrétien,True\r\n",
      "file95757_0_cols1_rows19.csv~Row5,http://dbpedia.org/resource/Joe_Clark,True\r\n",
      "file95757_0_cols1_rows19.csv~Row6,http://dbpedia.org/resource/John_A._Macdonald,True\r\n",
      "file95757_0_cols1_rows19.csv~Row7,http://dbpedia.org/resource/John_Diefenbaker,True\r\n",
      "file95757_0_cols1_rows19.csv~Row8,http://dbpedia.org/resource/John_Abbott,True\r\n",
      "file95757_0_cols1_rows19.csv~Row9,http://dbpedia.org/resource/John_Turner,True\r\n"
     ]
    }
   ],
   "source": [
    "!head ./sti/data/webarooListsAsWikiTables/gs_instance.csv"
   ]
  },
  {
   "cell_type": "code",
   "execution_count": 21,
   "metadata": {},
   "outputs": [
    {
     "name": "stdout",
     "output_type": "stream",
     "text": [
      "file141150_0_cols1_rows11.csv~Row2,http://dbpedia.org/resource/Bradley_Whitford,TRUE\r\n",
      "file141150_0_cols1_rows11.csv~Row5,http://dbpedia.org/resource/Richard_Schiff,TRUE\r\n",
      "file141150_0_cols1_rows11.csv~Row9,http://dbpedia.org/resource/Mark_McCormack,TRUE\r\n",
      "file95757_0_cols1_rows19.csv~Row-1,http://dbpedia.org/resource/Alexander_Mackenzie,TRUE\r\n",
      "file95757_0_cols1_rows19.csv~Row0,http://dbpedia.org/resource/Arthur_Meighen,TRUE\r\n",
      "file95757_0_cols1_rows19.csv~Row1,http://dbpedia.org/resource/Brian_Mulroney,TRUE\r\n",
      "file95757_0_cols1_rows19.csv~Row2,http://dbpedia.org/resource/Charles_Tupper,TRUE\r\n",
      "file95757_0_cols1_rows19.csv~Row3,http://dbpedia.org/resource/Jean_Chrétien,TRUE\r\n",
      "file95757_0_cols1_rows19.csv~Row4,http://dbpedia.org/resource/Joe_Clark,TRUE\r\n",
      "file95757_0_cols1_rows19.csv~Row5,http://dbpedia.org/resource/John_A._Macdonald,TRUE\r\n"
     ]
    }
   ],
   "source": [
    "!head ./sti/data/webarooListsAsWikiTables/gs_instance-T2K-keys.csv"
   ]
  },
  {
   "cell_type": "code",
   "execution_count": null,
   "metadata": {},
   "outputs": [],
   "source": []
  }
 ],
 "metadata": {
  "kernelspec": {
   "display_name": "Python 3",
   "language": "python",
   "name": "python3"
  },
  "language_info": {
   "codemirror_mode": {
    "name": "ipython",
    "version": 3
   },
   "file_extension": ".py",
   "mimetype": "text/x-python",
   "name": "python",
   "nbconvert_exporter": "python",
   "pygments_lexer": "ipython3",
   "version": "3.6.6"
  }
 },
 "nbformat": 4,
 "nbformat_minor": 2
}
