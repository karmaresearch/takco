{
 "cells": [
  {
   "cell_type": "code",
   "execution_count": 17,
   "metadata": {},
   "outputs": [
    {
     "name": "stdout",
     "output_type": "stream",
     "text": [
      "Trident KB has 31988193 terms, 108857097 triples\n"
     ]
    }
   ],
   "source": [
    "DB_PATH = './data/dbpedia/db_part/'\n",
    "# DB_PATH = './data/dbpedia_t2ksubset/db/'\n",
    "import trident\n",
    "# trident.setLoggingLevel(0)\n",
    "g = trident.Db(DB_PATH)\n",
    "type_id = g.lookup_id('<http://www.w3.org/1999/02/22-rdf-syntax-ns#type>')\n",
    "label_id = g.lookup_id('<http://www.w3.org/2000/01/rdf-schema#label>')\n",
    "assert label_id != None\n",
    "print('Trident KB has %d terms, %d triples' % (g.n_terms(), g.n_triples()))"
   ]
  },
  {
   "cell_type": "code",
   "execution_count": 18,
   "metadata": {
    "scrolled": true
   },
   "outputs": [
    {
     "name": "stderr",
     "output_type": "stream",
     "text": [
      "Loading redirects line 7600000    \r"
     ]
    }
   ],
   "source": [
    "import sys, urllib.parse\n",
    "REDIR = 'data/transitive_redirects_en.ttl'\n",
    "redir = {}\n",
    "for i,line in enumerate(open(REDIR)):\n",
    "    source, _, target = line.strip()[:-2].split(None, 2)\n",
    "    source, target = urllib.parse.unquote(source[1:-1]), urllib.parse.unquote(target[1:-1])\n",
    "    redir[source] = target\n",
    "    if 0 == i % 100000:\n",
    "        print('Loading redirects line %d    ' % i, end='\\r', file=sys.stderr)"
   ]
  },
  {
   "cell_type": "code",
   "execution_count": 19,
   "metadata": {},
   "outputs": [
    {
     "data": {
      "text/plain": [
       "22599749"
      ]
     },
     "execution_count": 19,
     "metadata": {},
     "output_type": "execute_result"
    }
   ],
   "source": [
    "uri = 'http://dbpedia.org/resource/Holmes_Regional_Medical_Center'\n",
    "g.lookup_id('<%s>'%redir.get(uri, uri))"
   ]
  },
  {
   "cell_type": "code",
   "execution_count": 204,
   "metadata": {},
   "outputs": [],
   "source": [
    "def datatype(node_id):\n",
    "    # RDF datatype\n",
    "    node = g.lookup_str(node_id)\n",
    "    if not node:\n",
    "        return '', ''\n",
    "    elif node[-1] == '>':\n",
    "        if node[0] == '<':\n",
    "            return node[1:-1], 'uri' # uri\n",
    "        elif node[0] == '\"' and '^^' in node:\n",
    "            lit, dtype = node.rsplit('^^', 1)\n",
    "            return lit[1:-1], dtype[1:-1] # typed literal\n",
    "    elif node[0] == '\"':\n",
    "        if node[-1] == '\"':\n",
    "            return node[1:-1], 'str' # string\n",
    "        elif '@' in node:\n",
    "            lit, lang = node.rsplit('@', 1)\n",
    "            return lit[1:-1], '@%s'%lang # language string\n",
    "def strs(i):\n",
    "    ss = set()\n",
    "    # Entity strings\n",
    "    node, dtype = datatype(i)\n",
    "    if dtype == 'uri':\n",
    "        for l in g.o(i, label_id):\n",
    "            s = datatype(l)[0]\n",
    "            ss.update( set([s]) )\n",
    "    elif dtype == 'str' or dtype.startswith('@'):\n",
    "        s = node\n",
    "        ss.update( set([s]) )\n",
    "    return ss"
   ]
  },
  {
   "cell_type": "code",
   "execution_count": 285,
   "metadata": {},
   "outputs": [
    {
     "name": "stdout",
     "output_type": "stream",
     "text": [
      "T2K says that 1428 uris are missing\n",
      "I think that 32 uris are missing\n"
     ]
    }
   ],
   "source": [
    "import os, collections\n",
    "t2k_dir = './data_t2k/output-v1-goldCandidates/'\n",
    "missing = set([row[0] for row in csv.reader(open(os.path.join(t2k_dir, 'missing_gs_instance.csv')))])\n",
    "print('T2K says that %d uris are missing' % len(missing))\n",
    "really_missing = set([uri for uri in missing if g.lookup_id('<%s>'%uri) == None])\n",
    "print('I think that %d uris are missing' % len(really_missing))\n",
    "\n",
    "missing_ids = set([g.lookup_id('<%s>'%uri) for uri in missing if g.lookup_id('<%s>'%uri)])\n",
    "missing_types = [g.lookup_str(t) for i in missing_ids for t in g.o(i, type_id)]\n",
    "missing_types = [t for t in missing_types if 'http://dbpedia.org/ontology/' in t]\n",
    "# collections.Counter(missing_types).most_common()"
   ]
  },
  {
   "cell_type": "code",
   "execution_count": 289,
   "metadata": {},
   "outputs": [
    {
     "name": "stdout",
     "output_type": "stream",
     "text": [
      "There are 1242 entities that cannot be added to any table\n"
     ]
    }
   ],
   "source": [
    "import os, glob, itertools, csv\n",
    "table_fnames = glob.glob('data_t2k/db/dbpedia/*.csv')\n",
    "table_headers = {os.path.basename(fname)[:-4]:itertools.islice(open(fname), 3) for fname in table_fnames}\n",
    "table_headers = {key: list(zip(*csv.reader(val))) for key, val in table_headers.items()}\n",
    "\n",
    "def get_table_row(i, attributes):\n",
    "    for att, uri, typ in attributes:\n",
    "        print(att)\n",
    "        p = g.lookup_id('<%s>'%uri)\n",
    "        if p:\n",
    "            for o in g.o(i, p):\n",
    "                yield att, g.lookup_str(o)\n",
    "\n",
    "missing_types_ids = set()\n",
    "ok=False\n",
    "for i in missing_ids:\n",
    "#     print(g.lookup_str(i))\n",
    "    types_missing = True\n",
    "    for t in g.o(i, type_id):\n",
    "        t_uri = g.lookup_str(t)\n",
    "        if 'http://dbpedia.org/ontology/' in t_uri:\n",
    "            t_name = t_uri[1:-1].replace('http://dbpedia.org/ontology/','')\n",
    "            if t_name in table_headers:\n",
    "                types_missing = False\n",
    "#             print('\\t', t_name, t_name in table_headers)\n",
    "#             for att,o in get_table_row(i, table_headers.get(t_name, [])):\n",
    "#                 print(att,o)\n",
    "#                 ok=True\n",
    "    if types_missing:\n",
    "        missing_types_ids.add(i)\n",
    "    if ok:\n",
    "        break\n",
    "\n",
    "print('There are %d entities that cannot be added to any table' % len(missing_types_ids))\n",
    "missing_types = [g.lookup_str(t) for i in missing_types_ids for t in g.o(i, type_id)]\n",
    "missing_types = [t for t in missing_types if 'http://dbpedia.org/ontology/' in t]\n",
    "# collections.Counter(missing_types).most_common()\n",
    "\n",
    "# set([g.lookup_str(m) for m in missing_ids - missing_types_ids ])"
   ]
  },
  {
   "cell_type": "code",
   "execution_count": 205,
   "metadata": {},
   "outputs": [
    {
     "name": "stdout",
     "output_type": "stream",
     "text": [
      "entity 27324403 has 6 outlinks and 0 inlinks\n",
      "                <http://purl.org/dc/terms/subject> <http://dbpedia.org/resource/Category:1978_establishments_in_the_United_Kingdom>\n",
      "                <http://purl.org/dc/terms/subject> <http://dbpedia.org/resource/Category:Hospital_buildings_completed_in_1978>\n",
      "                <http://purl.org/dc/terms/subject> <http://dbpedia.org/resource/Category:Hospitals_established_in_1978>\n",
      "                <http://purl.org/dc/terms/subject> <http://dbpedia.org/resource/Category:Hospitals_in_Merthyr_Tydfil>\n",
      "                <http://purl.org/dc/terms/subject> <http://dbpedia.org/resource/Category:NHS_Wales_hospitals>\n",
      "      <http://www.w3.org/2000/01/rdf-schema#label> \"Prince Charles Hospital\"@en                      \n",
      "<http://www.w3.org/2000/01/rdf-schema#label>       Prince Charles Hospital\n"
     ]
    }
   ],
   "source": [
    "uri = 'http://dbpedia.org/resource/Catholic_Democrats_(The_National_Party)'\n",
    "uri = 'http://dbpedia.org/resource/Christian_Democrats_(The_National_Party)'\n",
    "# uri = 'http://dbpedia.org/resource/Christian_Solidarity_Party'\n",
    "uri = 'http://dbpedia.org/resource/Prince_Charles_Hospital'\n",
    "i = g.lookup_id('<%s>'%uri)\n",
    "print('entity %d has %d outlinks and %d inlinks' % (i, len(g.po(i)), len(g.ps(i))))\n",
    "for p,o in g.po(i):\n",
    "    print('%50s %-50s' % (g.lookup_str(p), g.lookup_str(o)))\n",
    "#     print(p == label_id)\n",
    "    ss = strs(o)\n",
    "    if ss:\n",
    "        print('%-50s'%g.lookup_str(p), *ss)\n",
    "#     print()"
   ]
  },
  {
   "cell_type": "code",
   "execution_count": null,
   "metadata": {},
   "outputs": [],
   "source": []
  }
 ],
 "metadata": {
  "kernelspec": {
   "display_name": "Python 3",
   "language": "python",
   "name": "python3"
  },
  "language_info": {
   "codemirror_mode": {
    "name": "ipython",
    "version": 3
   },
   "file_extension": ".py",
   "mimetype": "text/x-python",
   "name": "python",
   "nbconvert_exporter": "python",
   "pygments_lexer": "ipython3",
   "version": "3.6.6"
  }
 },
 "nbformat": 4,
 "nbformat_minor": 2
}
