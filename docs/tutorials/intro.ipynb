{
 "cells": [
  {
   "cell_type": "markdown",
   "metadata": {},
   "source": [
    "# Intro"
   ]
  },
  {
   "cell_type": "code",
   "execution_count": 1,
   "metadata": {},
   "outputs": [
    {
     "data": {
      "text/html": [
       "<table><tr><th>Entity/Abbreviation</th><th>Capital</th></tr><tr><td><span class=\"flagicon\"><img alt=\"\" class=\"thumbborder\" data-file-height=\"200\" data-file-width=\"350\" decoding=\"async\" height=\"13\" src=\"//upload.wikimedia.org/wikipedia/commons/thumb/1/1b/Flag_of_Aguascalientes.svg/23px-Flag_of_Aguascalientes.svg.png\" srcset=\"//upload.wikimedia.org/wikipedia/commons/thumb/1/1b/Flag_of_Aguascalientes.svg/35px-Flag_of_Aguascalientes.svg.png 1.5x, //upload.wikimedia.org/wikipedia/commons/thumb/1/1b/Flag_of_Aguascalientes.svg/46px-Flag_of_Aguascalientes.svg.png 2x\" width=\"23\"/> </span><a href=\"/wiki/Aguascalientes\" title=\"Aguascalientes\">Aguascalientes (AGS)</a>\n",
       "</td><td><a href=\"/wiki/Aguascalientes_City\" title=\"Aguascalientes City\">Aguascalientes</a>\n",
       "</td></tr><tr><td><span class=\"flagicon\"><img alt=\"\" class=\"thumbborder\" data-file-height=\"200\" data-file-width=\"350\" decoding=\"async\" height=\"13\" src=\"//upload.wikimedia.org/wikipedia/commons/thumb/2/27/Flag_of_Baja_California.svg/23px-Flag_of_Baja_California.svg.png\" srcset=\"//upload.wikimedia.org/wikipedia/commons/thumb/2/27/Flag_of_Baja_California.svg/35px-Flag_of_Baja_California.svg.png 1.5x, //upload.wikimedia.org/wikipedia/commons/thumb/2/27/Flag_of_Baja_California.svg/46px-Flag_of_Baja_California.svg.png 2x\" width=\"23\"/> </span><a href=\"/wiki/Baja_California\" title=\"Baja California\">Baja California (BC)</a>\n",
       "</td><td><a href=\"/wiki/Mexicali\" title=\"Mexicali\">Mexicali</a>\n",
       "</td></tr><tr><td><span class=\"flagicon\"><img alt=\"\" class=\"thumbborder\" data-file-height=\"200\" data-file-width=\"350\" decoding=\"async\" height=\"13\" src=\"//upload.wikimedia.org/wikipedia/commons/thumb/9/9c/Flag_of_Baja_California_Sur.svg/23px-Flag_of_Baja_California_Sur.svg.png\" srcset=\"//upload.wikimedia.org/wikipedia/commons/thumb/9/9c/Flag_of_Baja_California_Sur.svg/35px-Flag_of_Baja_California_Sur.svg.png 1.5x, //upload.wikimedia.org/wikipedia/commons/thumb/9/9c/Flag_of_Baja_California_Sur.svg/46px-Flag_of_Baja_California_Sur.svg.png 2x\" width=\"23\"/> </span><a href=\"/wiki/Baja_California_Sur\" title=\"Baja California Sur\">Baja California Sur (BCS)</a>\n",
       "</td><td><a href=\"/wiki/La_Paz,_Baja_California_Sur\" title=\"La Paz, Baja California Sur\">La Paz</a>\n",
       "</td></tr><tr><td><span class=\"flagicon\"><img alt=\"\" class=\"thumbborder\" data-file-height=\"200\" data-file-width=\"350\" decoding=\"async\" height=\"13\" src=\"//upload.wikimedia.org/wikipedia/commons/thumb/3/37/Flag_of_Campeche.svg/23px-Flag_of_Campeche.svg.png\" srcset=\"//upload.wikimedia.org/wikipedia/commons/thumb/3/37/Flag_of_Campeche.svg/35px-Flag_of_Campeche.svg.png 1.5x, //upload.wikimedia.org/wikipedia/commons/thumb/3/37/Flag_of_Campeche.svg/46px-Flag_of_Campeche.svg.png 2x\" width=\"23\"/> </span><a href=\"/wiki/Campeche\" title=\"Campeche\">Campeche (CAM)</a>\n",
       "</td><td><a href=\"/wiki/Campeche_City\" title=\"Campeche City\">Campeche</a>\n",
       "</td></tr><tr><td><span class=\"flagicon\"><img alt=\"\" class=\"thumbborder\" data-file-height=\"200\" data-file-width=\"350\" decoding=\"async\" height=\"13\" src=\"//upload.wikimedia.org/wikipedia/commons/thumb/1/1a/Flag_of_Chiapas.svg/23px-Flag_of_Chiapas.svg.png\" srcset=\"//upload.wikimedia.org/wikipedia/commons/thumb/1/1a/Flag_of_Chiapas.svg/35px-Flag_of_Chiapas.svg.png 1.5x, //upload.wikimedia.org/wikipedia/commons/thumb/1/1a/Flag_of_Chiapas.svg/46px-Flag_of_Chiapas.svg.png 2x\" width=\"23\"/> </span><a href=\"/wiki/Chiapas\" title=\"Chiapas\">Chiapas (CHIS)</a>\n",
       "</td><td><a href=\"/wiki/Tuxtla_Guti%C3%A9rrez\" title=\"Tuxtla Gutiérrez\">Tuxtla Gutiérrez</a>\n",
       "</td></tr><tr><td><span class=\"flagicon\"><img alt=\"\" class=\"thumbborder\" data-file-height=\"200\" data-file-width=\"350\" decoding=\"async\" height=\"13\" src=\"//upload.wikimedia.org/wikipedia/commons/thumb/1/1b/Flag_of_Chihuahua.svg/23px-Flag_of_Chihuahua.svg.png\" srcset=\"//upload.wikimedia.org/wikipedia/commons/thumb/1/1b/Flag_of_Chihuahua.svg/35px-Flag_of_Chihuahua.svg.png 1.5x, //upload.wikimedia.org/wikipedia/commons/thumb/1/1b/Flag_of_Chihuahua.svg/46px-Flag_of_Chihuahua.svg.png 2x\" width=\"23\"/> </span><a href=\"/wiki/Chihuahua_(state)\" title=\"Chihuahua (state)\">Chihuahua (CHIH)</a>\n",
       "</td><td><a href=\"/wiki/Chihuahua_City\" title=\"Chihuahua City\">Chihuahua</a>\n",
       "</td></tr><tr><td><span class=\"flagicon\"><img alt=\"\" class=\"thumbborder\" data-file-height=\"200\" data-file-width=\"350\" decoding=\"async\" height=\"13\" src=\"//upload.wikimedia.org/wikipedia/commons/thumb/d/d2/Flag_of_Coahuila.svg/23px-Flag_of_Coahuila.svg.png\" srcset=\"//upload.wikimedia.org/wikipedia/commons/thumb/d/d2/Flag_of_Coahuila.svg/35px-Flag_of_Coahuila.svg.png 1.5x, //upload.wikimedia.org/wikipedia/commons/thumb/d/d2/Flag_of_Coahuila.svg/46px-Flag_of_Coahuila.svg.png 2x\" width=\"23\"/> </span><a href=\"/wiki/Coahuila\" title=\"Coahuila\">Coahuila (COAH)</a>\n",
       "</td><td><a href=\"/wiki/Saltillo\" title=\"Saltillo\">Saltillo</a>\n",
       "</td></tr><tr><td><span class=\"flagicon\"><img alt=\"\" class=\"thumbborder\" data-file-height=\"200\" data-file-width=\"350\" decoding=\"async\" height=\"13\" src=\"//upload.wikimedia.org/wikipedia/commons/thumb/5/52/Flag_of_Colima.svg/23px-Flag_of_Colima.svg.png\" srcset=\"//upload.wikimedia.org/wikipedia/commons/thumb/5/52/Flag_of_Colima.svg/35px-Flag_of_Colima.svg.png 1.5x, //upload.wikimedia.org/wikipedia/commons/thumb/5/52/Flag_of_Colima.svg/46px-Flag_of_Colima.svg.png 2x\" width=\"23\"/> </span><a href=\"/wiki/Colima\" title=\"Colima\">Colima (COL)</a>\n",
       "</td><td><a href=\"/wiki/Colima_City\" title=\"Colima City\">Colima</a>\n",
       "</td></tr><tr><td><span class=\"flagicon\"><img alt=\"\" class=\"thumbborder\" data-file-height=\"954\" data-file-width=\"1540\" decoding=\"async\" height=\"14\" src=\"//upload.wikimedia.org/wikipedia/commons/thumb/2/26/Flag_of_Durango.png/23px-Flag_of_Durango.png\" srcset=\"//upload.wikimedia.org/wikipedia/commons/thumb/2/26/Flag_of_Durango.png/35px-Flag_of_Durango.png 1.5x, //upload.wikimedia.org/wikipedia/commons/thumb/2/26/Flag_of_Durango.png/46px-Flag_of_Durango.png 2x\" width=\"23\"/> </span><a href=\"/wiki/Durango\" title=\"Durango\">Durango (DUR)</a>\n",
       "</td><td><a href=\"/wiki/Durango_City\" title=\"Durango City\">Durango</a>\n",
       "</td></tr><tr><td><span class=\"flagicon\"><img alt=\"\" class=\"thumbborder\" data-file-height=\"286\" data-file-width=\"500\" decoding=\"async\" height=\"13\" src=\"//upload.wikimedia.org/wikipedia/commons/thumb/e/e0/Flag_of_Guanajuato.svg/23px-Flag_of_Guanajuato.svg.png\" srcset=\"//upload.wikimedia.org/wikipedia/commons/thumb/e/e0/Flag_of_Guanajuato.svg/35px-Flag_of_Guanajuato.svg.png 1.5x, //upload.wikimedia.org/wikipedia/commons/thumb/e/e0/Flag_of_Guanajuato.svg/46px-Flag_of_Guanajuato.svg.png 2x\" width=\"23\"/> </span><a href=\"/wiki/Guanajuato\" title=\"Guanajuato\">Guanajuato (GTO)</a>\n",
       "</td><td><a href=\"/wiki/Guanajuato_City\" title=\"Guanajuato City\">Guanajuato</a>\n",
       "</td></tr><tr><td><span class=\"flagicon\"><img alt=\"\" class=\"thumbborder\" data-file-height=\"200\" data-file-width=\"350\" decoding=\"async\" height=\"13\" src=\"//upload.wikimedia.org/wikipedia/commons/thumb/b/b8/Flag_of_Guerrero.svg/23px-Flag_of_Guerrero.svg.png\" srcset=\"//upload.wikimedia.org/wikipedia/commons/thumb/b/b8/Flag_of_Guerrero.svg/35px-Flag_of_Guerrero.svg.png 1.5x, //upload.wikimedia.org/wikipedia/commons/thumb/b/b8/Flag_of_Guerrero.svg/46px-Flag_of_Guerrero.svg.png 2x\" width=\"23\"/> </span><a href=\"/wiki/Guerrero\" title=\"Guerrero\">Guerrero (GRO)</a>\n",
       "</td><td><a href=\"/wiki/Chilpancingo\" title=\"Chilpancingo\">Chilpancingo</a>\n",
       "</td></tr><tr><td><span class=\"flagicon\"><img alt=\"\" class=\"thumbborder\" data-file-height=\"200\" data-file-width=\"350\" decoding=\"async\" height=\"13\" src=\"//upload.wikimedia.org/wikipedia/commons/thumb/0/0d/Flag_of_Hidalgo.svg/23px-Flag_of_Hidalgo.svg.png\" srcset=\"//upload.wikimedia.org/wikipedia/commons/thumb/0/0d/Flag_of_Hidalgo.svg/35px-Flag_of_Hidalgo.svg.png 1.5x, //upload.wikimedia.org/wikipedia/commons/thumb/0/0d/Flag_of_Hidalgo.svg/46px-Flag_of_Hidalgo.svg.png 2x\" width=\"23\"/> </span><a href=\"/wiki/Hidalgo_(state)\" title=\"Hidalgo (state)\">Hidalgo (HGO)</a>\n",
       "</td><td><a href=\"/wiki/Pachuca\" title=\"Pachuca\">Pachuca</a>\n",
       "</td></tr><tr><td><span class=\"flagicon\"><img alt=\"\" class=\"thumbborder\" data-file-height=\"800\" data-file-width=\"1400\" decoding=\"async\" height=\"13\" src=\"//upload.wikimedia.org/wikipedia/commons/thumb/2/2b/Flag_of_Jalisco.svg/23px-Flag_of_Jalisco.svg.png\" srcset=\"//upload.wikimedia.org/wikipedia/commons/thumb/2/2b/Flag_of_Jalisco.svg/35px-Flag_of_Jalisco.svg.png 1.5x, //upload.wikimedia.org/wikipedia/commons/thumb/2/2b/Flag_of_Jalisco.svg/46px-Flag_of_Jalisco.svg.png 2x\" width=\"23\"/> </span><a href=\"/wiki/Jalisco\" title=\"Jalisco\">Jalisco (JAL)</a>\n",
       "</td><td><a href=\"/wiki/Guadalajara\" title=\"Guadalajara\">Guadalajara</a>\n",
       "</td></tr><tr><td><span class=\"flagicon\"><img alt=\"\" class=\"thumbborder\" data-file-height=\"400\" data-file-width=\"700\" decoding=\"async\" height=\"13\" src=\"//upload.wikimedia.org/wikipedia/commons/thumb/b/b7/Flag_of_the_State_of_Mexico.svg/23px-Flag_of_the_State_of_Mexico.svg.png\" srcset=\"//upload.wikimedia.org/wikipedia/commons/thumb/b/b7/Flag_of_the_State_of_Mexico.svg/35px-Flag_of_the_State_of_Mexico.svg.png 1.5x, //upload.wikimedia.org/wikipedia/commons/thumb/b/b7/Flag_of_the_State_of_Mexico.svg/46px-Flag_of_the_State_of_Mexico.svg.png 2x\" width=\"23\"/> </span><a href=\"/wiki/State_of_Mexico\" title=\"State of Mexico\">State of Mexico (EM)</a>\n",
       "</td><td><a href=\"/wiki/Toluca\" title=\"Toluca\">Toluca</a>\n",
       "</td></tr><tr><td><span class=\"flagicon\"><img alt=\"\" class=\"thumbborder\" data-file-height=\"200\" data-file-width=\"350\" decoding=\"async\" height=\"13\" src=\"//upload.wikimedia.org/wikipedia/commons/thumb/b/b3/Flag_of_Mexico_City%2C_Mexico.svg/23px-Flag_of_Mexico_City%2C_Mexico.svg.png\" srcset=\"//upload.wikimedia.org/wikipedia/commons/thumb/b/b3/Flag_of_Mexico_City%2C_Mexico.svg/35px-Flag_of_Mexico_City%2C_Mexico.svg.png 1.5x, //upload.wikimedia.org/wikipedia/commons/thumb/b/b3/Flag_of_Mexico_City%2C_Mexico.svg/46px-Flag_of_Mexico_City%2C_Mexico.svg.png 2x\" width=\"23\"/> </span><a href=\"/wiki/Mexico_City\" title=\"Mexico City\">Mexico City (CDMX)</a>\n",
       "</td><td>Mexico City\n",
       "</td></tr><tr><td><span class=\"flagicon\"><img alt=\"\" class=\"thumbborder\" data-file-height=\"200\" data-file-width=\"350\" decoding=\"async\" height=\"13\" src=\"//upload.wikimedia.org/wikipedia/commons/thumb/0/02/Flag_of_Michoacan.svg/23px-Flag_of_Michoacan.svg.png\" srcset=\"//upload.wikimedia.org/wikipedia/commons/thumb/0/02/Flag_of_Michoacan.svg/35px-Flag_of_Michoacan.svg.png 1.5x, //upload.wikimedia.org/wikipedia/commons/thumb/0/02/Flag_of_Michoacan.svg/46px-Flag_of_Michoacan.svg.png 2x\" width=\"23\"/> </span><a href=\"/wiki/Michoac%C3%A1n\" title=\"Michoacán\">Michoacán (MICH)</a>\n",
       "</td><td><a href=\"/wiki/Morelia\" title=\"Morelia\">Morelia</a>\n",
       "</td></tr></table>"
      ],
      "text/plain": [
       "<IPython.core.display.HTML object>"
      ]
     },
     "metadata": {},
     "output_type": "display_data"
    },
    {
     "data": {
      "text/html": [
       "<table><tr><th style=\"background:#cfb;\">Year\n",
       "</th><th style=\"background:#cfb;\">Share\n",
       "</th></tr><tr><th col=\"2\" style=\"text-align:center; background:#cfb;\">Share of world GDP (PPP)<sup class=\"reference\" id=\"cite_ref-253\"></sup>\n",
       "</th><th col=\"2\" style=\"text-align:center; background:#cfb;\">Share of world GDP (PPP)<sup class=\"reference\" id=\"cite_ref-253\"></sup>\n",
       "</th></tr><tr><td style=\"text-align:left;\">1980</td><td style=\"text-align:right;\">3.06%\n",
       "</td></tr><tr><td style=\"text-align:left;\">1990</td><td style=\"text-align:right;\">2.68%\n",
       "</td></tr><tr><td>2000\n",
       "</td><td style=\"text-align:right;\">2.53%\n",
       "</td></tr><tr><td>2010\n",
       "</td><td style=\"text-align:right;\">2.02%\n",
       "</td></tr><tr><td style=\"text-align:left;\">2017</td><td style=\"text-align:right;\">1.94%\n",
       "</td></tr></table>"
      ],
      "text/plain": [
       "<IPython.core.display.HTML object>"
      ]
     },
     "metadata": {},
     "output_type": "display_data"
    }
   ],
   "source": [
    "import takco\n",
    "import requests\n",
    "from IPython.display import HTML, display\n",
    "\n",
    "html = requests.get('http://en.wikipedia.org/wiki/Mexico').text\n",
    "\n",
    "for table in takco.TableSet.extract(source = [{'html': html}]):\n",
    "    display(HTML(takco.extract.htmltables.tableobj_to_html(table)))"
   ]
  },
  {
   "cell_type": "code",
   "execution_count": 2,
   "metadata": {},
   "outputs": [
    {
     "data": {
      "text/markdown": [
       " http://www.wikidata.org/entity/Q200252 "
      ],
      "text/plain": [
       "<IPython.core.display.Markdown object>"
      ]
     },
     "execution_count": 2,
     "metadata": {},
     "output_type": "execute_result"
    }
   ],
   "source": [
    "from IPython.display import Markdown, display\n",
    "from takco.link import MediaWikiAPI\n",
    "\n",
    "uri = MediaWikiAPI().lookup_wikititle('Morelia')\n",
    "Markdown(f\" {uri} \")"
   ]
  }
 ],
 "metadata": {
  "kernelspec": {
   "display_name": "Python 3",
   "language": "python",
   "name": "python3"
  },
  "language_info": {
   "codemirror_mode": {
    "name": "ipython",
    "version": 3
   },
   "file_extension": ".py",
   "mimetype": "text/x-python",
   "name": "python",
   "nbconvert_exporter": "python",
   "pygments_lexer": "ipython3",
   "version": "3.8.2"
  }
 },
 "nbformat": 4,
 "nbformat_minor": 4
}
