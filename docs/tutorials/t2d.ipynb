{
 "cells": [
  {
   "cell_type": "markdown",
   "metadata": {},
   "source": [
    "# T2D benchmark"
   ]
  },
  {
   "cell_type": "code",
   "execution_count": 8,
   "metadata": {},
   "outputs": [
    {
     "name": "stdout",
     "output_type": "stream",
     "text": [
      "datadir = \"data\"\n",
      "resourcedir = \"resources\"\n",
      "cache = false\n",
      "#executor = \"dask\"\n",
      "\n",
      "[kbs]\n",
      "    [kbs.dbpedia_t2ksubset]\n",
      "    class = \"RDFSearcher\"\n",
      "    labelProperties = [\"http://dbpedia.org/ontology/title\"]\n",
      "    store = {class = \"Trident\", configuration = 'kb/dbpedia_t2ksubset/db/'}\n",
      "\n",
      "    [kbs.dbpedia_2014_part2]\n",
      "    class = \"RDFSearcher\"\n",
      "    labelProperties = [\"http://dbpedia.org/ontology/title\"]\n",
      "    store = {class = \"Trident\", configuration = 'kb/dbpedia/2014_part2/'}\n",
      "\n",
      "    [kbs.dbpedia_2016]\n",
      "    class = \"RDFSearcher\"\n",
      "    labelProperties = [\"http://dbpedia.org/ontology/title\"]\n",
      "    store = {class = \"Trident\", configuration = 'kb/dbpedia/2016-10/'}\n",
      "    \n",
      "    [kbs.dbpedialookup]\n",
      "    class = \"DBpediaLookup\"\n",
      "    \n",
      "\n",
      "[assets]\n",
      "    [assets.t2d-v1]\n",
      "    class = \"T2D\"\n",
      "    download = [\n",
      "        \"http://webdatacommons.org/webtables/tables_instance.tar.gz\",\n",
      "        \"http://webdatacommons.org/webtables/entities_instance.tar.gz\",\n",
      "        \"http://webdatacommons.org/webtables/classes_instance.csv\",\n",
      "        \"http://webdatacommons.org/webtables/attributes_instance.tar.gz\",\n",
      "    ]\n",
      "    version = 1\n",
      "    fixuri = \"t2d_fix.csv\"\n",
      "\n",
      "    [assets.t2d-v2]\n",
      "    class = \"T2D\"\n",
      "    download = [\n",
      "        \"http://webdatacommons.org/webtables/extended_instance_goldstandard.tar.gz\",\n",
      "    ]\n",
      "    version = 2\n",
      "    fixuri = \"t2d_fix.csv\"\n",
      "    \n",
      "    [assets.t2d-v2-predictions]\n",
      "    class = \"Annotation\"\n",
      "    path = \"output/t2k-v2-baseline/\"\n",
      "    fname = \"1-link\"\n"
     ]
    }
   ],
   "source": [
    "!cat ../../resources/config-dbpedia.toml"
   ]
  },
  {
   "cell_type": "code",
   "execution_count": 9,
   "metadata": {},
   "outputs": [
    {
     "name": "stdout",
     "output_type": "stream",
     "text": [
      "name = 't2d-v2-baseline'\n",
      "datadir = 'data'\n",
      "executor = 'tqdm'\n",
      "\n",
      "[[step]]\n",
      "step = \"dataset\"\n",
      "params = \"t2d-v2\"\n",
      "#sample = 10\n",
      "\n",
      "[[step]]\n",
      "step = \"link\"\n",
      "usecols = \"keycol\"\n",
      "lookup_config = {}\n",
      "    [step.linker_config]\n",
      "    class = \"Salient\"\n",
      "    searcher = {name = \"dbpedia_t2ksubset\"}\n",
      "    #only_majority = \"@type\"\n",
      "    \n",
      "\n",
      "[[step]]\n",
      "step = \"score\"\n",
      "labels = \"t2d-v2\"\n",
      "report = [\"pdf\", \"md\"]"
     ]
    }
   ],
   "source": [
    "!cat ../../resources/pipelines/t2d-v2-baseline.toml"
   ]
  },
  {
   "cell_type": "code",
   "execution_count": 17,
   "metadata": {},
   "outputs": [
    {
     "name": "stdout",
     "output_type": "stream",
     "text": [
      "INFO:root:Set log level to 20\n",
      "INFO:root:Loaded config {'name': 'config-dbpedia', 'datadir': 'data', 'resourcedir': 'resources', 'cache': False, 'kbs': {'dbpedia_t2ksubset': {'class': 'RDFSearcher', 'labelProperties': ['http://dbpedia.org/ontology/title'], 'store': {'class': 'Trident', 'configuration': 'kb/dbpedia_t2ksubset/db/'}}, 'dbpedia_2014_part2': {'class': 'RDFSearcher', 'labelProperties': ['http://dbpedia.org/ontology/title'], 'store': {'class': 'Trident', 'configuration': 'kb/dbpedia/2014_part2/'}}, 'dbpedia_2016': {'class': 'RDFSearcher', 'labelProperties': ['http://dbpedia.org/ontology/title'], 'store': {'class': 'Trident', 'configuration': 'kb/dbpedia/2016-10/'}}, 'dbpedialookup': {'class': 'DBpediaLookup'}}, 'assets': {'t2d-v1': {'class': 'T2D', 'download': ['http://webdatacommons.org/webtables/tables_instance.tar.gz', 'http://webdatacommons.org/webtables/entities_instance.tar.gz', 'http://webdatacommons.org/webtables/classes_instance.csv', 'http://webdatacommons.org/webtables/attributes_instance.tar.gz'], 'version': 1, 'fixuri': 't2d_fix.csv'}, 't2d-v2': {'class': 'T2D', 'download': ['http://webdatacommons.org/webtables/extended_instance_goldstandard.tar.gz'], 'version': 2, 'fixuri': 't2d_fix.csv'}, 't2d-v2-predictions': {'class': 'Annotation', 'path': 'output/t2k-v2-baseline/', 'fname': '1-link'}}}\n",
      "INFO:root:Running pipeline 't2d-v2-baseline' in /export/scratch1/home/kruit/nary/t2d-v2-baseline\n",
      "INFO:root:Chaining pipeline step 0-dataset: {'params': 't2d-v2', 'datadir': 'data', 'resourcedir': 'resources', 'assets': {'t2d-v1': {'class': 'T2D', 'download': ['http://webdatacommons.org/webtables/tables_instance.tar.gz', 'http://webdatacommons.org/webtables/entities_instance.tar.gz', 'http://webdatacommons.org/webtables/classes_instance.csv', 'http://webdatacommons.org/webtables/attributes_instance.tar.gz'], 'version': 1, 'fixuri': 't2d_fix.csv'}, 't2d-v2': {'class': 'T2D', 'download': ['http://webdatacommons.org/webtables/extended_instance_goldstandard.tar.gz'], 'version': 2, 'fixuri': 't2d_fix.csv'}, 't2d-v2-predictions': {'class': 'Annotation', 'path': 'output/t2k-v2-baseline/', 'fname': '1-link'}}, 'executor': <class 'takco.util.TqdmHashBag'>}\n",
      "INFO:root:Loading dataset {'name': 't2d-v2', 'class': 'T2D', 'download': ['http://webdatacommons.org/webtables/extended_instance_goldstandard.tar.gz'], 'version': 2, 'fixuri': 't2d_fix.csv'}\n",
      "INFO:root:Loading data from resources/t2d_fix.csv\n",
      "INFO:root:Chaining pipeline step 1-link: {'usecols': 'keycol', 'lookup_config': {}, 'linker_config': {'class': 'Salient', 'searcher': {'name': 'dbpedia_t2ksubset'}}, 'tables': <takco.util.TqdmHashBag object at 0x7f2581a85d50>, 'kbs': {'dbpedia_t2ksubset': {'class': 'RDFSearcher', 'labelProperties': ['http://dbpedia.org/ontology/title'], 'store': {'class': 'Trident', 'configuration': 'kb/dbpedia_t2ksubset/db/'}}, 'dbpedia_2014_part2': {'class': 'RDFSearcher', 'labelProperties': ['http://dbpedia.org/ontology/title'], 'store': {'class': 'Trident', 'configuration': 'kb/dbpedia/2014_part2/'}}, 'dbpedia_2016': {'class': 'RDFSearcher', 'labelProperties': ['http://dbpedia.org/ontology/title'], 'store': {'class': 'Trident', 'configuration': 'kb/dbpedia/2016-10/'}}, 'dbpedialookup': {'class': 'DBpediaLookup'}}}\n",
      "INFO:root:Linking with config {'class': 'Salient', 'searcher': {'name': 'dbpedia_t2ksubset', 'class': 'RDFSearcher', 'labelProperties': ['http://dbpedia.org/ontology/title'], 'store': {'class': 'Trident', 'configuration': 'kb/dbpedia_t2ksubset/db/'}}}\n",
      "  0%|                                                   | 0/514 [00:00<?, ?it/s]INFO:root:Chaining pipeline step 2-score: {'labels': 't2d-v2', 'report': ['pdf', 'md'], 'tables': <takco.util.TqdmHashBag object at 0x7f257faa1150>, 'datadir': 'data', 'resourcedir': 'resources', 'assets': {'t2d-v1': {'class': 'T2D', 'download': ['http://webdatacommons.org/webtables/tables_instance.tar.gz', 'http://webdatacommons.org/webtables/entities_instance.tar.gz', 'http://webdatacommons.org/webtables/classes_instance.csv', 'http://webdatacommons.org/webtables/attributes_instance.tar.gz'], 'version': 1, 'fixuri': 't2d_fix.csv'}, 't2d-v2': {'class': 'T2D', 'download': ['http://webdatacommons.org/webtables/extended_instance_goldstandard.tar.gz'], 'version': 2, 'fixuri': 't2d_fix.csv'}, 't2d-v2-predictions': {'class': 'Annotation', 'path': 'output/t2k-v2-baseline/', 'fname': '1-link'}}}\n",
      "INFO:root:Loading data from resources/t2d_fix.csv\n",
      "INFO:root:Collected 26106 gold and 15219 pred                                   \n",
      "INFO:root:Writing result to stdout\n",
      "  0%|                                                     | 0/1 [00:00<?, ?it/s]{\"score\": {\"precision\": 0.92193968066233, \"recall\": 0.5374626522638474, \"f1-score\": 0.6790562613430127, \"support\": 26106, \"predictions\": 15219}}\n",
      "                                                                                \n",
      "real\t0m13.787s\n",
      "user\t0m13.760s\n",
      "sys\t0m2.719s\n"
     ]
    }
   ],
   "source": [
    "!cd ../../ && time takco run -v -C resources/config-dbpedia.toml resources/pipelines/t2d-v2-baseline.toml"
   ]
  },
  {
   "cell_type": "code",
   "execution_count": null,
   "metadata": {},
   "outputs": [],
   "source": []
  }
 ],
 "metadata": {
  "kernelspec": {
   "display_name": "Python 3",
   "language": "python",
   "name": "python3"
  },
  "language_info": {
   "codemirror_mode": {
    "name": "ipython",
    "version": 3
   },
   "file_extension": ".py",
   "mimetype": "text/x-python",
   "name": "python",
   "nbconvert_exporter": "python",
   "pygments_lexer": "ipython3",
   "version": "3.7.4"
  }
 },
 "nbformat": 4,
 "nbformat_minor": 4
}
