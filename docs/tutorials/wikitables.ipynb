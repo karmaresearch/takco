{
 "cells": [
  {
   "cell_type": "code",
   "execution_count": 1,
   "metadata": {
    "scrolled": true
   },
   "outputs": [
    {
     "data": {
      "text/html": [
       "<table style=\"border: 2px solid white;\">\n",
       "<tr>\n",
       "<td style=\"vertical-align: top; border: 0px solid white\">\n",
       "<h3 style=\"text-align: left;\">Client</h3>\n",
       "<ul style=\"text-align: left; list-style: none; margin: 0; padding: 0;\">\n",
       "  <li><b>Scheduler: </b>tcp://192.168.62.207:8786</li>\n",
       "  <li><b>Dashboard: </b><a href='http://192.168.62.207:8787/status' target='_blank'>http://192.168.62.207:8787/status</a></li>\n",
       "</ul>\n",
       "</td>\n",
       "<td style=\"vertical-align: top; border: 0px solid white\">\n",
       "<h3 style=\"text-align: left;\">Cluster</h3>\n",
       "<ul style=\"text-align: left; list-style:none; margin: 0; padding: 0;\">\n",
       "  <li><b>Workers: </b>10</li>\n",
       "  <li><b>Cores: </b>10</li>\n",
       "  <li><b>Memory: </b>673.47 GB</li>\n",
       "</ul>\n",
       "</td>\n",
       "</tr>\n",
       "</table>"
      ],
      "text/plain": [
       "<Client: 'tcp://192.168.62.207:8786' processes=10 threads=10, memory=673.47 GB>"
      ]
     },
     "execution_count": 1,
     "metadata": {},
     "output_type": "execute_result"
    }
   ],
   "source": [
    "%%capture --no-display\n",
    "from dask.distributed import Client\n",
    "client = Client(address = 'tcp://192.168.62.207:8786')\n",
    "client"
   ]
  },
  {
   "cell_type": "code",
   "execution_count": 2,
   "metadata": {},
   "outputs": [
    {
     "data": {
      "text/plain": [
       "1800"
      ]
     },
     "execution_count": 2,
     "metadata": {},
     "output_type": "execute_result"
    }
   ],
   "source": [
    "import takco\n",
    "fnames = 'hdfs://bricks07:9000/user/kruit/wikidump-tables/0100*.jsonl'\n",
    "tables = takco.DaskHashBag(client=client).load(fnames).persist()\n",
    "tables.bag.count().compute()"
   ]
  },
  {
   "cell_type": "code",
   "execution_count": 3,
   "metadata": {
    "scrolled": false
   },
   "outputs": [
    {
     "data": {
      "text/plain": [
       "1229"
      ]
     },
     "execution_count": 3,
     "metadata": {},
     "output_type": "execute_result"
    }
   ],
   "source": [
    "import takco\n",
    "\n",
    "steps = takco.config.build('step', load=['resources/graphs/wikidata.toml','resources/pipelines/wikitables.toml'])\n",
    "prefix_header_rules = steps[0]['prefix_header_rules']\n",
    "unpivot_heuristics = steps[0]['unpivot_heuristics']\n",
    "\n",
    "reshaped = takco.TableSet.reshape(\n",
    "    tables,\n",
    "    restructure = True,\n",
    "    prefix_header_rules = prefix_header_rules,\n",
    "    unpivot_heuristics = unpivot_heuristics,\n",
    ").tables\n",
    "len(list(reshaped))"
   ]
  },
  {
   "cell_type": "code",
   "execution_count": 4,
   "metadata": {},
   "outputs": [
    {
     "data": {
      "text/plain": [
       "[{'headerId': 5824701350195787515,\n",
       "  'level': 0,\n",
       "  'colfrom': 1,\n",
       "  'colto': 4,\n",
       "  'heuristic': 'NumSuffix',\n",
       "  'headers': ((LinkedString('Ethnic group', links=()),\n",
       "    LinkedString('census 1991', links=()),\n",
       "    LinkedString('census 1991', links=()),\n",
       "    LinkedString('census 2013', links=()),\n",
       "    LinkedString('census 2013', links=())),\n",
       "   (LinkedString('Ethnic group', links=()),\n",
       "    LinkedString('Number', links=()),\n",
       "    LinkedString('%', links=()),\n",
       "    LinkedString('Number', links=()),\n",
       "    LinkedString('%', links=())))},\n",
       " {'headerId': 5824701350195787515,\n",
       "  'level': 0,\n",
       "  'colfrom': 1,\n",
       "  'colto': 4,\n",
       "  'heuristic': 'NumSuffix',\n",
       "  'headers': ((LinkedString('Ethnic group', links=()),\n",
       "    LinkedString('census 1991', links=()),\n",
       "    LinkedString('census 1991', links=()),\n",
       "    LinkedString('census 2013', links=()),\n",
       "    LinkedString('census 2013', links=())),\n",
       "   (LinkedString('Ethnic group', links=()),\n",
       "    LinkedString('Number', links=()),\n",
       "    LinkedString('%', links=()),\n",
       "    LinkedString('Number', links=()),\n",
       "    LinkedString('%', links=())))},\n",
       " {'headerId': 5824701350195787515,\n",
       "  'level': 0,\n",
       "  'colfrom': 1,\n",
       "  'colto': 4,\n",
       "  'heuristic': 'NumSuffix',\n",
       "  'headers': ((LinkedString('Ethnic group', links=()),\n",
       "    LinkedString('census 1991', links=()),\n",
       "    LinkedString('census 1991', links=()),\n",
       "    LinkedString('census 2013', links=()),\n",
       "    LinkedString('census 2013', links=())),\n",
       "   (LinkedString('Ethnic group', links=()),\n",
       "    LinkedString('Number', links=()),\n",
       "    LinkedString('%', links=()),\n",
       "    LinkedString('Number', links=()),\n",
       "    LinkedString('%', links=())))},\n",
       " {'headerId': 1102315833844417501,\n",
       "  'level': 0,\n",
       "  'colfrom': 1,\n",
       "  'colto': 7,\n",
       "  'heuristic': 'SpannedRepeat',\n",
       "  'headers': ((LinkedString('Election', links=()),\n",
       "    LinkedString('Catalonia', links=()),\n",
       "    LinkedString('Catalonia', links=()),\n",
       "    LinkedString('Catalonia', links=()),\n",
       "    LinkedString('Catalonia', links=()),\n",
       "    LinkedString('Catalonia', links=()),\n",
       "    LinkedString('Catalonia', links=()),\n",
       "    LinkedString('Catalonia', links=())),\n",
       "   (LinkedString('Election', links=()),\n",
       "    LinkedString('Congress', links=()),\n",
       "    LinkedString('Congress', links=()),\n",
       "    LinkedString('Congress', links=()),\n",
       "    LinkedString('Congress', links=()),\n",
       "    LinkedString('Congress', links=()),\n",
       "    LinkedString('Senate', links=()),\n",
       "    LinkedString('Senate', links=())),\n",
       "   (LinkedString('Election', links=()),\n",
       "    LinkedString('Votes', links=()),\n",
       "    LinkedString('%', links=()),\n",
       "    LinkedString('#', links=()),\n",
       "    LinkedString('Seats', links=()),\n",
       "    LinkedString('+/–', links=()),\n",
       "    LinkedString('Seats', links=()),\n",
       "    LinkedString('+/–', links=())))},\n",
       " {'headerId': 7990618774643566087,\n",
       "  'level': 0,\n",
       "  'colfrom': 1,\n",
       "  'colto': 5,\n",
       "  'heuristic': 'AgentLikeHyperlink',\n",
       "  'headers': ((LinkedString('', links=()),\n",
       "    LinkedString('Senior Championship ( M / W )', links=((22, 23, \"http://en.wikipedia.org/wiki/Men's_South_American_Volleyball_Championship\"), (26, 27, \"http://en.wikipedia.org/wiki/Women's_South_American_Volleyball_Championship\"))),\n",
       "    LinkedString('U23 Championship ( M / W )', links=((19, 20, \"http://en.wikipedia.org/wiki/Men's_U23_South_American_Volleyball_Championship\"), (23, 24, \"http://en.wikipedia.org/wiki/Women's_U22_South_American_Volleyball_Championship\"))),\n",
       "    LinkedString('Junior Championship ( M / W )', links=((22, 23, \"http://en.wikipedia.org/wiki/Men's_Junior_South_American_Volleyball_Championship\"), (26, 27, \"http://en.wikipedia.org/wiki/Women's_Junior_South_American_Volleyball_Championship\"))),\n",
       "    LinkedString('Youth Championship ( M / W )', links=((21, 22, \"http://en.wikipedia.org/wiki/Boys'_Youth_South_American_Volleyball_Championship\"), (25, 26, \"http://en.wikipedia.org/wiki/Girls'_Youth_South_American_Volleyball_Championship\"))),\n",
       "    LinkedString('Child Championship ( M / W )', links=((21, 22, \"http://en.wikipedia.org/wiki/Boys'_U17_South_American_Volleyball_Championship\"), (25, 26, \"http://en.wikipedia.org/wiki/Girls'_U16_South_American_Volleyball_Championship\"))),\n",
       "    LinkedString('Club Championship (M / W)', links=())),)},\n",
       " {'headerId': 6169245426268592811,\n",
       "  'level': 0,\n",
       "  'colfrom': 2,\n",
       "  'colto': 3,\n",
       "  'heuristic': 'AgentLikeHyperlink',\n",
       "  'headers': ((LinkedString('', links=()),\n",
       "    LinkedString('Senior Pan-American Cup ( M / W )', links=((26, 27, \"http://en.wikipedia.org/wiki/Men's_Pan-American_Volleyball_Cup\"), (30, 31, \"http://en.wikipedia.org/wiki/Women's_Pan-American_Volleyball_Cup\"))),\n",
       "    LinkedString('U23 Pan-American Cup ( M / W )', links=((23, 24, \"http://en.wikipedia.org/wiki/Men's_U23_Pan-American_Volleyball_Cup\"), (27, 28, \"http://en.wikipedia.org/wiki/Women's_U23_Pan-American_Volleyball_Cup\"))),\n",
       "    LinkedString('Junior Pan-American Cup ( M / W )', links=((26, 27, \"http://en.wikipedia.org/wiki/Men's_Junior_Pan-American_Volleyball_Cup\"), (30, 31, \"http://en.wikipedia.org/wiki/Women's_Junior_Pan-American_Volleyball_Cup\"))),\n",
       "    LinkedString('Youth Pan-American Cup ( M / W )', links=((25, 26, \"http://en.wikipedia.org/wiki/Boys'_Youth_Pan-American_Volleyball_Cup\"), (29, 30, \"http://en.wikipedia.org/wiki/Girls'_Youth_Pan-American_Volleyball_Cup\")))),)},\n",
       " {'headerId': 9209914848286518113,\n",
       "  'level': 0,\n",
       "  'colfrom': 1,\n",
       "  'colto': 1,\n",
       "  'heuristic': 'train-template',\n",
       "  'headers': ((LinkedString('Preceding station', links=()),\n",
       "    LinkedString('İZBAN', links=((0, 5, 'http://en.wikipedia.org/wiki/%C4%B0ZBAN'),)),\n",
       "    LinkedString('Following station', links=())),)},\n",
       " {'headerId': 4482478764346118439,\n",
       "  'level': 0,\n",
       "  'colfrom': 1,\n",
       "  'colto': 1,\n",
       "  'heuristic': 'AgentLikeHyperlink',\n",
       "  'headers': ((LinkedString('Preceding station', links=()),\n",
       "    LinkedString('Deutsche Bahn', links=((0, 13, 'http://en.wikipedia.org/wiki/Deutsche_Bahn'),)),\n",
       "    LinkedString('Following station', links=())),)},\n",
       " {'headerId': 3283235540937112734,\n",
       "  'level': 1,\n",
       "  'colfrom': 1,\n",
       "  'colto': 3,\n",
       "  'heuristic': 'NumSuffix',\n",
       "  'headers': ((LinkedString('Season', links=()),\n",
       "    LinkedString('DVD release date', links=((0, 3, 'http://en.wikipedia.org/wiki/DVD'),)),\n",
       "    LinkedString('DVD release date', links=((0, 3, 'http://en.wikipedia.org/wiki/DVD'),)),\n",
       "    LinkedString('DVD release date', links=((0, 3, 'http://en.wikipedia.org/wiki/DVD'),)),\n",
       "    LinkedString('Blu-ray release date', links=((0, 7, 'http://en.wikipedia.org/wiki/Blu-ray'),))),\n",
       "   (LinkedString('Season', links=()),\n",
       "    LinkedString('Region 1', links=((0, 8, 'http://en.wikipedia.org/wiki/DVD_region_code#1'),)),\n",
       "    LinkedString('Region 2', links=((0, 8, 'http://en.wikipedia.org/wiki/DVD_region_code#2'),)),\n",
       "    LinkedString('Region 4', links=((0, 8, 'http://en.wikipedia.org/wiki/DVD_region_code#4'),)),\n",
       "    LinkedString('Blu-ray release date', links=((0, 7, 'http://en.wikipedia.org/wiki/Blu-ray'),))))},\n",
       " {'headerId': 7713841491944076673,\n",
       "  'level': 1,\n",
       "  'colfrom': 2,\n",
       "  'colto': 2,\n",
       "  'heuristic': 'AgentLikeHyperlink',\n",
       "  'headers': ((LinkedString('Title', links=()),\n",
       "    LinkedString('Album details', links=()),\n",
       "    LinkedString('Peak chart positions', links=())),\n",
       "   (LinkedString('Title', links=()),\n",
       "    LinkedString('Album details', links=()),\n",
       "    LinkedString('AUS', links=((0, 3, 'http://en.wikipedia.org/wiki/Kent_Music_Report'),))))},\n",
       " {'headerId': 7012992624678456719,\n",
       "  'level': 1,\n",
       "  'colfrom': 2,\n",
       "  'colto': 2,\n",
       "  'heuristic': 'AgentLikeHyperlink',\n",
       "  'headers': ((LinkedString('Year', links=()),\n",
       "    LinkedString('Title', links=()),\n",
       "    LinkedString('Peak chart positions', links=()),\n",
       "    LinkedString('Album', links=())),\n",
       "   (LinkedString('Year', links=()),\n",
       "    LinkedString('Title', links=()),\n",
       "    LinkedString('AUS', links=((0, 3, 'http://en.wikipedia.org/wiki/Kent_Music_Report'),)),\n",
       "    LinkedString('Album', links=())))},\n",
       " {'headerId': 5242965846475097084,\n",
       "  'level': 0,\n",
       "  'colfrom': 0,\n",
       "  'colto': 0,\n",
       "  'heuristic': 'year-suffix',\n",
       "  'headers': ((LinkedString('Chart (2016)', links=()),\n",
       "    LinkedString('Peak position', links=())),)}]"
      ]
     },
     "execution_count": 4,
     "metadata": {},
     "output_type": "execute_result"
    }
   ],
   "source": [
    "# takco.preview(reshaped, ntables=50)\n",
    "[r.provenance['pivot'] for r in list(reshaped)[:100] if 'pivot' in r.provenance]"
   ]
  },
  {
   "cell_type": "code",
   "execution_count": null,
   "metadata": {},
   "outputs": [],
   "source": []
  }
 ],
 "metadata": {
  "kernelspec": {
   "display_name": "Python 3",
   "language": "python",
   "name": "python3"
  },
  "language_info": {
   "codemirror_mode": {
    "name": "ipython",
    "version": 3
   },
   "file_extension": ".py",
   "mimetype": "text/x-python",
   "name": "python",
   "nbconvert_exporter": "python",
   "pygments_lexer": "ipython3",
   "version": "3.7.4"
  }
 },
 "nbformat": 4,
 "nbformat_minor": 2
}
