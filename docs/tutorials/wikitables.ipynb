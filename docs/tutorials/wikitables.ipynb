{
 "cells": [
  {
   "cell_type": "code",
   "execution_count": 1,
   "metadata": {
    "scrolled": true
   },
   "outputs": [
    {
     "data": {
      "text/html": [
       "<table style=\"border: 2px solid white;\">\n",
       "<tr>\n",
       "<td style=\"vertical-align: top; border: 0px solid white\">\n",
       "<h3 style=\"text-align: left;\">Client</h3>\n",
       "<ul style=\"text-align: left; list-style: none; margin: 0; padding: 0;\">\n",
       "  <li><b>Scheduler: </b>tcp://192.168.62.207:8786</li>\n",
       "  <li><b>Dashboard: </b><a href='http://192.168.62.207:8787/status' target='_blank'>http://192.168.62.207:8787/status</a></li>\n",
       "</ul>\n",
       "</td>\n",
       "<td style=\"vertical-align: top; border: 0px solid white\">\n",
       "<h3 style=\"text-align: left;\">Cluster</h3>\n",
       "<ul style=\"text-align: left; list-style:none; margin: 0; padding: 0;\">\n",
       "  <li><b>Workers: </b>10</li>\n",
       "  <li><b>Cores: </b>10</li>\n",
       "  <li><b>Memory: </b>673.47 GB</li>\n",
       "</ul>\n",
       "</td>\n",
       "</tr>\n",
       "</table>"
      ],
      "text/plain": [
       "<Client: 'tcp://192.168.62.207:8786' processes=10 threads=10, memory=673.47 GB>"
      ]
     },
     "execution_count": 1,
     "metadata": {},
     "output_type": "execute_result"
    }
   ],
   "source": [
    "%%capture --no-display\n",
    "from dask.distributed import Client\n",
    "client = Client(address = 'tcp://192.168.62.207:8786')\n",
    "client"
   ]
  },
  {
   "cell_type": "code",
   "execution_count": 2,
   "metadata": {},
   "outputs": [
    {
     "name": "stdout",
     "output_type": "stream",
     "text": [
      "CPU times: user 5.73 s, sys: 497 ms, total: 6.23 s\n",
      "Wall time: 8.73 s\n"
     ]
    },
    {
     "data": {
      "text/plain": [
       "1103"
      ]
     },
     "execution_count": 2,
     "metadata": {},
     "output_type": "execute_result"
    }
   ],
   "source": [
    "%%time\n",
    "import dask.bag as db\n",
    "from takco.util import robust_json_loads_lines\n",
    "fnames = 'hdfs://bricks07:9000/user/kruit/wikidump-tables/0*.jsonl'\n",
    "fnames = 'hdfs://bricks07:9000/user/kruit/wikidump-tables-25pct/*.jsonl'\n",
    "fnames = 'hdfs://bricks07:9000/user/kruit/output/wikidump-25pct/4-coltypes/00*.jsonl'\n",
    "bag = db.read_text(fnames).map_partitions(robust_json_loads_lines).persist()\n",
    "bag.count().compute()"
   ]
  },
  {
   "cell_type": "code",
   "execution_count": 9,
   "metadata": {},
   "outputs": [
    {
     "data": {
      "text/plain": [
       "[(5081,\n",
       "  [['_pgTitle',\n",
       "    'Pos',\n",
       "    'Team',\n",
       "    'Pld',\n",
       "    'W',\n",
       "    'D',\n",
       "    'L',\n",
       "    'GF',\n",
       "    'GA',\n",
       "    'GD',\n",
       "    'Pts']]),\n",
       " (716, [['_pgTitle', 'Title', 'Role', 'Network', '_Variable', '_Value']]),\n",
       " (636,\n",
       "  [['_pgTitle', 'Round', 'Pick', 'Player', 'Position', 'College', 'Notes']]),\n",
       " (257, [['_pgTitle', 'Team', 'GP', 'W', 'L', 'T', 'PF', 'PA', 'Pts']]),\n",
       " (254, [['_pgTitle', '', 'Pos', 'Driver', 'Points']]),\n",
       " (240, [['_pgTitle', 'Chart (1996)', 'Position']]),\n",
       " (235,\n",
       "  [['_pgTitle',\n",
       "    'Organization',\n",
       "    'Award',\n",
       "    'Result',\n",
       "    'Ref.',\n",
       "    '_Variable',\n",
       "    '_Value']]),\n",
       " (220,\n",
       "  [['_pgTitle',\n",
       "    'Rank',\n",
       "    'Name',\n",
       "    'Nationality',\n",
       "    'Lane',\n",
       "    'Reaction Time',\n",
       "    'Time',\n",
       "    'Notes']]),\n",
       " (192,\n",
       "  [['_pgTitle',\n",
       "    'Title',\n",
       "    'Album details',\n",
       "    'Sales',\n",
       "    '_Variable',\n",
       "    'Peak chart positions'],\n",
       "   ['_pgTitle', '', '', '', '', 'KOR']]),\n",
       " (190, [['_pgTitle', 'Region', 'Date', 'Format', 'Version', 'Label', 'Ref.']])]"
      ]
     },
     "execution_count": 9,
     "metadata": {},
     "output_type": "execute_result"
    }
   ],
   "source": [
    "def get_header(t):\n",
    "    return (\n",
    "        t.get('numTables'), \n",
    "        [[c.get('text') for c in r] for r in t.get('tableHeaders')]\n",
    "    )\n",
    "headers = sorted(bag.map(get_header).compute())[::-1]\n",
    "headers[:10]"
   ]
  },
  {
   "cell_type": "code",
   "execution_count": null,
   "metadata": {},
   "outputs": [],
   "source": []
  }
 ],
 "metadata": {
  "kernelspec": {
   "display_name": "Python 3",
   "language": "python",
   "name": "python3"
  },
  "language_info": {
   "codemirror_mode": {
    "name": "ipython",
    "version": 3
   },
   "file_extension": ".py",
   "mimetype": "text/x-python",
   "name": "python",
   "nbconvert_exporter": "python",
   "pygments_lexer": "ipython3",
   "version": "3.7.4"
  }
 },
 "nbformat": 4,
 "nbformat_minor": 2
}
