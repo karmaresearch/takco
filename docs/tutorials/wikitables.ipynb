{
 "cells": [
  {
   "cell_type": "code",
   "execution_count": 1,
   "metadata": {
    "scrolled": true
   },
   "outputs": [
    {
     "data": {
      "text/html": [
       "<table style=\"border: 2px solid white;\">\n",
       "<tr>\n",
       "<td style=\"vertical-align: top; border: 0px solid white\">\n",
       "<h3 style=\"text-align: left;\">Client</h3>\n",
       "<ul style=\"text-align: left; list-style: none; margin: 0; padding: 0;\">\n",
       "  <li><b>Scheduler: </b>tcp://192.168.62.207:8786</li>\n",
       "  <li><b>Dashboard: </b><a href='http://192.168.62.207:8787/status' target='_blank'>http://192.168.62.207:8787/status</a></li>\n",
       "</ul>\n",
       "</td>\n",
       "<td style=\"vertical-align: top; border: 0px solid white\">\n",
       "<h3 style=\"text-align: left;\">Cluster</h3>\n",
       "<ul style=\"text-align: left; list-style:none; margin: 0; padding: 0;\">\n",
       "  <li><b>Workers: </b>10</li>\n",
       "  <li><b>Cores: </b>10</li>\n",
       "  <li><b>Memory: </b>673.47 GB</li>\n",
       "</ul>\n",
       "</td>\n",
       "</tr>\n",
       "</table>"
      ],
      "text/plain": [
       "<Client: 'tcp://192.168.62.207:8786' processes=10 threads=10, memory=673.47 GB>"
      ]
     },
     "execution_count": 1,
     "metadata": {},
     "output_type": "execute_result"
    }
   ],
   "source": [
    "%%capture --no-display\n",
    "from dask.distributed import Client\n",
    "client = Client(address = 'tcp://192.168.62.207:8786')\n",
    "client"
   ]
  },
  {
   "cell_type": "code",
   "execution_count": 20,
   "metadata": {},
   "outputs": [
    {
     "name": "stdout",
     "output_type": "stream",
     "text": [
      "CPU times: user 3.98 s, sys: 144 ms, total: 4.12 s\n",
      "Wall time: 5.31 s\n"
     ]
    },
    {
     "data": {
      "text/plain": [
       "2691"
      ]
     },
     "execution_count": 20,
     "metadata": {},
     "output_type": "execute_result"
    }
   ],
   "source": [
    "%%time\n",
    "import dask.bag as db\n",
    "from takco.util import robust_json_loads_lines\n",
    "fnames = 'hdfs://bricks07:9000/user/kruit/wikidump-tables/0000*.jsonl'\n",
    "bag = db.read_text(fnames).map_partitions(robust_json_loads_lines).persist()\n",
    "bag.count().compute()"
   ]
  },
  {
   "cell_type": "code",
   "execution_count": 19,
   "metadata": {},
   "outputs": [
    {
     "data": {
      "text/html": [
       "<style  type=\"text/css\" >\n",
       "    #T_a48c2022_3bcd_11eb_a0c5_00259091f1e8 .col_heading.level0 {\n",
       "          display: none;\n",
       "    }</style><table id=\"T_a48c2022_3bcd_11eb_a0c5_00259091f1e8\" ><thead>    <tr>        <th class=\"blank level0\" ></th>        <th class=\"col_heading level0 col0\" >0</th>        <th class=\"col_heading level0 col1\" >1</th>        <th class=\"col_heading level0 col2\" >2</th>    </tr>    <tr>        <th class=\"blank level1\" ></th>        <th class=\"col_heading level1 col0\" ><a href=\"http://en.wikipedia.org/wiki/United_States_House_of_Representatives\">U.S. House of Representatives</a></th>        <th class=\"col_heading level1 col1\" ><a href=\"http://en.wikipedia.org/wiki/United_States_House_of_Representatives\">U.S. House of Representatives</a></th>        <th class=\"col_heading level1 col2\" ><a href=\"http://en.wikipedia.org/wiki/United_States_House_of_Representatives\">U.S. House of Representatives</a></th>    </tr></thead><tbody>\n",
       "                <tr>\n",
       "                        <th id=\"T_a48c2022_3bcd_11eb_a0c5_00259091f1e8level0_row0\" class=\"row_heading level0 row0\" >0</th>\n",
       "                        <td id=\"T_a48c2022_3bcd_11eb_a0c5_00259091f1e8row0_col0\" class=\"data row0 col0\" >Preceded by <a href=\"http://en.wikipedia.org/wiki/Walter_Fauntroy\">Walter Fauntroy</a></td>\n",
       "                        <td id=\"T_a48c2022_3bcd_11eb_a0c5_00259091f1e8row0_col1\" class=\"data row0 col1\" >Delegate to the U.S. House of Representatives from the <a href=\"http://en.wikipedia.org/wiki/District_of_Columbia's_at-large_congressional_district\">District of Columbia's at-large congressional district</a> 1991–present</td>\n",
       "                        <td id=\"T_a48c2022_3bcd_11eb_a0c5_00259091f1e8row0_col2\" class=\"data row0 col2\" >Incumbent</td>\n",
       "            </tr>\n",
       "    </tbody></table>"
      ],
      "text/plain": [
       "  U.S. House of Representatives  \\\n",
       "0   Preceded by Walter Fauntroy   \n",
       "\n",
       "                       U.S. House of Representatives  \\\n",
       "0  Delegate to the U.S. House of Representatives ...   \n",
       "\n",
       "  U.S. House of Representatives  \n",
       "0                     Incumbent  "
      ]
     },
     "execution_count": 19,
     "metadata": {},
     "output_type": "execute_result"
    }
   ],
   "source": []
  },
  {
   "cell_type": "code",
   "execution_count": null,
   "metadata": {},
   "outputs": [],
   "source": []
  }
 ],
 "metadata": {
  "kernelspec": {
   "display_name": "Python 3",
   "language": "python",
   "name": "python3"
  },
  "language_info": {
   "codemirror_mode": {
    "name": "ipython",
    "version": 3
   },
   "file_extension": ".py",
   "mimetype": "text/x-python",
   "name": "python",
   "nbconvert_exporter": "python",
   "pygments_lexer": "ipython3",
   "version": "3.7.4"
  }
 },
 "nbformat": 4,
 "nbformat_minor": 2
}
