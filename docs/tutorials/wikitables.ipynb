{
 "cells": [
  {
   "cell_type": "code",
   "execution_count": 1,
   "metadata": {
    "scrolled": true
   },
   "outputs": [
    {
     "data": {
      "text/html": [
       "<table style=\"border: 2px solid white;\">\n",
       "<tr>\n",
       "<td style=\"vertical-align: top; border: 0px solid white\">\n",
       "<h3 style=\"text-align: left;\">Client</h3>\n",
       "<ul style=\"text-align: left; list-style: none; margin: 0; padding: 0;\">\n",
       "  <li><b>Scheduler: </b>tcp://192.168.62.207:8786</li>\n",
       "  <li><b>Dashboard: </b><a href='http://192.168.62.207:8787/status' target='_blank'>http://192.168.62.207:8787/status</a></li>\n",
       "</ul>\n",
       "</td>\n",
       "<td style=\"vertical-align: top; border: 0px solid white\">\n",
       "<h3 style=\"text-align: left;\">Cluster</h3>\n",
       "<ul style=\"text-align: left; list-style:none; margin: 0; padding: 0;\">\n",
       "  <li><b>Workers: </b>10</li>\n",
       "  <li><b>Cores: </b>10</li>\n",
       "  <li><b>Memory: </b>673.47 GB</li>\n",
       "</ul>\n",
       "</td>\n",
       "</tr>\n",
       "</table>"
      ],
      "text/plain": [
       "<Client: 'tcp://192.168.62.207:8786' processes=10 threads=10, memory=673.47 GB>"
      ]
     },
     "execution_count": 1,
     "metadata": {},
     "output_type": "execute_result"
    }
   ],
   "source": [
    "%%capture --no-display\n",
    "from dask.distributed import Client\n",
    "client = Client(address = 'tcp://192.168.62.207:8786')\n",
    "client"
   ]
  },
  {
   "cell_type": "code",
   "execution_count": 2,
   "metadata": {},
   "outputs": [
    {
     "data": {
      "text/plain": [
       "1800"
      ]
     },
     "execution_count": 2,
     "metadata": {},
     "output_type": "execute_result"
    }
   ],
   "source": [
    "import takco\n",
    "fnames = 'hdfs://bricks07:9000/user/kruit/wikidump-tables/0100*.jsonl'\n",
    "tables = takco.DaskHashBag(client=client).load(fnames).persist()\n",
    "tables.bag.count().compute()"
   ]
  },
  {
   "cell_type": "code",
   "execution_count": 3,
   "metadata": {
    "scrolled": false
   },
   "outputs": [
    {
     "data": {
      "text/plain": [
       "1229"
      ]
     },
     "execution_count": 3,
     "metadata": {},
     "output_type": "execute_result"
    }
   ],
   "source": [
    "import takco\n",
    "\n",
    "steps = takco.config.build('step', load=['resources/graphs/wikidata.toml','resources/pipelines/wikitables.toml'])\n",
    "prefix_header_rules = steps[0]['prefix_header_rules']\n",
    "unpivot_heuristics = steps[0]['unpivot_heuristics']\n",
    "\n",
    "reshaped = takco.TableSet.reshape(\n",
    "    tables,\n",
    "    restructure = True,\n",
    "    prefix_header_rules = prefix_header_rules,\n",
    "    unpivot_heuristics = unpivot_heuristics,\n",
    ").tables.persist()\n",
    "len(reshaped)"
   ]
  },
  {
   "cell_type": "code",
   "execution_count": 4,
   "metadata": {},
   "outputs": [
    {
     "name": "stdout",
     "output_type": "stream",
     "text": [
      "Top unpivoted headers:\n",
      "  15 0                                        (sports-round)\n",
      "  13 1                                        (NumSuffix)\n",
      "  13 2                                        (NumSuffix)\n",
      "  13 3                                        (NumSuffix)\n",
      "  13 4                                        (NumSuffix)\n",
      "  13 5                                        (NumSuffix)\n",
      "  13 6                                        (NumSuffix)\n",
      "  13 7                                        (NumSuffix)\n",
      "  13 8                                        (NumSuffix)\n",
      "  13 9                                        (NumSuffix)\n",
      "  12 AR                                       (AgentLikeHyperlink)\n",
      "  12 ER                                       (AgentLikeHyperlink)\n",
      "  12 GR                                       (AgentLikeHyperlink)\n",
      "  12 MR                                       (AgentLikeHyperlink)\n",
      "  12 SHBG                                     (AgentLikeHyperlink)\n",
      "  11 US                                       (AgentLikeHyperlink)\n",
      "  10 0                                        (NumSuffix)\n",
      "  10 2006                                     (NumSuffix)\n",
      "  10 2011                                     (NumSuffix)\n",
      "  10 Regular Season                           (SpannedRepeat)\n",
      "  10 Postseason                               (SpannedRepeat)\n",
      "   9 ALA-LC                                   (AgentLikeHyperlink)\n",
      "   9 Zide                                     (AgentLikeHyperlink)\n",
      "   9 Deva.                                    (AgentLikeHyperlink)\n",
      "   9 Beng.                                    (AgentLikeHyperlink)\n",
      "   9 Odia                                     (AgentLikeHyperlink)\n",
      "   9 AUS                                      (AgentLikeHyperlink)\n",
      "   9 US                                       (short-uppercase-acronyms)\n",
      "   9 AUS                                      (short-uppercase-acronyms)\n",
      "   9 AUT                                      (short-uppercase-acronyms)\n",
      "   9 CAN                                      (short-uppercase-acronyms)\n",
      "   9 GER                                      (short-uppercase-acronyms)\n",
      "   9 NLD                                      (short-uppercase-acronyms)\n",
      "   9 NZ                                       (short-uppercase-acronyms)\n",
      "   9 SWI                                      (short-uppercase-acronyms)\n",
      "   9 UK                                       (short-uppercase-acronyms)\n",
      "   8 Chart (2016)                             (year-suffix)\n",
      "   8 Total                                    (SpannedRepeat)\n",
      "   7 Catalonia                                (SpannedRepeat)\n",
      "   7 Chart (2000)                             (year-suffix)\n",
      "   7 US                                       (AgentLikeHyperlink)\n",
      "   6 census 1991                              (NumSuffix)\n",
      "   6 census 2013                              (NumSuffix)\n",
      "   6 Population (2020)                        (SpannedRepeat)\n",
      "   6 Despicable Me                            (NumSuffix)\n",
      "   6 Despicable Me 2                          (NumSuffix)\n",
      "   6 Despicable Me 3                          (NumSuffix)\n",
      "   6 League                                   (SpannedRepeat)\n",
      "   6 CAN                                      (AgentLikeHyperlink)\n",
      "   6 UK                                       (AgentLikeHyperlink)\n"
     ]
    }
   ],
   "source": [
    "from collections import Counter\n",
    "def get_pivoted_cells(ts):\n",
    "    cells = []\n",
    "    for t in ts:\n",
    "        if 'pivot' in t.provenance:\n",
    "            pivot = t.provenance['pivot']\n",
    "            for cell in pivot['headers'][pivot['level']][pivot['colfrom']:pivot['colto']+1]:\n",
    "                cells.append( (cell, pivot['heuristic']) )\n",
    "    return cells\n",
    "\n",
    "unpivoted_freq = reshaped.bag.map_partitions(get_pivoted_cells).frequencies().compute()\n",
    "print(f\"Top unpivoted headers:\")\n",
    "for (cell, heuristic), freq in Counter(dict(unpivoted_freq)).most_common(50):\n",
    "    print(f\"{freq:4d} {cell:<40s} ({heuristic})\")"
   ]
  },
  {
   "cell_type": "code",
   "execution_count": 9,
   "metadata": {},
   "outputs": [
    {
     "data": {
      "text/plain": [
       "477"
      ]
     },
     "execution_count": 9,
     "metadata": {},
     "output_type": "execute_result"
    }
   ],
   "source": [
    "headclustered = takco.TableSet.cluster(\n",
    "    reshaped,\n",
    "    addcontext = ['pgTitle'],\n",
    "    headerunions = True\n",
    ").tables.persist()\n",
    "len(headclustered)"
   ]
  }
 ],
 "metadata": {
  "kernelspec": {
   "display_name": "Python 3",
   "language": "python",
   "name": "python3"
  },
  "language_info": {
   "codemirror_mode": {
    "name": "ipython",
    "version": 3
   },
   "file_extension": ".py",
   "mimetype": "text/x-python",
   "name": "python",
   "nbconvert_exporter": "python",
   "pygments_lexer": "ipython3",
   "version": "3.7.4"
  }
 },
 "nbformat": 4,
 "nbformat_minor": 2
}
