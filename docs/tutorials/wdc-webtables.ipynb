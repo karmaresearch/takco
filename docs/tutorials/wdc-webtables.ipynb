{
 "cells": [
  {
   "cell_type": "code",
   "execution_count": 34,
   "metadata": {},
   "outputs": [
    {
     "name": "stderr",
     "output_type": "stream",
     "text": [
      "100%|██████████| 16710167/16710167 [01:12<00:00, 228970.92it/s]"
     ]
    },
    {
     "name": "stdout",
     "output_type": "stream",
     "text": [
      "True\n"
     ]
    },
    {
     "name": "stderr",
     "output_type": "stream",
     "text": [
      "\n"
     ]
    }
   ],
   "source": [
    "from pybloomfilter import BloomFilter\n",
    "import tqdm\n",
    "import urllib\n",
    "fname = '../../data/kb/dbpedia_t2ksubset/all_surfaceforms.txt'\n",
    "bloom = '../../data/kb/dbpedia_t2ksubset/all_surfaceforms.5pct.bloom'\n",
    "size = 16710167\n",
    "bf = BloomFilter(size, 0.05, bloom)\n",
    "with open(fname) as f:\n",
    "    for li, word in enumerate(tqdm.tqdm(f, total=size)):\n",
    "        if '%' in word:\n",
    "            word = urllib.parse.unquote(word).lower()\n",
    "        bf.add(word.rstrip())\n",
    "\n",
    "print('apple' in bf)"
   ]
  },
  {
   "cell_type": "code",
   "execution_count": 7,
   "metadata": {},
   "outputs": [
    {
     "data": {
      "text/html": [
       "<table style=\"border: 2px solid white;\">\n",
       "<tr>\n",
       "<td style=\"vertical-align: top; border: 0px solid white\">\n",
       "<h3 style=\"text-align: left;\">Client</h3>\n",
       "<ul style=\"text-align: left; list-style: none; margin: 0; padding: 0;\">\n",
       "  <li><b>Scheduler: </b>tcp://127.0.0.1:34529</li>\n",
       "  <li><b>Dashboard: </b><a href='http://127.0.0.1:8687/status' target='_blank'>http://127.0.0.1:8687/status</a></li>\n",
       "</ul>\n",
       "</td>\n",
       "<td style=\"vertical-align: top; border: 0px solid white\">\n",
       "<h3 style=\"text-align: left;\">Cluster</h3>\n",
       "<ul style=\"text-align: left; list-style:none; margin: 0; padding: 0;\">\n",
       "  <li><b>Workers: </b>8</li>\n",
       "  <li><b>Cores: </b>32</li>\n",
       "  <li><b>Memory: </b>270.45 GB</li>\n",
       "</ul>\n",
       "</td>\n",
       "</tr>\n",
       "</table>"
      ],
      "text/plain": [
       "<Client: 'tcp://127.0.0.1:34529' processes=8 threads=32, memory=270.45 GB>"
      ]
     },
     "execution_count": 7,
     "metadata": {},
     "output_type": "execute_result"
    }
   ],
   "source": [
    "from dask.distributed import Client\n",
    "# Client(address = 'tcp://192.168.62.207:8686')\n",
    "Client(dashboard_address = ':8687')"
   ]
  },
  {
   "cell_type": "code",
   "execution_count": 2,
   "metadata": {},
   "outputs": [
    {
     "name": "stdout",
     "output_type": "stream",
     "text": [
      "CPU times: user 5.71 s, sys: 536 ms, total: 6.25 s\n",
      "Wall time: 23min 9s\n"
     ]
    },
    {
     "data": {
      "text/plain": [
       "50732925"
      ]
     },
     "execution_count": 2,
     "metadata": {},
     "output_type": "execute_result"
    }
   ],
   "source": [
    "%%time\n",
    "import dask.bag as db\n",
    "db.read_text('/bigstore/kruit/webtables/englishCorpus_2015-07_jsons/*.gz').count().compute()"
   ]
  },
  {
   "cell_type": "code",
   "execution_count": 8,
   "metadata": {},
   "outputs": [
    {
     "name": "stdout",
     "output_type": "stream",
     "text": [
      "CPU times: user 5min 56s, sys: 52.7 s, total: 6min 49s\n",
      "Wall time: 18min 17s\n"
     ]
    },
    {
     "data": {
      "text/plain": [
       "50732925"
      ]
     },
     "execution_count": 8,
     "metadata": {},
     "output_type": "execute_result"
    }
   ],
   "source": [
    "%%time\n",
    "import dask.bag as db\n",
    "db.read_avro('/bigstore/kruit/webtables/englishCorpus_2015-07_avros/*.avro', blocksize=None).count().compute()"
   ]
  },
  {
   "cell_type": "code",
   "execution_count": null,
   "metadata": {},
   "outputs": [],
   "source": []
  }
 ],
 "metadata": {
  "kernelspec": {
   "display_name": "Python 3",
   "language": "python",
   "name": "python3"
  },
  "language_info": {
   "codemirror_mode": {
    "name": "ipython",
    "version": 3
   },
   "file_extension": ".py",
   "mimetype": "text/x-python",
   "name": "python",
   "nbconvert_exporter": "python",
   "pygments_lexer": "ipython3",
   "version": "3.7.4"
  }
 },
 "nbformat": 4,
 "nbformat_minor": 4
}
