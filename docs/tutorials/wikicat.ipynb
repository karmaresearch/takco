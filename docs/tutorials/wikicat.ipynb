{
 "cells": [
  {
   "cell_type": "code",
   "execution_count": 1,
   "metadata": {},
   "outputs": [],
   "source": [
    "topics = [\n",
    "    'Business', 'Culture', 'Economy', 'Education', 'Energy', \n",
    "    'Engineering', 'Entertainment', 'Ethics', 'Events', 'Food and drink', 'Geography', \n",
    "    'Government', 'Health', 'History', 'Human nature', 'Humanities', 'Industry', \n",
    "    'Knowledge', 'Language', 'Law', 'Life', 'Mass media', 'Mathematics', 'Military', \n",
    "    'Music', 'Nature', 'Organizations', 'People', 'Philosophy', 'Policy', 'Politics', \n",
    "    'Religion', 'Science and technology', 'Society', 'Sports', 'Universe', 'World'\n",
    "]"
   ]
  },
  {
   "cell_type": "code",
   "execution_count": 2,
   "metadata": {
    "scrolled": false
   },
   "outputs": [
    {
     "name": "stdout",
     "output_type": "stream",
     "text": [
      "                      Business:   454 subcats,    73164 articles\n",
      "                       Culture:   886 subcats,   404422 articles\n",
      "                       Economy:   352 subcats,    54204 articles\n",
      "                     Education:   523 subcats,    50648 articles\n",
      "                        Energy:   441 subcats,    18630 articles\n",
      "                   Engineering:   195 subcats,    38870 articles\n",
      "                 Entertainment:   981 subcats,   132142 articles\n",
      "                        Ethics:   245 subcats,    38774 articles\n",
      "                        Events:   789 subcats,    51487 articles\n",
      "                Food_and_drink:   647 subcats,    41434 articles\n",
      "                     Geography:   246 subcats,    44074 articles\n",
      "                    Government:  1064 subcats,   141264 articles\n",
      "                        Health:   587 subcats,   112370 articles\n",
      "                       History:   516 subcats,    85833 articles\n",
      "                  Human_nature:   127 subcats,  1040093 articles\n",
      "                    Humanities:   773 subcats,   164416 articles\n",
      "                      Industry:   504 subcats,    45565 articles\n",
      "                     Knowledge:   222 subcats,    38935 articles\n",
      "                      Language:   339 subcats,    48625 articles\n",
      "                           Law:   421 subcats,    53521 articles\n",
      "                          Life:   204 subcats,    69236 articles\n",
      "                    Mass_media:   698 subcats,   211310 articles\n",
      "                   Mathematics:   208 subcats,    30739 articles\n",
      "                      Military:   624 subcats,    59929 articles\n",
      "                         Music:   558 subcats,    80424 articles\n",
      "                        Nature:   263 subcats,    46753 articles\n",
      "                 Organizations:   387 subcats,    73520 articles\n",
      "                        People:  1059 subcats,  1264659 articles\n",
      "                    Philosophy:   297 subcats,    38872 articles\n",
      "                        Policy:   333 subcats,    61033 articles\n",
      "                      Politics:   543 subcats,    80611 articles\n",
      "                      Religion:   459 subcats,    39902 articles\n",
      "        Science_and_technology:   161 subcats,    42470 articles\n",
      "                       Society:   949 subcats,   187633 articles\n",
      "                        Sports:   838 subcats,    76740 articles\n",
      "                      Universe:    54 subcats,    11963 articles\n",
      "                         World:   182 subcats,    30954 articles\n",
      "CPU times: user 1.59 s, sys: 584 ms, total: 2.17 s\n",
      "Wall time: 4.11 s\n"
     ]
    }
   ],
   "source": [
    "%%time\n",
    "import urllib.parse as ul\n",
    "import trident\n",
    "g = trident.Db('/scratch/kruit/kb/dbpedia_20201001/categories.tridentdb')\n",
    "\n",
    "topic_subcats = {}\n",
    "topic_articles = {}\n",
    "for topic in topics:\n",
    "    topic = topic.replace(\" \",\"_\")\n",
    "    c = g.lookup_id(f'<http://dbpedia.org/resource/Category:{topic}>')\n",
    "    if not c:\n",
    "        continue\n",
    "        \n",
    "    br = g.lookup_id('<http://www.w3.org/2004/02/skos/core#broader>')\n",
    "    subj = g.lookup_id('<http://purl.org/dc/terms/subject>')\n",
    "\n",
    "    arts = set()\n",
    "    cats = set([c])\n",
    "    arts.update(g.s(subj, c))\n",
    "    for c2 in g.s(br, c):\n",
    "        arts.update(g.s(subj, c2))\n",
    "        cats.add(c2)\n",
    "        for c3 in g.s(br, c2):\n",
    "            if c3 not in cats:\n",
    "                arts.update(g.s(subj, c3))\n",
    "                cats.add(c3)\n",
    "                for c4 in g.s(br, c3):\n",
    "                    if c4 not in cats:\n",
    "                        arts.update(g.s(subj, c4))\n",
    "    \n",
    "    topic_subcats[topic] = cats\n",
    "    topic_articles[topic] = arts\n",
    "    print(f\"{topic:>30s}: {len(cats):5d} subcats, {len(arts):8d} articles\")"
   ]
  },
  {
   "cell_type": "code",
   "execution_count": 5,
   "metadata": {},
   "outputs": [
    {
     "data": {
      "text/html": [
       "<table style=\"border: 2px solid white;\">\n",
       "<tr>\n",
       "<td style=\"vertical-align: top; border: 0px solid white\">\n",
       "<h3 style=\"text-align: left;\">Client</h3>\n",
       "<ul style=\"text-align: left; list-style: none; margin: 0; padding: 0;\">\n",
       "  <li><b>Scheduler: </b>tcp://192.168.62.207:8786</li>\n",
       "  <li><b>Dashboard: </b><a href='http://192.168.62.207:8787/status' target='_blank'>http://192.168.62.207:8787/status</a></li>\n",
       "</ul>\n",
       "</td>\n",
       "<td style=\"vertical-align: top; border: 0px solid white\">\n",
       "<h3 style=\"text-align: left;\">Cluster</h3>\n",
       "<ul style=\"text-align: left; list-style:none; margin: 0; padding: 0;\">\n",
       "  <li><b>Workers: </b>10</li>\n",
       "  <li><b>Cores: </b>10</li>\n",
       "  <li><b>Memory: </b>673.47 GB</li>\n",
       "</ul>\n",
       "</td>\n",
       "</tr>\n",
       "</table>"
      ],
      "text/plain": [
       "<Client: 'tcp://192.168.62.207:8786' processes=10 threads=10, memory=673.47 GB>"
      ]
     },
     "execution_count": 5,
     "metadata": {},
     "output_type": "execute_result"
    }
   ],
   "source": [
    "%%capture --no-display\n",
    "from dask.distributed import Client\n",
    "client = Client(address = 'tcp://192.168.62.207:8786')\n",
    "client"
   ]
  },
  {
   "cell_type": "code",
   "execution_count": 6,
   "metadata": {},
   "outputs": [
    {
     "data": {
      "text/plain": [
       "16778"
      ]
     },
     "execution_count": 6,
     "metadata": {},
     "output_type": "execute_result"
    }
   ],
   "source": [
    "import dask.bag as db\n",
    "import json\n",
    "bag = db.read_text(f'hdfs://bricks07:9000/user/kruit/output/tabel-small/9-triples/*').map(json.loads).persist()\n",
    "bag.count().compute()"
   ]
  },
  {
   "cell_type": "code",
   "execution_count": 12,
   "metadata": {},
   "outputs": [
    {
     "name": "stdout",
     "output_type": "stream",
     "text": [
      "3026 Year\n",
      "1827 Name\n",
      "1664 Title\n",
      "1372 Notes\n",
      "1352 Team\n",
      "1304 Date\n",
      "1001 Rank\n",
      " 878 #\n",
      " 823 Result\n",
      " 775 Event\n"
     ]
    }
   ],
   "source": [
    "# Top header cells\n",
    "\n",
    "from collections import Counter\n",
    "\n",
    "def frequencies(bag, func):\n",
    "    extract = bag.map_partitions(lambda ts: [x for t in ts for x in func(t)] )\n",
    "    return Counter(dict(extract.frequencies().compute()))\n",
    "\n",
    "\n",
    "def get_header_cells(t):\n",
    "    for hr in t.get('tableHeaders'):\n",
    "        for c in hr:\n",
    "            text = c.get('text', '').strip()\n",
    "            if text and text[0] != '_':\n",
    "                yield text\n",
    "\n",
    "for cell, count in frequencies(bag, get_header_cells).most_common(10):\n",
    "    print(f\"{count:>4d} {cell}\")"
   ]
  },
  {
   "cell_type": "code",
   "execution_count": 26,
   "metadata": {},
   "outputs": [],
   "source": [
    "import trident\n",
    "g = trident.Db('/export/scratch1/home/kruit/20200713-prop-skos')\n",
    "plabel = g.lookup_id('<http://www.w3.org/2004/02/skos/core#prefLabel>')\n",
    "def label(uri):\n",
    "    i = g.lookup_id(f\"<{uri}>\")\n",
    "    if i:\n",
    "        for li in g.o(i, plabel):\n",
    "            l = g.lookup_str(li).strip()\n",
    "            if l.endswith('@en'):\n",
    "                return l[1:-4]"
   ]
  },
  {
   "cell_type": "code",
   "execution_count": 30,
   "metadata": {},
   "outputs": [
    {
     "name": "stdout",
     "output_type": "stream",
     "text": [
      "25085 XMLSchema#string \n",
      "21535 XMLSchema#decimal \n",
      "11567 XMLSchema#dateTime \n",
      "8903 Q215627 person\n",
      "8843 Q5 human\n",
      "8843 Q164509 omnivore\n",
      "8843 Q154954 natural person\n",
      "7423 Q17442446 Wikimedia internal item\n",
      "7404 Q12139612 list\n",
      "7239 Q15633587 MediaWiki main-namespace page\n"
     ]
    }
   ],
   "source": [
    "# Top classes\n",
    "from collections import Counter\n",
    "\n",
    "def get_coltypes(t):\n",
    "    for _, cs in t.get('classes', {}).items():\n",
    "        for c, score in cs.items():\n",
    "            yield c\n",
    "\n",
    "for cls, count in frequencies(bag, get_coltypes).most_common(10):\n",
    "    l = cls.split('/')[-1] + \" \" + (label(cls) or '')\n",
    "    print(f\"{count:>6d} {l}\")"
   ]
  },
  {
   "cell_type": "code",
   "execution_count": 29,
   "metadata": {},
   "outputs": [],
   "source": [
    "wikiprops = '/export/scratch1/home/kruit/nary/data/kb/wikidata/wikidata-properties.txt'\n",
    "puri_name = {\n",
    "    l.split(' ', 1)[0]: l \n",
    "    for l in map(str.strip, open(wikiprops))\n",
    "}"
   ]
  },
  {
   "cell_type": "code",
   "execution_count": 31,
   "metadata": {},
   "outputs": [
    {
     "name": "stdout",
     "output_type": "stream",
     "text": [
      "1065 P54 member of sports team\n",
      " 957 P17 country\n",
      " 942 P131 located in the administrative territorial entity\n",
      " 857 P1346 winner\n",
      " 852 P175 performer\n",
      " 594 P27 country of citizenship\n",
      " 591 P361 part of\n",
      " 546 P102 member of political party\n",
      " 543 P161 cast member\n",
      " 490 P527 has part\n"
     ]
    }
   ],
   "source": [
    "# Top classes\n",
    "from collections import Counter\n",
    "\n",
    "def get_props(t):\n",
    "    for _, cps in t.get('properties', {}).items():\n",
    "        for _, ps in cps.items():\n",
    "            for p, score in ps.items():\n",
    "                yield p\n",
    "\n",
    "for prp, count in frequencies(bag, get_props).most_common(10):\n",
    "    prp = prp.split('/')[-1]\n",
    "    l = puri_name.get(prp, prp)\n",
    "    print(f\"{count:>6d} {l}\")"
   ]
  },
  {
   "cell_type": "code",
   "execution_count": 45,
   "metadata": {},
   "outputs": [
    {
     "name": "stdout",
     "output_type": "stream",
     "text": [
      "columnIndexOffset tableIndex _id numCols numDataRows numHeaderRows numericColumns order pgId pgTitle sectionTitle tableCaption tableHeaders tableId tableCaptions wasStackedHor headerId links rows tbNr type numTables pivots entities classes keycol properties triples\n",
      "[[{'text': '_pgTitle', 'surfaceLinks': []}, {'cellID': -1, 'textTokens': [], 'text': 'No.', 'tdHtmlString': '<th colspan=\"1\" rowspan=\"1\" scope=\"col\"> No. </th>', 'surfaceLinks': [], 'subtableID': -1, 'isNumeric': False}, {'cellID': -1, 'textTokens': [], 'text': 'Date', 'tdHtmlString': '<th colspan=\"1\" rowspan=\"1\" scope=\"col\"> Date </th>', 'surfaceLinks': [], 'subtableID': -1, 'isNumeric': False}, {'cellID': -1, 'textTokens': [], 'text': 'Opponents', 'tdHtmlString': '<th colspan=\"1\" rowspan=\"1\" scope=\"col\"> Opponents </th>', 'surfaceLinks': [], 'subtableID': -1, 'isNumeric': False}, {'cellID': -1, 'textTokens': [], 'text': 'Venue', 'tdHtmlString': '<th colspan=\"1\" rowspan=\"1\" scope=\"col\"> Venue </th>', 'surfaceLinks': [], 'subtableID': -1, 'isNumeric': False}, {'cellID': -1, 'textTokens': [], 'text': 'Result', 'tdHtmlString': '<th colspan=\"1\" rowspan=\"1\" scope=\"col\"> Result </th>', 'surfaceLinks': [], 'subtableID': -1, 'isNumeric': False}]]\n"
     ]
    }
   ],
   "source": [
    "def filter_tables(ts, articles):\n",
    "    \n",
    "    for t in ts:\n",
    "        pass\n",
    "        \n",
    "        \n",
    "import trident\n",
    "catdb = trident.Db('/scratch/kruit/kb/dbpedia_20201001/categories.tridentdb')\n",
    "def get_article_titles(arts):\n",
    "    for a in arts:\n",
    "        yield catdb.lookup_str(a)[1:-1].replace('http://dbpedia.org/resource/', '')\n",
    "\n",
    "# for topic, articles in sorted(topic_articles.items(), key=lambda ta: len(ta[1]))[:1]:\n",
    "#     set(get_article_titles(list(articles)[:10])\n",
    "\n",
    "for t in bag.take(1):\n",
    "    print(*t)\n",
    "    print(t['tableHeaders'])"
   ]
  },
  {
   "cell_type": "code",
   "execution_count": null,
   "metadata": {},
   "outputs": [],
   "source": []
  }
 ],
 "metadata": {
  "kernelspec": {
   "display_name": "Python 3",
   "language": "python",
   "name": "python3"
  },
  "language_info": {
   "codemirror_mode": {
    "name": "ipython",
    "version": 3
   },
   "file_extension": ".py",
   "mimetype": "text/x-python",
   "name": "python",
   "nbconvert_exporter": "python",
   "pygments_lexer": "ipython3",
   "version": "3.7.4"
  }
 },
 "nbformat": 4,
 "nbformat_minor": 2
}
