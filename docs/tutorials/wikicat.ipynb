{
 "cells": [
  {
   "cell_type": "code",
   "execution_count": 1,
   "metadata": {},
   "outputs": [],
   "source": [
    "import pandas as pd\n",
    "topics = [\n",
    "    'Business', 'Culture', 'Economy', 'Education', 'Energy', \n",
    "    'Engineering', 'Entertainment', 'Events', 'Food and drink', 'Geography', \n",
    "    'Government', 'Health', 'History', 'Human nature', 'Humanities', 'Industry', \n",
    "    'Language', 'Law', 'Life', 'Mass media', 'Mathematics', 'Military', \n",
    "    'Music', 'Nature', 'Organizations', 'People', 'Policy', 'Politics', \n",
    "    'Religion', 'Science and technology', 'Society', 'Sports', 'Universe', 'World'\n",
    "]"
   ]
  },
  {
   "cell_type": "code",
   "execution_count": 2,
   "metadata": {
    "scrolled": false
   },
   "outputs": [
    {
     "name": "stdout",
     "output_type": "stream",
     "text": [
      "                      Business:   454 subcats,    73164 articles\n",
      "                       Culture:   886 subcats,   404422 articles\n",
      "                       Economy:   352 subcats,    54204 articles\n",
      "                     Education:   523 subcats,    50648 articles\n",
      "                        Energy:   441 subcats,    18630 articles\n",
      "                   Engineering:   195 subcats,    38870 articles\n",
      "                 Entertainment:   981 subcats,   132142 articles\n",
      "                        Ethics:   245 subcats,    38774 articles\n",
      "                        Events:   789 subcats,    51487 articles\n",
      "                Food_and_drink:   647 subcats,    41434 articles\n",
      "                     Geography:   246 subcats,    44074 articles\n",
      "                    Government:  1064 subcats,   141264 articles\n",
      "                        Health:   587 subcats,   112370 articles\n",
      "                       History:   516 subcats,    85833 articles\n",
      "                  Human_nature:   127 subcats,  1040093 articles\n",
      "                    Humanities:   773 subcats,   164416 articles\n",
      "                      Industry:   504 subcats,    45565 articles\n",
      "                     Knowledge:   222 subcats,    38935 articles\n",
      "                      Language:   339 subcats,    48625 articles\n",
      "                           Law:   421 subcats,    53521 articles\n",
      "                          Life:   204 subcats,    69236 articles\n",
      "                    Mass_media:   698 subcats,   211310 articles\n",
      "                   Mathematics:   208 subcats,    30739 articles\n",
      "                      Military:   624 subcats,    59929 articles\n",
      "                         Music:   558 subcats,    80424 articles\n",
      "                        Nature:   263 subcats,    46753 articles\n",
      "                 Organizations:   387 subcats,    73520 articles\n",
      "                        People:  1059 subcats,  1264659 articles\n",
      "                    Philosophy:   297 subcats,    38872 articles\n",
      "                        Policy:   333 subcats,    61033 articles\n",
      "                      Politics:   543 subcats,    80611 articles\n",
      "                      Religion:   459 subcats,    39902 articles\n",
      "        Science_and_technology:   161 subcats,    42470 articles\n",
      "                       Society:   949 subcats,   187633 articles\n",
      "                        Sports:   838 subcats,    76740 articles\n",
      "                      Universe:    54 subcats,    11963 articles\n",
      "                         World:   182 subcats,    30954 articles\n",
      "CPU times: user 1.13 s, sys: 298 ms, total: 1.42 s\n",
      "Wall time: 1.43 s\n"
     ]
    }
   ],
   "source": [
    "%%time\n",
    "import urllib.parse as ul\n",
    "import trident\n",
    "g = trident.Db('/scratch/kruit/kb/dbpedia_20201001/categories.tridentdb')\n",
    "\n",
    "topic_subcats = {}\n",
    "topic_articles = {}\n",
    "for topic in topics:\n",
    "    topic = topic.replace(\" \",\"_\")\n",
    "    c = g.lookup_id(f'<http://dbpedia.org/resource/Category:{topic}>')\n",
    "    if not c:\n",
    "        continue\n",
    "        \n",
    "    br = g.lookup_id('<http://www.w3.org/2004/02/skos/core#broader>')\n",
    "    subj = g.lookup_id('<http://purl.org/dc/terms/subject>')\n",
    "\n",
    "    arts = set()\n",
    "    cats = set([c])\n",
    "    arts.update(g.s(subj, c))\n",
    "    for c2 in g.s(br, c):\n",
    "        arts.update(g.s(subj, c2))\n",
    "        cats.add(c2)\n",
    "        for c3 in g.s(br, c2):\n",
    "            if c3 not in cats:\n",
    "                arts.update(g.s(subj, c3))\n",
    "                cats.add(c3)\n",
    "                for c4 in g.s(br, c3):\n",
    "                    if c4 not in cats:\n",
    "                        arts.update(g.s(subj, c4))\n",
    "    \n",
    "    topic_subcats[topic] = cats\n",
    "    topic_articles[topic] = arts\n",
    "    print(f\"{topic:>30s}: {len(cats):5d} subcats, {len(arts):8d} articles\")"
   ]
  },
  {
   "cell_type": "code",
   "execution_count": 3,
   "metadata": {},
   "outputs": [
    {
     "data": {
      "text/html": [
       "<table style=\"border: 2px solid white;\">\n",
       "<tr>\n",
       "<td style=\"vertical-align: top; border: 0px solid white\">\n",
       "<h3 style=\"text-align: left;\">Client</h3>\n",
       "<ul style=\"text-align: left; list-style: none; margin: 0; padding: 0;\">\n",
       "  <li><b>Scheduler: </b>tcp://192.168.62.207:8786</li>\n",
       "  <li><b>Dashboard: </b><a href='http://192.168.62.207:8787/status' target='_blank'>http://192.168.62.207:8787/status</a></li>\n",
       "</ul>\n",
       "</td>\n",
       "<td style=\"vertical-align: top; border: 0px solid white\">\n",
       "<h3 style=\"text-align: left;\">Cluster</h3>\n",
       "<ul style=\"text-align: left; list-style:none; margin: 0; padding: 0;\">\n",
       "  <li><b>Workers: </b>10</li>\n",
       "  <li><b>Cores: </b>10</li>\n",
       "  <li><b>Memory: </b>673.47 GB</li>\n",
       "</ul>\n",
       "</td>\n",
       "</tr>\n",
       "</table>"
      ],
      "text/plain": [
       "<Client: 'tcp://192.168.62.207:8786' processes=10 threads=10, memory=673.47 GB>"
      ]
     },
     "execution_count": 3,
     "metadata": {},
     "output_type": "execute_result"
    }
   ],
   "source": [
    "%%capture --no-display\n",
    "from dask.distributed import Client\n",
    "client = Client(address = 'tcp://192.168.62.207:8786')\n",
    "client"
   ]
  },
  {
   "cell_type": "code",
   "execution_count": 4,
   "metadata": {
    "scrolled": false
   },
   "outputs": [
    {
     "data": {
      "text/plain": [
       "4103"
      ]
     },
     "execution_count": 4,
     "metadata": {},
     "output_type": "execute_result"
    }
   ],
   "source": [
    "import dask.bag as db\n",
    "from takco.util import robust_json_loads_lines\n",
    "fnames = 'hdfs:///user/kruit/output/tabel-small-4/9-triples/*'\n",
    "bag = db.read_text(fnames).map_partitions(robust_json_loads_lines).persist()\n",
    "bag.count().compute()"
   ]
  },
  {
   "cell_type": "code",
   "execution_count": 5,
   "metadata": {},
   "outputs": [
    {
     "data": {
      "text/plain": [
       "Year      620\n",
       "Team      420\n",
       "Date      415\n",
       "Name      410\n",
       "Title     348\n",
       "W         333\n",
       "L         328\n",
       "Notes     283\n",
       "Result    248\n",
       "Player    230\n",
       "dtype: int64"
      ]
     },
     "execution_count": 5,
     "metadata": {},
     "output_type": "execute_result"
    }
   ],
   "source": [
    "# Top header cells\n",
    "\n",
    "from collections import Counter\n",
    "\n",
    "def frequencies(bag, func):\n",
    "    extract = bag.map_partitions(lambda ts: [x for t in ts for x in func(t)] )\n",
    "    return Counter(dict(extract.frequencies().compute()))\n",
    "\n",
    "\n",
    "def get_header_cells(t):\n",
    "    for hr in t.get('tableHeaders'):\n",
    "        for c in hr:\n",
    "            text = c.get('text', '').strip()\n",
    "            if text and text[0] != '_':\n",
    "                yield text\n",
    "\n",
    "def top_headers(bag):\n",
    "    return pd.Series(dict(frequencies(bag, get_header_cells).most_common(10)))\n",
    "\n",
    "top_headers(bag)"
   ]
  },
  {
   "cell_type": "code",
   "execution_count": 6,
   "metadata": {},
   "outputs": [],
   "source": [
    "import trident\n",
    "g = trident.Db('/export/scratch1/home/kruit/20200713-prop-skos')\n",
    "plabel = g.lookup_id('<http://www.w3.org/2004/02/skos/core#prefLabel>')\n",
    "def label(uri):\n",
    "    i = g.lookup_id(f\"<{uri}>\")\n",
    "    if i:\n",
    "        for li in g.o(i, plabel):\n",
    "            l = g.lookup_str(li).strip()\n",
    "            if l.endswith('@en'):\n",
    "                return l[1:-4]"
   ]
  },
  {
   "cell_type": "code",
   "execution_count": 7,
   "metadata": {},
   "outputs": [
    {
     "data": {
      "text/plain": [
       "XMLSchema#string             10144\n",
       "XMLSchema#decimal             6769\n",
       "XMLSchema#dateTime            2303\n",
       "Q13406554 sports festival      549\n",
       "Q27020041 sports season        484\n",
       "owl#Thing                      483\n",
       "Q5 human                       478\n",
       "Q215627 person                 478\n",
       "Q164509 omnivore               478\n",
       "Q154954 natural person         478\n",
       "dtype: int64"
      ]
     },
     "execution_count": 7,
     "metadata": {},
     "output_type": "execute_result"
    }
   ],
   "source": [
    "# Top classes\n",
    "from collections import Counter\n",
    "bad = ['Q17442446','Q12139612','Q15633587','Q14204246','Q4167410','Q48522', 'Q11266439', 'Q4167836', 'Q13406463', \n",
    "       'Q21025364', 'Q56248902']\n",
    "\n",
    "def get_coltypes(t):\n",
    "    for _, cs in t.get('classes', {}).items():\n",
    "        for c, score in cs.items():\n",
    "            if not any(c.endswith(b) for b in bad):\n",
    "                yield c\n",
    "\n",
    "ent_name = lambda uri: uri.split('/')[-1] + \" \" + (label(uri) or '')\n",
    "                \n",
    "def top_coltypes(bag):\n",
    "    freqs = frequencies(bag, get_coltypes).most_common(10)\n",
    "    return pd.Series({ent_name(cls): count for cls, count in freqs})\n",
    "\n",
    "top_coltypes(bag)"
   ]
  },
  {
   "cell_type": "code",
   "execution_count": 8,
   "metadata": {},
   "outputs": [],
   "source": [
    "wikiprops = '/export/scratch1/home/kruit/nary/data/kb/wikidata/wikidata-properties.txt'\n",
    "puri_name = {\n",
    "    l.split(' ', 1)[0]: l \n",
    "    for l in map(str.strip, open(wikiprops))\n",
    "}"
   ]
  },
  {
   "cell_type": "code",
   "execution_count": 9,
   "metadata": {},
   "outputs": [
    {
     "data": {
      "text/plain": [
       "P161 cast member                                         37\n",
       "P54 member of sports team                                33\n",
       "P131 located in the administrative territorial entity    27\n",
       "P1346 winner                                             25\n",
       "P1344 participant of                                     21\n",
       "P1923 participating team                                 20\n",
       "P175 performer                                           19\n",
       "P301 category's main topic                               12\n",
       "P57 director                                             11\n",
       "P910 topic's main category                               11\n",
       "dtype: int64"
      ]
     },
     "execution_count": 9,
     "metadata": {},
     "output_type": "execute_result"
    }
   ],
   "source": [
    "# Top classes\n",
    "from collections import Counter\n",
    "\n",
    "def get_props(t):\n",
    "    for _, cps in t.get('properties', {}).items():\n",
    "        for _, ps in cps.items():\n",
    "            for p, score in ps.items():\n",
    "                yield p.split('/')[-1]\n",
    "\n",
    "def top_props(bag):\n",
    "    freqs = frequencies(bag, get_props).most_common(10)\n",
    "    return pd.Series({puri_name.get(prp, prp): count for prp, count in freqs})\n",
    "                \n",
    "top_props(bag)"
   ]
  },
  {
   "cell_type": "code",
   "execution_count": 10,
   "metadata": {},
   "outputs": [
    {
     "data": {
      "text/plain": [
       "1        1568\n",
       "3        1425\n",
       "2        1415\n",
       "4        1383\n",
       "Total    1002\n",
       "5         991\n",
       "7         968\n",
       "6         959\n",
       "Final     946\n",
       "8         939\n",
       "dtype: int64"
      ]
     },
     "execution_count": 10,
     "metadata": {},
     "output_type": "execute_result"
    }
   ],
   "source": [
    "def get_pivots(prov):\n",
    "    if 'pivot' in prov:\n",
    "        yield prov['pivot']\n",
    "    elif 'concat' in prov:\n",
    "        for c in prov['concat']:\n",
    "            yield from get_pivots(c)\n",
    "            \n",
    "def get_table_pivots(t):\n",
    "    for pivot in get_pivots(t.provenance):\n",
    "        yield from pivot['headers'][pivot['level']][pivot['colfrom']:pivot['colto']+1]\n",
    "\n",
    "def top_pivots(bag):\n",
    "    return pd.Series(dict(frequencies(bag, get_table_pivots).most_common(10)))\n",
    "        \n",
    "top_pivots(bag)"
   ]
  },
  {
   "cell_type": "code",
   "execution_count": 11,
   "metadata": {
    "scrolled": false
   },
   "outputs": [
    {
     "name": "stdout",
     "output_type": "stream",
     "text": [
      "Got a total of 25699 pages\n",
      "Universe (11963 articles)\n",
      "11 tables\n",
      "headers\n"
     ]
    },
    {
     "data": {
      "text/plain": [
       "TWh                    4\n",
       "Facility               2\n",
       "Preceded by            1\n",
       "Rank                   1\n",
       "Country/Region         1\n",
       "Date of information    1\n",
       "Capita                 1\n",
       "Prim. energy           1\n",
       "Production             1\n",
       "Export                 1\n",
       "dtype: int64"
      ]
     },
     "metadata": {},
     "output_type": "display_data"
    },
    {
     "name": "stdout",
     "output_type": "stream",
     "text": [
      "coltypes\n"
     ]
    },
    {
     "data": {
      "text/plain": [
       "XMLSchema#string                         25\n",
       "XMLSchema#decimal                        17\n",
       "owl#Thing                                 3\n",
       "XMLSchema#dateTime                        3\n",
       "Q215627 person                            1\n",
       "Q5 human                                  1\n",
       "Q164509 omnivore                          1\n",
       "Q154954 natural person                    1\n",
       "Q21025364 WikiProject                     1\n",
       "Q56248902 Wikimedia community project     1\n",
       "dtype: int64"
      ]
     },
     "metadata": {},
     "output_type": "display_data"
    },
    {
     "name": "stdout",
     "output_type": "stream",
     "text": [
      "props\n"
     ]
    },
    {
     "data": {
      "text/plain": [
       "P155 follows        1\n",
       "P156 followed by    1\n",
       "dtype: int64"
      ]
     },
     "metadata": {},
     "output_type": "display_data"
    },
    {
     "name": "stdout",
     "output_type": "stream",
     "text": [
      "pivots\n"
     ]
    },
    {
     "data": {
      "text/plain": [
       "1                                   6\n",
       "10                                  6\n",
       "100                                 6\n",
       "1 k                                 6\n",
       "10 k                                6\n",
       "100 k                               6\n",
       "HST , GST , or GST + PST/QST (%)    2\n",
       "Oil - consumption ( bbl /day)       1\n",
       "Oil - exports ( bbl /day)           1\n",
       "Oil - imports ( bbl /day)           1\n",
       "dtype: int64"
      ]
     },
     "metadata": {},
     "output_type": "display_data"
    },
    {
     "name": "stdout",
     "output_type": "stream",
     "text": [
      "Energy (18630 articles)\n",
      "12 tables\n",
      "headers\n"
     ]
    },
    {
     "data": {
      "text/plain": [
       "TWh                    4\n",
       "Preceded by            3\n",
       "Facility               2\n",
       "Succeeded by           1\n",
       "Rank                   1\n",
       "Country/Region         1\n",
       "Date of information    1\n",
       "Date                   1\n",
       "Event                  1\n",
       "Capita                 1\n",
       "dtype: int64"
      ]
     },
     "metadata": {},
     "output_type": "display_data"
    },
    {
     "name": "stdout",
     "output_type": "stream",
     "text": [
      "coltypes\n"
     ]
    },
    {
     "data": {
      "text/plain": [
       "XMLSchema#string                         25\n",
       "XMLSchema#decimal                        14\n",
       "Q215627 person                            3\n",
       "Q154954 natural person                    3\n",
       "Q164509 omnivore                          3\n",
       "Q5 human                                  3\n",
       "XMLSchema#dateTime                        3\n",
       "owl#Thing                                 2\n",
       "Q21025364 WikiProject                     1\n",
       "Q56248902 Wikimedia community project     1\n",
       "dtype: int64"
      ]
     },
     "metadata": {},
     "output_type": "display_data"
    },
    {
     "name": "stdout",
     "output_type": "stream",
     "text": [
      "props\n"
     ]
    },
    {
     "data": {
      "text/plain": [
       "P40 child            3\n",
       "P22 father           2\n",
       "P39 position held    1\n",
       "P361 part of         1\n",
       "P155 follows         1\n",
       "P156 followed by     1\n",
       "dtype: int64"
      ]
     },
     "metadata": {},
     "output_type": "display_data"
    },
    {
     "name": "stdout",
     "output_type": "stream",
     "text": [
      "pivots\n"
     ]
    },
    {
     "data": {
      "text/plain": [
       "HST , GST , or GST + PST/QST (%)    2\n",
       "Oil - consumption ( bbl /day)       1\n",
       "Oil - exports ( bbl /day)           1\n",
       "Oil - imports ( bbl /day)           1\n",
       "dtype: int64"
      ]
     },
     "metadata": {},
     "output_type": "display_data"
    },
    {
     "name": "stdout",
     "output_type": "stream",
     "text": [
      "Mathematics (30739 articles)\n",
      "13 tables\n",
      "headers\n"
     ]
    },
    {
     "data": {
      "text/plain": [
       "Name           3\n",
       "DeptName       3\n",
       "1st throw      2\n",
       "2nd throw      2\n",
       "Equation       2\n",
       "Result         2\n",
       "Preceded by    2\n",
       "Year           2\n",
       "in × in        2\n",
       "mm × mm        2\n",
       "dtype: int64"
      ]
     },
     "metadata": {},
     "output_type": "display_data"
    },
    {
     "name": "stdout",
     "output_type": "stream",
     "text": [
      "coltypes\n"
     ]
    },
    {
     "data": {
      "text/plain": [
       "XMLSchema#string             19\n",
       "XMLSchema#decimal            11\n",
       "XMLSchema#dateTime            5\n",
       "owl#Thing                     3\n",
       "Q11410 game                   2\n",
       "Q1150958 play                 2\n",
       "Q17538258 recreative work     2\n",
       "Q173799 entertainment         2\n",
       "Q215627 person                2\n",
       "Q154954 natural person        2\n",
       "dtype: int64"
      ]
     },
     "metadata": {},
     "output_type": "display_data"
    },
    {
     "name": "stdout",
     "output_type": "stream",
     "text": [
      "props\n"
     ]
    },
    {
     "data": {
      "text/plain": [
       "P40 child            2\n",
       "P22 father           1\n",
       "P39 position held    1\n",
       "P361 part of         1\n",
       "P155 follows         1\n",
       "P156 followed by     1\n",
       "dtype: int64"
      ]
     },
     "metadata": {},
     "output_type": "display_data"
    },
    {
     "name": "stdout",
     "output_type": "stream",
     "text": [
      "pivots\n"
     ]
    },
    {
     "data": {
      "text/plain": [
       "2007    13\n",
       "2006    13\n",
       "2005    12\n",
       "2008    11\n",
       "2003     9\n",
       "2010     9\n",
       "2009     9\n",
       "2000     8\n",
       "2001     8\n",
       "2004     8\n",
       "dtype: int64"
      ]
     },
     "metadata": {},
     "output_type": "display_data"
    },
    {
     "name": "stdout",
     "output_type": "stream",
     "text": [
      "World (30954 articles)\n",
      "51 tables\n",
      "headers\n"
     ]
    },
    {
     "data": {
      "text/plain": [
       "Year                  10\n",
       "Event                  6\n",
       "Name                   6\n",
       "Date                   6\n",
       "Rank                   5\n",
       "Season                 3\n",
       "Country                3\n",
       "Principal location     3\n",
       "Location               3\n",
       "Preceded by            2\n",
       "dtype: int64"
      ]
     },
     "metadata": {},
     "output_type": "display_data"
    },
    {
     "name": "stdout",
     "output_type": "stream",
     "text": [
      "coltypes\n"
     ]
    },
    {
     "data": {
      "text/plain": [
       "XMLSchema#string                         112\n",
       "XMLSchema#dateTime                        33\n",
       "XMLSchema#decimal                         26\n",
       "Q215627 person                            13\n",
       "Q154954 natural person                    13\n",
       "Q164509 omnivore                          13\n",
       "Q5 human                                  13\n",
       "owl#Thing                                 12\n",
       "Q21025364 WikiProject                      9\n",
       "Q56248902 Wikimedia community project      9\n",
       "dtype: int64"
      ]
     },
     "metadata": {},
     "output_type": "display_data"
    },
    {
     "name": "stdout",
     "output_type": "stream",
     "text": [
      "props\n"
     ]
    },
    {
     "data": {
      "text/plain": [
       "P361 part of         3\n",
       "P40 child            2\n",
       "P39 position held    2\n",
       "P22 father           1\n",
       "P155 follows         1\n",
       "P156 followed by     1\n",
       "P138 named after     1\n",
       "P161 cast member     1\n",
       "P31 instance of      1\n",
       "P106 occupation      1\n",
       "dtype: int64"
      ]
     },
     "metadata": {},
     "output_type": "display_data"
    },
    {
     "name": "stdout",
     "output_type": "stream",
     "text": [
      "pivots\n"
     ]
    },
    {
     "data": {
      "text/plain": [
       "Total     421\n",
       "1         417\n",
       "3         408\n",
       "2         393\n",
       "4         392\n",
       "Canada     22\n",
       "2007       18\n",
       "2010       18\n",
       "2006       18\n",
       "2008       18\n",
       "dtype: int64"
      ]
     },
     "metadata": {},
     "output_type": "display_data"
    },
    {
     "name": "stdout",
     "output_type": "stream",
     "text": [
      "Ethics (38774 articles)\n",
      "18 tables\n",
      "headers\n"
     ]
    },
    {
     "data": {
      "text/plain": [
       "Year               5\n",
       "Chart              3\n",
       "Preceded by        2\n",
       "Succeeded by       2\n",
       "Country            2\n",
       "Peak position      2\n",
       "Region             1\n",
       "Certification      1\n",
       "Sales/shipments    1\n",
       "Venue              1\n",
       "dtype: int64"
      ]
     },
     "metadata": {},
     "output_type": "display_data"
    },
    {
     "name": "stdout",
     "output_type": "stream",
     "text": [
      "coltypes\n"
     ]
    },
    {
     "data": {
      "text/plain": [
       "XMLSchema#string           46\n",
       "XMLSchema#dateTime          8\n",
       "Q2031291 release            7\n",
       "Q4502142 visual artwork     7\n",
       "XMLSchema#decimal           6\n",
       "Q482994 album               5\n",
       "Q215627 person              3\n",
       "Q154954 natural person      3\n",
       "Q164509 omnivore            3\n",
       "Q5 human                    3\n",
       "dtype: int64"
      ]
     },
     "metadata": {},
     "output_type": "display_data"
    },
    {
     "name": "stdout",
     "output_type": "stream",
     "text": [
      "props\n"
     ]
    },
    {
     "data": {
      "text/plain": [
       "P40 child            3\n",
       "P22 father           2\n",
       "P39 position held    2\n",
       "P161 cast member     2\n",
       "P361 part of         1\n",
       "dtype: int64"
      ]
     },
     "metadata": {},
     "output_type": "display_data"
    },
    {
     "name": "stdout",
     "output_type": "stream",
     "text": [
      "pivots\n"
     ]
    },
    {
     "data": {
      "text/plain": [
       "Chart (2008)    222\n",
       "Chart (2007)     55\n",
       "Chart (2002)     48\n",
       "Chart (2003)     46\n",
       "Chart (2004)     42\n",
       "Chart (1993)     41\n",
       "Chart (1995)     36\n",
       "Chart (2006)     34\n",
       "Chart (1999)     34\n",
       "Chart (2001)     32\n",
       "dtype: int64"
      ]
     },
     "metadata": {},
     "output_type": "display_data"
    },
    {
     "name": "stdout",
     "output_type": "stream",
     "text": [
      "Engineering (38870 articles)\n",
      "19 tables\n",
      "headers\n"
     ]
    },
    {
     "data": {
      "text/plain": [
       "Year                     5\n",
       "Network                  4\n",
       "Play-by-play             4\n",
       "Preceded by              3\n",
       "Description              3\n",
       "Name                     3\n",
       "Date                     2\n",
       "in × in                  2\n",
       "mm × mm                  2\n",
       "Colour commentator(s)    2\n",
       "dtype: int64"
      ]
     },
     "metadata": {},
     "output_type": "display_data"
    },
    {
     "name": "stdout",
     "output_type": "stream",
     "text": [
      "coltypes\n"
     ]
    },
    {
     "data": {
      "text/plain": [
       "XMLSchema#string                   58\n",
       "XMLSchema#decimal                   6\n",
       "XMLSchema#dateTime                  6\n",
       "Q215627 person                      5\n",
       "Q154954 natural person              5\n",
       "Q164509 omnivore                    5\n",
       "Q5 human                            5\n",
       "owl#Thing                           4\n",
       "Q23959932 fixed-order metaclass     2\n",
       "Q24017414 first-order metaclass     2\n",
       "dtype: int64"
      ]
     },
     "metadata": {},
     "output_type": "display_data"
    },
    {
     "name": "stdout",
     "output_type": "stream",
     "text": [
      "props\n"
     ]
    },
    {
     "data": {
      "text/plain": [
       "P40 child             3\n",
       "P22 father            2\n",
       "P2061 aspect ratio    2\n",
       "P39 position held     1\n",
       "P361 part of          1\n",
       "P155 follows          1\n",
       "P156 followed by      1\n",
       "dtype: int64"
      ]
     },
     "metadata": {},
     "output_type": "display_data"
    },
    {
     "name": "stdout",
     "output_type": "stream",
     "text": [
      "pivots\n"
     ]
    },
    {
     "data": {
      "text/plain": [
       "PSIP Short Name       32\n",
       "B series               4\n",
       "In Design Patterns     3\n",
       "In Code Complete       3\n",
       "A series               2\n",
       "C series               2\n",
       "Shiroku ban            2\n",
       "Kiku                   2\n",
       "PSIP short name        2\n",
       "In POSA2               1\n",
       "dtype: int64"
      ]
     },
     "metadata": {},
     "output_type": "display_data"
    },
    {
     "name": "stdout",
     "output_type": "stream",
     "text": [
      "Philosophy (38872 articles)\n",
      "11 tables\n",
      "headers\n"
     ]
    },
    {
     "data": {
      "text/plain": [
       "Preceded by     2\n",
       "Succeeded by    2\n",
       "No.             2\n",
       "Year            2\n",
       "Actor           1\n",
       "Instrument      1\n",
       "Uses            1\n",
       "Latitude        1\n",
       "Longitude       1\n",
       "Diameter        1\n",
       "dtype: int64"
      ]
     },
     "metadata": {},
     "output_type": "display_data"
    },
    {
     "name": "stdout",
     "output_type": "stream",
     "text": [
      "coltypes\n"
     ]
    },
    {
     "data": {
      "text/plain": [
       "XMLSchema#string                      25\n",
       "XMLSchema#dateTime                     6\n",
       "Q215627 person                         3\n",
       "Q154954 natural person                 3\n",
       "Q164509 omnivore                       3\n",
       "Q5 human                               3\n",
       "XMLSchema#decimal                      3\n",
       "Q4502142 visual artwork                2\n",
       "Q11086742 anime television program     2\n",
       "Q581714 animated series                2\n",
       "dtype: int64"
      ]
     },
     "metadata": {},
     "output_type": "display_data"
    },
    {
     "name": "stdout",
     "output_type": "stream",
     "text": [
      "props\n"
     ]
    },
    {
     "data": {
      "text/plain": [
       "P40 child            2\n",
       "P39 position held    2\n",
       "P22 father           1\n",
       "P361 part of         1\n",
       "P155 follows         1\n",
       "P156 followed by     1\n",
       "P279 subclass of     1\n",
       "P138 named after     1\n",
       "dtype: int64"
      ]
     },
     "metadata": {},
     "output_type": "display_data"
    },
    {
     "name": "stdout",
     "output_type": "stream",
     "text": [
      "pivots\n"
     ]
    },
    {
     "data": {
      "text/plain": [
       "Eötvös       1\n",
       "Babcock      1\n",
       "Arnold       1\n",
       "Archytas     1\n",
       "Frost        1\n",
       "Arrhenius    1\n",
       "Avogadro     1\n",
       "Fowler       1\n",
       "Finsen       1\n",
       "Borman       1\n",
       "dtype: int64"
      ]
     },
     "metadata": {},
     "output_type": "display_data"
    },
    {
     "name": "stdout",
     "output_type": "stream",
     "text": [
      "Knowledge (38935 articles)\n",
      "26 tables\n",
      "headers\n"
     ]
    },
    {
     "data": {
      "text/plain": [
       "Notes              4\n",
       "Date               4\n",
       "Name               4\n",
       "Location           4\n",
       "Preceded by        3\n",
       "Year               3\n",
       "Yield              3\n",
       "Code               3\n",
       "PIM application    2\n",
       "Platform(s)        2\n",
       "dtype: int64"
      ]
     },
     "metadata": {},
     "output_type": "display_data"
    },
    {
     "name": "stdout",
     "output_type": "stream",
     "text": [
      "coltypes\n"
     ]
    },
    {
     "data": {
      "text/plain": [
       "XMLSchema#string                                       80\n",
       "XMLSchema#dateTime                                     13\n",
       "XMLSchema#decimal                                       5\n",
       "Q215627 person                                          4\n",
       "Q154954 natural person                                  4\n",
       "Q164509 omnivore                                        4\n",
       "Q5 human                                                4\n",
       "Q17305522 ISO 3166-2 data set of a specific country     4\n",
       "Q1172284 data set                                       4\n",
       "owl#Thing                                               2\n",
       "dtype: int64"
      ]
     },
     "metadata": {},
     "output_type": "display_data"
    },
    {
     "name": "stdout",
     "output_type": "stream",
     "text": [
      "props\n"
     ]
    },
    {
     "data": {
      "text/plain": [
       "P40 child                        3\n",
       "P22 father                       2\n",
       "P39 position held                1\n",
       "P361 part of                     1\n",
       "P155 follows                     1\n",
       "P156 followed by                 1\n",
       "P36 capital                      1\n",
       "P1376 capital of                 1\n",
       "P398 child astronomical body     1\n",
       "P397 parent astronomical body    1\n",
       "dtype: int64"
      ]
     },
     "metadata": {},
     "output_type": "display_data"
    },
    {
     "name": "stdout",
     "output_type": "stream",
     "text": [
      "pivots\n"
     ]
    },
    {
     "data": {
      "text/plain": [
       "Total     421\n",
       "1         417\n",
       "3         408\n",
       "2         393\n",
       "4         392\n",
       "Canada     22\n",
       "Front      17\n",
       "Back       16\n",
       "OT         13\n",
       "Mass       13\n",
       "dtype: int64"
      ]
     },
     "metadata": {},
     "output_type": "display_data"
    },
    {
     "name": "stdout",
     "output_type": "stream",
     "text": [
      "Religion (39902 articles)\n",
      "25 tables\n",
      "headers\n"
     ]
    },
    {
     "data": {
      "text/plain": [
       "Year            14\n",
       "Notes            5\n",
       "Role             5\n",
       "Title            4\n",
       "Preceded by      3\n",
       "Succeeded by     2\n",
       "Abbey            2\n",
       "Type             2\n",
       "Founded          2\n",
       "Location         2\n",
       "dtype: int64"
      ]
     },
     "metadata": {},
     "output_type": "display_data"
    },
    {
     "name": "stdout",
     "output_type": "stream",
     "text": [
      "coltypes\n"
     ]
    },
    {
     "data": {
      "text/plain": [
       "XMLSchema#string           59\n",
       "XMLSchema#dateTime         23\n",
       "Q5 human                   13\n",
       "Q154954 natural person     13\n",
       "Q215627 person             13\n",
       "Q164509 omnivore           13\n",
       "XMLSchema#decimal          12\n",
       "Q2031291 release            5\n",
       "Q482994 album               3\n",
       "Q4502142 visual artwork     3\n",
       "dtype: int64"
      ]
     },
     "metadata": {},
     "output_type": "display_data"
    },
    {
     "name": "stdout",
     "output_type": "stream",
     "text": [
      "props\n"
     ]
    },
    {
     "data": {
      "text/plain": [
       "P161 cast member     5\n",
       "P735 given name      4\n",
       "P40 child            3\n",
       "P22 father           2\n",
       "P39 position held    2\n",
       "P361 part of         1\n",
       "P488 chairperson     1\n",
       "P155 follows         1\n",
       "P156 followed by     1\n",
       "P106 occupation      1\n",
       "dtype: int64"
      ]
     },
     "metadata": {},
     "output_type": "display_data"
    },
    {
     "name": "stdout",
     "output_type": "stream",
     "text": [
      "pivots\n"
     ]
    },
    {
     "data": {
      "text/plain": [
       "Chart (2008)    210\n",
       "RPG             110\n",
       "APG             110\n",
       "PPG             110\n",
       "SPG             108\n",
       "BPG             106\n",
       "Chart (2007)     52\n",
       "Chart (2002)     47\n",
       "Chart (2003)     41\n",
       "Chart (1993)     41\n",
       "dtype: int64"
      ]
     },
     "metadata": {},
     "output_type": "display_data"
    },
    {
     "name": "stdout",
     "output_type": "stream",
     "text": [
      "Food_and_drink (41434 articles)\n",
      "29 tables\n",
      "headers\n"
     ]
    },
    {
     "data": {
      "text/plain": [
       "Description      5\n",
       "Country          4\n",
       "Year             4\n",
       "Name             3\n",
       "Title            3\n",
       "Notes            3\n",
       "Certification    2\n",
       "Preceded by      2\n",
       "Succeeded by     2\n",
       "Date             2\n",
       "dtype: int64"
      ]
     },
     "metadata": {},
     "output_type": "display_data"
    },
    {
     "name": "stdout",
     "output_type": "stream",
     "text": [
      "coltypes\n"
     ]
    },
    {
     "data": {
      "text/plain": [
       "XMLSchema#string          60\n",
       "XMLSchema#decimal         17\n",
       "XMLSchema#dateTime        13\n",
       "owl#Thing                  7\n",
       "Q5 human                   6\n",
       "Q164509 omnivore           6\n",
       "Q154954 natural person     6\n",
       "Q215627 person             6\n",
       "Q2031291 release           5\n",
       "Q134556 single             5\n",
       "dtype: int64"
      ]
     },
     "metadata": {},
     "output_type": "display_data"
    },
    {
     "name": "stdout",
     "output_type": "stream",
     "text": [
      "props\n"
     ]
    },
    {
     "data": {
      "text/plain": [
       "P735 given name             3\n",
       "P40 child                   2\n",
       "P39 position held           2\n",
       "P161 cast member            2\n",
       "P22 father                  1\n",
       "P361 part of                1\n",
       "P927 anatomical location    1\n",
       "P155 follows                1\n",
       "P156 followed by            1\n",
       "P106 occupation             1\n",
       "dtype: int64"
      ]
     },
     "metadata": {},
     "output_type": "display_data"
    },
    {
     "name": "stdout",
     "output_type": "stream",
     "text": [
      "pivots\n"
     ]
    },
    {
     "data": {
      "text/plain": [
       "Chart (2008)    226\n",
       "Chart (1993)     62\n",
       "Chart (2007)     57\n",
       "Chart (2002)     54\n",
       "Chart (2003)     49\n",
       "Chart (2004)     48\n",
       "Chart (1995)     43\n",
       "Chart (1992)     39\n",
       "Chart (1999)     38\n",
       "Chart (1998)     36\n",
       "dtype: int64"
      ]
     },
     "metadata": {},
     "output_type": "display_data"
    },
    {
     "name": "stdout",
     "output_type": "stream",
     "text": [
      "Science_and_technology (42470 articles)\n",
      "25 tables\n",
      "headers\n"
     ]
    },
    {
     "data": {
      "text/plain": [
       "Name           8\n",
       "Year           4\n",
       "Preceded by    3\n",
       "Date           3\n",
       "Description    3\n",
       "Location       3\n",
       "Yield          3\n",
       "DIN            2\n",
       "TITLE          2\n",
       "STATUS         2\n",
       "dtype: int64"
      ]
     },
     "metadata": {},
     "output_type": "display_data"
    },
    {
     "name": "stdout",
     "output_type": "stream",
     "text": [
      "coltypes\n"
     ]
    },
    {
     "data": {
      "text/plain": [
       "XMLSchema#string                             77\n",
       "XMLSchema#dateTime                           11\n",
       "XMLSchema#decimal                             6\n",
       "owl#Thing                                     5\n",
       "Q215627 person                                3\n",
       "Q154954 natural person                        3\n",
       "Q164509 omnivore                              3\n",
       "Q5 human                                      3\n",
       "Q11753321 Wikimedia navigational template     2\n",
       "Q6156112 chronostratigraphic unit             2\n",
       "dtype: int64"
      ]
     },
     "metadata": {},
     "output_type": "display_data"
    },
    {
     "name": "stdout",
     "output_type": "stream",
     "text": [
      "props\n"
     ]
    },
    {
     "data": {
      "text/plain": [
       "P40 child              3\n",
       "P22 father             2\n",
       "P361 part of           2\n",
       "P39 position held      1\n",
       "P166 award received    1\n",
       "P155 follows           1\n",
       "P156 followed by       1\n",
       "P527 has part          1\n",
       "P57 director           1\n",
       "P161 cast member       1\n",
       "dtype: int64"
      ]
     },
     "metadata": {},
     "output_type": "display_data"
    },
    {
     "name": "stdout",
     "output_type": "stream",
     "text": [
      "pivots\n"
     ]
    },
    {
     "data": {
      "text/plain": [
       "Chart (2008)    210\n",
       "Chart (2007)     52\n",
       "Chart (2002)     47\n",
       "Chart (2003)     41\n",
       "Chart (1993)     41\n",
       "Chart (2004)     40\n",
       "Chart (1995)     36\n",
       "Chart (1999)     33\n",
       "Chart (2006)     32\n",
       "Chart (2001)     30\n",
       "dtype: int64"
      ]
     },
     "metadata": {},
     "output_type": "display_data"
    },
    {
     "name": "stdout",
     "output_type": "stream",
     "text": [
      "Geography (44074 articles)\n",
      "62 tables\n",
      "headers\n"
     ]
    },
    {
     "data": {
      "text/plain": [
       "Name             12\n",
       "Year              7\n",
       "Notes             6\n",
       "Serial format     4\n",
       "Rank              4\n",
       "Country           4\n",
       "Code              4\n",
       "Municipality      3\n",
       "First issued      3\n",
       "Design            3\n",
       "dtype: int64"
      ]
     },
     "metadata": {},
     "output_type": "display_data"
    },
    {
     "name": "stdout",
     "output_type": "stream",
     "text": [
      "coltypes\n"
     ]
    },
    {
     "data": {
      "text/plain": [
       "XMLSchema#string                                       148\n",
       "XMLSchema#decimal                                       29\n",
       "XMLSchema#dateTime                                      25\n",
       "owl#Thing                                               18\n",
       "Q21025364 WikiProject                                   10\n",
       "Q56248902 Wikimedia community project                   10\n",
       "Q17305522 ISO 3166-2 data set of a specific country      4\n",
       "Q1172284 data set                                        4\n",
       "Q177634 community                                        3\n",
       "Q486972 human settlement                                 3\n",
       "dtype: int64"
      ]
     },
     "metadata": {},
     "output_type": "display_data"
    },
    {
     "name": "stdout",
     "output_type": "stream",
     "text": [
      "props\n"
     ]
    },
    {
     "data": {
      "text/plain": [
       "P40 child                     3\n",
       "P361 part of                  3\n",
       "P31 instance of               2\n",
       "P22 father                    2\n",
       "P39 position held             1\n",
       "P155 follows                  1\n",
       "P156 followed by              1\n",
       "P527 has part                 1\n",
       "P910 topic's main category    1\n",
       "P301 category's main topic    1\n",
       "dtype: int64"
      ]
     },
     "metadata": {},
     "output_type": "display_data"
    },
    {
     "name": "stdout",
     "output_type": "stream",
     "text": [
      "pivots\n"
     ]
    },
    {
     "data": {
      "text/plain": [
       "Chart (2008)    210\n",
       "Chart (2007)     52\n",
       "Chart (2002)     47\n",
       "Chart (2003)     41\n",
       "Chart (1993)     41\n",
       "Chart (2004)     40\n",
       "Chart (1995)     36\n",
       "Chart (1999)     33\n",
       "Chart (2006)     32\n",
       "Chart (2001)     30\n",
       "dtype: int64"
      ]
     },
     "metadata": {},
     "output_type": "display_data"
    },
    {
     "name": "stdout",
     "output_type": "stream",
     "text": [
      "Industry (45565 articles)\n",
      "24 tables\n",
      "headers\n"
     ]
    },
    {
     "data": {
      "text/plain": [
       "Year            3\n",
       "Description     3\n",
       "Name            3\n",
       "Country         3\n",
       "Preceded by     2\n",
       "Succeeded by    2\n",
       "Notes           2\n",
       "Team            2\n",
       "Overall         2\n",
       "Date            2\n",
       "dtype: int64"
      ]
     },
     "metadata": {},
     "output_type": "display_data"
    },
    {
     "name": "stdout",
     "output_type": "stream",
     "text": [
      "coltypes\n"
     ]
    },
    {
     "data": {
      "text/plain": [
       "XMLSchema#string                         55\n",
       "XMLSchema#dateTime                       11\n",
       "XMLSchema#decimal                        11\n",
       "Q215627 person                            7\n",
       "Q154954 natural person                    7\n",
       "Q164509 omnivore                          7\n",
       "Q5 human                                  7\n",
       "Q21025364 WikiProject                     5\n",
       "Q56248902 Wikimedia community project     5\n",
       "owl#Thing                                 3\n",
       "dtype: int64"
      ]
     },
     "metadata": {},
     "output_type": "display_data"
    },
    {
     "name": "stdout",
     "output_type": "stream",
     "text": [
      "props\n"
     ]
    },
    {
     "data": {
      "text/plain": [
       "P40 child             2\n",
       "P39 position held     2\n",
       "P735 given name       2\n",
       "P22 father            1\n",
       "P361 part of          1\n",
       "P155 follows          1\n",
       "P156 followed by      1\n",
       "P106 occupation       1\n",
       "P161 cast member      1\n",
       "P19 place of birth    1\n",
       "dtype: int64"
      ]
     },
     "metadata": {},
     "output_type": "display_data"
    },
    {
     "name": "stdout",
     "output_type": "stream",
     "text": [
      "pivots\n"
     ]
    },
    {
     "data": {
      "text/plain": [
       "2007    13\n",
       "2006    13\n",
       "2005    12\n",
       "2008    11\n",
       "2003     9\n",
       "2010     9\n",
       "2009     9\n",
       "2000     8\n",
       "2001     8\n",
       "2004     8\n",
       "dtype: int64"
      ]
     },
     "metadata": {},
     "output_type": "display_data"
    },
    {
     "name": "stdout",
     "output_type": "stream",
     "text": [
      "Nature (46753 articles)\n",
      "46 tables\n",
      "headers\n"
     ]
    },
    {
     "data": {
      "text/plain": [
       "Year                 8\n",
       "Country              7\n",
       "Location             6\n",
       "Creature             5\n",
       "Date                 5\n",
       "Name                 5\n",
       "Page                 4\n",
       "Other appearances    4\n",
       "Variants             4\n",
       "TWh                  4\n",
       "dtype: int64"
      ]
     },
     "metadata": {},
     "output_type": "display_data"
    },
    {
     "name": "stdout",
     "output_type": "stream",
     "text": [
      "coltypes\n"
     ]
    },
    {
     "data": {
      "text/plain": [
       "XMLSchema#string                         107\n",
       "XMLSchema#decimal                         37\n",
       "XMLSchema#dateTime                        23\n",
       "owl#Thing                                 10\n",
       "Q56248902 Wikimedia community project      7\n",
       "Q21025364 WikiProject                      7\n",
       "Q2031291 release                           4\n",
       "Q482994 album                              3\n",
       "Q4502142 visual artwork                    3\n",
       "Q215627 person                             2\n",
       "dtype: int64"
      ]
     },
     "metadata": {},
     "output_type": "display_data"
    },
    {
     "name": "stdout",
     "output_type": "stream",
     "text": [
      "props\n"
     ]
    },
    {
     "data": {
      "text/plain": [
       "P40 child            2\n",
       "P361 part of         2\n",
       "P22 father           1\n",
       "P39 position held    1\n",
       "P155 follows         1\n",
       "P156 followed by     1\n",
       "P527 has part        1\n",
       "P137 operator        1\n",
       "dtype: int64"
      ]
     },
     "metadata": {},
     "output_type": "display_data"
    },
    {
     "name": "stdout",
     "output_type": "stream",
     "text": [
      "pivots\n"
     ]
    },
    {
     "data": {
      "text/plain": [
       "Chart (2008)    210\n",
       "Chart (2007)     52\n",
       "Chart (2002)     47\n",
       "Chart (2003)     41\n",
       "Chart (1993)     41\n",
       "Chart (2004)     40\n",
       "Chart (1995)     36\n",
       "Chart (1999)     33\n",
       "Chart (2006)     32\n",
       "Chart (2001)     30\n",
       "dtype: int64"
      ]
     },
     "metadata": {},
     "output_type": "display_data"
    },
    {
     "name": "stdout",
     "output_type": "stream",
     "text": [
      "Language (48625 articles)\n",
      "45 tables\n",
      "headers\n"
     ]
    },
    {
     "data": {
      "text/plain": [
       "Year            7\n",
       "Record          5\n",
       "Word            5\n",
       "Meaning         4\n",
       "Title           4\n",
       "Name            4\n",
       "Network         4\n",
       "Play-by-play    4\n",
       "Preceded by     3\n",
       "Notes           3\n",
       "dtype: int64"
      ]
     },
     "metadata": {},
     "output_type": "display_data"
    },
    {
     "name": "stdout",
     "output_type": "stream",
     "text": [
      "coltypes\n"
     ]
    },
    {
     "data": {
      "text/plain": [
       "XMLSchema#string                         139\n",
       "XMLSchema#decimal                         19\n",
       "owl#Thing                                 14\n",
       "XMLSchema#dateTime                        11\n",
       "Q215627 person                             7\n",
       "Q154954 natural person                     7\n",
       "Q164509 omnivore                           7\n",
       "Q5 human                                   7\n",
       "Q21025364 WikiProject                      3\n",
       "Q56248902 Wikimedia community project      3\n",
       "dtype: int64"
      ]
     },
     "metadata": {},
     "output_type": "display_data"
    },
    {
     "name": "stdout",
     "output_type": "stream",
     "text": [
      "props\n"
     ]
    },
    {
     "data": {
      "text/plain": [
       "P40 child            3\n",
       "P22 father           2\n",
       "P361 part of         2\n",
       "P735 given name      2\n",
       "P161 cast member     2\n",
       "P39 position held    1\n",
       "P155 follows         1\n",
       "P156 followed by     1\n",
       "P106 occupation      1\n",
       "P527 has part        1\n",
       "dtype: int64"
      ]
     },
     "metadata": {},
     "output_type": "display_data"
    },
    {
     "name": "stdout",
     "output_type": "stream",
     "text": [
      "pivots\n"
     ]
    },
    {
     "data": {
      "text/plain": [
       "1         421\n",
       "Total     421\n",
       "3         408\n",
       "2         393\n",
       "4         392\n",
       "Front      23\n",
       "Canada     22\n",
       "Back       22\n",
       "OT         13\n",
       "China      12\n",
       "dtype: int64"
      ]
     },
     "metadata": {},
     "output_type": "display_data"
    },
    {
     "name": "stdout",
     "output_type": "stream",
     "text": [
      "Education (50648 articles)\n",
      "25 tables\n",
      "headers\n"
     ]
    },
    {
     "data": {
      "text/plain": [
       "Year                       7\n",
       "Name                       5\n",
       "Grade Point Equivalence    4\n",
       "Role                       3\n",
       "Equivalence                3\n",
       "Description                3\n",
       "Preceded by                2\n",
       "Title                      2\n",
       "Winner                     2\n",
       "Notes                      2\n",
       "dtype: int64"
      ]
     },
     "metadata": {},
     "output_type": "display_data"
    },
    {
     "name": "stdout",
     "output_type": "stream",
     "text": [
      "coltypes\n"
     ]
    },
    {
     "data": {
      "text/plain": [
       "XMLSchema#string          50\n",
       "XMLSchema#dateTime        18\n",
       "XMLSchema#decimal         10\n",
       "owl#Thing                  7\n",
       "Q215627 person             6\n",
       "Q154954 natural person     6\n",
       "Q164509 omnivore           6\n",
       "Q5 human                   6\n",
       "Q2031291 release           3\n",
       "Q482994 album              2\n",
       "dtype: int64"
      ]
     },
     "metadata": {},
     "output_type": "display_data"
    },
    {
     "name": "stdout",
     "output_type": "stream",
     "text": [
      "props\n"
     ]
    },
    {
     "data": {
      "text/plain": [
       "P735 given name      3\n",
       "P161 cast member     3\n",
       "P40 child            2\n",
       "P106 occupation      2\n",
       "P22 father           1\n",
       "P39 position held    1\n",
       "P361 part of         1\n",
       "P155 follows         1\n",
       "P156 followed by     1\n",
       "P31 instance of      1\n",
       "dtype: int64"
      ]
     },
     "metadata": {},
     "output_type": "display_data"
    },
    {
     "name": "stdout",
     "output_type": "stream",
     "text": [
      "pivots\n"
     ]
    },
    {
     "data": {
      "text/plain": [
       "Chart (1993)    21\n",
       "Chart (2008)    16\n",
       "2007            14\n",
       "2006            14\n",
       "2005            13\n",
       "Chart (1992)    13\n",
       "2008            12\n",
       "2003            10\n",
       "2010             9\n",
       "2004             9\n",
       "dtype: int64"
      ]
     },
     "metadata": {},
     "output_type": "display_data"
    },
    {
     "name": "stdout",
     "output_type": "stream",
     "text": [
      "Events (51487 articles)\n",
      "72 tables\n",
      "headers\n"
     ]
    },
    {
     "data": {
      "text/plain": [
       "Date                        17\n",
       "Country                     13\n",
       "Year                        13\n",
       "Name                         9\n",
       "Team                         8\n",
       "Location                     6\n",
       "Result                       5\n",
       "Eastern Conference v t e     5\n",
       "Notes                        4\n",
       "Killed                       3\n",
       "dtype: int64"
      ]
     },
     "metadata": {},
     "output_type": "display_data"
    },
    {
     "name": "stdout",
     "output_type": "stream",
     "text": [
      "coltypes\n"
     ]
    },
    {
     "data": {
      "text/plain": [
       "XMLSchema#string                         164\n",
       "XMLSchema#decimal                         53\n",
       "XMLSchema#dateTime                        45\n",
       "Q56248902 Wikimedia community project     17\n",
       "Q21025364 WikiProject                     17\n",
       "Q2031291 release                           9\n",
       "Q154954 natural person                     8\n",
       "Q164509 omnivore                           8\n",
       "Q5 human                                   8\n",
       "Q215627 person                             8\n",
       "dtype: int64"
      ]
     },
     "metadata": {},
     "output_type": "display_data"
    },
    {
     "name": "stdout",
     "output_type": "stream",
     "text": [
      "props\n"
     ]
    },
    {
     "data": {
      "text/plain": [
       "P197 adjacent station       3\n",
       "P40 child                   2\n",
       "P39 position held           2\n",
       "P137 operator               2\n",
       "P1923 participating team    2\n",
       "P22 father                  1\n",
       "P361 part of                1\n",
       "P155 follows                1\n",
       "P156 followed by            1\n",
       "P945 allegiance             1\n",
       "dtype: int64"
      ]
     },
     "metadata": {},
     "output_type": "display_data"
    },
    {
     "name": "stdout",
     "output_type": "stream",
     "text": [
      "pivots\n"
     ]
    },
    {
     "data": {
      "text/plain": [
       "National Rail       508\n",
       "Disused railways    394\n",
       "Line                338\n",
       "Chart (2008)        238\n",
       "RPG                 110\n",
       "APG                 110\n",
       "PPG                 110\n",
       "NOR                 109\n",
       "SPG                 109\n",
       "BPG                 106\n",
       "dtype: int64"
      ]
     },
     "metadata": {},
     "output_type": "display_data"
    },
    {
     "name": "stdout",
     "output_type": "stream",
     "text": [
      "Law (53521 articles)\n",
      "46 tables\n",
      "headers\n"
     ]
    },
    {
     "data": {
      "text/plain": [
       "Year       15\n",
       "Date       10\n",
       "Name        8\n",
       "Country     6\n",
       "Party       5\n",
       "Result      5\n",
       "Score       5\n",
       "Notes       5\n",
       "Award       4\n",
       "Reason      4\n",
       "dtype: int64"
      ]
     },
     "metadata": {},
     "output_type": "display_data"
    },
    {
     "name": "stdout",
     "output_type": "stream",
     "text": [
      "coltypes\n"
     ]
    },
    {
     "data": {
      "text/plain": [
       "XMLSchema#string                         135\n",
       "XMLSchema#dateTime                        39\n",
       "XMLSchema#decimal                         38\n",
       "Q215627 person                            18\n",
       "Q154954 natural person                    18\n",
       "Q164509 omnivore                          18\n",
       "Q5 human                                  18\n",
       "owl#Thing                                  9\n",
       "Q56248902 Wikimedia community project      7\n",
       "Q21025364 WikiProject                      7\n",
       "dtype: int64"
      ]
     },
     "metadata": {},
     "output_type": "display_data"
    },
    {
     "name": "stdout",
     "output_type": "stream",
     "text": [
      "props\n"
     ]
    },
    {
     "data": {
      "text/plain": [
       "P40 child            4\n",
       "P161 cast member     4\n",
       "P22 father           3\n",
       "P39 position held    3\n",
       "P735 given name      3\n",
       "P106 occupation      2\n",
       "P175 performer       1\n",
       "P361 part of         1\n",
       "P155 follows         1\n",
       "P156 followed by     1\n",
       "dtype: int64"
      ]
     },
     "metadata": {},
     "output_type": "display_data"
    },
    {
     "name": "stdout",
     "output_type": "stream",
     "text": [
      "pivots\n"
     ]
    },
    {
     "data": {
      "text/plain": [
       "League        117\n",
       "RPG           110\n",
       "APG           110\n",
       "PPG           110\n",
       "SPG           108\n",
       "BPG           106\n",
       "Total          78\n",
       "League Cup     72\n",
       "FA Cup         70\n",
       "Other [A ]     42\n",
       "dtype: int64"
      ]
     },
     "metadata": {},
     "output_type": "display_data"
    },
    {
     "name": "stdout",
     "output_type": "stream",
     "text": [
      "Economy (54204 articles)\n",
      "29 tables\n",
      "headers\n"
     ]
    },
    {
     "data": {
      "text/plain": [
       "Location                6\n",
       "Traction Type           5\n",
       "Date (From)             5\n",
       "Date (To)               5\n",
       "Notes                   5\n",
       "Thresholds per award    4\n",
       "Name of System          3\n",
       "Year                    3\n",
       "Rank                    3\n",
       "Name                    3\n",
       "dtype: int64"
      ]
     },
     "metadata": {},
     "output_type": "display_data"
    },
    {
     "name": "stdout",
     "output_type": "stream",
     "text": [
      "coltypes\n"
     ]
    },
    {
     "data": {
      "text/plain": [
       "XMLSchema#string                         53\n",
       "XMLSchema#dateTime                       25\n",
       "XMLSchema#decimal                        20\n",
       "owl#Thing                                12\n",
       "Q215627 person                            3\n",
       "Q154954 natural person                    3\n",
       "Q164509 omnivore                          3\n",
       "Q5 human                                  3\n",
       "Q21025364 WikiProject                     3\n",
       "Q56248902 Wikimedia community project     3\n",
       "dtype: int64"
      ]
     },
     "metadata": {},
     "output_type": "display_data"
    },
    {
     "name": "stdout",
     "output_type": "stream",
     "text": [
      "props\n"
     ]
    },
    {
     "data": {
      "text/plain": [
       "P40 child            3\n",
       "P22 father           2\n",
       "P361 part of         2\n",
       "P39 position held    1\n",
       "P155 follows         1\n",
       "P156 followed by     1\n",
       "dtype: int64"
      ]
     },
     "metadata": {},
     "output_type": "display_data"
    },
    {
     "name": "stdout",
     "output_type": "stream",
     "text": [
      "pivots\n"
     ]
    },
    {
     "data": {
      "text/plain": [
       "Chart (2008)    210\n",
       "Chart (2007)     52\n",
       "Chart (2002)     47\n",
       "Chart (2003)     41\n",
       "Chart (1993)     41\n",
       "Chart (2004)     40\n",
       "Chart (1995)     36\n",
       "Chart (1999)     33\n",
       "Chart (2006)     32\n",
       "Chart (2001)     30\n",
       "dtype: int64"
      ]
     },
     "metadata": {},
     "output_type": "display_data"
    },
    {
     "name": "stdout",
     "output_type": "stream",
     "text": [
      "Military (59929 articles)\n",
      "53 tables\n",
      "headers\n"
     ]
    },
    {
     "data": {
      "text/plain": [
       "Type              12\n",
       "Notes             11\n",
       "Name              11\n",
       "Origin             8\n",
       "In service         5\n",
       "From               5\n",
       "To                 5\n",
       "Class              4\n",
       "Aircraft           4\n",
       "Term of office     4\n",
       "dtype: int64"
      ]
     },
     "metadata": {},
     "output_type": "display_data"
    },
    {
     "name": "stdout",
     "output_type": "stream",
     "text": [
      "coltypes\n"
     ]
    },
    {
     "data": {
      "text/plain": [
       "XMLSchema#string                         147\n",
       "XMLSchema#dateTime                        33\n",
       "XMLSchema#decimal                         27\n",
       "Q154954 natural person                     7\n",
       "Q164509 omnivore                           7\n",
       "Q5 human                                   7\n",
       "Q215627 person                             7\n",
       "Q56248902 Wikimedia community project      6\n",
       "Q21025364 WikiProject                      6\n",
       "Q6540697 Wikipedia:Books                   5\n",
       "dtype: int64"
      ]
     },
     "metadata": {},
     "output_type": "display_data"
    },
    {
     "name": "stdout",
     "output_type": "stream",
     "text": [
      "props\n"
     ]
    },
    {
     "data": {
      "text/plain": [
       "P40 child                             3\n",
       "P39 position held                     3\n",
       "P22 father                            2\n",
       "P361 part of                          1\n",
       "P31 instance of                       1\n",
       "P155 follows                          1\n",
       "P156 followed by                      1\n",
       "P1308 officeholder                    1\n",
       "P176 manufacturer                     1\n",
       "P1056 product or material produced    1\n",
       "dtype: int64"
      ]
     },
     "metadata": {},
     "output_type": "display_data"
    },
    {
     "name": "stdout",
     "output_type": "stream",
     "text": [
      "pivots\n"
     ]
    },
    {
     "data": {
      "text/plain": [
       "Chart (2008)    210\n",
       "Chart (2007)     52\n",
       "Chart (2002)     47\n",
       "Chart (2003)     41\n",
       "Chart (1993)     41\n",
       "Chart (2004)     40\n",
       "Chart (1995)     36\n",
       "Chart (1999)     33\n",
       "Chart (2006)     32\n",
       "Chart (2001)     30\n",
       "dtype: int64"
      ]
     },
     "metadata": {},
     "output_type": "display_data"
    },
    {
     "name": "stdout",
     "output_type": "stream",
     "text": [
      "Policy (61033 articles)\n",
      "37 tables\n",
      "headers\n"
     ]
    },
    {
     "data": {
      "text/plain": [
       "Name           12\n",
       "Party           6\n",
       "Left Office     4\n",
       "Preceded by     3\n",
       "Notes           3\n",
       "#               3\n",
       "Inaugurated     3\n",
       "Years           2\n",
       "Minister        2\n",
       "Image           2\n",
       "dtype: int64"
      ]
     },
     "metadata": {},
     "output_type": "display_data"
    },
    {
     "name": "stdout",
     "output_type": "stream",
     "text": [
      "coltypes\n"
     ]
    },
    {
     "data": {
      "text/plain": [
       "XMLSchema#string          95\n",
       "XMLSchema#decimal         25\n",
       "XMLSchema#dateTime        23\n",
       "Q4164871 position          8\n",
       "Q214339 role               6\n",
       "owl#Thing                  5\n",
       "Q215627 person             4\n",
       "Q154954 natural person     4\n",
       "Q164509 omnivore           4\n",
       "Q5 human                   4\n",
       "dtype: int64"
      ]
     },
     "metadata": {},
     "output_type": "display_data"
    },
    {
     "name": "stdout",
     "output_type": "stream",
     "text": [
      "props\n"
     ]
    },
    {
     "data": {
      "text/plain": [
       "P39 position held            4\n",
       "P40 child                    3\n",
       "P22 father                   2\n",
       "P361 part of                 2\n",
       "P155 follows                 1\n",
       "P156 followed by             1\n",
       "P279 subclass of             1\n",
       "P54 member of sports team    1\n",
       "dtype: int64"
      ]
     },
     "metadata": {},
     "output_type": "display_data"
    },
    {
     "name": "stdout",
     "output_type": "stream",
     "text": [
      "pivots\n"
     ]
    },
    {
     "data": {
      "text/plain": [
       "+/–                                 25\n",
       "HST , GST , or GST + PST/QST (%)     2\n",
       "dtype: int64"
      ]
     },
     "metadata": {},
     "output_type": "display_data"
    },
    {
     "name": "stdout",
     "output_type": "stream",
     "text": [
      "Life (69236 articles)\n",
      "44 tables\n",
      "headers\n"
     ]
    },
    {
     "data": {
      "text/plain": [
       "Date                 11\n",
       "Year                 11\n",
       "Team                  7\n",
       "Country               6\n",
       "Record                6\n",
       "Creature              5\n",
       "Event                 5\n",
       "Page                  4\n",
       "Other appearances     4\n",
       "Variants              4\n",
       "dtype: int64"
      ]
     },
     "metadata": {},
     "output_type": "display_data"
    },
    {
     "name": "stdout",
     "output_type": "stream",
     "text": [
      "coltypes\n"
     ]
    },
    {
     "data": {
      "text/plain": [
       "XMLSchema#string                         153\n",
       "XMLSchema#decimal                         40\n",
       "XMLSchema#dateTime                        33\n",
       "Q215627 person                            16\n",
       "Q154954 natural person                    16\n",
       "Q164509 omnivore                          16\n",
       "Q5 human                                  16\n",
       "Q56248902 Wikimedia community project      7\n",
       "Q21025364 WikiProject                      7\n",
       "owl#Thing                                  7\n",
       "dtype: int64"
      ]
     },
     "metadata": {},
     "output_type": "display_data"
    },
    {
     "name": "stdout",
     "output_type": "stream",
     "text": [
      "props\n"
     ]
    },
    {
     "data": {
      "text/plain": [
       "P40 child             3\n",
       "P22 father            2\n",
       "P39 position held     2\n",
       "P361 part of          1\n",
       "P155 follows          1\n",
       "P156 followed by      1\n",
       "P19 place of birth    1\n",
       "dtype: int64"
      ]
     },
     "metadata": {},
     "output_type": "display_data"
    },
    {
     "name": "stdout",
     "output_type": "stream",
     "text": [
      "pivots\n"
     ]
    },
    {
     "data": {
      "text/plain": [
       "Chart (2008)    226\n",
       "RPG             110\n",
       "APG             110\n",
       "PPG             110\n",
       "SPG             108\n",
       "BPG             106\n",
       "Chart (1993)     62\n",
       "Chart (2007)     57\n",
       "Chart (2002)     54\n",
       "Chart (2003)     49\n",
       "dtype: int64"
      ]
     },
     "metadata": {},
     "output_type": "display_data"
    },
    {
     "name": "stdout",
     "output_type": "stream",
     "text": [
      "Business (73164 articles)\n",
      "52 tables\n",
      "headers\n"
     ]
    },
    {
     "data": {
      "text/plain": [
       "Year            13\n",
       "Title            6\n",
       "Name             5\n",
       "#                4\n",
       "Party            4\n",
       "Channel          4\n",
       "Play-by-play     4\n",
       "Preceded by      3\n",
       "Team             3\n",
       "Description      3\n",
       "dtype: int64"
      ]
     },
     "metadata": {},
     "output_type": "display_data"
    },
    {
     "name": "stdout",
     "output_type": "stream",
     "text": [
      "coltypes\n"
     ]
    },
    {
     "data": {
      "text/plain": [
       "XMLSchema#string                         116\n",
       "XMLSchema#decimal                         39\n",
       "XMLSchema#dateTime                        26\n",
       "Q215627 person                            12\n",
       "Q154954 natural person                    12\n",
       "Q164509 omnivore                          12\n",
       "Q5 human                                  12\n",
       "owl#Thing                                  9\n",
       "Q21025364 WikiProject                      7\n",
       "Q56248902 Wikimedia community project      7\n",
       "dtype: int64"
      ]
     },
     "metadata": {},
     "output_type": "display_data"
    },
    {
     "name": "stdout",
     "output_type": "stream",
     "text": [
      "props\n"
     ]
    },
    {
     "data": {
      "text/plain": [
       "P40 child             3\n",
       "P22 father            2\n",
       "P361 part of          2\n",
       "P735 given name       2\n",
       "P39 position held     1\n",
       "P155 follows          1\n",
       "P156 followed by      1\n",
       "P106 occupation       1\n",
       "P161 cast member      1\n",
       "P19 place of birth    1\n",
       "dtype: int64"
      ]
     },
     "metadata": {},
     "output_type": "display_data"
    },
    {
     "name": "stdout",
     "output_type": "stream",
     "text": [
      "pivots\n"
     ]
    },
    {
     "data": {
      "text/plain": [
       "2007    13\n",
       "2006    13\n",
       "2005    12\n",
       "2008    11\n",
       "2000     9\n",
       "2003     9\n",
       "2010     9\n",
       "2009     9\n",
       "2001     8\n",
       "2004     8\n",
       "dtype: int64"
      ]
     },
     "metadata": {},
     "output_type": "display_data"
    },
    {
     "name": "stdout",
     "output_type": "stream",
     "text": [
      "Organizations (73520 articles)\n",
      "70 tables\n",
      "headers\n"
     ]
    },
    {
     "data": {
      "text/plain": [
       "Year              17\n",
       "Name              12\n",
       "Country            6\n",
       "Type               4\n",
       "Location           4\n",
       "Notes              4\n",
       "Term of office     4\n",
       "Album              4\n",
       "Description        3\n",
       "MEPs               3\n",
       "dtype: int64"
      ]
     },
     "metadata": {},
     "output_type": "display_data"
    },
    {
     "name": "stdout",
     "output_type": "stream",
     "text": [
      "coltypes\n"
     ]
    },
    {
     "data": {
      "text/plain": [
       "XMLSchema#string                         162\n",
       "XMLSchema#decimal                         45\n",
       "XMLSchema#dateTime                        41\n",
       "owl#Thing                                 11\n",
       "Q215627 person                            10\n",
       "Q154954 natural person                    10\n",
       "Q164509 omnivore                          10\n",
       "Q5 human                                  10\n",
       "Q21025364 WikiProject                     10\n",
       "Q56248902 Wikimedia community project     10\n",
       "dtype: int64"
      ]
     },
     "metadata": {},
     "output_type": "display_data"
    },
    {
     "name": "stdout",
     "output_type": "stream",
     "text": [
      "props\n"
     ]
    },
    {
     "data": {
      "text/plain": [
       "P39 position held                     4\n",
       "P40 child                             2\n",
       "P361 part of                          2\n",
       "P106 occupation                       2\n",
       "P735 given name                       2\n",
       "P161 cast member                      2\n",
       "P931 place served by transport hub    2\n",
       "P22 father                            1\n",
       "P155 follows                          1\n",
       "P156 followed by                      1\n",
       "dtype: int64"
      ]
     },
     "metadata": {},
     "output_type": "display_data"
    },
    {
     "name": "stdout",
     "output_type": "stream",
     "text": [
      "pivots\n"
     ]
    },
    {
     "data": {
      "text/plain": [
       "1     108\n",
       "5      83\n",
       "4      79\n",
       "2      78\n",
       "6      77\n",
       "7      73\n",
       "9      69\n",
       "8      60\n",
       "3      60\n",
       "US     49\n",
       "dtype: int64"
      ]
     },
     "metadata": {},
     "output_type": "display_data"
    },
    {
     "name": "stdout",
     "output_type": "stream",
     "text": [
      "Sports (76740 articles)\n",
      "237 tables\n",
      "headers\n"
     ]
    },
    {
     "data": {
      "text/plain": [
       "Year        63\n",
       "Date        40\n",
       "Team        39\n",
       "Event       30\n",
       "Name        24\n",
       "Season      23\n",
       "Score       21\n",
       "Goals       19\n",
       "Position    17\n",
       "Apps        17\n",
       "dtype: int64"
      ]
     },
     "metadata": {},
     "output_type": "display_data"
    },
    {
     "name": "stdout",
     "output_type": "stream",
     "text": [
      "coltypes\n"
     ]
    },
    {
     "data": {
      "text/plain": [
       "XMLSchema#string                         608\n",
       "XMLSchema#decimal                        292\n",
       "XMLSchema#dateTime                       166\n",
       "Q5 human                                  78\n",
       "Q154954 natural person                    78\n",
       "Q164509 omnivore                          78\n",
       "Q215627 person                            78\n",
       "Q13406554 sports festival                 47\n",
       "Q21025364 WikiProject                     47\n",
       "Q56248902 Wikimedia community project     47\n",
       "dtype: int64"
      ]
     },
     "metadata": {},
     "output_type": "display_data"
    },
    {
     "name": "stdout",
     "output_type": "stream",
     "text": [
      "props\n"
     ]
    },
    {
     "data": {
      "text/plain": [
       "P54 member of sports team    7\n",
       "P1344 participant of         3\n",
       "P161 cast member             3\n",
       "P40 child                    3\n",
       "P735 given name              3\n",
       "P22 father                   2\n",
       "P136 genre                   2\n",
       "P1923 participating team     2\n",
       "P39 position held            1\n",
       "P361 part of                 1\n",
       "dtype: int64"
      ]
     },
     "metadata": {},
     "output_type": "display_data"
    },
    {
     "name": "stdout",
     "output_type": "stream",
     "text": [
      "pivots\n"
     ]
    },
    {
     "data": {
      "text/plain": [
       "Total           722\n",
       "1               635\n",
       "2               581\n",
       "3               578\n",
       "4               567\n",
       "League          312\n",
       "Chart (2008)    210\n",
       "5               179\n",
       "6               173\n",
       "7               169\n",
       "dtype: int64"
      ]
     },
     "metadata": {},
     "output_type": "display_data"
    },
    {
     "name": "stdout",
     "output_type": "stream",
     "text": [
      "Music (80424 articles)\n",
      "265 tables\n",
      "headers\n"
     ]
    },
    {
     "data": {
      "text/plain": [
       "Year                    131\n",
       "Title                    64\n",
       "Album                    50\n",
       "Peak chart positions     36\n",
       "Peak position            30\n",
       "Country                  23\n",
       "Date                     21\n",
       "Album details            20\n",
       "Result                   19\n",
       "Award                    16\n",
       "dtype: int64"
      ]
     },
     "metadata": {},
     "output_type": "display_data"
    },
    {
     "name": "stdout",
     "output_type": "stream",
     "text": [
      "coltypes\n"
     ]
    },
    {
     "data": {
      "text/plain": [
       "XMLSchema#string                     524\n",
       "XMLSchema#dateTime                   195\n",
       "XMLSchema#decimal                    137\n",
       "Q2031291 release                      88\n",
       "Q273057 discography                   71\n",
       "Q1631107 bibliography                 70\n",
       "Q7725310 series of creative works     70\n",
       "Q2668072 collection                   69\n",
       "Q17489659 group of works              69\n",
       "Q482994 album                         59\n",
       "dtype: int64"
      ]
     },
     "metadata": {},
     "output_type": "display_data"
    },
    {
     "name": "stdout",
     "output_type": "stream",
     "text": [
      "props\n"
     ]
    },
    {
     "data": {
      "text/plain": [
       "P175 performer         15\n",
       "P161 cast member        7\n",
       "P361 part of            5\n",
       "P735 given name         4\n",
       "P40 child               3\n",
       "P264 record label       3\n",
       "P22 father              2\n",
       "P166 award received     2\n",
       "P156 followed by        2\n",
       "P155 follows            2\n",
       "dtype: int64"
      ]
     },
     "metadata": {},
     "output_type": "display_data"
    },
    {
     "name": "stdout",
     "output_type": "stream",
     "text": [
      "pivots\n"
     ]
    },
    {
     "data": {
      "text/plain": [
       "US              394\n",
       "UK              265\n",
       "US Country      265\n",
       "Chart (2008)    238\n",
       "CAN             148\n",
       "AUS             142\n",
       "GER             140\n",
       "NZ              118\n",
       "CAN Country     116\n",
       "SWI             102\n",
       "dtype: int64"
      ]
     },
     "metadata": {},
     "output_type": "display_data"
    },
    {
     "name": "stdout",
     "output_type": "stream",
     "text": [
      "Politics (80611 articles)\n",
      "69 tables\n",
      "headers\n"
     ]
    },
    {
     "data": {
      "text/plain": [
       "Year             13\n",
       "Name             10\n",
       "Party             8\n",
       "Notes             7\n",
       "Country           5\n",
       "Role              5\n",
       "Chart             5\n",
       "Peak position     5\n",
       "Date              5\n",
       "Result            5\n",
       "dtype: int64"
      ]
     },
     "metadata": {},
     "output_type": "display_data"
    },
    {
     "name": "stdout",
     "output_type": "stream",
     "text": [
      "coltypes\n"
     ]
    },
    {
     "data": {
      "text/plain": [
       "XMLSchema#string          152\n",
       "XMLSchema#dateTime         50\n",
       "XMLSchema#decimal          39\n",
       "Q2031291 release           14\n",
       "Q5 human                   13\n",
       "Q164509 omnivore           13\n",
       "Q215627 person             13\n",
       "Q154954 natural person     13\n",
       "Q134556 single             10\n",
       "owl#Thing                   9\n",
       "dtype: int64"
      ]
     },
     "metadata": {},
     "output_type": "display_data"
    },
    {
     "name": "stdout",
     "output_type": "stream",
     "text": [
      "props\n"
     ]
    },
    {
     "data": {
      "text/plain": [
       "P161 cast member                  6\n",
       "P39 position held                 5\n",
       "P40 child                         3\n",
       "P735 given name                   3\n",
       "P22 father                        2\n",
       "P361 part of                      1\n",
       "P102 member of political party    1\n",
       "P155 follows                      1\n",
       "P156 followed by                  1\n",
       "P106 occupation                   1\n",
       "dtype: int64"
      ]
     },
     "metadata": {},
     "output_type": "display_data"
    },
    {
     "name": "stdout",
     "output_type": "stream",
     "text": [
      "pivots\n"
     ]
    },
    {
     "data": {
      "text/plain": [
       "Total           427\n",
       "1               423\n",
       "3               408\n",
       "2               393\n",
       "4               392\n",
       "Chart (2008)    226\n",
       "Chart (1993)     62\n",
       "Chart (2007)     57\n",
       "Chart (2002)     54\n",
       "Chart (2003)     49\n",
       "dtype: int64"
      ]
     },
     "metadata": {},
     "output_type": "display_data"
    },
    {
     "name": "stdout",
     "output_type": "stream",
     "text": [
      "History (85833 articles)\n",
      "71 tables\n",
      "headers\n"
     ]
    },
    {
     "data": {
      "text/plain": [
       "Name            15\n",
       "Date            11\n",
       "Country          9\n",
       "Year             9\n",
       "Notes            6\n",
       "Title            4\n",
       "Highest rank     4\n",
       "Reason           4\n",
       "Party            4\n",
       "Location         4\n",
       "dtype: int64"
      ]
     },
     "metadata": {},
     "output_type": "display_data"
    },
    {
     "name": "stdout",
     "output_type": "stream",
     "text": [
      "coltypes\n"
     ]
    },
    {
     "data": {
      "text/plain": [
       "XMLSchema#string                         178\n",
       "XMLSchema#dateTime                        52\n",
       "XMLSchema#decimal                         47\n",
       "Q215627 person                            14\n",
       "Q154954 natural person                    14\n",
       "Q164509 omnivore                          14\n",
       "Q5 human                                  14\n",
       "owl#Thing                                 12\n",
       "Q56248902 Wikimedia community project     10\n",
       "Q21025364 WikiProject                     10\n",
       "dtype: int64"
      ]
     },
     "metadata": {},
     "output_type": "display_data"
    },
    {
     "name": "stdout",
     "output_type": "stream",
     "text": [
      "props\n"
     ]
    },
    {
     "data": {
      "text/plain": [
       "P40 child            4\n",
       "P22 father           3\n",
       "P161 cast member     3\n",
       "P39 position held    2\n",
       "P361 part of         2\n",
       "P735 given name      2\n",
       "P155 follows         1\n",
       "P156 followed by     1\n",
       "P106 occupation      1\n",
       "P97 noble title      1\n",
       "dtype: int64"
      ]
     },
     "metadata": {},
     "output_type": "display_data"
    },
    {
     "name": "stdout",
     "output_type": "stream",
     "text": [
      "pivots\n"
     ]
    },
    {
     "data": {
      "text/plain": [
       "Chart (2008)    226\n",
       "Chart (1993)     62\n",
       "Chart (2007)     57\n",
       "Chart (2002)     54\n",
       "Chart (2003)     49\n",
       "Chart (2004)     48\n",
       "Chart (1995)     43\n",
       "Chart (1992)     39\n",
       "Chart (1999)     38\n",
       "Chart (1998)     36\n",
       "dtype: int64"
      ]
     },
     "metadata": {},
     "output_type": "display_data"
    },
    {
     "name": "stdout",
     "output_type": "stream",
     "text": [
      "Health (112370 articles)\n",
      "89 tables\n",
      "headers\n"
     ]
    },
    {
     "data": {
      "text/plain": [
       "Year       35\n",
       "Date       13\n",
       "Country     8\n",
       "Team        8\n",
       "Award       7\n",
       "Result      7\n",
       "Title       7\n",
       "Notes       7\n",
       "Role        6\n",
       "Name        6\n",
       "dtype: int64"
      ]
     },
     "metadata": {},
     "output_type": "display_data"
    },
    {
     "name": "stdout",
     "output_type": "stream",
     "text": [
      "coltypes\n"
     ]
    },
    {
     "data": {
      "text/plain": [
       "XMLSchema#string          241\n",
       "XMLSchema#decimal          80\n",
       "XMLSchema#dateTime         65\n",
       "Q5 human                   38\n",
       "Q154954 natural person     38\n",
       "Q164509 omnivore           38\n",
       "Q215627 person             38\n",
       "owl#Thing                  16\n",
       "Q2031291 release           14\n",
       "Q21025364 WikiProject      14\n",
       "dtype: int64"
      ]
     },
     "metadata": {},
     "output_type": "display_data"
    },
    {
     "name": "stdout",
     "output_type": "stream",
     "text": [
      "props\n"
     ]
    },
    {
     "data": {
      "text/plain": [
       "P161 cast member         5\n",
       "P175 performer           4\n",
       "P735 given name          4\n",
       "P40 child                3\n",
       "P197 adjacent station    3\n",
       "P22 father               2\n",
       "P39 position held        2\n",
       "P361 part of             2\n",
       "P137 operator            2\n",
       "P106 occupation          2\n",
       "dtype: int64"
      ]
     },
     "metadata": {},
     "output_type": "display_data"
    },
    {
     "name": "stdout",
     "output_type": "stream",
     "text": [
      "pivots\n"
     ]
    },
    {
     "data": {
      "text/plain": [
       "National Rail       508\n",
       "1                   436\n",
       "Total               425\n",
       "3                   421\n",
       "2                   406\n",
       "4                   405\n",
       "Disused railways    394\n",
       "Line                338\n",
       "Chart (2008)        238\n",
       "RPG                 110\n",
       "dtype: int64"
      ]
     },
     "metadata": {},
     "output_type": "display_data"
    },
    {
     "name": "stdout",
     "output_type": "stream",
     "text": [
      "Entertainment (132142 articles)\n",
      "294 tables\n",
      "headers\n"
     ]
    },
    {
     "data": {
      "text/plain": [
       "Year       82\n",
       "Title      81\n",
       "Notes      26\n",
       "Role       21\n",
       "Country    20\n",
       "Rank       18\n",
       "Result     18\n",
       "Studio     18\n",
       "Album      18\n",
       "Award      16\n",
       "dtype: int64"
      ]
     },
     "metadata": {},
     "output_type": "display_data"
    },
    {
     "name": "stdout",
     "output_type": "stream",
     "text": [
      "coltypes\n"
     ]
    },
    {
     "data": {
      "text/plain": [
       "XMLSchema#string                         713\n",
       "XMLSchema#dateTime                       183\n",
       "XMLSchema#decimal                        164\n",
       "Q2031291 release                          49\n",
       "Q7725310 series of creative works         47\n",
       "Q5 human                                  44\n",
       "Q215627 person                            44\n",
       "Q164509 omnivore                          44\n",
       "Q154954 natural person                    44\n",
       "Q56248902 Wikimedia community project     37\n",
       "dtype: int64"
      ]
     },
     "metadata": {},
     "output_type": "display_data"
    },
    {
     "name": "stdout",
     "output_type": "stream",
     "text": [
      "props\n"
     ]
    },
    {
     "data": {
      "text/plain": [
       "P161 cast member         15\n",
       "P175 performer           13\n",
       "P57 director              6\n",
       "P735 given name           4\n",
       "P361 part of              3\n",
       "P156 followed by          3\n",
       "P197 adjacent station     3\n",
       "P40 child                 2\n",
       "P39 position held         2\n",
       "P155 follows              2\n",
       "dtype: int64"
      ]
     },
     "metadata": {},
     "output_type": "display_data"
    },
    {
     "name": "stdout",
     "output_type": "stream",
     "text": [
      "pivots\n"
     ]
    },
    {
     "data": {
      "text/plain": [
       "National Rail       508\n",
       "Disused railways    394\n",
       "Line                338\n",
       "Chart (2008)        238\n",
       "US                  236\n",
       "US Country          201\n",
       "UK                  144\n",
       "NOR                 140\n",
       "SWI                 110\n",
       "BAR                  98\n",
       "dtype: int64"
      ]
     },
     "metadata": {},
     "output_type": "display_data"
    },
    {
     "name": "stdout",
     "output_type": "stream",
     "text": [
      "Government (141264 articles)\n",
      "121 tables\n",
      "headers\n"
     ]
    },
    {
     "data": {
      "text/plain": [
       "Name           28\n",
       "Party          19\n",
       "Notes          14\n",
       "Year           11\n",
       "#              10\n",
       "Type            9\n",
       "Minister        8\n",
       "Title           7\n",
       "Term            6\n",
       "Took office     5\n",
       "dtype: int64"
      ]
     },
     "metadata": {},
     "output_type": "display_data"
    },
    {
     "name": "stdout",
     "output_type": "stream",
     "text": [
      "coltypes\n"
     ]
    },
    {
     "data": {
      "text/plain": [
       "XMLSchema#string                         304\n",
       "XMLSchema#dateTime                        85\n",
       "XMLSchema#decimal                         60\n",
       "owl#Thing                                 26\n",
       "Q4164871 position                         12\n",
       "Q215627 person                            11\n",
       "Q154954 natural person                    11\n",
       "Q164509 omnivore                          11\n",
       "Q5 human                                  11\n",
       "Q56248902 Wikimedia community project      8\n",
       "dtype: int64"
      ]
     },
     "metadata": {},
     "output_type": "display_data"
    },
    {
     "name": "stdout",
     "output_type": "stream",
     "text": [
      "props\n"
     ]
    },
    {
     "data": {
      "text/plain": [
       "P39 position held                                        7\n",
       "P40 child                                                5\n",
       "P22 father                                               4\n",
       "P31 instance of                                          2\n",
       "P102 member of political party                           2\n",
       "P150 contains administrative territorial entity          2\n",
       "P131 located in the administrative territorial entity    2\n",
       "P361 part of                                             1\n",
       "P166 award received                                      1\n",
       "P155 follows                                             1\n",
       "dtype: int64"
      ]
     },
     "metadata": {},
     "output_type": "display_data"
    },
    {
     "name": "stdout",
     "output_type": "stream",
     "text": [
      "pivots\n"
     ]
    },
    {
     "data": {
      "text/plain": [
       "+/–              25\n",
       "2007             13\n",
       "2006             13\n",
       "2005             12\n",
       "2008             11\n",
       "Senior status    11\n",
       "Senior           10\n",
       "2000              9\n",
       "2003              9\n",
       "2010              9\n",
       "dtype: int64"
      ]
     },
     "metadata": {},
     "output_type": "display_data"
    },
    {
     "name": "stdout",
     "output_type": "stream",
     "text": [
      "Humanities (164416 articles)\n",
      "150 tables\n",
      "headers\n"
     ]
    },
    {
     "data": {
      "text/plain": [
       "Title      37\n",
       "Year       37\n",
       "Rank       19\n",
       "Studio     18\n",
       "Opening    14\n",
       "Notes      13\n",
       "Date       11\n",
       "Result     10\n",
       "Role        9\n",
       "Country     8\n",
       "dtype: int64"
      ]
     },
     "metadata": {},
     "output_type": "display_data"
    },
    {
     "name": "stdout",
     "output_type": "stream",
     "text": [
      "coltypes\n"
     ]
    },
    {
     "data": {
      "text/plain": [
       "XMLSchema#string           385\n",
       "XMLSchema#decimal           96\n",
       "XMLSchema#dateTime          84\n",
       "owl#Thing                   21\n",
       "Q5 human                    20\n",
       "Q215627 person              20\n",
       "Q164509 omnivore            20\n",
       "Q154954 natural person      20\n",
       "Q2031291 release            17\n",
       "Q4502142 visual artwork     16\n",
       "dtype: int64"
      ]
     },
     "metadata": {},
     "output_type": "display_data"
    },
    {
     "name": "stdout",
     "output_type": "stream",
     "text": [
      "props\n"
     ]
    },
    {
     "data": {
      "text/plain": [
       "P161 cast member       7\n",
       "P40 child              3\n",
       "P39 position held      3\n",
       "P175 performer         3\n",
       "P735 given name        3\n",
       "P22 father             2\n",
       "P361 part of           2\n",
       "P106 occupation        2\n",
       "P57 director           2\n",
       "P166 award received    1\n",
       "dtype: int64"
      ]
     },
     "metadata": {},
     "output_type": "display_data"
    },
    {
     "name": "stdout",
     "output_type": "stream",
     "text": [
      "pivots\n"
     ]
    },
    {
     "data": {
      "text/plain": [
       "Total           421\n",
       "1               417\n",
       "3               408\n",
       "2               393\n",
       "4               392\n",
       "Chart (2008)    226\n",
       "Chart (1993)     62\n",
       "Chart (2007)     57\n",
       "Chart (2002)     54\n",
       "Chart (2003)     49\n",
       "dtype: int64"
      ]
     },
     "metadata": {},
     "output_type": "display_data"
    },
    {
     "name": "stdout",
     "output_type": "stream",
     "text": [
      "Society (187633 articles)\n",
      "157 tables\n",
      "headers\n"
     ]
    },
    {
     "data": {
      "text/plain": [
       "Year        49\n",
       "Date        18\n",
       "Name        17\n",
       "Country     15\n",
       "Notes       15\n",
       "Result      12\n",
       "Role        12\n",
       "Location    11\n",
       "%           10\n",
       "Award        9\n",
       "dtype: int64"
      ]
     },
     "metadata": {},
     "output_type": "display_data"
    },
    {
     "name": "stdout",
     "output_type": "stream",
     "text": [
      "coltypes\n"
     ]
    },
    {
     "data": {
      "text/plain": [
       "XMLSchema#string                         374\n",
       "XMLSchema#decimal                        125\n",
       "XMLSchema#dateTime                       114\n",
       "Q5 human                                  41\n",
       "Q154954 natural person                    41\n",
       "Q215627 person                            41\n",
       "Q164509 omnivore                          41\n",
       "owl#Thing                                 25\n",
       "Q56248902 Wikimedia community project     21\n",
       "Q21025364 WikiProject                     21\n",
       "dtype: int64"
      ]
     },
     "metadata": {},
     "output_type": "display_data"
    },
    {
     "name": "stdout",
     "output_type": "stream",
     "text": [
      "props\n"
     ]
    },
    {
     "data": {
      "text/plain": [
       "P161 cast member                      7\n",
       "P40 child                             4\n",
       "P361 part of                          4\n",
       "P735 given name                       4\n",
       "P22 father                            3\n",
       "P39 position held                     3\n",
       "P197 adjacent station                 3\n",
       "P106 occupation                       3\n",
       "P137 operator                         2\n",
       "P931 place served by transport hub    2\n",
       "dtype: int64"
      ]
     },
     "metadata": {},
     "output_type": "display_data"
    },
    {
     "name": "stdout",
     "output_type": "stream",
     "text": [
      "pivots\n"
     ]
    },
    {
     "data": {
      "text/plain": [
       "Total               559\n",
       "National Rail       508\n",
       "1                   429\n",
       "3                   414\n",
       "2                   399\n",
       "4                   398\n",
       "Disused railways    394\n",
       "Line                338\n",
       "Chart (2008)        226\n",
       "League              122\n",
       "dtype: int64"
      ]
     },
     "metadata": {},
     "output_type": "display_data"
    },
    {
     "name": "stdout",
     "output_type": "stream",
     "text": [
      "Mass_media (211310 articles)\n",
      "337 tables\n",
      "headers\n"
     ]
    },
    {
     "data": {
      "text/plain": [
       "Year                    124\n",
       "Title                   115\n",
       "Album                    44\n",
       "Peak chart positions     35\n",
       "Notes                    26\n",
       "Director                 24\n",
       "Peak position            23\n",
       "Rank                     20\n",
       "Album details            20\n",
       "#                        18\n",
       "dtype: int64"
      ]
     },
     "metadata": {},
     "output_type": "display_data"
    },
    {
     "name": "stdout",
     "output_type": "stream",
     "text": [
      "coltypes\n"
     ]
    },
    {
     "data": {
      "text/plain": [
       "XMLSchema#string                         796\n",
       "XMLSchema#dateTime                       233\n",
       "XMLSchema#decimal                        208\n",
       "Q7725310 series of creative works         96\n",
       "Q273057 discography                       71\n",
       "Q17489659 group of works                  71\n",
       "Q1631107 bibliography                     70\n",
       "Q2668072 collection                       69\n",
       "Q2031291 release                          63\n",
       "Q56248902 Wikimedia community project     52\n",
       "dtype: int64"
      ]
     },
     "metadata": {},
     "output_type": "display_data"
    },
    {
     "name": "stdout",
     "output_type": "stream",
     "text": [
      "props\n"
     ]
    },
    {
     "data": {
      "text/plain": [
       "P175 performer           12\n",
       "P161 cast member         12\n",
       "P361 part of              5\n",
       "P57 director              5\n",
       "P735 given name           4\n",
       "P136 genre                4\n",
       "P40 child                 3\n",
       "P197 adjacent station     3\n",
       "P22 father                2\n",
       "P86 composer              2\n",
       "dtype: int64"
      ]
     },
     "metadata": {},
     "output_type": "display_data"
    },
    {
     "name": "stdout",
     "output_type": "stream",
     "text": [
      "pivots\n"
     ]
    },
    {
     "data": {
      "text/plain": [
       "National Rail       508\n",
       "1                   429\n",
       "Total               421\n",
       "3                   420\n",
       "2                   405\n",
       "4                   404\n",
       "Disused railways    394\n",
       "US                  365\n",
       "Line                338\n",
       "US Country          249\n",
       "dtype: int64"
      ]
     },
     "metadata": {},
     "output_type": "display_data"
    },
    {
     "name": "stdout",
     "output_type": "stream",
     "text": [
      "Culture (404422 articles)\n",
      "338 tables\n",
      "headers\n"
     ]
    },
    {
     "data": {
      "text/plain": [
       "Year        146\n",
       "Title        72\n",
       "Team         41\n",
       "Record       34\n",
       "Date         30\n",
       "Notes        29\n",
       "Role         23\n",
       "Result       22\n",
       "Album        22\n",
       "Director     21\n",
       "dtype: int64"
      ]
     },
     "metadata": {},
     "output_type": "display_data"
    },
    {
     "name": "stdout",
     "output_type": "stream",
     "text": [
      "coltypes\n"
     ]
    },
    {
     "data": {
      "text/plain": [
       "XMLSchema#string                         921\n",
       "XMLSchema#dateTime                       264\n",
       "XMLSchema#decimal                        258\n",
       "Q5 human                                 161\n",
       "Q154954 natural person                   161\n",
       "Q215627 person                           161\n",
       "Q164509 omnivore                         161\n",
       "owl#Thing                                 44\n",
       "Q56248902 Wikimedia community project     37\n",
       "Q21025364 WikiProject                     37\n",
       "dtype: int64"
      ]
     },
     "metadata": {},
     "output_type": "display_data"
    },
    {
     "name": "stdout",
     "output_type": "stream",
     "text": [
      "props\n"
     ]
    },
    {
     "data": {
      "text/plain": [
       "P161 cast member             21\n",
       "P175 performer                8\n",
       "P57 director                  7\n",
       "P735 given name               5\n",
       "P136 genre                    4\n",
       "P40 child                     3\n",
       "P197 adjacent station         3\n",
       "P106 occupation               3\n",
       "P54 member of sports team     3\n",
       "P22 father                    2\n",
       "dtype: int64"
      ]
     },
     "metadata": {},
     "output_type": "display_data"
    },
    {
     "name": "stdout",
     "output_type": "stream",
     "text": [
      "pivots\n"
     ]
    },
    {
     "data": {
      "text/plain": [
       "Total               682\n",
       "National Rail       508\n",
       "1                   473\n",
       "3                   460\n",
       "2                   445\n",
       "4                   430\n",
       "Disused railways    394\n",
       "Line                338\n",
       "League              275\n",
       "US Country          230\n",
       "dtype: int64"
      ]
     },
     "metadata": {},
     "output_type": "display_data"
    },
    {
     "name": "stdout",
     "output_type": "stream",
     "text": [
      "Human_nature (1040093 articles)\n",
      "507 tables\n",
      "headers\n"
     ]
    },
    {
     "data": {
      "text/plain": [
       "Year      249\n",
       "Goals     144\n",
       "Apps      141\n",
       "Title      81\n",
       "League     66\n",
       "Date       63\n",
       "Team       59\n",
       "Total      57\n",
       "Result     54\n",
       "Season     52\n",
       "dtype: int64"
      ]
     },
     "metadata": {},
     "output_type": "display_data"
    },
    {
     "name": "stdout",
     "output_type": "stream",
     "text": [
      "coltypes\n"
     ]
    },
    {
     "data": {
      "text/plain": [
       "XMLSchema#string                         1357\n",
       "XMLSchema#decimal                         686\n",
       "XMLSchema#dateTime                        443\n",
       "Q5 human                                  401\n",
       "Q215627 person                            401\n",
       "Q164509 omnivore                          401\n",
       "Q154954 natural person                    401\n",
       "Q21025364 WikiProject                      51\n",
       "Q56248902 Wikimedia community project      51\n",
       "owl#Thing                                  50\n",
       "dtype: int64"
      ]
     },
     "metadata": {},
     "output_type": "display_data"
    },
    {
     "name": "stdout",
     "output_type": "stream",
     "text": [
      "props\n"
     ]
    },
    {
     "data": {
      "text/plain": [
       "P161 cast member               23\n",
       "P54 member of sports team      18\n",
       "P175 performer                 16\n",
       "P735 given name                 5\n",
       "P361 part of                    4\n",
       "P57 director                    3\n",
       "P40 child                       3\n",
       "P1424 topic's main template     3\n",
       "P1423 template's main topic     3\n",
       "P106 occupation                 3\n",
       "dtype: int64"
      ]
     },
     "metadata": {},
     "output_type": "display_data"
    },
    {
     "name": "stdout",
     "output_type": "stream",
     "text": [
      "pivots\n"
     ]
    },
    {
     "data": {
      "text/plain": [
       "Total         887\n",
       "1             609\n",
       "3             602\n",
       "2             587\n",
       "4             585\n",
       "League        490\n",
       "US            367\n",
       "League Cup    284\n",
       "US Country    280\n",
       "Cup           260\n",
       "dtype: int64"
      ]
     },
     "metadata": {},
     "output_type": "display_data"
    },
    {
     "name": "stdout",
     "output_type": "stream",
     "text": [
      "People (1264659 articles)\n",
      "622 tables\n",
      "headers\n"
     ]
    },
    {
     "data": {
      "text/plain": [
       "Year      302\n",
       "Goals     144\n",
       "Apps      141\n",
       "Title     118\n",
       "Album      68\n",
       "League     66\n",
       "Team       61\n",
       "Result     61\n",
       "Date       60\n",
       "Notes      60\n",
       "dtype: int64"
      ]
     },
     "metadata": {},
     "output_type": "display_data"
    },
    {
     "name": "stdout",
     "output_type": "stream",
     "text": [
      "coltypes\n"
     ]
    },
    {
     "data": {
      "text/plain": [
       "XMLSchema#string                     1617\n",
       "XMLSchema#decimal                     741\n",
       "XMLSchema#dateTime                    540\n",
       "Q5 human                              414\n",
       "Q215627 person                        414\n",
       "Q164509 omnivore                      414\n",
       "Q154954 natural person                414\n",
       "Q7725310 series of creative works      99\n",
       "Q1631107 bibliography                  97\n",
       "Q273057 discography                    95\n",
       "dtype: int64"
      ]
     },
     "metadata": {},
     "output_type": "display_data"
    },
    {
     "name": "stdout",
     "output_type": "stream",
     "text": [
      "props\n"
     ]
    },
    {
     "data": {
      "text/plain": [
       "P161 cast member             25\n",
       "P54 member of sports team    19\n",
       "P175 performer               17\n",
       "P735 given name               6\n",
       "P40 child                     5\n",
       "P361 part of                  5\n",
       "P22 father                    4\n",
       "P39 position held             4\n",
       "P57 director                  3\n",
       "P197 adjacent station         3\n",
       "dtype: int64"
      ]
     },
     "metadata": {},
     "output_type": "display_data"
    },
    {
     "name": "stdout",
     "output_type": "stream",
     "text": [
      "pivots\n"
     ]
    },
    {
     "data": {
      "text/plain": [
       "Total               887\n",
       "1                   611\n",
       "3                   604\n",
       "2                   589\n",
       "4                   587\n",
       "National Rail       508\n",
       "League              490\n",
       "US                  437\n",
       "Disused railways    394\n",
       "Line                338\n",
       "dtype: int64"
      ]
     },
     "metadata": {},
     "output_type": "display_data"
    }
   ],
   "source": [
    "import pandas as pd\n",
    "\n",
    "\n",
    "\n",
    "def get_pagetitles(prov):\n",
    "    if 'pgTitle' in prov:\n",
    "        yield prov['pgTitle']\n",
    "    elif 'concat' in prov:\n",
    "        for c in prov['concat']:\n",
    "            yield from get_pagetitles(c)\n",
    "        \n",
    "def filter_tables(ts, articles):\n",
    "    tables = []\n",
    "    for t in ts:\n",
    "        if articles & set(get_pagetitles(t.provenance)):\n",
    "            tables.append(t)\n",
    "    return tables\n",
    "        \n",
    "        \n",
    "import trident\n",
    "catdb = trident.Db('/scratch/kruit/kb/dbpedia_20201001/categories.tridentdb')\n",
    "def get_article_titles(arts):\n",
    "    for a in arts:\n",
    "        yield catdb.lookup_str(a)[1:-1].replace('http://dbpedia.org/resource/', '').replace('_', ' ')\n",
    "\n",
    "n_pages = bag.map(lambda t: list(get_pagetitles(t.provenance))).flatten().distinct().count().compute()\n",
    "print(f\"Got a total of {n_pages} pages\")\n",
    "        \n",
    "ntopics = len(topic_articles)\n",
    "for ti, (topic, articles) in enumerate(sorted(topic_articles.items(), key=lambda ta: len(ta[1]))):\n",
    "    article_titles = set(get_article_titles(articles))\n",
    "    print(topic, f\"({len(article_titles)} articles)\", f\"[{ti+1}/{ntopics}]\")\n",
    "    tables = bag.map_partitions(filter_tables, article_titles).persist()\n",
    "    ntables = tables.count().compute()\n",
    "    print(ntables, 'tables')\n",
    "    if ntables:\n",
    "    \n",
    "        \n",
    "        headers = top_headers(tables)\n",
    "        print('headers')\n",
    "        display.display(headers)\n",
    "        \n",
    "        coltypes = top_coltypes(tables)\n",
    "        print('coltypes')\n",
    "        display.display(coltypes)\n",
    "        \n",
    "        props = top_props(tables)\n",
    "        print('props')\n",
    "        display.display(props)\n",
    "        \n",
    "        pivots = top_pivots(tables)\n",
    "        print('pivots')\n",
    "        display.display(pivots)\n",
    "        \n",
    "    print()"
   ]
  },
  {
   "cell_type": "code",
   "execution_count": null,
   "metadata": {},
   "outputs": [],
   "source": []
  }
 ],
 "metadata": {
  "kernelspec": {
   "display_name": "Python 3",
   "language": "python",
   "name": "python3"
  },
  "language_info": {
   "codemirror_mode": {
    "name": "ipython",
    "version": 3
   },
   "file_extension": ".py",
   "mimetype": "text/x-python",
   "name": "python",
   "nbconvert_exporter": "python",
   "pygments_lexer": "ipython3",
   "version": "3.7.4"
  }
 },
 "nbformat": 4,
 "nbformat_minor": 2
}
