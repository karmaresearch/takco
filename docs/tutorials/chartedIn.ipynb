{
 "cells": [
  {
   "cell_type": "markdown",
   "metadata": {},
   "source": [
    "# Music Charts\n",
    "\n",
    "In this example, we will extract information about music charts from tables on Wikipedia.\n",
    "We will populate the Wikidata predicate \"charted in\" ([P2291](https://www.wikidata.org/wiki/Property:P2291)), which often occurs with the qualifiers \"point in time\" ([P585](https://www.wikidata.org/wiki/Property:P585)) and \"ranking\" ([P1352](https://www.wikidata.org/wiki/Property:P1352))."
   ]
  },
  {
   "cell_type": "code",
   "execution_count": 1,
   "metadata": {
    "scrolled": false
   },
   "outputs": [
    {
     "name": "stderr",
     "output_type": "stream",
     "text": [
      "/export/scratch1/home/kruit/venv2/lib/python3.7/site-packages/SPARQLWrapper/Wrapper.py:880: UserWarning: keepalive support not available, so the execution of this method has no effect\n",
      "  warnings.warn(\"keepalive support not available, so the execution of this method has no effect\")\n"
     ]
    },
    {
     "data": {
      "text/plain": [
       "435"
      ]
     },
     "execution_count": 1,
     "metadata": {},
     "output_type": "execute_result"
    }
   ],
   "source": [
    "from rdflib.plugins.stores.sparqlstore import SPARQLStore\n",
    "st = SPARQLStore('http://query.wikidata.org/sparql')\n",
    "r = st.query(\"\"\"\n",
    "SELECT DISTINCT ?entity ?article WHERE {\n",
    "    # ?entity p:P726 ?p . ?p ps:P726 ?o . ?p pq:P1111 ?votes .\n",
    "    ?entity wdt:P2291 ?chart .\n",
    "    ?article schema:about ?entity .\n",
    "    ?article schema:isPartOf <https://en.wikipedia.org/>.\n",
    "}\n",
    "\"\"\")\n",
    "ent_abouturl = [tuple(b[v] for v in r.vars) for b in r.bindings]\n",
    "ent_abouturl = sorted([\n",
    "    (e, url.replace('https://en.wikipedia.org/wiki/', 'http://localhost:8989/wikipedia_en_all_nopic_2020-10/A/'))\n",
    "    for e, url in ent_abouturl\n",
    "])\n",
    "len(ent_abouturl)"
   ]
  },
  {
   "cell_type": "code",
   "execution_count": null,
   "metadata": {},
   "outputs": [],
   "source": [
    "%%time\n",
    "import takco\n",
    "sample = 100\n",
    "pages = takco.extract.WikiPages(ent_abouturl[:sample], encoding='utf8').load()\n",
    "extracted = list(takco.extract.extract_tables(pages, link_pattern=r'[^\\W](?!ttp:)'))\n",
    "print(f\"Got {len(list(extracted))} tables\")\n",
    "takco.preview(extracted, nrows=5, ntables=25)"
   ]
  },
  {
   "cell_type": "code",
   "execution_count": null,
   "metadata": {
    "scrolled": false
   },
   "outputs": [],
   "source": [
    "steps = takco.config.build('step', load=['resources/graphs/wikidata.toml','resources/pipelines/TabEL.toml'])\n",
    "unpivot_heuristics = steps[0]['unpivot_heuristics']\n",
    "\n",
    "reshaped = list(takco.TableSet.reshape(extracted, unpivot_heuristics=unpivot_heuristics))\n",
    "print(f\"Processed {len(list(reshaped))} tables\")\n",
    "takco.preview(reshaped, nrows=5, ntables=25)"
   ]
  },
  {
   "cell_type": "code",
   "execution_count": null,
   "metadata": {},
   "outputs": [],
   "source": [
    "clustered = list(takco.TableSet.cluster(reshaped, addcontext = [\"pgTitle\"], matchers=[]))\n",
    "clustered = sorted(clustered, key=lambda table: -table.get('numDataRows', 0))\n",
    "\n",
    "print(f\"Processed {len(list(clustered))} tables\")\n",
    "takco.preview(clustered, nrows=5, ntables=25)"
   ]
  },
  {
   "cell_type": "code",
   "execution_count": null,
   "metadata": {},
   "outputs": [],
   "source": [
    "linked = list(takco.TableSet.link(\n",
    "    clustered, \n",
    "    lookup_cells = False,\n",
    "    lookup = takco.link.SQLiteLookup(\n",
    "        sqlitedb= 'data/wdid_wpname.sqlitedb',\n",
    "        baseuri = 'http://www.wikidata.org/entity/Q',\n",
    "        extract = 'http://[^\\.]+.wikipedia.org/wiki/([^?]+)',\n",
    "        fallback = takco.link.MediaWikiAPI(),\n",
    "    )\n",
    "))\n",
    "\n",
    "print(f\"Processed {len(list(linked))} tables\")\n",
    "takco.preview(linked, nrows=5, ntables=25)"
   ]
  },
  {
   "cell_type": "code",
   "execution_count": null,
   "metadata": {},
   "outputs": [],
   "source": [
    "%%time\n",
    "searcher = takco.link.RDFSearcher(\n",
    "    typeProperties = [\"http://www.wikidata.org/prop/direct/P31\"],\n",
    "    statementURIprefix = \"http://www.wikidata.org/entity/statement/\",\n",
    "    store_classname = 'takco.link.Trident',\n",
    "    store_kwargs = {'configuration': \"/export/scratch1/home/kruit/20200713-prop-skos\"}\n",
    ")\n",
    "    \n",
    "typer = takco.link.EntityTyper(\n",
    "    db = searcher, \n",
    "    type_prop = \"http://www.wikidata.org/prop/direct/P31\",\n",
    "    cover_threshold = 0.2,\n",
    ")\n",
    "typed = list(takco.TableSet.coltypes(linked, typer=typer))\n",
    "integrated = list(takco.TableSet.integrate(linked, pfd_threshold = 0.95, db=searcher))\n",
    "print(f\"Processed {len(list(integrated))} tables\")\n",
    "\n",
    "integrated = sorted(integrated, key=lambda table: -table.get('numDataRows', 0))\n",
    "takco.preview(integrated, nrows=5, ntables=25)"
   ]
  },
  {
   "cell_type": "code",
   "execution_count": null,
   "metadata": {},
   "outputs": [],
   "source": [
    "triples = takco.TableSet.triples(integrated)\n",
    "print(f\"Extracted {sum(len(table.get('triples')) for table in triples)} triples\")"
   ]
  },
  {
   "cell_type": "code",
   "execution_count": null,
   "metadata": {},
   "outputs": [],
   "source": []
  }
 ],
 "metadata": {
  "kernelspec": {
   "display_name": "Python 3",
   "language": "python",
   "name": "python3"
  },
  "language_info": {
   "codemirror_mode": {
    "name": "ipython",
    "version": 3
   },
   "file_extension": ".py",
   "mimetype": "text/x-python",
   "name": "python",
   "nbconvert_exporter": "python",
   "pygments_lexer": "ipython3",
   "version": "3.7.4"
  }
 },
 "nbformat": 4,
 "nbformat_minor": 4
}
