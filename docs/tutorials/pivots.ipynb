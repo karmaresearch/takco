{
 "cells": [
  {
   "cell_type": "markdown",
   "metadata": {},
   "source": [
    "# Annotating pivots\n",
    "\n",
    "Using the pigeon library."
   ]
  },
  {
   "cell_type": "code",
   "execution_count": 1,
   "metadata": {},
   "outputs": [
    {
     "data": {
      "text/html": [
       "<table style=\"border: 2px solid white;\">\n",
       "<tr>\n",
       "<td style=\"vertical-align: top; border: 0px solid white\">\n",
       "<h3 style=\"text-align: left;\">Client</h3>\n",
       "<ul style=\"text-align: left; list-style: none; margin: 0; padding: 0;\">\n",
       "  <li><b>Scheduler: </b>tcp://192.168.62.207:8686</li>\n",
       "  <li><b>Dashboard: </b><a href='http://192.168.62.207:8687/status' target='_blank'>http://192.168.62.207:8687/status</a></li>\n",
       "</ul>\n",
       "</td>\n",
       "<td style=\"vertical-align: top; border: 0px solid white\">\n",
       "<h3 style=\"text-align: left;\">Cluster</h3>\n",
       "<ul style=\"text-align: left; list-style:none; margin: 0; padding: 0;\">\n",
       "  <li><b>Workers: </b>7</li>\n",
       "  <li><b>Cores: </b>56</li>\n",
       "  <li><b>Memory: </b>471.41 GB</li>\n",
       "</ul>\n",
       "</td>\n",
       "</tr>\n",
       "</table>"
      ],
      "text/plain": [
       "<Client: 'tcp://192.168.62.207:8686' processes=7 threads=56, memory=471.41 GB>"
      ]
     },
     "execution_count": 1,
     "metadata": {},
     "output_type": "execute_result"
    }
   ],
   "source": [
    "%%capture --no-display\n",
    "from dask.distributed import Client\n",
    "client = Client(address = 'tcp://192.168.62.207:8686')\n",
    "client"
   ]
  },
  {
   "cell_type": "code",
   "execution_count": 36,
   "metadata": {
    "scrolled": false
   },
   "outputs": [
    {
     "name": "stdout",
     "output_type": "stream",
     "text": [
      "CPU times: user 53.7 ms, sys: 5.87 ms, total: 59.5 ms\n",
      "Wall time: 2.09 s\n"
     ]
    },
    {
     "data": {
      "text/plain": [
       "5621"
      ]
     },
     "execution_count": 36,
     "metadata": {},
     "output_type": "execute_result"
    }
   ],
   "source": [
    "%%time\n",
    "import dask.bag as db\n",
    "from takco.util import robust_json_loads_lines\n",
    "from takco.table import from_tabel\n",
    "import takco\n",
    "\n",
    "steps = takco.config.build('step', load=['resources/graphs/wikidata.toml','resources/pipelines/TabEL.toml'])\n",
    "prefix_header_rules = steps[0]['prefix_header_rules']\n",
    "unpivot_heuristics = {h.name: h for h in steps[0]['unpivot_heuristics']}\n",
    "\n",
    "# fnames = 'hdfs://bricks07:9000/user/kruit/tabel/2-*'\n",
    "fnames = '/export/scratch1/home/kruit/scratch/tabel/*'\n",
    "bag = db.read_text(fnames).map_partitions(robust_json_loads_lines)\\\n",
    "    .map_partitions(lambda ts: list(takco.reshape.restructure(ts, prefix_header_rules=prefix_header_rules)))\\\n",
    "    .persist()\n",
    "bag.count().compute()"
   ]
  },
  {
   "cell_type": "code",
   "execution_count": 27,
   "metadata": {
    "scrolled": false
   },
   "outputs": [
    {
     "data": {
      "text/plain": [
       "2041"
      ]
     },
     "execution_count": 27,
     "metadata": {},
     "output_type": "execute_result"
    }
   ],
   "source": [
    "headers = bag.distinct(key=takco.reshape.table_get_headerId).map(lambda t: t.get('tableHeaders')).persist()\n",
    "headers.count().compute()"
   ]
  },
  {
   "cell_type": "code",
   "execution_count": 10,
   "metadata": {
    "scrolled": false
   },
   "outputs": [
    {
     "data": {
      "application/vnd.jupyter.widget-view+json": {
       "model_id": "059e1d53e0c447c58a896db23a0cd7b0",
       "version_major": 2,
       "version_minor": 0
      },
      "text/plain": [
       "HTML(value='0 examples annotated, 101 examples left')"
      ]
     },
     "metadata": {},
     "output_type": "display_data"
    },
    {
     "data": {
      "application/vnd.jupyter.widget-view+json": {
       "model_id": "6f34e88d549542ab8363dbacdc084cbe",
       "version_major": 2,
       "version_minor": 0
      },
      "text/plain": [
       "HBox(children=(Button(description='good', style=ButtonStyle()), Button(description='bad', style=ButtonStyle())…"
      ]
     },
     "metadata": {},
     "output_type": "display_data"
    },
    {
     "data": {
      "application/vnd.jupyter.widget-view+json": {
       "model_id": "8cca47e1c00748aea21d1e8c551c7eb6",
       "version_major": 2,
       "version_minor": 0
      },
      "text/plain": [
       "Output()"
      ]
     },
     "metadata": {},
     "output_type": "display_data"
    },
    {
     "name": "stdout",
     "output_type": "stream",
     "text": [
      "Annotation done.\n"
     ]
    }
   ],
   "source": [
    "from dask.bag.random import sample\n",
    "\n",
    "for up in bag.map_partitions(lambda ts: list(takco.reshape.build_heuristics(ts, unpivot_heuristics.values()))):\n",
    "    unpivot_heuristics[up.name].merge(up)\n",
    "\n",
    "hsample = sample(headers, 100).compute()\n",
    "header_tables = {}\n",
    "for h in hsample:\n",
    "    h = {'tableHeaders': h}\n",
    "    header_tables[takco.reshape.table_get_headerId(h)] = h\n",
    "\n",
    "for p in takco.reshape.yield_pivots(hsample, unpivot_heuristics.values()):\n",
    "    header_tables[p['headerId']]['pivot'] = p\n",
    "\n",
    "\n",
    "def show_pivot(h):\n",
    "    df = takco.table.from_tabel(h)\n",
    "    if h.get('pivot') and not h['pivot'].get('discard'):\n",
    "        print(h.get('pivot'))\n",
    "        display.display(df.takco.highlight_pivot(**h.get('pivot')))\n",
    "    else:\n",
    "        display.display(df.takco)\n",
    "\n",
    "from pigeon import annotate\n",
    "annotations = annotate(\n",
    "    header_tables.values(),\n",
    "    options=['good', 'bad'],\n",
    "    display_fn = show_pivot\n",
    ")"
   ]
  },
  {
   "cell_type": "code",
   "execution_count": 24,
   "metadata": {},
   "outputs": [
    {
     "name": "stdout",
     "output_type": "stream",
     "text": [
      "Precision: 1.00, Recall: 0.68\n"
     ]
    }
   ],
   "source": [
    "import json\n",
    "\n",
    "with open('pivot-annotation-recall.json', 'w') as fw:\n",
    "    json.dump(annotations, fw)\n",
    "    \n",
    "import pandas as pd\n",
    "p = pd.Series([bool(h.get('pivot') and not h['pivot'].get('discard')) for h,a in annotations])\n",
    "ok = pd.Series([a == 'good' for h,a in annotations])\n",
    "\n",
    "tp = sum(p & ok)\n",
    "fp = sum(p & (~ok))\n",
    "fn = sum((~p) & (~ok))\n",
    "print(f\"Precision: {(tp/(tp+fp)):.2f}, Recall: {(tp/(tp+fn)):.2f}\")"
   ]
  },
  {
   "cell_type": "code",
   "execution_count": 37,
   "metadata": {
    "scrolled": true
   },
   "outputs": [
    {
     "name": "stderr",
     "output_type": "stream",
     "text": [
      " 21%|██▏       | 436/2041 [01:41<01:56, 13.80it/s]\n",
      "  0%|          | 0/2041 [00:00<?, ?it/s]\u001b[A\n",
      "  1%|          | 13/2041 [00:00<00:21, 95.16it/s]\u001b[A\n",
      "  2%|▏         | 41/2041 [00:00<00:17, 114.62it/s]\u001b[A\n",
      "  3%|▎         | 63/2041 [00:00<00:14, 132.83it/s]\u001b[A\n",
      "  4%|▍         | 88/2041 [00:00<00:13, 149.96it/s]\u001b[A\n",
      "  5%|▌         | 104/2041 [00:00<00:14, 129.87it/s]\u001b[A\n",
      "  6%|▋         | 128/2041 [00:00<00:12, 149.35it/s]\u001b[A\n",
      "  7%|▋         | 145/2041 [00:00<00:12, 153.65it/s]\u001b[A\n",
      "  8%|▊         | 162/2041 [00:00<00:12, 148.10it/s]\u001b[A\n",
      "  9%|▉         | 186/2041 [00:01<00:11, 157.36it/s]\u001b[A\n",
      " 10%|▉         | 203/2041 [00:01<00:11, 156.97it/s]\u001b[A\n",
      " 11%|█         | 220/2041 [00:01<00:11, 152.78it/s]\u001b[A\n",
      " 12%|█▏        | 248/2041 [00:01<00:10, 176.12it/s]\u001b[A\n",
      " 13%|█▎        | 275/2041 [00:01<00:09, 188.90it/s]\u001b[A\n",
      " 15%|█▌        | 308/2041 [00:01<00:08, 215.35it/s]\u001b[A\n",
      " 16%|█▋        | 335/2041 [00:01<00:07, 225.74it/s]\u001b[A\n",
      " 18%|█▊        | 360/2041 [00:01<00:08, 195.97it/s]\u001b[A\n",
      " 19%|█▊        | 382/2041 [00:02<00:09, 171.88it/s]\u001b[A\n",
      " 20%|█▉        | 402/2041 [00:02<00:10, 156.97it/s]\u001b[A\n",
      " 21%|██        | 420/2041 [00:02<00:10, 150.10it/s]\u001b[A\n",
      " 22%|██▏       | 449/2041 [00:02<00:09, 173.24it/s]\u001b[A\n",
      " 23%|██▎       | 471/2041 [00:02<00:08, 184.51it/s]\u001b[A\n",
      " 24%|██▍       | 492/2041 [00:02<00:08, 185.72it/s]\u001b[A\n",
      " 26%|██▌       | 524/2041 [00:02<00:07, 207.53it/s]\u001b[A\n",
      " 27%|██▋       | 547/2041 [00:03<00:09, 161.98it/s]\u001b[A\n",
      " 28%|██▊       | 569/2041 [00:03<00:08, 165.81it/s]\u001b[A\n",
      " 29%|██▉       | 588/2041 [00:03<00:09, 150.99it/s]\u001b[A\n",
      " 30%|██▉       | 605/2041 [00:03<00:09, 154.40it/s]\u001b[A\n",
      " 30%|███       | 622/2041 [00:03<00:09, 155.05it/s]\u001b[A\n",
      " 31%|███▏      | 639/2041 [00:03<00:10, 137.01it/s]\u001b[A\n",
      " 33%|███▎      | 668/2041 [00:03<00:08, 157.25it/s]\u001b[A\n",
      " 34%|███▎      | 686/2041 [00:03<00:08, 156.77it/s]\u001b[A\n",
      " 34%|███▍      | 703/2041 [00:04<00:10, 122.53it/s]\u001b[A\n",
      " 35%|███▌      | 718/2041 [00:04<00:11, 113.07it/s]\u001b[A\n",
      " 36%|███▌      | 734/2041 [00:04<00:10, 121.84it/s]\u001b[A\n",
      " 37%|███▋      | 748/2041 [00:04<00:10, 125.06it/s]\u001b[A\n",
      " 38%|███▊      | 766/2041 [00:04<00:09, 127.68it/s]\u001b[A\n",
      " 38%|███▊      | 783/2041 [00:04<00:09, 128.03it/s]\u001b[A\n",
      " 39%|███▉      | 797/2041 [00:04<00:10, 123.34it/s]\u001b[A\n",
      " 40%|███▉      | 816/2041 [00:04<00:08, 136.93it/s]\u001b[A\n",
      " 41%|████      | 831/2041 [00:05<00:08, 140.49it/s]\u001b[A\n",
      " 42%|████▏     | 856/2041 [00:05<00:07, 151.84it/s]\u001b[A\n",
      " 43%|████▎     | 872/2041 [00:05<00:07, 152.67it/s]\u001b[A\n",
      " 44%|████▎     | 888/2041 [00:05<00:08, 130.56it/s]\u001b[A\n",
      " 45%|████▍     | 918/2041 [00:05<00:07, 153.29it/s]\u001b[A\n",
      " 46%|████▌     | 942/2041 [00:05<00:06, 159.49it/s]\u001b[A\n",
      " 47%|████▋     | 967/2041 [00:05<00:06, 167.26it/s]\u001b[A\n",
      " 48%|████▊     | 985/2041 [00:05<00:06, 169.81it/s]\u001b[A\n",
      " 49%|████▉     | 1003/2041 [00:06<00:07, 133.66it/s]\u001b[A\n",
      " 51%|█████     | 1043/2041 [00:06<00:05, 166.55it/s]\u001b[A\n",
      " 52%|█████▏    | 1066/2041 [00:06<00:06, 159.49it/s]\u001b[A\n",
      " 53%|█████▎    | 1086/2041 [00:06<00:07, 132.09it/s]\u001b[A\n",
      " 55%|█████▍    | 1122/2041 [00:06<00:06, 151.43it/s]\u001b[A\n",
      " 56%|█████▌    | 1141/2041 [00:06<00:06, 146.93it/s]\u001b[A\n",
      " 57%|█████▋    | 1160/2041 [00:07<00:05, 156.28it/s]\u001b[A\n",
      " 58%|█████▊    | 1178/2041 [00:07<00:06, 133.78it/s]\u001b[A\n",
      " 59%|█████▉    | 1205/2041 [00:07<00:05, 156.44it/s]\u001b[A\n",
      " 60%|█████▉    | 1224/2041 [00:07<00:05, 137.94it/s]\u001b[A\n",
      " 61%|██████    | 1241/2041 [00:07<00:05, 133.57it/s]\u001b[A\n",
      " 62%|██████▏   | 1262/2041 [00:07<00:05, 149.19it/s]\u001b[A\n",
      " 63%|██████▎   | 1279/2041 [00:07<00:05, 144.40it/s]\u001b[A\n",
      " 65%|██████▍   | 1319/2041 [00:07<00:04, 175.02it/s]\u001b[A\n",
      " 66%|██████▌   | 1341/2041 [00:08<00:04, 148.44it/s]\u001b[A\n",
      " 67%|██████▋   | 1374/2041 [00:08<00:03, 171.74it/s]\u001b[A\n",
      " 68%|██████▊   | 1395/2041 [00:08<00:03, 166.37it/s]\u001b[A\n",
      " 69%|██████▉   | 1415/2041 [00:08<00:04, 146.60it/s]\u001b[A\n",
      " 71%|███████   | 1453/2041 [00:08<00:03, 177.28it/s]\u001b[A\n",
      " 72%|███████▏  | 1479/2041 [00:08<00:03, 186.21it/s]\u001b[A\n",
      " 74%|███████▎  | 1501/2041 [00:08<00:02, 189.57it/s]\u001b[A\n",
      " 75%|███████▍  | 1526/2041 [00:09<00:02, 197.78it/s]\u001b[A\n",
      " 76%|███████▌  | 1552/2041 [00:09<00:02, 213.07it/s]\u001b[A\n",
      " 77%|███████▋  | 1575/2041 [00:09<00:02, 166.33it/s]\u001b[A\n",
      " 78%|███████▊  | 1595/2041 [00:09<00:03, 126.55it/s]\u001b[A\n",
      " 79%|███████▉  | 1616/2041 [00:09<00:03, 137.64it/s]\u001b[A\n",
      " 81%|████████  | 1645/2041 [00:09<00:02, 161.70it/s]\u001b[A\n",
      " 82%|████████▏ | 1665/2041 [00:10<00:02, 145.73it/s]\u001b[A\n",
      " 82%|████████▏ | 1683/2041 [00:10<00:02, 144.67it/s]\u001b[A\n",
      " 83%|████████▎ | 1700/2041 [00:10<00:02, 137.69it/s]\u001b[A\n",
      " 85%|████████▍ | 1728/2041 [00:10<00:01, 161.65it/s]\u001b[A\n",
      " 86%|████████▌ | 1750/2041 [00:10<00:01, 163.29it/s]\u001b[A\n",
      " 87%|████████▋ | 1776/2041 [00:10<00:01, 179.47it/s]\u001b[A\n",
      " 88%|████████▊ | 1796/2041 [00:10<00:01, 182.24it/s]\u001b[A\n",
      " 89%|████████▉ | 1816/2041 [00:10<00:01, 150.12it/s]\u001b[A\n",
      " 90%|████████▉ | 1833/2041 [00:11<00:01, 150.98it/s]\u001b[A\n",
      " 91%|█████████ | 1850/2041 [00:11<00:01, 126.33it/s]\u001b[A\n",
      " 92%|█████████▏| 1871/2041 [00:11<00:01, 138.84it/s]\u001b[A\n",
      " 92%|█████████▏| 1887/2041 [00:11<00:01, 137.25it/s]\u001b[A\n",
      " 93%|█████████▎| 1902/2041 [00:11<00:01, 130.66it/s]\u001b[A\n",
      " 94%|█████████▍| 1927/2041 [00:11<00:00, 146.81it/s]\u001b[A\n",
      " 96%|█████████▌| 1954/2041 [00:11<00:00, 166.69it/s]\u001b[A\n",
      " 97%|█████████▋| 1973/2041 [00:12<00:00, 133.04it/s]\u001b[A\n",
      " 98%|█████████▊| 1998/2041 [00:12<00:00, 151.54it/s]\u001b[A\n",
      "100%|██████████| 2041/2041 [00:12<00:00, 165.72it/s]\u001b[A\n"
     ]
    },
    {
     "data": {
      "text/plain": [
       "{'year-suffix': 79,\n",
       " 'NumSuffix': 117,\n",
       " 'SpannedRepeat': 83,\n",
       " 'sports-round': 27,\n",
       " 'crater-template': 8,\n",
       " 'train-template': 13,\n",
       " 'short-uppercase-acronyms': 41,\n",
       " 'year-prefix': 14,\n",
       " 'NumPrefix': 8}"
      ]
     },
     "execution_count": 37,
     "metadata": {},
     "output_type": "execute_result"
    }
   ],
   "source": [
    "from dask.bag.random import sample\n",
    "import tqdm\n",
    "\n",
    "hsample = tqdm.tqdm(headers.compute())\n",
    "\n",
    "header_tables = {}\n",
    "for h in hsample:\n",
    "    h = {'tableHeaders': h}\n",
    "    header_tables[takco.reshape.table_get_headerId(h)] = h\n",
    "\n",
    "heuristic_pivots = {}\n",
    "for p in takco.reshape.yield_pivots(hsample, unpivot_heuristics.values()):\n",
    "    h = header_tables[p['headerId']]\n",
    "    h['pivot'] = p\n",
    "    if not h['pivot'].get('discard'):\n",
    "        heuristic_pivots.setdefault(p.get('heuristic'), []).append(h)\n",
    "    \n",
    "{h:len(ps) for h,ps in heuristic_pivots.items()}"
   ]
  },
  {
   "cell_type": "code",
   "execution_count": 39,
   "metadata": {},
   "outputs": [
    {
     "data": {
      "application/vnd.jupyter.widget-view+json": {
       "model_id": "5809fc71d26f44b4ada8509426124e16",
       "version_major": 2,
       "version_minor": 0
      },
      "text/plain": [
       "HTML(value='0 examples annotated, 262 examples left')"
      ]
     },
     "metadata": {},
     "output_type": "display_data"
    },
    {
     "data": {
      "application/vnd.jupyter.widget-view+json": {
       "model_id": "11f547a72366447f83de469c26569f92",
       "version_major": 2,
       "version_minor": 0
      },
      "text/plain": [
       "HBox(children=(Button(description='good', style=ButtonStyle()), Button(description='bad', style=ButtonStyle())…"
      ]
     },
     "metadata": {},
     "output_type": "display_data"
    },
    {
     "data": {
      "application/vnd.jupyter.widget-view+json": {
       "model_id": "5842ab424135438dab83b7cbb500d4bd",
       "version_major": 2,
       "version_minor": 0
      },
      "text/plain": [
       "Output()"
      ]
     },
     "metadata": {},
     "output_type": "display_data"
    },
    {
     "name": "stdout",
     "output_type": "stream",
     "text": [
      "Annotation done.\n"
     ]
    }
   ],
   "source": [
    "def show_pivot(h):\n",
    "    df = takco.table.from_tabel(h)\n",
    "    if h.get('pivot') and not h['pivot'].get('discard'):\n",
    "        print(h.get('pivot'))\n",
    "        display.display(df.takco.highlight_pivot(**h.get('pivot')))\n",
    "    else:\n",
    "        display.display(df.takco)\n",
    "\n",
    "per_heuristic_tables = [p for h,ps in heuristic_pivots.items() for p in ps[:50]]\n",
    "        \n",
    "from pigeon import annotate\n",
    "per_heuristic_annotations = annotate(\n",
    "    per_heuristic_tables,\n",
    "    options=['good', 'bad'],\n",
    "    display_fn = show_pivot\n",
    ")"
   ]
  },
  {
   "cell_type": "code",
   "execution_count": 46,
   "metadata": {},
   "outputs": [
    {
     "name": "stdout",
     "output_type": "stream",
     "text": [
      "                   year-suffix  Precision: 1.00\n",
      "                     NumSuffix  Precision: 0.92\n",
      "                 SpannedRepeat  Precision: 0.52\n",
      "                  sports-round  Precision: 0.26\n",
      "               crater-template  Precision: 1.00\n",
      "                train-template  Precision: 1.00\n",
      "      short-uppercase-acronyms  Precision: 0.76\n",
      "                   year-prefix  Precision: 0.93\n",
      "                     NumPrefix  Precision: 0.38\n"
     ]
    }
   ],
   "source": [
    "import pandas as pd\n",
    "import json\n",
    "\n",
    "with open('pivot-annotation-precision.json', 'w') as fw:\n",
    "    json.dump(per_heuristic_annotations, fw)\n",
    "\n",
    "heuristic_annotation = {}\n",
    "for h,a in per_heuristic_annotations:\n",
    "    hname = h['pivot']['heuristic']\n",
    "    heuristic_annotation.setdefault(hname, []).append((h,a))\n",
    "    \n",
    "for hname, anns in heuristic_annotation.items():\n",
    "    p = pd.Series([bool(h.get('pivot')) for h,a in anns])\n",
    "    ok = pd.Series([a == 'good' for h,a in anns])\n",
    "\n",
    "    tp = sum(p & ok)\n",
    "    fp = sum(p & (~ok))\n",
    "    fn = sum((~p) & (~ok))\n",
    "    print(f\"{hname:>30s}  Precision: {(tp/(tp+fp)):.2f}\")"
   ]
  },
  {
   "cell_type": "code",
   "execution_count": null,
   "metadata": {},
   "outputs": [],
   "source": []
  }
 ],
 "metadata": {
  "kernelspec": {
   "display_name": "Python 3",
   "language": "python",
   "name": "python3"
  },
  "language_info": {
   "codemirror_mode": {
    "name": "ipython",
    "version": 3
   },
   "file_extension": ".py",
   "mimetype": "text/x-python",
   "name": "python",
   "nbconvert_exporter": "python",
   "pygments_lexer": "ipython3",
   "version": "3.7.4"
  }
 },
 "nbformat": 4,
 "nbformat_minor": 4
}
