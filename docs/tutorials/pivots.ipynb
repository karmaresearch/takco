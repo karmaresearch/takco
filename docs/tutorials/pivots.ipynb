{
 "cells": [
  {
   "cell_type": "markdown",
   "metadata": {},
   "source": [
    "# Annotating pivots\n",
    "\n",
    "Using the pigeon library."
   ]
  },
  {
   "cell_type": "code",
   "execution_count": 1,
   "metadata": {},
   "outputs": [
    {
     "data": {
      "text/html": [
       "<table style=\"border: 2px solid white;\">\n",
       "<tr>\n",
       "<td style=\"vertical-align: top; border: 0px solid white\">\n",
       "<h3 style=\"text-align: left;\">Client</h3>\n",
       "<ul style=\"text-align: left; list-style: none; margin: 0; padding: 0;\">\n",
       "  <li><b>Scheduler: </b>tcp://192.168.62.207:8786</li>\n",
       "  <li><b>Dashboard: </b><a href='http://192.168.62.207:8787/status' target='_blank'>http://192.168.62.207:8787/status</a></li>\n",
       "</ul>\n",
       "</td>\n",
       "<td style=\"vertical-align: top; border: 0px solid white\">\n",
       "<h3 style=\"text-align: left;\">Cluster</h3>\n",
       "<ul style=\"text-align: left; list-style:none; margin: 0; padding: 0;\">\n",
       "  <li><b>Workers: </b>10</li>\n",
       "  <li><b>Cores: </b>10</li>\n",
       "  <li><b>Memory: </b>673.47 GB</li>\n",
       "</ul>\n",
       "</td>\n",
       "</tr>\n",
       "</table>"
      ],
      "text/plain": [
       "<Client: 'tcp://192.168.62.207:8786' processes=10 threads=10, memory=673.47 GB>"
      ]
     },
     "execution_count": 1,
     "metadata": {},
     "output_type": "execute_result"
    }
   ],
   "source": [
    "%%capture --no-display\n",
    "from dask.distributed import Client\n",
    "client = Client(address = 'tcp://192.168.62.207:8786')\n",
    "client"
   ]
  },
  {
   "cell_type": "code",
   "execution_count": 2,
   "metadata": {},
   "outputs": [
    {
     "name": "stdout",
     "output_type": "stream",
     "text": [
      "CPU times: user 6.15 s, sys: 480 ms, total: 6.63 s\n",
      "Wall time: 14.5 s\n"
     ]
    },
    {
     "data": {
      "text/plain": [
       "38848"
      ]
     },
     "execution_count": 2,
     "metadata": {},
     "output_type": "execute_result"
    }
   ],
   "source": [
    "%%time\n",
    "import dask.bag as db\n",
    "from takco.util import robust_json_loads_lines\n",
    "from takco.table import from_tabel\n",
    "import takco\n",
    "\n",
    "prefix_header_rules = [\n",
    "  {'find': 'Precededby ', 'header': 'Preceded by'},\n",
    "  {'find': 'Succeededby ', 'header': 'Succeeded by'},\n",
    "  {'find': 'Previousrace:', 'header': 'Previous race'},\n",
    "  {'find': 'Nextrace:', 'header': 'Next race'}\n",
    "]\n",
    "\n",
    "# fnames = 'hdfs://bricks07:9000/user/kruit/wikidump-tables/10*.jsonl'\n",
    "fnames = 'hdfs://bricks07:9000/user/kruit/tabel/2*-aa'\n",
    "bag = db.read_text(fnames).map_partitions(robust_json_loads_lines)\\\n",
    "    .map_partitions(lambda ts: list(takco.reshape.restructure(ts, prefix_header_rules=prefix_header_rules)))\\\n",
    "    .map(from_tabel).filter(any).persist()\n",
    "bag.count().compute()"
   ]
  },
  {
   "cell_type": "code",
   "execution_count": 3,
   "metadata": {
    "scrolled": false
   },
   "outputs": [
    {
     "data": {
      "text/plain": [
       "17506"
      ]
     },
     "execution_count": 3,
     "metadata": {},
     "output_type": "execute_result"
    }
   ],
   "source": [
    "import takco\n",
    "def get_header(df):\n",
    "    return df.takco.header\n",
    "\n",
    "from collections import Counter\n",
    "header_count = Counter(dict(bag.map(get_header).frequencies().compute()))\n",
    "len(header_count)"
   ]
  },
  {
   "cell_type": "code",
   "execution_count": 24,
   "metadata": {},
   "outputs": [
    {
     "name": "stdout",
     "output_type": "stream",
     "text": [
      "[[['http://en.wikipedia.org/wiki/Prefectures_of_Japan?curid=74517'], ['http://en.wikipedia.org/wiki/NHK?curid=147782'], ['http://en.wikipedia.org/wiki/Nippon_News_Network?curid=1327898'], ['http://en.wikipedia.org/wiki/Japan_News_Network?curid=981463'], ['http://en.wikipedia.org/wiki/Fuji_News_Network?curid=981656'], ['http://en.wikipedia.org/wiki/All-Nippon_News_Network?curid=1327961'], ['http://en.wikipedia.org/wiki/TXN?curid=981674'], ['http://en.wikipedia.org/wiki/Japanese_Association_of_Independent_Television_Stations?curid=11744937']]]\n",
      "None\n",
      "{}\n",
      "[]\n"
     ]
    }
   ],
   "source": [
    "from takco import link\n",
    "from takco.linkedstring import LinkedString\n",
    "\n",
    "h = ((LinkedString('Prefectures', links=((0, 11, 'http://en.wikipedia.org/wiki/Prefectures_of_Japan?curid=74517'),)), LinkedString('NHK', links=((0, 3, 'http://en.wikipedia.org/wiki/NHK?curid=147782'),)), LinkedString('NNN', links=((0, 3, 'http://en.wikipedia.org/wiki/Nippon_News_Network?curid=1327898'),)), LinkedString('JNN', links=((0, 3, 'http://en.wikipedia.org/wiki/Japan_News_Network?curid=981463'),)), LinkedString('FNN', links=((0, 3, 'http://en.wikipedia.org/wiki/Fuji_News_Network?curid=981656'),)), LinkedString('ANN', links=((0, 3, 'http://en.wikipedia.org/wiki/All-Nippon_News_Network?curid=1327961'),)), LinkedString('TXN', links=((0, 3, 'http://en.wikipedia.org/wiki/TXN?curid=981674'),)), LinkedString('JAITS', links=((0, 5, 'http://en.wikipedia.org/wiki/Japanese_Association_of_Independent_Television_Stations?curid=11744937'),))),)\n",
    "\n",
    "with hs['AgentLikeHyperlink'] as self:\n",
    "    \n",
    "    print(link.get_hrefs(h))\n",
    "    with self.lookup as l:\n",
    "        print(l.lookup_title('http://en.wikipedia.org/wiki/Japan?'))\n",
    "    print(self.lookup.lookup_cells(link.get_hrefs(h)))\n",
    "    print(list(self.find_pivot_cells(h)))"
   ]
  },
  {
   "cell_type": "code",
   "execution_count": null,
   "metadata": {
    "scrolled": false
   },
   "outputs": [
    {
     "name": "stdout",
     "output_type": "stream",
     "text": [
      "((LinkedString('', links=()), LinkedString('Team', links=()), LinkedString('ARI', links=()), LinkedString('ATL', links=()), LinkedString('CHC', links=()), LinkedString('CIN', links=()), LinkedString('COL', links=()), LinkedString('LAD', links=()), LinkedString('MIA', links=()), LinkedString('MIL', links=()), LinkedString('NYM', links=()), LinkedString('PHI', links=()), LinkedString('PIT', links=()), LinkedString('SD', links=()), LinkedString('SF', links=()), LinkedString('STL', links=()), LinkedString('WSH', links=()), LinkedString('AL', links=())),)\n",
      "3 (0, 2, 17, 'short-uppercase-acronyms') None None\n"
     ]
    },
    {
     "data": {
      "text/html": [
       "<style  type=\"text/css\" >\n",
       "    #T_8f4230fc_358e_11eb_81c0_00259091f1e8 .col_heading.level0 {\n",
       "          display: none;\n",
       "    }    #T_8f4230fc_358e_11eb_81c0_00259091f1e8 .col_heading.level1.col2 {\n",
       "          background-color: #ff0;\n",
       "    }    #T_8f4230fc_358e_11eb_81c0_00259091f1e8 .col_heading.level1.col3 {\n",
       "          background-color: #ff0;\n",
       "    }    #T_8f4230fc_358e_11eb_81c0_00259091f1e8 .col_heading.level1.col4 {\n",
       "          background-color: #ff0;\n",
       "    }    #T_8f4230fc_358e_11eb_81c0_00259091f1e8 .col_heading.level1.col5 {\n",
       "          background-color: #ff0;\n",
       "    }    #T_8f4230fc_358e_11eb_81c0_00259091f1e8 .col_heading.level1.col6 {\n",
       "          background-color: #ff0;\n",
       "    }    #T_8f4230fc_358e_11eb_81c0_00259091f1e8 .col_heading.level1.col7 {\n",
       "          background-color: #ff0;\n",
       "    }    #T_8f4230fc_358e_11eb_81c0_00259091f1e8 .col_heading.level1.col8 {\n",
       "          background-color: #ff0;\n",
       "    }    #T_8f4230fc_358e_11eb_81c0_00259091f1e8 .col_heading.level1.col9 {\n",
       "          background-color: #ff0;\n",
       "    }    #T_8f4230fc_358e_11eb_81c0_00259091f1e8 .col_heading.level1.col10 {\n",
       "          background-color: #ff0;\n",
       "    }    #T_8f4230fc_358e_11eb_81c0_00259091f1e8 .col_heading.level1.col11 {\n",
       "          background-color: #ff0;\n",
       "    }    #T_8f4230fc_358e_11eb_81c0_00259091f1e8 .col_heading.level1.col12 {\n",
       "          background-color: #ff0;\n",
       "    }    #T_8f4230fc_358e_11eb_81c0_00259091f1e8 .col_heading.level1.col13 {\n",
       "          background-color: #ff0;\n",
       "    }    #T_8f4230fc_358e_11eb_81c0_00259091f1e8 .col_heading.level1.col14 {\n",
       "          background-color: #ff0;\n",
       "    }    #T_8f4230fc_358e_11eb_81c0_00259091f1e8 .col_heading.level1.col15 {\n",
       "          background-color: #ff0;\n",
       "    }    #T_8f4230fc_358e_11eb_81c0_00259091f1e8 .col_heading.level1.col16 {\n",
       "          background-color: #ff0;\n",
       "    }    #T_8f4230fc_358e_11eb_81c0_00259091f1e8 .col_heading.level1.col17 {\n",
       "          background-color: #ff0;\n",
       "    }</style><table id=\"T_8f4230fc_358e_11eb_81c0_00259091f1e8\" ><thead>    <tr>        <th class=\"blank level0\" ></th>        <th class=\"col_heading level0 col0\" >0</th>        <th class=\"col_heading level0 col1\" >1</th>        <th class=\"col_heading level0 col2\" >2</th>        <th class=\"col_heading level0 col3\" >3</th>        <th class=\"col_heading level0 col4\" >4</th>        <th class=\"col_heading level0 col5\" >5</th>        <th class=\"col_heading level0 col6\" >6</th>        <th class=\"col_heading level0 col7\" >7</th>        <th class=\"col_heading level0 col8\" >8</th>        <th class=\"col_heading level0 col9\" >9</th>        <th class=\"col_heading level0 col10\" >10</th>        <th class=\"col_heading level0 col11\" >11</th>        <th class=\"col_heading level0 col12\" >12</th>        <th class=\"col_heading level0 col13\" >13</th>        <th class=\"col_heading level0 col14\" >14</th>        <th class=\"col_heading level0 col15\" >15</th>        <th class=\"col_heading level0 col16\" >16</th>        <th class=\"col_heading level0 col17\" >17</th>    </tr>    <tr>        <th class=\"blank level1\" ></th>        <th class=\"col_heading level1 col0\" ></th>        <th class=\"col_heading level1 col1\" >Team</th>        <th class=\"col_heading level1 col2\" >ARI</th>        <th class=\"col_heading level1 col3\" >ATL</th>        <th class=\"col_heading level1 col4\" >CHC</th>        <th class=\"col_heading level1 col5\" >CIN</th>        <th class=\"col_heading level1 col6\" >COL</th>        <th class=\"col_heading level1 col7\" >LAD</th>        <th class=\"col_heading level1 col8\" >MIA</th>        <th class=\"col_heading level1 col9\" >MIL</th>        <th class=\"col_heading level1 col10\" >NYM</th>        <th class=\"col_heading level1 col11\" >PHI</th>        <th class=\"col_heading level1 col12\" >PIT</th>        <th class=\"col_heading level1 col13\" >SD</th>        <th class=\"col_heading level1 col14\" >SF</th>        <th class=\"col_heading level1 col15\" >STL</th>        <th class=\"col_heading level1 col16\" >WSH</th>        <th class=\"col_heading level1 col17\" >AL</th>    </tr></thead><tbody>\n",
       "        </tbody></table>"
      ],
      "text/plain": [
       "<pandas.io.formats.style.Styler at 0x7f5f21cc9b50>"
      ]
     },
     "metadata": {},
     "output_type": "display_data"
    },
    {
     "name": "stdout",
     "output_type": "stream",
     "text": [
      "((LinkedString('Prefectures', links=((0, 11, 'http://en.wikipedia.org/wiki/Prefectures_of_Japan?curid=74517'),)), LinkedString('NHK', links=((0, 3, 'http://en.wikipedia.org/wiki/NHK?curid=147782'),)), LinkedString('NNN', links=((0, 3, 'http://en.wikipedia.org/wiki/Nippon_News_Network?curid=1327898'),)), LinkedString('JNN', links=((0, 3, 'http://en.wikipedia.org/wiki/Japan_News_Network?curid=981463'),)), LinkedString('FNN', links=((0, 3, 'http://en.wikipedia.org/wiki/Fuji_News_Network?curid=981656'),)), LinkedString('ANN', links=((0, 3, 'http://en.wikipedia.org/wiki/All-Nippon_News_Network?curid=1327961'),)), LinkedString('TXN', links=((0, 3, 'http://en.wikipedia.org/wiki/TXN?curid=981674'),)), LinkedString('JAITS', links=((0, 5, 'http://en.wikipedia.org/wiki/Japanese_Association_of_Independent_Television_Stations?curid=11744937'),))),)\n",
      "3 (0, 1, 6, 'short-uppercase-acronyms') None None\n"
     ]
    },
    {
     "data": {
      "text/html": [
       "<style  type=\"text/css\" >\n",
       "    #T_8f452532_358e_11eb_81c0_00259091f1e8 .col_heading.level0 {\n",
       "          display: none;\n",
       "    }    #T_8f452532_358e_11eb_81c0_00259091f1e8 .col_heading.level1.col1 {\n",
       "          background-color: #ff0;\n",
       "    }    #T_8f452532_358e_11eb_81c0_00259091f1e8 .col_heading.level1.col2 {\n",
       "          background-color: #ff0;\n",
       "    }    #T_8f452532_358e_11eb_81c0_00259091f1e8 .col_heading.level1.col3 {\n",
       "          background-color: #ff0;\n",
       "    }    #T_8f452532_358e_11eb_81c0_00259091f1e8 .col_heading.level1.col4 {\n",
       "          background-color: #ff0;\n",
       "    }    #T_8f452532_358e_11eb_81c0_00259091f1e8 .col_heading.level1.col5 {\n",
       "          background-color: #ff0;\n",
       "    }    #T_8f452532_358e_11eb_81c0_00259091f1e8 .col_heading.level1.col6 {\n",
       "          background-color: #ff0;\n",
       "    }</style><table id=\"T_8f452532_358e_11eb_81c0_00259091f1e8\" ><thead>    <tr>        <th class=\"blank level0\" ></th>        <th class=\"col_heading level0 col0\" >0</th>        <th class=\"col_heading level0 col1\" >1</th>        <th class=\"col_heading level0 col2\" >2</th>        <th class=\"col_heading level0 col3\" >3</th>        <th class=\"col_heading level0 col4\" >4</th>        <th class=\"col_heading level0 col5\" >5</th>        <th class=\"col_heading level0 col6\" >6</th>        <th class=\"col_heading level0 col7\" >7</th>    </tr>    <tr>        <th class=\"blank level1\" ></th>        <th class=\"col_heading level1 col0\" ><a href=\"http://en.wikipedia.org/wiki/Prefectures_of_Japan?curid=74517\">Prefectures</a></th>        <th class=\"col_heading level1 col1\" ><a href=\"http://en.wikipedia.org/wiki/NHK?curid=147782\">NHK</a></th>        <th class=\"col_heading level1 col2\" ><a href=\"http://en.wikipedia.org/wiki/Nippon_News_Network?curid=1327898\">NNN</a></th>        <th class=\"col_heading level1 col3\" ><a href=\"http://en.wikipedia.org/wiki/Japan_News_Network?curid=981463\">JNN</a></th>        <th class=\"col_heading level1 col4\" ><a href=\"http://en.wikipedia.org/wiki/Fuji_News_Network?curid=981656\">FNN</a></th>        <th class=\"col_heading level1 col5\" ><a href=\"http://en.wikipedia.org/wiki/All-Nippon_News_Network?curid=1327961\">ANN</a></th>        <th class=\"col_heading level1 col6\" ><a href=\"http://en.wikipedia.org/wiki/TXN?curid=981674\">TXN</a></th>        <th class=\"col_heading level1 col7\" ><a href=\"http://en.wikipedia.org/wiki/Japanese_Association_of_Independent_Television_Stations?curid=11744937\">JAITS</a></th>    </tr></thead><tbody>\n",
       "        </tbody></table>"
      ],
      "text/plain": [
       "<pandas.io.formats.style.Styler at 0x7f5f2817fc10>"
      ]
     },
     "metadata": {},
     "output_type": "display_data"
    },
    {
     "name": "stdout",
     "output_type": "stream",
     "text": [
      "((LinkedString('Parliament', links=()), LinkedString('MSP', links=()), LinkedString('MSP', links=()), LinkedString('MSP', links=()), LinkedString('MSP', links=()), LinkedString('MSP', links=()), LinkedString('MSP', links=()), LinkedString('MSP', links=())),)\n",
      "2 (0, 1, 7, 'short-uppercase-acronyms') None None\n"
     ]
    },
    {
     "data": {
      "text/html": [
       "<style  type=\"text/css\" >\n",
       "    #T_8f4a210e_358e_11eb_81c0_00259091f1e8 .col_heading.level0 {\n",
       "          display: none;\n",
       "    }    #T_8f4a210e_358e_11eb_81c0_00259091f1e8 .col_heading.level1.col1 {\n",
       "          background-color: #ff0;\n",
       "    }    #T_8f4a210e_358e_11eb_81c0_00259091f1e8 .col_heading.level1.col2 {\n",
       "          background-color: #ff0;\n",
       "    }    #T_8f4a210e_358e_11eb_81c0_00259091f1e8 .col_heading.level1.col3 {\n",
       "          background-color: #ff0;\n",
       "    }    #T_8f4a210e_358e_11eb_81c0_00259091f1e8 .col_heading.level1.col4 {\n",
       "          background-color: #ff0;\n",
       "    }    #T_8f4a210e_358e_11eb_81c0_00259091f1e8 .col_heading.level1.col5 {\n",
       "          background-color: #ff0;\n",
       "    }    #T_8f4a210e_358e_11eb_81c0_00259091f1e8 .col_heading.level1.col6 {\n",
       "          background-color: #ff0;\n",
       "    }    #T_8f4a210e_358e_11eb_81c0_00259091f1e8 .col_heading.level1.col7 {\n",
       "          background-color: #ff0;\n",
       "    }</style><table id=\"T_8f4a210e_358e_11eb_81c0_00259091f1e8\" ><thead>    <tr>        <th class=\"blank level0\" ></th>        <th class=\"col_heading level0 col0\" >0</th>        <th class=\"col_heading level0 col1\" >1</th>        <th class=\"col_heading level0 col2\" >2</th>        <th class=\"col_heading level0 col3\" >3</th>        <th class=\"col_heading level0 col4\" >4</th>        <th class=\"col_heading level0 col5\" >5</th>        <th class=\"col_heading level0 col6\" >6</th>        <th class=\"col_heading level0 col7\" >7</th>    </tr>    <tr>        <th class=\"blank level1\" ></th>        <th class=\"col_heading level1 col0\" >Parliament</th>        <th class=\"col_heading level1 col1\" >MSP</th>        <th class=\"col_heading level1 col2\" >MSP</th>        <th class=\"col_heading level1 col3\" >MSP</th>        <th class=\"col_heading level1 col4\" >MSP</th>        <th class=\"col_heading level1 col5\" >MSP</th>        <th class=\"col_heading level1 col6\" >MSP</th>        <th class=\"col_heading level1 col7\" >MSP</th>    </tr></thead><tbody>\n",
       "        </tbody></table>"
      ],
      "text/plain": [
       "<pandas.io.formats.style.Styler at 0x7f5f2817fc90>"
      ]
     },
     "metadata": {},
     "output_type": "display_data"
    },
    {
     "name": "stdout",
     "output_type": "stream",
     "text": [
      "((LinkedString('Prefectures', links=((0, 11, 'http://en.wikipedia.org/wiki/Prefectures_of_Japan?curid=74517'),)), LinkedString('NHK', links=((0, 3, 'http://en.wikipedia.org/wiki/NHK?curid=147782'),)), LinkedString('NNN', links=((0, 3, 'http://en.wikipedia.org/wiki/Nippon_News_Network?curid=1327898'),)), LinkedString('JNN', links=((0, 3, 'http://en.wikipedia.org/wiki/Japan_News_Network?curid=981463'),)), LinkedString('FNN', links=((0, 3, 'http://en.wikipedia.org/wiki/Fuji_News_Network?curid=981656'),)), LinkedString('ANN', links=((0, 3, 'http://en.wikipedia.org/wiki/All-Nippon_News_Network?curid=1327961'),))),)\n",
      "2 (0, 1, 5, 'short-uppercase-acronyms') None None\n"
     ]
    },
    {
     "data": {
      "text/html": [
       "<style  type=\"text/css\" >\n",
       "    #T_8f4d1878_358e_11eb_81c0_00259091f1e8 .col_heading.level0 {\n",
       "          display: none;\n",
       "    }    #T_8f4d1878_358e_11eb_81c0_00259091f1e8 .col_heading.level1.col1 {\n",
       "          background-color: #ff0;\n",
       "    }    #T_8f4d1878_358e_11eb_81c0_00259091f1e8 .col_heading.level1.col2 {\n",
       "          background-color: #ff0;\n",
       "    }    #T_8f4d1878_358e_11eb_81c0_00259091f1e8 .col_heading.level1.col3 {\n",
       "          background-color: #ff0;\n",
       "    }    #T_8f4d1878_358e_11eb_81c0_00259091f1e8 .col_heading.level1.col4 {\n",
       "          background-color: #ff0;\n",
       "    }    #T_8f4d1878_358e_11eb_81c0_00259091f1e8 .col_heading.level1.col5 {\n",
       "          background-color: #ff0;\n",
       "    }</style><table id=\"T_8f4d1878_358e_11eb_81c0_00259091f1e8\" ><thead>    <tr>        <th class=\"blank level0\" ></th>        <th class=\"col_heading level0 col0\" >0</th>        <th class=\"col_heading level0 col1\" >1</th>        <th class=\"col_heading level0 col2\" >2</th>        <th class=\"col_heading level0 col3\" >3</th>        <th class=\"col_heading level0 col4\" >4</th>        <th class=\"col_heading level0 col5\" >5</th>    </tr>    <tr>        <th class=\"blank level1\" ></th>        <th class=\"col_heading level1 col0\" ><a href=\"http://en.wikipedia.org/wiki/Prefectures_of_Japan?curid=74517\">Prefectures</a></th>        <th class=\"col_heading level1 col1\" ><a href=\"http://en.wikipedia.org/wiki/NHK?curid=147782\">NHK</a></th>        <th class=\"col_heading level1 col2\" ><a href=\"http://en.wikipedia.org/wiki/Nippon_News_Network?curid=1327898\">NNN</a></th>        <th class=\"col_heading level1 col3\" ><a href=\"http://en.wikipedia.org/wiki/Japan_News_Network?curid=981463\">JNN</a></th>        <th class=\"col_heading level1 col4\" ><a href=\"http://en.wikipedia.org/wiki/Fuji_News_Network?curid=981656\">FNN</a></th>        <th class=\"col_heading level1 col5\" ><a href=\"http://en.wikipedia.org/wiki/All-Nippon_News_Network?curid=1327961\">ANN</a></th>    </tr></thead><tbody>\n",
       "        </tbody></table>"
      ],
      "text/plain": [
       "<pandas.io.formats.style.Styler at 0x7f5f8c7ee110>"
      ]
     },
     "metadata": {},
     "output_type": "display_data"
    },
    {
     "name": "stdout",
     "output_type": "stream",
     "text": [
      "((LinkedString('Team', links=()), LinkedString('ARI', links=()), LinkedString('ATL', links=()), LinkedString('CHC', links=()), LinkedString('CIN', links=()), LinkedString('COL', links=()), LinkedString('FLA', links=()), LinkedString('HOU', links=()), LinkedString('LAD', links=()), LinkedString('MIL', links=()), LinkedString('NYM', links=()), LinkedString('PHI', links=()), LinkedString('PIT', links=()), LinkedString('SD', links=()), LinkedString('SF', links=()), LinkedString('STL', links=()), LinkedString('WAS', links=()), LinkedString('AL', links=())),)\n",
      "2 (0, 1, 17, 'short-uppercase-acronyms') None None\n"
     ]
    },
    {
     "data": {
      "text/html": [
       "<style  type=\"text/css\" >\n",
       "    #T_8f509b92_358e_11eb_81c0_00259091f1e8 .col_heading.level0 {\n",
       "          display: none;\n",
       "    }    #T_8f509b92_358e_11eb_81c0_00259091f1e8 .col_heading.level1.col1 {\n",
       "          background-color: #ff0;\n",
       "    }    #T_8f509b92_358e_11eb_81c0_00259091f1e8 .col_heading.level1.col2 {\n",
       "          background-color: #ff0;\n",
       "    }    #T_8f509b92_358e_11eb_81c0_00259091f1e8 .col_heading.level1.col3 {\n",
       "          background-color: #ff0;\n",
       "    }    #T_8f509b92_358e_11eb_81c0_00259091f1e8 .col_heading.level1.col4 {\n",
       "          background-color: #ff0;\n",
       "    }    #T_8f509b92_358e_11eb_81c0_00259091f1e8 .col_heading.level1.col5 {\n",
       "          background-color: #ff0;\n",
       "    }    #T_8f509b92_358e_11eb_81c0_00259091f1e8 .col_heading.level1.col6 {\n",
       "          background-color: #ff0;\n",
       "    }    #T_8f509b92_358e_11eb_81c0_00259091f1e8 .col_heading.level1.col7 {\n",
       "          background-color: #ff0;\n",
       "    }    #T_8f509b92_358e_11eb_81c0_00259091f1e8 .col_heading.level1.col8 {\n",
       "          background-color: #ff0;\n",
       "    }    #T_8f509b92_358e_11eb_81c0_00259091f1e8 .col_heading.level1.col9 {\n",
       "          background-color: #ff0;\n",
       "    }    #T_8f509b92_358e_11eb_81c0_00259091f1e8 .col_heading.level1.col10 {\n",
       "          background-color: #ff0;\n",
       "    }    #T_8f509b92_358e_11eb_81c0_00259091f1e8 .col_heading.level1.col11 {\n",
       "          background-color: #ff0;\n",
       "    }    #T_8f509b92_358e_11eb_81c0_00259091f1e8 .col_heading.level1.col12 {\n",
       "          background-color: #ff0;\n",
       "    }    #T_8f509b92_358e_11eb_81c0_00259091f1e8 .col_heading.level1.col13 {\n",
       "          background-color: #ff0;\n",
       "    }    #T_8f509b92_358e_11eb_81c0_00259091f1e8 .col_heading.level1.col14 {\n",
       "          background-color: #ff0;\n",
       "    }    #T_8f509b92_358e_11eb_81c0_00259091f1e8 .col_heading.level1.col15 {\n",
       "          background-color: #ff0;\n",
       "    }    #T_8f509b92_358e_11eb_81c0_00259091f1e8 .col_heading.level1.col16 {\n",
       "          background-color: #ff0;\n",
       "    }    #T_8f509b92_358e_11eb_81c0_00259091f1e8 .col_heading.level1.col17 {\n",
       "          background-color: #ff0;\n",
       "    }</style><table id=\"T_8f509b92_358e_11eb_81c0_00259091f1e8\" ><thead>    <tr>        <th class=\"blank level0\" ></th>        <th class=\"col_heading level0 col0\" >0</th>        <th class=\"col_heading level0 col1\" >1</th>        <th class=\"col_heading level0 col2\" >2</th>        <th class=\"col_heading level0 col3\" >3</th>        <th class=\"col_heading level0 col4\" >4</th>        <th class=\"col_heading level0 col5\" >5</th>        <th class=\"col_heading level0 col6\" >6</th>        <th class=\"col_heading level0 col7\" >7</th>        <th class=\"col_heading level0 col8\" >8</th>        <th class=\"col_heading level0 col9\" >9</th>        <th class=\"col_heading level0 col10\" >10</th>        <th class=\"col_heading level0 col11\" >11</th>        <th class=\"col_heading level0 col12\" >12</th>        <th class=\"col_heading level0 col13\" >13</th>        <th class=\"col_heading level0 col14\" >14</th>        <th class=\"col_heading level0 col15\" >15</th>        <th class=\"col_heading level0 col16\" >16</th>        <th class=\"col_heading level0 col17\" >17</th>    </tr>    <tr>        <th class=\"blank level1\" ></th>        <th class=\"col_heading level1 col0\" >Team</th>        <th class=\"col_heading level1 col1\" >ARI</th>        <th class=\"col_heading level1 col2\" >ATL</th>        <th class=\"col_heading level1 col3\" >CHC</th>        <th class=\"col_heading level1 col4\" >CIN</th>        <th class=\"col_heading level1 col5\" >COL</th>        <th class=\"col_heading level1 col6\" >FLA</th>        <th class=\"col_heading level1 col7\" >HOU</th>        <th class=\"col_heading level1 col8\" >LAD</th>        <th class=\"col_heading level1 col9\" >MIL</th>        <th class=\"col_heading level1 col10\" >NYM</th>        <th class=\"col_heading level1 col11\" >PHI</th>        <th class=\"col_heading level1 col12\" >PIT</th>        <th class=\"col_heading level1 col13\" >SD</th>        <th class=\"col_heading level1 col14\" >SF</th>        <th class=\"col_heading level1 col15\" >STL</th>        <th class=\"col_heading level1 col16\" >WAS</th>        <th class=\"col_heading level1 col17\" >AL</th>    </tr></thead><tbody>\n",
       "        </tbody></table>"
      ],
      "text/plain": [
       "<pandas.io.formats.style.Styler at 0x7f5ff88d9490>"
      ]
     },
     "metadata": {},
     "output_type": "display_data"
    },
    {
     "name": "stdout",
     "output_type": "stream",
     "text": [
      "((LinkedString('Pos', links=()), LinkedString('Manufacturer', links=()), LinkedString('RSA', links=((0, 3, 'http://en.wikipedia.org/wiki/2000_South_African_motorcycle_Grand_Prix?curid=20164066'),)), LinkedString('MAL', links=((0, 3, 'http://en.wikipedia.org/wiki/2000_Malaysian_motorcycle_Grand_Prix?curid=20164077'),)), LinkedString('JPN', links=((0, 3, 'http://en.wikipedia.org/wiki/2000_Japanese_motorcycle_Grand_Prix?curid=20164091'),)), LinkedString('ESP', links=((0, 3, 'http://en.wikipedia.org/wiki/2000_Spanish_motorcycle_Grand_Prix?curid=20164105'),)), LinkedString('FRA', links=((0, 3, 'http://en.wikipedia.org/wiki/2000_French_motorcycle_Grand_Prix?curid=20164114'),)), LinkedString('ITA', links=((0, 3, 'http://en.wikipedia.org/wiki/2000_Italian_motorcycle_Grand_Prix?curid=20164125'),)), LinkedString('CAT', links=((0, 3, 'http://en.wikipedia.org/wiki/2000_Catalan_motorcycle_Grand_Prix?curid=20164146'),)), LinkedString('NED', links=((0, 3, 'http://en.wikipedia.org/wiki/2000_Dutch_TT?curid=20164167'),)), LinkedString('GBR', links=((0, 3, 'http://en.wikipedia.org/wiki/2000_British_motorcycle_Grand_Prix?curid=20164184'),)), LinkedString('GER', links=((0, 3, 'http://en.wikipedia.org/wiki/2000_German_motorcycle_Grand_Prix?curid=20164190'),)), LinkedString('CZE', links=((0, 3, 'http://en.wikipedia.org/wiki/2000_Czech_Republic_motorcycle_Grand_Prix?curid=20164197'),)), LinkedString('POR', links=((0, 3, 'http://en.wikipedia.org/wiki/2000_Portuguese_motorcycle_Grand_Prix?curid=20164215'),)), LinkedString('VAL', links=((0, 3, 'http://en.wikipedia.org/wiki/2000_Valencian_Community_motorcycle_Grand_Prix?curid=20164234'),)), LinkedString('RIO', links=((0, 3, 'http://en.wikipedia.org/wiki/2000_Rio_de_Janeiro_motorcycle_Grand_Prix?curid=20164243'),)), LinkedString('PAC', links=((0, 3, 'http://en.wikipedia.org/wiki/2000_Pacific_motorcycle_Grand_Prix?curid=20164259'),)), LinkedString('AUS', links=((0, 3, 'http://en.wikipedia.org/wiki/2000_Australian_motorcycle_Grand_Prix?curid=20164269'),)), LinkedString('Pts', links=())),)\n",
      "2 (0, 2, 17, 'short-uppercase-acronyms') None None\n"
     ]
    },
    {
     "data": {
      "text/html": [
       "<style  type=\"text/css\" >\n",
       "    #T_8f54e0b2_358e_11eb_81c0_00259091f1e8 .col_heading.level0 {\n",
       "          display: none;\n",
       "    }    #T_8f54e0b2_358e_11eb_81c0_00259091f1e8 .col_heading.level1.col2 {\n",
       "          background-color: #ff0;\n",
       "    }    #T_8f54e0b2_358e_11eb_81c0_00259091f1e8 .col_heading.level1.col3 {\n",
       "          background-color: #ff0;\n",
       "    }    #T_8f54e0b2_358e_11eb_81c0_00259091f1e8 .col_heading.level1.col4 {\n",
       "          background-color: #ff0;\n",
       "    }    #T_8f54e0b2_358e_11eb_81c0_00259091f1e8 .col_heading.level1.col5 {\n",
       "          background-color: #ff0;\n",
       "    }    #T_8f54e0b2_358e_11eb_81c0_00259091f1e8 .col_heading.level1.col6 {\n",
       "          background-color: #ff0;\n",
       "    }    #T_8f54e0b2_358e_11eb_81c0_00259091f1e8 .col_heading.level1.col7 {\n",
       "          background-color: #ff0;\n",
       "    }    #T_8f54e0b2_358e_11eb_81c0_00259091f1e8 .col_heading.level1.col8 {\n",
       "          background-color: #ff0;\n",
       "    }    #T_8f54e0b2_358e_11eb_81c0_00259091f1e8 .col_heading.level1.col9 {\n",
       "          background-color: #ff0;\n",
       "    }    #T_8f54e0b2_358e_11eb_81c0_00259091f1e8 .col_heading.level1.col10 {\n",
       "          background-color: #ff0;\n",
       "    }    #T_8f54e0b2_358e_11eb_81c0_00259091f1e8 .col_heading.level1.col11 {\n",
       "          background-color: #ff0;\n",
       "    }    #T_8f54e0b2_358e_11eb_81c0_00259091f1e8 .col_heading.level1.col12 {\n",
       "          background-color: #ff0;\n",
       "    }    #T_8f54e0b2_358e_11eb_81c0_00259091f1e8 .col_heading.level1.col13 {\n",
       "          background-color: #ff0;\n",
       "    }    #T_8f54e0b2_358e_11eb_81c0_00259091f1e8 .col_heading.level1.col14 {\n",
       "          background-color: #ff0;\n",
       "    }    #T_8f54e0b2_358e_11eb_81c0_00259091f1e8 .col_heading.level1.col15 {\n",
       "          background-color: #ff0;\n",
       "    }    #T_8f54e0b2_358e_11eb_81c0_00259091f1e8 .col_heading.level1.col16 {\n",
       "          background-color: #ff0;\n",
       "    }    #T_8f54e0b2_358e_11eb_81c0_00259091f1e8 .col_heading.level1.col17 {\n",
       "          background-color: #ff0;\n",
       "    }</style><table id=\"T_8f54e0b2_358e_11eb_81c0_00259091f1e8\" ><thead>    <tr>        <th class=\"blank level0\" ></th>        <th class=\"col_heading level0 col0\" >0</th>        <th class=\"col_heading level0 col1\" >1</th>        <th class=\"col_heading level0 col2\" >2</th>        <th class=\"col_heading level0 col3\" >3</th>        <th class=\"col_heading level0 col4\" >4</th>        <th class=\"col_heading level0 col5\" >5</th>        <th class=\"col_heading level0 col6\" >6</th>        <th class=\"col_heading level0 col7\" >7</th>        <th class=\"col_heading level0 col8\" >8</th>        <th class=\"col_heading level0 col9\" >9</th>        <th class=\"col_heading level0 col10\" >10</th>        <th class=\"col_heading level0 col11\" >11</th>        <th class=\"col_heading level0 col12\" >12</th>        <th class=\"col_heading level0 col13\" >13</th>        <th class=\"col_heading level0 col14\" >14</th>        <th class=\"col_heading level0 col15\" >15</th>        <th class=\"col_heading level0 col16\" >16</th>        <th class=\"col_heading level0 col17\" >17</th>        <th class=\"col_heading level0 col18\" >18</th>    </tr>    <tr>        <th class=\"blank level1\" ></th>        <th class=\"col_heading level1 col0\" >Pos</th>        <th class=\"col_heading level1 col1\" >Manufacturer</th>        <th class=\"col_heading level1 col2\" ><a href=\"http://en.wikipedia.org/wiki/2000_South_African_motorcycle_Grand_Prix?curid=20164066\">RSA</a></th>        <th class=\"col_heading level1 col3\" ><a href=\"http://en.wikipedia.org/wiki/2000_Malaysian_motorcycle_Grand_Prix?curid=20164077\">MAL</a></th>        <th class=\"col_heading level1 col4\" ><a href=\"http://en.wikipedia.org/wiki/2000_Japanese_motorcycle_Grand_Prix?curid=20164091\">JPN</a></th>        <th class=\"col_heading level1 col5\" ><a href=\"http://en.wikipedia.org/wiki/2000_Spanish_motorcycle_Grand_Prix?curid=20164105\">ESP</a></th>        <th class=\"col_heading level1 col6\" ><a href=\"http://en.wikipedia.org/wiki/2000_French_motorcycle_Grand_Prix?curid=20164114\">FRA</a></th>        <th class=\"col_heading level1 col7\" ><a href=\"http://en.wikipedia.org/wiki/2000_Italian_motorcycle_Grand_Prix?curid=20164125\">ITA</a></th>        <th class=\"col_heading level1 col8\" ><a href=\"http://en.wikipedia.org/wiki/2000_Catalan_motorcycle_Grand_Prix?curid=20164146\">CAT</a></th>        <th class=\"col_heading level1 col9\" ><a href=\"http://en.wikipedia.org/wiki/2000_Dutch_TT?curid=20164167\">NED</a></th>        <th class=\"col_heading level1 col10\" ><a href=\"http://en.wikipedia.org/wiki/2000_British_motorcycle_Grand_Prix?curid=20164184\">GBR</a></th>        <th class=\"col_heading level1 col11\" ><a href=\"http://en.wikipedia.org/wiki/2000_German_motorcycle_Grand_Prix?curid=20164190\">GER</a></th>        <th class=\"col_heading level1 col12\" ><a href=\"http://en.wikipedia.org/wiki/2000_Czech_Republic_motorcycle_Grand_Prix?curid=20164197\">CZE</a></th>        <th class=\"col_heading level1 col13\" ><a href=\"http://en.wikipedia.org/wiki/2000_Portuguese_motorcycle_Grand_Prix?curid=20164215\">POR</a></th>        <th class=\"col_heading level1 col14\" ><a href=\"http://en.wikipedia.org/wiki/2000_Valencian_Community_motorcycle_Grand_Prix?curid=20164234\">VAL</a></th>        <th class=\"col_heading level1 col15\" ><a href=\"http://en.wikipedia.org/wiki/2000_Rio_de_Janeiro_motorcycle_Grand_Prix?curid=20164243\">RIO</a></th>        <th class=\"col_heading level1 col16\" ><a href=\"http://en.wikipedia.org/wiki/2000_Pacific_motorcycle_Grand_Prix?curid=20164259\">PAC</a></th>        <th class=\"col_heading level1 col17\" ><a href=\"http://en.wikipedia.org/wiki/2000_Australian_motorcycle_Grand_Prix?curid=20164269\">AUS</a></th>        <th class=\"col_heading level1 col18\" >Pts</th>    </tr></thead><tbody>\n",
       "        </tbody></table>"
      ],
      "text/plain": [
       "<pandas.io.formats.style.Styler at 0x7f5f223ede10>"
      ]
     },
     "metadata": {},
     "output_type": "display_data"
    },
    {
     "name": "stdout",
     "output_type": "stream",
     "text": [
      "((LinkedString('Home \\ Away [1 ]', links=()), LinkedString('FAE', links=((0, 3, 'http://en.wikipedia.org/wiki/Faenza_Calcio?curid=35239786'),)), LinkedString('FOR', links=((0, 3, 'http://en.wikipedia.org/wiki/Forlì_F.C.?curid=3011926'),)), LinkedString('FRL', links=((0, 3, 'http://en.wikipedia.org/wiki/Forlimpopoli_Calcio'),)), LinkedString('IML', links=((0, 3, 'http://en.wikipedia.org/wiki/Imolese_Calcio_1919?curid=40178843'),)), LinkedString('RAV', links=((0, 3, 'http://en.wikipedia.org/wiki/S.C._Ravenna_Sport_2019?curid=2876568'),))),)\n",
      "1 (0, 1, 5, 'short-uppercase-acronyms') None None\n"
     ]
    },
    {
     "data": {
      "text/html": [
       "<style  type=\"text/css\" >\n",
       "    #T_8f57b4f4_358e_11eb_81c0_00259091f1e8 .col_heading.level0 {\n",
       "          display: none;\n",
       "    }    #T_8f57b4f4_358e_11eb_81c0_00259091f1e8 .col_heading.level1.col1 {\n",
       "          background-color: #ff0;\n",
       "    }    #T_8f57b4f4_358e_11eb_81c0_00259091f1e8 .col_heading.level1.col2 {\n",
       "          background-color: #ff0;\n",
       "    }    #T_8f57b4f4_358e_11eb_81c0_00259091f1e8 .col_heading.level1.col3 {\n",
       "          background-color: #ff0;\n",
       "    }    #T_8f57b4f4_358e_11eb_81c0_00259091f1e8 .col_heading.level1.col4 {\n",
       "          background-color: #ff0;\n",
       "    }    #T_8f57b4f4_358e_11eb_81c0_00259091f1e8 .col_heading.level1.col5 {\n",
       "          background-color: #ff0;\n",
       "    }</style><table id=\"T_8f57b4f4_358e_11eb_81c0_00259091f1e8\" ><thead>    <tr>        <th class=\"blank level0\" ></th>        <th class=\"col_heading level0 col0\" >0</th>        <th class=\"col_heading level0 col1\" >1</th>        <th class=\"col_heading level0 col2\" >2</th>        <th class=\"col_heading level0 col3\" >3</th>        <th class=\"col_heading level0 col4\" >4</th>        <th class=\"col_heading level0 col5\" >5</th>    </tr>    <tr>        <th class=\"blank level1\" ></th>        <th class=\"col_heading level1 col0\" >Home \\ Away [1 ]</th>        <th class=\"col_heading level1 col1\" ><a href=\"http://en.wikipedia.org/wiki/Faenza_Calcio?curid=35239786\">FAE</a></th>        <th class=\"col_heading level1 col2\" ><a href=\"http://en.wikipedia.org/wiki/Forlì_F.C.?curid=3011926\">FOR</a></th>        <th class=\"col_heading level1 col3\" ><a href=\"http://en.wikipedia.org/wiki/Forlimpopoli_Calcio\">FRL</a></th>        <th class=\"col_heading level1 col4\" ><a href=\"http://en.wikipedia.org/wiki/Imolese_Calcio_1919?curid=40178843\">IML</a></th>        <th class=\"col_heading level1 col5\" ><a href=\"http://en.wikipedia.org/wiki/S.C._Ravenna_Sport_2019?curid=2876568\">RAV</a></th>    </tr></thead><tbody>\n",
       "        </tbody></table>"
      ],
      "text/plain": [
       "<pandas.io.formats.style.Styler at 0x7f5f2810bb10>"
      ]
     },
     "metadata": {},
     "output_type": "display_data"
    },
    {
     "name": "stdout",
     "output_type": "stream",
     "text": [
      "((LinkedString('Rank', links=()), LinkedString('Team', links=()), LinkedString('Car', links=()), LinkedString('FUJ ‡', links=((0, 3, 'http://en.wikipedia.org/wiki/Fuji_International_Speedway?curid=249152'),)), LinkedString('SUZ', links=((0, 3, 'http://en.wikipedia.org/wiki/Suzuka_Circuit?curid=748984'),)), LinkedString('MOT', links=((0, 3, 'http://en.wikipedia.org/wiki/Twin_Ring_Motegi?curid=2015774'),)), LinkedString('SUZ', links=((0, 3, 'http://en.wikipedia.org/wiki/Suzuka_Circuit?curid=748984'),)), LinkedString('ATP', links=((0, 3, 'http://en.wikipedia.org/wiki/Autopolis?curid=4820833'),)), LinkedString('FUJ', links=((0, 3, 'http://en.wikipedia.org/wiki/Fuji_International_Speedway?curid=249152'),)), LinkedString('SGO', links=((0, 3, 'http://en.wikipedia.org/wiki/Sportsland_SUGO?curid=13377073'),)), LinkedString('MOT', links=((0, 3, 'http://en.wikipedia.org/wiki/Twin_Ring_Motegi?curid=2015774'),)), LinkedString('SUZ', links=((0, 3, 'http://en.wikipedia.org/wiki/Suzuka_Circuit?curid=748984'),)), LinkedString('Points', links=())),)\n",
      "1 (0, 4, 11, 'short-uppercase-acronyms') None None\n"
     ]
    },
    {
     "data": {
      "text/html": [
       "<style  type=\"text/css\" >\n",
       "    #T_8f5a2bb2_358e_11eb_81c0_00259091f1e8 .col_heading.level0 {\n",
       "          display: none;\n",
       "    }    #T_8f5a2bb2_358e_11eb_81c0_00259091f1e8 .col_heading.level1.col4 {\n",
       "          background-color: #ff0;\n",
       "    }    #T_8f5a2bb2_358e_11eb_81c0_00259091f1e8 .col_heading.level1.col5 {\n",
       "          background-color: #ff0;\n",
       "    }    #T_8f5a2bb2_358e_11eb_81c0_00259091f1e8 .col_heading.level1.col6 {\n",
       "          background-color: #ff0;\n",
       "    }    #T_8f5a2bb2_358e_11eb_81c0_00259091f1e8 .col_heading.level1.col7 {\n",
       "          background-color: #ff0;\n",
       "    }    #T_8f5a2bb2_358e_11eb_81c0_00259091f1e8 .col_heading.level1.col8 {\n",
       "          background-color: #ff0;\n",
       "    }    #T_8f5a2bb2_358e_11eb_81c0_00259091f1e8 .col_heading.level1.col9 {\n",
       "          background-color: #ff0;\n",
       "    }    #T_8f5a2bb2_358e_11eb_81c0_00259091f1e8 .col_heading.level1.col10 {\n",
       "          background-color: #ff0;\n",
       "    }    #T_8f5a2bb2_358e_11eb_81c0_00259091f1e8 .col_heading.level1.col11 {\n",
       "          background-color: #ff0;\n",
       "    }</style><table id=\"T_8f5a2bb2_358e_11eb_81c0_00259091f1e8\" ><thead>    <tr>        <th class=\"blank level0\" ></th>        <th class=\"col_heading level0 col0\" >0</th>        <th class=\"col_heading level0 col1\" >1</th>        <th class=\"col_heading level0 col2\" >2</th>        <th class=\"col_heading level0 col3\" >3</th>        <th class=\"col_heading level0 col4\" >4</th>        <th class=\"col_heading level0 col5\" >5</th>        <th class=\"col_heading level0 col6\" >6</th>        <th class=\"col_heading level0 col7\" >7</th>        <th class=\"col_heading level0 col8\" >8</th>        <th class=\"col_heading level0 col9\" >9</th>        <th class=\"col_heading level0 col10\" >10</th>        <th class=\"col_heading level0 col11\" >11</th>        <th class=\"col_heading level0 col12\" >12</th>    </tr>    <tr>        <th class=\"blank level1\" ></th>        <th class=\"col_heading level1 col0\" >Rank</th>        <th class=\"col_heading level1 col1\" >Team</th>        <th class=\"col_heading level1 col2\" >Car</th>        <th class=\"col_heading level1 col3\" ><a href=\"http://en.wikipedia.org/wiki/Fuji_International_Speedway?curid=249152\">FUJ</a> ‡</th>        <th class=\"col_heading level1 col4\" ><a href=\"http://en.wikipedia.org/wiki/Suzuka_Circuit?curid=748984\">SUZ</a></th>        <th class=\"col_heading level1 col5\" ><a href=\"http://en.wikipedia.org/wiki/Twin_Ring_Motegi?curid=2015774\">MOT</a></th>        <th class=\"col_heading level1 col6\" ><a href=\"http://en.wikipedia.org/wiki/Suzuka_Circuit?curid=748984\">SUZ</a></th>        <th class=\"col_heading level1 col7\" ><a href=\"http://en.wikipedia.org/wiki/Autopolis?curid=4820833\">ATP</a></th>        <th class=\"col_heading level1 col8\" ><a href=\"http://en.wikipedia.org/wiki/Fuji_International_Speedway?curid=249152\">FUJ</a></th>        <th class=\"col_heading level1 col9\" ><a href=\"http://en.wikipedia.org/wiki/Sportsland_SUGO?curid=13377073\">SGO</a></th>        <th class=\"col_heading level1 col10\" ><a href=\"http://en.wikipedia.org/wiki/Twin_Ring_Motegi?curid=2015774\">MOT</a></th>        <th class=\"col_heading level1 col11\" ><a href=\"http://en.wikipedia.org/wiki/Suzuka_Circuit?curid=748984\">SUZ</a></th>        <th class=\"col_heading level1 col12\" >Points</th>    </tr></thead><tbody>\n",
       "        </tbody></table>"
      ],
      "text/plain": [
       "<pandas.io.formats.style.Styler at 0x7f5f21bb3fd0>"
      ]
     },
     "metadata": {},
     "output_type": "display_data"
    },
    {
     "name": "stdout",
     "output_type": "stream",
     "text": [
      "((LinkedString('', links=()), LinkedString('QIC', links=((0, 3, 'http://en.wikipedia.org/wiki/QIC?curid=895333'),)), LinkedString('QIC', links=((0, 3, 'http://en.wikipedia.org/wiki/QIC?curid=895333'),)), LinkedString('QIC', links=((0, 3, 'http://en.wikipedia.org/wiki/QIC?curid=895333'),)), LinkedString('QIC', links=((0, 3, 'http://en.wikipedia.org/wiki/QIC?curid=895333'),)), LinkedString('QIC', links=((0, 3, 'http://en.wikipedia.org/wiki/QIC?curid=895333'),)), LinkedString('QIC', links=((0, 3, 'http://en.wikipedia.org/wiki/QIC?curid=895333'),)), LinkedString('QIC', links=((0, 3, 'http://en.wikipedia.org/wiki/QIC?curid=895333'),)), LinkedString('QIC', links=((0, 3, 'http://en.wikipedia.org/wiki/QIC?curid=895333'),)), LinkedString('QIC', links=((0, 3, 'http://en.wikipedia.org/wiki/QIC?curid=895333'),)), LinkedString('QIC', links=((0, 3, 'http://en.wikipedia.org/wiki/QIC?curid=895333'),)), LinkedString('QIC', links=((0, 3, 'http://en.wikipedia.org/wiki/QIC?curid=895333'),)), LinkedString('Travan', links=((0, 6, 'http://en.wikipedia.org/wiki/Travan?curid=904251'),)), LinkedString('Travan', links=((0, 6, 'http://en.wikipedia.org/wiki/Travan?curid=904251'),)), LinkedString('Travan', links=((0, 6, 'http://en.wikipedia.org/wiki/Travan?curid=904251'),)), LinkedString('Iomega Ditto', links=()), LinkedString('Iomega Ditto', links=()), LinkedString('Iomega Ditto', links=()), LinkedString('Iomega Ditto', links=()), LinkedString('Iomega Ditto', links=()), LinkedString('Iomega Ditto', links=())),)\n",
      "1 (0, 1, 11, 'short-uppercase-acronyms') None None\n"
     ]
    },
    {
     "data": {
      "text/html": [
       "<style  type=\"text/css\" >\n",
       "    #T_8f5e1696_358e_11eb_81c0_00259091f1e8 .col_heading.level0 {\n",
       "          display: none;\n",
       "    }    #T_8f5e1696_358e_11eb_81c0_00259091f1e8 .col_heading.level1.col1 {\n",
       "          background-color: #ff0;\n",
       "    }    #T_8f5e1696_358e_11eb_81c0_00259091f1e8 .col_heading.level1.col2 {\n",
       "          background-color: #ff0;\n",
       "    }    #T_8f5e1696_358e_11eb_81c0_00259091f1e8 .col_heading.level1.col3 {\n",
       "          background-color: #ff0;\n",
       "    }    #T_8f5e1696_358e_11eb_81c0_00259091f1e8 .col_heading.level1.col4 {\n",
       "          background-color: #ff0;\n",
       "    }    #T_8f5e1696_358e_11eb_81c0_00259091f1e8 .col_heading.level1.col5 {\n",
       "          background-color: #ff0;\n",
       "    }    #T_8f5e1696_358e_11eb_81c0_00259091f1e8 .col_heading.level1.col6 {\n",
       "          background-color: #ff0;\n",
       "    }    #T_8f5e1696_358e_11eb_81c0_00259091f1e8 .col_heading.level1.col7 {\n",
       "          background-color: #ff0;\n",
       "    }    #T_8f5e1696_358e_11eb_81c0_00259091f1e8 .col_heading.level1.col8 {\n",
       "          background-color: #ff0;\n",
       "    }    #T_8f5e1696_358e_11eb_81c0_00259091f1e8 .col_heading.level1.col9 {\n",
       "          background-color: #ff0;\n",
       "    }    #T_8f5e1696_358e_11eb_81c0_00259091f1e8 .col_heading.level1.col10 {\n",
       "          background-color: #ff0;\n",
       "    }    #T_8f5e1696_358e_11eb_81c0_00259091f1e8 .col_heading.level1.col11 {\n",
       "          background-color: #ff0;\n",
       "    }</style><table id=\"T_8f5e1696_358e_11eb_81c0_00259091f1e8\" ><thead>    <tr>        <th class=\"blank level0\" ></th>        <th class=\"col_heading level0 col0\" >0</th>        <th class=\"col_heading level0 col1\" >1</th>        <th class=\"col_heading level0 col2\" >2</th>        <th class=\"col_heading level0 col3\" >3</th>        <th class=\"col_heading level0 col4\" >4</th>        <th class=\"col_heading level0 col5\" >5</th>        <th class=\"col_heading level0 col6\" >6</th>        <th class=\"col_heading level0 col7\" >7</th>        <th class=\"col_heading level0 col8\" >8</th>        <th class=\"col_heading level0 col9\" >9</th>        <th class=\"col_heading level0 col10\" >10</th>        <th class=\"col_heading level0 col11\" >11</th>        <th class=\"col_heading level0 col12\" >12</th>        <th class=\"col_heading level0 col13\" >13</th>        <th class=\"col_heading level0 col14\" >14</th>        <th class=\"col_heading level0 col15\" >15</th>        <th class=\"col_heading level0 col16\" >16</th>        <th class=\"col_heading level0 col17\" >17</th>        <th class=\"col_heading level0 col18\" >18</th>        <th class=\"col_heading level0 col19\" >19</th>        <th class=\"col_heading level0 col20\" >20</th>    </tr>    <tr>        <th class=\"blank level1\" ></th>        <th class=\"col_heading level1 col0\" ></th>        <th class=\"col_heading level1 col1\" ><a href=\"http://en.wikipedia.org/wiki/QIC?curid=895333\">QIC</a></th>        <th class=\"col_heading level1 col2\" ><a href=\"http://en.wikipedia.org/wiki/QIC?curid=895333\">QIC</a></th>        <th class=\"col_heading level1 col3\" ><a href=\"http://en.wikipedia.org/wiki/QIC?curid=895333\">QIC</a></th>        <th class=\"col_heading level1 col4\" ><a href=\"http://en.wikipedia.org/wiki/QIC?curid=895333\">QIC</a></th>        <th class=\"col_heading level1 col5\" ><a href=\"http://en.wikipedia.org/wiki/QIC?curid=895333\">QIC</a></th>        <th class=\"col_heading level1 col6\" ><a href=\"http://en.wikipedia.org/wiki/QIC?curid=895333\">QIC</a></th>        <th class=\"col_heading level1 col7\" ><a href=\"http://en.wikipedia.org/wiki/QIC?curid=895333\">QIC</a></th>        <th class=\"col_heading level1 col8\" ><a href=\"http://en.wikipedia.org/wiki/QIC?curid=895333\">QIC</a></th>        <th class=\"col_heading level1 col9\" ><a href=\"http://en.wikipedia.org/wiki/QIC?curid=895333\">QIC</a></th>        <th class=\"col_heading level1 col10\" ><a href=\"http://en.wikipedia.org/wiki/QIC?curid=895333\">QIC</a></th>        <th class=\"col_heading level1 col11\" ><a href=\"http://en.wikipedia.org/wiki/QIC?curid=895333\">QIC</a></th>        <th class=\"col_heading level1 col12\" ><a href=\"http://en.wikipedia.org/wiki/Travan?curid=904251\">Travan</a></th>        <th class=\"col_heading level1 col13\" ><a href=\"http://en.wikipedia.org/wiki/Travan?curid=904251\">Travan</a></th>        <th class=\"col_heading level1 col14\" ><a href=\"http://en.wikipedia.org/wiki/Travan?curid=904251\">Travan</a></th>        <th class=\"col_heading level1 col15\" >Iomega Ditto</th>        <th class=\"col_heading level1 col16\" >Iomega Ditto</th>        <th class=\"col_heading level1 col17\" >Iomega Ditto</th>        <th class=\"col_heading level1 col18\" >Iomega Ditto</th>        <th class=\"col_heading level1 col19\" >Iomega Ditto</th>        <th class=\"col_heading level1 col20\" >Iomega Ditto</th>    </tr></thead><tbody>\n",
       "        </tbody></table>"
      ],
      "text/plain": [
       "<pandas.io.formats.style.Styler at 0x7f5f2217e750>"
      ]
     },
     "metadata": {},
     "output_type": "display_data"
    },
    {
     "name": "stdout",
     "output_type": "stream",
     "text": [
      "((LinkedString('Home \\ Away [1 ]', links=()), LinkedString('BAR', links=((0, 3, 'http://en.wikipedia.org/wiki/Barnsley_F.C.?curid=333188'),)), LinkedString('BIR', links=((0, 3, 'http://en.wikipedia.org/wiki/Birmingham_City_F.C._Reserves_and_Academy?curid=14570169'),)), LinkedString('COV', links=((0, 3, 'http://en.wikipedia.org/wiki/Coventry_City_F.C.?curid=435021'),)), LinkedString('CRE', links=((0, 3, 'http://en.wikipedia.org/wiki/Crewe_Alexandra_F.C._Academy?curid=28412914'),)), LinkedString('DER', links=((0, 3, 'http://en.wikipedia.org/wiki/Derby_County_F.C.?curid=4721303'),)), LinkedString('HUD', links=((0, 3, 'http://en.wikipedia.org/wiki/Huddersfield_Town_F.C.?curid=236211'),)), LinkedString('LEE', links=((0, 3, 'http://en.wikipedia.org/wiki/Leeds_United_A.F.C._Reserves_and_Youth_Team?curid=19113823'),)), LinkedString('NOT', links=((0, 3, 'http://en.wikipedia.org/wiki/Nottingham_Forest_F.C.?curid=157294'),)), LinkedString('SHE', links=((0, 3, 'http://en.wikipedia.org/wiki/Sheffield_United_F.C._Academy?curid=31532150'),)), LinkedString('SHW', links=((0, 3, 'http://en.wikipedia.org/wiki/Sheffield_Wednesday_F.C._Academy?curid=19063166'),))),)\n",
      "1 (0, 1, 10, 'short-uppercase-acronyms') None None\n"
     ]
    },
    {
     "data": {
      "text/html": [
       "<style  type=\"text/css\" >\n",
       "    #T_8f610b6c_358e_11eb_81c0_00259091f1e8 .col_heading.level0 {\n",
       "          display: none;\n",
       "    }    #T_8f610b6c_358e_11eb_81c0_00259091f1e8 .col_heading.level1.col1 {\n",
       "          background-color: #ff0;\n",
       "    }    #T_8f610b6c_358e_11eb_81c0_00259091f1e8 .col_heading.level1.col2 {\n",
       "          background-color: #ff0;\n",
       "    }    #T_8f610b6c_358e_11eb_81c0_00259091f1e8 .col_heading.level1.col3 {\n",
       "          background-color: #ff0;\n",
       "    }    #T_8f610b6c_358e_11eb_81c0_00259091f1e8 .col_heading.level1.col4 {\n",
       "          background-color: #ff0;\n",
       "    }    #T_8f610b6c_358e_11eb_81c0_00259091f1e8 .col_heading.level1.col5 {\n",
       "          background-color: #ff0;\n",
       "    }    #T_8f610b6c_358e_11eb_81c0_00259091f1e8 .col_heading.level1.col6 {\n",
       "          background-color: #ff0;\n",
       "    }    #T_8f610b6c_358e_11eb_81c0_00259091f1e8 .col_heading.level1.col7 {\n",
       "          background-color: #ff0;\n",
       "    }    #T_8f610b6c_358e_11eb_81c0_00259091f1e8 .col_heading.level1.col8 {\n",
       "          background-color: #ff0;\n",
       "    }    #T_8f610b6c_358e_11eb_81c0_00259091f1e8 .col_heading.level1.col9 {\n",
       "          background-color: #ff0;\n",
       "    }    #T_8f610b6c_358e_11eb_81c0_00259091f1e8 .col_heading.level1.col10 {\n",
       "          background-color: #ff0;\n",
       "    }</style><table id=\"T_8f610b6c_358e_11eb_81c0_00259091f1e8\" ><thead>    <tr>        <th class=\"blank level0\" ></th>        <th class=\"col_heading level0 col0\" >0</th>        <th class=\"col_heading level0 col1\" >1</th>        <th class=\"col_heading level0 col2\" >2</th>        <th class=\"col_heading level0 col3\" >3</th>        <th class=\"col_heading level0 col4\" >4</th>        <th class=\"col_heading level0 col5\" >5</th>        <th class=\"col_heading level0 col6\" >6</th>        <th class=\"col_heading level0 col7\" >7</th>        <th class=\"col_heading level0 col8\" >8</th>        <th class=\"col_heading level0 col9\" >9</th>        <th class=\"col_heading level0 col10\" >10</th>    </tr>    <tr>        <th class=\"blank level1\" ></th>        <th class=\"col_heading level1 col0\" >Home \\ Away [1 ]</th>        <th class=\"col_heading level1 col1\" ><a href=\"http://en.wikipedia.org/wiki/Barnsley_F.C.?curid=333188\">BAR</a></th>        <th class=\"col_heading level1 col2\" ><a href=\"http://en.wikipedia.org/wiki/Birmingham_City_F.C._Reserves_and_Academy?curid=14570169\">BIR</a></th>        <th class=\"col_heading level1 col3\" ><a href=\"http://en.wikipedia.org/wiki/Coventry_City_F.C.?curid=435021\">COV</a></th>        <th class=\"col_heading level1 col4\" ><a href=\"http://en.wikipedia.org/wiki/Crewe_Alexandra_F.C._Academy?curid=28412914\">CRE</a></th>        <th class=\"col_heading level1 col5\" ><a href=\"http://en.wikipedia.org/wiki/Derby_County_F.C.?curid=4721303\">DER</a></th>        <th class=\"col_heading level1 col6\" ><a href=\"http://en.wikipedia.org/wiki/Huddersfield_Town_F.C.?curid=236211\">HUD</a></th>        <th class=\"col_heading level1 col7\" ><a href=\"http://en.wikipedia.org/wiki/Leeds_United_A.F.C._Reserves_and_Youth_Team?curid=19113823\">LEE</a></th>        <th class=\"col_heading level1 col8\" ><a href=\"http://en.wikipedia.org/wiki/Nottingham_Forest_F.C.?curid=157294\">NOT</a></th>        <th class=\"col_heading level1 col9\" ><a href=\"http://en.wikipedia.org/wiki/Sheffield_United_F.C._Academy?curid=31532150\">SHE</a></th>        <th class=\"col_heading level1 col10\" ><a href=\"http://en.wikipedia.org/wiki/Sheffield_Wednesday_F.C._Academy?curid=19063166\">SHW</a></th>    </tr></thead><tbody>\n",
       "        </tbody></table>"
      ],
      "text/plain": [
       "<pandas.io.formats.style.Styler at 0x7f5f2810b910>"
      ]
     },
     "metadata": {},
     "output_type": "display_data"
    },
    {
     "name": "stdout",
     "output_type": "stream",
     "text": [
      "((LinkedString('Home \\ Away [1 ]', links=()), LinkedString('DAC', links=((0, 3, 'http://en.wikipedia.org/wiki/FC_Dacia-2_Buiucani?curid=36988451'),)), LinkedString('RIS', links=((0, 3, 'http://en.wikipedia.org/wiki/CF_Rîşcani?curid=39427240'),)), LinkedString('GAG', links=((0, 3, 'http://en.wikipedia.org/wiki/CF_Găgăuzia?curid=27811977'),)), LinkedString('INT', links=((0, 3, 'http://en.wikipedia.org/wiki/CF_Intersport-Aroma_Cobusca_Nouă?curid=36986169'),)), LinkedString('LIL', links=((0, 3, 'http://en.wikipedia.org/wiki/RS_Lilcora?curid=31954914'),)), LinkedString('LOC', links=((0, 3, 'http://en.wikipedia.org/wiki/Locomotiv_Bălţi?curid=36987726'),)), LinkedString('SLO', links=((0, 3, 'http://en.wikipedia.org/wiki/FC_Slobozia_Mare?curid=40196285'),)), LinkedString('EDI', links=((0, 3, 'http://en.wikipedia.org/wiki/FC_Edineţ?curid=36988621'),)), LinkedString('SAX', links=((0, 3, 'http://en.wikipedia.org/wiki/FC_Saxan?curid=32293887'),)), LinkedString('VIC', links=((0, 3, 'http://en.wikipedia.org/wiki/FC_Victoria?curid=36988832'),)), LinkedString('SHE', links=((0, 3, 'http://en.wikipedia.org/wiki/FC_Sheriff-2_Tiraspol?curid=28688309'),)), LinkedString('SFG', links=((0, 3, 'http://en.wikipedia.org/wiki/FC_Sfîntul_Gheorghe_Suruceni?curid=23500337'),)), LinkedString('ZIM', links=((0, 3, 'http://en.wikipedia.org/wiki/FC_Zimbru-2_Chişinău?curid=5596501'),))),)\n",
      "1 (0, 1, 13, 'short-uppercase-acronyms') None None\n"
     ]
    },
    {
     "data": {
      "text/html": [
       "<style  type=\"text/css\" >\n",
       "    #T_8f63d84c_358e_11eb_81c0_00259091f1e8 .col_heading.level0 {\n",
       "          display: none;\n",
       "    }    #T_8f63d84c_358e_11eb_81c0_00259091f1e8 .col_heading.level1.col1 {\n",
       "          background-color: #ff0;\n",
       "    }    #T_8f63d84c_358e_11eb_81c0_00259091f1e8 .col_heading.level1.col2 {\n",
       "          background-color: #ff0;\n",
       "    }    #T_8f63d84c_358e_11eb_81c0_00259091f1e8 .col_heading.level1.col3 {\n",
       "          background-color: #ff0;\n",
       "    }    #T_8f63d84c_358e_11eb_81c0_00259091f1e8 .col_heading.level1.col4 {\n",
       "          background-color: #ff0;\n",
       "    }    #T_8f63d84c_358e_11eb_81c0_00259091f1e8 .col_heading.level1.col5 {\n",
       "          background-color: #ff0;\n",
       "    }    #T_8f63d84c_358e_11eb_81c0_00259091f1e8 .col_heading.level1.col6 {\n",
       "          background-color: #ff0;\n",
       "    }    #T_8f63d84c_358e_11eb_81c0_00259091f1e8 .col_heading.level1.col7 {\n",
       "          background-color: #ff0;\n",
       "    }    #T_8f63d84c_358e_11eb_81c0_00259091f1e8 .col_heading.level1.col8 {\n",
       "          background-color: #ff0;\n",
       "    }    #T_8f63d84c_358e_11eb_81c0_00259091f1e8 .col_heading.level1.col9 {\n",
       "          background-color: #ff0;\n",
       "    }    #T_8f63d84c_358e_11eb_81c0_00259091f1e8 .col_heading.level1.col10 {\n",
       "          background-color: #ff0;\n",
       "    }    #T_8f63d84c_358e_11eb_81c0_00259091f1e8 .col_heading.level1.col11 {\n",
       "          background-color: #ff0;\n",
       "    }    #T_8f63d84c_358e_11eb_81c0_00259091f1e8 .col_heading.level1.col12 {\n",
       "          background-color: #ff0;\n",
       "    }    #T_8f63d84c_358e_11eb_81c0_00259091f1e8 .col_heading.level1.col13 {\n",
       "          background-color: #ff0;\n",
       "    }</style><table id=\"T_8f63d84c_358e_11eb_81c0_00259091f1e8\" ><thead>    <tr>        <th class=\"blank level0\" ></th>        <th class=\"col_heading level0 col0\" >0</th>        <th class=\"col_heading level0 col1\" >1</th>        <th class=\"col_heading level0 col2\" >2</th>        <th class=\"col_heading level0 col3\" >3</th>        <th class=\"col_heading level0 col4\" >4</th>        <th class=\"col_heading level0 col5\" >5</th>        <th class=\"col_heading level0 col6\" >6</th>        <th class=\"col_heading level0 col7\" >7</th>        <th class=\"col_heading level0 col8\" >8</th>        <th class=\"col_heading level0 col9\" >9</th>        <th class=\"col_heading level0 col10\" >10</th>        <th class=\"col_heading level0 col11\" >11</th>        <th class=\"col_heading level0 col12\" >12</th>        <th class=\"col_heading level0 col13\" >13</th>    </tr>    <tr>        <th class=\"blank level1\" ></th>        <th class=\"col_heading level1 col0\" >Home \\ Away [1 ]</th>        <th class=\"col_heading level1 col1\" ><a href=\"http://en.wikipedia.org/wiki/FC_Dacia-2_Buiucani?curid=36988451\">DAC</a></th>        <th class=\"col_heading level1 col2\" ><a href=\"http://en.wikipedia.org/wiki/CF_Rîşcani?curid=39427240\">RIS</a></th>        <th class=\"col_heading level1 col3\" ><a href=\"http://en.wikipedia.org/wiki/CF_Găgăuzia?curid=27811977\">GAG</a></th>        <th class=\"col_heading level1 col4\" ><a href=\"http://en.wikipedia.org/wiki/CF_Intersport-Aroma_Cobusca_Nouă?curid=36986169\">INT</a></th>        <th class=\"col_heading level1 col5\" ><a href=\"http://en.wikipedia.org/wiki/RS_Lilcora?curid=31954914\">LIL</a></th>        <th class=\"col_heading level1 col6\" ><a href=\"http://en.wikipedia.org/wiki/Locomotiv_Bălţi?curid=36987726\">LOC</a></th>        <th class=\"col_heading level1 col7\" ><a href=\"http://en.wikipedia.org/wiki/FC_Slobozia_Mare?curid=40196285\">SLO</a></th>        <th class=\"col_heading level1 col8\" ><a href=\"http://en.wikipedia.org/wiki/FC_Edineţ?curid=36988621\">EDI</a></th>        <th class=\"col_heading level1 col9\" ><a href=\"http://en.wikipedia.org/wiki/FC_Saxan?curid=32293887\">SAX</a></th>        <th class=\"col_heading level1 col10\" ><a href=\"http://en.wikipedia.org/wiki/FC_Victoria?curid=36988832\">VIC</a></th>        <th class=\"col_heading level1 col11\" ><a href=\"http://en.wikipedia.org/wiki/FC_Sheriff-2_Tiraspol?curid=28688309\">SHE</a></th>        <th class=\"col_heading level1 col12\" ><a href=\"http://en.wikipedia.org/wiki/FC_Sfîntul_Gheorghe_Suruceni?curid=23500337\">SFG</a></th>        <th class=\"col_heading level1 col13\" ><a href=\"http://en.wikipedia.org/wiki/FC_Zimbru-2_Chişinău?curid=5596501\">ZIM</a></th>    </tr></thead><tbody>\n",
       "        </tbody></table>"
      ],
      "text/plain": [
       "<pandas.io.formats.style.Styler at 0x7f601dc76750>"
      ]
     },
     "metadata": {},
     "output_type": "display_data"
    },
    {
     "name": "stdout",
     "output_type": "stream",
     "text": [
      "((LinkedString('Year', links=()), LinkedString('Album', links=()), LinkedString('Peak positions', links=()), LinkedString('Peak positions', links=()), LinkedString('Peak positions', links=())), (LinkedString('Year', links=()), LinkedString('Album', links=()), LinkedString('GER', links=((0, 3, 'http://en.wikipedia.org/wiki/Media_Control_Charts?curid=6170448'),)), LinkedString('AUT', links=((0, 3, 'http://en.wikipedia.org/wiki/Ö3_Austria_Top_40?curid=13757814'),)), LinkedString('SUI', links=((0, 3, 'http://en.wikipedia.org/wiki/Swiss_Hitparade?curid=17054761'),))))\n",
      "1 (1, 2, 4, 'short-uppercase-acronyms') None None\n"
     ]
    },
    {
     "data": {
      "text/html": [
       "<style  type=\"text/css\" >\n",
       "    #T_8f66b382_358e_11eb_81c0_00259091f1e8 .col_heading.level0 {\n",
       "          display: none;\n",
       "    }    #T_8f66b382_358e_11eb_81c0_00259091f1e8 .col_heading.level2.col2 {\n",
       "          background-color: #ff0;\n",
       "    }    #T_8f66b382_358e_11eb_81c0_00259091f1e8 .col_heading.level2.col3 {\n",
       "          background-color: #ff0;\n",
       "    }    #T_8f66b382_358e_11eb_81c0_00259091f1e8 .col_heading.level2.col4 {\n",
       "          background-color: #ff0;\n",
       "    }</style><table id=\"T_8f66b382_358e_11eb_81c0_00259091f1e8\" ><thead>    <tr>        <th class=\"blank level0\" ></th>        <th class=\"col_heading level0 col0\" >0</th>        <th class=\"col_heading level0 col1\" >1</th>        <th class=\"col_heading level0 col2\" >2</th>        <th class=\"col_heading level0 col3\" >3</th>        <th class=\"col_heading level0 col4\" >4</th>    </tr>    <tr>        <th class=\"blank level1\" ></th>        <th class=\"col_heading level1 col0\" >Year</th>        <th class=\"col_heading level1 col1\" >Album</th>        <th class=\"col_heading level1 col2\" >Peak positions</th>        <th class=\"col_heading level1 col3\" >Peak positions</th>        <th class=\"col_heading level1 col4\" >Peak positions</th>    </tr>    <tr>        <th class=\"blank level2\" ></th>        <th class=\"col_heading level2 col0\" >Year</th>        <th class=\"col_heading level2 col1\" >Album</th>        <th class=\"col_heading level2 col2\" ><a href=\"http://en.wikipedia.org/wiki/Media_Control_Charts?curid=6170448\">GER</a></th>        <th class=\"col_heading level2 col3\" ><a href=\"http://en.wikipedia.org/wiki/Ö3_Austria_Top_40?curid=13757814\">AUT</a></th>        <th class=\"col_heading level2 col4\" ><a href=\"http://en.wikipedia.org/wiki/Swiss_Hitparade?curid=17054761\">SUI</a></th>    </tr></thead><tbody>\n",
       "        </tbody></table>"
      ],
      "text/plain": [
       "<pandas.io.formats.style.Styler at 0x7f5f221bec90>"
      ]
     },
     "metadata": {},
     "output_type": "display_data"
    },
    {
     "name": "stdout",
     "output_type": "stream",
     "text": [
      "((LinkedString('Home \\ Away [1 ]', links=()), LinkedString('OKT', links=((0, 3, 'http://en.wikipedia.org/wiki/FK_11_Oktomvri?curid=23318457'),)), LinkedString('BOR', links=((0, 3, 'http://en.wikipedia.org/wiki/FK_Borec?curid=17874565'),)), LinkedString('DRI', links=((0, 3, 'http://en.wikipedia.org/wiki/FK_Drita?curid=17863677'),)), LinkedString('KOR', links=((0, 3, 'http://en.wikipedia.org/wiki/FK_Korzo?curid=35507279'),)), LinkedString('LOK', links=((0, 3, 'http://en.wikipedia.org/wiki/FK_Lokomotiva_Skopje?curid=17849226'),)), LinkedString('MAS', links=((0, 3, 'http://en.wikipedia.org/wiki/FK_Madžari_Solidarnost?curid=17863964'),)), LinkedString('MIR', links=((0, 3, 'http://en.wikipedia.org/wiki/FK_Miravci?curid=17864414'),)), LinkedString('NOV', links=((0, 3, 'http://en.wikipedia.org/wiki/FK_Novaci?curid=17864481'),)), LinkedString('POB', links=((0, 3, 'http://en.wikipedia.org/wiki/FK_Pobeda?curid=833894'),)), LinkedString('RUF', links=((0, 3, 'http://en.wikipedia.org/wiki/FK_Rufeja?curid=35401982'),)), LinkedString('SIL', links=((0, 3, 'http://en.wikipedia.org/wiki/FK_Sileks?curid=833800'),)), LinkedString('SKO', links=((0, 3, 'http://en.wikipedia.org/wiki/FK_Skopje?curid=17857097'),)), LinkedString('TET', links=((0, 3, 'http://en.wikipedia.org/wiki/FK_Teteks?curid=15137292'),)), LinkedString('TIV', links=((0, 3, 'http://en.wikipedia.org/wiki/FK_Tiverija?curid=23504413'),)), LinkedString('VRA', links=((0, 3, 'http://en.wikipedia.org/wiki/FK_Vrapčište?curid=35749405'),)), LinkedString('ZAJ', links=((0, 3, 'http://en.wikipedia.org/wiki/FK_Zajazi?curid=40115935'),))),)\n",
      "1 (0, 1, 16, 'short-uppercase-acronyms') None None\n"
     ]
    },
    {
     "data": {
      "text/html": [
       "<style  type=\"text/css\" >\n",
       "    #T_8f6a02f8_358e_11eb_81c0_00259091f1e8 .col_heading.level0 {\n",
       "          display: none;\n",
       "    }    #T_8f6a02f8_358e_11eb_81c0_00259091f1e8 .col_heading.level1.col1 {\n",
       "          background-color: #ff0;\n",
       "    }    #T_8f6a02f8_358e_11eb_81c0_00259091f1e8 .col_heading.level1.col2 {\n",
       "          background-color: #ff0;\n",
       "    }    #T_8f6a02f8_358e_11eb_81c0_00259091f1e8 .col_heading.level1.col3 {\n",
       "          background-color: #ff0;\n",
       "    }    #T_8f6a02f8_358e_11eb_81c0_00259091f1e8 .col_heading.level1.col4 {\n",
       "          background-color: #ff0;\n",
       "    }    #T_8f6a02f8_358e_11eb_81c0_00259091f1e8 .col_heading.level1.col5 {\n",
       "          background-color: #ff0;\n",
       "    }    #T_8f6a02f8_358e_11eb_81c0_00259091f1e8 .col_heading.level1.col6 {\n",
       "          background-color: #ff0;\n",
       "    }    #T_8f6a02f8_358e_11eb_81c0_00259091f1e8 .col_heading.level1.col7 {\n",
       "          background-color: #ff0;\n",
       "    }    #T_8f6a02f8_358e_11eb_81c0_00259091f1e8 .col_heading.level1.col8 {\n",
       "          background-color: #ff0;\n",
       "    }    #T_8f6a02f8_358e_11eb_81c0_00259091f1e8 .col_heading.level1.col9 {\n",
       "          background-color: #ff0;\n",
       "    }    #T_8f6a02f8_358e_11eb_81c0_00259091f1e8 .col_heading.level1.col10 {\n",
       "          background-color: #ff0;\n",
       "    }    #T_8f6a02f8_358e_11eb_81c0_00259091f1e8 .col_heading.level1.col11 {\n",
       "          background-color: #ff0;\n",
       "    }    #T_8f6a02f8_358e_11eb_81c0_00259091f1e8 .col_heading.level1.col12 {\n",
       "          background-color: #ff0;\n",
       "    }    #T_8f6a02f8_358e_11eb_81c0_00259091f1e8 .col_heading.level1.col13 {\n",
       "          background-color: #ff0;\n",
       "    }    #T_8f6a02f8_358e_11eb_81c0_00259091f1e8 .col_heading.level1.col14 {\n",
       "          background-color: #ff0;\n",
       "    }    #T_8f6a02f8_358e_11eb_81c0_00259091f1e8 .col_heading.level1.col15 {\n",
       "          background-color: #ff0;\n",
       "    }    #T_8f6a02f8_358e_11eb_81c0_00259091f1e8 .col_heading.level1.col16 {\n",
       "          background-color: #ff0;\n",
       "    }</style><table id=\"T_8f6a02f8_358e_11eb_81c0_00259091f1e8\" ><thead>    <tr>        <th class=\"blank level0\" ></th>        <th class=\"col_heading level0 col0\" >0</th>        <th class=\"col_heading level0 col1\" >1</th>        <th class=\"col_heading level0 col2\" >2</th>        <th class=\"col_heading level0 col3\" >3</th>        <th class=\"col_heading level0 col4\" >4</th>        <th class=\"col_heading level0 col5\" >5</th>        <th class=\"col_heading level0 col6\" >6</th>        <th class=\"col_heading level0 col7\" >7</th>        <th class=\"col_heading level0 col8\" >8</th>        <th class=\"col_heading level0 col9\" >9</th>        <th class=\"col_heading level0 col10\" >10</th>        <th class=\"col_heading level0 col11\" >11</th>        <th class=\"col_heading level0 col12\" >12</th>        <th class=\"col_heading level0 col13\" >13</th>        <th class=\"col_heading level0 col14\" >14</th>        <th class=\"col_heading level0 col15\" >15</th>        <th class=\"col_heading level0 col16\" >16</th>    </tr>    <tr>        <th class=\"blank level1\" ></th>        <th class=\"col_heading level1 col0\" >Home \\ Away [1 ]</th>        <th class=\"col_heading level1 col1\" ><a href=\"http://en.wikipedia.org/wiki/FK_11_Oktomvri?curid=23318457\">OKT</a></th>        <th class=\"col_heading level1 col2\" ><a href=\"http://en.wikipedia.org/wiki/FK_Borec?curid=17874565\">BOR</a></th>        <th class=\"col_heading level1 col3\" ><a href=\"http://en.wikipedia.org/wiki/FK_Drita?curid=17863677\">DRI</a></th>        <th class=\"col_heading level1 col4\" ><a href=\"http://en.wikipedia.org/wiki/FK_Korzo?curid=35507279\">KOR</a></th>        <th class=\"col_heading level1 col5\" ><a href=\"http://en.wikipedia.org/wiki/FK_Lokomotiva_Skopje?curid=17849226\">LOK</a></th>        <th class=\"col_heading level1 col6\" ><a href=\"http://en.wikipedia.org/wiki/FK_Madžari_Solidarnost?curid=17863964\">MAS</a></th>        <th class=\"col_heading level1 col7\" ><a href=\"http://en.wikipedia.org/wiki/FK_Miravci?curid=17864414\">MIR</a></th>        <th class=\"col_heading level1 col8\" ><a href=\"http://en.wikipedia.org/wiki/FK_Novaci?curid=17864481\">NOV</a></th>        <th class=\"col_heading level1 col9\" ><a href=\"http://en.wikipedia.org/wiki/FK_Pobeda?curid=833894\">POB</a></th>        <th class=\"col_heading level1 col10\" ><a href=\"http://en.wikipedia.org/wiki/FK_Rufeja?curid=35401982\">RUF</a></th>        <th class=\"col_heading level1 col11\" ><a href=\"http://en.wikipedia.org/wiki/FK_Sileks?curid=833800\">SIL</a></th>        <th class=\"col_heading level1 col12\" ><a href=\"http://en.wikipedia.org/wiki/FK_Skopje?curid=17857097\">SKO</a></th>        <th class=\"col_heading level1 col13\" ><a href=\"http://en.wikipedia.org/wiki/FK_Teteks?curid=15137292\">TET</a></th>        <th class=\"col_heading level1 col14\" ><a href=\"http://en.wikipedia.org/wiki/FK_Tiverija?curid=23504413\">TIV</a></th>        <th class=\"col_heading level1 col15\" ><a href=\"http://en.wikipedia.org/wiki/FK_Vrapčište?curid=35749405\">VRA</a></th>        <th class=\"col_heading level1 col16\" ><a href=\"http://en.wikipedia.org/wiki/FK_Zajazi?curid=40115935\">ZAJ</a></th>    </tr></thead><tbody>\n",
       "        </tbody></table>"
      ],
      "text/plain": [
       "<pandas.io.formats.style.Styler at 0x7f5f21beb190>"
      ]
     },
     "metadata": {},
     "output_type": "display_data"
    },
    {
     "name": "stdout",
     "output_type": "stream",
     "text": [
      "((LinkedString('Home \\ Away [1 ]', links=()), LinkedString('AVA', links=((0, 3, 'http://en.wikipedia.org/wiki/Avatiu_FC?curid=40112101'),)), LinkedString('ARO', links=((0, 3, 'http://en.wikipedia.org/wiki/Arorangi_FC?curid=40112421'),)), LinkedString('MAT', links=((0, 3, 'http://en.wikipedia.org/wiki/Matavera_FC?curid=40112288'),)), LinkedString('NIK', links=((0, 3, 'http://en.wikipedia.org/wiki/Nikao_Sokattack_FC?curid=34701758'),)), LinkedString('TAK', links=((0, 3, 'http://en.wikipedia.org/wiki/Takuvaine_FC?curid=40112330'),)), LinkedString('TIT', links=((0, 3, 'http://en.wikipedia.org/wiki/Titikaveka_FC?curid=34701776'),)), LinkedString('TUP', links=((0, 3, 'http://en.wikipedia.org/wiki/Tupapa_Maraerenga_FC?curid=34701739'),))),)\n",
      "1 (0, 1, 7, 'short-uppercase-acronyms') None None\n"
     ]
    },
    {
     "data": {
      "text/html": [
       "<style  type=\"text/css\" >\n",
       "    #T_8f6c5f26_358e_11eb_81c0_00259091f1e8 .col_heading.level0 {\n",
       "          display: none;\n",
       "    }    #T_8f6c5f26_358e_11eb_81c0_00259091f1e8 .col_heading.level1.col1 {\n",
       "          background-color: #ff0;\n",
       "    }    #T_8f6c5f26_358e_11eb_81c0_00259091f1e8 .col_heading.level1.col2 {\n",
       "          background-color: #ff0;\n",
       "    }    #T_8f6c5f26_358e_11eb_81c0_00259091f1e8 .col_heading.level1.col3 {\n",
       "          background-color: #ff0;\n",
       "    }    #T_8f6c5f26_358e_11eb_81c0_00259091f1e8 .col_heading.level1.col4 {\n",
       "          background-color: #ff0;\n",
       "    }    #T_8f6c5f26_358e_11eb_81c0_00259091f1e8 .col_heading.level1.col5 {\n",
       "          background-color: #ff0;\n",
       "    }    #T_8f6c5f26_358e_11eb_81c0_00259091f1e8 .col_heading.level1.col6 {\n",
       "          background-color: #ff0;\n",
       "    }    #T_8f6c5f26_358e_11eb_81c0_00259091f1e8 .col_heading.level1.col7 {\n",
       "          background-color: #ff0;\n",
       "    }</style><table id=\"T_8f6c5f26_358e_11eb_81c0_00259091f1e8\" ><thead>    <tr>        <th class=\"blank level0\" ></th>        <th class=\"col_heading level0 col0\" >0</th>        <th class=\"col_heading level0 col1\" >1</th>        <th class=\"col_heading level0 col2\" >2</th>        <th class=\"col_heading level0 col3\" >3</th>        <th class=\"col_heading level0 col4\" >4</th>        <th class=\"col_heading level0 col5\" >5</th>        <th class=\"col_heading level0 col6\" >6</th>        <th class=\"col_heading level0 col7\" >7</th>    </tr>    <tr>        <th class=\"blank level1\" ></th>        <th class=\"col_heading level1 col0\" >Home \\ Away [1 ]</th>        <th class=\"col_heading level1 col1\" ><a href=\"http://en.wikipedia.org/wiki/Avatiu_FC?curid=40112101\">AVA</a></th>        <th class=\"col_heading level1 col2\" ><a href=\"http://en.wikipedia.org/wiki/Arorangi_FC?curid=40112421\">ARO</a></th>        <th class=\"col_heading level1 col3\" ><a href=\"http://en.wikipedia.org/wiki/Matavera_FC?curid=40112288\">MAT</a></th>        <th class=\"col_heading level1 col4\" ><a href=\"http://en.wikipedia.org/wiki/Nikao_Sokattack_FC?curid=34701758\">NIK</a></th>        <th class=\"col_heading level1 col5\" ><a href=\"http://en.wikipedia.org/wiki/Takuvaine_FC?curid=40112330\">TAK</a></th>        <th class=\"col_heading level1 col6\" ><a href=\"http://en.wikipedia.org/wiki/Titikaveka_FC?curid=34701776\">TIT</a></th>        <th class=\"col_heading level1 col7\" ><a href=\"http://en.wikipedia.org/wiki/Tupapa_Maraerenga_FC?curid=34701739\">TUP</a></th>    </tr></thead><tbody>\n",
       "        </tbody></table>"
      ],
      "text/plain": [
       "<pandas.io.formats.style.Styler at 0x7f5f2817fc10>"
      ]
     },
     "metadata": {},
     "output_type": "display_data"
    },
    {
     "name": "stdout",
     "output_type": "stream",
     "text": [
      "((LinkedString('Home \\ Away [1 ]', links=()), LinkedString('ANG', links=((0, 3, 'http://en.wikipedia.org/wiki/Angers_SCO?curid=5649839'),)), LinkedString('ACAA', links=((0, 4, 'http://en.wikipedia.org/wiki/AC_Arles-Avignon?curid=8000297'),)), LinkedString('AUX', links=((0, 3, 'http://en.wikipedia.org/wiki/AJ_Auxerre?curid=990753'),)), LinkedString('CAB', links=((0, 3, 'http://en.wikipedia.org/wiki/CA_Bastia?curid=8013371'),)), LinkedString('BRS', links=((0, 3, 'http://en.wikipedia.org/wiki/Stade_Brestois_29?curid=4353185'),)), LinkedString('CAE', links=((0, 3, 'http://en.wikipedia.org/wiki/SM_Caen?curid=1256445'),)), LinkedString('CHA', links=((0, 3, 'http://en.wikipedia.org/wiki/LB_Châteauroux?curid=990780'),)), LinkedString('CLR', links=((0, 3, 'http://en.wikipedia.org/wiki/Clermont_Foot?curid=3208972'),)), LinkedString('CRE', links=((0, 3, 'http://en.wikipedia.org/wiki/US_Créteil-Lusitanos?curid=5273346'),)), LinkedString('DIJ', links=((0, 3, 'http://en.wikipedia.org/wiki/Dijon_FCO?curid=4040207'),)), LinkedString('IST', links=((0, 3, 'http://en.wikipedia.org/wiki/FC_Istres?curid=1256462'),)), LinkedString('LVL', links=((0, 3, 'http://en.wikipedia.org/wiki/Stade_Lavallois?curid=5529775'),)), LinkedString('HAC', links=((0, 3, 'http://en.wikipedia.org/wiki/Havre_Athletic_Club?curid=3658991'),)), LinkedString('RCL', links=((0, 3, 'http://en.wikipedia.org/wiki/RC_Lens?curid=1075697'),)), LinkedString('MET', links=((0, 3, 'http://en.wikipedia.org/wiki/FC_Metz?curid=1135310'),)), LinkedString('NAL', links=((0, 3, 'http://en.wikipedia.org/wiki/AS_Nancy?curid=1640855'),)), LinkedString('NMS', links=((0, 3, 'http://en.wikipedia.org/wiki/Nîmes_Olympique?curid=5477293'),)), LinkedString('NRT', links=((0, 3, 'http://en.wikipedia.org/wiki/Chamois_Niortais_F.C.?curid=5649732'),)), LinkedString('TOU', links=((0, 3, 'http://en.wikipedia.org/wiki/Tours_FC?curid=5649883'),)), LinkedString('TRO', links=((0, 3, 'http://en.wikipedia.org/wiki/Troyes_AC?curid=1958800'),))),)\n",
      "1 (0, 1, 20, 'short-uppercase-acronyms') None None\n"
     ]
    },
    {
     "data": {
      "text/html": [
       "<style  type=\"text/css\" >\n",
       "    #T_8f6f7ef4_358e_11eb_81c0_00259091f1e8 .col_heading.level0 {\n",
       "          display: none;\n",
       "    }    #T_8f6f7ef4_358e_11eb_81c0_00259091f1e8 .col_heading.level1.col1 {\n",
       "          background-color: #ff0;\n",
       "    }    #T_8f6f7ef4_358e_11eb_81c0_00259091f1e8 .col_heading.level1.col2 {\n",
       "          background-color: #ff0;\n",
       "    }    #T_8f6f7ef4_358e_11eb_81c0_00259091f1e8 .col_heading.level1.col3 {\n",
       "          background-color: #ff0;\n",
       "    }    #T_8f6f7ef4_358e_11eb_81c0_00259091f1e8 .col_heading.level1.col4 {\n",
       "          background-color: #ff0;\n",
       "    }    #T_8f6f7ef4_358e_11eb_81c0_00259091f1e8 .col_heading.level1.col5 {\n",
       "          background-color: #ff0;\n",
       "    }    #T_8f6f7ef4_358e_11eb_81c0_00259091f1e8 .col_heading.level1.col6 {\n",
       "          background-color: #ff0;\n",
       "    }    #T_8f6f7ef4_358e_11eb_81c0_00259091f1e8 .col_heading.level1.col7 {\n",
       "          background-color: #ff0;\n",
       "    }    #T_8f6f7ef4_358e_11eb_81c0_00259091f1e8 .col_heading.level1.col8 {\n",
       "          background-color: #ff0;\n",
       "    }    #T_8f6f7ef4_358e_11eb_81c0_00259091f1e8 .col_heading.level1.col9 {\n",
       "          background-color: #ff0;\n",
       "    }    #T_8f6f7ef4_358e_11eb_81c0_00259091f1e8 .col_heading.level1.col10 {\n",
       "          background-color: #ff0;\n",
       "    }    #T_8f6f7ef4_358e_11eb_81c0_00259091f1e8 .col_heading.level1.col11 {\n",
       "          background-color: #ff0;\n",
       "    }    #T_8f6f7ef4_358e_11eb_81c0_00259091f1e8 .col_heading.level1.col12 {\n",
       "          background-color: #ff0;\n",
       "    }    #T_8f6f7ef4_358e_11eb_81c0_00259091f1e8 .col_heading.level1.col13 {\n",
       "          background-color: #ff0;\n",
       "    }    #T_8f6f7ef4_358e_11eb_81c0_00259091f1e8 .col_heading.level1.col14 {\n",
       "          background-color: #ff0;\n",
       "    }    #T_8f6f7ef4_358e_11eb_81c0_00259091f1e8 .col_heading.level1.col15 {\n",
       "          background-color: #ff0;\n",
       "    }    #T_8f6f7ef4_358e_11eb_81c0_00259091f1e8 .col_heading.level1.col16 {\n",
       "          background-color: #ff0;\n",
       "    }    #T_8f6f7ef4_358e_11eb_81c0_00259091f1e8 .col_heading.level1.col17 {\n",
       "          background-color: #ff0;\n",
       "    }    #T_8f6f7ef4_358e_11eb_81c0_00259091f1e8 .col_heading.level1.col18 {\n",
       "          background-color: #ff0;\n",
       "    }    #T_8f6f7ef4_358e_11eb_81c0_00259091f1e8 .col_heading.level1.col19 {\n",
       "          background-color: #ff0;\n",
       "    }    #T_8f6f7ef4_358e_11eb_81c0_00259091f1e8 .col_heading.level1.col20 {\n",
       "          background-color: #ff0;\n",
       "    }</style><table id=\"T_8f6f7ef4_358e_11eb_81c0_00259091f1e8\" ><thead>    <tr>        <th class=\"blank level0\" ></th>        <th class=\"col_heading level0 col0\" >0</th>        <th class=\"col_heading level0 col1\" >1</th>        <th class=\"col_heading level0 col2\" >2</th>        <th class=\"col_heading level0 col3\" >3</th>        <th class=\"col_heading level0 col4\" >4</th>        <th class=\"col_heading level0 col5\" >5</th>        <th class=\"col_heading level0 col6\" >6</th>        <th class=\"col_heading level0 col7\" >7</th>        <th class=\"col_heading level0 col8\" >8</th>        <th class=\"col_heading level0 col9\" >9</th>        <th class=\"col_heading level0 col10\" >10</th>        <th class=\"col_heading level0 col11\" >11</th>        <th class=\"col_heading level0 col12\" >12</th>        <th class=\"col_heading level0 col13\" >13</th>        <th class=\"col_heading level0 col14\" >14</th>        <th class=\"col_heading level0 col15\" >15</th>        <th class=\"col_heading level0 col16\" >16</th>        <th class=\"col_heading level0 col17\" >17</th>        <th class=\"col_heading level0 col18\" >18</th>        <th class=\"col_heading level0 col19\" >19</th>        <th class=\"col_heading level0 col20\" >20</th>    </tr>    <tr>        <th class=\"blank level1\" ></th>        <th class=\"col_heading level1 col0\" >Home \\ Away [1 ]</th>        <th class=\"col_heading level1 col1\" ><a href=\"http://en.wikipedia.org/wiki/Angers_SCO?curid=5649839\">ANG</a></th>        <th class=\"col_heading level1 col2\" ><a href=\"http://en.wikipedia.org/wiki/AC_Arles-Avignon?curid=8000297\">ACAA</a></th>        <th class=\"col_heading level1 col3\" ><a href=\"http://en.wikipedia.org/wiki/AJ_Auxerre?curid=990753\">AUX</a></th>        <th class=\"col_heading level1 col4\" ><a href=\"http://en.wikipedia.org/wiki/CA_Bastia?curid=8013371\">CAB</a></th>        <th class=\"col_heading level1 col5\" ><a href=\"http://en.wikipedia.org/wiki/Stade_Brestois_29?curid=4353185\">BRS</a></th>        <th class=\"col_heading level1 col6\" ><a href=\"http://en.wikipedia.org/wiki/SM_Caen?curid=1256445\">CAE</a></th>        <th class=\"col_heading level1 col7\" ><a href=\"http://en.wikipedia.org/wiki/LB_Châteauroux?curid=990780\">CHA</a></th>        <th class=\"col_heading level1 col8\" ><a href=\"http://en.wikipedia.org/wiki/Clermont_Foot?curid=3208972\">CLR</a></th>        <th class=\"col_heading level1 col9\" ><a href=\"http://en.wikipedia.org/wiki/US_Créteil-Lusitanos?curid=5273346\">CRE</a></th>        <th class=\"col_heading level1 col10\" ><a href=\"http://en.wikipedia.org/wiki/Dijon_FCO?curid=4040207\">DIJ</a></th>        <th class=\"col_heading level1 col11\" ><a href=\"http://en.wikipedia.org/wiki/FC_Istres?curid=1256462\">IST</a></th>        <th class=\"col_heading level1 col12\" ><a href=\"http://en.wikipedia.org/wiki/Stade_Lavallois?curid=5529775\">LVL</a></th>        <th class=\"col_heading level1 col13\" ><a href=\"http://en.wikipedia.org/wiki/Havre_Athletic_Club?curid=3658991\">HAC</a></th>        <th class=\"col_heading level1 col14\" ><a href=\"http://en.wikipedia.org/wiki/RC_Lens?curid=1075697\">RCL</a></th>        <th class=\"col_heading level1 col15\" ><a href=\"http://en.wikipedia.org/wiki/FC_Metz?curid=1135310\">MET</a></th>        <th class=\"col_heading level1 col16\" ><a href=\"http://en.wikipedia.org/wiki/AS_Nancy?curid=1640855\">NAL</a></th>        <th class=\"col_heading level1 col17\" ><a href=\"http://en.wikipedia.org/wiki/Nîmes_Olympique?curid=5477293\">NMS</a></th>        <th class=\"col_heading level1 col18\" ><a href=\"http://en.wikipedia.org/wiki/Chamois_Niortais_F.C.?curid=5649732\">NRT</a></th>        <th class=\"col_heading level1 col19\" ><a href=\"http://en.wikipedia.org/wiki/Tours_FC?curid=5649883\">TOU</a></th>        <th class=\"col_heading level1 col20\" ><a href=\"http://en.wikipedia.org/wiki/Troyes_AC?curid=1958800\">TRO</a></th>    </tr></thead><tbody>\n",
       "        </tbody></table>"
      ],
      "text/plain": [
       "<pandas.io.formats.style.Styler at 0x7f5f21bc05d0>"
      ]
     },
     "metadata": {},
     "output_type": "display_data"
    },
    {
     "name": "stdout",
     "output_type": "stream",
     "text": [
      "((LinkedString('Home \\ Away [1 ]', links=()), LinkedString('1ºD', links=((0, 3, 'http://en.wikipedia.org/wiki/S.U._1º_de_Dezembro?curid=27654988'),)), LinkedString('CPI', links=((0, 3, 'http://en.wikipedia.org/wiki/Casa_Pia_A.C.?curid=8106409'),)), LinkedString('CFB', links=((0, 3, 'http://en.wikipedia.org/wiki/C.F._Benfica?curid=37479710'),)), LinkedString('GSL', links=((0, 3, 'http://en.wikipedia.org/wiki/GS_Loures'),)), LinkedString('SCE', links=((0, 3, 'http://en.wikipedia.org/wiki/O_Elvas_C.A.D.?curid=28939232'),)), LinkedString('OPE', links=((0, 3, 'http://en.wikipedia.org/wiki/CD_Operário?curid=36185653'),)), LinkedString('ORI', links=((0, 3, 'http://en.wikipedia.org/wiki/Clube_Oriental_de_Lisboa?curid=26221002'),)), LinkedString('PRA', links=((0, 3, 'http://en.wikipedia.org/wiki/S.C._Praiense?curid=8132046'),)), LinkedString('SNT', links=((0, 3, 'http://en.wikipedia.org/wiki/SU_Sintrense'),)), LinkedString('SCI', links=((0, 3, 'http://en.wikipedia.org/wiki/Sporting_Clube_Ideal'),))),)\n",
      "1 (0, 2, 10, 'short-uppercase-acronyms') None None\n"
     ]
    },
    {
     "data": {
      "text/html": [
       "<style  type=\"text/css\" >\n",
       "    #T_8f721402_358e_11eb_81c0_00259091f1e8 .col_heading.level0 {\n",
       "          display: none;\n",
       "    }    #T_8f721402_358e_11eb_81c0_00259091f1e8 .col_heading.level1.col2 {\n",
       "          background-color: #ff0;\n",
       "    }    #T_8f721402_358e_11eb_81c0_00259091f1e8 .col_heading.level1.col3 {\n",
       "          background-color: #ff0;\n",
       "    }    #T_8f721402_358e_11eb_81c0_00259091f1e8 .col_heading.level1.col4 {\n",
       "          background-color: #ff0;\n",
       "    }    #T_8f721402_358e_11eb_81c0_00259091f1e8 .col_heading.level1.col5 {\n",
       "          background-color: #ff0;\n",
       "    }    #T_8f721402_358e_11eb_81c0_00259091f1e8 .col_heading.level1.col6 {\n",
       "          background-color: #ff0;\n",
       "    }    #T_8f721402_358e_11eb_81c0_00259091f1e8 .col_heading.level1.col7 {\n",
       "          background-color: #ff0;\n",
       "    }    #T_8f721402_358e_11eb_81c0_00259091f1e8 .col_heading.level1.col8 {\n",
       "          background-color: #ff0;\n",
       "    }    #T_8f721402_358e_11eb_81c0_00259091f1e8 .col_heading.level1.col9 {\n",
       "          background-color: #ff0;\n",
       "    }    #T_8f721402_358e_11eb_81c0_00259091f1e8 .col_heading.level1.col10 {\n",
       "          background-color: #ff0;\n",
       "    }</style><table id=\"T_8f721402_358e_11eb_81c0_00259091f1e8\" ><thead>    <tr>        <th class=\"blank level0\" ></th>        <th class=\"col_heading level0 col0\" >0</th>        <th class=\"col_heading level0 col1\" >1</th>        <th class=\"col_heading level0 col2\" >2</th>        <th class=\"col_heading level0 col3\" >3</th>        <th class=\"col_heading level0 col4\" >4</th>        <th class=\"col_heading level0 col5\" >5</th>        <th class=\"col_heading level0 col6\" >6</th>        <th class=\"col_heading level0 col7\" >7</th>        <th class=\"col_heading level0 col8\" >8</th>        <th class=\"col_heading level0 col9\" >9</th>        <th class=\"col_heading level0 col10\" >10</th>    </tr>    <tr>        <th class=\"blank level1\" ></th>        <th class=\"col_heading level1 col0\" >Home \\ Away [1 ]</th>        <th class=\"col_heading level1 col1\" ><a href=\"http://en.wikipedia.org/wiki/S.U._1º_de_Dezembro?curid=27654988\">1ºD</a></th>        <th class=\"col_heading level1 col2\" ><a href=\"http://en.wikipedia.org/wiki/Casa_Pia_A.C.?curid=8106409\">CPI</a></th>        <th class=\"col_heading level1 col3\" ><a href=\"http://en.wikipedia.org/wiki/C.F._Benfica?curid=37479710\">CFB</a></th>        <th class=\"col_heading level1 col4\" ><a href=\"http://en.wikipedia.org/wiki/GS_Loures\">GSL</a></th>        <th class=\"col_heading level1 col5\" ><a href=\"http://en.wikipedia.org/wiki/O_Elvas_C.A.D.?curid=28939232\">SCE</a></th>        <th class=\"col_heading level1 col6\" ><a href=\"http://en.wikipedia.org/wiki/CD_Operário?curid=36185653\">OPE</a></th>        <th class=\"col_heading level1 col7\" ><a href=\"http://en.wikipedia.org/wiki/Clube_Oriental_de_Lisboa?curid=26221002\">ORI</a></th>        <th class=\"col_heading level1 col8\" ><a href=\"http://en.wikipedia.org/wiki/S.C._Praiense?curid=8132046\">PRA</a></th>        <th class=\"col_heading level1 col9\" ><a href=\"http://en.wikipedia.org/wiki/SU_Sintrense\">SNT</a></th>        <th class=\"col_heading level1 col10\" ><a href=\"http://en.wikipedia.org/wiki/Sporting_Clube_Ideal\">SCI</a></th>    </tr></thead><tbody>\n",
       "        </tbody></table>"
      ],
      "text/plain": [
       "<pandas.io.formats.style.Styler at 0x7f5fade164d0>"
      ]
     },
     "metadata": {},
     "output_type": "display_data"
    },
    {
     "name": "stdout",
     "output_type": "stream",
     "text": [
      "((LinkedString('Team', links=()), LinkedString('APO', links=((0, 3, 'http://en.wikipedia.org/wiki/BC_Apollo?curid=39463826'),)), LinkedString('SPM', links=((0, 3, 'http://en.wikipedia.org/wiki/SPM_Shoeters_Den_Bosch?curid=13596949'),)), LinkedString('DHK', links=((0, 3, 'http://en.wikipedia.org/wiki/Den_Helder_Kings?curid=17343680'),)), LinkedString('GTF', links=((0, 3, 'http://en.wikipedia.org/wiki/GasTerra_Flames?curid=13615912'),)), LinkedString('ARI', links=((0, 3, 'http://en.wikipedia.org/wiki/Aris_Leeuwarden?curid=39710190'),)), LinkedString('ZZL', links=((0, 3, 'http://en.wikipedia.org/wiki/Zorg_en_Zekerheid_Leiden?curid=32365121'),)), LinkedString('ROT', links=((0, 3, 'http://en.wikipedia.org/wiki/Rotterdam_Basketbal_College?curid=29606411'),)), LinkedString('BSW', links=((0, 3, 'http://en.wikipedia.org/wiki/Maxxcom_BSW?curid=39710323'),)), LinkedString('MAT', links=((0, 3, 'http://en.wikipedia.org/wiki/Matrixx_Magixx?curid=39530105'),)), LinkedString('LAN', links=((0, 3, 'http://en.wikipedia.org/wiki/Landstede_Basketbal?curid=26117470'),))),)\n",
      "1 (0, 1, 10, 'short-uppercase-acronyms') None None\n"
     ]
    },
    {
     "data": {
      "text/html": [
       "<style  type=\"text/css\" >\n",
       "    #T_8f74eb28_358e_11eb_81c0_00259091f1e8 .col_heading.level0 {\n",
       "          display: none;\n",
       "    }    #T_8f74eb28_358e_11eb_81c0_00259091f1e8 .col_heading.level1.col1 {\n",
       "          background-color: #ff0;\n",
       "    }    #T_8f74eb28_358e_11eb_81c0_00259091f1e8 .col_heading.level1.col2 {\n",
       "          background-color: #ff0;\n",
       "    }    #T_8f74eb28_358e_11eb_81c0_00259091f1e8 .col_heading.level1.col3 {\n",
       "          background-color: #ff0;\n",
       "    }    #T_8f74eb28_358e_11eb_81c0_00259091f1e8 .col_heading.level1.col4 {\n",
       "          background-color: #ff0;\n",
       "    }    #T_8f74eb28_358e_11eb_81c0_00259091f1e8 .col_heading.level1.col5 {\n",
       "          background-color: #ff0;\n",
       "    }    #T_8f74eb28_358e_11eb_81c0_00259091f1e8 .col_heading.level1.col6 {\n",
       "          background-color: #ff0;\n",
       "    }    #T_8f74eb28_358e_11eb_81c0_00259091f1e8 .col_heading.level1.col7 {\n",
       "          background-color: #ff0;\n",
       "    }    #T_8f74eb28_358e_11eb_81c0_00259091f1e8 .col_heading.level1.col8 {\n",
       "          background-color: #ff0;\n",
       "    }    #T_8f74eb28_358e_11eb_81c0_00259091f1e8 .col_heading.level1.col9 {\n",
       "          background-color: #ff0;\n",
       "    }    #T_8f74eb28_358e_11eb_81c0_00259091f1e8 .col_heading.level1.col10 {\n",
       "          background-color: #ff0;\n",
       "    }</style><table id=\"T_8f74eb28_358e_11eb_81c0_00259091f1e8\" ><thead>    <tr>        <th class=\"blank level0\" ></th>        <th class=\"col_heading level0 col0\" >0</th>        <th class=\"col_heading level0 col1\" >1</th>        <th class=\"col_heading level0 col2\" >2</th>        <th class=\"col_heading level0 col3\" >3</th>        <th class=\"col_heading level0 col4\" >4</th>        <th class=\"col_heading level0 col5\" >5</th>        <th class=\"col_heading level0 col6\" >6</th>        <th class=\"col_heading level0 col7\" >7</th>        <th class=\"col_heading level0 col8\" >8</th>        <th class=\"col_heading level0 col9\" >9</th>        <th class=\"col_heading level0 col10\" >10</th>    </tr>    <tr>        <th class=\"blank level1\" ></th>        <th class=\"col_heading level1 col0\" >Team</th>        <th class=\"col_heading level1 col1\" ><a href=\"http://en.wikipedia.org/wiki/BC_Apollo?curid=39463826\">APO</a></th>        <th class=\"col_heading level1 col2\" ><a href=\"http://en.wikipedia.org/wiki/SPM_Shoeters_Den_Bosch?curid=13596949\">SPM</a></th>        <th class=\"col_heading level1 col3\" ><a href=\"http://en.wikipedia.org/wiki/Den_Helder_Kings?curid=17343680\">DHK</a></th>        <th class=\"col_heading level1 col4\" ><a href=\"http://en.wikipedia.org/wiki/GasTerra_Flames?curid=13615912\">GTF</a></th>        <th class=\"col_heading level1 col5\" ><a href=\"http://en.wikipedia.org/wiki/Aris_Leeuwarden?curid=39710190\">ARI</a></th>        <th class=\"col_heading level1 col6\" ><a href=\"http://en.wikipedia.org/wiki/Zorg_en_Zekerheid_Leiden?curid=32365121\">ZZL</a></th>        <th class=\"col_heading level1 col7\" ><a href=\"http://en.wikipedia.org/wiki/Rotterdam_Basketbal_College?curid=29606411\">ROT</a></th>        <th class=\"col_heading level1 col8\" ><a href=\"http://en.wikipedia.org/wiki/Maxxcom_BSW?curid=39710323\">BSW</a></th>        <th class=\"col_heading level1 col9\" ><a href=\"http://en.wikipedia.org/wiki/Matrixx_Magixx?curid=39530105\">MAT</a></th>        <th class=\"col_heading level1 col10\" ><a href=\"http://en.wikipedia.org/wiki/Landstede_Basketbal?curid=26117470\">LAN</a></th>    </tr></thead><tbody>\n",
       "        </tbody></table>"
      ],
      "text/plain": [
       "<pandas.io.formats.style.Styler at 0x7f5f28176c10>"
      ]
     },
     "metadata": {},
     "output_type": "display_data"
    },
    {
     "name": "stdout",
     "output_type": "stream",
     "text": [
      "((LinkedString('Home \\ Away [1 ]', links=()), LinkedString('AJK', links=((0, 3, 'http://en.wikipedia.org/wiki/FC_Ajka?curid=36762305'),)), LinkedString('GYI', links=((0, 3, 'http://en.wikipedia.org/wiki/Gyirmót_SE?curid=25255412'),)), LinkedString('PÁP', links=((0, 3, 'http://en.wikipedia.org/wiki/Lombard-Pápa_TFC?curid=4706818'),)), LinkedString('SZO', links=((0, 3, 'http://en.wikipedia.org/wiki/Szombathelyi_Haladás?curid=11486519'),))),)\n",
      "1\n"
     ]
    },
    {
     "data": {
      "text/html": [
       "<style  type=\"text/css\" >\n",
       "    #T_8f7731a8_358e_11eb_81c0_00259091f1e8 .col_heading.level0 {\n",
       "          display: none;\n",
       "    }</style><table id=\"T_8f7731a8_358e_11eb_81c0_00259091f1e8\" ><thead>    <tr>        <th class=\"blank level0\" ></th>        <th class=\"col_heading level0 col0\" >0</th>        <th class=\"col_heading level0 col1\" >1</th>        <th class=\"col_heading level0 col2\" >2</th>        <th class=\"col_heading level0 col3\" >3</th>        <th class=\"col_heading level0 col4\" >4</th>    </tr>    <tr>        <th class=\"blank level1\" ></th>        <th class=\"col_heading level1 col0\" >Home \\ Away [1 ]</th>        <th class=\"col_heading level1 col1\" ><a href=\"http://en.wikipedia.org/wiki/FC_Ajka?curid=36762305\">AJK</a></th>        <th class=\"col_heading level1 col2\" ><a href=\"http://en.wikipedia.org/wiki/Gyirmót_SE?curid=25255412\">GYI</a></th>        <th class=\"col_heading level1 col3\" ><a href=\"http://en.wikipedia.org/wiki/Lombard-Pápa_TFC?curid=4706818\">PÁP</a></th>        <th class=\"col_heading level1 col4\" ><a href=\"http://en.wikipedia.org/wiki/Szombathelyi_Haladás?curid=11486519\">SZO</a></th>    </tr></thead><tbody>\n",
       "        </tbody></table>"
      ],
      "text/plain": [
       "<takco.table.TakcoAccessor at 0x7f5f21bb3090>"
      ]
     },
     "metadata": {},
     "output_type": "display_data"
    },
    {
     "name": "stdout",
     "output_type": "stream",
     "text": [
      "((LinkedString('Home \\ Away [1 ]', links=()), LinkedString('CAS', links=((0, 3, 'http://en.wikipedia.org/wiki/Castanhal_Esporte_Clube?curid=31135247'),)), LinkedString('IND', links=((0, 3, 'http://en.wikipedia.org/wiki/Independente_Atlético_Clube_(PA)?curid=31390285'),)), LinkedString('PAG', links=((0, 3, 'http://en.wikipedia.org/wiki/Paragominas_Futebol_Clube?curid=39486790'),)), LinkedString('PAU', links=((0, 3, 'http://en.wikipedia.org/wiki/Parauapebas_Futebol_Clube?curid=34905540'),)), LinkedString('SCU', links=((0, 3, 'http://en.wikipedia.org/wiki/Associação_Atlética_Santa_Cruz?curid=40272566'),)), LinkedString('SRO', links=((0, 3, 'http://en.wikipedia.org/wiki/São_Raimundo_Esporte_Clube_(PA)?curid=23247890'),))),)\n",
      "1 (0, 1, 6, 'short-uppercase-acronyms') None None\n"
     ]
    },
    {
     "data": {
      "text/html": [
       "<style  type=\"text/css\" >\n",
       "    #T_8f7971ac_358e_11eb_81c0_00259091f1e8 .col_heading.level0 {\n",
       "          display: none;\n",
       "    }    #T_8f7971ac_358e_11eb_81c0_00259091f1e8 .col_heading.level1.col1 {\n",
       "          background-color: #ff0;\n",
       "    }    #T_8f7971ac_358e_11eb_81c0_00259091f1e8 .col_heading.level1.col2 {\n",
       "          background-color: #ff0;\n",
       "    }    #T_8f7971ac_358e_11eb_81c0_00259091f1e8 .col_heading.level1.col3 {\n",
       "          background-color: #ff0;\n",
       "    }    #T_8f7971ac_358e_11eb_81c0_00259091f1e8 .col_heading.level1.col4 {\n",
       "          background-color: #ff0;\n",
       "    }    #T_8f7971ac_358e_11eb_81c0_00259091f1e8 .col_heading.level1.col5 {\n",
       "          background-color: #ff0;\n",
       "    }    #T_8f7971ac_358e_11eb_81c0_00259091f1e8 .col_heading.level1.col6 {\n",
       "          background-color: #ff0;\n",
       "    }</style><table id=\"T_8f7971ac_358e_11eb_81c0_00259091f1e8\" ><thead>    <tr>        <th class=\"blank level0\" ></th>        <th class=\"col_heading level0 col0\" >0</th>        <th class=\"col_heading level0 col1\" >1</th>        <th class=\"col_heading level0 col2\" >2</th>        <th class=\"col_heading level0 col3\" >3</th>        <th class=\"col_heading level0 col4\" >4</th>        <th class=\"col_heading level0 col5\" >5</th>        <th class=\"col_heading level0 col6\" >6</th>    </tr>    <tr>        <th class=\"blank level1\" ></th>        <th class=\"col_heading level1 col0\" >Home \\ Away [1 ]</th>        <th class=\"col_heading level1 col1\" ><a href=\"http://en.wikipedia.org/wiki/Castanhal_Esporte_Clube?curid=31135247\">CAS</a></th>        <th class=\"col_heading level1 col2\" ><a href=\"http://en.wikipedia.org/wiki/Independente_Atlético_Clube_(PA)?curid=31390285\">IND</a></th>        <th class=\"col_heading level1 col3\" ><a href=\"http://en.wikipedia.org/wiki/Paragominas_Futebol_Clube?curid=39486790\">PAG</a></th>        <th class=\"col_heading level1 col4\" ><a href=\"http://en.wikipedia.org/wiki/Parauapebas_Futebol_Clube?curid=34905540\">PAU</a></th>        <th class=\"col_heading level1 col5\" ><a href=\"http://en.wikipedia.org/wiki/Associação_Atlética_Santa_Cruz?curid=40272566\">SCU</a></th>        <th class=\"col_heading level1 col6\" ><a href=\"http://en.wikipedia.org/wiki/São_Raimundo_Esporte_Clube_(PA)?curid=23247890\">SRO</a></th>    </tr></thead><tbody>\n",
       "        </tbody></table>"
      ],
      "text/plain": [
       "<pandas.io.formats.style.Styler at 0x7f5f2810f350>"
      ]
     },
     "metadata": {},
     "output_type": "display_data"
    },
    {
     "name": "stdout",
     "output_type": "stream",
     "text": [
      "((LinkedString('Home \\ Away [1 ]', links=()), LinkedString('BIA', links=((0, 3, 'http://en.wikipedia.org/wiki/Brasília_Futebol_Clube?curid=23233452'),)), LinkedString('BLA', links=((0, 3, 'http://en.wikipedia.org/wiki/Sociedade_Esportiva_Brazlândia?curid=31448692'),)), LinkedString('CAP', links=((0, 3, 'http://en.wikipedia.org/wiki/Capital_Clube_de_Futebol?curid=34957699'),)), LinkedString('CES', links=((0, 3, 'http://en.wikipedia.org/wiki/Sociedade_Atlético_Ceilandense?curid=30832454'),)), LinkedString('CEI', links=((0, 3, 'http://en.wikipedia.org/wiki/Ceilândia_Esporte_Clube?curid=14712386'),)), LinkedString('GAM', links=((0, 3, 'http://en.wikipedia.org/wiki/Sociedade_Esportiva_do_Gama?curid=1767341'),))),)\n",
      "1 (0, 1, 6, 'short-uppercase-acronyms') None None\n"
     ]
    },
    {
     "data": {
      "text/html": [
       "<style  type=\"text/css\" >\n",
       "    #T_8f7bb55c_358e_11eb_81c0_00259091f1e8 .col_heading.level0 {\n",
       "          display: none;\n",
       "    }    #T_8f7bb55c_358e_11eb_81c0_00259091f1e8 .col_heading.level1.col1 {\n",
       "          background-color: #ff0;\n",
       "    }    #T_8f7bb55c_358e_11eb_81c0_00259091f1e8 .col_heading.level1.col2 {\n",
       "          background-color: #ff0;\n",
       "    }    #T_8f7bb55c_358e_11eb_81c0_00259091f1e8 .col_heading.level1.col3 {\n",
       "          background-color: #ff0;\n",
       "    }    #T_8f7bb55c_358e_11eb_81c0_00259091f1e8 .col_heading.level1.col4 {\n",
       "          background-color: #ff0;\n",
       "    }    #T_8f7bb55c_358e_11eb_81c0_00259091f1e8 .col_heading.level1.col5 {\n",
       "          background-color: #ff0;\n",
       "    }    #T_8f7bb55c_358e_11eb_81c0_00259091f1e8 .col_heading.level1.col6 {\n",
       "          background-color: #ff0;\n",
       "    }</style><table id=\"T_8f7bb55c_358e_11eb_81c0_00259091f1e8\" ><thead>    <tr>        <th class=\"blank level0\" ></th>        <th class=\"col_heading level0 col0\" >0</th>        <th class=\"col_heading level0 col1\" >1</th>        <th class=\"col_heading level0 col2\" >2</th>        <th class=\"col_heading level0 col3\" >3</th>        <th class=\"col_heading level0 col4\" >4</th>        <th class=\"col_heading level0 col5\" >5</th>        <th class=\"col_heading level0 col6\" >6</th>    </tr>    <tr>        <th class=\"blank level1\" ></th>        <th class=\"col_heading level1 col0\" >Home \\ Away [1 ]</th>        <th class=\"col_heading level1 col1\" ><a href=\"http://en.wikipedia.org/wiki/Brasília_Futebol_Clube?curid=23233452\">BIA</a></th>        <th class=\"col_heading level1 col2\" ><a href=\"http://en.wikipedia.org/wiki/Sociedade_Esportiva_Brazlândia?curid=31448692\">BLA</a></th>        <th class=\"col_heading level1 col3\" ><a href=\"http://en.wikipedia.org/wiki/Capital_Clube_de_Futebol?curid=34957699\">CAP</a></th>        <th class=\"col_heading level1 col4\" ><a href=\"http://en.wikipedia.org/wiki/Sociedade_Atlético_Ceilandense?curid=30832454\">CES</a></th>        <th class=\"col_heading level1 col5\" ><a href=\"http://en.wikipedia.org/wiki/Ceilândia_Esporte_Clube?curid=14712386\">CEI</a></th>        <th class=\"col_heading level1 col6\" ><a href=\"http://en.wikipedia.org/wiki/Sociedade_Esportiva_do_Gama?curid=1767341\">GAM</a></th>    </tr></thead><tbody>\n",
       "        </tbody></table>"
      ],
      "text/plain": [
       "<pandas.io.formats.style.Styler at 0x7f5f2811a550>"
      ]
     },
     "metadata": {},
     "output_type": "display_data"
    },
    {
     "name": "stdout",
     "output_type": "stream",
     "text": [
      "((LinkedString('Home \\ Away [1 ]', links=()), LinkedString('ACJ', links=((0, 3, 'http://en.wikipedia.org/wiki/Atlético_Cajazeirense_de_Desportos?curid=31344747'),)), LinkedString('AUT', links=((0, 3, 'http://en.wikipedia.org/wiki/Auto_Esporte_Clube?curid=25830293'),)), LinkedString('BPB', links=((0, 3, 'http://en.wikipedia.org/wiki/Botafogo_Futebol_Clube_(PB)?curid=6254818'),)), LinkedString('CSP', links=((0, 3, 'http://en.wikipedia.org/wiki/Centro_Sportivo_Paraibano?curid=31173249'),)), LinkedString('CRU', links=((0, 3, 'http://en.wikipedia.org/wiki/Cruzeiro_Esporte_Clube_(PB)?curid=40393751'),)), LinkedString('NAC', links=((0, 3, 'http://en.wikipedia.org/wiki/Nacional_Atlético_Clube_(Patos)?curid=14387597'),)), LinkedString('PB', links=((0, 2, 'http://en.wikipedia.org/wiki/Paraíba_Sport_Clube?curid=35156463'),)), LinkedString('TRZ', links=((0, 3, 'http://en.wikipedia.org/wiki/Treze_Futebol_Clube?curid=1843290'),))),)\n",
      "1 (0, 1, 8, 'short-uppercase-acronyms') None None\n"
     ]
    },
    {
     "data": {
      "text/html": [
       "<style  type=\"text/css\" >\n",
       "    #T_8f7e3a52_358e_11eb_81c0_00259091f1e8 .col_heading.level0 {\n",
       "          display: none;\n",
       "    }    #T_8f7e3a52_358e_11eb_81c0_00259091f1e8 .col_heading.level1.col1 {\n",
       "          background-color: #ff0;\n",
       "    }    #T_8f7e3a52_358e_11eb_81c0_00259091f1e8 .col_heading.level1.col2 {\n",
       "          background-color: #ff0;\n",
       "    }    #T_8f7e3a52_358e_11eb_81c0_00259091f1e8 .col_heading.level1.col3 {\n",
       "          background-color: #ff0;\n",
       "    }    #T_8f7e3a52_358e_11eb_81c0_00259091f1e8 .col_heading.level1.col4 {\n",
       "          background-color: #ff0;\n",
       "    }    #T_8f7e3a52_358e_11eb_81c0_00259091f1e8 .col_heading.level1.col5 {\n",
       "          background-color: #ff0;\n",
       "    }    #T_8f7e3a52_358e_11eb_81c0_00259091f1e8 .col_heading.level1.col6 {\n",
       "          background-color: #ff0;\n",
       "    }    #T_8f7e3a52_358e_11eb_81c0_00259091f1e8 .col_heading.level1.col7 {\n",
       "          background-color: #ff0;\n",
       "    }    #T_8f7e3a52_358e_11eb_81c0_00259091f1e8 .col_heading.level1.col8 {\n",
       "          background-color: #ff0;\n",
       "    }</style><table id=\"T_8f7e3a52_358e_11eb_81c0_00259091f1e8\" ><thead>    <tr>        <th class=\"blank level0\" ></th>        <th class=\"col_heading level0 col0\" >0</th>        <th class=\"col_heading level0 col1\" >1</th>        <th class=\"col_heading level0 col2\" >2</th>        <th class=\"col_heading level0 col3\" >3</th>        <th class=\"col_heading level0 col4\" >4</th>        <th class=\"col_heading level0 col5\" >5</th>        <th class=\"col_heading level0 col6\" >6</th>        <th class=\"col_heading level0 col7\" >7</th>        <th class=\"col_heading level0 col8\" >8</th>    </tr>    <tr>        <th class=\"blank level1\" ></th>        <th class=\"col_heading level1 col0\" >Home \\ Away [1 ]</th>        <th class=\"col_heading level1 col1\" ><a href=\"http://en.wikipedia.org/wiki/Atlético_Cajazeirense_de_Desportos?curid=31344747\">ACJ</a></th>        <th class=\"col_heading level1 col2\" ><a href=\"http://en.wikipedia.org/wiki/Auto_Esporte_Clube?curid=25830293\">AUT</a></th>        <th class=\"col_heading level1 col3\" ><a href=\"http://en.wikipedia.org/wiki/Botafogo_Futebol_Clube_(PB)?curid=6254818\">BPB</a></th>        <th class=\"col_heading level1 col4\" ><a href=\"http://en.wikipedia.org/wiki/Centro_Sportivo_Paraibano?curid=31173249\">CSP</a></th>        <th class=\"col_heading level1 col5\" ><a href=\"http://en.wikipedia.org/wiki/Cruzeiro_Esporte_Clube_(PB)?curid=40393751\">CRU</a></th>        <th class=\"col_heading level1 col6\" ><a href=\"http://en.wikipedia.org/wiki/Nacional_Atlético_Clube_(Patos)?curid=14387597\">NAC</a></th>        <th class=\"col_heading level1 col7\" ><a href=\"http://en.wikipedia.org/wiki/Paraíba_Sport_Clube?curid=35156463\">PB</a></th>        <th class=\"col_heading level1 col8\" ><a href=\"http://en.wikipedia.org/wiki/Treze_Futebol_Clube?curid=1843290\">TRZ</a></th>    </tr></thead><tbody>\n",
       "        </tbody></table>"
      ],
      "text/plain": [
       "<pandas.io.formats.style.Styler at 0x7f5f2810b350>"
      ]
     },
     "metadata": {},
     "output_type": "display_data"
    },
    {
     "name": "stdout",
     "output_type": "stream",
     "text": [
      "((LinkedString('Title', links=()), LinkedString('Album details', links=()), LinkedString('Peak chart positions', links=()), LinkedString('Peak chart positions', links=()), LinkedString('Peak chart positions', links=()), LinkedString('Peak chart positions', links=()), LinkedString('Peak chart positions', links=()), LinkedString('Peak chart positions', links=()), LinkedString('Peak chart positions', links=()), LinkedString('Peak chart positions', links=()), LinkedString('Peak chart positions', links=()), LinkedString('Peak chart positions', links=()), LinkedString('Certifications', links=((0, 14, 'http://en.wikipedia.org/wiki/List_of_music_recording_certifications?curid=17627213'),))), (LinkedString('Title', links=()), LinkedString('Album details', links=()), LinkedString('US', links=((0, 2, 'http://en.wikipedia.org/wiki/Billboard_200?curid=730350'),)), LinkedString('AUS Peak chart positions for albums in Australia: Camino Palmero: Two:', links=((0, 3, 'http://en.wikipedia.org/wiki/ARIA_Charts?curid=3002226'),)), LinkedString('AUT', links=((0, 3, 'http://en.wikipedia.org/wiki/Ö3_Austria_Top_40?curid=13757814'),)), LinkedString('FRA', links=((0, 3, \"http://en.wikipedia.org/wiki/Syndicat_National_de_l'Édition_Phonographique?curid=4565593\"),)), LinkedString('GER', links=((0, 3, 'http://en.wikipedia.org/wiki/Media_Control_Charts?curid=6170448'),)), LinkedString('ITA', links=((0, 3, 'http://en.wikipedia.org/wiki/Federazione_Industria_Musicale_Italiana?curid=4464404'),)), LinkedString('NLD', links=((0, 3, 'http://en.wikipedia.org/wiki/MegaCharts?curid=6013155'),)), LinkedString('SWE', links=((0, 3, 'http://en.wikipedia.org/wiki/Sverigetopplistan?curid=11002747'),)), LinkedString('SWI', links=((0, 3, 'http://en.wikipedia.org/wiki/Swiss_Hitparade?curid=17054761'),)), LinkedString('UK', links=((0, 2, 'http://en.wikipedia.org/wiki/UK_Albums_Chart?curid=2465857'),)), LinkedString('Certifications', links=((0, 14, 'http://en.wikipedia.org/wiki/List_of_music_recording_certifications?curid=17627213'),))))\n",
      "1 (1, 4, 11, 'short-uppercase-acronyms') None None\n"
     ]
    },
    {
     "data": {
      "text/html": [
       "<style  type=\"text/css\" >\n",
       "    #T_8f81415c_358e_11eb_81c0_00259091f1e8 .col_heading.level0 {\n",
       "          display: none;\n",
       "    }    #T_8f81415c_358e_11eb_81c0_00259091f1e8 .col_heading.level2.col4 {\n",
       "          background-color: #ff0;\n",
       "    }    #T_8f81415c_358e_11eb_81c0_00259091f1e8 .col_heading.level2.col5 {\n",
       "          background-color: #ff0;\n",
       "    }    #T_8f81415c_358e_11eb_81c0_00259091f1e8 .col_heading.level2.col6 {\n",
       "          background-color: #ff0;\n",
       "    }    #T_8f81415c_358e_11eb_81c0_00259091f1e8 .col_heading.level2.col7 {\n",
       "          background-color: #ff0;\n",
       "    }    #T_8f81415c_358e_11eb_81c0_00259091f1e8 .col_heading.level2.col8 {\n",
       "          background-color: #ff0;\n",
       "    }    #T_8f81415c_358e_11eb_81c0_00259091f1e8 .col_heading.level2.col9 {\n",
       "          background-color: #ff0;\n",
       "    }    #T_8f81415c_358e_11eb_81c0_00259091f1e8 .col_heading.level2.col10 {\n",
       "          background-color: #ff0;\n",
       "    }    #T_8f81415c_358e_11eb_81c0_00259091f1e8 .col_heading.level2.col11 {\n",
       "          background-color: #ff0;\n",
       "    }</style><table id=\"T_8f81415c_358e_11eb_81c0_00259091f1e8\" ><thead>    <tr>        <th class=\"blank level0\" ></th>        <th class=\"col_heading level0 col0\" >0</th>        <th class=\"col_heading level0 col1\" >1</th>        <th class=\"col_heading level0 col2\" >2</th>        <th class=\"col_heading level0 col3\" >3</th>        <th class=\"col_heading level0 col4\" >4</th>        <th class=\"col_heading level0 col5\" >5</th>        <th class=\"col_heading level0 col6\" >6</th>        <th class=\"col_heading level0 col7\" >7</th>        <th class=\"col_heading level0 col8\" >8</th>        <th class=\"col_heading level0 col9\" >9</th>        <th class=\"col_heading level0 col10\" >10</th>        <th class=\"col_heading level0 col11\" >11</th>        <th class=\"col_heading level0 col12\" >12</th>    </tr>    <tr>        <th class=\"blank level1\" ></th>        <th class=\"col_heading level1 col0\" >Title</th>        <th class=\"col_heading level1 col1\" >Album details</th>        <th class=\"col_heading level1 col2\" >Peak chart positions</th>        <th class=\"col_heading level1 col3\" >Peak chart positions</th>        <th class=\"col_heading level1 col4\" >Peak chart positions</th>        <th class=\"col_heading level1 col5\" >Peak chart positions</th>        <th class=\"col_heading level1 col6\" >Peak chart positions</th>        <th class=\"col_heading level1 col7\" >Peak chart positions</th>        <th class=\"col_heading level1 col8\" >Peak chart positions</th>        <th class=\"col_heading level1 col9\" >Peak chart positions</th>        <th class=\"col_heading level1 col10\" >Peak chart positions</th>        <th class=\"col_heading level1 col11\" >Peak chart positions</th>        <th class=\"col_heading level1 col12\" ><a href=\"http://en.wikipedia.org/wiki/List_of_music_recording_certifications?curid=17627213\">Certifications</a></th>    </tr>    <tr>        <th class=\"blank level2\" ></th>        <th class=\"col_heading level2 col0\" >Title</th>        <th class=\"col_heading level2 col1\" >Album details</th>        <th class=\"col_heading level2 col2\" ><a href=\"http://en.wikipedia.org/wiki/Billboard_200?curid=730350\">US</a></th>        <th class=\"col_heading level2 col3\" ><a href=\"http://en.wikipedia.org/wiki/ARIA_Charts?curid=3002226\">AUS</a> Peak chart positions for albums in Australia: Camino Palmero: Two:</th>        <th class=\"col_heading level2 col4\" ><a href=\"http://en.wikipedia.org/wiki/Ö3_Austria_Top_40?curid=13757814\">AUT</a></th>        <th class=\"col_heading level2 col5\" ><a href=\"http://en.wikipedia.org/wiki/Syndicat_National_de_l'Édition_Phonographique?curid=4565593\">FRA</a></th>        <th class=\"col_heading level2 col6\" ><a href=\"http://en.wikipedia.org/wiki/Media_Control_Charts?curid=6170448\">GER</a></th>        <th class=\"col_heading level2 col7\" ><a href=\"http://en.wikipedia.org/wiki/Federazione_Industria_Musicale_Italiana?curid=4464404\">ITA</a></th>        <th class=\"col_heading level2 col8\" ><a href=\"http://en.wikipedia.org/wiki/MegaCharts?curid=6013155\">NLD</a></th>        <th class=\"col_heading level2 col9\" ><a href=\"http://en.wikipedia.org/wiki/Sverigetopplistan?curid=11002747\">SWE</a></th>        <th class=\"col_heading level2 col10\" ><a href=\"http://en.wikipedia.org/wiki/Swiss_Hitparade?curid=17054761\">SWI</a></th>        <th class=\"col_heading level2 col11\" ><a href=\"http://en.wikipedia.org/wiki/UK_Albums_Chart?curid=2465857\">UK</a></th>        <th class=\"col_heading level2 col12\" ><a href=\"http://en.wikipedia.org/wiki/List_of_music_recording_certifications?curid=17627213\">Certifications</a></th>    </tr></thead><tbody>\n",
       "        </tbody></table>"
      ],
      "text/plain": [
       "<pandas.io.formats.style.Styler at 0x7f5f2810f1d0>"
      ]
     },
     "metadata": {},
     "output_type": "display_data"
    },
    {
     "name": "stdout",
     "output_type": "stream",
     "text": [
      "((LinkedString('Home \\ Away [1 ]', links=()), LinkedString('ATR', links=((0, 3, 'http://en.wikipedia.org/wiki/Atlético_Roraima_Clube?curid=24047886'),)), LinkedString('BAR', links=((0, 3, 'http://en.wikipedia.org/wiki/Baré_Esporte_Clube?curid=11675749'),)), LinkedString('GAS', links=((0, 3, 'http://en.wikipedia.org/wiki/Grêmio_Atlético_Sampaio?curid=31576869'),)), LinkedString('NAR', links=((0, 3, 'http://en.wikipedia.org/wiki/Náutico_Futebol_Clube?curid=31243155'),)), LinkedString('RAI', links=((0, 3, 'http://en.wikipedia.org/wiki/São_Raimundo_Esporte_Clube_(RR)?curid=30227690'),))),)\n",
      "1 (0, 1, 5, 'short-uppercase-acronyms') None None\n"
     ]
    },
    {
     "data": {
      "text/html": [
       "<style  type=\"text/css\" >\n",
       "    #T_8f840cd4_358e_11eb_81c0_00259091f1e8 .col_heading.level0 {\n",
       "          display: none;\n",
       "    }    #T_8f840cd4_358e_11eb_81c0_00259091f1e8 .col_heading.level1.col1 {\n",
       "          background-color: #ff0;\n",
       "    }    #T_8f840cd4_358e_11eb_81c0_00259091f1e8 .col_heading.level1.col2 {\n",
       "          background-color: #ff0;\n",
       "    }    #T_8f840cd4_358e_11eb_81c0_00259091f1e8 .col_heading.level1.col3 {\n",
       "          background-color: #ff0;\n",
       "    }    #T_8f840cd4_358e_11eb_81c0_00259091f1e8 .col_heading.level1.col4 {\n",
       "          background-color: #ff0;\n",
       "    }    #T_8f840cd4_358e_11eb_81c0_00259091f1e8 .col_heading.level1.col5 {\n",
       "          background-color: #ff0;\n",
       "    }</style><table id=\"T_8f840cd4_358e_11eb_81c0_00259091f1e8\" ><thead>    <tr>        <th class=\"blank level0\" ></th>        <th class=\"col_heading level0 col0\" >0</th>        <th class=\"col_heading level0 col1\" >1</th>        <th class=\"col_heading level0 col2\" >2</th>        <th class=\"col_heading level0 col3\" >3</th>        <th class=\"col_heading level0 col4\" >4</th>        <th class=\"col_heading level0 col5\" >5</th>    </tr>    <tr>        <th class=\"blank level1\" ></th>        <th class=\"col_heading level1 col0\" >Home \\ Away [1 ]</th>        <th class=\"col_heading level1 col1\" ><a href=\"http://en.wikipedia.org/wiki/Atlético_Roraima_Clube?curid=24047886\">ATR</a></th>        <th class=\"col_heading level1 col2\" ><a href=\"http://en.wikipedia.org/wiki/Baré_Esporte_Clube?curid=11675749\">BAR</a></th>        <th class=\"col_heading level1 col3\" ><a href=\"http://en.wikipedia.org/wiki/Grêmio_Atlético_Sampaio?curid=31576869\">GAS</a></th>        <th class=\"col_heading level1 col4\" ><a href=\"http://en.wikipedia.org/wiki/Náutico_Futebol_Clube?curid=31243155\">NAR</a></th>        <th class=\"col_heading level1 col5\" ><a href=\"http://en.wikipedia.org/wiki/São_Raimundo_Esporte_Clube_(RR)?curid=30227690\">RAI</a></th>    </tr></thead><tbody>\n",
       "        </tbody></table>"
      ],
      "text/plain": [
       "<pandas.io.formats.style.Styler at 0x7f5f28105210>"
      ]
     },
     "metadata": {},
     "output_type": "display_data"
    },
    {
     "name": "stdout",
     "output_type": "stream",
     "text": [
      "((LinkedString('', links=()), LinkedString('BAR', links=()), LinkedString('POR', links=())),)\n",
      "1\n"
     ]
    },
    {
     "data": {
      "text/html": [
       "<style  type=\"text/css\" >\n",
       "    #T_8f8604a8_358e_11eb_81c0_00259091f1e8 .col_heading.level0 {\n",
       "          display: none;\n",
       "    }</style><table id=\"T_8f8604a8_358e_11eb_81c0_00259091f1e8\" ><thead>    <tr>        <th class=\"blank level0\" ></th>        <th class=\"col_heading level0 col0\" >0</th>        <th class=\"col_heading level0 col1\" >1</th>        <th class=\"col_heading level0 col2\" >2</th>    </tr>    <tr>        <th class=\"blank level1\" ></th>        <th class=\"col_heading level1 col0\" ></th>        <th class=\"col_heading level1 col1\" >BAR</th>        <th class=\"col_heading level1 col2\" >POR</th>    </tr></thead><tbody>\n",
       "        </tbody></table>"
      ],
      "text/plain": [
       "<takco.table.TakcoAccessor at 0x7f5f2816fb90>"
      ]
     },
     "metadata": {},
     "output_type": "display_data"
    },
    {
     "name": "stdout",
     "output_type": "stream",
     "text": [
      "((LinkedString('Home \\ Away [1 ]', links=()), LinkedString('ALI', links=((0, 3, 'http://en.wikipedia.org/wiki/Ali_Sadr_Hamedan_FSC'),)), LinkedString('BGH', links=((0, 3, 'http://en.wikipedia.org/wiki/Bargh_Shiraz_FSC?curid=32583032'),)), LinkedString('BOR', links=((0, 3, 'http://en.wikipedia.org/wiki/Borna_Khozestan_FSC'),)), LinkedString('EIS', links=((0, 3, 'http://en.wikipedia.org/wiki/Eisatis_Yazd_FSC'),)), LinkedString('JAH', links=((0, 3, 'http://en.wikipedia.org/wiki/Iran_Jahan_Mashhad_FSC'),)), LinkedString('NIL', links=((0, 3, 'http://en.wikipedia.org/wiki/Kashi_Nilo_Isfahan_FSC'),)), LinkedString('KSH', links=((0, 3, 'http://en.wikipedia.org/wiki/Keshavarz_Qazvin_FSC?curid=33953731'),)), LinkedString('MOK', links=((0, 3, 'http://en.wikipedia.org/wiki/Moghavemat_Kerman_FSC?curid=38308907'),)), LinkedString('PRS', links=((0, 3, 'http://en.wikipedia.org/wiki/Persepolis_FSC?curid=17146093'),))),)\n",
      "1 (0, 1, 9, 'short-uppercase-acronyms') None None\n"
     ]
    },
    {
     "data": {
      "text/html": [
       "<style  type=\"text/css\" >\n",
       "    #T_8f88b518_358e_11eb_81c0_00259091f1e8 .col_heading.level0 {\n",
       "          display: none;\n",
       "    }    #T_8f88b518_358e_11eb_81c0_00259091f1e8 .col_heading.level1.col1 {\n",
       "          background-color: #ff0;\n",
       "    }    #T_8f88b518_358e_11eb_81c0_00259091f1e8 .col_heading.level1.col2 {\n",
       "          background-color: #ff0;\n",
       "    }    #T_8f88b518_358e_11eb_81c0_00259091f1e8 .col_heading.level1.col3 {\n",
       "          background-color: #ff0;\n",
       "    }    #T_8f88b518_358e_11eb_81c0_00259091f1e8 .col_heading.level1.col4 {\n",
       "          background-color: #ff0;\n",
       "    }    #T_8f88b518_358e_11eb_81c0_00259091f1e8 .col_heading.level1.col5 {\n",
       "          background-color: #ff0;\n",
       "    }    #T_8f88b518_358e_11eb_81c0_00259091f1e8 .col_heading.level1.col6 {\n",
       "          background-color: #ff0;\n",
       "    }    #T_8f88b518_358e_11eb_81c0_00259091f1e8 .col_heading.level1.col7 {\n",
       "          background-color: #ff0;\n",
       "    }    #T_8f88b518_358e_11eb_81c0_00259091f1e8 .col_heading.level1.col8 {\n",
       "          background-color: #ff0;\n",
       "    }    #T_8f88b518_358e_11eb_81c0_00259091f1e8 .col_heading.level1.col9 {\n",
       "          background-color: #ff0;\n",
       "    }</style><table id=\"T_8f88b518_358e_11eb_81c0_00259091f1e8\" ><thead>    <tr>        <th class=\"blank level0\" ></th>        <th class=\"col_heading level0 col0\" >0</th>        <th class=\"col_heading level0 col1\" >1</th>        <th class=\"col_heading level0 col2\" >2</th>        <th class=\"col_heading level0 col3\" >3</th>        <th class=\"col_heading level0 col4\" >4</th>        <th class=\"col_heading level0 col5\" >5</th>        <th class=\"col_heading level0 col6\" >6</th>        <th class=\"col_heading level0 col7\" >7</th>        <th class=\"col_heading level0 col8\" >8</th>        <th class=\"col_heading level0 col9\" >9</th>    </tr>    <tr>        <th class=\"blank level1\" ></th>        <th class=\"col_heading level1 col0\" >Home \\ Away [1 ]</th>        <th class=\"col_heading level1 col1\" ><a href=\"http://en.wikipedia.org/wiki/Ali_Sadr_Hamedan_FSC\">ALI</a></th>        <th class=\"col_heading level1 col2\" ><a href=\"http://en.wikipedia.org/wiki/Bargh_Shiraz_FSC?curid=32583032\">BGH</a></th>        <th class=\"col_heading level1 col3\" ><a href=\"http://en.wikipedia.org/wiki/Borna_Khozestan_FSC\">BOR</a></th>        <th class=\"col_heading level1 col4\" ><a href=\"http://en.wikipedia.org/wiki/Eisatis_Yazd_FSC\">EIS</a></th>        <th class=\"col_heading level1 col5\" ><a href=\"http://en.wikipedia.org/wiki/Iran_Jahan_Mashhad_FSC\">JAH</a></th>        <th class=\"col_heading level1 col6\" ><a href=\"http://en.wikipedia.org/wiki/Kashi_Nilo_Isfahan_FSC\">NIL</a></th>        <th class=\"col_heading level1 col7\" ><a href=\"http://en.wikipedia.org/wiki/Keshavarz_Qazvin_FSC?curid=33953731\">KSH</a></th>        <th class=\"col_heading level1 col8\" ><a href=\"http://en.wikipedia.org/wiki/Moghavemat_Kerman_FSC?curid=38308907\">MOK</a></th>        <th class=\"col_heading level1 col9\" ><a href=\"http://en.wikipedia.org/wiki/Persepolis_FSC?curid=17146093\">PRS</a></th>    </tr></thead><tbody>\n",
       "        </tbody></table>"
      ],
      "text/plain": [
       "<pandas.io.formats.style.Styler at 0x7f5f2816f9d0>"
      ]
     },
     "metadata": {},
     "output_type": "display_data"
    },
    {
     "name": "stdout",
     "output_type": "stream",
     "text": [
      "((LinkedString('Year', links=()), LinkedString('Album Details', links=()), LinkedString('Peak Chart Positions', links=()), LinkedString('Peak Chart Positions', links=()), LinkedString('Peak Chart Positions', links=()), LinkedString('Peak Chart Positions', links=()), LinkedString('Certifications ( sales thresholds )', links=((0, 14, 'http://en.wikipedia.org/wiki/Music_recording_sales_certification?curid=308242'), (17, 33, 'http://en.wikipedia.org/wiki/List_of_music_recording_sales_certifications?curid=17627213')))), (LinkedString('Year', links=()), LinkedString('Album Details', links=()), LinkedString('SWE', links=((0, 3, 'http://en.wikipedia.org/wiki/Szwecja?curid=18377718'),)), LinkedString('SWI', links=((0, 3, 'http://en.wikipedia.org/wiki/Swiss_Music_Charts?curid=17054761'),)), LinkedString('GER', links=((0, 3, 'http://en.wikipedia.org/wiki/Media_Control_Charts?curid=6170448'),)), LinkedString('POL', links=((0, 3, 'http://en.wikipedia.org/wiki/OLiS?curid=16825126'),)), LinkedString('Certifications ( sales thresholds )', links=((0, 14, 'http://en.wikipedia.org/wiki/Music_recording_sales_certification?curid=308242'), (17, 33, 'http://en.wikipedia.org/wiki/List_of_music_recording_sales_certifications?curid=17627213')))))\n",
      "1 (1, 2, 5, 'short-uppercase-acronyms') None None\n"
     ]
    },
    {
     "data": {
      "text/html": [
       "<style  type=\"text/css\" >\n",
       "    #T_8f8b72bc_358e_11eb_81c0_00259091f1e8 .col_heading.level0 {\n",
       "          display: none;\n",
       "    }    #T_8f8b72bc_358e_11eb_81c0_00259091f1e8 .col_heading.level2.col2 {\n",
       "          background-color: #ff0;\n",
       "    }    #T_8f8b72bc_358e_11eb_81c0_00259091f1e8 .col_heading.level2.col3 {\n",
       "          background-color: #ff0;\n",
       "    }    #T_8f8b72bc_358e_11eb_81c0_00259091f1e8 .col_heading.level2.col4 {\n",
       "          background-color: #ff0;\n",
       "    }    #T_8f8b72bc_358e_11eb_81c0_00259091f1e8 .col_heading.level2.col5 {\n",
       "          background-color: #ff0;\n",
       "    }</style><table id=\"T_8f8b72bc_358e_11eb_81c0_00259091f1e8\" ><thead>    <tr>        <th class=\"blank level0\" ></th>        <th class=\"col_heading level0 col0\" >0</th>        <th class=\"col_heading level0 col1\" >1</th>        <th class=\"col_heading level0 col2\" >2</th>        <th class=\"col_heading level0 col3\" >3</th>        <th class=\"col_heading level0 col4\" >4</th>        <th class=\"col_heading level0 col5\" >5</th>        <th class=\"col_heading level0 col6\" >6</th>    </tr>    <tr>        <th class=\"blank level1\" ></th>        <th class=\"col_heading level1 col0\" >Year</th>        <th class=\"col_heading level1 col1\" >Album Details</th>        <th class=\"col_heading level1 col2\" >Peak Chart Positions</th>        <th class=\"col_heading level1 col3\" >Peak Chart Positions</th>        <th class=\"col_heading level1 col4\" >Peak Chart Positions</th>        <th class=\"col_heading level1 col5\" >Peak Chart Positions</th>        <th class=\"col_heading level1 col6\" ><a href=\"http://en.wikipedia.org/wiki/Music_recording_sales_certification?curid=308242\">Certifications</a> ( <a href=\"http://en.wikipedia.org/wiki/List_of_music_recording_sales_certifications?curid=17627213\">sales thresholds</a> )</th>    </tr>    <tr>        <th class=\"blank level2\" ></th>        <th class=\"col_heading level2 col0\" >Year</th>        <th class=\"col_heading level2 col1\" >Album Details</th>        <th class=\"col_heading level2 col2\" ><a href=\"http://en.wikipedia.org/wiki/Szwecja?curid=18377718\">SWE</a></th>        <th class=\"col_heading level2 col3\" ><a href=\"http://en.wikipedia.org/wiki/Swiss_Music_Charts?curid=17054761\">SWI</a></th>        <th class=\"col_heading level2 col4\" ><a href=\"http://en.wikipedia.org/wiki/Media_Control_Charts?curid=6170448\">GER</a></th>        <th class=\"col_heading level2 col5\" ><a href=\"http://en.wikipedia.org/wiki/OLiS?curid=16825126\">POL</a></th>        <th class=\"col_heading level2 col6\" ><a href=\"http://en.wikipedia.org/wiki/Music_recording_sales_certification?curid=308242\">Certifications</a> ( <a href=\"http://en.wikipedia.org/wiki/List_of_music_recording_sales_certifications?curid=17627213\">sales thresholds</a> )</th>    </tr></thead><tbody>\n",
       "        </tbody></table>"
      ],
      "text/plain": [
       "<pandas.io.formats.style.Styler at 0x7f5f28120850>"
      ]
     },
     "metadata": {},
     "output_type": "display_data"
    },
    {
     "name": "stdout",
     "output_type": "stream",
     "text": [
      "((LinkedString('Home \\ Away [1 ]', links=()), LinkedString('COA', links=((0, 3, 'http://en.wikipedia.org/wiki/Deportivo_Coatepeque?curid=27775942'),)), LinkedString('COM', links=((0, 3, 'http://en.wikipedia.org/wiki/C.S.D._Comunicaciones?curid=5010943'),)), LinkedString('HAL', links=((0, 3, 'http://en.wikipedia.org/wiki/Halcones_FC?curid=23638373'),)), LinkedString('HER', links=((0, 3, 'http://en.wikipedia.org/wiki/Heredia_Jaguares_de_Peten?curid=6701930'),)), LinkedString('IZT', links=((0, 3, 'http://en.wikipedia.org/wiki/Deportivo_Iztapa?curid=27870880'),)), LinkedString('MAL', links=((0, 3, 'http://en.wikipedia.org/wiki/Deportivo_Malacateco?curid=11484448'),)), LinkedString('MAR', links=((0, 3, 'http://en.wikipedia.org/wiki/Deportivo_Marquense?curid=6101043'),)), LinkedString('MIC', links=((0, 3, 'http://en.wikipedia.org/wiki/Deportivo_Mictlán?curid=6985102'),)), LinkedString('MUN', links=((0, 3, 'http://en.wikipedia.org/wiki/C.S.D._Municipal?curid=1037373'),)), LinkedString('SUC', links=((0, 3, 'http://en.wikipedia.org/wiki/C.D._Suchitepéquez?curid=6701958'),)), LinkedString('USC', links=((0, 3, 'http://en.wikipedia.org/wiki/Universidad_de_San_Carlos_(Guatemalan_football_club)?curid=26371603'),)), LinkedString('XEL', links=((0, 3, 'http://en.wikipedia.org/wiki/Club_Xelajú_MC?curid=1126556'),))),)\n",
      "1 (0, 1, 12, 'short-uppercase-acronyms') None None\n"
     ]
    },
    {
     "data": {
      "text/html": [
       "<style  type=\"text/css\" >\n",
       "    #T_8f8e7818_358e_11eb_81c0_00259091f1e8 .col_heading.level0 {\n",
       "          display: none;\n",
       "    }    #T_8f8e7818_358e_11eb_81c0_00259091f1e8 .col_heading.level1.col1 {\n",
       "          background-color: #ff0;\n",
       "    }    #T_8f8e7818_358e_11eb_81c0_00259091f1e8 .col_heading.level1.col2 {\n",
       "          background-color: #ff0;\n",
       "    }    #T_8f8e7818_358e_11eb_81c0_00259091f1e8 .col_heading.level1.col3 {\n",
       "          background-color: #ff0;\n",
       "    }    #T_8f8e7818_358e_11eb_81c0_00259091f1e8 .col_heading.level1.col4 {\n",
       "          background-color: #ff0;\n",
       "    }    #T_8f8e7818_358e_11eb_81c0_00259091f1e8 .col_heading.level1.col5 {\n",
       "          background-color: #ff0;\n",
       "    }    #T_8f8e7818_358e_11eb_81c0_00259091f1e8 .col_heading.level1.col6 {\n",
       "          background-color: #ff0;\n",
       "    }    #T_8f8e7818_358e_11eb_81c0_00259091f1e8 .col_heading.level1.col7 {\n",
       "          background-color: #ff0;\n",
       "    }    #T_8f8e7818_358e_11eb_81c0_00259091f1e8 .col_heading.level1.col8 {\n",
       "          background-color: #ff0;\n",
       "    }    #T_8f8e7818_358e_11eb_81c0_00259091f1e8 .col_heading.level1.col9 {\n",
       "          background-color: #ff0;\n",
       "    }    #T_8f8e7818_358e_11eb_81c0_00259091f1e8 .col_heading.level1.col10 {\n",
       "          background-color: #ff0;\n",
       "    }    #T_8f8e7818_358e_11eb_81c0_00259091f1e8 .col_heading.level1.col11 {\n",
       "          background-color: #ff0;\n",
       "    }    #T_8f8e7818_358e_11eb_81c0_00259091f1e8 .col_heading.level1.col12 {\n",
       "          background-color: #ff0;\n",
       "    }</style><table id=\"T_8f8e7818_358e_11eb_81c0_00259091f1e8\" ><thead>    <tr>        <th class=\"blank level0\" ></th>        <th class=\"col_heading level0 col0\" >0</th>        <th class=\"col_heading level0 col1\" >1</th>        <th class=\"col_heading level0 col2\" >2</th>        <th class=\"col_heading level0 col3\" >3</th>        <th class=\"col_heading level0 col4\" >4</th>        <th class=\"col_heading level0 col5\" >5</th>        <th class=\"col_heading level0 col6\" >6</th>        <th class=\"col_heading level0 col7\" >7</th>        <th class=\"col_heading level0 col8\" >8</th>        <th class=\"col_heading level0 col9\" >9</th>        <th class=\"col_heading level0 col10\" >10</th>        <th class=\"col_heading level0 col11\" >11</th>        <th class=\"col_heading level0 col12\" >12</th>    </tr>    <tr>        <th class=\"blank level1\" ></th>        <th class=\"col_heading level1 col0\" >Home \\ Away [1 ]</th>        <th class=\"col_heading level1 col1\" ><a href=\"http://en.wikipedia.org/wiki/Deportivo_Coatepeque?curid=27775942\">COA</a></th>        <th class=\"col_heading level1 col2\" ><a href=\"http://en.wikipedia.org/wiki/C.S.D._Comunicaciones?curid=5010943\">COM</a></th>        <th class=\"col_heading level1 col3\" ><a href=\"http://en.wikipedia.org/wiki/Halcones_FC?curid=23638373\">HAL</a></th>        <th class=\"col_heading level1 col4\" ><a href=\"http://en.wikipedia.org/wiki/Heredia_Jaguares_de_Peten?curid=6701930\">HER</a></th>        <th class=\"col_heading level1 col5\" ><a href=\"http://en.wikipedia.org/wiki/Deportivo_Iztapa?curid=27870880\">IZT</a></th>        <th class=\"col_heading level1 col6\" ><a href=\"http://en.wikipedia.org/wiki/Deportivo_Malacateco?curid=11484448\">MAL</a></th>        <th class=\"col_heading level1 col7\" ><a href=\"http://en.wikipedia.org/wiki/Deportivo_Marquense?curid=6101043\">MAR</a></th>        <th class=\"col_heading level1 col8\" ><a href=\"http://en.wikipedia.org/wiki/Deportivo_Mictlán?curid=6985102\">MIC</a></th>        <th class=\"col_heading level1 col9\" ><a href=\"http://en.wikipedia.org/wiki/C.S.D._Municipal?curid=1037373\">MUN</a></th>        <th class=\"col_heading level1 col10\" ><a href=\"http://en.wikipedia.org/wiki/C.D._Suchitepéquez?curid=6701958\">SUC</a></th>        <th class=\"col_heading level1 col11\" ><a href=\"http://en.wikipedia.org/wiki/Universidad_de_San_Carlos_(Guatemalan_football_club)?curid=26371603\">USC</a></th>        <th class=\"col_heading level1 col12\" ><a href=\"http://en.wikipedia.org/wiki/Club_Xelajú_MC?curid=1126556\">XEL</a></th>    </tr></thead><tbody>\n",
       "        </tbody></table>"
      ],
      "text/plain": [
       "<pandas.io.formats.style.Styler at 0x7f5f28125dd0>"
      ]
     },
     "metadata": {},
     "output_type": "display_data"
    },
    {
     "name": "stdout",
     "output_type": "stream",
     "text": [
      "((LinkedString('2012–13', links=()), LinkedString('KOL', links=()), LinkedString('BSF', links=()), LinkedString('TAA', links=()), LinkedString('SKJ', links=()), LinkedString('VEJ', links=()), LinkedString('B13', links=())),)\n",
      "1 (0, 1, 5, 'short-uppercase-acronyms') None None\n"
     ]
    },
    {
     "data": {
      "text/html": [
       "<style  type=\"text/css\" >\n",
       "    #T_8f90d32e_358e_11eb_81c0_00259091f1e8 .col_heading.level0 {\n",
       "          display: none;\n",
       "    }    #T_8f90d32e_358e_11eb_81c0_00259091f1e8 .col_heading.level1.col1 {\n",
       "          background-color: #ff0;\n",
       "    }    #T_8f90d32e_358e_11eb_81c0_00259091f1e8 .col_heading.level1.col2 {\n",
       "          background-color: #ff0;\n",
       "    }    #T_8f90d32e_358e_11eb_81c0_00259091f1e8 .col_heading.level1.col3 {\n",
       "          background-color: #ff0;\n",
       "    }    #T_8f90d32e_358e_11eb_81c0_00259091f1e8 .col_heading.level1.col4 {\n",
       "          background-color: #ff0;\n",
       "    }    #T_8f90d32e_358e_11eb_81c0_00259091f1e8 .col_heading.level1.col5 {\n",
       "          background-color: #ff0;\n",
       "    }</style><table id=\"T_8f90d32e_358e_11eb_81c0_00259091f1e8\" ><thead>    <tr>        <th class=\"blank level0\" ></th>        <th class=\"col_heading level0 col0\" >0</th>        <th class=\"col_heading level0 col1\" >1</th>        <th class=\"col_heading level0 col2\" >2</th>        <th class=\"col_heading level0 col3\" >3</th>        <th class=\"col_heading level0 col4\" >4</th>        <th class=\"col_heading level0 col5\" >5</th>        <th class=\"col_heading level0 col6\" >6</th>    </tr>    <tr>        <th class=\"blank level1\" ></th>        <th class=\"col_heading level1 col0\" >2012–13</th>        <th class=\"col_heading level1 col1\" >KOL</th>        <th class=\"col_heading level1 col2\" >BSF</th>        <th class=\"col_heading level1 col3\" >TAA</th>        <th class=\"col_heading level1 col4\" >SKJ</th>        <th class=\"col_heading level1 col5\" >VEJ</th>        <th class=\"col_heading level1 col6\" >B13</th>    </tr></thead><tbody>\n",
       "        </tbody></table>"
      ],
      "text/plain": [
       "<pandas.io.formats.style.Styler at 0x7f5f21bb3b90>"
      ]
     },
     "metadata": {},
     "output_type": "display_data"
    },
    {
     "name": "stdout",
     "output_type": "stream",
     "text": [
      "((LinkedString('Home/Away', links=()), LinkedString('ATB', links=((0, 3, 'http://en.wikipedia.org/wiki/Abertillery_Bluebirds_F.C.?curid=23572694'),)), LinkedString('BAR', links=((0, 3, 'http://en.wikipedia.org/wiki/Barry_Town_F.C.?curid=301003'),)), LinkedString('BET', links=((0, 3, 'http://en.wikipedia.org/wiki/Bettws_F.C.?curid=17114422'),)), LinkedString('BRI', links=((0, 3, 'http://en.wikipedia.org/wiki/Bridgend_Street_A.F.C.?curid=32842951'),)), LinkedString('CGH', links=((0, 3, 'http://en.wikipedia.org/wiki/Cardiff_Grange_Harlequins_A.F.C.?curid=2474594'),)), LinkedString('CWI', links=((0, 3, 'http://en.wikipedia.org/wiki/Cwmaman_Institute_F.C.?curid=21832485'),)), LinkedString('CWU', links=((0, 3, 'http://en.wikipedia.org/wiki/Cwmamman_United_A.F.C.?curid=21833204'),)), LinkedString('LLA', links=((0, 3, 'http://en.wikipedia.org/wiki/Llanelli_A.F.C.?curid=1219456'),)), LinkedString('LTM', links=((0, 3, 'http://en.wikipedia.org/wiki/Llantwit_Major_F.C.?curid=37282078'),)), LinkedString('LLW', links=((0, 3, 'http://en.wikipedia.org/wiki/Llanwern_A.F.C.?curid=11395179'),)), LinkedString('LLI', links=((0, 3, 'http://en.wikipedia.org/wiki/Lliswerry?curid=2193962'),)), LinkedString('NEM', links=((0, 3, 'http://en.wikipedia.org/wiki/Newcastle_Emlyn_F.C.?curid=21809880'),)), LinkedString('NCS', links=((0, 3, 'http://en.wikipedia.org/wiki/Newport_Civil_Service_F.C.?curid=19375908'),)), LinkedString('PPT', links=((0, 3, 'http://en.wikipedia.org/wiki/Pontypridd_Town_A.F.C.?curid=2594249'),)), LinkedString('RHO', links=((0, 3, 'http://en.wikipedia.org/wiki/Rhoose?curid=1251016'),)), LinkedString('RIS', links=((0, 3, 'http://en.wikipedia.org/wiki/Risca_United_F.C.?curid=17114508'),)), LinkedString('TRE', links=((0, 3, 'http://en.wikipedia.org/wiki/Tredegar_Town_F.C.?curid=20848006'),)), LinkedString('TAW', links=((0, 3, 'http://en.wikipedia.org/wiki/Treharris_Athletic_Western_F.C.?curid=3774874'),)), LinkedString('TRO', links=((0, 3, 'http://en.wikipedia.org/wiki/Treowen_Stars_F.C.?curid=27458588'),))),)\n",
      "1 (0, 1, 19, 'short-uppercase-acronyms') None None\n"
     ]
    },
    {
     "data": {
      "text/html": [
       "<style  type=\"text/css\" >\n",
       "    #T_8f941390_358e_11eb_81c0_00259091f1e8 .col_heading.level0 {\n",
       "          display: none;\n",
       "    }    #T_8f941390_358e_11eb_81c0_00259091f1e8 .col_heading.level1.col1 {\n",
       "          background-color: #ff0;\n",
       "    }    #T_8f941390_358e_11eb_81c0_00259091f1e8 .col_heading.level1.col2 {\n",
       "          background-color: #ff0;\n",
       "    }    #T_8f941390_358e_11eb_81c0_00259091f1e8 .col_heading.level1.col3 {\n",
       "          background-color: #ff0;\n",
       "    }    #T_8f941390_358e_11eb_81c0_00259091f1e8 .col_heading.level1.col4 {\n",
       "          background-color: #ff0;\n",
       "    }    #T_8f941390_358e_11eb_81c0_00259091f1e8 .col_heading.level1.col5 {\n",
       "          background-color: #ff0;\n",
       "    }    #T_8f941390_358e_11eb_81c0_00259091f1e8 .col_heading.level1.col6 {\n",
       "          background-color: #ff0;\n",
       "    }    #T_8f941390_358e_11eb_81c0_00259091f1e8 .col_heading.level1.col7 {\n",
       "          background-color: #ff0;\n",
       "    }    #T_8f941390_358e_11eb_81c0_00259091f1e8 .col_heading.level1.col8 {\n",
       "          background-color: #ff0;\n",
       "    }    #T_8f941390_358e_11eb_81c0_00259091f1e8 .col_heading.level1.col9 {\n",
       "          background-color: #ff0;\n",
       "    }    #T_8f941390_358e_11eb_81c0_00259091f1e8 .col_heading.level1.col10 {\n",
       "          background-color: #ff0;\n",
       "    }    #T_8f941390_358e_11eb_81c0_00259091f1e8 .col_heading.level1.col11 {\n",
       "          background-color: #ff0;\n",
       "    }    #T_8f941390_358e_11eb_81c0_00259091f1e8 .col_heading.level1.col12 {\n",
       "          background-color: #ff0;\n",
       "    }    #T_8f941390_358e_11eb_81c0_00259091f1e8 .col_heading.level1.col13 {\n",
       "          background-color: #ff0;\n",
       "    }    #T_8f941390_358e_11eb_81c0_00259091f1e8 .col_heading.level1.col14 {\n",
       "          background-color: #ff0;\n",
       "    }    #T_8f941390_358e_11eb_81c0_00259091f1e8 .col_heading.level1.col15 {\n",
       "          background-color: #ff0;\n",
       "    }    #T_8f941390_358e_11eb_81c0_00259091f1e8 .col_heading.level1.col16 {\n",
       "          background-color: #ff0;\n",
       "    }    #T_8f941390_358e_11eb_81c0_00259091f1e8 .col_heading.level1.col17 {\n",
       "          background-color: #ff0;\n",
       "    }    #T_8f941390_358e_11eb_81c0_00259091f1e8 .col_heading.level1.col18 {\n",
       "          background-color: #ff0;\n",
       "    }    #T_8f941390_358e_11eb_81c0_00259091f1e8 .col_heading.level1.col19 {\n",
       "          background-color: #ff0;\n",
       "    }</style><table id=\"T_8f941390_358e_11eb_81c0_00259091f1e8\" ><thead>    <tr>        <th class=\"blank level0\" ></th>        <th class=\"col_heading level0 col0\" >0</th>        <th class=\"col_heading level0 col1\" >1</th>        <th class=\"col_heading level0 col2\" >2</th>        <th class=\"col_heading level0 col3\" >3</th>        <th class=\"col_heading level0 col4\" >4</th>        <th class=\"col_heading level0 col5\" >5</th>        <th class=\"col_heading level0 col6\" >6</th>        <th class=\"col_heading level0 col7\" >7</th>        <th class=\"col_heading level0 col8\" >8</th>        <th class=\"col_heading level0 col9\" >9</th>        <th class=\"col_heading level0 col10\" >10</th>        <th class=\"col_heading level0 col11\" >11</th>        <th class=\"col_heading level0 col12\" >12</th>        <th class=\"col_heading level0 col13\" >13</th>        <th class=\"col_heading level0 col14\" >14</th>        <th class=\"col_heading level0 col15\" >15</th>        <th class=\"col_heading level0 col16\" >16</th>        <th class=\"col_heading level0 col17\" >17</th>        <th class=\"col_heading level0 col18\" >18</th>        <th class=\"col_heading level0 col19\" >19</th>    </tr>    <tr>        <th class=\"blank level1\" ></th>        <th class=\"col_heading level1 col0\" >Home/Away</th>        <th class=\"col_heading level1 col1\" ><a href=\"http://en.wikipedia.org/wiki/Abertillery_Bluebirds_F.C.?curid=23572694\">ATB</a></th>        <th class=\"col_heading level1 col2\" ><a href=\"http://en.wikipedia.org/wiki/Barry_Town_F.C.?curid=301003\">BAR</a></th>        <th class=\"col_heading level1 col3\" ><a href=\"http://en.wikipedia.org/wiki/Bettws_F.C.?curid=17114422\">BET</a></th>        <th class=\"col_heading level1 col4\" ><a href=\"http://en.wikipedia.org/wiki/Bridgend_Street_A.F.C.?curid=32842951\">BRI</a></th>        <th class=\"col_heading level1 col5\" ><a href=\"http://en.wikipedia.org/wiki/Cardiff_Grange_Harlequins_A.F.C.?curid=2474594\">CGH</a></th>        <th class=\"col_heading level1 col6\" ><a href=\"http://en.wikipedia.org/wiki/Cwmaman_Institute_F.C.?curid=21832485\">CWI</a></th>        <th class=\"col_heading level1 col7\" ><a href=\"http://en.wikipedia.org/wiki/Cwmamman_United_A.F.C.?curid=21833204\">CWU</a></th>        <th class=\"col_heading level1 col8\" ><a href=\"http://en.wikipedia.org/wiki/Llanelli_A.F.C.?curid=1219456\">LLA</a></th>        <th class=\"col_heading level1 col9\" ><a href=\"http://en.wikipedia.org/wiki/Llantwit_Major_F.C.?curid=37282078\">LTM</a></th>        <th class=\"col_heading level1 col10\" ><a href=\"http://en.wikipedia.org/wiki/Llanwern_A.F.C.?curid=11395179\">LLW</a></th>        <th class=\"col_heading level1 col11\" ><a href=\"http://en.wikipedia.org/wiki/Lliswerry?curid=2193962\">LLI</a></th>        <th class=\"col_heading level1 col12\" ><a href=\"http://en.wikipedia.org/wiki/Newcastle_Emlyn_F.C.?curid=21809880\">NEM</a></th>        <th class=\"col_heading level1 col13\" ><a href=\"http://en.wikipedia.org/wiki/Newport_Civil_Service_F.C.?curid=19375908\">NCS</a></th>        <th class=\"col_heading level1 col14\" ><a href=\"http://en.wikipedia.org/wiki/Pontypridd_Town_A.F.C.?curid=2594249\">PPT</a></th>        <th class=\"col_heading level1 col15\" ><a href=\"http://en.wikipedia.org/wiki/Rhoose?curid=1251016\">RHO</a></th>        <th class=\"col_heading level1 col16\" ><a href=\"http://en.wikipedia.org/wiki/Risca_United_F.C.?curid=17114508\">RIS</a></th>        <th class=\"col_heading level1 col17\" ><a href=\"http://en.wikipedia.org/wiki/Tredegar_Town_F.C.?curid=20848006\">TRE</a></th>        <th class=\"col_heading level1 col18\" ><a href=\"http://en.wikipedia.org/wiki/Treharris_Athletic_Western_F.C.?curid=3774874\">TAW</a></th>        <th class=\"col_heading level1 col19\" ><a href=\"http://en.wikipedia.org/wiki/Treowen_Stars_F.C.?curid=27458588\">TRO</a></th>    </tr></thead><tbody>\n",
       "        </tbody></table>"
      ],
      "text/plain": [
       "<pandas.io.formats.style.Styler at 0x7f5f28130750>"
      ]
     },
     "metadata": {},
     "output_type": "display_data"
    },
    {
     "name": "stdout",
     "output_type": "stream",
     "text": [
      "((LinkedString('Year', links=()), LinkedString('Song', links=()), LinkedString('US', links=((0, 2, 'http://en.wikipedia.org/wiki/Billboard_Hot_100?curid=423161'),)), LinkedString('US Alt.', links=((0, 7, 'http://en.wikipedia.org/wiki/Alternative_Songs?curid=1156307'),)), LinkedString('US Main.', links=((0, 8, 'http://en.wikipedia.org/wiki/Hot_Mainstream_Rock_Tracks?curid=2733396'),)), LinkedString('AUS', links=()), LinkedString('AUT', links=()), LinkedString('BEL (FLA)', links=()), LinkedString('BEL (WAL)', links=()), LinkedString('CAN', links=((0, 3, 'http://en.wikipedia.org/wiki/Canadian_Singles_Chart?curid=5536421'),)), LinkedString('DNK', links=()), LinkedString('FIN', links=()), LinkedString('GER', links=()), LinkedString('IRL', links=((0, 3, 'http://en.wikipedia.org/wiki/Irish_Singles_Chart?curid=3627762'),)), LinkedString('ITA', links=()), LinkedString('NLD', links=()), LinkedString('SWE', links=()), LinkedString('SWI', links=()), LinkedString('UK', links=((0, 2, 'http://en.wikipedia.org/wiki/UK_Singles_Chart?curid=3349146'),))),)\n",
      "1 (0, 9, 18, 'short-uppercase-acronyms') None None\n"
     ]
    },
    {
     "data": {
      "text/html": [
       "<style  type=\"text/css\" >\n",
       "    #T_8f96e8c2_358e_11eb_81c0_00259091f1e8 .col_heading.level0 {\n",
       "          display: none;\n",
       "    }    #T_8f96e8c2_358e_11eb_81c0_00259091f1e8 .col_heading.level1.col9 {\n",
       "          background-color: #ff0;\n",
       "    }    #T_8f96e8c2_358e_11eb_81c0_00259091f1e8 .col_heading.level1.col10 {\n",
       "          background-color: #ff0;\n",
       "    }    #T_8f96e8c2_358e_11eb_81c0_00259091f1e8 .col_heading.level1.col11 {\n",
       "          background-color: #ff0;\n",
       "    }    #T_8f96e8c2_358e_11eb_81c0_00259091f1e8 .col_heading.level1.col12 {\n",
       "          background-color: #ff0;\n",
       "    }    #T_8f96e8c2_358e_11eb_81c0_00259091f1e8 .col_heading.level1.col13 {\n",
       "          background-color: #ff0;\n",
       "    }    #T_8f96e8c2_358e_11eb_81c0_00259091f1e8 .col_heading.level1.col14 {\n",
       "          background-color: #ff0;\n",
       "    }    #T_8f96e8c2_358e_11eb_81c0_00259091f1e8 .col_heading.level1.col15 {\n",
       "          background-color: #ff0;\n",
       "    }    #T_8f96e8c2_358e_11eb_81c0_00259091f1e8 .col_heading.level1.col16 {\n",
       "          background-color: #ff0;\n",
       "    }    #T_8f96e8c2_358e_11eb_81c0_00259091f1e8 .col_heading.level1.col17 {\n",
       "          background-color: #ff0;\n",
       "    }    #T_8f96e8c2_358e_11eb_81c0_00259091f1e8 .col_heading.level1.col18 {\n",
       "          background-color: #ff0;\n",
       "    }</style><table id=\"T_8f96e8c2_358e_11eb_81c0_00259091f1e8\" ><thead>    <tr>        <th class=\"blank level0\" ></th>        <th class=\"col_heading level0 col0\" >0</th>        <th class=\"col_heading level0 col1\" >1</th>        <th class=\"col_heading level0 col2\" >2</th>        <th class=\"col_heading level0 col3\" >3</th>        <th class=\"col_heading level0 col4\" >4</th>        <th class=\"col_heading level0 col5\" >5</th>        <th class=\"col_heading level0 col6\" >6</th>        <th class=\"col_heading level0 col7\" >7</th>        <th class=\"col_heading level0 col8\" >8</th>        <th class=\"col_heading level0 col9\" >9</th>        <th class=\"col_heading level0 col10\" >10</th>        <th class=\"col_heading level0 col11\" >11</th>        <th class=\"col_heading level0 col12\" >12</th>        <th class=\"col_heading level0 col13\" >13</th>        <th class=\"col_heading level0 col14\" >14</th>        <th class=\"col_heading level0 col15\" >15</th>        <th class=\"col_heading level0 col16\" >16</th>        <th class=\"col_heading level0 col17\" >17</th>        <th class=\"col_heading level0 col18\" >18</th>    </tr>    <tr>        <th class=\"blank level1\" ></th>        <th class=\"col_heading level1 col0\" >Year</th>        <th class=\"col_heading level1 col1\" >Song</th>        <th class=\"col_heading level1 col2\" ><a href=\"http://en.wikipedia.org/wiki/Billboard_Hot_100?curid=423161\">US</a></th>        <th class=\"col_heading level1 col3\" ><a href=\"http://en.wikipedia.org/wiki/Alternative_Songs?curid=1156307\">US Alt.</a></th>        <th class=\"col_heading level1 col4\" ><a href=\"http://en.wikipedia.org/wiki/Hot_Mainstream_Rock_Tracks?curid=2733396\">US Main.</a></th>        <th class=\"col_heading level1 col5\" >AUS</th>        <th class=\"col_heading level1 col6\" >AUT</th>        <th class=\"col_heading level1 col7\" >BEL (FLA)</th>        <th class=\"col_heading level1 col8\" >BEL (WAL)</th>        <th class=\"col_heading level1 col9\" ><a href=\"http://en.wikipedia.org/wiki/Canadian_Singles_Chart?curid=5536421\">CAN</a></th>        <th class=\"col_heading level1 col10\" >DNK</th>        <th class=\"col_heading level1 col11\" >FIN</th>        <th class=\"col_heading level1 col12\" >GER</th>        <th class=\"col_heading level1 col13\" ><a href=\"http://en.wikipedia.org/wiki/Irish_Singles_Chart?curid=3627762\">IRL</a></th>        <th class=\"col_heading level1 col14\" >ITA</th>        <th class=\"col_heading level1 col15\" >NLD</th>        <th class=\"col_heading level1 col16\" >SWE</th>        <th class=\"col_heading level1 col17\" >SWI</th>        <th class=\"col_heading level1 col18\" ><a href=\"http://en.wikipedia.org/wiki/UK_Singles_Chart?curid=3349146\">UK</a></th>    </tr></thead><tbody>\n",
       "        </tbody></table>"
      ],
      "text/plain": [
       "<pandas.io.formats.style.Styler at 0x7f5f28105350>"
      ]
     },
     "metadata": {},
     "output_type": "display_data"
    },
    {
     "name": "stdout",
     "output_type": "stream",
     "text": [
      "((LinkedString('', links=()), LinkedString('SAN', links=()), LinkedString('RIV', links=()), LinkedString('TRI', links=()), LinkedString('DOR', links=())),)\n",
      "1 (0, 1, 4, 'short-uppercase-acronyms') None None\n"
     ]
    },
    {
     "data": {
      "text/html": [
       "<style  type=\"text/css\" >\n",
       "    #T_8f9972e0_358e_11eb_81c0_00259091f1e8 .col_heading.level0 {\n",
       "          display: none;\n",
       "    }    #T_8f9972e0_358e_11eb_81c0_00259091f1e8 .col_heading.level1.col1 {\n",
       "          background-color: #ff0;\n",
       "    }    #T_8f9972e0_358e_11eb_81c0_00259091f1e8 .col_heading.level1.col2 {\n",
       "          background-color: #ff0;\n",
       "    }    #T_8f9972e0_358e_11eb_81c0_00259091f1e8 .col_heading.level1.col3 {\n",
       "          background-color: #ff0;\n",
       "    }    #T_8f9972e0_358e_11eb_81c0_00259091f1e8 .col_heading.level1.col4 {\n",
       "          background-color: #ff0;\n",
       "    }</style><table id=\"T_8f9972e0_358e_11eb_81c0_00259091f1e8\" ><thead>    <tr>        <th class=\"blank level0\" ></th>        <th class=\"col_heading level0 col0\" >0</th>        <th class=\"col_heading level0 col1\" >1</th>        <th class=\"col_heading level0 col2\" >2</th>        <th class=\"col_heading level0 col3\" >3</th>        <th class=\"col_heading level0 col4\" >4</th>    </tr>    <tr>        <th class=\"blank level1\" ></th>        <th class=\"col_heading level1 col0\" ></th>        <th class=\"col_heading level1 col1\" >SAN</th>        <th class=\"col_heading level1 col2\" >RIV</th>        <th class=\"col_heading level1 col3\" >TRI</th>        <th class=\"col_heading level1 col4\" >DOR</th>    </tr></thead><tbody>\n",
       "        </tbody></table>"
      ],
      "text/plain": [
       "<pandas.io.formats.style.Styler at 0x7f5f21bf15d0>"
      ]
     },
     "metadata": {},
     "output_type": "display_data"
    },
    {
     "name": "stdout",
     "output_type": "stream",
     "text": [
      "((LinkedString('Year', links=()), LinkedString('Single', links=()), LinkedString('Chart Position', links=()), LinkedString('Chart Position', links=()), LinkedString('Chart Position', links=()), LinkedString('Chart Position', links=()), LinkedString('Chart Position', links=()), LinkedString('Chart Position', links=()), LinkedString('Chart Position', links=()), LinkedString('Chart Position', links=())), (LinkedString('Year', links=()), LinkedString('Single', links=()), LinkedString('AUT', links=((0, 3, 'http://en.wikipedia.org/wiki/Ö3_Austria_Top_40?curid=13757814'),)), LinkedString('FRA', links=((0, 3, \"http://en.wikipedia.org/wiki/Syndicat_National_de_l'Édition_Phonographique?curid=4565593\"),)), LinkedString('GER', links=((0, 3, 'http://en.wikipedia.org/wiki/Media_Control_Charts?curid=6170448'),)), LinkedString('IRE', links=((0, 3, 'http://en.wikipedia.org/wiki/Irish_Recorded_Music_Association?curid=310049'),)), LinkedString('NDL', links=((0, 3, 'http://en.wikipedia.org/wiki/Dutch_Top_40?curid=4685500'),)), LinkedString('SWE', links=((0, 3, 'http://en.wikipedia.org/wiki/Sverigetopplistan?curid=11002747'),)), LinkedString('SWI', links=((0, 3, 'http://en.wikipedia.org/wiki/Swiss_Hitparade?curid=17054761'),)), LinkedString('UK', links=((0, 2, 'http://en.wikipedia.org/wiki/UK_Singles_Chart?curid=3349146'),))))\n",
      "1 (1, 2, 9, 'short-uppercase-acronyms') None None\n"
     ]
    },
    {
     "data": {
      "text/html": [
       "<style  type=\"text/css\" >\n",
       "    #T_8f9c1d60_358e_11eb_81c0_00259091f1e8 .col_heading.level0 {\n",
       "          display: none;\n",
       "    }    #T_8f9c1d60_358e_11eb_81c0_00259091f1e8 .col_heading.level2.col2 {\n",
       "          background-color: #ff0;\n",
       "    }    #T_8f9c1d60_358e_11eb_81c0_00259091f1e8 .col_heading.level2.col3 {\n",
       "          background-color: #ff0;\n",
       "    }    #T_8f9c1d60_358e_11eb_81c0_00259091f1e8 .col_heading.level2.col4 {\n",
       "          background-color: #ff0;\n",
       "    }    #T_8f9c1d60_358e_11eb_81c0_00259091f1e8 .col_heading.level2.col5 {\n",
       "          background-color: #ff0;\n",
       "    }    #T_8f9c1d60_358e_11eb_81c0_00259091f1e8 .col_heading.level2.col6 {\n",
       "          background-color: #ff0;\n",
       "    }    #T_8f9c1d60_358e_11eb_81c0_00259091f1e8 .col_heading.level2.col7 {\n",
       "          background-color: #ff0;\n",
       "    }    #T_8f9c1d60_358e_11eb_81c0_00259091f1e8 .col_heading.level2.col8 {\n",
       "          background-color: #ff0;\n",
       "    }    #T_8f9c1d60_358e_11eb_81c0_00259091f1e8 .col_heading.level2.col9 {\n",
       "          background-color: #ff0;\n",
       "    }</style><table id=\"T_8f9c1d60_358e_11eb_81c0_00259091f1e8\" ><thead>    <tr>        <th class=\"blank level0\" ></th>        <th class=\"col_heading level0 col0\" >0</th>        <th class=\"col_heading level0 col1\" >1</th>        <th class=\"col_heading level0 col2\" >2</th>        <th class=\"col_heading level0 col3\" >3</th>        <th class=\"col_heading level0 col4\" >4</th>        <th class=\"col_heading level0 col5\" >5</th>        <th class=\"col_heading level0 col6\" >6</th>        <th class=\"col_heading level0 col7\" >7</th>        <th class=\"col_heading level0 col8\" >8</th>        <th class=\"col_heading level0 col9\" >9</th>    </tr>    <tr>        <th class=\"blank level1\" ></th>        <th class=\"col_heading level1 col0\" >Year</th>        <th class=\"col_heading level1 col1\" >Single</th>        <th class=\"col_heading level1 col2\" >Chart Position</th>        <th class=\"col_heading level1 col3\" >Chart Position</th>        <th class=\"col_heading level1 col4\" >Chart Position</th>        <th class=\"col_heading level1 col5\" >Chart Position</th>        <th class=\"col_heading level1 col6\" >Chart Position</th>        <th class=\"col_heading level1 col7\" >Chart Position</th>        <th class=\"col_heading level1 col8\" >Chart Position</th>        <th class=\"col_heading level1 col9\" >Chart Position</th>    </tr>    <tr>        <th class=\"blank level2\" ></th>        <th class=\"col_heading level2 col0\" >Year</th>        <th class=\"col_heading level2 col1\" >Single</th>        <th class=\"col_heading level2 col2\" ><a href=\"http://en.wikipedia.org/wiki/Ö3_Austria_Top_40?curid=13757814\">AUT</a></th>        <th class=\"col_heading level2 col3\" ><a href=\"http://en.wikipedia.org/wiki/Syndicat_National_de_l'Édition_Phonographique?curid=4565593\">FRA</a></th>        <th class=\"col_heading level2 col4\" ><a href=\"http://en.wikipedia.org/wiki/Media_Control_Charts?curid=6170448\">GER</a></th>        <th class=\"col_heading level2 col5\" ><a href=\"http://en.wikipedia.org/wiki/Irish_Recorded_Music_Association?curid=310049\">IRE</a></th>        <th class=\"col_heading level2 col6\" ><a href=\"http://en.wikipedia.org/wiki/Dutch_Top_40?curid=4685500\">NDL</a></th>        <th class=\"col_heading level2 col7\" ><a href=\"http://en.wikipedia.org/wiki/Sverigetopplistan?curid=11002747\">SWE</a></th>        <th class=\"col_heading level2 col8\" ><a href=\"http://en.wikipedia.org/wiki/Swiss_Hitparade?curid=17054761\">SWI</a></th>        <th class=\"col_heading level2 col9\" ><a href=\"http://en.wikipedia.org/wiki/UK_Singles_Chart?curid=3349146\">UK</a></th>    </tr></thead><tbody>\n",
       "        </tbody></table>"
      ],
      "text/plain": [
       "<pandas.io.formats.style.Styler at 0x7f5f2811aa50>"
      ]
     },
     "metadata": {},
     "output_type": "display_data"
    },
    {
     "name": "stdout",
     "output_type": "stream",
     "text": [
      "((LinkedString('Rank', links=()), LinkedString('Manufacturer', links=()), LinkedString('Event', links=()), LinkedString('Event', links=()), LinkedString('Event', links=()), LinkedString('Event', links=()), LinkedString('Event', links=()), LinkedString('Event', links=()), LinkedString('Event', links=()), LinkedString('Event', links=()), LinkedString('Event', links=()), LinkedString('Event', links=()), LinkedString('Event', links=()), LinkedString('Event', links=()), LinkedString('Total points', links=())), (LinkedString('Rank', links=()), LinkedString('Manufacturer', links=()), LinkedString('MON', links=((0, 3, 'http://en.wikipedia.org/wiki/Rallye_Automobile_Monte_Carlo?curid=227411'),)), LinkedString('SWE', links=((0, 3, 'http://en.wikipedia.org/wiki/Swedish_Rally?curid=469490'),)), LinkedString('NOR', links=((0, 3, 'http://en.wikipedia.org/wiki/Rally_Norway?curid=7274552'),)), LinkedString('MEX', links=((0, 3, 'http://en.wikipedia.org/wiki/Rally_Mexico?curid=1445558'),)), LinkedString('POR', links=((0, 3, 'http://en.wikipedia.org/wiki/Rally_de_Portugal?curid=5543374'),)), LinkedString('ARG', links=((0, 3, 'http://en.wikipedia.org/wiki/Rally_Argentina?curid=1445609'),)), LinkedString('ITA', links=((0, 3, \"http://en.wikipedia.org/wiki/Rally_d'Italia_Sardegna?curid=5468259\"),)), LinkedString('GRC', links=((0, 3, 'http://en.wikipedia.org/wiki/Acropolis_Rally_Greece?curid=1445607'),)), LinkedString('FIN', links=((0, 3, 'http://en.wikipedia.org/wiki/Rally_Finland?curid=881363'),)), LinkedString('GER', links=((0, 3, 'http://en.wikipedia.org/wiki/Rallye_Deutschland?curid=1445621'),)), LinkedString('NZL', links=((0, 3, 'http://en.wikipedia.org/wiki/Rally_New_Zealand?curid=1445593'),)), LinkedString('ESP', links=((0, 3, 'http://en.wikipedia.org/wiki/Rally_Catalunya?curid=1445629'),)), LinkedString('Total points', links=())))\n",
      "1 (1, 2, 13, 'short-uppercase-acronyms') None None\n"
     ]
    },
    {
     "data": {
      "text/html": [
       "<style  type=\"text/css\" >\n",
       "    #T_8fa0b870_358e_11eb_81c0_00259091f1e8 .col_heading.level0 {\n",
       "          display: none;\n",
       "    }    #T_8fa0b870_358e_11eb_81c0_00259091f1e8 .col_heading.level2.col2 {\n",
       "          background-color: #ff0;\n",
       "    }    #T_8fa0b870_358e_11eb_81c0_00259091f1e8 .col_heading.level2.col3 {\n",
       "          background-color: #ff0;\n",
       "    }    #T_8fa0b870_358e_11eb_81c0_00259091f1e8 .col_heading.level2.col4 {\n",
       "          background-color: #ff0;\n",
       "    }    #T_8fa0b870_358e_11eb_81c0_00259091f1e8 .col_heading.level2.col5 {\n",
       "          background-color: #ff0;\n",
       "    }    #T_8fa0b870_358e_11eb_81c0_00259091f1e8 .col_heading.level2.col6 {\n",
       "          background-color: #ff0;\n",
       "    }    #T_8fa0b870_358e_11eb_81c0_00259091f1e8 .col_heading.level2.col7 {\n",
       "          background-color: #ff0;\n",
       "    }    #T_8fa0b870_358e_11eb_81c0_00259091f1e8 .col_heading.level2.col8 {\n",
       "          background-color: #ff0;\n",
       "    }    #T_8fa0b870_358e_11eb_81c0_00259091f1e8 .col_heading.level2.col9 {\n",
       "          background-color: #ff0;\n",
       "    }    #T_8fa0b870_358e_11eb_81c0_00259091f1e8 .col_heading.level2.col10 {\n",
       "          background-color: #ff0;\n",
       "    }    #T_8fa0b870_358e_11eb_81c0_00259091f1e8 .col_heading.level2.col11 {\n",
       "          background-color: #ff0;\n",
       "    }    #T_8fa0b870_358e_11eb_81c0_00259091f1e8 .col_heading.level2.col12 {\n",
       "          background-color: #ff0;\n",
       "    }    #T_8fa0b870_358e_11eb_81c0_00259091f1e8 .col_heading.level2.col13 {\n",
       "          background-color: #ff0;\n",
       "    }</style><table id=\"T_8fa0b870_358e_11eb_81c0_00259091f1e8\" ><thead>    <tr>        <th class=\"blank level0\" ></th>        <th class=\"col_heading level0 col0\" >0</th>        <th class=\"col_heading level0 col1\" >1</th>        <th class=\"col_heading level0 col2\" >2</th>        <th class=\"col_heading level0 col3\" >3</th>        <th class=\"col_heading level0 col4\" >4</th>        <th class=\"col_heading level0 col5\" >5</th>        <th class=\"col_heading level0 col6\" >6</th>        <th class=\"col_heading level0 col7\" >7</th>        <th class=\"col_heading level0 col8\" >8</th>        <th class=\"col_heading level0 col9\" >9</th>        <th class=\"col_heading level0 col10\" >10</th>        <th class=\"col_heading level0 col11\" >11</th>        <th class=\"col_heading level0 col12\" >12</th>        <th class=\"col_heading level0 col13\" >13</th>        <th class=\"col_heading level0 col14\" >14</th>    </tr>    <tr>        <th class=\"blank level1\" ></th>        <th class=\"col_heading level1 col0\" >Rank</th>        <th class=\"col_heading level1 col1\" >Manufacturer</th>        <th class=\"col_heading level1 col2\" >Event</th>        <th class=\"col_heading level1 col3\" >Event</th>        <th class=\"col_heading level1 col4\" >Event</th>        <th class=\"col_heading level1 col5\" >Event</th>        <th class=\"col_heading level1 col6\" >Event</th>        <th class=\"col_heading level1 col7\" >Event</th>        <th class=\"col_heading level1 col8\" >Event</th>        <th class=\"col_heading level1 col9\" >Event</th>        <th class=\"col_heading level1 col10\" >Event</th>        <th class=\"col_heading level1 col11\" >Event</th>        <th class=\"col_heading level1 col12\" >Event</th>        <th class=\"col_heading level1 col13\" >Event</th>        <th class=\"col_heading level1 col14\" >Total points</th>    </tr>    <tr>        <th class=\"blank level2\" ></th>        <th class=\"col_heading level2 col0\" >Rank</th>        <th class=\"col_heading level2 col1\" >Manufacturer</th>        <th class=\"col_heading level2 col2\" ><a href=\"http://en.wikipedia.org/wiki/Rallye_Automobile_Monte_Carlo?curid=227411\">MON</a></th>        <th class=\"col_heading level2 col3\" ><a href=\"http://en.wikipedia.org/wiki/Swedish_Rally?curid=469490\">SWE</a></th>        <th class=\"col_heading level2 col4\" ><a href=\"http://en.wikipedia.org/wiki/Rally_Norway?curid=7274552\">NOR</a></th>        <th class=\"col_heading level2 col5\" ><a href=\"http://en.wikipedia.org/wiki/Rally_Mexico?curid=1445558\">MEX</a></th>        <th class=\"col_heading level2 col6\" ><a href=\"http://en.wikipedia.org/wiki/Rally_de_Portugal?curid=5543374\">POR</a></th>        <th class=\"col_heading level2 col7\" ><a href=\"http://en.wikipedia.org/wiki/Rally_Argentina?curid=1445609\">ARG</a></th>        <th class=\"col_heading level2 col8\" ><a href=\"http://en.wikipedia.org/wiki/Rally_d'Italia_Sardegna?curid=5468259\">ITA</a></th>        <th class=\"col_heading level2 col9\" ><a href=\"http://en.wikipedia.org/wiki/Acropolis_Rally_Greece?curid=1445607\">GRC</a></th>        <th class=\"col_heading level2 col10\" ><a href=\"http://en.wikipedia.org/wiki/Rally_Finland?curid=881363\">FIN</a></th>        <th class=\"col_heading level2 col11\" ><a href=\"http://en.wikipedia.org/wiki/Rallye_Deutschland?curid=1445621\">GER</a></th>        <th class=\"col_heading level2 col12\" ><a href=\"http://en.wikipedia.org/wiki/Rally_New_Zealand?curid=1445593\">NZL</a></th>        <th class=\"col_heading level2 col13\" ><a href=\"http://en.wikipedia.org/wiki/Rally_Catalunya?curid=1445629\">ESP</a></th>        <th class=\"col_heading level2 col14\" >Total points</th>    </tr></thead><tbody>\n",
       "        </tbody></table>"
      ],
      "text/plain": [
       "<pandas.io.formats.style.Styler at 0x7f5ff8857bd0>"
      ]
     },
     "metadata": {},
     "output_type": "display_data"
    },
    {
     "name": "stdout",
     "output_type": "stream",
     "text": [
      "((LinkedString('Year', links=()), LinkedString('Album', links=()), LinkedString('Chart positions', links=()), LinkedString('Chart positions', links=()), LinkedString('Chart positions', links=()), LinkedString('Chart positions', links=()), LinkedString('Chart positions', links=()), LinkedString('Chart positions', links=()), LinkedString('Chart positions', links=()), LinkedString('Chart positions', links=()), LinkedString('Chart positions', links=()), LinkedString('Chart positions', links=()), LinkedString('Sales/certifications', links=())), (LinkedString('Year', links=()), LinkedString('Album', links=()), LinkedString('UK', links=((0, 2, 'http://en.wikipedia.org/wiki/UK_Albums_Chart?curid=2465857'),)), LinkedString('US', links=((0, 2, 'http://en.wikipedia.org/wiki/United_States?curid=3434750'),)), LinkedString('AUS', links=((0, 3, 'http://en.wikipedia.org/wiki/Australia?curid=4689264'),)), LinkedString('FRA', links=((0, 3, 'http://en.wikipedia.org/wiki/France?curid=5843419'),)), LinkedString('SWE', links=((0, 3, 'http://en.wikipedia.org/wiki/Sweden?curid=5058739'),)), LinkedString('CAN', links=((0, 3, 'http://en.wikipedia.org/wiki/Canada?curid=5042916'),)), LinkedString('DEU', links=((0, 3, 'http://en.wikipedia.org/wiki/Germany?curid=11867'),)), LinkedString('AUT', links=((0, 3, 'http://en.wikipedia.org/wiki/Austria?curid=26964606'),)), LinkedString('CHE', links=((0, 3, 'http://en.wikipedia.org/wiki/Switzerland?curid=26748'),)), LinkedString('BEL', links=((0, 3, 'http://en.wikipedia.org/wiki/Belgium?curid=3343'),)), LinkedString('Sales/certifications', links=())))\n",
      "1 (1, 2, 11, 'short-uppercase-acronyms') None None\n"
     ]
    },
    {
     "data": {
      "text/html": [
       "<style  type=\"text/css\" >\n",
       "    #T_8fa3e9a0_358e_11eb_81c0_00259091f1e8 .col_heading.level0 {\n",
       "          display: none;\n",
       "    }    #T_8fa3e9a0_358e_11eb_81c0_00259091f1e8 .col_heading.level2.col2 {\n",
       "          background-color: #ff0;\n",
       "    }    #T_8fa3e9a0_358e_11eb_81c0_00259091f1e8 .col_heading.level2.col3 {\n",
       "          background-color: #ff0;\n",
       "    }    #T_8fa3e9a0_358e_11eb_81c0_00259091f1e8 .col_heading.level2.col4 {\n",
       "          background-color: #ff0;\n",
       "    }    #T_8fa3e9a0_358e_11eb_81c0_00259091f1e8 .col_heading.level2.col5 {\n",
       "          background-color: #ff0;\n",
       "    }    #T_8fa3e9a0_358e_11eb_81c0_00259091f1e8 .col_heading.level2.col6 {\n",
       "          background-color: #ff0;\n",
       "    }    #T_8fa3e9a0_358e_11eb_81c0_00259091f1e8 .col_heading.level2.col7 {\n",
       "          background-color: #ff0;\n",
       "    }    #T_8fa3e9a0_358e_11eb_81c0_00259091f1e8 .col_heading.level2.col8 {\n",
       "          background-color: #ff0;\n",
       "    }    #T_8fa3e9a0_358e_11eb_81c0_00259091f1e8 .col_heading.level2.col9 {\n",
       "          background-color: #ff0;\n",
       "    }    #T_8fa3e9a0_358e_11eb_81c0_00259091f1e8 .col_heading.level2.col10 {\n",
       "          background-color: #ff0;\n",
       "    }    #T_8fa3e9a0_358e_11eb_81c0_00259091f1e8 .col_heading.level2.col11 {\n",
       "          background-color: #ff0;\n",
       "    }</style><table id=\"T_8fa3e9a0_358e_11eb_81c0_00259091f1e8\" ><thead>    <tr>        <th class=\"blank level0\" ></th>        <th class=\"col_heading level0 col0\" >0</th>        <th class=\"col_heading level0 col1\" >1</th>        <th class=\"col_heading level0 col2\" >2</th>        <th class=\"col_heading level0 col3\" >3</th>        <th class=\"col_heading level0 col4\" >4</th>        <th class=\"col_heading level0 col5\" >5</th>        <th class=\"col_heading level0 col6\" >6</th>        <th class=\"col_heading level0 col7\" >7</th>        <th class=\"col_heading level0 col8\" >8</th>        <th class=\"col_heading level0 col9\" >9</th>        <th class=\"col_heading level0 col10\" >10</th>        <th class=\"col_heading level0 col11\" >11</th>        <th class=\"col_heading level0 col12\" >12</th>    </tr>    <tr>        <th class=\"blank level1\" ></th>        <th class=\"col_heading level1 col0\" >Year</th>        <th class=\"col_heading level1 col1\" >Album</th>        <th class=\"col_heading level1 col2\" >Chart positions</th>        <th class=\"col_heading level1 col3\" >Chart positions</th>        <th class=\"col_heading level1 col4\" >Chart positions</th>        <th class=\"col_heading level1 col5\" >Chart positions</th>        <th class=\"col_heading level1 col6\" >Chart positions</th>        <th class=\"col_heading level1 col7\" >Chart positions</th>        <th class=\"col_heading level1 col8\" >Chart positions</th>        <th class=\"col_heading level1 col9\" >Chart positions</th>        <th class=\"col_heading level1 col10\" >Chart positions</th>        <th class=\"col_heading level1 col11\" >Chart positions</th>        <th class=\"col_heading level1 col12\" >Sales/certifications</th>    </tr>    <tr>        <th class=\"blank level2\" ></th>        <th class=\"col_heading level2 col0\" >Year</th>        <th class=\"col_heading level2 col1\" >Album</th>        <th class=\"col_heading level2 col2\" ><a href=\"http://en.wikipedia.org/wiki/UK_Albums_Chart?curid=2465857\">UK</a></th>        <th class=\"col_heading level2 col3\" ><a href=\"http://en.wikipedia.org/wiki/United_States?curid=3434750\">US</a></th>        <th class=\"col_heading level2 col4\" ><a href=\"http://en.wikipedia.org/wiki/Australia?curid=4689264\">AUS</a></th>        <th class=\"col_heading level2 col5\" ><a href=\"http://en.wikipedia.org/wiki/France?curid=5843419\">FRA</a></th>        <th class=\"col_heading level2 col6\" ><a href=\"http://en.wikipedia.org/wiki/Sweden?curid=5058739\">SWE</a></th>        <th class=\"col_heading level2 col7\" ><a href=\"http://en.wikipedia.org/wiki/Canada?curid=5042916\">CAN</a></th>        <th class=\"col_heading level2 col8\" ><a href=\"http://en.wikipedia.org/wiki/Germany?curid=11867\">DEU</a></th>        <th class=\"col_heading level2 col9\" ><a href=\"http://en.wikipedia.org/wiki/Austria?curid=26964606\">AUT</a></th>        <th class=\"col_heading level2 col10\" ><a href=\"http://en.wikipedia.org/wiki/Switzerland?curid=26748\">CHE</a></th>        <th class=\"col_heading level2 col11\" ><a href=\"http://en.wikipedia.org/wiki/Belgium?curid=3343\">BEL</a></th>        <th class=\"col_heading level2 col12\" >Sales/certifications</th>    </tr></thead><tbody>\n",
       "        </tbody></table>"
      ],
      "text/plain": [
       "<pandas.io.formats.style.Styler at 0x7f5f281303d0>"
      ]
     },
     "metadata": {},
     "output_type": "display_data"
    },
    {
     "name": "stdout",
     "output_type": "stream",
     "text": [
      "((LinkedString('Rank', links=()), LinkedString('Manufacturer', links=()), LinkedString('Event', links=()), LinkedString('Event', links=()), LinkedString('Event', links=()), LinkedString('Event', links=()), LinkedString('Event', links=()), LinkedString('Event', links=()), LinkedString('Event', links=()), LinkedString('Event', links=()), LinkedString('Event', links=()), LinkedString('Event', links=()), LinkedString('Total points', links=())), (LinkedString('Rank', links=()), LinkedString('Manufacturer', links=()), LinkedString('MON', links=((0, 3, 'http://en.wikipedia.org/wiki/Rallye_Automobile_Monte_Carlo?curid=227411'),)), LinkedString('SWE', links=((0, 3, 'http://en.wikipedia.org/wiki/Swedish_Rally?curid=469490'),)), LinkedString('NOR', links=((0, 3, 'http://en.wikipedia.org/wiki/Rally_Norway?curid=7274552'),)), LinkedString('MEX', links=((0, 3, 'http://en.wikipedia.org/wiki/Rally_Mexico?curid=1445558'),)), LinkedString('POR', links=((0, 3, 'http://en.wikipedia.org/wiki/Rally_de_Portugal?curid=5543374'),)), LinkedString('ARG', links=((0, 3, 'http://en.wikipedia.org/wiki/Rally_Argentina?curid=1445609'),)), LinkedString('ITA', links=((0, 3, \"http://en.wikipedia.org/wiki/Rally_d'Italia_Sardegna?curid=5468259\"),)), LinkedString('GRC', links=((0, 3, 'http://en.wikipedia.org/wiki/Acropolis_Rally_Greece?curid=1445607'),)), LinkedString('FIN', links=((0, 3, 'http://en.wikipedia.org/wiki/Rally_Finland?curid=881363'),)), LinkedString('GER', links=((0, 3, 'http://en.wikipedia.org/wiki/Rallye_Deutschland?curid=1445621'),)), LinkedString('Total points', links=())))\n",
      "1 (1, 2, 11, 'short-uppercase-acronyms') None None\n"
     ]
    },
    {
     "data": {
      "text/html": [
       "<style  type=\"text/css\" >\n",
       "    #T_8fa710f8_358e_11eb_81c0_00259091f1e8 .col_heading.level0 {\n",
       "          display: none;\n",
       "    }    #T_8fa710f8_358e_11eb_81c0_00259091f1e8 .col_heading.level2.col2 {\n",
       "          background-color: #ff0;\n",
       "    }    #T_8fa710f8_358e_11eb_81c0_00259091f1e8 .col_heading.level2.col3 {\n",
       "          background-color: #ff0;\n",
       "    }    #T_8fa710f8_358e_11eb_81c0_00259091f1e8 .col_heading.level2.col4 {\n",
       "          background-color: #ff0;\n",
       "    }    #T_8fa710f8_358e_11eb_81c0_00259091f1e8 .col_heading.level2.col5 {\n",
       "          background-color: #ff0;\n",
       "    }    #T_8fa710f8_358e_11eb_81c0_00259091f1e8 .col_heading.level2.col6 {\n",
       "          background-color: #ff0;\n",
       "    }    #T_8fa710f8_358e_11eb_81c0_00259091f1e8 .col_heading.level2.col7 {\n",
       "          background-color: #ff0;\n",
       "    }    #T_8fa710f8_358e_11eb_81c0_00259091f1e8 .col_heading.level2.col8 {\n",
       "          background-color: #ff0;\n",
       "    }    #T_8fa710f8_358e_11eb_81c0_00259091f1e8 .col_heading.level2.col9 {\n",
       "          background-color: #ff0;\n",
       "    }    #T_8fa710f8_358e_11eb_81c0_00259091f1e8 .col_heading.level2.col10 {\n",
       "          background-color: #ff0;\n",
       "    }    #T_8fa710f8_358e_11eb_81c0_00259091f1e8 .col_heading.level2.col11 {\n",
       "          background-color: #ff0;\n",
       "    }</style><table id=\"T_8fa710f8_358e_11eb_81c0_00259091f1e8\" ><thead>    <tr>        <th class=\"blank level0\" ></th>        <th class=\"col_heading level0 col0\" >0</th>        <th class=\"col_heading level0 col1\" >1</th>        <th class=\"col_heading level0 col2\" >2</th>        <th class=\"col_heading level0 col3\" >3</th>        <th class=\"col_heading level0 col4\" >4</th>        <th class=\"col_heading level0 col5\" >5</th>        <th class=\"col_heading level0 col6\" >6</th>        <th class=\"col_heading level0 col7\" >7</th>        <th class=\"col_heading level0 col8\" >8</th>        <th class=\"col_heading level0 col9\" >9</th>        <th class=\"col_heading level0 col10\" >10</th>        <th class=\"col_heading level0 col11\" >11</th>        <th class=\"col_heading level0 col12\" >12</th>    </tr>    <tr>        <th class=\"blank level1\" ></th>        <th class=\"col_heading level1 col0\" >Rank</th>        <th class=\"col_heading level1 col1\" >Manufacturer</th>        <th class=\"col_heading level1 col2\" >Event</th>        <th class=\"col_heading level1 col3\" >Event</th>        <th class=\"col_heading level1 col4\" >Event</th>        <th class=\"col_heading level1 col5\" >Event</th>        <th class=\"col_heading level1 col6\" >Event</th>        <th class=\"col_heading level1 col7\" >Event</th>        <th class=\"col_heading level1 col8\" >Event</th>        <th class=\"col_heading level1 col9\" >Event</th>        <th class=\"col_heading level1 col10\" >Event</th>        <th class=\"col_heading level1 col11\" >Event</th>        <th class=\"col_heading level1 col12\" >Total points</th>    </tr>    <tr>        <th class=\"blank level2\" ></th>        <th class=\"col_heading level2 col0\" >Rank</th>        <th class=\"col_heading level2 col1\" >Manufacturer</th>        <th class=\"col_heading level2 col2\" ><a href=\"http://en.wikipedia.org/wiki/Rallye_Automobile_Monte_Carlo?curid=227411\">MON</a></th>        <th class=\"col_heading level2 col3\" ><a href=\"http://en.wikipedia.org/wiki/Swedish_Rally?curid=469490\">SWE</a></th>        <th class=\"col_heading level2 col4\" ><a href=\"http://en.wikipedia.org/wiki/Rally_Norway?curid=7274552\">NOR</a></th>        <th class=\"col_heading level2 col5\" ><a href=\"http://en.wikipedia.org/wiki/Rally_Mexico?curid=1445558\">MEX</a></th>        <th class=\"col_heading level2 col6\" ><a href=\"http://en.wikipedia.org/wiki/Rally_de_Portugal?curid=5543374\">POR</a></th>        <th class=\"col_heading level2 col7\" ><a href=\"http://en.wikipedia.org/wiki/Rally_Argentina?curid=1445609\">ARG</a></th>        <th class=\"col_heading level2 col8\" ><a href=\"http://en.wikipedia.org/wiki/Rally_d'Italia_Sardegna?curid=5468259\">ITA</a></th>        <th class=\"col_heading level2 col9\" ><a href=\"http://en.wikipedia.org/wiki/Acropolis_Rally_Greece?curid=1445607\">GRC</a></th>        <th class=\"col_heading level2 col10\" ><a href=\"http://en.wikipedia.org/wiki/Rally_Finland?curid=881363\">FIN</a></th>        <th class=\"col_heading level2 col11\" ><a href=\"http://en.wikipedia.org/wiki/Rallye_Deutschland?curid=1445621\">GER</a></th>        <th class=\"col_heading level2 col12\" >Total points</th>    </tr></thead><tbody>\n",
       "        </tbody></table>"
      ],
      "text/plain": [
       "<pandas.io.formats.style.Styler at 0x7f5f8c7f3c50>"
      ]
     },
     "metadata": {},
     "output_type": "display_data"
    },
    {
     "name": "stdout",
     "output_type": "stream",
     "text": [
      "((LinkedString('Home \\ Away [1 ]', links=()), LinkedString('ARG', links=((0, 3, 'http://en.wikipedia.org/wiki/FC_Argeș_Pitești?curid=2497262'),)), LinkedString('AST', links=((0, 3, 'http://en.wikipedia.org/wiki/FC_Astra_Ploiești?curid=12309558'),)), LinkedString('BAC', links=((0, 3, 'http://en.wikipedia.org/wiki/FCM_Bacău?curid=2496962'),)), LinkedString('BRA', links=((0, 3, 'http://en.wikipedia.org/wiki/FC_Brașov?curid=1339199'),)), LinkedString('CEA', links=((0, 3, 'http://en.wikipedia.org/wiki/FC_Ceahlăul_Piatra_Neamț?curid=2958305'),)), LinkedString('UCR', links=((0, 3, 'http://en.wikipedia.org/wiki/FC_Universitatea_Craiova?curid=2384859'),)), LinkedString('DIN', links=((0, 3, 'http://en.wikipedia.org/wiki/FC_Dinamo_București?curid=861358'),)), LinkedString('FAR', links=((0, 3, 'http://en.wikipedia.org/wiki/FC_Farul_Constanța?curid=3569562'),)), LinkedString('GBI', links=((0, 3, 'http://en.wikipedia.org/wiki/ACF_Gloria_Bistrița?curid=2384775'),)), LinkedString('OȚE', links=((0, 3, 'http://en.wikipedia.org/wiki/FC_Oțelul_Galați?curid=3569554'),)), LinkedString('PET', links=((0, 3, 'http://en.wikipedia.org/wiki/FC_Petrolul_Ploiești?curid=3575077'),)), LinkedString('NAT', links=((0, 3, 'http://en.wikipedia.org/wiki/FC_Naţional_Bucureşti?curid=2384790'),)), LinkedString('RAP', links=((0, 3, 'http://en.wikipedia.org/wiki/FC_Rapid_București?curid=1240318'),)), LinkedString('SPO', links=((0, 3, 'http://en.wikipedia.org/wiki/FC_Sportul_Studențesc_București?curid=2498018'),)), LinkedString('STE', links=((0, 3, 'http://en.wikipedia.org/wiki/FC_Steaua_București?curid=893411'),)), LinkedString('UMT', links=((0, 3, 'http://en.wikipedia.org/wiki/CSP_UM_Timişoara?curid=20179692'),))),)\n",
      "1 (0, 1, 9, 'short-uppercase-acronyms') None None\n"
     ]
    },
    {
     "data": {
      "text/html": [
       "<style  type=\"text/css\" >\n",
       "    #T_8fa9f7f0_358e_11eb_81c0_00259091f1e8 .col_heading.level0 {\n",
       "          display: none;\n",
       "    }    #T_8fa9f7f0_358e_11eb_81c0_00259091f1e8 .col_heading.level1.col1 {\n",
       "          background-color: #ff0;\n",
       "    }    #T_8fa9f7f0_358e_11eb_81c0_00259091f1e8 .col_heading.level1.col2 {\n",
       "          background-color: #ff0;\n",
       "    }    #T_8fa9f7f0_358e_11eb_81c0_00259091f1e8 .col_heading.level1.col3 {\n",
       "          background-color: #ff0;\n",
       "    }    #T_8fa9f7f0_358e_11eb_81c0_00259091f1e8 .col_heading.level1.col4 {\n",
       "          background-color: #ff0;\n",
       "    }    #T_8fa9f7f0_358e_11eb_81c0_00259091f1e8 .col_heading.level1.col5 {\n",
       "          background-color: #ff0;\n",
       "    }    #T_8fa9f7f0_358e_11eb_81c0_00259091f1e8 .col_heading.level1.col6 {\n",
       "          background-color: #ff0;\n",
       "    }    #T_8fa9f7f0_358e_11eb_81c0_00259091f1e8 .col_heading.level1.col7 {\n",
       "          background-color: #ff0;\n",
       "    }    #T_8fa9f7f0_358e_11eb_81c0_00259091f1e8 .col_heading.level1.col8 {\n",
       "          background-color: #ff0;\n",
       "    }    #T_8fa9f7f0_358e_11eb_81c0_00259091f1e8 .col_heading.level1.col9 {\n",
       "          background-color: #ff0;\n",
       "    }</style><table id=\"T_8fa9f7f0_358e_11eb_81c0_00259091f1e8\" ><thead>    <tr>        <th class=\"blank level0\" ></th>        <th class=\"col_heading level0 col0\" >0</th>        <th class=\"col_heading level0 col1\" >1</th>        <th class=\"col_heading level0 col2\" >2</th>        <th class=\"col_heading level0 col3\" >3</th>        <th class=\"col_heading level0 col4\" >4</th>        <th class=\"col_heading level0 col5\" >5</th>        <th class=\"col_heading level0 col6\" >6</th>        <th class=\"col_heading level0 col7\" >7</th>        <th class=\"col_heading level0 col8\" >8</th>        <th class=\"col_heading level0 col9\" >9</th>        <th class=\"col_heading level0 col10\" >10</th>        <th class=\"col_heading level0 col11\" >11</th>        <th class=\"col_heading level0 col12\" >12</th>        <th class=\"col_heading level0 col13\" >13</th>        <th class=\"col_heading level0 col14\" >14</th>        <th class=\"col_heading level0 col15\" >15</th>        <th class=\"col_heading level0 col16\" >16</th>    </tr>    <tr>        <th class=\"blank level1\" ></th>        <th class=\"col_heading level1 col0\" >Home \\ Away [1 ]</th>        <th class=\"col_heading level1 col1\" ><a href=\"http://en.wikipedia.org/wiki/FC_Argeș_Pitești?curid=2497262\">ARG</a></th>        <th class=\"col_heading level1 col2\" ><a href=\"http://en.wikipedia.org/wiki/FC_Astra_Ploiești?curid=12309558\">AST</a></th>        <th class=\"col_heading level1 col3\" ><a href=\"http://en.wikipedia.org/wiki/FCM_Bacău?curid=2496962\">BAC</a></th>        <th class=\"col_heading level1 col4\" ><a href=\"http://en.wikipedia.org/wiki/FC_Brașov?curid=1339199\">BRA</a></th>        <th class=\"col_heading level1 col5\" ><a href=\"http://en.wikipedia.org/wiki/FC_Ceahlăul_Piatra_Neamț?curid=2958305\">CEA</a></th>        <th class=\"col_heading level1 col6\" ><a href=\"http://en.wikipedia.org/wiki/FC_Universitatea_Craiova?curid=2384859\">UCR</a></th>        <th class=\"col_heading level1 col7\" ><a href=\"http://en.wikipedia.org/wiki/FC_Dinamo_București?curid=861358\">DIN</a></th>        <th class=\"col_heading level1 col8\" ><a href=\"http://en.wikipedia.org/wiki/FC_Farul_Constanța?curid=3569562\">FAR</a></th>        <th class=\"col_heading level1 col9\" ><a href=\"http://en.wikipedia.org/wiki/ACF_Gloria_Bistrița?curid=2384775\">GBI</a></th>        <th class=\"col_heading level1 col10\" ><a href=\"http://en.wikipedia.org/wiki/FC_Oțelul_Galați?curid=3569554\">OȚE</a></th>        <th class=\"col_heading level1 col11\" ><a href=\"http://en.wikipedia.org/wiki/FC_Petrolul_Ploiești?curid=3575077\">PET</a></th>        <th class=\"col_heading level1 col12\" ><a href=\"http://en.wikipedia.org/wiki/FC_Naţional_Bucureşti?curid=2384790\">NAT</a></th>        <th class=\"col_heading level1 col13\" ><a href=\"http://en.wikipedia.org/wiki/FC_Rapid_București?curid=1240318\">RAP</a></th>        <th class=\"col_heading level1 col14\" ><a href=\"http://en.wikipedia.org/wiki/FC_Sportul_Studențesc_București?curid=2498018\">SPO</a></th>        <th class=\"col_heading level1 col15\" ><a href=\"http://en.wikipedia.org/wiki/FC_Steaua_București?curid=893411\">STE</a></th>        <th class=\"col_heading level1 col16\" ><a href=\"http://en.wikipedia.org/wiki/CSP_UM_Timişoara?curid=20179692\">UMT</a></th>    </tr></thead><tbody>\n",
       "        </tbody></table>"
      ],
      "text/plain": [
       "<pandas.io.formats.style.Styler at 0x7f5f221cabd0>"
      ]
     },
     "metadata": {},
     "output_type": "display_data"
    },
    {
     "name": "stdout",
     "output_type": "stream",
     "text": [
      "((LinkedString('', links=()), LinkedString('SPD', links=((0, 3, 'http://en.wikipedia.org/wiki/Sozialdemokratische_Partei_Deutschlands?curid=60585'),)), LinkedString('CDU', links=((0, 3, 'http://en.wikipedia.org/wiki/Christlich_Demokratische_Union_Deutschlands?curid=60584'),)), LinkedString('FDP', links=((0, 3, 'http://en.wikipedia.org/wiki/Freie_Demokratische_Partei?curid=10825'),)), LinkedString('FWG', links=((0, 3, 'http://en.wikipedia.org/wiki/Freie_Wähler?curid=19509503'),)), LinkedString('Total', links=())),)\n",
      "1 (0, 1, 4, 'short-uppercase-acronyms') None None\n"
     ]
    },
    {
     "data": {
      "text/html": [
       "<style  type=\"text/css\" >\n",
       "    #T_8fac4230_358e_11eb_81c0_00259091f1e8 .col_heading.level0 {\n",
       "          display: none;\n",
       "    }    #T_8fac4230_358e_11eb_81c0_00259091f1e8 .col_heading.level1.col1 {\n",
       "          background-color: #ff0;\n",
       "    }    #T_8fac4230_358e_11eb_81c0_00259091f1e8 .col_heading.level1.col2 {\n",
       "          background-color: #ff0;\n",
       "    }    #T_8fac4230_358e_11eb_81c0_00259091f1e8 .col_heading.level1.col3 {\n",
       "          background-color: #ff0;\n",
       "    }    #T_8fac4230_358e_11eb_81c0_00259091f1e8 .col_heading.level1.col4 {\n",
       "          background-color: #ff0;\n",
       "    }</style><table id=\"T_8fac4230_358e_11eb_81c0_00259091f1e8\" ><thead>    <tr>        <th class=\"blank level0\" ></th>        <th class=\"col_heading level0 col0\" >0</th>        <th class=\"col_heading level0 col1\" >1</th>        <th class=\"col_heading level0 col2\" >2</th>        <th class=\"col_heading level0 col3\" >3</th>        <th class=\"col_heading level0 col4\" >4</th>        <th class=\"col_heading level0 col5\" >5</th>    </tr>    <tr>        <th class=\"blank level1\" ></th>        <th class=\"col_heading level1 col0\" ></th>        <th class=\"col_heading level1 col1\" ><a href=\"http://en.wikipedia.org/wiki/Sozialdemokratische_Partei_Deutschlands?curid=60585\">SPD</a></th>        <th class=\"col_heading level1 col2\" ><a href=\"http://en.wikipedia.org/wiki/Christlich_Demokratische_Union_Deutschlands?curid=60584\">CDU</a></th>        <th class=\"col_heading level1 col3\" ><a href=\"http://en.wikipedia.org/wiki/Freie_Demokratische_Partei?curid=10825\">FDP</a></th>        <th class=\"col_heading level1 col4\" ><a href=\"http://en.wikipedia.org/wiki/Freie_Wähler?curid=19509503\">FWG</a></th>        <th class=\"col_heading level1 col5\" >Total</th>    </tr></thead><tbody>\n",
       "        </tbody></table>"
      ],
      "text/plain": [
       "<pandas.io.formats.style.Styler at 0x7f5f8c7f3e10>"
      ]
     },
     "metadata": {},
     "output_type": "display_data"
    },
    {
     "name": "stdout",
     "output_type": "stream",
     "text": [
      "((LinkedString('YEAR', links=()), LinkedString('CMP', links=()), LinkedString('ATT', links=()), LinkedString('YDS', links=()), LinkedString('CMP%', links=()), LinkedString('YPA', links=()), LinkedString('LNG', links=()), LinkedString('TD', links=()), LinkedString('INT', links=()), LinkedString('SACK', links=()), LinkedString('RAT', links=())),)\n",
      "1 (0, 5, 10, 'short-uppercase-acronyms') None None\n"
     ]
    },
    {
     "data": {
      "text/html": [
       "<style  type=\"text/css\" >\n",
       "    #T_8faf1442_358e_11eb_81c0_00259091f1e8 .col_heading.level0 {\n",
       "          display: none;\n",
       "    }    #T_8faf1442_358e_11eb_81c0_00259091f1e8 .col_heading.level1.col5 {\n",
       "          background-color: #ff0;\n",
       "    }    #T_8faf1442_358e_11eb_81c0_00259091f1e8 .col_heading.level1.col6 {\n",
       "          background-color: #ff0;\n",
       "    }    #T_8faf1442_358e_11eb_81c0_00259091f1e8 .col_heading.level1.col7 {\n",
       "          background-color: #ff0;\n",
       "    }    #T_8faf1442_358e_11eb_81c0_00259091f1e8 .col_heading.level1.col8 {\n",
       "          background-color: #ff0;\n",
       "    }    #T_8faf1442_358e_11eb_81c0_00259091f1e8 .col_heading.level1.col9 {\n",
       "          background-color: #ff0;\n",
       "    }    #T_8faf1442_358e_11eb_81c0_00259091f1e8 .col_heading.level1.col10 {\n",
       "          background-color: #ff0;\n",
       "    }</style><table id=\"T_8faf1442_358e_11eb_81c0_00259091f1e8\" ><thead>    <tr>        <th class=\"blank level0\" ></th>        <th class=\"col_heading level0 col0\" >0</th>        <th class=\"col_heading level0 col1\" >1</th>        <th class=\"col_heading level0 col2\" >2</th>        <th class=\"col_heading level0 col3\" >3</th>        <th class=\"col_heading level0 col4\" >4</th>        <th class=\"col_heading level0 col5\" >5</th>        <th class=\"col_heading level0 col6\" >6</th>        <th class=\"col_heading level0 col7\" >7</th>        <th class=\"col_heading level0 col8\" >8</th>        <th class=\"col_heading level0 col9\" >9</th>        <th class=\"col_heading level0 col10\" >10</th>    </tr>    <tr>        <th class=\"blank level1\" ></th>        <th class=\"col_heading level1 col0\" >YEAR</th>        <th class=\"col_heading level1 col1\" >CMP</th>        <th class=\"col_heading level1 col2\" >ATT</th>        <th class=\"col_heading level1 col3\" >YDS</th>        <th class=\"col_heading level1 col4\" >CMP%</th>        <th class=\"col_heading level1 col5\" >YPA</th>        <th class=\"col_heading level1 col6\" >LNG</th>        <th class=\"col_heading level1 col7\" >TD</th>        <th class=\"col_heading level1 col8\" >INT</th>        <th class=\"col_heading level1 col9\" >SACK</th>        <th class=\"col_heading level1 col10\" >RAT</th>    </tr></thead><tbody>\n",
       "        </tbody></table>"
      ],
      "text/plain": [
       "<pandas.io.formats.style.Styler at 0x7f5f8c7f3d50>"
      ]
     },
     "metadata": {},
     "output_type": "display_data"
    },
    {
     "name": "stdout",
     "output_type": "stream",
     "text": [
      "((LinkedString('Year', links=()), LinkedString('Album details', links=()), LinkedString('Chart positions', links=()), LinkedString('Chart positions', links=()), LinkedString('Chart positions', links=()), LinkedString('Chart positions', links=()), LinkedString('Chart positions', links=()), LinkedString('Chart positions', links=()), LinkedString('Chart positions', links=()), LinkedString('Chart positions', links=()), LinkedString('Chart positions', links=()), LinkedString('Chart positions', links=()), LinkedString('Chart positions', links=()), LinkedString('Chart positions', links=()), LinkedString('Sales', links=()), LinkedString('Certifications (sales thresholds)', links=())), (LinkedString('Year', links=()), LinkedString('Album details', links=()), LinkedString('US', links=()), LinkedString('AUS', links=()), LinkedString('AUT', links=()), LinkedString('CAN', links=()), LinkedString('FIN', links=()), LinkedString('JPN', links=()), LinkedString('NLD', links=()), LinkedString('NZ', links=()), LinkedString('NOR', links=()), LinkedString('SWE', links=()), LinkedString('SWI', links=()), LinkedString('UK', links=()), LinkedString('Sales', links=()), LinkedString('Certifications (sales thresholds)', links=())))\n",
      "1 (1, 2, 13, 'short-uppercase-acronyms') None None\n"
     ]
    },
    {
     "data": {
      "text/html": [
       "<style  type=\"text/css\" >\n",
       "    #T_8fb24702_358e_11eb_81c0_00259091f1e8 .col_heading.level0 {\n",
       "          display: none;\n",
       "    }    #T_8fb24702_358e_11eb_81c0_00259091f1e8 .col_heading.level2.col2 {\n",
       "          background-color: #ff0;\n",
       "    }    #T_8fb24702_358e_11eb_81c0_00259091f1e8 .col_heading.level2.col3 {\n",
       "          background-color: #ff0;\n",
       "    }    #T_8fb24702_358e_11eb_81c0_00259091f1e8 .col_heading.level2.col4 {\n",
       "          background-color: #ff0;\n",
       "    }    #T_8fb24702_358e_11eb_81c0_00259091f1e8 .col_heading.level2.col5 {\n",
       "          background-color: #ff0;\n",
       "    }    #T_8fb24702_358e_11eb_81c0_00259091f1e8 .col_heading.level2.col6 {\n",
       "          background-color: #ff0;\n",
       "    }    #T_8fb24702_358e_11eb_81c0_00259091f1e8 .col_heading.level2.col7 {\n",
       "          background-color: #ff0;\n",
       "    }    #T_8fb24702_358e_11eb_81c0_00259091f1e8 .col_heading.level2.col8 {\n",
       "          background-color: #ff0;\n",
       "    }    #T_8fb24702_358e_11eb_81c0_00259091f1e8 .col_heading.level2.col9 {\n",
       "          background-color: #ff0;\n",
       "    }    #T_8fb24702_358e_11eb_81c0_00259091f1e8 .col_heading.level2.col10 {\n",
       "          background-color: #ff0;\n",
       "    }    #T_8fb24702_358e_11eb_81c0_00259091f1e8 .col_heading.level2.col11 {\n",
       "          background-color: #ff0;\n",
       "    }    #T_8fb24702_358e_11eb_81c0_00259091f1e8 .col_heading.level2.col12 {\n",
       "          background-color: #ff0;\n",
       "    }    #T_8fb24702_358e_11eb_81c0_00259091f1e8 .col_heading.level2.col13 {\n",
       "          background-color: #ff0;\n",
       "    }</style><table id=\"T_8fb24702_358e_11eb_81c0_00259091f1e8\" ><thead>    <tr>        <th class=\"blank level0\" ></th>        <th class=\"col_heading level0 col0\" >0</th>        <th class=\"col_heading level0 col1\" >1</th>        <th class=\"col_heading level0 col2\" >2</th>        <th class=\"col_heading level0 col3\" >3</th>        <th class=\"col_heading level0 col4\" >4</th>        <th class=\"col_heading level0 col5\" >5</th>        <th class=\"col_heading level0 col6\" >6</th>        <th class=\"col_heading level0 col7\" >7</th>        <th class=\"col_heading level0 col8\" >8</th>        <th class=\"col_heading level0 col9\" >9</th>        <th class=\"col_heading level0 col10\" >10</th>        <th class=\"col_heading level0 col11\" >11</th>        <th class=\"col_heading level0 col12\" >12</th>        <th class=\"col_heading level0 col13\" >13</th>        <th class=\"col_heading level0 col14\" >14</th>        <th class=\"col_heading level0 col15\" >15</th>    </tr>    <tr>        <th class=\"blank level1\" ></th>        <th class=\"col_heading level1 col0\" >Year</th>        <th class=\"col_heading level1 col1\" >Album details</th>        <th class=\"col_heading level1 col2\" >Chart positions</th>        <th class=\"col_heading level1 col3\" >Chart positions</th>        <th class=\"col_heading level1 col4\" >Chart positions</th>        <th class=\"col_heading level1 col5\" >Chart positions</th>        <th class=\"col_heading level1 col6\" >Chart positions</th>        <th class=\"col_heading level1 col7\" >Chart positions</th>        <th class=\"col_heading level1 col8\" >Chart positions</th>        <th class=\"col_heading level1 col9\" >Chart positions</th>        <th class=\"col_heading level1 col10\" >Chart positions</th>        <th class=\"col_heading level1 col11\" >Chart positions</th>        <th class=\"col_heading level1 col12\" >Chart positions</th>        <th class=\"col_heading level1 col13\" >Chart positions</th>        <th class=\"col_heading level1 col14\" >Sales</th>        <th class=\"col_heading level1 col15\" >Certifications (sales thresholds)</th>    </tr>    <tr>        <th class=\"blank level2\" ></th>        <th class=\"col_heading level2 col0\" >Year</th>        <th class=\"col_heading level2 col1\" >Album details</th>        <th class=\"col_heading level2 col2\" >US</th>        <th class=\"col_heading level2 col3\" >AUS</th>        <th class=\"col_heading level2 col4\" >AUT</th>        <th class=\"col_heading level2 col5\" >CAN</th>        <th class=\"col_heading level2 col6\" >FIN</th>        <th class=\"col_heading level2 col7\" >JPN</th>        <th class=\"col_heading level2 col8\" >NLD</th>        <th class=\"col_heading level2 col9\" >NZ</th>        <th class=\"col_heading level2 col10\" >NOR</th>        <th class=\"col_heading level2 col11\" >SWE</th>        <th class=\"col_heading level2 col12\" >SWI</th>        <th class=\"col_heading level2 col13\" >UK</th>        <th class=\"col_heading level2 col14\" >Sales</th>        <th class=\"col_heading level2 col15\" >Certifications (sales thresholds)</th>    </tr></thead><tbody>\n",
       "        </tbody></table>"
      ],
      "text/plain": [
       "<pandas.io.formats.style.Styler at 0x7f5f28130750>"
      ]
     },
     "metadata": {},
     "output_type": "display_data"
    },
    {
     "name": "stdout",
     "output_type": "stream",
     "text": [
      "((LinkedString('Experience Pay', links=()), LinkedString('EMR', links=()), LinkedString('PCP', links=()), LinkedString('PCP-IV', links=()), LinkedString('ACP', links=()), LinkedString('ITT', links=()), LinkedString('CCP', links=())),)\n",
      "1 (0, 4, 6, 'short-uppercase-acronyms') None None\n"
     ]
    },
    {
     "data": {
      "text/html": [
       "<style  type=\"text/css\" >\n",
       "    #T_8fb56b30_358e_11eb_81c0_00259091f1e8 .col_heading.level0 {\n",
       "          display: none;\n",
       "    }    #T_8fb56b30_358e_11eb_81c0_00259091f1e8 .col_heading.level1.col4 {\n",
       "          background-color: #ff0;\n",
       "    }    #T_8fb56b30_358e_11eb_81c0_00259091f1e8 .col_heading.level1.col5 {\n",
       "          background-color: #ff0;\n",
       "    }    #T_8fb56b30_358e_11eb_81c0_00259091f1e8 .col_heading.level1.col6 {\n",
       "          background-color: #ff0;\n",
       "    }</style><table id=\"T_8fb56b30_358e_11eb_81c0_00259091f1e8\" ><thead>    <tr>        <th class=\"blank level0\" ></th>        <th class=\"col_heading level0 col0\" >0</th>        <th class=\"col_heading level0 col1\" >1</th>        <th class=\"col_heading level0 col2\" >2</th>        <th class=\"col_heading level0 col3\" >3</th>        <th class=\"col_heading level0 col4\" >4</th>        <th class=\"col_heading level0 col5\" >5</th>        <th class=\"col_heading level0 col6\" >6</th>    </tr>    <tr>        <th class=\"blank level1\" ></th>        <th class=\"col_heading level1 col0\" >Experience Pay</th>        <th class=\"col_heading level1 col1\" >EMR</th>        <th class=\"col_heading level1 col2\" >PCP</th>        <th class=\"col_heading level1 col3\" >PCP-IV</th>        <th class=\"col_heading level1 col4\" >ACP</th>        <th class=\"col_heading level1 col5\" >ITT</th>        <th class=\"col_heading level1 col6\" >CCP</th>    </tr></thead><tbody>\n",
       "        </tbody></table>"
      ],
      "text/plain": [
       "<pandas.io.formats.style.Styler at 0x7f5f21bb3c50>"
      ]
     },
     "metadata": {},
     "output_type": "display_data"
    },
    {
     "name": "stdout",
     "output_type": "stream",
     "text": [
      "((LinkedString('Title', links=()), LinkedString('Album details', links=()), LinkedString('Peak chart positions', links=()), LinkedString('Peak chart positions', links=()), LinkedString('Peak chart positions', links=()), LinkedString('Peak chart positions', links=()), LinkedString('Peak chart positions', links=()), LinkedString('Peak chart positions', links=()), LinkedString('Peak chart positions', links=()), LinkedString('Peak chart positions', links=()), LinkedString('Peak chart positions', links=()), LinkedString('Peak chart positions', links=()), LinkedString('Certifications', links=((0, 14, 'http://en.wikipedia.org/wiki/List_of_music_recording_certifications?curid=17627213'),))), (LinkedString('Title', links=()), LinkedString('Album details', links=()), LinkedString('NLD', links=((0, 3, 'http://en.wikipedia.org/wiki/MegaCharts?curid=6013155'),)), LinkedString('FIN', links=((0, 3, 'http://en.wikipedia.org/wiki/The_Official_Finnish_Charts?curid=7824827'),)), LinkedString('FRA', links=((0, 3, \"http://en.wikipedia.org/wiki/Syndicat_National_de_l'Édition_Phonographique?curid=4565593\"),)), LinkedString('GER', links=((0, 3, 'http://en.wikipedia.org/wiki/Media_Control_Charts?curid=6170448'),)), LinkedString('IRL', links=((0, 3, 'http://en.wikipedia.org/wiki/Irish_Albums_Chart?curid=5784179'),)), LinkedString('NOR', links=((0, 3, 'http://en.wikipedia.org/wiki/VG-lista?curid=8262087'),)), LinkedString('SWE', links=((0, 3, 'http://en.wikipedia.org/wiki/Sverigetopplistan?curid=11002747'),)), LinkedString('SWI', links=((0, 3, 'http://en.wikipedia.org/wiki/Swiss_Music_Charts?curid=17054761'),)), LinkedString('UK', links=((0, 2, 'http://en.wikipedia.org/wiki/UK_Albums_Chart?curid=2465857'),)), LinkedString('US', links=((0, 2, 'http://en.wikipedia.org/wiki/Billboard_200?curid=730350'),)), LinkedString('Certifications', links=((0, 14, 'http://en.wikipedia.org/wiki/List_of_music_recording_certifications?curid=17627213'),))))\n",
      "1 (1, 2, 11, 'short-uppercase-acronyms') None None\n"
     ]
    },
    {
     "data": {
      "text/html": [
       "<style  type=\"text/css\" >\n",
       "    #T_8fb85c00_358e_11eb_81c0_00259091f1e8 .col_heading.level0 {\n",
       "          display: none;\n",
       "    }    #T_8fb85c00_358e_11eb_81c0_00259091f1e8 .col_heading.level2.col2 {\n",
       "          background-color: #ff0;\n",
       "    }    #T_8fb85c00_358e_11eb_81c0_00259091f1e8 .col_heading.level2.col3 {\n",
       "          background-color: #ff0;\n",
       "    }    #T_8fb85c00_358e_11eb_81c0_00259091f1e8 .col_heading.level2.col4 {\n",
       "          background-color: #ff0;\n",
       "    }    #T_8fb85c00_358e_11eb_81c0_00259091f1e8 .col_heading.level2.col5 {\n",
       "          background-color: #ff0;\n",
       "    }    #T_8fb85c00_358e_11eb_81c0_00259091f1e8 .col_heading.level2.col6 {\n",
       "          background-color: #ff0;\n",
       "    }    #T_8fb85c00_358e_11eb_81c0_00259091f1e8 .col_heading.level2.col7 {\n",
       "          background-color: #ff0;\n",
       "    }    #T_8fb85c00_358e_11eb_81c0_00259091f1e8 .col_heading.level2.col8 {\n",
       "          background-color: #ff0;\n",
       "    }    #T_8fb85c00_358e_11eb_81c0_00259091f1e8 .col_heading.level2.col9 {\n",
       "          background-color: #ff0;\n",
       "    }    #T_8fb85c00_358e_11eb_81c0_00259091f1e8 .col_heading.level2.col10 {\n",
       "          background-color: #ff0;\n",
       "    }    #T_8fb85c00_358e_11eb_81c0_00259091f1e8 .col_heading.level2.col11 {\n",
       "          background-color: #ff0;\n",
       "    }</style><table id=\"T_8fb85c00_358e_11eb_81c0_00259091f1e8\" ><thead>    <tr>        <th class=\"blank level0\" ></th>        <th class=\"col_heading level0 col0\" >0</th>        <th class=\"col_heading level0 col1\" >1</th>        <th class=\"col_heading level0 col2\" >2</th>        <th class=\"col_heading level0 col3\" >3</th>        <th class=\"col_heading level0 col4\" >4</th>        <th class=\"col_heading level0 col5\" >5</th>        <th class=\"col_heading level0 col6\" >6</th>        <th class=\"col_heading level0 col7\" >7</th>        <th class=\"col_heading level0 col8\" >8</th>        <th class=\"col_heading level0 col9\" >9</th>        <th class=\"col_heading level0 col10\" >10</th>        <th class=\"col_heading level0 col11\" >11</th>        <th class=\"col_heading level0 col12\" >12</th>    </tr>    <tr>        <th class=\"blank level1\" ></th>        <th class=\"col_heading level1 col0\" >Title</th>        <th class=\"col_heading level1 col1\" >Album details</th>        <th class=\"col_heading level1 col2\" >Peak chart positions</th>        <th class=\"col_heading level1 col3\" >Peak chart positions</th>        <th class=\"col_heading level1 col4\" >Peak chart positions</th>        <th class=\"col_heading level1 col5\" >Peak chart positions</th>        <th class=\"col_heading level1 col6\" >Peak chart positions</th>        <th class=\"col_heading level1 col7\" >Peak chart positions</th>        <th class=\"col_heading level1 col8\" >Peak chart positions</th>        <th class=\"col_heading level1 col9\" >Peak chart positions</th>        <th class=\"col_heading level1 col10\" >Peak chart positions</th>        <th class=\"col_heading level1 col11\" >Peak chart positions</th>        <th class=\"col_heading level1 col12\" ><a href=\"http://en.wikipedia.org/wiki/List_of_music_recording_certifications?curid=17627213\">Certifications</a></th>    </tr>    <tr>        <th class=\"blank level2\" ></th>        <th class=\"col_heading level2 col0\" >Title</th>        <th class=\"col_heading level2 col1\" >Album details</th>        <th class=\"col_heading level2 col2\" ><a href=\"http://en.wikipedia.org/wiki/MegaCharts?curid=6013155\">NLD</a></th>        <th class=\"col_heading level2 col3\" ><a href=\"http://en.wikipedia.org/wiki/The_Official_Finnish_Charts?curid=7824827\">FIN</a></th>        <th class=\"col_heading level2 col4\" ><a href=\"http://en.wikipedia.org/wiki/Syndicat_National_de_l'Édition_Phonographique?curid=4565593\">FRA</a></th>        <th class=\"col_heading level2 col5\" ><a href=\"http://en.wikipedia.org/wiki/Media_Control_Charts?curid=6170448\">GER</a></th>        <th class=\"col_heading level2 col6\" ><a href=\"http://en.wikipedia.org/wiki/Irish_Albums_Chart?curid=5784179\">IRL</a></th>        <th class=\"col_heading level2 col7\" ><a href=\"http://en.wikipedia.org/wiki/VG-lista?curid=8262087\">NOR</a></th>        <th class=\"col_heading level2 col8\" ><a href=\"http://en.wikipedia.org/wiki/Sverigetopplistan?curid=11002747\">SWE</a></th>        <th class=\"col_heading level2 col9\" ><a href=\"http://en.wikipedia.org/wiki/Swiss_Music_Charts?curid=17054761\">SWI</a></th>        <th class=\"col_heading level2 col10\" ><a href=\"http://en.wikipedia.org/wiki/UK_Albums_Chart?curid=2465857\">UK</a></th>        <th class=\"col_heading level2 col11\" ><a href=\"http://en.wikipedia.org/wiki/Billboard_200?curid=730350\">US</a></th>        <th class=\"col_heading level2 col12\" ><a href=\"http://en.wikipedia.org/wiki/List_of_music_recording_certifications?curid=17627213\">Certifications</a></th>    </tr></thead><tbody>\n",
       "        </tbody></table>"
      ],
      "text/plain": [
       "<pandas.io.formats.style.Styler at 0x7f5f21bf18d0>"
      ]
     },
     "metadata": {},
     "output_type": "display_data"
    },
    {
     "name": "stdout",
     "output_type": "stream",
     "text": [
      "((LinkedString('', links=()), LinkedString('COR', links=((0, 3, 'http://en.wikipedia.org/wiki/Sport_Club_Corinthians_Paulista?curid=187241'),)), LinkedString('UANL', links=((0, 4, 'http://en.wikipedia.org/wiki/Tigres_de_la_UANL?curid=1511127'),)), LinkedString('CAT', links=((0, 3, 'http://en.wikipedia.org/wiki/Club_Deportivo_Universidad_Católica?curid=1502099'),)), LinkedString('CAL', links=((0, 3, 'http://en.wikipedia.org/wiki/Deportivo_Cali?curid=1648801'),))),)\n",
      "1 (0, 1, 4, 'short-uppercase-acronyms') None None\n"
     ]
    },
    {
     "data": {
      "text/html": [
       "<style  type=\"text/css\" >\n",
       "    #T_8fba91f0_358e_11eb_81c0_00259091f1e8 .col_heading.level0 {\n",
       "          display: none;\n",
       "    }    #T_8fba91f0_358e_11eb_81c0_00259091f1e8 .col_heading.level1.col1 {\n",
       "          background-color: #ff0;\n",
       "    }    #T_8fba91f0_358e_11eb_81c0_00259091f1e8 .col_heading.level1.col2 {\n",
       "          background-color: #ff0;\n",
       "    }    #T_8fba91f0_358e_11eb_81c0_00259091f1e8 .col_heading.level1.col3 {\n",
       "          background-color: #ff0;\n",
       "    }    #T_8fba91f0_358e_11eb_81c0_00259091f1e8 .col_heading.level1.col4 {\n",
       "          background-color: #ff0;\n",
       "    }</style><table id=\"T_8fba91f0_358e_11eb_81c0_00259091f1e8\" ><thead>    <tr>        <th class=\"blank level0\" ></th>        <th class=\"col_heading level0 col0\" >0</th>        <th class=\"col_heading level0 col1\" >1</th>        <th class=\"col_heading level0 col2\" >2</th>        <th class=\"col_heading level0 col3\" >3</th>        <th class=\"col_heading level0 col4\" >4</th>    </tr>    <tr>        <th class=\"blank level1\" ></th>        <th class=\"col_heading level1 col0\" ></th>        <th class=\"col_heading level1 col1\" ><a href=\"http://en.wikipedia.org/wiki/Sport_Club_Corinthians_Paulista?curid=187241\">COR</a></th>        <th class=\"col_heading level1 col2\" ><a href=\"http://en.wikipedia.org/wiki/Tigres_de_la_UANL?curid=1511127\">UANL</a></th>        <th class=\"col_heading level1 col3\" ><a href=\"http://en.wikipedia.org/wiki/Club_Deportivo_Universidad_Católica?curid=1502099\">CAT</a></th>        <th class=\"col_heading level1 col4\" ><a href=\"http://en.wikipedia.org/wiki/Deportivo_Cali?curid=1648801\">CAL</a></th>    </tr></thead><tbody>\n",
       "        </tbody></table>"
      ],
      "text/plain": [
       "<pandas.io.formats.style.Styler at 0x7f5f2810f090>"
      ]
     },
     "metadata": {},
     "output_type": "display_data"
    },
    {
     "name": "stdout",
     "output_type": "stream",
     "text": [
      "((LinkedString('Title', links=()), LinkedString('Album details', links=()), LinkedString('Peak chart positions', links=()), LinkedString('Peak chart positions', links=()), LinkedString('Peak chart positions', links=()), LinkedString('Peak chart positions', links=()), LinkedString('Peak chart positions', links=()), LinkedString('Peak chart positions', links=()), LinkedString('Peak chart positions', links=()), LinkedString('Peak chart positions', links=()), LinkedString('Peak chart positions', links=()), LinkedString('Peak chart positions', links=()), LinkedString('Certifications', links=((0, 14, 'http://en.wikipedia.org/wiki/List_of_music_recording_certifications?curid=17627213'),))), (LinkedString('Title', links=()), LinkedString('Album details', links=()), LinkedString('UK List of albums and singles by Blue on UK Charts: Geral: The Collection:', links=((0, 2, 'http://en.wikipedia.org/wiki/UK_Albums_Chart?curid=2465857'),)), LinkedString('AUS List of Atomic Kitten's albums and songs on Australia: Geral: Feels So Good: Ladies Night:', links=((0, 3, 'http://en.wikipedia.org/wiki/ARIA_Charts?curid=3002226'),)), LinkedString('AUT', links=((0, 3, 'http://en.wikipedia.org/wiki/Ö3_Austria_Top_40?curid=13757814'),)), LinkedString('BEL', links=((0, 3, 'http://en.wikipedia.org/wiki/Belgian_Entertainment_Association?curid=30373030'),)), LinkedString('DEN', links=((0, 3, 'http://en.wikipedia.org/wiki/Tracklisten?curid=14496566'),)), LinkedString('GER', links=((0, 3, 'http://en.wikipedia.org/wiki/Media_Control_Charts?curid=6170448'),)), LinkedString('IRE', links=((0, 3, 'http://en.wikipedia.org/wiki/Irish_Albums_Chart?curid=5784179'),)), LinkedString('NLD', links=((0, 3, 'http://en.wikipedia.org/wiki/MegaCharts?curid=6013155'),)), LinkedString('NZ', links=((0, 2, 'http://en.wikipedia.org/wiki/Recording_Industry_Association_of_New_Zealand?curid=1588487'),)), LinkedString('SWI', links=((0, 3, 'http://en.wikipedia.org/wiki/Swiss_Music_Charts?curid=17054761'),)), LinkedString('Certifications', links=((0, 14, 'http://en.wikipedia.org/wiki/List_of_music_recording_certifications?curid=17627213'),))))\n",
      "1 (1, 4, 11, 'short-uppercase-acronyms') None None\n"
     ]
    },
    {
     "data": {
      "text/html": [
       "<style  type=\"text/css\" >\n",
       "    #T_8fbec0fe_358e_11eb_81c0_00259091f1e8 .col_heading.level0 {\n",
       "          display: none;\n",
       "    }    #T_8fbec0fe_358e_11eb_81c0_00259091f1e8 .col_heading.level2.col4 {\n",
       "          background-color: #ff0;\n",
       "    }    #T_8fbec0fe_358e_11eb_81c0_00259091f1e8 .col_heading.level2.col5 {\n",
       "          background-color: #ff0;\n",
       "    }    #T_8fbec0fe_358e_11eb_81c0_00259091f1e8 .col_heading.level2.col6 {\n",
       "          background-color: #ff0;\n",
       "    }    #T_8fbec0fe_358e_11eb_81c0_00259091f1e8 .col_heading.level2.col7 {\n",
       "          background-color: #ff0;\n",
       "    }    #T_8fbec0fe_358e_11eb_81c0_00259091f1e8 .col_heading.level2.col8 {\n",
       "          background-color: #ff0;\n",
       "    }    #T_8fbec0fe_358e_11eb_81c0_00259091f1e8 .col_heading.level2.col9 {\n",
       "          background-color: #ff0;\n",
       "    }    #T_8fbec0fe_358e_11eb_81c0_00259091f1e8 .col_heading.level2.col10 {\n",
       "          background-color: #ff0;\n",
       "    }    #T_8fbec0fe_358e_11eb_81c0_00259091f1e8 .col_heading.level2.col11 {\n",
       "          background-color: #ff0;\n",
       "    }</style><table id=\"T_8fbec0fe_358e_11eb_81c0_00259091f1e8\" ><thead>    <tr>        <th class=\"blank level0\" ></th>        <th class=\"col_heading level0 col0\" >0</th>        <th class=\"col_heading level0 col1\" >1</th>        <th class=\"col_heading level0 col2\" >2</th>        <th class=\"col_heading level0 col3\" >3</th>        <th class=\"col_heading level0 col4\" >4</th>        <th class=\"col_heading level0 col5\" >5</th>        <th class=\"col_heading level0 col6\" >6</th>        <th class=\"col_heading level0 col7\" >7</th>        <th class=\"col_heading level0 col8\" >8</th>        <th class=\"col_heading level0 col9\" >9</th>        <th class=\"col_heading level0 col10\" >10</th>        <th class=\"col_heading level0 col11\" >11</th>        <th class=\"col_heading level0 col12\" >12</th>    </tr>    <tr>        <th class=\"blank level1\" ></th>        <th class=\"col_heading level1 col0\" >Title</th>        <th class=\"col_heading level1 col1\" >Album details</th>        <th class=\"col_heading level1 col2\" >Peak chart positions</th>        <th class=\"col_heading level1 col3\" >Peak chart positions</th>        <th class=\"col_heading level1 col4\" >Peak chart positions</th>        <th class=\"col_heading level1 col5\" >Peak chart positions</th>        <th class=\"col_heading level1 col6\" >Peak chart positions</th>        <th class=\"col_heading level1 col7\" >Peak chart positions</th>        <th class=\"col_heading level1 col8\" >Peak chart positions</th>        <th class=\"col_heading level1 col9\" >Peak chart positions</th>        <th class=\"col_heading level1 col10\" >Peak chart positions</th>        <th class=\"col_heading level1 col11\" >Peak chart positions</th>        <th class=\"col_heading level1 col12\" ><a href=\"http://en.wikipedia.org/wiki/List_of_music_recording_certifications?curid=17627213\">Certifications</a></th>    </tr>    <tr>        <th class=\"blank level2\" ></th>        <th class=\"col_heading level2 col0\" >Title</th>        <th class=\"col_heading level2 col1\" >Album details</th>        <th class=\"col_heading level2 col2\" ><a href=\"http://en.wikipedia.org/wiki/UK_Albums_Chart?curid=2465857\">UK</a> List of albums and singles by Blue on UK Charts: Geral: The Collection:</th>        <th class=\"col_heading level2 col3\" ><a href=\"http://en.wikipedia.org/wiki/ARIA_Charts?curid=3002226\">AUS</a> List of Atomic Kitten's albums and songs on Australia: Geral: Feels So Good: Ladies Night:</th>        <th class=\"col_heading level2 col4\" ><a href=\"http://en.wikipedia.org/wiki/Ö3_Austria_Top_40?curid=13757814\">AUT</a></th>        <th class=\"col_heading level2 col5\" ><a href=\"http://en.wikipedia.org/wiki/Belgian_Entertainment_Association?curid=30373030\">BEL</a></th>        <th class=\"col_heading level2 col6\" ><a href=\"http://en.wikipedia.org/wiki/Tracklisten?curid=14496566\">DEN</a></th>        <th class=\"col_heading level2 col7\" ><a href=\"http://en.wikipedia.org/wiki/Media_Control_Charts?curid=6170448\">GER</a></th>        <th class=\"col_heading level2 col8\" ><a href=\"http://en.wikipedia.org/wiki/Irish_Albums_Chart?curid=5784179\">IRE</a></th>        <th class=\"col_heading level2 col9\" ><a href=\"http://en.wikipedia.org/wiki/MegaCharts?curid=6013155\">NLD</a></th>        <th class=\"col_heading level2 col10\" ><a href=\"http://en.wikipedia.org/wiki/Recording_Industry_Association_of_New_Zealand?curid=1588487\">NZ</a></th>        <th class=\"col_heading level2 col11\" ><a href=\"http://en.wikipedia.org/wiki/Swiss_Music_Charts?curid=17054761\">SWI</a></th>        <th class=\"col_heading level2 col12\" ><a href=\"http://en.wikipedia.org/wiki/List_of_music_recording_certifications?curid=17627213\">Certifications</a></th>    </tr></thead><tbody>\n",
       "        </tbody></table>"
      ],
      "text/plain": [
       "<pandas.io.formats.style.Styler at 0x7f5f2810f890>"
      ]
     },
     "metadata": {},
     "output_type": "display_data"
    },
    {
     "name": "stdout",
     "output_type": "stream",
     "text": [
      "((LinkedString('Pos.', links=()), LinkedString('Manufacturer', links=()), LinkedString('No.', links=()), LinkedString('MON', links=((0, 3, 'http://en.wikipedia.org/wiki/2001_Monte_Carlo_Rally'),)), LinkedString('SWE', links=((0, 3, 'http://en.wikipedia.org/wiki/2001_Swedish_Rally'),)), LinkedString('POR', links=((0, 3, 'http://en.wikipedia.org/wiki/2001_Rally_de_Portugal'),)), LinkedString('ESP', links=((0, 3, 'http://en.wikipedia.org/wiki/2001_Rally_Catalunya'),)), LinkedString('ARG', links=((0, 3, 'http://en.wikipedia.org/wiki/2001_Rally_Argentina'),)), LinkedString('CYP', links=((0, 3, 'http://en.wikipedia.org/wiki/2001_Cyprus_Rally'),)), LinkedString('GRE', links=((0, 3, 'http://en.wikipedia.org/wiki/2001_Acropolis_Rally'),)), LinkedString('KEN', links=((0, 3, 'http://en.wikipedia.org/wiki/2001_Safari_Rally'),)), LinkedString('FIN', links=((0, 3, 'http://en.wikipedia.org/wiki/2001_Rally_Finland'),)), LinkedString('NZL', links=((0, 3, 'http://en.wikipedia.org/wiki/2001_Rally_New_Zealand'),)), LinkedString('ITA', links=((0, 3, 'http://en.wikipedia.org/wiki/2001_Rally_Sanremo'),)), LinkedString('FRA', links=((0, 3, 'http://en.wikipedia.org/wiki/2001_Tour_de_Corse'),)), LinkedString('AUS', links=((0, 3, 'http://en.wikipedia.org/wiki/2001_Rally_Australia'),)), LinkedString('GBR', links=((0, 3, 'http://en.wikipedia.org/wiki/2001_Rally_GB'),)), LinkedString('Points', links=())),)\n",
      "1 (0, 3, 16, 'short-uppercase-acronyms') None None\n"
     ]
    },
    {
     "data": {
      "text/html": [
       "<style  type=\"text/css\" >\n",
       "    #T_8fc1c7c2_358e_11eb_81c0_00259091f1e8 .col_heading.level0 {\n",
       "          display: none;\n",
       "    }    #T_8fc1c7c2_358e_11eb_81c0_00259091f1e8 .col_heading.level1.col3 {\n",
       "          background-color: #ff0;\n",
       "    }    #T_8fc1c7c2_358e_11eb_81c0_00259091f1e8 .col_heading.level1.col4 {\n",
       "          background-color: #ff0;\n",
       "    }    #T_8fc1c7c2_358e_11eb_81c0_00259091f1e8 .col_heading.level1.col5 {\n",
       "          background-color: #ff0;\n",
       "    }    #T_8fc1c7c2_358e_11eb_81c0_00259091f1e8 .col_heading.level1.col6 {\n",
       "          background-color: #ff0;\n",
       "    }    #T_8fc1c7c2_358e_11eb_81c0_00259091f1e8 .col_heading.level1.col7 {\n",
       "          background-color: #ff0;\n",
       "    }    #T_8fc1c7c2_358e_11eb_81c0_00259091f1e8 .col_heading.level1.col8 {\n",
       "          background-color: #ff0;\n",
       "    }    #T_8fc1c7c2_358e_11eb_81c0_00259091f1e8 .col_heading.level1.col9 {\n",
       "          background-color: #ff0;\n",
       "    }    #T_8fc1c7c2_358e_11eb_81c0_00259091f1e8 .col_heading.level1.col10 {\n",
       "          background-color: #ff0;\n",
       "    }    #T_8fc1c7c2_358e_11eb_81c0_00259091f1e8 .col_heading.level1.col11 {\n",
       "          background-color: #ff0;\n",
       "    }    #T_8fc1c7c2_358e_11eb_81c0_00259091f1e8 .col_heading.level1.col12 {\n",
       "          background-color: #ff0;\n",
       "    }    #T_8fc1c7c2_358e_11eb_81c0_00259091f1e8 .col_heading.level1.col13 {\n",
       "          background-color: #ff0;\n",
       "    }    #T_8fc1c7c2_358e_11eb_81c0_00259091f1e8 .col_heading.level1.col14 {\n",
       "          background-color: #ff0;\n",
       "    }    #T_8fc1c7c2_358e_11eb_81c0_00259091f1e8 .col_heading.level1.col15 {\n",
       "          background-color: #ff0;\n",
       "    }    #T_8fc1c7c2_358e_11eb_81c0_00259091f1e8 .col_heading.level1.col16 {\n",
       "          background-color: #ff0;\n",
       "    }</style><table id=\"T_8fc1c7c2_358e_11eb_81c0_00259091f1e8\" ><thead>    <tr>        <th class=\"blank level0\" ></th>        <th class=\"col_heading level0 col0\" >0</th>        <th class=\"col_heading level0 col1\" >1</th>        <th class=\"col_heading level0 col2\" >2</th>        <th class=\"col_heading level0 col3\" >3</th>        <th class=\"col_heading level0 col4\" >4</th>        <th class=\"col_heading level0 col5\" >5</th>        <th class=\"col_heading level0 col6\" >6</th>        <th class=\"col_heading level0 col7\" >7</th>        <th class=\"col_heading level0 col8\" >8</th>        <th class=\"col_heading level0 col9\" >9</th>        <th class=\"col_heading level0 col10\" >10</th>        <th class=\"col_heading level0 col11\" >11</th>        <th class=\"col_heading level0 col12\" >12</th>        <th class=\"col_heading level0 col13\" >13</th>        <th class=\"col_heading level0 col14\" >14</th>        <th class=\"col_heading level0 col15\" >15</th>        <th class=\"col_heading level0 col16\" >16</th>        <th class=\"col_heading level0 col17\" >17</th>    </tr>    <tr>        <th class=\"blank level1\" ></th>        <th class=\"col_heading level1 col0\" >Pos.</th>        <th class=\"col_heading level1 col1\" >Manufacturer</th>        <th class=\"col_heading level1 col2\" >No.</th>        <th class=\"col_heading level1 col3\" ><a href=\"http://en.wikipedia.org/wiki/2001_Monte_Carlo_Rally\">MON</a></th>        <th class=\"col_heading level1 col4\" ><a href=\"http://en.wikipedia.org/wiki/2001_Swedish_Rally\">SWE</a></th>        <th class=\"col_heading level1 col5\" ><a href=\"http://en.wikipedia.org/wiki/2001_Rally_de_Portugal\">POR</a></th>        <th class=\"col_heading level1 col6\" ><a href=\"http://en.wikipedia.org/wiki/2001_Rally_Catalunya\">ESP</a></th>        <th class=\"col_heading level1 col7\" ><a href=\"http://en.wikipedia.org/wiki/2001_Rally_Argentina\">ARG</a></th>        <th class=\"col_heading level1 col8\" ><a href=\"http://en.wikipedia.org/wiki/2001_Cyprus_Rally\">CYP</a></th>        <th class=\"col_heading level1 col9\" ><a href=\"http://en.wikipedia.org/wiki/2001_Acropolis_Rally\">GRE</a></th>        <th class=\"col_heading level1 col10\" ><a href=\"http://en.wikipedia.org/wiki/2001_Safari_Rally\">KEN</a></th>        <th class=\"col_heading level1 col11\" ><a href=\"http://en.wikipedia.org/wiki/2001_Rally_Finland\">FIN</a></th>        <th class=\"col_heading level1 col12\" ><a href=\"http://en.wikipedia.org/wiki/2001_Rally_New_Zealand\">NZL</a></th>        <th class=\"col_heading level1 col13\" ><a href=\"http://en.wikipedia.org/wiki/2001_Rally_Sanremo\">ITA</a></th>        <th class=\"col_heading level1 col14\" ><a href=\"http://en.wikipedia.org/wiki/2001_Tour_de_Corse\">FRA</a></th>        <th class=\"col_heading level1 col15\" ><a href=\"http://en.wikipedia.org/wiki/2001_Rally_Australia\">AUS</a></th>        <th class=\"col_heading level1 col16\" ><a href=\"http://en.wikipedia.org/wiki/2001_Rally_GB\">GBR</a></th>        <th class=\"col_heading level1 col17\" >Points</th>    </tr></thead><tbody>\n",
       "        </tbody></table>"
      ],
      "text/plain": [
       "<pandas.io.formats.style.Styler at 0x7f5fb1512790>"
      ]
     },
     "metadata": {},
     "output_type": "display_data"
    },
    {
     "name": "stdout",
     "output_type": "stream",
     "text": [
      "((LinkedString('Rank', links=()), LinkedString('Manufacturer', links=()), LinkedString('Event', links=()), LinkedString('Event', links=()), LinkedString('Event', links=()), LinkedString('Event', links=()), LinkedString('Event', links=()), LinkedString('Event', links=()), LinkedString('Event', links=()), LinkedString('Event', links=()), LinkedString('Event', links=()), LinkedString('Event', links=()), LinkedString('Event', links=()), LinkedString('Total points', links=())), (LinkedString('Rank', links=()), LinkedString('Manufacturer', links=()), LinkedString('MON', links=((0, 3, 'http://en.wikipedia.org/wiki/Rallye_Automobile_Monte_Carlo?curid=227411'),)), LinkedString('SWE', links=((0, 3, 'http://en.wikipedia.org/wiki/Swedish_Rally?curid=469490'),)), LinkedString('POR', links=((0, 3, 'http://en.wikipedia.org/wiki/Rallye_de_Portugal?curid=5543374'),)), LinkedString('KEN', links=((0, 3, 'http://en.wikipedia.org/wiki/Safari_Rally?curid=412775'),)), LinkedString('NZL', links=((0, 3, 'http://en.wikipedia.org/wiki/Rally_New_Zealand?curid=1445593'),)), LinkedString('GRC', links=((0, 3, 'http://en.wikipedia.org/wiki/Acropolis_Rally_Greece?curid=1445607'),)), LinkedString('FIN', links=((0, 3, 'http://en.wikipedia.org/wiki/Rally_Finland?curid=881363'),)), LinkedString('ITA', links=((0, 3, 'http://en.wikipedia.org/wiki/Rallye_Sanremo?curid=15678463'),)), LinkedString('CAN', links=((0, 3, 'http://en.wikipedia.org/wiki/Critérium_Molson_du_Québec?curid=16930503'),)), LinkedString('FRA', links=((0, 3, 'http://en.wikipedia.org/wiki/Rallye_de_France?curid=5368059'),)), LinkedString('GBR', links=((0, 3, 'http://en.wikipedia.org/wiki/Rally_GB?curid=275036'),)), LinkedString('Total points', links=())))\n",
      "1 (1, 2, 12, 'short-uppercase-acronyms') None None\n"
     ]
    },
    {
     "data": {
      "text/html": [
       "<style  type=\"text/css\" >\n",
       "    #T_8fc4cf9e_358e_11eb_81c0_00259091f1e8 .col_heading.level0 {\n",
       "          display: none;\n",
       "    }    #T_8fc4cf9e_358e_11eb_81c0_00259091f1e8 .col_heading.level2.col2 {\n",
       "          background-color: #ff0;\n",
       "    }    #T_8fc4cf9e_358e_11eb_81c0_00259091f1e8 .col_heading.level2.col3 {\n",
       "          background-color: #ff0;\n",
       "    }    #T_8fc4cf9e_358e_11eb_81c0_00259091f1e8 .col_heading.level2.col4 {\n",
       "          background-color: #ff0;\n",
       "    }    #T_8fc4cf9e_358e_11eb_81c0_00259091f1e8 .col_heading.level2.col5 {\n",
       "          background-color: #ff0;\n",
       "    }    #T_8fc4cf9e_358e_11eb_81c0_00259091f1e8 .col_heading.level2.col6 {\n",
       "          background-color: #ff0;\n",
       "    }    #T_8fc4cf9e_358e_11eb_81c0_00259091f1e8 .col_heading.level2.col7 {\n",
       "          background-color: #ff0;\n",
       "    }    #T_8fc4cf9e_358e_11eb_81c0_00259091f1e8 .col_heading.level2.col8 {\n",
       "          background-color: #ff0;\n",
       "    }    #T_8fc4cf9e_358e_11eb_81c0_00259091f1e8 .col_heading.level2.col9 {\n",
       "          background-color: #ff0;\n",
       "    }    #T_8fc4cf9e_358e_11eb_81c0_00259091f1e8 .col_heading.level2.col10 {\n",
       "          background-color: #ff0;\n",
       "    }    #T_8fc4cf9e_358e_11eb_81c0_00259091f1e8 .col_heading.level2.col11 {\n",
       "          background-color: #ff0;\n",
       "    }    #T_8fc4cf9e_358e_11eb_81c0_00259091f1e8 .col_heading.level2.col12 {\n",
       "          background-color: #ff0;\n",
       "    }</style><table id=\"T_8fc4cf9e_358e_11eb_81c0_00259091f1e8\" ><thead>    <tr>        <th class=\"blank level0\" ></th>        <th class=\"col_heading level0 col0\" >0</th>        <th class=\"col_heading level0 col1\" >1</th>        <th class=\"col_heading level0 col2\" >2</th>        <th class=\"col_heading level0 col3\" >3</th>        <th class=\"col_heading level0 col4\" >4</th>        <th class=\"col_heading level0 col5\" >5</th>        <th class=\"col_heading level0 col6\" >6</th>        <th class=\"col_heading level0 col7\" >7</th>        <th class=\"col_heading level0 col8\" >8</th>        <th class=\"col_heading level0 col9\" >9</th>        <th class=\"col_heading level0 col10\" >10</th>        <th class=\"col_heading level0 col11\" >11</th>        <th class=\"col_heading level0 col12\" >12</th>        <th class=\"col_heading level0 col13\" >13</th>    </tr>    <tr>        <th class=\"blank level1\" ></th>        <th class=\"col_heading level1 col0\" >Rank</th>        <th class=\"col_heading level1 col1\" >Manufacturer</th>        <th class=\"col_heading level1 col2\" >Event</th>        <th class=\"col_heading level1 col3\" >Event</th>        <th class=\"col_heading level1 col4\" >Event</th>        <th class=\"col_heading level1 col5\" >Event</th>        <th class=\"col_heading level1 col6\" >Event</th>        <th class=\"col_heading level1 col7\" >Event</th>        <th class=\"col_heading level1 col8\" >Event</th>        <th class=\"col_heading level1 col9\" >Event</th>        <th class=\"col_heading level1 col10\" >Event</th>        <th class=\"col_heading level1 col11\" >Event</th>        <th class=\"col_heading level1 col12\" >Event</th>        <th class=\"col_heading level1 col13\" >Total points</th>    </tr>    <tr>        <th class=\"blank level2\" ></th>        <th class=\"col_heading level2 col0\" >Rank</th>        <th class=\"col_heading level2 col1\" >Manufacturer</th>        <th class=\"col_heading level2 col2\" ><a href=\"http://en.wikipedia.org/wiki/Rallye_Automobile_Monte_Carlo?curid=227411\">MON</a></th>        <th class=\"col_heading level2 col3\" ><a href=\"http://en.wikipedia.org/wiki/Swedish_Rally?curid=469490\">SWE</a></th>        <th class=\"col_heading level2 col4\" ><a href=\"http://en.wikipedia.org/wiki/Rallye_de_Portugal?curid=5543374\">POR</a></th>        <th class=\"col_heading level2 col5\" ><a href=\"http://en.wikipedia.org/wiki/Safari_Rally?curid=412775\">KEN</a></th>        <th class=\"col_heading level2 col6\" ><a href=\"http://en.wikipedia.org/wiki/Rally_New_Zealand?curid=1445593\">NZL</a></th>        <th class=\"col_heading level2 col7\" ><a href=\"http://en.wikipedia.org/wiki/Acropolis_Rally_Greece?curid=1445607\">GRC</a></th>        <th class=\"col_heading level2 col8\" ><a href=\"http://en.wikipedia.org/wiki/Rally_Finland?curid=881363\">FIN</a></th>        <th class=\"col_heading level2 col9\" ><a href=\"http://en.wikipedia.org/wiki/Rallye_Sanremo?curid=15678463\">ITA</a></th>        <th class=\"col_heading level2 col10\" ><a href=\"http://en.wikipedia.org/wiki/Critérium_Molson_du_Québec?curid=16930503\">CAN</a></th>        <th class=\"col_heading level2 col11\" ><a href=\"http://en.wikipedia.org/wiki/Rallye_de_France?curid=5368059\">FRA</a></th>        <th class=\"col_heading level2 col12\" ><a href=\"http://en.wikipedia.org/wiki/Rally_GB?curid=275036\">GBR</a></th>        <th class=\"col_heading level2 col13\" >Total points</th>    </tr></thead><tbody>\n",
       "        </tbody></table>"
      ],
      "text/plain": [
       "<pandas.io.formats.style.Styler at 0x7f5f28120c10>"
      ]
     },
     "metadata": {},
     "output_type": "display_data"
    },
    {
     "name": "stdout",
     "output_type": "stream",
     "text": [
      "((LinkedString('Pos', links=()), LinkedString('Team', links=()), LinkedString('Drivers', links=()), LinkedString('NLD', links=((0, 3, 'http://en.wikipedia.org/wiki/2006-07_A1_Grand_Prix_of_Nations,_Netherlands?curid=7221084'),)), LinkedString('NLD', links=((0, 3, 'http://en.wikipedia.org/wiki/2006-07_A1_Grand_Prix_of_Nations,_Netherlands?curid=7221084'),)), LinkedString('CZE', links=((0, 3, 'http://en.wikipedia.org/wiki/2006-07_A1_Grand_Prix_of_Nations,_Czech_Republic?curid=7364240'),)), LinkedString('CZE', links=((0, 3, 'http://en.wikipedia.org/wiki/2006-07_A1_Grand_Prix_of_Nations,_Czech_Republic?curid=7364240'),)), LinkedString('BEI', links=((0, 3, 'http://en.wikipedia.org/wiki/2006-07_A1_Grand_Prix_of_Nations,_Beijing,_China?curid=7869873'),)), LinkedString('BEI', links=((0, 3, 'http://en.wikipedia.org/wiki/2006-07_A1_Grand_Prix_of_Nations,_Beijing,_China?curid=7869873'),)), LinkedString('MYS', links=((0, 3, 'http://en.wikipedia.org/wiki/2006-07_A1_Grand_Prix_of_Nations,_Malaysia?curid=7899054'),)), LinkedString('MYS', links=((0, 3, 'http://en.wikipedia.org/wiki/2006-07_A1_Grand_Prix_of_Nations,_Malaysia?curid=7899054'),)), LinkedString('IDN', links=((0, 3, 'http://en.wikipedia.org/wiki/2006-07_A1_Grand_Prix_of_Nations,_Indonesia?curid=7899864'),)), LinkedString('IDN', links=((0, 3, 'http://en.wikipedia.org/wiki/2006-07_A1_Grand_Prix_of_Nations,_Indonesia?curid=7899864'),)), LinkedString('NZL', links=((0, 3, 'http://en.wikipedia.org/wiki/2006-07_A1_Grand_Prix_of_Nations,_New_Zealand?curid=7899865'),)), LinkedString('NZL', links=((0, 3, 'http://en.wikipedia.org/wiki/2006-07_A1_Grand_Prix_of_Nations,_New_Zealand?curid=7899865'),)), LinkedString('AUS', links=((0, 3, 'http://en.wikipedia.org/wiki/2006-07_A1_Grand_Prix_of_Nations,_Australia?curid=7899867'),)), LinkedString('AUS', links=((0, 3, 'http://en.wikipedia.org/wiki/2006-07_A1_Grand_Prix_of_Nations,_Australia?curid=7899867'),)), LinkedString('RSA', links=((0, 3, 'http://en.wikipedia.org/wiki/2006-07_A1_Grand_Prix_of_Nations,_South_Africa?curid=7899868'),)), LinkedString('RSA', links=((0, 3, 'http://en.wikipedia.org/wiki/2006-07_A1_Grand_Prix_of_Nations,_South_Africa?curid=7899868'),)), LinkedString('MEX', links=((0, 3, 'http://en.wikipedia.org/wiki/2006-07_A1_Grand_Prix_of_Nations,_Mexico?curid=7901251'),)), LinkedString('MEX', links=((0, 3, 'http://en.wikipedia.org/wiki/2006-07_A1_Grand_Prix_of_Nations,_Mexico?curid=7901251'),)), LinkedString('SHA', links=((0, 3, 'http://en.wikipedia.org/wiki/2006-07_A1_Grand_Prix_of_Nations,_Shanghai,_China?curid=7901340'),)), LinkedString('SHA', links=((0, 3, 'http://en.wikipedia.org/wiki/2006-07_A1_Grand_Prix_of_Nations,_Shanghai,_China?curid=7901340'),)), LinkedString('GBR', links=((0, 3, 'http://en.wikipedia.org/wiki/2006-07_A1_Grand_Prix_of_Nations,_Great_Britain?curid=7901468'),)), LinkedString('GBR', links=((0, 3, 'http://en.wikipedia.org/wiki/2006-07_A1_Grand_Prix_of_Nations,_Great_Britain?curid=7901468'),)), LinkedString('Pts', links=())), (LinkedString('Pos', links=()), LinkedString('Team', links=()), LinkedString('Drivers', links=()), LinkedString('spr', links=()), LinkedString('fea', links=()), LinkedString('spr', links=()), LinkedString('fea', links=()), LinkedString('spr', links=()), LinkedString('fea', links=()), LinkedString('spr', links=()), LinkedString('fea', links=()), LinkedString('spr', links=()), LinkedString('fea', links=()), LinkedString('spr', links=()), LinkedString('fea', links=()), LinkedString('spr', links=()), LinkedString('fea', links=()), LinkedString('spr', links=()), LinkedString('fea', links=()), LinkedString('spr', links=()), LinkedString('fea', links=()), LinkedString('spr', links=()), LinkedString('fea', links=()), LinkedString('spr', links=()), LinkedString('fea', links=()), LinkedString('Pts', links=())))\n",
      "1 (0, 3, 24, 'short-uppercase-acronyms') None None\n"
     ]
    },
    {
     "data": {
      "text/html": [
       "<style  type=\"text/css\" >\n",
       "    #T_8fc8bfdc_358e_11eb_81c0_00259091f1e8 .col_heading.level0 {\n",
       "          display: none;\n",
       "    }    #T_8fc8bfdc_358e_11eb_81c0_00259091f1e8 .col_heading.level1.col3 {\n",
       "          background-color: #ff0;\n",
       "    }    #T_8fc8bfdc_358e_11eb_81c0_00259091f1e8 .col_heading.level1.col4 {\n",
       "          background-color: #ff0;\n",
       "    }    #T_8fc8bfdc_358e_11eb_81c0_00259091f1e8 .col_heading.level1.col5 {\n",
       "          background-color: #ff0;\n",
       "    }    #T_8fc8bfdc_358e_11eb_81c0_00259091f1e8 .col_heading.level1.col6 {\n",
       "          background-color: #ff0;\n",
       "    }    #T_8fc8bfdc_358e_11eb_81c0_00259091f1e8 .col_heading.level1.col7 {\n",
       "          background-color: #ff0;\n",
       "    }    #T_8fc8bfdc_358e_11eb_81c0_00259091f1e8 .col_heading.level1.col8 {\n",
       "          background-color: #ff0;\n",
       "    }    #T_8fc8bfdc_358e_11eb_81c0_00259091f1e8 .col_heading.level1.col9 {\n",
       "          background-color: #ff0;\n",
       "    }    #T_8fc8bfdc_358e_11eb_81c0_00259091f1e8 .col_heading.level1.col10 {\n",
       "          background-color: #ff0;\n",
       "    }    #T_8fc8bfdc_358e_11eb_81c0_00259091f1e8 .col_heading.level1.col11 {\n",
       "          background-color: #ff0;\n",
       "    }    #T_8fc8bfdc_358e_11eb_81c0_00259091f1e8 .col_heading.level1.col12 {\n",
       "          background-color: #ff0;\n",
       "    }    #T_8fc8bfdc_358e_11eb_81c0_00259091f1e8 .col_heading.level1.col13 {\n",
       "          background-color: #ff0;\n",
       "    }    #T_8fc8bfdc_358e_11eb_81c0_00259091f1e8 .col_heading.level1.col14 {\n",
       "          background-color: #ff0;\n",
       "    }    #T_8fc8bfdc_358e_11eb_81c0_00259091f1e8 .col_heading.level1.col15 {\n",
       "          background-color: #ff0;\n",
       "    }    #T_8fc8bfdc_358e_11eb_81c0_00259091f1e8 .col_heading.level1.col16 {\n",
       "          background-color: #ff0;\n",
       "    }    #T_8fc8bfdc_358e_11eb_81c0_00259091f1e8 .col_heading.level1.col17 {\n",
       "          background-color: #ff0;\n",
       "    }    #T_8fc8bfdc_358e_11eb_81c0_00259091f1e8 .col_heading.level1.col18 {\n",
       "          background-color: #ff0;\n",
       "    }    #T_8fc8bfdc_358e_11eb_81c0_00259091f1e8 .col_heading.level1.col19 {\n",
       "          background-color: #ff0;\n",
       "    }    #T_8fc8bfdc_358e_11eb_81c0_00259091f1e8 .col_heading.level1.col20 {\n",
       "          background-color: #ff0;\n",
       "    }    #T_8fc8bfdc_358e_11eb_81c0_00259091f1e8 .col_heading.level1.col21 {\n",
       "          background-color: #ff0;\n",
       "    }    #T_8fc8bfdc_358e_11eb_81c0_00259091f1e8 .col_heading.level1.col22 {\n",
       "          background-color: #ff0;\n",
       "    }    #T_8fc8bfdc_358e_11eb_81c0_00259091f1e8 .col_heading.level1.col23 {\n",
       "          background-color: #ff0;\n",
       "    }    #T_8fc8bfdc_358e_11eb_81c0_00259091f1e8 .col_heading.level1.col24 {\n",
       "          background-color: #ff0;\n",
       "    }</style><table id=\"T_8fc8bfdc_358e_11eb_81c0_00259091f1e8\" ><thead>    <tr>        <th class=\"blank level0\" ></th>        <th class=\"col_heading level0 col0\" >0</th>        <th class=\"col_heading level0 col1\" >1</th>        <th class=\"col_heading level0 col2\" >2</th>        <th class=\"col_heading level0 col3\" >3</th>        <th class=\"col_heading level0 col4\" >4</th>        <th class=\"col_heading level0 col5\" >5</th>        <th class=\"col_heading level0 col6\" >6</th>        <th class=\"col_heading level0 col7\" >7</th>        <th class=\"col_heading level0 col8\" >8</th>        <th class=\"col_heading level0 col9\" >9</th>        <th class=\"col_heading level0 col10\" >10</th>        <th class=\"col_heading level0 col11\" >11</th>        <th class=\"col_heading level0 col12\" >12</th>        <th class=\"col_heading level0 col13\" >13</th>        <th class=\"col_heading level0 col14\" >14</th>        <th class=\"col_heading level0 col15\" >15</th>        <th class=\"col_heading level0 col16\" >16</th>        <th class=\"col_heading level0 col17\" >17</th>        <th class=\"col_heading level0 col18\" >18</th>        <th class=\"col_heading level0 col19\" >19</th>        <th class=\"col_heading level0 col20\" >20</th>        <th class=\"col_heading level0 col21\" >21</th>        <th class=\"col_heading level0 col22\" >22</th>        <th class=\"col_heading level0 col23\" >23</th>        <th class=\"col_heading level0 col24\" >24</th>        <th class=\"col_heading level0 col25\" >25</th>    </tr>    <tr>        <th class=\"blank level1\" ></th>        <th class=\"col_heading level1 col0\" >Pos</th>        <th class=\"col_heading level1 col1\" >Team</th>        <th class=\"col_heading level1 col2\" >Drivers</th>        <th class=\"col_heading level1 col3\" ><a href=\"http://en.wikipedia.org/wiki/2006-07_A1_Grand_Prix_of_Nations,_Netherlands?curid=7221084\">NLD</a></th>        <th class=\"col_heading level1 col4\" ><a href=\"http://en.wikipedia.org/wiki/2006-07_A1_Grand_Prix_of_Nations,_Netherlands?curid=7221084\">NLD</a></th>        <th class=\"col_heading level1 col5\" ><a href=\"http://en.wikipedia.org/wiki/2006-07_A1_Grand_Prix_of_Nations,_Czech_Republic?curid=7364240\">CZE</a></th>        <th class=\"col_heading level1 col6\" ><a href=\"http://en.wikipedia.org/wiki/2006-07_A1_Grand_Prix_of_Nations,_Czech_Republic?curid=7364240\">CZE</a></th>        <th class=\"col_heading level1 col7\" ><a href=\"http://en.wikipedia.org/wiki/2006-07_A1_Grand_Prix_of_Nations,_Beijing,_China?curid=7869873\">BEI</a></th>        <th class=\"col_heading level1 col8\" ><a href=\"http://en.wikipedia.org/wiki/2006-07_A1_Grand_Prix_of_Nations,_Beijing,_China?curid=7869873\">BEI</a></th>        <th class=\"col_heading level1 col9\" ><a href=\"http://en.wikipedia.org/wiki/2006-07_A1_Grand_Prix_of_Nations,_Malaysia?curid=7899054\">MYS</a></th>        <th class=\"col_heading level1 col10\" ><a href=\"http://en.wikipedia.org/wiki/2006-07_A1_Grand_Prix_of_Nations,_Malaysia?curid=7899054\">MYS</a></th>        <th class=\"col_heading level1 col11\" ><a href=\"http://en.wikipedia.org/wiki/2006-07_A1_Grand_Prix_of_Nations,_Indonesia?curid=7899864\">IDN</a></th>        <th class=\"col_heading level1 col12\" ><a href=\"http://en.wikipedia.org/wiki/2006-07_A1_Grand_Prix_of_Nations,_Indonesia?curid=7899864\">IDN</a></th>        <th class=\"col_heading level1 col13\" ><a href=\"http://en.wikipedia.org/wiki/2006-07_A1_Grand_Prix_of_Nations,_New_Zealand?curid=7899865\">NZL</a></th>        <th class=\"col_heading level1 col14\" ><a href=\"http://en.wikipedia.org/wiki/2006-07_A1_Grand_Prix_of_Nations,_New_Zealand?curid=7899865\">NZL</a></th>        <th class=\"col_heading level1 col15\" ><a href=\"http://en.wikipedia.org/wiki/2006-07_A1_Grand_Prix_of_Nations,_Australia?curid=7899867\">AUS</a></th>        <th class=\"col_heading level1 col16\" ><a href=\"http://en.wikipedia.org/wiki/2006-07_A1_Grand_Prix_of_Nations,_Australia?curid=7899867\">AUS</a></th>        <th class=\"col_heading level1 col17\" ><a href=\"http://en.wikipedia.org/wiki/2006-07_A1_Grand_Prix_of_Nations,_South_Africa?curid=7899868\">RSA</a></th>        <th class=\"col_heading level1 col18\" ><a href=\"http://en.wikipedia.org/wiki/2006-07_A1_Grand_Prix_of_Nations,_South_Africa?curid=7899868\">RSA</a></th>        <th class=\"col_heading level1 col19\" ><a href=\"http://en.wikipedia.org/wiki/2006-07_A1_Grand_Prix_of_Nations,_Mexico?curid=7901251\">MEX</a></th>        <th class=\"col_heading level1 col20\" ><a href=\"http://en.wikipedia.org/wiki/2006-07_A1_Grand_Prix_of_Nations,_Mexico?curid=7901251\">MEX</a></th>        <th class=\"col_heading level1 col21\" ><a href=\"http://en.wikipedia.org/wiki/2006-07_A1_Grand_Prix_of_Nations,_Shanghai,_China?curid=7901340\">SHA</a></th>        <th class=\"col_heading level1 col22\" ><a href=\"http://en.wikipedia.org/wiki/2006-07_A1_Grand_Prix_of_Nations,_Shanghai,_China?curid=7901340\">SHA</a></th>        <th class=\"col_heading level1 col23\" ><a href=\"http://en.wikipedia.org/wiki/2006-07_A1_Grand_Prix_of_Nations,_Great_Britain?curid=7901468\">GBR</a></th>        <th class=\"col_heading level1 col24\" ><a href=\"http://en.wikipedia.org/wiki/2006-07_A1_Grand_Prix_of_Nations,_Great_Britain?curid=7901468\">GBR</a></th>        <th class=\"col_heading level1 col25\" >Pts</th>    </tr>    <tr>        <th class=\"blank level2\" ></th>        <th class=\"col_heading level2 col0\" >Pos</th>        <th class=\"col_heading level2 col1\" >Team</th>        <th class=\"col_heading level2 col2\" >Drivers</th>        <th class=\"col_heading level2 col3\" >spr</th>        <th class=\"col_heading level2 col4\" >fea</th>        <th class=\"col_heading level2 col5\" >spr</th>        <th class=\"col_heading level2 col6\" >fea</th>        <th class=\"col_heading level2 col7\" >spr</th>        <th class=\"col_heading level2 col8\" >fea</th>        <th class=\"col_heading level2 col9\" >spr</th>        <th class=\"col_heading level2 col10\" >fea</th>        <th class=\"col_heading level2 col11\" >spr</th>        <th class=\"col_heading level2 col12\" >fea</th>        <th class=\"col_heading level2 col13\" >spr</th>        <th class=\"col_heading level2 col14\" >fea</th>        <th class=\"col_heading level2 col15\" >spr</th>        <th class=\"col_heading level2 col16\" >fea</th>        <th class=\"col_heading level2 col17\" >spr</th>        <th class=\"col_heading level2 col18\" >fea</th>        <th class=\"col_heading level2 col19\" >spr</th>        <th class=\"col_heading level2 col20\" >fea</th>        <th class=\"col_heading level2 col21\" >spr</th>        <th class=\"col_heading level2 col22\" >fea</th>        <th class=\"col_heading level2 col23\" >spr</th>        <th class=\"col_heading level2 col24\" >fea</th>        <th class=\"col_heading level2 col25\" >Pts</th>    </tr></thead><tbody>\n",
       "        </tbody></table>"
      ],
      "text/plain": [
       "<pandas.io.formats.style.Styler at 0x7f5f2218af90>"
      ]
     },
     "metadata": {},
     "output_type": "display_data"
    },
    {
     "name": "stdout",
     "output_type": "stream",
     "text": [
      "((LinkedString('Year', links=()), LinkedString('Album', links=()), LinkedString('Chart positions', links=()), LinkedString('Chart positions', links=()), LinkedString('Chart positions', links=()), LinkedString('Chart positions', links=()), LinkedString('Chart positions', links=()), LinkedString('Chart positions', links=()), LinkedString('Chart positions', links=()), LinkedString('Chart positions', links=()), LinkedString('Chart positions', links=()), LinkedString('Chart positions', links=()), LinkedString('Chart positions', links=())), (LinkedString('Year', links=()), LinkedString('Album', links=()), LinkedString('US', links=((0, 2, 'http://en.wikipedia.org/wiki/Billboard_200?curid=730350'),)), LinkedString('AUS', links=((0, 3, 'http://en.wikipedia.org/wiki/ARIA_Charts?curid=3002226'),)), LinkedString('AUT', links=((0, 3, 'http://en.wikipedia.org/wiki/Austria?curid=26964606'),)), LinkedString('BEL', links=((0, 3, 'http://en.wikipedia.org/wiki/Ultratop?curid=6836546'),)), LinkedString('FRA', links=((0, 3, \"http://en.wikipedia.org/wiki/Syndicat_national_de_l'édition_phonographique?curid=4565593\"),)), LinkedString('IRE', links=((0, 3, 'http://en.wikipedia.org/wiki/Irish_Albums_Chart?curid=5784179'),)), LinkedString('NLD', links=((0, 3, 'http://en.wikipedia.org/wiki/MegaCharts?curid=6013155'),)), LinkedString('NOR', links=((0, 3, 'http://en.wikipedia.org/wiki/VG-lista?curid=8262087'),)), LinkedString('SWE', links=((0, 3, 'http://en.wikipedia.org/wiki/Sverigetopplistan?curid=11002747'),)), LinkedString('SWI', links=((0, 3, 'http://en.wikipedia.org/wiki/Swiss_Music_Charts?curid=17054761'),)), LinkedString('UK', links=((0, 2, 'http://en.wikipedia.org/wiki/UK_Albums_Chart?curid=2465857'),))))\n",
      "1 (1, 2, 12, 'short-uppercase-acronyms') None None\n"
     ]
    },
    {
     "data": {
      "text/html": [
       "<style  type=\"text/css\" >\n",
       "    #T_8fcc3bf8_358e_11eb_81c0_00259091f1e8 .col_heading.level0 {\n",
       "          display: none;\n",
       "    }    #T_8fcc3bf8_358e_11eb_81c0_00259091f1e8 .col_heading.level2.col2 {\n",
       "          background-color: #ff0;\n",
       "    }    #T_8fcc3bf8_358e_11eb_81c0_00259091f1e8 .col_heading.level2.col3 {\n",
       "          background-color: #ff0;\n",
       "    }    #T_8fcc3bf8_358e_11eb_81c0_00259091f1e8 .col_heading.level2.col4 {\n",
       "          background-color: #ff0;\n",
       "    }    #T_8fcc3bf8_358e_11eb_81c0_00259091f1e8 .col_heading.level2.col5 {\n",
       "          background-color: #ff0;\n",
       "    }    #T_8fcc3bf8_358e_11eb_81c0_00259091f1e8 .col_heading.level2.col6 {\n",
       "          background-color: #ff0;\n",
       "    }    #T_8fcc3bf8_358e_11eb_81c0_00259091f1e8 .col_heading.level2.col7 {\n",
       "          background-color: #ff0;\n",
       "    }    #T_8fcc3bf8_358e_11eb_81c0_00259091f1e8 .col_heading.level2.col8 {\n",
       "          background-color: #ff0;\n",
       "    }    #T_8fcc3bf8_358e_11eb_81c0_00259091f1e8 .col_heading.level2.col9 {\n",
       "          background-color: #ff0;\n",
       "    }    #T_8fcc3bf8_358e_11eb_81c0_00259091f1e8 .col_heading.level2.col10 {\n",
       "          background-color: #ff0;\n",
       "    }    #T_8fcc3bf8_358e_11eb_81c0_00259091f1e8 .col_heading.level2.col11 {\n",
       "          background-color: #ff0;\n",
       "    }    #T_8fcc3bf8_358e_11eb_81c0_00259091f1e8 .col_heading.level2.col12 {\n",
       "          background-color: #ff0;\n",
       "    }</style><table id=\"T_8fcc3bf8_358e_11eb_81c0_00259091f1e8\" ><thead>    <tr>        <th class=\"blank level0\" ></th>        <th class=\"col_heading level0 col0\" >0</th>        <th class=\"col_heading level0 col1\" >1</th>        <th class=\"col_heading level0 col2\" >2</th>        <th class=\"col_heading level0 col3\" >3</th>        <th class=\"col_heading level0 col4\" >4</th>        <th class=\"col_heading level0 col5\" >5</th>        <th class=\"col_heading level0 col6\" >6</th>        <th class=\"col_heading level0 col7\" >7</th>        <th class=\"col_heading level0 col8\" >8</th>        <th class=\"col_heading level0 col9\" >9</th>        <th class=\"col_heading level0 col10\" >10</th>        <th class=\"col_heading level0 col11\" >11</th>        <th class=\"col_heading level0 col12\" >12</th>    </tr>    <tr>        <th class=\"blank level1\" ></th>        <th class=\"col_heading level1 col0\" >Year</th>        <th class=\"col_heading level1 col1\" >Album</th>        <th class=\"col_heading level1 col2\" >Chart positions</th>        <th class=\"col_heading level1 col3\" >Chart positions</th>        <th class=\"col_heading level1 col4\" >Chart positions</th>        <th class=\"col_heading level1 col5\" >Chart positions</th>        <th class=\"col_heading level1 col6\" >Chart positions</th>        <th class=\"col_heading level1 col7\" >Chart positions</th>        <th class=\"col_heading level1 col8\" >Chart positions</th>        <th class=\"col_heading level1 col9\" >Chart positions</th>        <th class=\"col_heading level1 col10\" >Chart positions</th>        <th class=\"col_heading level1 col11\" >Chart positions</th>        <th class=\"col_heading level1 col12\" >Chart positions</th>    </tr>    <tr>        <th class=\"blank level2\" ></th>        <th class=\"col_heading level2 col0\" >Year</th>        <th class=\"col_heading level2 col1\" >Album</th>        <th class=\"col_heading level2 col2\" ><a href=\"http://en.wikipedia.org/wiki/Billboard_200?curid=730350\">US</a></th>        <th class=\"col_heading level2 col3\" ><a href=\"http://en.wikipedia.org/wiki/ARIA_Charts?curid=3002226\">AUS</a></th>        <th class=\"col_heading level2 col4\" ><a href=\"http://en.wikipedia.org/wiki/Austria?curid=26964606\">AUT</a></th>        <th class=\"col_heading level2 col5\" ><a href=\"http://en.wikipedia.org/wiki/Ultratop?curid=6836546\">BEL</a></th>        <th class=\"col_heading level2 col6\" ><a href=\"http://en.wikipedia.org/wiki/Syndicat_national_de_l'édition_phonographique?curid=4565593\">FRA</a></th>        <th class=\"col_heading level2 col7\" ><a href=\"http://en.wikipedia.org/wiki/Irish_Albums_Chart?curid=5784179\">IRE</a></th>        <th class=\"col_heading level2 col8\" ><a href=\"http://en.wikipedia.org/wiki/MegaCharts?curid=6013155\">NLD</a></th>        <th class=\"col_heading level2 col9\" ><a href=\"http://en.wikipedia.org/wiki/VG-lista?curid=8262087\">NOR</a></th>        <th class=\"col_heading level2 col10\" ><a href=\"http://en.wikipedia.org/wiki/Sverigetopplistan?curid=11002747\">SWE</a></th>        <th class=\"col_heading level2 col11\" ><a href=\"http://en.wikipedia.org/wiki/Swiss_Music_Charts?curid=17054761\">SWI</a></th>        <th class=\"col_heading level2 col12\" ><a href=\"http://en.wikipedia.org/wiki/UK_Albums_Chart?curid=2465857\">UK</a></th>    </tr></thead><tbody>\n",
       "        </tbody></table>"
      ],
      "text/plain": [
       "<pandas.io.formats.style.Styler at 0x7f5f8c7f3e50>"
      ]
     },
     "metadata": {},
     "output_type": "display_data"
    },
    {
     "name": "stdout",
     "output_type": "stream",
     "text": [
      "((LinkedString('Pos', links=()), LinkedString('Driver', links=()), LinkedString('LBH', links=((0, 3, 'http://en.wikipedia.org/wiki/2006_Toyota_Grand_Prix_of_Long_Beach?curid=4809927'),)), LinkedString('HOU', links=((0, 3, 'http://en.wikipedia.org/wiki/2006_Grand_Prix_of_Houston?curid=5163175'),)), LinkedString('MTY', links=((0, 3, 'http://en.wikipedia.org/wiki/2006_Tecate_Grand_Prix_of_Monterrey?curid=8562294'),)), LinkedString('MIL', links=((0, 3, 'http://en.wikipedia.org/wiki/2006_Time_Warner_Cable_Road_Runner_225?curid=8563821'),)), LinkedString('POR', links=((0, 3, 'http://en.wikipedia.org/wiki/2006_Grand_Prix_of_Portland?curid=8647787'),)), LinkedString('CLE', links=((0, 3, 'http://en.wikipedia.org/wiki/2006_Grand_Prix_of_Cleveland?curid=8900841'),)), LinkedString('TOR', links=((0, 3, 'http://en.wikipedia.org/wiki/2006_Molson_Grand_Prix_of_Toronto?curid=8949646'),)), LinkedString('EDM', links=((0, 3, 'http://en.wikipedia.org/wiki/2006_West_Edmonton_Mall_Grand_Prix_of_Edmonton?curid=10599984'),)), LinkedString('SJO', links=((0, 3, 'http://en.wikipedia.org/wiki/2006_Canary_Foundation_Grand_Prix_of_San_Jose?curid=10600299'),)), LinkedString('DEN', links=((0, 3, 'http://en.wikipedia.org/wiki/2006_Grand_Prix_of_Denver?curid=11818965'),)), LinkedString('MTL', links=((0, 3, 'http://en.wikipedia.org/wiki/2006_Champ_Car_Grand_Prix_de_Montreal?curid=11883489'),)), LinkedString('ROA', links=((0, 3, 'http://en.wikipedia.org/wiki/2006_Grand_Prix_of_Road_America?curid=10420701'),)), LinkedString('SRF', links=((0, 3, 'http://en.wikipedia.org/wiki/2006_Lexmark_Indy_300?curid=7974552'),)), LinkedString('MXC', links=((0, 3, 'http://en.wikipedia.org/wiki/2006_Gran_Premio_Telmex?curid=7934862'),)), LinkedString('Pts', links=())),)\n",
      "1 (0, 2, 15, 'short-uppercase-acronyms') None None\n"
     ]
    },
    {
     "data": {
      "text/html": [
       "<style  type=\"text/css\" >\n",
       "    #T_8fd06480_358e_11eb_81c0_00259091f1e8 .col_heading.level0 {\n",
       "          display: none;\n",
       "    }    #T_8fd06480_358e_11eb_81c0_00259091f1e8 .col_heading.level1.col2 {\n",
       "          background-color: #ff0;\n",
       "    }    #T_8fd06480_358e_11eb_81c0_00259091f1e8 .col_heading.level1.col3 {\n",
       "          background-color: #ff0;\n",
       "    }    #T_8fd06480_358e_11eb_81c0_00259091f1e8 .col_heading.level1.col4 {\n",
       "          background-color: #ff0;\n",
       "    }    #T_8fd06480_358e_11eb_81c0_00259091f1e8 .col_heading.level1.col5 {\n",
       "          background-color: #ff0;\n",
       "    }    #T_8fd06480_358e_11eb_81c0_00259091f1e8 .col_heading.level1.col6 {\n",
       "          background-color: #ff0;\n",
       "    }    #T_8fd06480_358e_11eb_81c0_00259091f1e8 .col_heading.level1.col7 {\n",
       "          background-color: #ff0;\n",
       "    }    #T_8fd06480_358e_11eb_81c0_00259091f1e8 .col_heading.level1.col8 {\n",
       "          background-color: #ff0;\n",
       "    }    #T_8fd06480_358e_11eb_81c0_00259091f1e8 .col_heading.level1.col9 {\n",
       "          background-color: #ff0;\n",
       "    }    #T_8fd06480_358e_11eb_81c0_00259091f1e8 .col_heading.level1.col10 {\n",
       "          background-color: #ff0;\n",
       "    }    #T_8fd06480_358e_11eb_81c0_00259091f1e8 .col_heading.level1.col11 {\n",
       "          background-color: #ff0;\n",
       "    }    #T_8fd06480_358e_11eb_81c0_00259091f1e8 .col_heading.level1.col12 {\n",
       "          background-color: #ff0;\n",
       "    }    #T_8fd06480_358e_11eb_81c0_00259091f1e8 .col_heading.level1.col13 {\n",
       "          background-color: #ff0;\n",
       "    }    #T_8fd06480_358e_11eb_81c0_00259091f1e8 .col_heading.level1.col14 {\n",
       "          background-color: #ff0;\n",
       "    }    #T_8fd06480_358e_11eb_81c0_00259091f1e8 .col_heading.level1.col15 {\n",
       "          background-color: #ff0;\n",
       "    }</style><table id=\"T_8fd06480_358e_11eb_81c0_00259091f1e8\" ><thead>    <tr>        <th class=\"blank level0\" ></th>        <th class=\"col_heading level0 col0\" >0</th>        <th class=\"col_heading level0 col1\" >1</th>        <th class=\"col_heading level0 col2\" >2</th>        <th class=\"col_heading level0 col3\" >3</th>        <th class=\"col_heading level0 col4\" >4</th>        <th class=\"col_heading level0 col5\" >5</th>        <th class=\"col_heading level0 col6\" >6</th>        <th class=\"col_heading level0 col7\" >7</th>        <th class=\"col_heading level0 col8\" >8</th>        <th class=\"col_heading level0 col9\" >9</th>        <th class=\"col_heading level0 col10\" >10</th>        <th class=\"col_heading level0 col11\" >11</th>        <th class=\"col_heading level0 col12\" >12</th>        <th class=\"col_heading level0 col13\" >13</th>        <th class=\"col_heading level0 col14\" >14</th>        <th class=\"col_heading level0 col15\" >15</th>        <th class=\"col_heading level0 col16\" >16</th>    </tr>    <tr>        <th class=\"blank level1\" ></th>        <th class=\"col_heading level1 col0\" >Pos</th>        <th class=\"col_heading level1 col1\" >Driver</th>        <th class=\"col_heading level1 col2\" ><a href=\"http://en.wikipedia.org/wiki/2006_Toyota_Grand_Prix_of_Long_Beach?curid=4809927\">LBH</a></th>        <th class=\"col_heading level1 col3\" ><a href=\"http://en.wikipedia.org/wiki/2006_Grand_Prix_of_Houston?curid=5163175\">HOU</a></th>        <th class=\"col_heading level1 col4\" ><a href=\"http://en.wikipedia.org/wiki/2006_Tecate_Grand_Prix_of_Monterrey?curid=8562294\">MTY</a></th>        <th class=\"col_heading level1 col5\" ><a href=\"http://en.wikipedia.org/wiki/2006_Time_Warner_Cable_Road_Runner_225?curid=8563821\">MIL</a></th>        <th class=\"col_heading level1 col6\" ><a href=\"http://en.wikipedia.org/wiki/2006_Grand_Prix_of_Portland?curid=8647787\">POR</a></th>        <th class=\"col_heading level1 col7\" ><a href=\"http://en.wikipedia.org/wiki/2006_Grand_Prix_of_Cleveland?curid=8900841\">CLE</a></th>        <th class=\"col_heading level1 col8\" ><a href=\"http://en.wikipedia.org/wiki/2006_Molson_Grand_Prix_of_Toronto?curid=8949646\">TOR</a></th>        <th class=\"col_heading level1 col9\" ><a href=\"http://en.wikipedia.org/wiki/2006_West_Edmonton_Mall_Grand_Prix_of_Edmonton?curid=10599984\">EDM</a></th>        <th class=\"col_heading level1 col10\" ><a href=\"http://en.wikipedia.org/wiki/2006_Canary_Foundation_Grand_Prix_of_San_Jose?curid=10600299\">SJO</a></th>        <th class=\"col_heading level1 col11\" ><a href=\"http://en.wikipedia.org/wiki/2006_Grand_Prix_of_Denver?curid=11818965\">DEN</a></th>        <th class=\"col_heading level1 col12\" ><a href=\"http://en.wikipedia.org/wiki/2006_Champ_Car_Grand_Prix_de_Montreal?curid=11883489\">MTL</a></th>        <th class=\"col_heading level1 col13\" ><a href=\"http://en.wikipedia.org/wiki/2006_Grand_Prix_of_Road_America?curid=10420701\">ROA</a></th>        <th class=\"col_heading level1 col14\" ><a href=\"http://en.wikipedia.org/wiki/2006_Lexmark_Indy_300?curid=7974552\">SRF</a></th>        <th class=\"col_heading level1 col15\" ><a href=\"http://en.wikipedia.org/wiki/2006_Gran_Premio_Telmex?curid=7934862\">MXC</a></th>        <th class=\"col_heading level1 col16\" >Pts</th>    </tr></thead><tbody>\n",
       "        </tbody></table>"
      ],
      "text/plain": [
       "<pandas.io.formats.style.Styler at 0x7f5f2816bcd0>"
      ]
     },
     "metadata": {},
     "output_type": "display_data"
    },
    {
     "name": "stdout",
     "output_type": "stream",
     "text": [
      "((LinkedString('', links=()), LinkedString('AAA', links=()), LinkedString('EAE', links=()), LinkedString('AEE', links=()), LinkedString('AII', links=()), LinkedString('IAI', links=()), LinkedString('AOO', links=()), LinkedString('OAO', links=()), LinkedString('EIO', links=()), LinkedString('AAI', links=()), LinkedString('EAO', links=()), LinkedString('AEO', links=())),)\n",
      "1 (0, 1, 11, 'short-uppercase-acronyms') None None\n"
     ]
    },
    {
     "data": {
      "text/html": [
       "<style  type=\"text/css\" >\n",
       "    #T_8fd2cdc4_358e_11eb_81c0_00259091f1e8 .col_heading.level0 {\n",
       "          display: none;\n",
       "    }    #T_8fd2cdc4_358e_11eb_81c0_00259091f1e8 .col_heading.level1.col1 {\n",
       "          background-color: #ff0;\n",
       "    }    #T_8fd2cdc4_358e_11eb_81c0_00259091f1e8 .col_heading.level1.col2 {\n",
       "          background-color: #ff0;\n",
       "    }    #T_8fd2cdc4_358e_11eb_81c0_00259091f1e8 .col_heading.level1.col3 {\n",
       "          background-color: #ff0;\n",
       "    }    #T_8fd2cdc4_358e_11eb_81c0_00259091f1e8 .col_heading.level1.col4 {\n",
       "          background-color: #ff0;\n",
       "    }    #T_8fd2cdc4_358e_11eb_81c0_00259091f1e8 .col_heading.level1.col5 {\n",
       "          background-color: #ff0;\n",
       "    }    #T_8fd2cdc4_358e_11eb_81c0_00259091f1e8 .col_heading.level1.col6 {\n",
       "          background-color: #ff0;\n",
       "    }    #T_8fd2cdc4_358e_11eb_81c0_00259091f1e8 .col_heading.level1.col7 {\n",
       "          background-color: #ff0;\n",
       "    }    #T_8fd2cdc4_358e_11eb_81c0_00259091f1e8 .col_heading.level1.col8 {\n",
       "          background-color: #ff0;\n",
       "    }    #T_8fd2cdc4_358e_11eb_81c0_00259091f1e8 .col_heading.level1.col9 {\n",
       "          background-color: #ff0;\n",
       "    }    #T_8fd2cdc4_358e_11eb_81c0_00259091f1e8 .col_heading.level1.col10 {\n",
       "          background-color: #ff0;\n",
       "    }    #T_8fd2cdc4_358e_11eb_81c0_00259091f1e8 .col_heading.level1.col11 {\n",
       "          background-color: #ff0;\n",
       "    }</style><table id=\"T_8fd2cdc4_358e_11eb_81c0_00259091f1e8\" ><thead>    <tr>        <th class=\"blank level0\" ></th>        <th class=\"col_heading level0 col0\" >0</th>        <th class=\"col_heading level0 col1\" >1</th>        <th class=\"col_heading level0 col2\" >2</th>        <th class=\"col_heading level0 col3\" >3</th>        <th class=\"col_heading level0 col4\" >4</th>        <th class=\"col_heading level0 col5\" >5</th>        <th class=\"col_heading level0 col6\" >6</th>        <th class=\"col_heading level0 col7\" >7</th>        <th class=\"col_heading level0 col8\" >8</th>        <th class=\"col_heading level0 col9\" >9</th>        <th class=\"col_heading level0 col10\" >10</th>        <th class=\"col_heading level0 col11\" >11</th>    </tr>    <tr>        <th class=\"blank level1\" ></th>        <th class=\"col_heading level1 col0\" ></th>        <th class=\"col_heading level1 col1\" >AAA</th>        <th class=\"col_heading level1 col2\" >EAE</th>        <th class=\"col_heading level1 col3\" >AEE</th>        <th class=\"col_heading level1 col4\" >AII</th>        <th class=\"col_heading level1 col5\" >IAI</th>        <th class=\"col_heading level1 col6\" >AOO</th>        <th class=\"col_heading level1 col7\" >OAO</th>        <th class=\"col_heading level1 col8\" >EIO</th>        <th class=\"col_heading level1 col9\" >AAI</th>        <th class=\"col_heading level1 col10\" >EAO</th>        <th class=\"col_heading level1 col11\" >AEO</th>    </tr></thead><tbody>\n",
       "        </tbody></table>"
      ],
      "text/plain": [
       "<pandas.io.formats.style.Styler at 0x7f5f21bc0a10>"
      ]
     },
     "metadata": {},
     "output_type": "display_data"
    },
    {
     "name": "stdout",
     "output_type": "stream",
     "text": [
      "((LinkedString('Year', links=()), LinkedString('Title', links=()), LinkedString('Chart positions', links=()), LinkedString('Chart positions', links=()), LinkedString('Chart positions', links=()), LinkedString('Chart positions', links=()), LinkedString('Sales/Certifications', links=())), (LinkedString('Year', links=()), LinkedString('Title', links=()), LinkedString('JPN', links=((0, 3, 'http://en.wikipedia.org/wiki/Japan?curid=15573'),)), LinkedString('USA', links=((0, 3, 'http://en.wikipedia.org/wiki/USA?curid=3434750'),)), LinkedString('TWN', links=((0, 3, 'http://en.wikipedia.org/wiki/Taiwan?curid=25734'),)), LinkedString('HKG', links=((0, 3, 'http://en.wikipedia.org/wiki/Hong_Kong?curid=13404'),)), LinkedString('Sales/Certifications', links=())))\n",
      "1 (1, 2, 5, 'short-uppercase-acronyms') None None\n"
     ]
    },
    {
     "data": {
      "text/html": [
       "<style  type=\"text/css\" >\n",
       "    #T_8fd6b24a_358e_11eb_81c0_00259091f1e8 .col_heading.level0 {\n",
       "          display: none;\n",
       "    }    #T_8fd6b24a_358e_11eb_81c0_00259091f1e8 .col_heading.level2.col2 {\n",
       "          background-color: #ff0;\n",
       "    }    #T_8fd6b24a_358e_11eb_81c0_00259091f1e8 .col_heading.level2.col3 {\n",
       "          background-color: #ff0;\n",
       "    }    #T_8fd6b24a_358e_11eb_81c0_00259091f1e8 .col_heading.level2.col4 {\n",
       "          background-color: #ff0;\n",
       "    }    #T_8fd6b24a_358e_11eb_81c0_00259091f1e8 .col_heading.level2.col5 {\n",
       "          background-color: #ff0;\n",
       "    }</style><table id=\"T_8fd6b24a_358e_11eb_81c0_00259091f1e8\" ><thead>    <tr>        <th class=\"blank level0\" ></th>        <th class=\"col_heading level0 col0\" >0</th>        <th class=\"col_heading level0 col1\" >1</th>        <th class=\"col_heading level0 col2\" >2</th>        <th class=\"col_heading level0 col3\" >3</th>        <th class=\"col_heading level0 col4\" >4</th>        <th class=\"col_heading level0 col5\" >5</th>        <th class=\"col_heading level0 col6\" >6</th>    </tr>    <tr>        <th class=\"blank level1\" ></th>        <th class=\"col_heading level1 col0\" >Year</th>        <th class=\"col_heading level1 col1\" >Title</th>        <th class=\"col_heading level1 col2\" >Chart positions</th>        <th class=\"col_heading level1 col3\" >Chart positions</th>        <th class=\"col_heading level1 col4\" >Chart positions</th>        <th class=\"col_heading level1 col5\" >Chart positions</th>        <th class=\"col_heading level1 col6\" >Sales/Certifications</th>    </tr>    <tr>        <th class=\"blank level2\" ></th>        <th class=\"col_heading level2 col0\" >Year</th>        <th class=\"col_heading level2 col1\" >Title</th>        <th class=\"col_heading level2 col2\" ><a href=\"http://en.wikipedia.org/wiki/Japan?curid=15573\">JPN</a></th>        <th class=\"col_heading level2 col3\" ><a href=\"http://en.wikipedia.org/wiki/USA?curid=3434750\">USA</a></th>        <th class=\"col_heading level2 col4\" ><a href=\"http://en.wikipedia.org/wiki/Taiwan?curid=25734\">TWN</a></th>        <th class=\"col_heading level2 col5\" ><a href=\"http://en.wikipedia.org/wiki/Hong_Kong?curid=13404\">HKG</a></th>        <th class=\"col_heading level2 col6\" >Sales/Certifications</th>    </tr></thead><tbody>\n",
       "        </tbody></table>"
      ],
      "text/plain": [
       "<pandas.io.formats.style.Styler at 0x7f5f21beb990>"
      ]
     },
     "metadata": {},
     "output_type": "display_data"
    },
    {
     "name": "stdout",
     "output_type": "stream",
     "text": [
      "((LinkedString('Year', links=()), LinkedString('Single', links=()), LinkedString('Peak positions', links=()), LinkedString('Peak positions', links=()), LinkedString('Peak positions', links=()), LinkedString('Peak positions', links=()), LinkedString('Peak positions', links=()), LinkedString('Peak positions', links=()), LinkedString('Peak positions', links=()), LinkedString('Peak positions', links=()), LinkedString('Peak positions', links=()), LinkedString('Peak positions', links=()), LinkedString('Album', links=())), (LinkedString('Year', links=()), LinkedString('Single', links=()), LinkedString('AUS', links=((0, 3, 'http://en.wikipedia.org/wiki/ARIA?curid=308882'),)), LinkedString('AUT', links=((0, 3, 'http://en.wikipedia.org/wiki/Ö3_Austria_Top_40?curid=13757814'),)), LinkedString('BEL (Fl)', links=((0, 8, 'http://en.wikipedia.org/wiki/Ultratop_50?curid=6836546'),)), LinkedString('FRA', links=((0, 3, 'http://en.wikipedia.org/wiki/France?curid=5843419'),)), LinkedString('NED', links=((0, 3, 'http://en.wikipedia.org/wiki/MegaCharts?curid=6013155'),)), LinkedString('NOR', links=((0, 3, 'http://en.wikipedia.org/wiki/VG-lista?curid=8262087'),)), LinkedString('NZ', links=((0, 2, 'http://en.wikipedia.org/wiki/RIANZ?curid=1588487'),)), LinkedString('SWE', links=((0, 3, 'http://en.wikipedia.org/wiki/Sverigetopplistan?curid=11002747'),)), LinkedString('SWI', links=((0, 3, 'http://en.wikipedia.org/wiki/Swiss_Hitparade?curid=17054761'),)), LinkedString('US Hot 100', links=((0, 10, 'http://en.wikipedia.org/wiki/Billboard_Hot_100?curid=423161'),)), LinkedString('Album', links=())))\n",
      "1 (1, 5, 10, 'short-uppercase-acronyms') None None\n"
     ]
    },
    {
     "data": {
      "text/html": [
       "<style  type=\"text/css\" >\n",
       "    #T_8fd9fac2_358e_11eb_81c0_00259091f1e8 .col_heading.level0 {\n",
       "          display: none;\n",
       "    }    #T_8fd9fac2_358e_11eb_81c0_00259091f1e8 .col_heading.level2.col5 {\n",
       "          background-color: #ff0;\n",
       "    }    #T_8fd9fac2_358e_11eb_81c0_00259091f1e8 .col_heading.level2.col6 {\n",
       "          background-color: #ff0;\n",
       "    }    #T_8fd9fac2_358e_11eb_81c0_00259091f1e8 .col_heading.level2.col7 {\n",
       "          background-color: #ff0;\n",
       "    }    #T_8fd9fac2_358e_11eb_81c0_00259091f1e8 .col_heading.level2.col8 {\n",
       "          background-color: #ff0;\n",
       "    }    #T_8fd9fac2_358e_11eb_81c0_00259091f1e8 .col_heading.level2.col9 {\n",
       "          background-color: #ff0;\n",
       "    }    #T_8fd9fac2_358e_11eb_81c0_00259091f1e8 .col_heading.level2.col10 {\n",
       "          background-color: #ff0;\n",
       "    }</style><table id=\"T_8fd9fac2_358e_11eb_81c0_00259091f1e8\" ><thead>    <tr>        <th class=\"blank level0\" ></th>        <th class=\"col_heading level0 col0\" >0</th>        <th class=\"col_heading level0 col1\" >1</th>        <th class=\"col_heading level0 col2\" >2</th>        <th class=\"col_heading level0 col3\" >3</th>        <th class=\"col_heading level0 col4\" >4</th>        <th class=\"col_heading level0 col5\" >5</th>        <th class=\"col_heading level0 col6\" >6</th>        <th class=\"col_heading level0 col7\" >7</th>        <th class=\"col_heading level0 col8\" >8</th>        <th class=\"col_heading level0 col9\" >9</th>        <th class=\"col_heading level0 col10\" >10</th>        <th class=\"col_heading level0 col11\" >11</th>        <th class=\"col_heading level0 col12\" >12</th>    </tr>    <tr>        <th class=\"blank level1\" ></th>        <th class=\"col_heading level1 col0\" >Year</th>        <th class=\"col_heading level1 col1\" >Single</th>        <th class=\"col_heading level1 col2\" >Peak positions</th>        <th class=\"col_heading level1 col3\" >Peak positions</th>        <th class=\"col_heading level1 col4\" >Peak positions</th>        <th class=\"col_heading level1 col5\" >Peak positions</th>        <th class=\"col_heading level1 col6\" >Peak positions</th>        <th class=\"col_heading level1 col7\" >Peak positions</th>        <th class=\"col_heading level1 col8\" >Peak positions</th>        <th class=\"col_heading level1 col9\" >Peak positions</th>        <th class=\"col_heading level1 col10\" >Peak positions</th>        <th class=\"col_heading level1 col11\" >Peak positions</th>        <th class=\"col_heading level1 col12\" >Album</th>    </tr>    <tr>        <th class=\"blank level2\" ></th>        <th class=\"col_heading level2 col0\" >Year</th>        <th class=\"col_heading level2 col1\" >Single</th>        <th class=\"col_heading level2 col2\" ><a href=\"http://en.wikipedia.org/wiki/ARIA?curid=308882\">AUS</a></th>        <th class=\"col_heading level2 col3\" ><a href=\"http://en.wikipedia.org/wiki/Ö3_Austria_Top_40?curid=13757814\">AUT</a></th>        <th class=\"col_heading level2 col4\" ><a href=\"http://en.wikipedia.org/wiki/Ultratop_50?curid=6836546\">BEL (Fl)</a></th>        <th class=\"col_heading level2 col5\" ><a href=\"http://en.wikipedia.org/wiki/France?curid=5843419\">FRA</a></th>        <th class=\"col_heading level2 col6\" ><a href=\"http://en.wikipedia.org/wiki/MegaCharts?curid=6013155\">NED</a></th>        <th class=\"col_heading level2 col7\" ><a href=\"http://en.wikipedia.org/wiki/VG-lista?curid=8262087\">NOR</a></th>        <th class=\"col_heading level2 col8\" ><a href=\"http://en.wikipedia.org/wiki/RIANZ?curid=1588487\">NZ</a></th>        <th class=\"col_heading level2 col9\" ><a href=\"http://en.wikipedia.org/wiki/Sverigetopplistan?curid=11002747\">SWE</a></th>        <th class=\"col_heading level2 col10\" ><a href=\"http://en.wikipedia.org/wiki/Swiss_Hitparade?curid=17054761\">SWI</a></th>        <th class=\"col_heading level2 col11\" ><a href=\"http://en.wikipedia.org/wiki/Billboard_Hot_100?curid=423161\">US Hot 100</a></th>        <th class=\"col_heading level2 col12\" >Album</th>    </tr></thead><tbody>\n",
       "        </tbody></table>"
      ],
      "text/plain": [
       "<pandas.io.formats.style.Styler at 0x7f5f2811a110>"
      ]
     },
     "metadata": {},
     "output_type": "display_data"
    },
    {
     "name": "stdout",
     "output_type": "stream",
     "text": [
      "((LinkedString('Yr BSB', links=()), LinkedString('Team', links=()), LinkedString('BHI', links=((0, 3, 'http://en.wikipedia.org/wiki/Brands_Hatch?curid=1068202'),)), LinkedString('BHI', links=((0, 3, 'http://en.wikipedia.org/wiki/Brands_Hatch?curid=1068202'),)), LinkedString('THR', links=((0, 3, 'http://en.wikipedia.org/wiki/Thruxton_Circuit?curid=3538081'),)), LinkedString('MAL', links=((0, 3, 'http://en.wikipedia.org/wiki/Mallory_Park?curid=4851360'),)), LinkedString('MAL', links=((0, 3, 'http://en.wikipedia.org/wiki/Mallory_Park?curid=4851360'),)), LinkedString('KNO', links=((0, 3, 'http://en.wikipedia.org/wiki/Knockhill_Racing_Circuit?curid=4958777'),)), LinkedString('KNO', links=((0, 3, 'http://en.wikipedia.org/wiki/Knockhill_Racing_Circuit?curid=4958777'),)), LinkedString('SNE', links=((0, 3, 'http://en.wikipedia.org/wiki/Snetterton_Motor_Racing_Circuit?curid=4237101'),)), LinkedString('SNE', links=((0, 3, 'http://en.wikipedia.org/wiki/Snetterton_Motor_Racing_Circuit?curid=4237101'),)), LinkedString('SNE', links=((0, 3, 'http://en.wikipedia.org/wiki/Snetterton_Motor_Racing_Circuit?curid=4237101'),)), LinkedString('BHGP', links=((0, 4, 'http://en.wikipedia.org/wiki/Brands_Hatch?curid=1068202'),)), LinkedString('BHGP', links=((0, 4, 'http://en.wikipedia.org/wiki/Brands_Hatch?curid=1068202'),)), LinkedString('CAD', links=((0, 3, 'http://en.wikipedia.org/wiki/Cadwell_Park?curid=2921905'),)), LinkedString('CRO', links=((0, 3, 'http://en.wikipedia.org/wiki/Croft_Circuit?curid=3606322'),)), LinkedString('CRO', links=((0, 3, 'http://en.wikipedia.org/wiki/Croft_Circuit?curid=3606322'),)), LinkedString('SIL', links=((0, 3, 'http://en.wikipedia.org/wiki/Silverstone_Circuit?curid=522676'),)), LinkedString('SIL', links=((0, 3, 'http://en.wikipedia.org/wiki/Silverstone_Circuit?curid=522676'),)), LinkedString('OUL', links=((0, 3, 'http://en.wikipedia.org/wiki/Oulton_Park?curid=3347772'),)), LinkedString('OUL', links=((0, 3, 'http://en.wikipedia.org/wiki/Oulton_Park?curid=3347772'),)), LinkedString('OUL', links=((0, 3, 'http://en.wikipedia.org/wiki/Oulton_Park?curid=3347772'),)), LinkedString('Pos', links=()), LinkedString('Pts', links=())), (LinkedString('Yr BSB', links=()), LinkedString('Team', links=()), LinkedString('R1', links=()), LinkedString('R2', links=()), LinkedString('R1', links=()), LinkedString('R1', links=()), LinkedString('R2', links=()), LinkedString('R1', links=()), LinkedString('R2', links=()), LinkedString('R1', links=()), LinkedString('R2', links=()), LinkedString('R3', links=()), LinkedString('R1', links=()), LinkedString('R2', links=()), LinkedString('R1', links=()), LinkedString('R1', links=()), LinkedString('R2', links=()), LinkedString('R1', links=()), LinkedString('R2', links=()), LinkedString('R1', links=()), LinkedString('R2', links=()), LinkedString('R3', links=()), LinkedString('Pos', links=()), LinkedString('Pts', links=())))\n",
      "1 (0, 2, 21, 'short-uppercase-acronyms') None None\n"
     ]
    },
    {
     "data": {
      "text/html": [
       "<style  type=\"text/css\" >\n",
       "    #T_8fdeb1ca_358e_11eb_81c0_00259091f1e8 .col_heading.level0 {\n",
       "          display: none;\n",
       "    }    #T_8fdeb1ca_358e_11eb_81c0_00259091f1e8 .col_heading.level1.col2 {\n",
       "          background-color: #ff0;\n",
       "    }    #T_8fdeb1ca_358e_11eb_81c0_00259091f1e8 .col_heading.level1.col3 {\n",
       "          background-color: #ff0;\n",
       "    }    #T_8fdeb1ca_358e_11eb_81c0_00259091f1e8 .col_heading.level1.col4 {\n",
       "          background-color: #ff0;\n",
       "    }    #T_8fdeb1ca_358e_11eb_81c0_00259091f1e8 .col_heading.level1.col5 {\n",
       "          background-color: #ff0;\n",
       "    }    #T_8fdeb1ca_358e_11eb_81c0_00259091f1e8 .col_heading.level1.col6 {\n",
       "          background-color: #ff0;\n",
       "    }    #T_8fdeb1ca_358e_11eb_81c0_00259091f1e8 .col_heading.level1.col7 {\n",
       "          background-color: #ff0;\n",
       "    }    #T_8fdeb1ca_358e_11eb_81c0_00259091f1e8 .col_heading.level1.col8 {\n",
       "          background-color: #ff0;\n",
       "    }    #T_8fdeb1ca_358e_11eb_81c0_00259091f1e8 .col_heading.level1.col9 {\n",
       "          background-color: #ff0;\n",
       "    }    #T_8fdeb1ca_358e_11eb_81c0_00259091f1e8 .col_heading.level1.col10 {\n",
       "          background-color: #ff0;\n",
       "    }    #T_8fdeb1ca_358e_11eb_81c0_00259091f1e8 .col_heading.level1.col11 {\n",
       "          background-color: #ff0;\n",
       "    }    #T_8fdeb1ca_358e_11eb_81c0_00259091f1e8 .col_heading.level1.col12 {\n",
       "          background-color: #ff0;\n",
       "    }    #T_8fdeb1ca_358e_11eb_81c0_00259091f1e8 .col_heading.level1.col13 {\n",
       "          background-color: #ff0;\n",
       "    }    #T_8fdeb1ca_358e_11eb_81c0_00259091f1e8 .col_heading.level1.col14 {\n",
       "          background-color: #ff0;\n",
       "    }    #T_8fdeb1ca_358e_11eb_81c0_00259091f1e8 .col_heading.level1.col15 {\n",
       "          background-color: #ff0;\n",
       "    }    #T_8fdeb1ca_358e_11eb_81c0_00259091f1e8 .col_heading.level1.col16 {\n",
       "          background-color: #ff0;\n",
       "    }    #T_8fdeb1ca_358e_11eb_81c0_00259091f1e8 .col_heading.level1.col17 {\n",
       "          background-color: #ff0;\n",
       "    }    #T_8fdeb1ca_358e_11eb_81c0_00259091f1e8 .col_heading.level1.col18 {\n",
       "          background-color: #ff0;\n",
       "    }    #T_8fdeb1ca_358e_11eb_81c0_00259091f1e8 .col_heading.level1.col19 {\n",
       "          background-color: #ff0;\n",
       "    }    #T_8fdeb1ca_358e_11eb_81c0_00259091f1e8 .col_heading.level1.col20 {\n",
       "          background-color: #ff0;\n",
       "    }    #T_8fdeb1ca_358e_11eb_81c0_00259091f1e8 .col_heading.level1.col21 {\n",
       "          background-color: #ff0;\n",
       "    }</style><table id=\"T_8fdeb1ca_358e_11eb_81c0_00259091f1e8\" ><thead>    <tr>        <th class=\"blank level0\" ></th>        <th class=\"col_heading level0 col0\" >0</th>        <th class=\"col_heading level0 col1\" >1</th>        <th class=\"col_heading level0 col2\" >2</th>        <th class=\"col_heading level0 col3\" >3</th>        <th class=\"col_heading level0 col4\" >4</th>        <th class=\"col_heading level0 col5\" >5</th>        <th class=\"col_heading level0 col6\" >6</th>        <th class=\"col_heading level0 col7\" >7</th>        <th class=\"col_heading level0 col8\" >8</th>        <th class=\"col_heading level0 col9\" >9</th>        <th class=\"col_heading level0 col10\" >10</th>        <th class=\"col_heading level0 col11\" >11</th>        <th class=\"col_heading level0 col12\" >12</th>        <th class=\"col_heading level0 col13\" >13</th>        <th class=\"col_heading level0 col14\" >14</th>        <th class=\"col_heading level0 col15\" >15</th>        <th class=\"col_heading level0 col16\" >16</th>        <th class=\"col_heading level0 col17\" >17</th>        <th class=\"col_heading level0 col18\" >18</th>        <th class=\"col_heading level0 col19\" >19</th>        <th class=\"col_heading level0 col20\" >20</th>        <th class=\"col_heading level0 col21\" >21</th>        <th class=\"col_heading level0 col22\" >22</th>        <th class=\"col_heading level0 col23\" >23</th>    </tr>    <tr>        <th class=\"blank level1\" ></th>        <th class=\"col_heading level1 col0\" >Yr BSB</th>        <th class=\"col_heading level1 col1\" >Team</th>        <th class=\"col_heading level1 col2\" ><a href=\"http://en.wikipedia.org/wiki/Brands_Hatch?curid=1068202\">BHI</a></th>        <th class=\"col_heading level1 col3\" ><a href=\"http://en.wikipedia.org/wiki/Brands_Hatch?curid=1068202\">BHI</a></th>        <th class=\"col_heading level1 col4\" ><a href=\"http://en.wikipedia.org/wiki/Thruxton_Circuit?curid=3538081\">THR</a></th>        <th class=\"col_heading level1 col5\" ><a href=\"http://en.wikipedia.org/wiki/Mallory_Park?curid=4851360\">MAL</a></th>        <th class=\"col_heading level1 col6\" ><a href=\"http://en.wikipedia.org/wiki/Mallory_Park?curid=4851360\">MAL</a></th>        <th class=\"col_heading level1 col7\" ><a href=\"http://en.wikipedia.org/wiki/Knockhill_Racing_Circuit?curid=4958777\">KNO</a></th>        <th class=\"col_heading level1 col8\" ><a href=\"http://en.wikipedia.org/wiki/Knockhill_Racing_Circuit?curid=4958777\">KNO</a></th>        <th class=\"col_heading level1 col9\" ><a href=\"http://en.wikipedia.org/wiki/Snetterton_Motor_Racing_Circuit?curid=4237101\">SNE</a></th>        <th class=\"col_heading level1 col10\" ><a href=\"http://en.wikipedia.org/wiki/Snetterton_Motor_Racing_Circuit?curid=4237101\">SNE</a></th>        <th class=\"col_heading level1 col11\" ><a href=\"http://en.wikipedia.org/wiki/Snetterton_Motor_Racing_Circuit?curid=4237101\">SNE</a></th>        <th class=\"col_heading level1 col12\" ><a href=\"http://en.wikipedia.org/wiki/Brands_Hatch?curid=1068202\">BHGP</a></th>        <th class=\"col_heading level1 col13\" ><a href=\"http://en.wikipedia.org/wiki/Brands_Hatch?curid=1068202\">BHGP</a></th>        <th class=\"col_heading level1 col14\" ><a href=\"http://en.wikipedia.org/wiki/Cadwell_Park?curid=2921905\">CAD</a></th>        <th class=\"col_heading level1 col15\" ><a href=\"http://en.wikipedia.org/wiki/Croft_Circuit?curid=3606322\">CRO</a></th>        <th class=\"col_heading level1 col16\" ><a href=\"http://en.wikipedia.org/wiki/Croft_Circuit?curid=3606322\">CRO</a></th>        <th class=\"col_heading level1 col17\" ><a href=\"http://en.wikipedia.org/wiki/Silverstone_Circuit?curid=522676\">SIL</a></th>        <th class=\"col_heading level1 col18\" ><a href=\"http://en.wikipedia.org/wiki/Silverstone_Circuit?curid=522676\">SIL</a></th>        <th class=\"col_heading level1 col19\" ><a href=\"http://en.wikipedia.org/wiki/Oulton_Park?curid=3347772\">OUL</a></th>        <th class=\"col_heading level1 col20\" ><a href=\"http://en.wikipedia.org/wiki/Oulton_Park?curid=3347772\">OUL</a></th>        <th class=\"col_heading level1 col21\" ><a href=\"http://en.wikipedia.org/wiki/Oulton_Park?curid=3347772\">OUL</a></th>        <th class=\"col_heading level1 col22\" >Pos</th>        <th class=\"col_heading level1 col23\" >Pts</th>    </tr>    <tr>        <th class=\"blank level2\" ></th>        <th class=\"col_heading level2 col0\" >Yr BSB</th>        <th class=\"col_heading level2 col1\" >Team</th>        <th class=\"col_heading level2 col2\" >R1</th>        <th class=\"col_heading level2 col3\" >R2</th>        <th class=\"col_heading level2 col4\" >R1</th>        <th class=\"col_heading level2 col5\" >R1</th>        <th class=\"col_heading level2 col6\" >R2</th>        <th class=\"col_heading level2 col7\" >R1</th>        <th class=\"col_heading level2 col8\" >R2</th>        <th class=\"col_heading level2 col9\" >R1</th>        <th class=\"col_heading level2 col10\" >R2</th>        <th class=\"col_heading level2 col11\" >R3</th>        <th class=\"col_heading level2 col12\" >R1</th>        <th class=\"col_heading level2 col13\" >R2</th>        <th class=\"col_heading level2 col14\" >R1</th>        <th class=\"col_heading level2 col15\" >R1</th>        <th class=\"col_heading level2 col16\" >R2</th>        <th class=\"col_heading level2 col17\" >R1</th>        <th class=\"col_heading level2 col18\" >R2</th>        <th class=\"col_heading level2 col19\" >R1</th>        <th class=\"col_heading level2 col20\" >R2</th>        <th class=\"col_heading level2 col21\" >R3</th>        <th class=\"col_heading level2 col22\" >Pos</th>        <th class=\"col_heading level2 col23\" >Pts</th>    </tr></thead><tbody>\n",
       "        </tbody></table>"
      ],
      "text/plain": [
       "<pandas.io.formats.style.Styler at 0x7f5f2810f890>"
      ]
     },
     "metadata": {},
     "output_type": "display_data"
    },
    {
     "name": "stdout",
     "output_type": "stream",
     "text": [
      "((LinkedString('Measure', links=()), LinkedString('AUS', links=((0, 3, 'http://en.wikipedia.org/wiki/Australia?curid=4689264'),)), LinkedString('CAN', links=((0, 3, 'http://en.wikipedia.org/wiki/Canada?curid=5042916'),)), LinkedString('UK', links=((0, 2, 'http://en.wikipedia.org/wiki/United_Kingdom?curid=31717'),)), LinkedString('FDA', links=((0, 3, 'http://en.wikipedia.org/wiki/Food_and_Drug_Administration?curid=11632'),)), LinkedString('USA', links=((0, 3, 'http://en.wikipedia.org/wiki/USA?curid=3434750'),))),)\n",
      "1 (0, 1, 5, 'short-uppercase-acronyms') None None\n"
     ]
    },
    {
     "data": {
      "text/html": [
       "<style  type=\"text/css\" >\n",
       "    #T_8fe236b0_358e_11eb_81c0_00259091f1e8 .col_heading.level0 {\n",
       "          display: none;\n",
       "    }    #T_8fe236b0_358e_11eb_81c0_00259091f1e8 .col_heading.level1.col1 {\n",
       "          background-color: #ff0;\n",
       "    }    #T_8fe236b0_358e_11eb_81c0_00259091f1e8 .col_heading.level1.col2 {\n",
       "          background-color: #ff0;\n",
       "    }    #T_8fe236b0_358e_11eb_81c0_00259091f1e8 .col_heading.level1.col3 {\n",
       "          background-color: #ff0;\n",
       "    }    #T_8fe236b0_358e_11eb_81c0_00259091f1e8 .col_heading.level1.col4 {\n",
       "          background-color: #ff0;\n",
       "    }    #T_8fe236b0_358e_11eb_81c0_00259091f1e8 .col_heading.level1.col5 {\n",
       "          background-color: #ff0;\n",
       "    }</style><table id=\"T_8fe236b0_358e_11eb_81c0_00259091f1e8\" ><thead>    <tr>        <th class=\"blank level0\" ></th>        <th class=\"col_heading level0 col0\" >0</th>        <th class=\"col_heading level0 col1\" >1</th>        <th class=\"col_heading level0 col2\" >2</th>        <th class=\"col_heading level0 col3\" >3</th>        <th class=\"col_heading level0 col4\" >4</th>        <th class=\"col_heading level0 col5\" >5</th>    </tr>    <tr>        <th class=\"blank level1\" ></th>        <th class=\"col_heading level1 col0\" >Measure</th>        <th class=\"col_heading level1 col1\" ><a href=\"http://en.wikipedia.org/wiki/Australia?curid=4689264\">AUS</a></th>        <th class=\"col_heading level1 col2\" ><a href=\"http://en.wikipedia.org/wiki/Canada?curid=5042916\">CAN</a></th>        <th class=\"col_heading level1 col3\" ><a href=\"http://en.wikipedia.org/wiki/United_Kingdom?curid=31717\">UK</a></th>        <th class=\"col_heading level1 col4\" ><a href=\"http://en.wikipedia.org/wiki/Food_and_Drug_Administration?curid=11632\">FDA</a></th>        <th class=\"col_heading level1 col5\" ><a href=\"http://en.wikipedia.org/wiki/USA?curid=3434750\">USA</a></th>    </tr></thead><tbody>\n",
       "        </tbody></table>"
      ],
      "text/plain": [
       "<pandas.io.formats.style.Styler at 0x7f5f21bebad0>"
      ]
     },
     "metadata": {},
     "output_type": "display_data"
    },
    {
     "name": "stdout",
     "output_type": "stream",
     "text": [
      "((LinkedString('', links=()), LinkedString('BOC', links=((0, 3, 'http://en.wikipedia.org/wiki/Boca_Juniors?curid=401877'),)), LinkedString('CAL', links=((0, 3, 'http://en.wikipedia.org/wiki/Deportivo_Cali?curid=1648801'),)), LinkedString('BOL', links=((0, 3, 'http://en.wikipedia.org/wiki/Club_Bolívar?curid=3581195'),)), LinkedString('COL', links=((0, 3, 'http://en.wikipedia.org/wiki/Colo-Colo?curid=1471550'),))),)\n",
      "1 (0, 1, 4, 'short-uppercase-acronyms') None None\n"
     ]
    },
    {
     "data": {
      "text/html": [
       "<style  type=\"text/css\" >\n",
       "    #T_8fe4d4b0_358e_11eb_81c0_00259091f1e8 .col_heading.level0 {\n",
       "          display: none;\n",
       "    }    #T_8fe4d4b0_358e_11eb_81c0_00259091f1e8 .col_heading.level1.col1 {\n",
       "          background-color: #ff0;\n",
       "    }    #T_8fe4d4b0_358e_11eb_81c0_00259091f1e8 .col_heading.level1.col2 {\n",
       "          background-color: #ff0;\n",
       "    }    #T_8fe4d4b0_358e_11eb_81c0_00259091f1e8 .col_heading.level1.col3 {\n",
       "          background-color: #ff0;\n",
       "    }    #T_8fe4d4b0_358e_11eb_81c0_00259091f1e8 .col_heading.level1.col4 {\n",
       "          background-color: #ff0;\n",
       "    }</style><table id=\"T_8fe4d4b0_358e_11eb_81c0_00259091f1e8\" ><thead>    <tr>        <th class=\"blank level0\" ></th>        <th class=\"col_heading level0 col0\" >0</th>        <th class=\"col_heading level0 col1\" >1</th>        <th class=\"col_heading level0 col2\" >2</th>        <th class=\"col_heading level0 col3\" >3</th>        <th class=\"col_heading level0 col4\" >4</th>    </tr>    <tr>        <th class=\"blank level1\" ></th>        <th class=\"col_heading level1 col0\" ></th>        <th class=\"col_heading level1 col1\" ><a href=\"http://en.wikipedia.org/wiki/Boca_Juniors?curid=401877\">BOC</a></th>        <th class=\"col_heading level1 col2\" ><a href=\"http://en.wikipedia.org/wiki/Deportivo_Cali?curid=1648801\">CAL</a></th>        <th class=\"col_heading level1 col3\" ><a href=\"http://en.wikipedia.org/wiki/Club_Bolívar?curid=3581195\">BOL</a></th>        <th class=\"col_heading level1 col4\" ><a href=\"http://en.wikipedia.org/wiki/Colo-Colo?curid=1471550\">COL</a></th>    </tr></thead><tbody>\n",
       "        </tbody></table>"
      ],
      "text/plain": [
       "<pandas.io.formats.style.Styler at 0x7f5f281051d0>"
      ]
     },
     "metadata": {},
     "output_type": "display_data"
    },
    {
     "name": "stdout",
     "output_type": "stream",
     "text": [
      "((LinkedString('', links=()), LinkedString('ONC', links=((0, 3, 'http://en.wikipedia.org/wiki/Once_Caldas?curid=1691553'),)), LinkedString('UAM', links=((0, 3, 'http://en.wikipedia.org/wiki/Unión_Atlético_Maracaibo?curid=33547184'),)), LinkedString('VEL', links=((0, 3, 'http://en.wikipedia.org/wiki/Club_Atlético_Vélez_Sársfield?curid=1482035'),)), LinkedString('FEN', links=((0, 3, 'http://en.wikipedia.org/wiki/Fénix_de_Montevideo?curid=7488108'),))),)\n",
      "1 (0, 1, 4, 'short-uppercase-acronyms') None None\n"
     ]
    },
    {
     "data": {
      "text/html": [
       "<style  type=\"text/css\" >\n",
       "    #T_8fe7119e_358e_11eb_81c0_00259091f1e8 .col_heading.level0 {\n",
       "          display: none;\n",
       "    }    #T_8fe7119e_358e_11eb_81c0_00259091f1e8 .col_heading.level1.col1 {\n",
       "          background-color: #ff0;\n",
       "    }    #T_8fe7119e_358e_11eb_81c0_00259091f1e8 .col_heading.level1.col2 {\n",
       "          background-color: #ff0;\n",
       "    }    #T_8fe7119e_358e_11eb_81c0_00259091f1e8 .col_heading.level1.col3 {\n",
       "          background-color: #ff0;\n",
       "    }    #T_8fe7119e_358e_11eb_81c0_00259091f1e8 .col_heading.level1.col4 {\n",
       "          background-color: #ff0;\n",
       "    }</style><table id=\"T_8fe7119e_358e_11eb_81c0_00259091f1e8\" ><thead>    <tr>        <th class=\"blank level0\" ></th>        <th class=\"col_heading level0 col0\" >0</th>        <th class=\"col_heading level0 col1\" >1</th>        <th class=\"col_heading level0 col2\" >2</th>        <th class=\"col_heading level0 col3\" >3</th>        <th class=\"col_heading level0 col4\" >4</th>    </tr>    <tr>        <th class=\"blank level1\" ></th>        <th class=\"col_heading level1 col0\" ></th>        <th class=\"col_heading level1 col1\" ><a href=\"http://en.wikipedia.org/wiki/Once_Caldas?curid=1691553\">ONC</a></th>        <th class=\"col_heading level1 col2\" ><a href=\"http://en.wikipedia.org/wiki/Unión_Atlético_Maracaibo?curid=33547184\">UAM</a></th>        <th class=\"col_heading level1 col3\" ><a href=\"http://en.wikipedia.org/wiki/Club_Atlético_Vélez_Sársfield?curid=1482035\">VEL</a></th>        <th class=\"col_heading level1 col4\" ><a href=\"http://en.wikipedia.org/wiki/Fénix_de_Montevideo?curid=7488108\">FEN</a></th>    </tr></thead><tbody>\n",
       "        </tbody></table>"
      ],
      "text/plain": [
       "<pandas.io.formats.style.Styler at 0x7f5f221cac90>"
      ]
     },
     "metadata": {},
     "output_type": "display_data"
    },
    {
     "name": "stdout",
     "output_type": "stream",
     "text": [
      "((LinkedString('Yr', links=()), LinkedString('Class', links=()), LinkedString('Team', links=()), LinkedString('BHI', links=((0, 3, 'http://en.wikipedia.org/wiki/Brands_Hatch?curid=1068202'),)), LinkedString('BHI', links=((0, 3, 'http://en.wikipedia.org/wiki/Brands_Hatch?curid=1068202'),)), LinkedString('OUL', links=((0, 3, 'http://en.wikipedia.org/wiki/Oulton_Park?curid=3347772'),)), LinkedString('OUL', links=((0, 3, 'http://en.wikipedia.org/wiki/Oulton_Park?curid=3347772'),)), LinkedString('DON', links=((0, 3, 'http://en.wikipedia.org/wiki/Donington_Park?curid=391884'),)), LinkedString('THR', links=((0, 3, 'http://en.wikipedia.org/wiki/Thruxton_Circuit?curid=3538081'),)), LinkedString('THR', links=((0, 3, 'http://en.wikipedia.org/wiki/Thruxton_Circuit?curid=3538081'),)), LinkedString('SNE', links=((0, 3, 'http://en.wikipedia.org/wiki/Snetterton_Motor_Racing_Circuit?curid=4237101'),)), LinkedString('SNE', links=((0, 3, 'http://en.wikipedia.org/wiki/Snetterton_Motor_Racing_Circuit?curid=4237101'),)), LinkedString('KNO', links=((0, 3, 'http://en.wikipedia.org/wiki/Knockhill_Racing_Circuit?curid=4958777'),)), LinkedString('MAL', links=((0, 3, 'http://en.wikipedia.org/wiki/Mallory_Park?curid=4851360'),)), LinkedString('BHGP', links=((0, 4, 'http://en.wikipedia.org/wiki/Brands_Hatch?curid=1068202'),)), LinkedString('BHGP', links=((0, 4, 'http://en.wikipedia.org/wiki/Brands_Hatch?curid=1068202'),)), LinkedString('BHGP', links=((0, 4, 'http://en.wikipedia.org/wiki/Brands_Hatch?curid=1068202'),)), LinkedString('CAD', links=((0, 3, 'http://en.wikipedia.org/wiki/Cadwell_Park?curid=2921905'),)), LinkedString('CAD', links=((0, 3, 'http://en.wikipedia.org/wiki/Cadwell_Park?curid=2921905'),)), LinkedString('CRO', links=((0, 3, 'http://en.wikipedia.org/wiki/Croft_Circuit?curid=3606322'),)), LinkedString('CRO', links=((0, 3, 'http://en.wikipedia.org/wiki/Croft_Circuit?curid=3606322'),)), LinkedString('SIL', links=((0, 3, 'http://en.wikipedia.org/wiki/Silverstone_Circuit?curid=522676'),)), LinkedString('SIL', links=((0, 3, 'http://en.wikipedia.org/wiki/Silverstone_Circuit?curid=522676'),)), LinkedString('OUL', links=((0, 3, 'http://en.wikipedia.org/wiki/Oulton_Park?curid=3347772'),)), LinkedString('OUL', links=((0, 3, 'http://en.wikipedia.org/wiki/Oulton_Park?curid=3347772'),)), LinkedString('OUL', links=((0, 3, 'http://en.wikipedia.org/wiki/Oulton_Park?curid=3347772'),)), LinkedString('Pos', links=()), LinkedString('Pts', links=())), (LinkedString('Yr', links=()), LinkedString('Class', links=()), LinkedString('Team', links=()), LinkedString('R1', links=()), LinkedString('R2', links=()), LinkedString('R1', links=()), LinkedString('R2', links=()), LinkedString('R1', links=()), LinkedString('R1', links=()), LinkedString('R2', links=()), LinkedString('R1', links=()), LinkedString('R2', links=()), LinkedString('R1', links=()), LinkedString('R2', links=()), LinkedString('R1', links=()), LinkedString('R2', links=()), LinkedString('R3', links=()), LinkedString('R1', links=()), LinkedString('R2', links=()), LinkedString('R1', links=()), LinkedString('R2', links=()), LinkedString('R1', links=()), LinkedString('R2', links=()), LinkedString('R1', links=()), LinkedString('R2', links=()), LinkedString('R3', links=()), LinkedString('Pos', links=()), LinkedString('Pts', links=())))\n",
      "1 (0, 3, 25, 'short-uppercase-acronyms') None None\n"
     ]
    },
    {
     "data": {
      "text/html": [
       "<style  type=\"text/css\" >\n",
       "    #T_8feb038a_358e_11eb_81c0_00259091f1e8 .col_heading.level0 {\n",
       "          display: none;\n",
       "    }    #T_8feb038a_358e_11eb_81c0_00259091f1e8 .col_heading.level1.col3 {\n",
       "          background-color: #ff0;\n",
       "    }    #T_8feb038a_358e_11eb_81c0_00259091f1e8 .col_heading.level1.col4 {\n",
       "          background-color: #ff0;\n",
       "    }    #T_8feb038a_358e_11eb_81c0_00259091f1e8 .col_heading.level1.col5 {\n",
       "          background-color: #ff0;\n",
       "    }    #T_8feb038a_358e_11eb_81c0_00259091f1e8 .col_heading.level1.col6 {\n",
       "          background-color: #ff0;\n",
       "    }    #T_8feb038a_358e_11eb_81c0_00259091f1e8 .col_heading.level1.col7 {\n",
       "          background-color: #ff0;\n",
       "    }    #T_8feb038a_358e_11eb_81c0_00259091f1e8 .col_heading.level1.col8 {\n",
       "          background-color: #ff0;\n",
       "    }    #T_8feb038a_358e_11eb_81c0_00259091f1e8 .col_heading.level1.col9 {\n",
       "          background-color: #ff0;\n",
       "    }    #T_8feb038a_358e_11eb_81c0_00259091f1e8 .col_heading.level1.col10 {\n",
       "          background-color: #ff0;\n",
       "    }    #T_8feb038a_358e_11eb_81c0_00259091f1e8 .col_heading.level1.col11 {\n",
       "          background-color: #ff0;\n",
       "    }    #T_8feb038a_358e_11eb_81c0_00259091f1e8 .col_heading.level1.col12 {\n",
       "          background-color: #ff0;\n",
       "    }    #T_8feb038a_358e_11eb_81c0_00259091f1e8 .col_heading.level1.col13 {\n",
       "          background-color: #ff0;\n",
       "    }    #T_8feb038a_358e_11eb_81c0_00259091f1e8 .col_heading.level1.col14 {\n",
       "          background-color: #ff0;\n",
       "    }    #T_8feb038a_358e_11eb_81c0_00259091f1e8 .col_heading.level1.col15 {\n",
       "          background-color: #ff0;\n",
       "    }    #T_8feb038a_358e_11eb_81c0_00259091f1e8 .col_heading.level1.col16 {\n",
       "          background-color: #ff0;\n",
       "    }    #T_8feb038a_358e_11eb_81c0_00259091f1e8 .col_heading.level1.col17 {\n",
       "          background-color: #ff0;\n",
       "    }    #T_8feb038a_358e_11eb_81c0_00259091f1e8 .col_heading.level1.col18 {\n",
       "          background-color: #ff0;\n",
       "    }    #T_8feb038a_358e_11eb_81c0_00259091f1e8 .col_heading.level1.col19 {\n",
       "          background-color: #ff0;\n",
       "    }    #T_8feb038a_358e_11eb_81c0_00259091f1e8 .col_heading.level1.col20 {\n",
       "          background-color: #ff0;\n",
       "    }    #T_8feb038a_358e_11eb_81c0_00259091f1e8 .col_heading.level1.col21 {\n",
       "          background-color: #ff0;\n",
       "    }    #T_8feb038a_358e_11eb_81c0_00259091f1e8 .col_heading.level1.col22 {\n",
       "          background-color: #ff0;\n",
       "    }    #T_8feb038a_358e_11eb_81c0_00259091f1e8 .col_heading.level1.col23 {\n",
       "          background-color: #ff0;\n",
       "    }    #T_8feb038a_358e_11eb_81c0_00259091f1e8 .col_heading.level1.col24 {\n",
       "          background-color: #ff0;\n",
       "    }    #T_8feb038a_358e_11eb_81c0_00259091f1e8 .col_heading.level1.col25 {\n",
       "          background-color: #ff0;\n",
       "    }</style><table id=\"T_8feb038a_358e_11eb_81c0_00259091f1e8\" ><thead>    <tr>        <th class=\"blank level0\" ></th>        <th class=\"col_heading level0 col0\" >0</th>        <th class=\"col_heading level0 col1\" >1</th>        <th class=\"col_heading level0 col2\" >2</th>        <th class=\"col_heading level0 col3\" >3</th>        <th class=\"col_heading level0 col4\" >4</th>        <th class=\"col_heading level0 col5\" >5</th>        <th class=\"col_heading level0 col6\" >6</th>        <th class=\"col_heading level0 col7\" >7</th>        <th class=\"col_heading level0 col8\" >8</th>        <th class=\"col_heading level0 col9\" >9</th>        <th class=\"col_heading level0 col10\" >10</th>        <th class=\"col_heading level0 col11\" >11</th>        <th class=\"col_heading level0 col12\" >12</th>        <th class=\"col_heading level0 col13\" >13</th>        <th class=\"col_heading level0 col14\" >14</th>        <th class=\"col_heading level0 col15\" >15</th>        <th class=\"col_heading level0 col16\" >16</th>        <th class=\"col_heading level0 col17\" >17</th>        <th class=\"col_heading level0 col18\" >18</th>        <th class=\"col_heading level0 col19\" >19</th>        <th class=\"col_heading level0 col20\" >20</th>        <th class=\"col_heading level0 col21\" >21</th>        <th class=\"col_heading level0 col22\" >22</th>        <th class=\"col_heading level0 col23\" >23</th>        <th class=\"col_heading level0 col24\" >24</th>        <th class=\"col_heading level0 col25\" >25</th>        <th class=\"col_heading level0 col26\" >26</th>        <th class=\"col_heading level0 col27\" >27</th>    </tr>    <tr>        <th class=\"blank level1\" ></th>        <th class=\"col_heading level1 col0\" >Yr</th>        <th class=\"col_heading level1 col1\" >Class</th>        <th class=\"col_heading level1 col2\" >Team</th>        <th class=\"col_heading level1 col3\" ><a href=\"http://en.wikipedia.org/wiki/Brands_Hatch?curid=1068202\">BHI</a></th>        <th class=\"col_heading level1 col4\" ><a href=\"http://en.wikipedia.org/wiki/Brands_Hatch?curid=1068202\">BHI</a></th>        <th class=\"col_heading level1 col5\" ><a href=\"http://en.wikipedia.org/wiki/Oulton_Park?curid=3347772\">OUL</a></th>        <th class=\"col_heading level1 col6\" ><a href=\"http://en.wikipedia.org/wiki/Oulton_Park?curid=3347772\">OUL</a></th>        <th class=\"col_heading level1 col7\" ><a href=\"http://en.wikipedia.org/wiki/Donington_Park?curid=391884\">DON</a></th>        <th class=\"col_heading level1 col8\" ><a href=\"http://en.wikipedia.org/wiki/Thruxton_Circuit?curid=3538081\">THR</a></th>        <th class=\"col_heading level1 col9\" ><a href=\"http://en.wikipedia.org/wiki/Thruxton_Circuit?curid=3538081\">THR</a></th>        <th class=\"col_heading level1 col10\" ><a href=\"http://en.wikipedia.org/wiki/Snetterton_Motor_Racing_Circuit?curid=4237101\">SNE</a></th>        <th class=\"col_heading level1 col11\" ><a href=\"http://en.wikipedia.org/wiki/Snetterton_Motor_Racing_Circuit?curid=4237101\">SNE</a></th>        <th class=\"col_heading level1 col12\" ><a href=\"http://en.wikipedia.org/wiki/Knockhill_Racing_Circuit?curid=4958777\">KNO</a></th>        <th class=\"col_heading level1 col13\" ><a href=\"http://en.wikipedia.org/wiki/Mallory_Park?curid=4851360\">MAL</a></th>        <th class=\"col_heading level1 col14\" ><a href=\"http://en.wikipedia.org/wiki/Brands_Hatch?curid=1068202\">BHGP</a></th>        <th class=\"col_heading level1 col15\" ><a href=\"http://en.wikipedia.org/wiki/Brands_Hatch?curid=1068202\">BHGP</a></th>        <th class=\"col_heading level1 col16\" ><a href=\"http://en.wikipedia.org/wiki/Brands_Hatch?curid=1068202\">BHGP</a></th>        <th class=\"col_heading level1 col17\" ><a href=\"http://en.wikipedia.org/wiki/Cadwell_Park?curid=2921905\">CAD</a></th>        <th class=\"col_heading level1 col18\" ><a href=\"http://en.wikipedia.org/wiki/Cadwell_Park?curid=2921905\">CAD</a></th>        <th class=\"col_heading level1 col19\" ><a href=\"http://en.wikipedia.org/wiki/Croft_Circuit?curid=3606322\">CRO</a></th>        <th class=\"col_heading level1 col20\" ><a href=\"http://en.wikipedia.org/wiki/Croft_Circuit?curid=3606322\">CRO</a></th>        <th class=\"col_heading level1 col21\" ><a href=\"http://en.wikipedia.org/wiki/Silverstone_Circuit?curid=522676\">SIL</a></th>        <th class=\"col_heading level1 col22\" ><a href=\"http://en.wikipedia.org/wiki/Silverstone_Circuit?curid=522676\">SIL</a></th>        <th class=\"col_heading level1 col23\" ><a href=\"http://en.wikipedia.org/wiki/Oulton_Park?curid=3347772\">OUL</a></th>        <th class=\"col_heading level1 col24\" ><a href=\"http://en.wikipedia.org/wiki/Oulton_Park?curid=3347772\">OUL</a></th>        <th class=\"col_heading level1 col25\" ><a href=\"http://en.wikipedia.org/wiki/Oulton_Park?curid=3347772\">OUL</a></th>        <th class=\"col_heading level1 col26\" >Pos</th>        <th class=\"col_heading level1 col27\" >Pts</th>    </tr>    <tr>        <th class=\"blank level2\" ></th>        <th class=\"col_heading level2 col0\" >Yr</th>        <th class=\"col_heading level2 col1\" >Class</th>        <th class=\"col_heading level2 col2\" >Team</th>        <th class=\"col_heading level2 col3\" >R1</th>        <th class=\"col_heading level2 col4\" >R2</th>        <th class=\"col_heading level2 col5\" >R1</th>        <th class=\"col_heading level2 col6\" >R2</th>        <th class=\"col_heading level2 col7\" >R1</th>        <th class=\"col_heading level2 col8\" >R1</th>        <th class=\"col_heading level2 col9\" >R2</th>        <th class=\"col_heading level2 col10\" >R1</th>        <th class=\"col_heading level2 col11\" >R2</th>        <th class=\"col_heading level2 col12\" >R1</th>        <th class=\"col_heading level2 col13\" >R2</th>        <th class=\"col_heading level2 col14\" >R1</th>        <th class=\"col_heading level2 col15\" >R2</th>        <th class=\"col_heading level2 col16\" >R3</th>        <th class=\"col_heading level2 col17\" >R1</th>        <th class=\"col_heading level2 col18\" >R2</th>        <th class=\"col_heading level2 col19\" >R1</th>        <th class=\"col_heading level2 col20\" >R2</th>        <th class=\"col_heading level2 col21\" >R1</th>        <th class=\"col_heading level2 col22\" >R2</th>        <th class=\"col_heading level2 col23\" >R1</th>        <th class=\"col_heading level2 col24\" >R2</th>        <th class=\"col_heading level2 col25\" >R3</th>        <th class=\"col_heading level2 col26\" >Pos</th>        <th class=\"col_heading level2 col27\" >Pts</th>    </tr></thead><tbody>\n",
       "        </tbody></table>"
      ],
      "text/plain": [
       "<pandas.io.formats.style.Styler at 0x7f5f2218af90>"
      ]
     },
     "metadata": {},
     "output_type": "display_data"
    },
    {
     "name": "stdout",
     "output_type": "stream",
     "text": [
      "((LinkedString('Year', links=()), LinkedString('Album', links=()), LinkedString('Peak positions', links=()), LinkedString('Peak positions', links=()), LinkedString('Peak positions', links=()), LinkedString('Peak positions', links=()), LinkedString('Peak positions', links=()), LinkedString('Peak positions', links=()), LinkedString('Peak positions', links=()), LinkedString('Peak positions', links=()), LinkedString('Peak positions', links=()), LinkedString('Peak positions', links=()), LinkedString('Certification', links=()), LinkedString('Notes', links=())), (LinkedString('Year', links=()), LinkedString('Album', links=()), LinkedString('USA', links=((0, 3, 'http://en.wikipedia.org/wiki/Billboard_200?curid=730350'),)), LinkedString('AUS', links=((0, 3, 'http://en.wikipedia.org/wiki/ARIA_Charts?curid=3002226'),)), LinkedString('BEL (Vl)', links=((0, 8, 'http://en.wikipedia.org/wiki/Ultratop?curid=6836546'),)), LinkedString('DEN', links=((0, 3, 'http://en.wikipedia.org/wiki/Tracklisten?curid=14496566'),)), LinkedString('FRA', links=((0, 3, \"http://en.wikipedia.org/wiki/Syndicat_National_de_l'Édition_Phonographique?curid=4565593\"),)), LinkedString('NLD', links=((0, 3, 'http://en.wikipedia.org/wiki/MegaCharts?curid=6013155'),)), LinkedString('NOR', links=((0, 3, 'http://en.wikipedia.org/wiki/VG-lista?curid=8262087'),)), LinkedString('NZ', links=((0, 2, 'http://en.wikipedia.org/wiki/Recording_Industry_Association_of_New_Zealand?curid=1588487'),)), LinkedString('SWE', links=((0, 3, 'http://en.wikipedia.org/wiki/Sverigetopplistan?curid=11002747'),)), LinkedString('SUI', links=((0, 3, 'http://en.wikipedia.org/wiki/Swiss_Music_Charts?curid=17054761'),)), LinkedString('Certification', links=()), LinkedString('Notes', links=())))\n",
      "1 (1, 5, 11, 'short-uppercase-acronyms') None None\n"
     ]
    },
    {
     "data": {
      "text/html": [
       "<style  type=\"text/css\" >\n",
       "    #T_8feec1a0_358e_11eb_81c0_00259091f1e8 .col_heading.level0 {\n",
       "          display: none;\n",
       "    }    #T_8feec1a0_358e_11eb_81c0_00259091f1e8 .col_heading.level2.col5 {\n",
       "          background-color: #ff0;\n",
       "    }    #T_8feec1a0_358e_11eb_81c0_00259091f1e8 .col_heading.level2.col6 {\n",
       "          background-color: #ff0;\n",
       "    }    #T_8feec1a0_358e_11eb_81c0_00259091f1e8 .col_heading.level2.col7 {\n",
       "          background-color: #ff0;\n",
       "    }    #T_8feec1a0_358e_11eb_81c0_00259091f1e8 .col_heading.level2.col8 {\n",
       "          background-color: #ff0;\n",
       "    }    #T_8feec1a0_358e_11eb_81c0_00259091f1e8 .col_heading.level2.col9 {\n",
       "          background-color: #ff0;\n",
       "    }    #T_8feec1a0_358e_11eb_81c0_00259091f1e8 .col_heading.level2.col10 {\n",
       "          background-color: #ff0;\n",
       "    }    #T_8feec1a0_358e_11eb_81c0_00259091f1e8 .col_heading.level2.col11 {\n",
       "          background-color: #ff0;\n",
       "    }</style><table id=\"T_8feec1a0_358e_11eb_81c0_00259091f1e8\" ><thead>    <tr>        <th class=\"blank level0\" ></th>        <th class=\"col_heading level0 col0\" >0</th>        <th class=\"col_heading level0 col1\" >1</th>        <th class=\"col_heading level0 col2\" >2</th>        <th class=\"col_heading level0 col3\" >3</th>        <th class=\"col_heading level0 col4\" >4</th>        <th class=\"col_heading level0 col5\" >5</th>        <th class=\"col_heading level0 col6\" >6</th>        <th class=\"col_heading level0 col7\" >7</th>        <th class=\"col_heading level0 col8\" >8</th>        <th class=\"col_heading level0 col9\" >9</th>        <th class=\"col_heading level0 col10\" >10</th>        <th class=\"col_heading level0 col11\" >11</th>        <th class=\"col_heading level0 col12\" >12</th>        <th class=\"col_heading level0 col13\" >13</th>    </tr>    <tr>        <th class=\"blank level1\" ></th>        <th class=\"col_heading level1 col0\" >Year</th>        <th class=\"col_heading level1 col1\" >Album</th>        <th class=\"col_heading level1 col2\" >Peak positions</th>        <th class=\"col_heading level1 col3\" >Peak positions</th>        <th class=\"col_heading level1 col4\" >Peak positions</th>        <th class=\"col_heading level1 col5\" >Peak positions</th>        <th class=\"col_heading level1 col6\" >Peak positions</th>        <th class=\"col_heading level1 col7\" >Peak positions</th>        <th class=\"col_heading level1 col8\" >Peak positions</th>        <th class=\"col_heading level1 col9\" >Peak positions</th>        <th class=\"col_heading level1 col10\" >Peak positions</th>        <th class=\"col_heading level1 col11\" >Peak positions</th>        <th class=\"col_heading level1 col12\" >Certification</th>        <th class=\"col_heading level1 col13\" >Notes</th>    </tr>    <tr>        <th class=\"blank level2\" ></th>        <th class=\"col_heading level2 col0\" >Year</th>        <th class=\"col_heading level2 col1\" >Album</th>        <th class=\"col_heading level2 col2\" ><a href=\"http://en.wikipedia.org/wiki/Billboard_200?curid=730350\">USA</a></th>        <th class=\"col_heading level2 col3\" ><a href=\"http://en.wikipedia.org/wiki/ARIA_Charts?curid=3002226\">AUS</a></th>        <th class=\"col_heading level2 col4\" ><a href=\"http://en.wikipedia.org/wiki/Ultratop?curid=6836546\">BEL (Vl)</a></th>        <th class=\"col_heading level2 col5\" ><a href=\"http://en.wikipedia.org/wiki/Tracklisten?curid=14496566\">DEN</a></th>        <th class=\"col_heading level2 col6\" ><a href=\"http://en.wikipedia.org/wiki/Syndicat_National_de_l'Édition_Phonographique?curid=4565593\">FRA</a></th>        <th class=\"col_heading level2 col7\" ><a href=\"http://en.wikipedia.org/wiki/MegaCharts?curid=6013155\">NLD</a></th>        <th class=\"col_heading level2 col8\" ><a href=\"http://en.wikipedia.org/wiki/VG-lista?curid=8262087\">NOR</a></th>        <th class=\"col_heading level2 col9\" ><a href=\"http://en.wikipedia.org/wiki/Recording_Industry_Association_of_New_Zealand?curid=1588487\">NZ</a></th>        <th class=\"col_heading level2 col10\" ><a href=\"http://en.wikipedia.org/wiki/Sverigetopplistan?curid=11002747\">SWE</a></th>        <th class=\"col_heading level2 col11\" ><a href=\"http://en.wikipedia.org/wiki/Swiss_Music_Charts?curid=17054761\">SUI</a></th>        <th class=\"col_heading level2 col12\" >Certification</th>        <th class=\"col_heading level2 col13\" >Notes</th>    </tr></thead><tbody>\n",
       "        </tbody></table>"
      ],
      "text/plain": [
       "<pandas.io.formats.style.Styler at 0x7f5f2810b610>"
      ]
     },
     "metadata": {},
     "output_type": "display_data"
    },
    {
     "name": "stdout",
     "output_type": "stream",
     "text": [
      "((LinkedString('Pos', links=()), LinkedString('Manufacturer', links=()), LinkedString('BHGP', links=((0, 4, 'http://en.wikipedia.org/wiki/Brands_Hatch?curid=1068202'),)), LinkedString('BHGP', links=((0, 4, 'http://en.wikipedia.org/wiki/Brands_Hatch?curid=1068202'),)), LinkedString('DON', links=((0, 3, 'http://en.wikipedia.org/wiki/Donington_Park?curid=391884'),)), LinkedString('DON', links=((0, 3, 'http://en.wikipedia.org/wiki/Donington_Park?curid=391884'),)), LinkedString('THR', links=((0, 3, 'http://en.wikipedia.org/wiki/Thruxton_Circuit?curid=3538081'),)), LinkedString('THR', links=((0, 3, 'http://en.wikipedia.org/wiki/Thruxton_Circuit?curid=3538081'),)), LinkedString('KNO', links=((0, 3, 'http://en.wikipedia.org/wiki/Knockhill?curid=4958777'),)), LinkedString('KNO', links=((0, 3, 'http://en.wikipedia.org/wiki/Knockhill?curid=4958777'),)), LinkedString('OUL', links=((0, 3, 'http://en.wikipedia.org/wiki/Oulton_Park?curid=3347772'),)), LinkedString('OUL', links=((0, 3, 'http://en.wikipedia.org/wiki/Oulton_Park?curid=3347772'),)), LinkedString('SIL', links=((0, 3, 'http://en.wikipedia.org/wiki/Silverstone?curid=522630'),)), LinkedString('SIL', links=((0, 3, 'http://en.wikipedia.org/wiki/Silverstone?curid=522630'),)), LinkedString('CRO', links=((0, 3, 'http://en.wikipedia.org/wiki/Croft_Circuit?curid=3606322'),)), LinkedString('CRO', links=((0, 3, 'http://en.wikipedia.org/wiki/Croft_Circuit?curid=3606322'),)), LinkedString('SNE', links=((0, 3, 'http://en.wikipedia.org/wiki/Snetterton_Motor_Racing_Circuit?curid=4237101'),)), LinkedString('SNE', links=((0, 3, 'http://en.wikipedia.org/wiki/Snetterton_Motor_Racing_Circuit?curid=4237101'),)), LinkedString('DON', links=((0, 3, 'http://en.wikipedia.org/wiki/Donington_Park?curid=391884'),)), LinkedString('DON', links=((0, 3, 'http://en.wikipedia.org/wiki/Donington_Park?curid=391884'),)), LinkedString('BHI', links=((0, 3, 'http://en.wikipedia.org/wiki/Brands_Hatch?curid=1068202'),)), LinkedString('BHI', links=((0, 3, 'http://en.wikipedia.org/wiki/Brands_Hatch?curid=1068202'),)), LinkedString('OUL', links=((0, 3, 'http://en.wikipedia.org/wiki/Oulton_Park?curid=3347772'),)), LinkedString('OUL', links=((0, 3, 'http://en.wikipedia.org/wiki/Oulton_Park?curid=3347772'),)), LinkedString('SIL', links=((0, 3, 'http://en.wikipedia.org/wiki/Silverstone?curid=522630'),)), LinkedString('SIL', links=((0, 3, 'http://en.wikipedia.org/wiki/Silverstone?curid=522630'),)), LinkedString('Pts', links=())),)\n",
      "1 (0, 2, 25, 'short-uppercase-acronyms') None None\n"
     ]
    },
    {
     "data": {
      "text/html": [
       "<style  type=\"text/css\" >\n",
       "    #T_8ff25158_358e_11eb_81c0_00259091f1e8 .col_heading.level0 {\n",
       "          display: none;\n",
       "    }    #T_8ff25158_358e_11eb_81c0_00259091f1e8 .col_heading.level1.col2 {\n",
       "          background-color: #ff0;\n",
       "    }    #T_8ff25158_358e_11eb_81c0_00259091f1e8 .col_heading.level1.col3 {\n",
       "          background-color: #ff0;\n",
       "    }    #T_8ff25158_358e_11eb_81c0_00259091f1e8 .col_heading.level1.col4 {\n",
       "          background-color: #ff0;\n",
       "    }    #T_8ff25158_358e_11eb_81c0_00259091f1e8 .col_heading.level1.col5 {\n",
       "          background-color: #ff0;\n",
       "    }    #T_8ff25158_358e_11eb_81c0_00259091f1e8 .col_heading.level1.col6 {\n",
       "          background-color: #ff0;\n",
       "    }    #T_8ff25158_358e_11eb_81c0_00259091f1e8 .col_heading.level1.col7 {\n",
       "          background-color: #ff0;\n",
       "    }    #T_8ff25158_358e_11eb_81c0_00259091f1e8 .col_heading.level1.col8 {\n",
       "          background-color: #ff0;\n",
       "    }    #T_8ff25158_358e_11eb_81c0_00259091f1e8 .col_heading.level1.col9 {\n",
       "          background-color: #ff0;\n",
       "    }    #T_8ff25158_358e_11eb_81c0_00259091f1e8 .col_heading.level1.col10 {\n",
       "          background-color: #ff0;\n",
       "    }    #T_8ff25158_358e_11eb_81c0_00259091f1e8 .col_heading.level1.col11 {\n",
       "          background-color: #ff0;\n",
       "    }    #T_8ff25158_358e_11eb_81c0_00259091f1e8 .col_heading.level1.col12 {\n",
       "          background-color: #ff0;\n",
       "    }    #T_8ff25158_358e_11eb_81c0_00259091f1e8 .col_heading.level1.col13 {\n",
       "          background-color: #ff0;\n",
       "    }    #T_8ff25158_358e_11eb_81c0_00259091f1e8 .col_heading.level1.col14 {\n",
       "          background-color: #ff0;\n",
       "    }    #T_8ff25158_358e_11eb_81c0_00259091f1e8 .col_heading.level1.col15 {\n",
       "          background-color: #ff0;\n",
       "    }    #T_8ff25158_358e_11eb_81c0_00259091f1e8 .col_heading.level1.col16 {\n",
       "          background-color: #ff0;\n",
       "    }    #T_8ff25158_358e_11eb_81c0_00259091f1e8 .col_heading.level1.col17 {\n",
       "          background-color: #ff0;\n",
       "    }    #T_8ff25158_358e_11eb_81c0_00259091f1e8 .col_heading.level1.col18 {\n",
       "          background-color: #ff0;\n",
       "    }    #T_8ff25158_358e_11eb_81c0_00259091f1e8 .col_heading.level1.col19 {\n",
       "          background-color: #ff0;\n",
       "    }    #T_8ff25158_358e_11eb_81c0_00259091f1e8 .col_heading.level1.col20 {\n",
       "          background-color: #ff0;\n",
       "    }    #T_8ff25158_358e_11eb_81c0_00259091f1e8 .col_heading.level1.col21 {\n",
       "          background-color: #ff0;\n",
       "    }    #T_8ff25158_358e_11eb_81c0_00259091f1e8 .col_heading.level1.col22 {\n",
       "          background-color: #ff0;\n",
       "    }    #T_8ff25158_358e_11eb_81c0_00259091f1e8 .col_heading.level1.col23 {\n",
       "          background-color: #ff0;\n",
       "    }    #T_8ff25158_358e_11eb_81c0_00259091f1e8 .col_heading.level1.col24 {\n",
       "          background-color: #ff0;\n",
       "    }    #T_8ff25158_358e_11eb_81c0_00259091f1e8 .col_heading.level1.col25 {\n",
       "          background-color: #ff0;\n",
       "    }</style><table id=\"T_8ff25158_358e_11eb_81c0_00259091f1e8\" ><thead>    <tr>        <th class=\"blank level0\" ></th>        <th class=\"col_heading level0 col0\" >0</th>        <th class=\"col_heading level0 col1\" >1</th>        <th class=\"col_heading level0 col2\" >2</th>        <th class=\"col_heading level0 col3\" >3</th>        <th class=\"col_heading level0 col4\" >4</th>        <th class=\"col_heading level0 col5\" >5</th>        <th class=\"col_heading level0 col6\" >6</th>        <th class=\"col_heading level0 col7\" >7</th>        <th class=\"col_heading level0 col8\" >8</th>        <th class=\"col_heading level0 col9\" >9</th>        <th class=\"col_heading level0 col10\" >10</th>        <th class=\"col_heading level0 col11\" >11</th>        <th class=\"col_heading level0 col12\" >12</th>        <th class=\"col_heading level0 col13\" >13</th>        <th class=\"col_heading level0 col14\" >14</th>        <th class=\"col_heading level0 col15\" >15</th>        <th class=\"col_heading level0 col16\" >16</th>        <th class=\"col_heading level0 col17\" >17</th>        <th class=\"col_heading level0 col18\" >18</th>        <th class=\"col_heading level0 col19\" >19</th>        <th class=\"col_heading level0 col20\" >20</th>        <th class=\"col_heading level0 col21\" >21</th>        <th class=\"col_heading level0 col22\" >22</th>        <th class=\"col_heading level0 col23\" >23</th>        <th class=\"col_heading level0 col24\" >24</th>        <th class=\"col_heading level0 col25\" >25</th>        <th class=\"col_heading level0 col26\" >26</th>    </tr>    <tr>        <th class=\"blank level1\" ></th>        <th class=\"col_heading level1 col0\" >Pos</th>        <th class=\"col_heading level1 col1\" >Manufacturer</th>        <th class=\"col_heading level1 col2\" ><a href=\"http://en.wikipedia.org/wiki/Brands_Hatch?curid=1068202\">BHGP</a></th>        <th class=\"col_heading level1 col3\" ><a href=\"http://en.wikipedia.org/wiki/Brands_Hatch?curid=1068202\">BHGP</a></th>        <th class=\"col_heading level1 col4\" ><a href=\"http://en.wikipedia.org/wiki/Donington_Park?curid=391884\">DON</a></th>        <th class=\"col_heading level1 col5\" ><a href=\"http://en.wikipedia.org/wiki/Donington_Park?curid=391884\">DON</a></th>        <th class=\"col_heading level1 col6\" ><a href=\"http://en.wikipedia.org/wiki/Thruxton_Circuit?curid=3538081\">THR</a></th>        <th class=\"col_heading level1 col7\" ><a href=\"http://en.wikipedia.org/wiki/Thruxton_Circuit?curid=3538081\">THR</a></th>        <th class=\"col_heading level1 col8\" ><a href=\"http://en.wikipedia.org/wiki/Knockhill?curid=4958777\">KNO</a></th>        <th class=\"col_heading level1 col9\" ><a href=\"http://en.wikipedia.org/wiki/Knockhill?curid=4958777\">KNO</a></th>        <th class=\"col_heading level1 col10\" ><a href=\"http://en.wikipedia.org/wiki/Oulton_Park?curid=3347772\">OUL</a></th>        <th class=\"col_heading level1 col11\" ><a href=\"http://en.wikipedia.org/wiki/Oulton_Park?curid=3347772\">OUL</a></th>        <th class=\"col_heading level1 col12\" ><a href=\"http://en.wikipedia.org/wiki/Silverstone?curid=522630\">SIL</a></th>        <th class=\"col_heading level1 col13\" ><a href=\"http://en.wikipedia.org/wiki/Silverstone?curid=522630\">SIL</a></th>        <th class=\"col_heading level1 col14\" ><a href=\"http://en.wikipedia.org/wiki/Croft_Circuit?curid=3606322\">CRO</a></th>        <th class=\"col_heading level1 col15\" ><a href=\"http://en.wikipedia.org/wiki/Croft_Circuit?curid=3606322\">CRO</a></th>        <th class=\"col_heading level1 col16\" ><a href=\"http://en.wikipedia.org/wiki/Snetterton_Motor_Racing_Circuit?curid=4237101\">SNE</a></th>        <th class=\"col_heading level1 col17\" ><a href=\"http://en.wikipedia.org/wiki/Snetterton_Motor_Racing_Circuit?curid=4237101\">SNE</a></th>        <th class=\"col_heading level1 col18\" ><a href=\"http://en.wikipedia.org/wiki/Donington_Park?curid=391884\">DON</a></th>        <th class=\"col_heading level1 col19\" ><a href=\"http://en.wikipedia.org/wiki/Donington_Park?curid=391884\">DON</a></th>        <th class=\"col_heading level1 col20\" ><a href=\"http://en.wikipedia.org/wiki/Brands_Hatch?curid=1068202\">BHI</a></th>        <th class=\"col_heading level1 col21\" ><a href=\"http://en.wikipedia.org/wiki/Brands_Hatch?curid=1068202\">BHI</a></th>        <th class=\"col_heading level1 col22\" ><a href=\"http://en.wikipedia.org/wiki/Oulton_Park?curid=3347772\">OUL</a></th>        <th class=\"col_heading level1 col23\" ><a href=\"http://en.wikipedia.org/wiki/Oulton_Park?curid=3347772\">OUL</a></th>        <th class=\"col_heading level1 col24\" ><a href=\"http://en.wikipedia.org/wiki/Silverstone?curid=522630\">SIL</a></th>        <th class=\"col_heading level1 col25\" ><a href=\"http://en.wikipedia.org/wiki/Silverstone?curid=522630\">SIL</a></th>        <th class=\"col_heading level1 col26\" >Pts</th>    </tr></thead><tbody>\n",
       "        </tbody></table>"
      ],
      "text/plain": [
       "<pandas.io.formats.style.Styler at 0x7f5f221bec90>"
      ]
     },
     "metadata": {},
     "output_type": "display_data"
    },
    {
     "name": "stdout",
     "output_type": "stream",
     "text": [
      "((LinkedString('Rank', links=()), LinkedString('Manufacturer', links=()), LinkedString('Event', links=()), LinkedString('Event', links=()), LinkedString('Event', links=()), LinkedString('Event', links=()), LinkedString('Event', links=()), LinkedString('Event', links=()), LinkedString('Event', links=()), LinkedString('Total points', links=())), (LinkedString('Rank', links=()), LinkedString('Manufacturer', links=()), LinkedString('MON', links=((0, 3, 'http://en.wikipedia.org/wiki/Rallye_Automobile_Monte_Carlo?curid=227411'),)), LinkedString('SWE', links=((0, 3, 'http://en.wikipedia.org/wiki/Swedish_Rally?curid=469490'),)), LinkedString('NOR', links=((0, 3, 'http://en.wikipedia.org/wiki/Rally_Norway?curid=7274552'),)), LinkedString('MEX', links=((0, 3, 'http://en.wikipedia.org/wiki/Rally_Mexico?curid=1445558'),)), LinkedString('POR', links=((0, 3, 'http://en.wikipedia.org/wiki/Rally_de_Portugal?curid=5543374'),)), LinkedString('ARG', links=((0, 3, 'http://en.wikipedia.org/wiki/Rally_Argentina?curid=1445609'),)), LinkedString('ITA', links=((0, 3, \"http://en.wikipedia.org/wiki/Rally_d'Italia_Sardegna?curid=5468259\"),)), LinkedString('Total points', links=())))\n",
      "1 (1, 2, 8, 'short-uppercase-acronyms') None None\n"
     ]
    },
    {
     "data": {
      "text/html": [
       "<style  type=\"text/css\" >\n",
       "    #T_8ff5b55a_358e_11eb_81c0_00259091f1e8 .col_heading.level0 {\n",
       "          display: none;\n",
       "    }    #T_8ff5b55a_358e_11eb_81c0_00259091f1e8 .col_heading.level2.col2 {\n",
       "          background-color: #ff0;\n",
       "    }    #T_8ff5b55a_358e_11eb_81c0_00259091f1e8 .col_heading.level2.col3 {\n",
       "          background-color: #ff0;\n",
       "    }    #T_8ff5b55a_358e_11eb_81c0_00259091f1e8 .col_heading.level2.col4 {\n",
       "          background-color: #ff0;\n",
       "    }    #T_8ff5b55a_358e_11eb_81c0_00259091f1e8 .col_heading.level2.col5 {\n",
       "          background-color: #ff0;\n",
       "    }    #T_8ff5b55a_358e_11eb_81c0_00259091f1e8 .col_heading.level2.col6 {\n",
       "          background-color: #ff0;\n",
       "    }    #T_8ff5b55a_358e_11eb_81c0_00259091f1e8 .col_heading.level2.col7 {\n",
       "          background-color: #ff0;\n",
       "    }    #T_8ff5b55a_358e_11eb_81c0_00259091f1e8 .col_heading.level2.col8 {\n",
       "          background-color: #ff0;\n",
       "    }</style><table id=\"T_8ff5b55a_358e_11eb_81c0_00259091f1e8\" ><thead>    <tr>        <th class=\"blank level0\" ></th>        <th class=\"col_heading level0 col0\" >0</th>        <th class=\"col_heading level0 col1\" >1</th>        <th class=\"col_heading level0 col2\" >2</th>        <th class=\"col_heading level0 col3\" >3</th>        <th class=\"col_heading level0 col4\" >4</th>        <th class=\"col_heading level0 col5\" >5</th>        <th class=\"col_heading level0 col6\" >6</th>        <th class=\"col_heading level0 col7\" >7</th>        <th class=\"col_heading level0 col8\" >8</th>        <th class=\"col_heading level0 col9\" >9</th>    </tr>    <tr>        <th class=\"blank level1\" ></th>        <th class=\"col_heading level1 col0\" >Rank</th>        <th class=\"col_heading level1 col1\" >Manufacturer</th>        <th class=\"col_heading level1 col2\" >Event</th>        <th class=\"col_heading level1 col3\" >Event</th>        <th class=\"col_heading level1 col4\" >Event</th>        <th class=\"col_heading level1 col5\" >Event</th>        <th class=\"col_heading level1 col6\" >Event</th>        <th class=\"col_heading level1 col7\" >Event</th>        <th class=\"col_heading level1 col8\" >Event</th>        <th class=\"col_heading level1 col9\" >Total points</th>    </tr>    <tr>        <th class=\"blank level2\" ></th>        <th class=\"col_heading level2 col0\" >Rank</th>        <th class=\"col_heading level2 col1\" >Manufacturer</th>        <th class=\"col_heading level2 col2\" ><a href=\"http://en.wikipedia.org/wiki/Rallye_Automobile_Monte_Carlo?curid=227411\">MON</a></th>        <th class=\"col_heading level2 col3\" ><a href=\"http://en.wikipedia.org/wiki/Swedish_Rally?curid=469490\">SWE</a></th>        <th class=\"col_heading level2 col4\" ><a href=\"http://en.wikipedia.org/wiki/Rally_Norway?curid=7274552\">NOR</a></th>        <th class=\"col_heading level2 col5\" ><a href=\"http://en.wikipedia.org/wiki/Rally_Mexico?curid=1445558\">MEX</a></th>        <th class=\"col_heading level2 col6\" ><a href=\"http://en.wikipedia.org/wiki/Rally_de_Portugal?curid=5543374\">POR</a></th>        <th class=\"col_heading level2 col7\" ><a href=\"http://en.wikipedia.org/wiki/Rally_Argentina?curid=1445609\">ARG</a></th>        <th class=\"col_heading level2 col8\" ><a href=\"http://en.wikipedia.org/wiki/Rally_d'Italia_Sardegna?curid=5468259\">ITA</a></th>        <th class=\"col_heading level2 col9\" >Total points</th>    </tr></thead><tbody>\n",
       "        </tbody></table>"
      ],
      "text/plain": [
       "<pandas.io.formats.style.Styler at 0x7f5f222caa10>"
      ]
     },
     "metadata": {},
     "output_type": "display_data"
    },
    {
     "name": "stdout",
     "output_type": "stream",
     "text": [
      "((LinkedString('', links=()), LinkedString('Entrant', links=()), LinkedString('Engine', links=()), LinkedString('Drivers', links=()), LinkedString('MON', links=((0, 3, 'http://en.wikipedia.org/wiki/1959_Monaco_Grand_Prix?curid=1122185'),)), LinkedString('500', links=((0, 3, 'http://en.wikipedia.org/wiki/1959_Indianapolis_500?curid=1122187'),)), LinkedString('NED', links=((0, 3, 'http://en.wikipedia.org/wiki/1959_Dutch_Grand_Prix?curid=1122188'),)), LinkedString('FRA', links=((0, 3, 'http://en.wikipedia.org/wiki/1959_French_Grand_Prix?curid=1122189'),)), LinkedString('GBR', links=((0, 3, 'http://en.wikipedia.org/wiki/1959_British_Grand_Prix?curid=1122191'),)), LinkedString('GER', links=((0, 3, 'http://en.wikipedia.org/wiki/1959_German_Grand_Prix?curid=1122210'),)), LinkedString('POR', links=((0, 3, 'http://en.wikipedia.org/wiki/1959_Portuguese_Grand_Prix?curid=1122212'),)), LinkedString('ITA', links=((0, 3, 'http://en.wikipedia.org/wiki/1959_Italian_Grand_Prix?curid=1122214'),)), LinkedString('USA', links=((0, 3, 'http://en.wikipedia.org/wiki/1959_United_States_Grand_Prix?curid=1122215'),)), LinkedString('', links=()), LinkedString('Points', links=()), LinkedString('WCC', links=())),)\n",
      "1 (0, 6, 12, 'short-uppercase-acronyms') None None\n"
     ]
    },
    {
     "data": {
      "text/html": [
       "<style  type=\"text/css\" >\n",
       "    #T_8ff940b2_358e_11eb_81c0_00259091f1e8 .col_heading.level0 {\n",
       "          display: none;\n",
       "    }    #T_8ff940b2_358e_11eb_81c0_00259091f1e8 .col_heading.level1.col6 {\n",
       "          background-color: #ff0;\n",
       "    }    #T_8ff940b2_358e_11eb_81c0_00259091f1e8 .col_heading.level1.col7 {\n",
       "          background-color: #ff0;\n",
       "    }    #T_8ff940b2_358e_11eb_81c0_00259091f1e8 .col_heading.level1.col8 {\n",
       "          background-color: #ff0;\n",
       "    }    #T_8ff940b2_358e_11eb_81c0_00259091f1e8 .col_heading.level1.col9 {\n",
       "          background-color: #ff0;\n",
       "    }    #T_8ff940b2_358e_11eb_81c0_00259091f1e8 .col_heading.level1.col10 {\n",
       "          background-color: #ff0;\n",
       "    }    #T_8ff940b2_358e_11eb_81c0_00259091f1e8 .col_heading.level1.col11 {\n",
       "          background-color: #ff0;\n",
       "    }    #T_8ff940b2_358e_11eb_81c0_00259091f1e8 .col_heading.level1.col12 {\n",
       "          background-color: #ff0;\n",
       "    }</style><table id=\"T_8ff940b2_358e_11eb_81c0_00259091f1e8\" ><thead>    <tr>        <th class=\"blank level0\" ></th>        <th class=\"col_heading level0 col0\" >0</th>        <th class=\"col_heading level0 col1\" >1</th>        <th class=\"col_heading level0 col2\" >2</th>        <th class=\"col_heading level0 col3\" >3</th>        <th class=\"col_heading level0 col4\" >4</th>        <th class=\"col_heading level0 col5\" >5</th>        <th class=\"col_heading level0 col6\" >6</th>        <th class=\"col_heading level0 col7\" >7</th>        <th class=\"col_heading level0 col8\" >8</th>        <th class=\"col_heading level0 col9\" >9</th>        <th class=\"col_heading level0 col10\" >10</th>        <th class=\"col_heading level0 col11\" >11</th>        <th class=\"col_heading level0 col12\" >12</th>        <th class=\"col_heading level0 col13\" >13</th>        <th class=\"col_heading level0 col14\" >14</th>        <th class=\"col_heading level0 col15\" >15</th>    </tr>    <tr>        <th class=\"blank level1\" ></th>        <th class=\"col_heading level1 col0\" ></th>        <th class=\"col_heading level1 col1\" >Entrant</th>        <th class=\"col_heading level1 col2\" >Engine</th>        <th class=\"col_heading level1 col3\" >Drivers</th>        <th class=\"col_heading level1 col4\" ><a href=\"http://en.wikipedia.org/wiki/1959_Monaco_Grand_Prix?curid=1122185\">MON</a></th>        <th class=\"col_heading level1 col5\" ><a href=\"http://en.wikipedia.org/wiki/1959_Indianapolis_500?curid=1122187\">500</a></th>        <th class=\"col_heading level1 col6\" ><a href=\"http://en.wikipedia.org/wiki/1959_Dutch_Grand_Prix?curid=1122188\">NED</a></th>        <th class=\"col_heading level1 col7\" ><a href=\"http://en.wikipedia.org/wiki/1959_French_Grand_Prix?curid=1122189\">FRA</a></th>        <th class=\"col_heading level1 col8\" ><a href=\"http://en.wikipedia.org/wiki/1959_British_Grand_Prix?curid=1122191\">GBR</a></th>        <th class=\"col_heading level1 col9\" ><a href=\"http://en.wikipedia.org/wiki/1959_German_Grand_Prix?curid=1122210\">GER</a></th>        <th class=\"col_heading level1 col10\" ><a href=\"http://en.wikipedia.org/wiki/1959_Portuguese_Grand_Prix?curid=1122212\">POR</a></th>        <th class=\"col_heading level1 col11\" ><a href=\"http://en.wikipedia.org/wiki/1959_Italian_Grand_Prix?curid=1122214\">ITA</a></th>        <th class=\"col_heading level1 col12\" ><a href=\"http://en.wikipedia.org/wiki/1959_United_States_Grand_Prix?curid=1122215\">USA</a></th>        <th class=\"col_heading level1 col13\" ></th>        <th class=\"col_heading level1 col14\" >Points</th>        <th class=\"col_heading level1 col15\" >WCC</th>    </tr></thead><tbody>\n",
       "        </tbody></table>"
      ],
      "text/plain": [
       "<pandas.io.formats.style.Styler at 0x7f5f221caf10>"
      ]
     },
     "metadata": {},
     "output_type": "display_data"
    },
    {
     "name": "stdout",
     "output_type": "stream",
     "text": [
      "((LinkedString('', links=()), LinkedString('CAP', links=()), LinkedString('FRA', links=()), LinkedString('MAS', links=())),)\n",
      "1 (0, 1, 3, 'short-uppercase-acronyms') None None\n"
     ]
    },
    {
     "data": {
      "text/html": [
       "<style  type=\"text/css\" >\n",
       "    #T_8ffb59e2_358e_11eb_81c0_00259091f1e8 .col_heading.level0 {\n",
       "          display: none;\n",
       "    }    #T_8ffb59e2_358e_11eb_81c0_00259091f1e8 .col_heading.level1.col1 {\n",
       "          background-color: #ff0;\n",
       "    }    #T_8ffb59e2_358e_11eb_81c0_00259091f1e8 .col_heading.level1.col2 {\n",
       "          background-color: #ff0;\n",
       "    }    #T_8ffb59e2_358e_11eb_81c0_00259091f1e8 .col_heading.level1.col3 {\n",
       "          background-color: #ff0;\n",
       "    }</style><table id=\"T_8ffb59e2_358e_11eb_81c0_00259091f1e8\" ><thead>    <tr>        <th class=\"blank level0\" ></th>        <th class=\"col_heading level0 col0\" >0</th>        <th class=\"col_heading level0 col1\" >1</th>        <th class=\"col_heading level0 col2\" >2</th>        <th class=\"col_heading level0 col3\" >3</th>    </tr>    <tr>        <th class=\"blank level1\" ></th>        <th class=\"col_heading level1 col0\" ></th>        <th class=\"col_heading level1 col1\" >CAP</th>        <th class=\"col_heading level1 col2\" >FRA</th>        <th class=\"col_heading level1 col3\" >MAS</th>    </tr></thead><tbody>\n",
       "        </tbody></table>"
      ],
      "text/plain": [
       "<pandas.io.formats.style.Styler at 0x7f5f28125f10>"
      ]
     },
     "metadata": {},
     "output_type": "display_data"
    },
    {
     "name": "stdout",
     "output_type": "stream",
     "text": [
      "((LinkedString('Year', links=()), LinkedString('Single', links=()), LinkedString('Peak chart positions', links=()), LinkedString('Peak chart positions', links=()), LinkedString('Peak chart positions', links=()), LinkedString('Peak chart positions', links=()), LinkedString('Peak chart positions', links=()), LinkedString('Album', links=())), (LinkedString('Year', links=()), LinkedString('Single', links=()), LinkedString('AUT', links=((0, 3, 'http://en.wikipedia.org/wiki/Austrian_Singles_Chart?curid=13757814'),)), LinkedString('FRA', links=((0, 3, 'http://en.wikipedia.org/wiki/French_Singles_Chart?curid=4565593'),)), LinkedString('GER', links=((0, 3, 'http://en.wikipedia.org/wiki/German_Singles_Chart?curid=6170448'),)), LinkedString('ITA', links=((0, 3, 'http://en.wikipedia.org/wiki/Italian_Singles_Chart?curid=4464404'),)), LinkedString('SUI', links=((0, 3, 'http://en.wikipedia.org/wiki/Swiss_Singles_Chart?curid=17054761'),)), LinkedString('Album', links=())))\n",
      "1 (1, 2, 6, 'short-uppercase-acronyms') None None\n"
     ]
    },
    {
     "data": {
      "text/html": [
       "<style  type=\"text/css\" >\n",
       "    #T_8ffe2d16_358e_11eb_81c0_00259091f1e8 .col_heading.level0 {\n",
       "          display: none;\n",
       "    }    #T_8ffe2d16_358e_11eb_81c0_00259091f1e8 .col_heading.level2.col2 {\n",
       "          background-color: #ff0;\n",
       "    }    #T_8ffe2d16_358e_11eb_81c0_00259091f1e8 .col_heading.level2.col3 {\n",
       "          background-color: #ff0;\n",
       "    }    #T_8ffe2d16_358e_11eb_81c0_00259091f1e8 .col_heading.level2.col4 {\n",
       "          background-color: #ff0;\n",
       "    }    #T_8ffe2d16_358e_11eb_81c0_00259091f1e8 .col_heading.level2.col5 {\n",
       "          background-color: #ff0;\n",
       "    }    #T_8ffe2d16_358e_11eb_81c0_00259091f1e8 .col_heading.level2.col6 {\n",
       "          background-color: #ff0;\n",
       "    }</style><table id=\"T_8ffe2d16_358e_11eb_81c0_00259091f1e8\" ><thead>    <tr>        <th class=\"blank level0\" ></th>        <th class=\"col_heading level0 col0\" >0</th>        <th class=\"col_heading level0 col1\" >1</th>        <th class=\"col_heading level0 col2\" >2</th>        <th class=\"col_heading level0 col3\" >3</th>        <th class=\"col_heading level0 col4\" >4</th>        <th class=\"col_heading level0 col5\" >5</th>        <th class=\"col_heading level0 col6\" >6</th>        <th class=\"col_heading level0 col7\" >7</th>    </tr>    <tr>        <th class=\"blank level1\" ></th>        <th class=\"col_heading level1 col0\" >Year</th>        <th class=\"col_heading level1 col1\" >Single</th>        <th class=\"col_heading level1 col2\" >Peak chart positions</th>        <th class=\"col_heading level1 col3\" >Peak chart positions</th>        <th class=\"col_heading level1 col4\" >Peak chart positions</th>        <th class=\"col_heading level1 col5\" >Peak chart positions</th>        <th class=\"col_heading level1 col6\" >Peak chart positions</th>        <th class=\"col_heading level1 col7\" >Album</th>    </tr>    <tr>        <th class=\"blank level2\" ></th>        <th class=\"col_heading level2 col0\" >Year</th>        <th class=\"col_heading level2 col1\" >Single</th>        <th class=\"col_heading level2 col2\" ><a href=\"http://en.wikipedia.org/wiki/Austrian_Singles_Chart?curid=13757814\">AUT</a></th>        <th class=\"col_heading level2 col3\" ><a href=\"http://en.wikipedia.org/wiki/French_Singles_Chart?curid=4565593\">FRA</a></th>        <th class=\"col_heading level2 col4\" ><a href=\"http://en.wikipedia.org/wiki/German_Singles_Chart?curid=6170448\">GER</a></th>        <th class=\"col_heading level2 col5\" ><a href=\"http://en.wikipedia.org/wiki/Italian_Singles_Chart?curid=4464404\">ITA</a></th>        <th class=\"col_heading level2 col6\" ><a href=\"http://en.wikipedia.org/wiki/Swiss_Singles_Chart?curid=17054761\">SUI</a></th>        <th class=\"col_heading level2 col7\" >Album</th>    </tr></thead><tbody>\n",
       "        </tbody></table>"
      ],
      "text/plain": [
       "<pandas.io.formats.style.Styler at 0x7f5f28125210>"
      ]
     },
     "metadata": {},
     "output_type": "display_data"
    },
    {
     "name": "stdout",
     "output_type": "stream",
     "text": [
      "((LinkedString('Year', links=()), LinkedString('Album details', links=()), LinkedString('Peak chart positions', links=()), LinkedString('Peak chart positions', links=()), LinkedString('Peak chart positions', links=()), LinkedString('Peak chart positions', links=()), LinkedString('Peak chart positions', links=()), LinkedString('Peak chart positions', links=()), LinkedString('Peak chart positions', links=()), LinkedString('Peak chart positions', links=()), LinkedString('Peak chart positions', links=())), (LinkedString('Year', links=()), LinkedString('Album details', links=()), LinkedString('UK', links=((0, 2, 'http://en.wikipedia.org/wiki/UK_Albums_Chart?curid=2465857'),)), LinkedString('US', links=((0, 2, 'http://en.wikipedia.org/wiki/Billboard_200?curid=730350'),)), LinkedString('AUS', links=((0, 3, 'http://en.wikipedia.org/wiki/ARIA_Charts?curid=3002226'),)), LinkedString('AUT', links=((0, 3, 'http://en.wikipedia.org/wiki/Austria?curid=26964606'),)), LinkedString('GER', links=((0, 3, 'http://en.wikipedia.org/wiki/Media_Control_Charts?curid=6170448'),)), LinkedString('NLD', links=((0, 3, 'http://en.wikipedia.org/wiki/MegaCharts?curid=6013155'),)), LinkedString('NZ', links=((0, 2, 'http://en.wikipedia.org/wiki/Recording_Industry_Association_of_New_Zealand?curid=1588487'),)), LinkedString('SWE', links=((0, 3, 'http://en.wikipedia.org/wiki/Sverigetopplistan?curid=11002747'),)), LinkedString('SWI', links=((0, 3, 'http://en.wikipedia.org/wiki/Swiss_Music_Charts?curid=17054761'),))))\n",
      "1 (1, 2, 10, 'short-uppercase-acronyms') None None\n"
     ]
    },
    {
     "data": {
      "text/html": [
       "<style  type=\"text/css\" >\n",
       "    #T_90015ee6_358e_11eb_81c0_00259091f1e8 .col_heading.level0 {\n",
       "          display: none;\n",
       "    }    #T_90015ee6_358e_11eb_81c0_00259091f1e8 .col_heading.level2.col2 {\n",
       "          background-color: #ff0;\n",
       "    }    #T_90015ee6_358e_11eb_81c0_00259091f1e8 .col_heading.level2.col3 {\n",
       "          background-color: #ff0;\n",
       "    }    #T_90015ee6_358e_11eb_81c0_00259091f1e8 .col_heading.level2.col4 {\n",
       "          background-color: #ff0;\n",
       "    }    #T_90015ee6_358e_11eb_81c0_00259091f1e8 .col_heading.level2.col5 {\n",
       "          background-color: #ff0;\n",
       "    }    #T_90015ee6_358e_11eb_81c0_00259091f1e8 .col_heading.level2.col6 {\n",
       "          background-color: #ff0;\n",
       "    }    #T_90015ee6_358e_11eb_81c0_00259091f1e8 .col_heading.level2.col7 {\n",
       "          background-color: #ff0;\n",
       "    }    #T_90015ee6_358e_11eb_81c0_00259091f1e8 .col_heading.level2.col8 {\n",
       "          background-color: #ff0;\n",
       "    }    #T_90015ee6_358e_11eb_81c0_00259091f1e8 .col_heading.level2.col9 {\n",
       "          background-color: #ff0;\n",
       "    }    #T_90015ee6_358e_11eb_81c0_00259091f1e8 .col_heading.level2.col10 {\n",
       "          background-color: #ff0;\n",
       "    }</style><table id=\"T_90015ee6_358e_11eb_81c0_00259091f1e8\" ><thead>    <tr>        <th class=\"blank level0\" ></th>        <th class=\"col_heading level0 col0\" >0</th>        <th class=\"col_heading level0 col1\" >1</th>        <th class=\"col_heading level0 col2\" >2</th>        <th class=\"col_heading level0 col3\" >3</th>        <th class=\"col_heading level0 col4\" >4</th>        <th class=\"col_heading level0 col5\" >5</th>        <th class=\"col_heading level0 col6\" >6</th>        <th class=\"col_heading level0 col7\" >7</th>        <th class=\"col_heading level0 col8\" >8</th>        <th class=\"col_heading level0 col9\" >9</th>        <th class=\"col_heading level0 col10\" >10</th>    </tr>    <tr>        <th class=\"blank level1\" ></th>        <th class=\"col_heading level1 col0\" >Year</th>        <th class=\"col_heading level1 col1\" >Album details</th>        <th class=\"col_heading level1 col2\" >Peak chart positions</th>        <th class=\"col_heading level1 col3\" >Peak chart positions</th>        <th class=\"col_heading level1 col4\" >Peak chart positions</th>        <th class=\"col_heading level1 col5\" >Peak chart positions</th>        <th class=\"col_heading level1 col6\" >Peak chart positions</th>        <th class=\"col_heading level1 col7\" >Peak chart positions</th>        <th class=\"col_heading level1 col8\" >Peak chart positions</th>        <th class=\"col_heading level1 col9\" >Peak chart positions</th>        <th class=\"col_heading level1 col10\" >Peak chart positions</th>    </tr>    <tr>        <th class=\"blank level2\" ></th>        <th class=\"col_heading level2 col0\" >Year</th>        <th class=\"col_heading level2 col1\" >Album details</th>        <th class=\"col_heading level2 col2\" ><a href=\"http://en.wikipedia.org/wiki/UK_Albums_Chart?curid=2465857\">UK</a></th>        <th class=\"col_heading level2 col3\" ><a href=\"http://en.wikipedia.org/wiki/Billboard_200?curid=730350\">US</a></th>        <th class=\"col_heading level2 col4\" ><a href=\"http://en.wikipedia.org/wiki/ARIA_Charts?curid=3002226\">AUS</a></th>        <th class=\"col_heading level2 col5\" ><a href=\"http://en.wikipedia.org/wiki/Austria?curid=26964606\">AUT</a></th>        <th class=\"col_heading level2 col6\" ><a href=\"http://en.wikipedia.org/wiki/Media_Control_Charts?curid=6170448\">GER</a></th>        <th class=\"col_heading level2 col7\" ><a href=\"http://en.wikipedia.org/wiki/MegaCharts?curid=6013155\">NLD</a></th>        <th class=\"col_heading level2 col8\" ><a href=\"http://en.wikipedia.org/wiki/Recording_Industry_Association_of_New_Zealand?curid=1588487\">NZ</a></th>        <th class=\"col_heading level2 col9\" ><a href=\"http://en.wikipedia.org/wiki/Sverigetopplistan?curid=11002747\">SWE</a></th>        <th class=\"col_heading level2 col10\" ><a href=\"http://en.wikipedia.org/wiki/Swiss_Music_Charts?curid=17054761\">SWI</a></th>    </tr></thead><tbody>\n",
       "        </tbody></table>"
      ],
      "text/plain": [
       "<pandas.io.formats.style.Styler at 0x7f5f2816bcd0>"
      ]
     },
     "metadata": {},
     "output_type": "display_data"
    },
    {
     "name": "stdout",
     "output_type": "stream",
     "text": [
      "((LinkedString('Year', links=()), LinkedString('Title', links=()), LinkedString('Chart positions', links=()), LinkedString('Chart positions', links=()), LinkedString('Chart positions', links=()), LinkedString('Chart positions', links=()), LinkedString('Chart positions', links=()), LinkedString('Chart positions', links=()), LinkedString('Chart positions', links=()), LinkedString('Chart positions', links=()), LinkedString('Chart positions', links=()), LinkedString('Chart positions', links=()), LinkedString('Chart positions', links=()), LinkedString('Chart positions', links=()), LinkedString('Chart positions', links=()), LinkedString('Certifications', links=()), LinkedString('Certifications', links=()), LinkedString('Certifications', links=())), (LinkedString('Year', links=()), LinkedString('Title', links=()), LinkedString('US 200', links=((0, 6, 'http://en.wikipedia.org/wiki/Billboard_200?curid=730350'),)), LinkedString('CAN', links=((0, 3, 'http://en.wikipedia.org/wiki/Canadian_Albums_Chart?curid=9331428'),)), LinkedString('UK', links=((0, 2, 'http://en.wikipedia.org/wiki/UK_Albums_Chart?curid=2465857'),)), LinkedString('NL', links=((0, 2, 'http://en.wikipedia.org/wiki/MegaCharts?curid=6013155'),)), LinkedString('NZ', links=((0, 2, 'http://en.wikipedia.org/wiki/Recording_Industry_Association_of_New_Zealand?curid=1588487'),)), LinkedString('SPN', links=((0, 3, 'http://en.wikipedia.org/wiki/PROMUSICAE?curid=12567453'),)), LinkedString('NOR', links=((0, 3, 'http://en.wikipedia.org/wiki/IFPI?curid=180086'),)), LinkedString('AUS [A ]', links=((0, 3, 'http://en.wikipedia.org/wiki/ARIA_Charts?curid=3002226'),)), LinkedString('AUT', links=((0, 3, 'http://en.wikipedia.org/wiki/IFPI?curid=180086'),)), LinkedString('SWE', links=((0, 3, 'http://en.wikipedia.org/wiki/IFPI?curid=180086'),)), LinkedString('GER', links=((0, 3, 'http://en.wikipedia.org/wiki/IFPI?curid=180086'),)), LinkedString('SWI', links=((0, 3, 'http://en.wikipedia.org/wiki/IFPI?curid=180086'),)), LinkedString('FRA', links=((0, 3, 'http://en.wikipedia.org/wiki/SNEP?curid=4565593'),)), LinkedString('US', links=((0, 2, 'http://en.wikipedia.org/wiki/Recording_Industry_Association_of_America?curid=18949819'),)), LinkedString('CAN', links=((0, 3, 'http://en.wikipedia.org/wiki/Canadian_Albums_Chart?curid=9331428'),)), LinkedString('AUS', links=((0, 3, 'http://en.wikipedia.org/wiki/Australian_Recording_Industry_Association?curid=308882'),))))\n",
      "1 (0, 2, 17, 'SpannedRepeat') None None\n"
     ]
    },
    {
     "data": {
      "text/html": [
       "<style  type=\"text/css\" >\n",
       "    #T_9004ee9e_358e_11eb_81c0_00259091f1e8 .col_heading.level0 {\n",
       "          display: none;\n",
       "    }    #T_9004ee9e_358e_11eb_81c0_00259091f1e8 .col_heading.level1.col2 {\n",
       "          background-color: #ff0;\n",
       "    }    #T_9004ee9e_358e_11eb_81c0_00259091f1e8 .col_heading.level1.col3 {\n",
       "          background-color: #ff0;\n",
       "    }    #T_9004ee9e_358e_11eb_81c0_00259091f1e8 .col_heading.level1.col4 {\n",
       "          background-color: #ff0;\n",
       "    }    #T_9004ee9e_358e_11eb_81c0_00259091f1e8 .col_heading.level1.col5 {\n",
       "          background-color: #ff0;\n",
       "    }    #T_9004ee9e_358e_11eb_81c0_00259091f1e8 .col_heading.level1.col6 {\n",
       "          background-color: #ff0;\n",
       "    }    #T_9004ee9e_358e_11eb_81c0_00259091f1e8 .col_heading.level1.col7 {\n",
       "          background-color: #ff0;\n",
       "    }    #T_9004ee9e_358e_11eb_81c0_00259091f1e8 .col_heading.level1.col8 {\n",
       "          background-color: #ff0;\n",
       "    }    #T_9004ee9e_358e_11eb_81c0_00259091f1e8 .col_heading.level1.col9 {\n",
       "          background-color: #ff0;\n",
       "    }    #T_9004ee9e_358e_11eb_81c0_00259091f1e8 .col_heading.level1.col10 {\n",
       "          background-color: #ff0;\n",
       "    }    #T_9004ee9e_358e_11eb_81c0_00259091f1e8 .col_heading.level1.col11 {\n",
       "          background-color: #ff0;\n",
       "    }    #T_9004ee9e_358e_11eb_81c0_00259091f1e8 .col_heading.level1.col12 {\n",
       "          background-color: #ff0;\n",
       "    }    #T_9004ee9e_358e_11eb_81c0_00259091f1e8 .col_heading.level1.col13 {\n",
       "          background-color: #ff0;\n",
       "    }    #T_9004ee9e_358e_11eb_81c0_00259091f1e8 .col_heading.level1.col14 {\n",
       "          background-color: #ff0;\n",
       "    }    #T_9004ee9e_358e_11eb_81c0_00259091f1e8 .col_heading.level1.col15 {\n",
       "          background-color: #ff0;\n",
       "    }    #T_9004ee9e_358e_11eb_81c0_00259091f1e8 .col_heading.level1.col16 {\n",
       "          background-color: #ff0;\n",
       "    }    #T_9004ee9e_358e_11eb_81c0_00259091f1e8 .col_heading.level1.col17 {\n",
       "          background-color: #ff0;\n",
       "    }</style><table id=\"T_9004ee9e_358e_11eb_81c0_00259091f1e8\" ><thead>    <tr>        <th class=\"blank level0\" ></th>        <th class=\"col_heading level0 col0\" >0</th>        <th class=\"col_heading level0 col1\" >1</th>        <th class=\"col_heading level0 col2\" >2</th>        <th class=\"col_heading level0 col3\" >3</th>        <th class=\"col_heading level0 col4\" >4</th>        <th class=\"col_heading level0 col5\" >5</th>        <th class=\"col_heading level0 col6\" >6</th>        <th class=\"col_heading level0 col7\" >7</th>        <th class=\"col_heading level0 col8\" >8</th>        <th class=\"col_heading level0 col9\" >9</th>        <th class=\"col_heading level0 col10\" >10</th>        <th class=\"col_heading level0 col11\" >11</th>        <th class=\"col_heading level0 col12\" >12</th>        <th class=\"col_heading level0 col13\" >13</th>        <th class=\"col_heading level0 col14\" >14</th>        <th class=\"col_heading level0 col15\" >15</th>        <th class=\"col_heading level0 col16\" >16</th>        <th class=\"col_heading level0 col17\" >17</th>    </tr>    <tr>        <th class=\"blank level1\" ></th>        <th class=\"col_heading level1 col0\" >Year</th>        <th class=\"col_heading level1 col1\" >Title</th>        <th class=\"col_heading level1 col2\" >Chart positions</th>        <th class=\"col_heading level1 col3\" >Chart positions</th>        <th class=\"col_heading level1 col4\" >Chart positions</th>        <th class=\"col_heading level1 col5\" >Chart positions</th>        <th class=\"col_heading level1 col6\" >Chart positions</th>        <th class=\"col_heading level1 col7\" >Chart positions</th>        <th class=\"col_heading level1 col8\" >Chart positions</th>        <th class=\"col_heading level1 col9\" >Chart positions</th>        <th class=\"col_heading level1 col10\" >Chart positions</th>        <th class=\"col_heading level1 col11\" >Chart positions</th>        <th class=\"col_heading level1 col12\" >Chart positions</th>        <th class=\"col_heading level1 col13\" >Chart positions</th>        <th class=\"col_heading level1 col14\" >Chart positions</th>        <th class=\"col_heading level1 col15\" >Certifications</th>        <th class=\"col_heading level1 col16\" >Certifications</th>        <th class=\"col_heading level1 col17\" >Certifications</th>    </tr>    <tr>        <th class=\"blank level2\" ></th>        <th class=\"col_heading level2 col0\" >Year</th>        <th class=\"col_heading level2 col1\" >Title</th>        <th class=\"col_heading level2 col2\" ><a href=\"http://en.wikipedia.org/wiki/Billboard_200?curid=730350\">US 200</a></th>        <th class=\"col_heading level2 col3\" ><a href=\"http://en.wikipedia.org/wiki/Canadian_Albums_Chart?curid=9331428\">CAN</a></th>        <th class=\"col_heading level2 col4\" ><a href=\"http://en.wikipedia.org/wiki/UK_Albums_Chart?curid=2465857\">UK</a></th>        <th class=\"col_heading level2 col5\" ><a href=\"http://en.wikipedia.org/wiki/MegaCharts?curid=6013155\">NL</a></th>        <th class=\"col_heading level2 col6\" ><a href=\"http://en.wikipedia.org/wiki/Recording_Industry_Association_of_New_Zealand?curid=1588487\">NZ</a></th>        <th class=\"col_heading level2 col7\" ><a href=\"http://en.wikipedia.org/wiki/PROMUSICAE?curid=12567453\">SPN</a></th>        <th class=\"col_heading level2 col8\" ><a href=\"http://en.wikipedia.org/wiki/IFPI?curid=180086\">NOR</a></th>        <th class=\"col_heading level2 col9\" ><a href=\"http://en.wikipedia.org/wiki/ARIA_Charts?curid=3002226\">AUS</a> [A ]</th>        <th class=\"col_heading level2 col10\" ><a href=\"http://en.wikipedia.org/wiki/IFPI?curid=180086\">AUT</a></th>        <th class=\"col_heading level2 col11\" ><a href=\"http://en.wikipedia.org/wiki/IFPI?curid=180086\">SWE</a></th>        <th class=\"col_heading level2 col12\" ><a href=\"http://en.wikipedia.org/wiki/IFPI?curid=180086\">GER</a></th>        <th class=\"col_heading level2 col13\" ><a href=\"http://en.wikipedia.org/wiki/IFPI?curid=180086\">SWI</a></th>        <th class=\"col_heading level2 col14\" ><a href=\"http://en.wikipedia.org/wiki/SNEP?curid=4565593\">FRA</a></th>        <th class=\"col_heading level2 col15\" ><a href=\"http://en.wikipedia.org/wiki/Recording_Industry_Association_of_America?curid=18949819\">US</a></th>        <th class=\"col_heading level2 col16\" ><a href=\"http://en.wikipedia.org/wiki/Canadian_Albums_Chart?curid=9331428\">CAN</a></th>        <th class=\"col_heading level2 col17\" ><a href=\"http://en.wikipedia.org/wiki/Australian_Recording_Industry_Association?curid=308882\">AUS</a></th>    </tr></thead><tbody>\n",
       "        </tbody></table>"
      ],
      "text/plain": [
       "<pandas.io.formats.style.Styler at 0x7f5f21bc0d10>"
      ]
     },
     "metadata": {},
     "output_type": "display_data"
    },
    {
     "name": "stdout",
     "output_type": "stream",
     "text": [
      "((LinkedString('Year', links=()), LinkedString('Album details', links=()), LinkedString('Peak chart positions', links=()), LinkedString('Peak chart positions', links=()), LinkedString('Peak chart positions', links=()), LinkedString('Peak chart positions', links=()), LinkedString('Peak chart positions', links=()), LinkedString('Peak chart positions', links=()), LinkedString('Peak chart positions', links=()), LinkedString('Peak chart positions', links=()), LinkedString('Peak chart positions', links=()), LinkedString('Peak chart positions', links=()), LinkedString('Peak chart positions', links=()), LinkedString('Peak chart positions', links=()), LinkedString('Certifications', links=((0, 14, 'http://en.wikipedia.org/wiki/Music_recording_sales_certification?curid=308242'),)), LinkedString('Sales', links=())), (LinkedString('Year', links=()), LinkedString('Album details', links=()), LinkedString('US', links=((0, 2, 'http://en.wikipedia.org/wiki/Billboard_200?curid=730350'),)), LinkedString('AUS', links=((0, 3, 'http://en.wikipedia.org/wiki/ARIA_Charts?curid=3002226'),)), LinkedString('AUT', links=((0, 3, 'http://en.wikipedia.org/wiki/Media_Control_Charts?curid=6170448'),)), LinkedString('CAN', links=((0, 3, 'http://en.wikipedia.org/wiki/Canadian_Albums_Chart?curid=9331428'),)), LinkedString('FRA', links=((0, 3, \"http://en.wikipedia.org/wiki/Syndicat_National_de_l'Édition_Phonographique?curid=4565593\"),)), LinkedString('GER', links=((0, 3, 'http://en.wikipedia.org/wiki/Media_Control_Charts?curid=6170448'),)), LinkedString('JPN', links=((0, 3, 'http://en.wikipedia.org/wiki/Oricon?curid=2758023'),)), LinkedString('NLD', links=((0, 3, 'http://en.wikipedia.org/wiki/MegaCharts?curid=6013155'),)), LinkedString('NZL', links=((0, 3, 'http://en.wikipedia.org/wiki/Official_New_Zealand_Music_Chart?curid=39642954'),)), LinkedString('SWE', links=((0, 3, 'http://en.wikipedia.org/wiki/Sverigetopplistan?curid=11002747'),)), LinkedString('SWI', links=((0, 3, 'http://en.wikipedia.org/wiki/Swiss_Hitparade?curid=17054761'),)), LinkedString('UK', links=((0, 2, 'http://en.wikipedia.org/wiki/UK_Albums_Chart?curid=2465857'),)), LinkedString('Certifications', links=((0, 14, 'http://en.wikipedia.org/wiki/Music_recording_sales_certification?curid=308242'),)), LinkedString('Sales', links=())))\n",
      "1 (1, 2, 13, 'short-uppercase-acronyms') None None\n"
     ]
    },
    {
     "data": {
      "text/html": [
       "<style  type=\"text/css\" >\n",
       "    #T_9008cdac_358e_11eb_81c0_00259091f1e8 .col_heading.level0 {\n",
       "          display: none;\n",
       "    }    #T_9008cdac_358e_11eb_81c0_00259091f1e8 .col_heading.level2.col2 {\n",
       "          background-color: #ff0;\n",
       "    }    #T_9008cdac_358e_11eb_81c0_00259091f1e8 .col_heading.level2.col3 {\n",
       "          background-color: #ff0;\n",
       "    }    #T_9008cdac_358e_11eb_81c0_00259091f1e8 .col_heading.level2.col4 {\n",
       "          background-color: #ff0;\n",
       "    }    #T_9008cdac_358e_11eb_81c0_00259091f1e8 .col_heading.level2.col5 {\n",
       "          background-color: #ff0;\n",
       "    }    #T_9008cdac_358e_11eb_81c0_00259091f1e8 .col_heading.level2.col6 {\n",
       "          background-color: #ff0;\n",
       "    }    #T_9008cdac_358e_11eb_81c0_00259091f1e8 .col_heading.level2.col7 {\n",
       "          background-color: #ff0;\n",
       "    }    #T_9008cdac_358e_11eb_81c0_00259091f1e8 .col_heading.level2.col8 {\n",
       "          background-color: #ff0;\n",
       "    }    #T_9008cdac_358e_11eb_81c0_00259091f1e8 .col_heading.level2.col9 {\n",
       "          background-color: #ff0;\n",
       "    }    #T_9008cdac_358e_11eb_81c0_00259091f1e8 .col_heading.level2.col10 {\n",
       "          background-color: #ff0;\n",
       "    }    #T_9008cdac_358e_11eb_81c0_00259091f1e8 .col_heading.level2.col11 {\n",
       "          background-color: #ff0;\n",
       "    }    #T_9008cdac_358e_11eb_81c0_00259091f1e8 .col_heading.level2.col12 {\n",
       "          background-color: #ff0;\n",
       "    }    #T_9008cdac_358e_11eb_81c0_00259091f1e8 .col_heading.level2.col13 {\n",
       "          background-color: #ff0;\n",
       "    }</style><table id=\"T_9008cdac_358e_11eb_81c0_00259091f1e8\" ><thead>    <tr>        <th class=\"blank level0\" ></th>        <th class=\"col_heading level0 col0\" >0</th>        <th class=\"col_heading level0 col1\" >1</th>        <th class=\"col_heading level0 col2\" >2</th>        <th class=\"col_heading level0 col3\" >3</th>        <th class=\"col_heading level0 col4\" >4</th>        <th class=\"col_heading level0 col5\" >5</th>        <th class=\"col_heading level0 col6\" >6</th>        <th class=\"col_heading level0 col7\" >7</th>        <th class=\"col_heading level0 col8\" >8</th>        <th class=\"col_heading level0 col9\" >9</th>        <th class=\"col_heading level0 col10\" >10</th>        <th class=\"col_heading level0 col11\" >11</th>        <th class=\"col_heading level0 col12\" >12</th>        <th class=\"col_heading level0 col13\" >13</th>        <th class=\"col_heading level0 col14\" >14</th>        <th class=\"col_heading level0 col15\" >15</th>    </tr>    <tr>        <th class=\"blank level1\" ></th>        <th class=\"col_heading level1 col0\" >Year</th>        <th class=\"col_heading level1 col1\" >Album details</th>        <th class=\"col_heading level1 col2\" >Peak chart positions</th>        <th class=\"col_heading level1 col3\" >Peak chart positions</th>        <th class=\"col_heading level1 col4\" >Peak chart positions</th>        <th class=\"col_heading level1 col5\" >Peak chart positions</th>        <th class=\"col_heading level1 col6\" >Peak chart positions</th>        <th class=\"col_heading level1 col7\" >Peak chart positions</th>        <th class=\"col_heading level1 col8\" >Peak chart positions</th>        <th class=\"col_heading level1 col9\" >Peak chart positions</th>        <th class=\"col_heading level1 col10\" >Peak chart positions</th>        <th class=\"col_heading level1 col11\" >Peak chart positions</th>        <th class=\"col_heading level1 col12\" >Peak chart positions</th>        <th class=\"col_heading level1 col13\" >Peak chart positions</th>        <th class=\"col_heading level1 col14\" ><a href=\"http://en.wikipedia.org/wiki/Music_recording_sales_certification?curid=308242\">Certifications</a></th>        <th class=\"col_heading level1 col15\" >Sales</th>    </tr>    <tr>        <th class=\"blank level2\" ></th>        <th class=\"col_heading level2 col0\" >Year</th>        <th class=\"col_heading level2 col1\" >Album details</th>        <th class=\"col_heading level2 col2\" ><a href=\"http://en.wikipedia.org/wiki/Billboard_200?curid=730350\">US</a></th>        <th class=\"col_heading level2 col3\" ><a href=\"http://en.wikipedia.org/wiki/ARIA_Charts?curid=3002226\">AUS</a></th>        <th class=\"col_heading level2 col4\" ><a href=\"http://en.wikipedia.org/wiki/Media_Control_Charts?curid=6170448\">AUT</a></th>        <th class=\"col_heading level2 col5\" ><a href=\"http://en.wikipedia.org/wiki/Canadian_Albums_Chart?curid=9331428\">CAN</a></th>        <th class=\"col_heading level2 col6\" ><a href=\"http://en.wikipedia.org/wiki/Syndicat_National_de_l'Édition_Phonographique?curid=4565593\">FRA</a></th>        <th class=\"col_heading level2 col7\" ><a href=\"http://en.wikipedia.org/wiki/Media_Control_Charts?curid=6170448\">GER</a></th>        <th class=\"col_heading level2 col8\" ><a href=\"http://en.wikipedia.org/wiki/Oricon?curid=2758023\">JPN</a></th>        <th class=\"col_heading level2 col9\" ><a href=\"http://en.wikipedia.org/wiki/MegaCharts?curid=6013155\">NLD</a></th>        <th class=\"col_heading level2 col10\" ><a href=\"http://en.wikipedia.org/wiki/Official_New_Zealand_Music_Chart?curid=39642954\">NZL</a></th>        <th class=\"col_heading level2 col11\" ><a href=\"http://en.wikipedia.org/wiki/Sverigetopplistan?curid=11002747\">SWE</a></th>        <th class=\"col_heading level2 col12\" ><a href=\"http://en.wikipedia.org/wiki/Swiss_Hitparade?curid=17054761\">SWI</a></th>        <th class=\"col_heading level2 col13\" ><a href=\"http://en.wikipedia.org/wiki/UK_Albums_Chart?curid=2465857\">UK</a></th>        <th class=\"col_heading level2 col14\" ><a href=\"http://en.wikipedia.org/wiki/Music_recording_sales_certification?curid=308242\">Certifications</a></th>        <th class=\"col_heading level2 col15\" >Sales</th>    </tr></thead><tbody>\n",
       "        </tbody></table>"
      ],
      "text/plain": [
       "<pandas.io.formats.style.Styler at 0x7f5f2810fa90>"
      ]
     },
     "metadata": {},
     "output_type": "display_data"
    },
    {
     "name": "stdout",
     "output_type": "stream",
     "text": [
      "((LinkedString('Year', links=()), LinkedString('Team', links=()), LinkedString('Team', links=()), LinkedString('Team', links=()), LinkedString('Team', links=()), LinkedString('Team', links=()), LinkedString('League', links=()), LinkedString('League', links=())), (LinkedString('Year', links=()), LinkedString('ORL', links=((0, 3, 'http://en.wikipedia.org/wiki/Orlando_Miracle?curid=270900'),)), LinkedString('PHX', links=((0, 3, 'http://en.wikipedia.org/wiki/Phoenix_Mercury?curid=85694'),)), LinkedString('SAC', links=((0, 3, 'http://en.wikipedia.org/wiki/Sacramento_Monarchs?curid=184725'),)), LinkedString('UTA', links=((0, 3, 'http://en.wikipedia.org/wiki/Utah_Starzz?curid=270898'),)), LinkedString('WAS', links=((0, 3, 'http://en.wikipedia.org/wiki/Washington_Mystics?curid=240204'),)), LinkedString('Regular season', links=()), LinkedString('Postseason', links=())))\n",
      "1 (1, 1, 5, 'short-uppercase-acronyms') None None\n"
     ]
    },
    {
     "data": {
      "text/html": [
       "<style  type=\"text/css\" >\n",
       "    #T_900c6d22_358e_11eb_81c0_00259091f1e8 .col_heading.level0 {\n",
       "          display: none;\n",
       "    }    #T_900c6d22_358e_11eb_81c0_00259091f1e8 .col_heading.level2.col1 {\n",
       "          background-color: #ff0;\n",
       "    }    #T_900c6d22_358e_11eb_81c0_00259091f1e8 .col_heading.level2.col2 {\n",
       "          background-color: #ff0;\n",
       "    }    #T_900c6d22_358e_11eb_81c0_00259091f1e8 .col_heading.level2.col3 {\n",
       "          background-color: #ff0;\n",
       "    }    #T_900c6d22_358e_11eb_81c0_00259091f1e8 .col_heading.level2.col4 {\n",
       "          background-color: #ff0;\n",
       "    }    #T_900c6d22_358e_11eb_81c0_00259091f1e8 .col_heading.level2.col5 {\n",
       "          background-color: #ff0;\n",
       "    }</style><table id=\"T_900c6d22_358e_11eb_81c0_00259091f1e8\" ><thead>    <tr>        <th class=\"blank level0\" ></th>        <th class=\"col_heading level0 col0\" >0</th>        <th class=\"col_heading level0 col1\" >1</th>        <th class=\"col_heading level0 col2\" >2</th>        <th class=\"col_heading level0 col3\" >3</th>        <th class=\"col_heading level0 col4\" >4</th>        <th class=\"col_heading level0 col5\" >5</th>        <th class=\"col_heading level0 col6\" >6</th>        <th class=\"col_heading level0 col7\" >7</th>    </tr>    <tr>        <th class=\"blank level1\" ></th>        <th class=\"col_heading level1 col0\" >Year</th>        <th class=\"col_heading level1 col1\" >Team</th>        <th class=\"col_heading level1 col2\" >Team</th>        <th class=\"col_heading level1 col3\" >Team</th>        <th class=\"col_heading level1 col4\" >Team</th>        <th class=\"col_heading level1 col5\" >Team</th>        <th class=\"col_heading level1 col6\" >League</th>        <th class=\"col_heading level1 col7\" >League</th>    </tr>    <tr>        <th class=\"blank level2\" ></th>        <th class=\"col_heading level2 col0\" >Year</th>        <th class=\"col_heading level2 col1\" ><a href=\"http://en.wikipedia.org/wiki/Orlando_Miracle?curid=270900\">ORL</a></th>        <th class=\"col_heading level2 col2\" ><a href=\"http://en.wikipedia.org/wiki/Phoenix_Mercury?curid=85694\">PHX</a></th>        <th class=\"col_heading level2 col3\" ><a href=\"http://en.wikipedia.org/wiki/Sacramento_Monarchs?curid=184725\">SAC</a></th>        <th class=\"col_heading level2 col4\" ><a href=\"http://en.wikipedia.org/wiki/Utah_Starzz?curid=270898\">UTA</a></th>        <th class=\"col_heading level2 col5\" ><a href=\"http://en.wikipedia.org/wiki/Washington_Mystics?curid=240204\">WAS</a></th>        <th class=\"col_heading level2 col6\" >Regular season</th>        <th class=\"col_heading level2 col7\" >Postseason</th>    </tr></thead><tbody>\n",
       "        </tbody></table>"
      ],
      "text/plain": [
       "<pandas.io.formats.style.Styler at 0x7f5f2810b5d0>"
      ]
     },
     "metadata": {},
     "output_type": "display_data"
    },
    {
     "name": "stdout",
     "output_type": "stream",
     "text": [
      "((LinkedString('Title', links=()), LinkedString('Album details', links=()), LinkedString('Peak chart positions', links=()), LinkedString('Peak chart positions', links=()), LinkedString('Peak chart positions', links=()), LinkedString('Peak chart positions', links=()), LinkedString('Peak chart positions', links=()), LinkedString('Peak chart positions', links=()), LinkedString('Peak chart positions', links=()), LinkedString('Peak chart positions', links=()), LinkedString('Peak chart positions', links=()), LinkedString('Peak chart positions', links=()), LinkedString('Peak chart positions', links=()), LinkedString('Peak chart positions', links=()), LinkedString('Certifications ( sales thresholds )', links=((0, 14, 'http://en.wikipedia.org/wiki/Music_recording_sales_certification?curid=308242'), (17, 33, 'http://en.wikipedia.org/wiki/List_of_music_recording_sales_certifications?curid=17627213')))), (LinkedString('Title', links=()), LinkedString('Album details', links=()), LinkedString('US', links=((0, 2, 'http://en.wikipedia.org/wiki/Billboard_200?curid=730350'),)), LinkedString('AUS', links=((0, 3, 'http://en.wikipedia.org/wiki/ARIA_Charts?curid=3002226'),)), LinkedString('AUT', links=((0, 3, 'http://en.wikipedia.org/wiki/Ö3_Austria_Top_40?curid=13757814'),)), LinkedString('BEL ( FLA )', links=((0, 3, 'http://en.wikipedia.org/wiki/Ultratop?curid=6836546'), (6, 9, 'http://en.wikipedia.org/wiki/Flanders?curid=10878'))), LinkedString('CAN', links=((0, 3, 'http://en.wikipedia.org/wiki/Canadian_Albums_Chart?curid=9331428'),)), LinkedString('GER', links=((0, 3, 'http://en.wikipedia.org/wiki/Media_Control_Charts?curid=6170448'),)), LinkedString('IRE', links=((0, 3, 'http://en.wikipedia.org/wiki/Irish_Albums_Chart?curid=5784179'),)), LinkedString('NLD', links=((0, 3, 'http://en.wikipedia.org/wiki/MegaCharts?curid=6013155'),)), LinkedString('NOR', links=((0, 3, 'http://en.wikipedia.org/wiki/VG-lista?curid=8262087'),)), LinkedString('NZ', links=((0, 2, 'http://en.wikipedia.org/wiki/Recording_Industry_Association_of_New_Zealand?curid=1588487'),)), LinkedString('SWE', links=((0, 3, 'http://en.wikipedia.org/wiki/Sverigetopplistan?curid=11002747'),)), LinkedString('UK', links=((0, 2, 'http://en.wikipedia.org/wiki/UK_Albums_Chart?curid=2465857'),)), LinkedString('Certifications ( sales thresholds )', links=((0, 14, 'http://en.wikipedia.org/wiki/Music_recording_sales_certification?curid=308242'), (17, 33, 'http://en.wikipedia.org/wiki/List_of_music_recording_sales_certifications?curid=17627213')))))\n",
      "1 (1, 6, 13, 'short-uppercase-acronyms') None None\n"
     ]
    },
    {
     "data": {
      "text/html": [
       "<style  type=\"text/css\" >\n",
       "    #T_900fe97a_358e_11eb_81c0_00259091f1e8 .col_heading.level0 {\n",
       "          display: none;\n",
       "    }    #T_900fe97a_358e_11eb_81c0_00259091f1e8 .col_heading.level2.col6 {\n",
       "          background-color: #ff0;\n",
       "    }    #T_900fe97a_358e_11eb_81c0_00259091f1e8 .col_heading.level2.col7 {\n",
       "          background-color: #ff0;\n",
       "    }    #T_900fe97a_358e_11eb_81c0_00259091f1e8 .col_heading.level2.col8 {\n",
       "          background-color: #ff0;\n",
       "    }    #T_900fe97a_358e_11eb_81c0_00259091f1e8 .col_heading.level2.col9 {\n",
       "          background-color: #ff0;\n",
       "    }    #T_900fe97a_358e_11eb_81c0_00259091f1e8 .col_heading.level2.col10 {\n",
       "          background-color: #ff0;\n",
       "    }    #T_900fe97a_358e_11eb_81c0_00259091f1e8 .col_heading.level2.col11 {\n",
       "          background-color: #ff0;\n",
       "    }    #T_900fe97a_358e_11eb_81c0_00259091f1e8 .col_heading.level2.col12 {\n",
       "          background-color: #ff0;\n",
       "    }    #T_900fe97a_358e_11eb_81c0_00259091f1e8 .col_heading.level2.col13 {\n",
       "          background-color: #ff0;\n",
       "    }</style><table id=\"T_900fe97a_358e_11eb_81c0_00259091f1e8\" ><thead>    <tr>        <th class=\"blank level0\" ></th>        <th class=\"col_heading level0 col0\" >0</th>        <th class=\"col_heading level0 col1\" >1</th>        <th class=\"col_heading level0 col2\" >2</th>        <th class=\"col_heading level0 col3\" >3</th>        <th class=\"col_heading level0 col4\" >4</th>        <th class=\"col_heading level0 col5\" >5</th>        <th class=\"col_heading level0 col6\" >6</th>        <th class=\"col_heading level0 col7\" >7</th>        <th class=\"col_heading level0 col8\" >8</th>        <th class=\"col_heading level0 col9\" >9</th>        <th class=\"col_heading level0 col10\" >10</th>        <th class=\"col_heading level0 col11\" >11</th>        <th class=\"col_heading level0 col12\" >12</th>        <th class=\"col_heading level0 col13\" >13</th>        <th class=\"col_heading level0 col14\" >14</th>    </tr>    <tr>        <th class=\"blank level1\" ></th>        <th class=\"col_heading level1 col0\" >Title</th>        <th class=\"col_heading level1 col1\" >Album details</th>        <th class=\"col_heading level1 col2\" >Peak chart positions</th>        <th class=\"col_heading level1 col3\" >Peak chart positions</th>        <th class=\"col_heading level1 col4\" >Peak chart positions</th>        <th class=\"col_heading level1 col5\" >Peak chart positions</th>        <th class=\"col_heading level1 col6\" >Peak chart positions</th>        <th class=\"col_heading level1 col7\" >Peak chart positions</th>        <th class=\"col_heading level1 col8\" >Peak chart positions</th>        <th class=\"col_heading level1 col9\" >Peak chart positions</th>        <th class=\"col_heading level1 col10\" >Peak chart positions</th>        <th class=\"col_heading level1 col11\" >Peak chart positions</th>        <th class=\"col_heading level1 col12\" >Peak chart positions</th>        <th class=\"col_heading level1 col13\" >Peak chart positions</th>        <th class=\"col_heading level1 col14\" ><a href=\"http://en.wikipedia.org/wiki/Music_recording_sales_certification?curid=308242\">Certifications</a> ( <a href=\"http://en.wikipedia.org/wiki/List_of_music_recording_sales_certifications?curid=17627213\">sales thresholds</a> )</th>    </tr>    <tr>        <th class=\"blank level2\" ></th>        <th class=\"col_heading level2 col0\" >Title</th>        <th class=\"col_heading level2 col1\" >Album details</th>        <th class=\"col_heading level2 col2\" ><a href=\"http://en.wikipedia.org/wiki/Billboard_200?curid=730350\">US</a></th>        <th class=\"col_heading level2 col3\" ><a href=\"http://en.wikipedia.org/wiki/ARIA_Charts?curid=3002226\">AUS</a></th>        <th class=\"col_heading level2 col4\" ><a href=\"http://en.wikipedia.org/wiki/Ö3_Austria_Top_40?curid=13757814\">AUT</a></th>        <th class=\"col_heading level2 col5\" ><a href=\"http://en.wikipedia.org/wiki/Ultratop?curid=6836546\">BEL</a> ( <a href=\"http://en.wikipedia.org/wiki/Flanders?curid=10878\">FLA</a> )</th>        <th class=\"col_heading level2 col6\" ><a href=\"http://en.wikipedia.org/wiki/Canadian_Albums_Chart?curid=9331428\">CAN</a></th>        <th class=\"col_heading level2 col7\" ><a href=\"http://en.wikipedia.org/wiki/Media_Control_Charts?curid=6170448\">GER</a></th>        <th class=\"col_heading level2 col8\" ><a href=\"http://en.wikipedia.org/wiki/Irish_Albums_Chart?curid=5784179\">IRE</a></th>        <th class=\"col_heading level2 col9\" ><a href=\"http://en.wikipedia.org/wiki/MegaCharts?curid=6013155\">NLD</a></th>        <th class=\"col_heading level2 col10\" ><a href=\"http://en.wikipedia.org/wiki/VG-lista?curid=8262087\">NOR</a></th>        <th class=\"col_heading level2 col11\" ><a href=\"http://en.wikipedia.org/wiki/Recording_Industry_Association_of_New_Zealand?curid=1588487\">NZ</a></th>        <th class=\"col_heading level2 col12\" ><a href=\"http://en.wikipedia.org/wiki/Sverigetopplistan?curid=11002747\">SWE</a></th>        <th class=\"col_heading level2 col13\" ><a href=\"http://en.wikipedia.org/wiki/UK_Albums_Chart?curid=2465857\">UK</a></th>        <th class=\"col_heading level2 col14\" ><a href=\"http://en.wikipedia.org/wiki/Music_recording_sales_certification?curid=308242\">Certifications</a> ( <a href=\"http://en.wikipedia.org/wiki/List_of_music_recording_sales_certifications?curid=17627213\">sales thresholds</a> )</th>    </tr></thead><tbody>\n",
       "        </tbody></table>"
      ],
      "text/plain": [
       "<pandas.io.formats.style.Styler at 0x7f5f2810b410>"
      ]
     },
     "metadata": {},
     "output_type": "display_data"
    },
    {
     "name": "stdout",
     "output_type": "stream",
     "text": [
      "((LinkedString('Pos', links=()), LinkedString('Driver', links=()), LinkedString('AUS', links=((0, 3, 'http://en.wikipedia.org/wiki/2009_Australian_Grand_Prix?curid=20050933'),)), LinkedString('MAL ‡', links=((0, 3, 'http://en.wikipedia.org/wiki/2009_Malaysian_Grand_Prix?curid=21850299'),)), LinkedString('CHN', links=((0, 3, 'http://en.wikipedia.org/wiki/2009_Chinese_Grand_Prix?curid=21958115'),)), LinkedString('BHR', links=((0, 3, 'http://en.wikipedia.org/wiki/2009_Bahrain_Grand_Prix?curid=21960338'),)), LinkedString('ESP', links=((0, 3, 'http://en.wikipedia.org/wiki/2009_Spanish_Grand_Prix?curid=22037370'),)), LinkedString('MON', links=((0, 3, 'http://en.wikipedia.org/wiki/2009_Monaco_Grand_Prix?curid=21103297'),)), LinkedString('TUR', links=((0, 3, 'http://en.wikipedia.org/wiki/2009_Turkish_Grand_Prix?curid=22178549'),)), LinkedString('GBR', links=((0, 3, 'http://en.wikipedia.org/wiki/2009_British_Grand_Prix?curid=20821064'),)), LinkedString('GER', links=((0, 3, 'http://en.wikipedia.org/wiki/2009_German_Grand_Prix?curid=22185778'),)), LinkedString('HUN', links=((0, 3, 'http://en.wikipedia.org/wiki/2009_Hungarian_Grand_Prix?curid=22187110'),)), LinkedString('EUR', links=((0, 3, 'http://en.wikipedia.org/wiki/2009_European_Grand_Prix?curid=22194224'),)), LinkedString('BEL', links=((0, 3, 'http://en.wikipedia.org/wiki/2009_Belgian_Grand_Prix?curid=22197749'),)), LinkedString('ITA', links=((0, 3, 'http://en.wikipedia.org/wiki/2009_Italian_Grand_Prix?curid=22209794'),)), LinkedString('SIN', links=((0, 3, 'http://en.wikipedia.org/wiki/2009_Singapore_Grand_Prix?curid=22188809'),)), LinkedString('JPN', links=((0, 3, 'http://en.wikipedia.org/wiki/2009_Japanese_Grand_Prix?curid=20159025'),)), LinkedString('BRA', links=((0, 3, 'http://en.wikipedia.org/wiki/2009_Brazilian_Grand_Prix?curid=21960545'),)), LinkedString('ABU', links=((0, 3, 'http://en.wikipedia.org/wiki/2009_Abu_Dhabi_Grand_Prix?curid=19487585'),)), LinkedString('Points', links=((0, 6, 'http://en.wikipedia.org/wiki/List_of_Formula_One_World_Championship_points_scoring_systems?curid=3437243'),))),)\n",
      "1 (0, 4, 18, 'short-uppercase-acronyms') None None\n"
     ]
    },
    {
     "data": {
      "text/html": [
       "<style  type=\"text/css\" >\n",
       "    #T_90138454_358e_11eb_81c0_00259091f1e8 .col_heading.level0 {\n",
       "          display: none;\n",
       "    }    #T_90138454_358e_11eb_81c0_00259091f1e8 .col_heading.level1.col4 {\n",
       "          background-color: #ff0;\n",
       "    }    #T_90138454_358e_11eb_81c0_00259091f1e8 .col_heading.level1.col5 {\n",
       "          background-color: #ff0;\n",
       "    }    #T_90138454_358e_11eb_81c0_00259091f1e8 .col_heading.level1.col6 {\n",
       "          background-color: #ff0;\n",
       "    }    #T_90138454_358e_11eb_81c0_00259091f1e8 .col_heading.level1.col7 {\n",
       "          background-color: #ff0;\n",
       "    }    #T_90138454_358e_11eb_81c0_00259091f1e8 .col_heading.level1.col8 {\n",
       "          background-color: #ff0;\n",
       "    }    #T_90138454_358e_11eb_81c0_00259091f1e8 .col_heading.level1.col9 {\n",
       "          background-color: #ff0;\n",
       "    }    #T_90138454_358e_11eb_81c0_00259091f1e8 .col_heading.level1.col10 {\n",
       "          background-color: #ff0;\n",
       "    }    #T_90138454_358e_11eb_81c0_00259091f1e8 .col_heading.level1.col11 {\n",
       "          background-color: #ff0;\n",
       "    }    #T_90138454_358e_11eb_81c0_00259091f1e8 .col_heading.level1.col12 {\n",
       "          background-color: #ff0;\n",
       "    }    #T_90138454_358e_11eb_81c0_00259091f1e8 .col_heading.level1.col13 {\n",
       "          background-color: #ff0;\n",
       "    }    #T_90138454_358e_11eb_81c0_00259091f1e8 .col_heading.level1.col14 {\n",
       "          background-color: #ff0;\n",
       "    }    #T_90138454_358e_11eb_81c0_00259091f1e8 .col_heading.level1.col15 {\n",
       "          background-color: #ff0;\n",
       "    }    #T_90138454_358e_11eb_81c0_00259091f1e8 .col_heading.level1.col16 {\n",
       "          background-color: #ff0;\n",
       "    }    #T_90138454_358e_11eb_81c0_00259091f1e8 .col_heading.level1.col17 {\n",
       "          background-color: #ff0;\n",
       "    }    #T_90138454_358e_11eb_81c0_00259091f1e8 .col_heading.level1.col18 {\n",
       "          background-color: #ff0;\n",
       "    }</style><table id=\"T_90138454_358e_11eb_81c0_00259091f1e8\" ><thead>    <tr>        <th class=\"blank level0\" ></th>        <th class=\"col_heading level0 col0\" >0</th>        <th class=\"col_heading level0 col1\" >1</th>        <th class=\"col_heading level0 col2\" >2</th>        <th class=\"col_heading level0 col3\" >3</th>        <th class=\"col_heading level0 col4\" >4</th>        <th class=\"col_heading level0 col5\" >5</th>        <th class=\"col_heading level0 col6\" >6</th>        <th class=\"col_heading level0 col7\" >7</th>        <th class=\"col_heading level0 col8\" >8</th>        <th class=\"col_heading level0 col9\" >9</th>        <th class=\"col_heading level0 col10\" >10</th>        <th class=\"col_heading level0 col11\" >11</th>        <th class=\"col_heading level0 col12\" >12</th>        <th class=\"col_heading level0 col13\" >13</th>        <th class=\"col_heading level0 col14\" >14</th>        <th class=\"col_heading level0 col15\" >15</th>        <th class=\"col_heading level0 col16\" >16</th>        <th class=\"col_heading level0 col17\" >17</th>        <th class=\"col_heading level0 col18\" >18</th>        <th class=\"col_heading level0 col19\" >19</th>    </tr>    <tr>        <th class=\"blank level1\" ></th>        <th class=\"col_heading level1 col0\" >Pos</th>        <th class=\"col_heading level1 col1\" >Driver</th>        <th class=\"col_heading level1 col2\" ><a href=\"http://en.wikipedia.org/wiki/2009_Australian_Grand_Prix?curid=20050933\">AUS</a></th>        <th class=\"col_heading level1 col3\" ><a href=\"http://en.wikipedia.org/wiki/2009_Malaysian_Grand_Prix?curid=21850299\">MAL</a> ‡</th>        <th class=\"col_heading level1 col4\" ><a href=\"http://en.wikipedia.org/wiki/2009_Chinese_Grand_Prix?curid=21958115\">CHN</a></th>        <th class=\"col_heading level1 col5\" ><a href=\"http://en.wikipedia.org/wiki/2009_Bahrain_Grand_Prix?curid=21960338\">BHR</a></th>        <th class=\"col_heading level1 col6\" ><a href=\"http://en.wikipedia.org/wiki/2009_Spanish_Grand_Prix?curid=22037370\">ESP</a></th>        <th class=\"col_heading level1 col7\" ><a href=\"http://en.wikipedia.org/wiki/2009_Monaco_Grand_Prix?curid=21103297\">MON</a></th>        <th class=\"col_heading level1 col8\" ><a href=\"http://en.wikipedia.org/wiki/2009_Turkish_Grand_Prix?curid=22178549\">TUR</a></th>        <th class=\"col_heading level1 col9\" ><a href=\"http://en.wikipedia.org/wiki/2009_British_Grand_Prix?curid=20821064\">GBR</a></th>        <th class=\"col_heading level1 col10\" ><a href=\"http://en.wikipedia.org/wiki/2009_German_Grand_Prix?curid=22185778\">GER</a></th>        <th class=\"col_heading level1 col11\" ><a href=\"http://en.wikipedia.org/wiki/2009_Hungarian_Grand_Prix?curid=22187110\">HUN</a></th>        <th class=\"col_heading level1 col12\" ><a href=\"http://en.wikipedia.org/wiki/2009_European_Grand_Prix?curid=22194224\">EUR</a></th>        <th class=\"col_heading level1 col13\" ><a href=\"http://en.wikipedia.org/wiki/2009_Belgian_Grand_Prix?curid=22197749\">BEL</a></th>        <th class=\"col_heading level1 col14\" ><a href=\"http://en.wikipedia.org/wiki/2009_Italian_Grand_Prix?curid=22209794\">ITA</a></th>        <th class=\"col_heading level1 col15\" ><a href=\"http://en.wikipedia.org/wiki/2009_Singapore_Grand_Prix?curid=22188809\">SIN</a></th>        <th class=\"col_heading level1 col16\" ><a href=\"http://en.wikipedia.org/wiki/2009_Japanese_Grand_Prix?curid=20159025\">JPN</a></th>        <th class=\"col_heading level1 col17\" ><a href=\"http://en.wikipedia.org/wiki/2009_Brazilian_Grand_Prix?curid=21960545\">BRA</a></th>        <th class=\"col_heading level1 col18\" ><a href=\"http://en.wikipedia.org/wiki/2009_Abu_Dhabi_Grand_Prix?curid=19487585\">ABU</a></th>        <th class=\"col_heading level1 col19\" ><a href=\"http://en.wikipedia.org/wiki/List_of_Formula_One_World_Championship_points_scoring_systems?curid=3437243\">Points</a></th>    </tr></thead><tbody>\n",
       "        </tbody></table>"
      ],
      "text/plain": [
       "<pandas.io.formats.style.Styler at 0x7f5f281058d0>"
      ]
     },
     "metadata": {},
     "output_type": "display_data"
    },
    {
     "name": "stdout",
     "output_type": "stream",
     "text": [
      "((LinkedString('Home \\ Away [1 ]', links=()), LinkedString('DUN', links=((0, 3, 'http://en.wikipedia.org/wiki/Dundee_United_F.C.?curid=331074'),)), LinkedString('DNF', links=((0, 3, 'http://en.wikipedia.org/wiki/Dunfermline_Athletic_F.C.?curid=451181'),)), LinkedString('FAL', links=((0, 3, 'http://en.wikipedia.org/wiki/Falkirk_F.C.?curid=560087'),)), LinkedString('INV', links=((0, 3, 'http://en.wikipedia.org/wiki/Inverness_Caledonian_Thistle_F.C.?curid=743540'),)), LinkedString('MOT', links=((0, 3, 'http://en.wikipedia.org/wiki/Motherwell_F.C.?curid=215398'),)), LinkedString('STM', links=((0, 3, 'http://en.wikipedia.org/wiki/St._Mirren_F.C.?curid=783089'),))),)\n",
      "1 (0, 1, 6, 'short-uppercase-acronyms') None None\n"
     ]
    },
    {
     "data": {
      "text/html": [
       "<style  type=\"text/css\" >\n",
       "    #T_9015e690_358e_11eb_81c0_00259091f1e8 .col_heading.level0 {\n",
       "          display: none;\n",
       "    }    #T_9015e690_358e_11eb_81c0_00259091f1e8 .col_heading.level1.col1 {\n",
       "          background-color: #ff0;\n",
       "    }    #T_9015e690_358e_11eb_81c0_00259091f1e8 .col_heading.level1.col2 {\n",
       "          background-color: #ff0;\n",
       "    }    #T_9015e690_358e_11eb_81c0_00259091f1e8 .col_heading.level1.col3 {\n",
       "          background-color: #ff0;\n",
       "    }    #T_9015e690_358e_11eb_81c0_00259091f1e8 .col_heading.level1.col4 {\n",
       "          background-color: #ff0;\n",
       "    }    #T_9015e690_358e_11eb_81c0_00259091f1e8 .col_heading.level1.col5 {\n",
       "          background-color: #ff0;\n",
       "    }    #T_9015e690_358e_11eb_81c0_00259091f1e8 .col_heading.level1.col6 {\n",
       "          background-color: #ff0;\n",
       "    }</style><table id=\"T_9015e690_358e_11eb_81c0_00259091f1e8\" ><thead>    <tr>        <th class=\"blank level0\" ></th>        <th class=\"col_heading level0 col0\" >0</th>        <th class=\"col_heading level0 col1\" >1</th>        <th class=\"col_heading level0 col2\" >2</th>        <th class=\"col_heading level0 col3\" >3</th>        <th class=\"col_heading level0 col4\" >4</th>        <th class=\"col_heading level0 col5\" >5</th>        <th class=\"col_heading level0 col6\" >6</th>    </tr>    <tr>        <th class=\"blank level1\" ></th>        <th class=\"col_heading level1 col0\" >Home \\ Away [1 ]</th>        <th class=\"col_heading level1 col1\" ><a href=\"http://en.wikipedia.org/wiki/Dundee_United_F.C.?curid=331074\">DUN</a></th>        <th class=\"col_heading level1 col2\" ><a href=\"http://en.wikipedia.org/wiki/Dunfermline_Athletic_F.C.?curid=451181\">DNF</a></th>        <th class=\"col_heading level1 col3\" ><a href=\"http://en.wikipedia.org/wiki/Falkirk_F.C.?curid=560087\">FAL</a></th>        <th class=\"col_heading level1 col4\" ><a href=\"http://en.wikipedia.org/wiki/Inverness_Caledonian_Thistle_F.C.?curid=743540\">INV</a></th>        <th class=\"col_heading level1 col5\" ><a href=\"http://en.wikipedia.org/wiki/Motherwell_F.C.?curid=215398\">MOT</a></th>        <th class=\"col_heading level1 col6\" ><a href=\"http://en.wikipedia.org/wiki/St._Mirren_F.C.?curid=783089\">STM</a></th>    </tr></thead><tbody>\n",
       "        </tbody></table>"
      ],
      "text/plain": [
       "<pandas.io.formats.style.Styler at 0x7f5f221ca7d0>"
      ]
     },
     "metadata": {},
     "output_type": "display_data"
    },
    {
     "name": "stdout",
     "output_type": "stream",
     "text": [
      "((LinkedString('Pos.', links=()), LinkedString('Driver', links=()), LinkedString('MON', links=((0, 3, 'http://en.wikipedia.org/wiki/1994_Monte_Carlo_Rally'),)), LinkedString('POR', links=((0, 3, 'http://en.wikipedia.org/wiki/1994_Rally_Portugal'),)), LinkedString('KEN', links=((0, 3, 'http://en.wikipedia.org/wiki/1994_Rally_Safari'),)), LinkedString('FRA', links=((0, 3, 'http://en.wikipedia.org/wiki/1994_Rally_de_France'),)), LinkedString('GRE', links=((0, 3, 'http://en.wikipedia.org/wiki/1994_Acropolis_Rally'),)), LinkedString('ARG', links=((0, 3, 'http://en.wikipedia.org/wiki/1994_Rally_Argentina'),)), LinkedString('NZL', links=((0, 3, 'http://en.wikipedia.org/wiki/1994_Rally_New_Zealand'),)), LinkedString('FIN', links=((0, 3, 'http://en.wikipedia.org/wiki/1994_Rally_Finland'),)), LinkedString('ITA', links=((0, 3, 'http://en.wikipedia.org/wiki/1994_Rally_Italia'),)), LinkedString('GBR', links=((0, 3, 'http://en.wikipedia.org/wiki/1994_Wales_Rally_GB'),)), LinkedString('Points', links=())),)\n",
      "1 (0, 2, 11, 'short-uppercase-acronyms') None None\n"
     ]
    },
    {
     "data": {
      "text/html": [
       "<style  type=\"text/css\" >\n",
       "    #T_9018579a_358e_11eb_81c0_00259091f1e8 .col_heading.level0 {\n",
       "          display: none;\n",
       "    }    #T_9018579a_358e_11eb_81c0_00259091f1e8 .col_heading.level1.col2 {\n",
       "          background-color: #ff0;\n",
       "    }    #T_9018579a_358e_11eb_81c0_00259091f1e8 .col_heading.level1.col3 {\n",
       "          background-color: #ff0;\n",
       "    }    #T_9018579a_358e_11eb_81c0_00259091f1e8 .col_heading.level1.col4 {\n",
       "          background-color: #ff0;\n",
       "    }    #T_9018579a_358e_11eb_81c0_00259091f1e8 .col_heading.level1.col5 {\n",
       "          background-color: #ff0;\n",
       "    }    #T_9018579a_358e_11eb_81c0_00259091f1e8 .col_heading.level1.col6 {\n",
       "          background-color: #ff0;\n",
       "    }    #T_9018579a_358e_11eb_81c0_00259091f1e8 .col_heading.level1.col7 {\n",
       "          background-color: #ff0;\n",
       "    }    #T_9018579a_358e_11eb_81c0_00259091f1e8 .col_heading.level1.col8 {\n",
       "          background-color: #ff0;\n",
       "    }    #T_9018579a_358e_11eb_81c0_00259091f1e8 .col_heading.level1.col9 {\n",
       "          background-color: #ff0;\n",
       "    }    #T_9018579a_358e_11eb_81c0_00259091f1e8 .col_heading.level1.col10 {\n",
       "          background-color: #ff0;\n",
       "    }    #T_9018579a_358e_11eb_81c0_00259091f1e8 .col_heading.level1.col11 {\n",
       "          background-color: #ff0;\n",
       "    }</style><table id=\"T_9018579a_358e_11eb_81c0_00259091f1e8\" ><thead>    <tr>        <th class=\"blank level0\" ></th>        <th class=\"col_heading level0 col0\" >0</th>        <th class=\"col_heading level0 col1\" >1</th>        <th class=\"col_heading level0 col2\" >2</th>        <th class=\"col_heading level0 col3\" >3</th>        <th class=\"col_heading level0 col4\" >4</th>        <th class=\"col_heading level0 col5\" >5</th>        <th class=\"col_heading level0 col6\" >6</th>        <th class=\"col_heading level0 col7\" >7</th>        <th class=\"col_heading level0 col8\" >8</th>        <th class=\"col_heading level0 col9\" >9</th>        <th class=\"col_heading level0 col10\" >10</th>        <th class=\"col_heading level0 col11\" >11</th>        <th class=\"col_heading level0 col12\" >12</th>    </tr>    <tr>        <th class=\"blank level1\" ></th>        <th class=\"col_heading level1 col0\" >Pos.</th>        <th class=\"col_heading level1 col1\" >Driver</th>        <th class=\"col_heading level1 col2\" ><a href=\"http://en.wikipedia.org/wiki/1994_Monte_Carlo_Rally\">MON</a></th>        <th class=\"col_heading level1 col3\" ><a href=\"http://en.wikipedia.org/wiki/1994_Rally_Portugal\">POR</a></th>        <th class=\"col_heading level1 col4\" ><a href=\"http://en.wikipedia.org/wiki/1994_Rally_Safari\">KEN</a></th>        <th class=\"col_heading level1 col5\" ><a href=\"http://en.wikipedia.org/wiki/1994_Rally_de_France\">FRA</a></th>        <th class=\"col_heading level1 col6\" ><a href=\"http://en.wikipedia.org/wiki/1994_Acropolis_Rally\">GRE</a></th>        <th class=\"col_heading level1 col7\" ><a href=\"http://en.wikipedia.org/wiki/1994_Rally_Argentina\">ARG</a></th>        <th class=\"col_heading level1 col8\" ><a href=\"http://en.wikipedia.org/wiki/1994_Rally_New_Zealand\">NZL</a></th>        <th class=\"col_heading level1 col9\" ><a href=\"http://en.wikipedia.org/wiki/1994_Rally_Finland\">FIN</a></th>        <th class=\"col_heading level1 col10\" ><a href=\"http://en.wikipedia.org/wiki/1994_Rally_Italia\">ITA</a></th>        <th class=\"col_heading level1 col11\" ><a href=\"http://en.wikipedia.org/wiki/1994_Wales_Rally_GB\">GBR</a></th>        <th class=\"col_heading level1 col12\" >Points</th>    </tr></thead><tbody>\n",
       "        </tbody></table>"
      ],
      "text/plain": [
       "<pandas.io.formats.style.Styler at 0x7f5f21bae590>"
      ]
     },
     "metadata": {},
     "output_type": "display_data"
    },
    {
     "name": "stdout",
     "output_type": "stream",
     "text": [
      "((LinkedString('Pos', links=()), LinkedString('Rider', links=()), LinkedString('Bike', links=()), LinkedString('QAT', links=((0, 3, 'http://en.wikipedia.org/wiki/2006_Losail_Superbike_World_Championship_round?curid=28334670'),)), LinkedString('QAT', links=((0, 3, 'http://en.wikipedia.org/wiki/2006_Losail_Superbike_World_Championship_round?curid=28334670'),)), LinkedString('AUS', links=((0, 3, 'http://en.wikipedia.org/wiki/2006_Phillip_Island_Superbike_World_Championship_round?curid=28334960'),)), LinkedString('AUS', links=((0, 3, 'http://en.wikipedia.org/wiki/2006_Phillip_Island_Superbike_World_Championship_round?curid=28334960'),)), LinkedString('ESP', links=((0, 3, 'http://en.wikipedia.org/wiki/2006_Valencia_Superbike_World_Championship_round?curid=28335079'),)), LinkedString('ESP', links=((0, 3, 'http://en.wikipedia.org/wiki/2006_Valencia_Superbike_World_Championship_round?curid=28335079'),)), LinkedString('ITA', links=((0, 3, 'http://en.wikipedia.org/wiki/2006_Monza_Superbike_World_Championship_round?curid=28342010'),)), LinkedString('EUR', links=((0, 3, 'http://en.wikipedia.org/wiki/2006_Silverstone_Superbike_World_Championship_round?curid=28342140'),)), LinkedString('EUR', links=((0, 3, 'http://en.wikipedia.org/wiki/2006_Silverstone_Superbike_World_Championship_round?curid=28342140'),)), LinkedString('SMR', links=((0, 3, 'http://en.wikipedia.org/wiki/2006_Misano_Superbike_World_Championship_round?curid=28345504'),)), LinkedString('CZE', links=((0, 3, 'http://en.wikipedia.org/wiki/2006_Brno_Superbike_World_Championship_round?curid=28361707'),)), LinkedString('CZE', links=((0, 3, 'http://en.wikipedia.org/wiki/2006_Brno_Superbike_World_Championship_round?curid=28361707'),)), LinkedString('GBR', links=((0, 3, 'http://en.wikipedia.org/wiki/2006_Brands_Hatch_Superbike_World_Championship_round?curid=28460517'),)), LinkedString('NED', links=((0, 3, 'http://en.wikipedia.org/wiki/2006_Assen_Superbike_World_Championship_round?curid=28460695'),)), LinkedString('NED', links=((0, 3, 'http://en.wikipedia.org/wiki/2006_Assen_Superbike_World_Championship_round?curid=28460695'),)), LinkedString('GER', links=((0, 3, 'http://en.wikipedia.org/wiki/2006_Eurospeedway_Lausitz_Superbike_World_Championship_round?curid=28460901'),)), LinkedString('GER', links=((0, 3, 'http://en.wikipedia.org/wiki/2006_Eurospeedway_Lausitz_Superbike_World_Championship_round?curid=28460901'),)), LinkedString('ITA', links=((0, 3, 'http://en.wikipedia.org/wiki/2006_Monza_Superbike_World_Championship_round?curid=28342010'),)), LinkedString('Pos', links=()), LinkedString('Pts', links=())), (LinkedString('Pos', links=()), LinkedString('Rider', links=()), LinkedString('Bike', links=()), LinkedString('R1', links=()), LinkedString('R2', links=()), LinkedString('R1', links=()), LinkedString('R2', links=()), LinkedString('R1', links=()), LinkedString('R2', links=()), LinkedString('R2', links=()), LinkedString('R1', links=()), LinkedString('R2', links=()), LinkedString('R1', links=()), LinkedString('R1', links=()), LinkedString('R2', links=()), LinkedString('R1', links=()), LinkedString('R1', links=()), LinkedString('R2', links=()), LinkedString('R1', links=()), LinkedString('R2', links=()), LinkedString('R1', links=()), LinkedString('Pos', links=()), LinkedString('Pts', links=())))\n",
      "1 (0, 3, 20, 'short-uppercase-acronyms') None None\n"
     ]
    },
    {
     "data": {
      "text/html": [
       "<style  type=\"text/css\" >\n",
       "    #T_901bfad0_358e_11eb_81c0_00259091f1e8 .col_heading.level0 {\n",
       "          display: none;\n",
       "    }    #T_901bfad0_358e_11eb_81c0_00259091f1e8 .col_heading.level1.col3 {\n",
       "          background-color: #ff0;\n",
       "    }    #T_901bfad0_358e_11eb_81c0_00259091f1e8 .col_heading.level1.col4 {\n",
       "          background-color: #ff0;\n",
       "    }    #T_901bfad0_358e_11eb_81c0_00259091f1e8 .col_heading.level1.col5 {\n",
       "          background-color: #ff0;\n",
       "    }    #T_901bfad0_358e_11eb_81c0_00259091f1e8 .col_heading.level1.col6 {\n",
       "          background-color: #ff0;\n",
       "    }    #T_901bfad0_358e_11eb_81c0_00259091f1e8 .col_heading.level1.col7 {\n",
       "          background-color: #ff0;\n",
       "    }    #T_901bfad0_358e_11eb_81c0_00259091f1e8 .col_heading.level1.col8 {\n",
       "          background-color: #ff0;\n",
       "    }    #T_901bfad0_358e_11eb_81c0_00259091f1e8 .col_heading.level1.col9 {\n",
       "          background-color: #ff0;\n",
       "    }    #T_901bfad0_358e_11eb_81c0_00259091f1e8 .col_heading.level1.col10 {\n",
       "          background-color: #ff0;\n",
       "    }    #T_901bfad0_358e_11eb_81c0_00259091f1e8 .col_heading.level1.col11 {\n",
       "          background-color: #ff0;\n",
       "    }    #T_901bfad0_358e_11eb_81c0_00259091f1e8 .col_heading.level1.col12 {\n",
       "          background-color: #ff0;\n",
       "    }    #T_901bfad0_358e_11eb_81c0_00259091f1e8 .col_heading.level1.col13 {\n",
       "          background-color: #ff0;\n",
       "    }    #T_901bfad0_358e_11eb_81c0_00259091f1e8 .col_heading.level1.col14 {\n",
       "          background-color: #ff0;\n",
       "    }    #T_901bfad0_358e_11eb_81c0_00259091f1e8 .col_heading.level1.col15 {\n",
       "          background-color: #ff0;\n",
       "    }    #T_901bfad0_358e_11eb_81c0_00259091f1e8 .col_heading.level1.col16 {\n",
       "          background-color: #ff0;\n",
       "    }    #T_901bfad0_358e_11eb_81c0_00259091f1e8 .col_heading.level1.col17 {\n",
       "          background-color: #ff0;\n",
       "    }    #T_901bfad0_358e_11eb_81c0_00259091f1e8 .col_heading.level1.col18 {\n",
       "          background-color: #ff0;\n",
       "    }    #T_901bfad0_358e_11eb_81c0_00259091f1e8 .col_heading.level1.col19 {\n",
       "          background-color: #ff0;\n",
       "    }    #T_901bfad0_358e_11eb_81c0_00259091f1e8 .col_heading.level1.col20 {\n",
       "          background-color: #ff0;\n",
       "    }</style><table id=\"T_901bfad0_358e_11eb_81c0_00259091f1e8\" ><thead>    <tr>        <th class=\"blank level0\" ></th>        <th class=\"col_heading level0 col0\" >0</th>        <th class=\"col_heading level0 col1\" >1</th>        <th class=\"col_heading level0 col2\" >2</th>        <th class=\"col_heading level0 col3\" >3</th>        <th class=\"col_heading level0 col4\" >4</th>        <th class=\"col_heading level0 col5\" >5</th>        <th class=\"col_heading level0 col6\" >6</th>        <th class=\"col_heading level0 col7\" >7</th>        <th class=\"col_heading level0 col8\" >8</th>        <th class=\"col_heading level0 col9\" >9</th>        <th class=\"col_heading level0 col10\" >10</th>        <th class=\"col_heading level0 col11\" >11</th>        <th class=\"col_heading level0 col12\" >12</th>        <th class=\"col_heading level0 col13\" >13</th>        <th class=\"col_heading level0 col14\" >14</th>        <th class=\"col_heading level0 col15\" >15</th>        <th class=\"col_heading level0 col16\" >16</th>        <th class=\"col_heading level0 col17\" >17</th>        <th class=\"col_heading level0 col18\" >18</th>        <th class=\"col_heading level0 col19\" >19</th>        <th class=\"col_heading level0 col20\" >20</th>        <th class=\"col_heading level0 col21\" >21</th>        <th class=\"col_heading level0 col22\" >22</th>    </tr>    <tr>        <th class=\"blank level1\" ></th>        <th class=\"col_heading level1 col0\" >Pos</th>        <th class=\"col_heading level1 col1\" >Rider</th>        <th class=\"col_heading level1 col2\" >Bike</th>        <th class=\"col_heading level1 col3\" ><a href=\"http://en.wikipedia.org/wiki/2006_Losail_Superbike_World_Championship_round?curid=28334670\">QAT</a></th>        <th class=\"col_heading level1 col4\" ><a href=\"http://en.wikipedia.org/wiki/2006_Losail_Superbike_World_Championship_round?curid=28334670\">QAT</a></th>        <th class=\"col_heading level1 col5\" ><a href=\"http://en.wikipedia.org/wiki/2006_Phillip_Island_Superbike_World_Championship_round?curid=28334960\">AUS</a></th>        <th class=\"col_heading level1 col6\" ><a href=\"http://en.wikipedia.org/wiki/2006_Phillip_Island_Superbike_World_Championship_round?curid=28334960\">AUS</a></th>        <th class=\"col_heading level1 col7\" ><a href=\"http://en.wikipedia.org/wiki/2006_Valencia_Superbike_World_Championship_round?curid=28335079\">ESP</a></th>        <th class=\"col_heading level1 col8\" ><a href=\"http://en.wikipedia.org/wiki/2006_Valencia_Superbike_World_Championship_round?curid=28335079\">ESP</a></th>        <th class=\"col_heading level1 col9\" ><a href=\"http://en.wikipedia.org/wiki/2006_Monza_Superbike_World_Championship_round?curid=28342010\">ITA</a></th>        <th class=\"col_heading level1 col10\" ><a href=\"http://en.wikipedia.org/wiki/2006_Silverstone_Superbike_World_Championship_round?curid=28342140\">EUR</a></th>        <th class=\"col_heading level1 col11\" ><a href=\"http://en.wikipedia.org/wiki/2006_Silverstone_Superbike_World_Championship_round?curid=28342140\">EUR</a></th>        <th class=\"col_heading level1 col12\" ><a href=\"http://en.wikipedia.org/wiki/2006_Misano_Superbike_World_Championship_round?curid=28345504\">SMR</a></th>        <th class=\"col_heading level1 col13\" ><a href=\"http://en.wikipedia.org/wiki/2006_Brno_Superbike_World_Championship_round?curid=28361707\">CZE</a></th>        <th class=\"col_heading level1 col14\" ><a href=\"http://en.wikipedia.org/wiki/2006_Brno_Superbike_World_Championship_round?curid=28361707\">CZE</a></th>        <th class=\"col_heading level1 col15\" ><a href=\"http://en.wikipedia.org/wiki/2006_Brands_Hatch_Superbike_World_Championship_round?curid=28460517\">GBR</a></th>        <th class=\"col_heading level1 col16\" ><a href=\"http://en.wikipedia.org/wiki/2006_Assen_Superbike_World_Championship_round?curid=28460695\">NED</a></th>        <th class=\"col_heading level1 col17\" ><a href=\"http://en.wikipedia.org/wiki/2006_Assen_Superbike_World_Championship_round?curid=28460695\">NED</a></th>        <th class=\"col_heading level1 col18\" ><a href=\"http://en.wikipedia.org/wiki/2006_Eurospeedway_Lausitz_Superbike_World_Championship_round?curid=28460901\">GER</a></th>        <th class=\"col_heading level1 col19\" ><a href=\"http://en.wikipedia.org/wiki/2006_Eurospeedway_Lausitz_Superbike_World_Championship_round?curid=28460901\">GER</a></th>        <th class=\"col_heading level1 col20\" ><a href=\"http://en.wikipedia.org/wiki/2006_Monza_Superbike_World_Championship_round?curid=28342010\">ITA</a></th>        <th class=\"col_heading level1 col21\" >Pos</th>        <th class=\"col_heading level1 col22\" >Pts</th>    </tr>    <tr>        <th class=\"blank level2\" ></th>        <th class=\"col_heading level2 col0\" >Pos</th>        <th class=\"col_heading level2 col1\" >Rider</th>        <th class=\"col_heading level2 col2\" >Bike</th>        <th class=\"col_heading level2 col3\" >R1</th>        <th class=\"col_heading level2 col4\" >R2</th>        <th class=\"col_heading level2 col5\" >R1</th>        <th class=\"col_heading level2 col6\" >R2</th>        <th class=\"col_heading level2 col7\" >R1</th>        <th class=\"col_heading level2 col8\" >R2</th>        <th class=\"col_heading level2 col9\" >R2</th>        <th class=\"col_heading level2 col10\" >R1</th>        <th class=\"col_heading level2 col11\" >R2</th>        <th class=\"col_heading level2 col12\" >R1</th>        <th class=\"col_heading level2 col13\" >R1</th>        <th class=\"col_heading level2 col14\" >R2</th>        <th class=\"col_heading level2 col15\" >R1</th>        <th class=\"col_heading level2 col16\" >R1</th>        <th class=\"col_heading level2 col17\" >R2</th>        <th class=\"col_heading level2 col18\" >R1</th>        <th class=\"col_heading level2 col19\" >R2</th>        <th class=\"col_heading level2 col20\" >R1</th>        <th class=\"col_heading level2 col21\" >Pos</th>        <th class=\"col_heading level2 col22\" >Pts</th>    </tr></thead><tbody>\n",
       "        </tbody></table>"
      ],
      "text/plain": [
       "<pandas.io.formats.style.Styler at 0x7f5f222caa10>"
      ]
     },
     "metadata": {},
     "output_type": "display_data"
    },
    {
     "name": "stdout",
     "output_type": "stream",
     "text": [
      "((LinkedString('Home \\ Away [1 ]', links=()), LinkedString('HAR', links=((0, 3, 'http://en.wikipedia.org/wiki/Hakoah_Amidar_Ramat_Gan_F.C.?curid=5864031'),)), LinkedString('HPT', links=((0, 3, 'http://en.wikipedia.org/wiki/Hapoel_Petah_Tikva_F.C.?curid=5166496'),)), LinkedString('MHA', links=((0, 3, 'http://en.wikipedia.org/wiki/Maccabi_Haifa_F.C.?curid=319872'),)), LinkedString('MHE', links=((0, 3, 'http://en.wikipedia.org/wiki/Maccabi_Herzliya_F.C.?curid=5333420'),)), LinkedString('MNE', links=((0, 3, 'http://en.wikipedia.org/wiki/Maccabi_Netanya_F.C.?curid=5046198'),)), LinkedString('MTA', links=((0, 3, 'http://en.wikipedia.org/wiki/Maccabi_Tel_Aviv_F.C.?curid=861284'),))),)\n",
      "1 (0, 1, 6, 'short-uppercase-acronyms') None None\n"
     ]
    },
    {
     "data": {
      "text/html": [
       "<style  type=\"text/css\" >\n",
       "    #T_90214364_358e_11eb_81c0_00259091f1e8 .col_heading.level0 {\n",
       "          display: none;\n",
       "    }    #T_90214364_358e_11eb_81c0_00259091f1e8 .col_heading.level1.col1 {\n",
       "          background-color: #ff0;\n",
       "    }    #T_90214364_358e_11eb_81c0_00259091f1e8 .col_heading.level1.col2 {\n",
       "          background-color: #ff0;\n",
       "    }    #T_90214364_358e_11eb_81c0_00259091f1e8 .col_heading.level1.col3 {\n",
       "          background-color: #ff0;\n",
       "    }    #T_90214364_358e_11eb_81c0_00259091f1e8 .col_heading.level1.col4 {\n",
       "          background-color: #ff0;\n",
       "    }    #T_90214364_358e_11eb_81c0_00259091f1e8 .col_heading.level1.col5 {\n",
       "          background-color: #ff0;\n",
       "    }    #T_90214364_358e_11eb_81c0_00259091f1e8 .col_heading.level1.col6 {\n",
       "          background-color: #ff0;\n",
       "    }</style><table id=\"T_90214364_358e_11eb_81c0_00259091f1e8\" ><thead>    <tr>        <th class=\"blank level0\" ></th>        <th class=\"col_heading level0 col0\" >0</th>        <th class=\"col_heading level0 col1\" >1</th>        <th class=\"col_heading level0 col2\" >2</th>        <th class=\"col_heading level0 col3\" >3</th>        <th class=\"col_heading level0 col4\" >4</th>        <th class=\"col_heading level0 col5\" >5</th>        <th class=\"col_heading level0 col6\" >6</th>    </tr>    <tr>        <th class=\"blank level1\" ></th>        <th class=\"col_heading level1 col0\" >Home \\ Away [1 ]</th>        <th class=\"col_heading level1 col1\" ><a href=\"http://en.wikipedia.org/wiki/Hakoah_Amidar_Ramat_Gan_F.C.?curid=5864031\">HAR</a></th>        <th class=\"col_heading level1 col2\" ><a href=\"http://en.wikipedia.org/wiki/Hapoel_Petah_Tikva_F.C.?curid=5166496\">HPT</a></th>        <th class=\"col_heading level1 col3\" ><a href=\"http://en.wikipedia.org/wiki/Maccabi_Haifa_F.C.?curid=319872\">MHA</a></th>        <th class=\"col_heading level1 col4\" ><a href=\"http://en.wikipedia.org/wiki/Maccabi_Herzliya_F.C.?curid=5333420\">MHE</a></th>        <th class=\"col_heading level1 col5\" ><a href=\"http://en.wikipedia.org/wiki/Maccabi_Netanya_F.C.?curid=5046198\">MNE</a></th>        <th class=\"col_heading level1 col6\" ><a href=\"http://en.wikipedia.org/wiki/Maccabi_Tel_Aviv_F.C.?curid=861284\">MTA</a></th>    </tr></thead><tbody>\n",
       "        </tbody></table>"
      ],
      "text/plain": [
       "<pandas.io.formats.style.Styler at 0x7f5f21c1f810>"
      ]
     },
     "metadata": {},
     "output_type": "display_data"
    },
    {
     "name": "stdout",
     "output_type": "stream",
     "text": [
      "((LinkedString('Year', links=()), LinkedString('Title', links=()), LinkedString('Peak chart positions', links=()), LinkedString('Peak chart positions', links=()), LinkedString('Peak chart positions', links=()), LinkedString('Peak chart positions', links=()), LinkedString('Peak chart positions', links=())), (LinkedString('Year', links=()), LinkedString('Title', links=()), LinkedString('AUT', links=((0, 3, 'http://en.wikipedia.org/wiki/Ö3_Austria_Top_40?curid=13757814'),)), LinkedString('FIN', links=((0, 3, 'http://en.wikipedia.org/wiki/Mitä_Hittiä?curid=7824827'),)), LinkedString('GER', links=((0, 3, 'http://en.wikipedia.org/wiki/Media_Control?curid=6170448'),)), LinkedString('HU', links=((0, 2, 'http://en.wikipedia.org/wiki/Hungary?curid=13275'),)), LinkedString('SWI', links=((0, 3, 'http://en.wikipedia.org/wiki/Swiss_Music_Charts?curid=17054761'),))))\n",
      "1 (1, 2, 6, 'short-uppercase-acronyms') None None\n"
     ]
    },
    {
     "data": {
      "text/html": [
       "<style  type=\"text/css\" >\n",
       "    #T_90248128_358e_11eb_81c0_00259091f1e8 .col_heading.level0 {\n",
       "          display: none;\n",
       "    }    #T_90248128_358e_11eb_81c0_00259091f1e8 .col_heading.level2.col2 {\n",
       "          background-color: #ff0;\n",
       "    }    #T_90248128_358e_11eb_81c0_00259091f1e8 .col_heading.level2.col3 {\n",
       "          background-color: #ff0;\n",
       "    }    #T_90248128_358e_11eb_81c0_00259091f1e8 .col_heading.level2.col4 {\n",
       "          background-color: #ff0;\n",
       "    }    #T_90248128_358e_11eb_81c0_00259091f1e8 .col_heading.level2.col5 {\n",
       "          background-color: #ff0;\n",
       "    }    #T_90248128_358e_11eb_81c0_00259091f1e8 .col_heading.level2.col6 {\n",
       "          background-color: #ff0;\n",
       "    }</style><table id=\"T_90248128_358e_11eb_81c0_00259091f1e8\" ><thead>    <tr>        <th class=\"blank level0\" ></th>        <th class=\"col_heading level0 col0\" >0</th>        <th class=\"col_heading level0 col1\" >1</th>        <th class=\"col_heading level0 col2\" >2</th>        <th class=\"col_heading level0 col3\" >3</th>        <th class=\"col_heading level0 col4\" >4</th>        <th class=\"col_heading level0 col5\" >5</th>        <th class=\"col_heading level0 col6\" >6</th>    </tr>    <tr>        <th class=\"blank level1\" ></th>        <th class=\"col_heading level1 col0\" >Year</th>        <th class=\"col_heading level1 col1\" >Title</th>        <th class=\"col_heading level1 col2\" >Peak chart positions</th>        <th class=\"col_heading level1 col3\" >Peak chart positions</th>        <th class=\"col_heading level1 col4\" >Peak chart positions</th>        <th class=\"col_heading level1 col5\" >Peak chart positions</th>        <th class=\"col_heading level1 col6\" >Peak chart positions</th>    </tr>    <tr>        <th class=\"blank level2\" ></th>        <th class=\"col_heading level2 col0\" >Year</th>        <th class=\"col_heading level2 col1\" >Title</th>        <th class=\"col_heading level2 col2\" ><a href=\"http://en.wikipedia.org/wiki/Ö3_Austria_Top_40?curid=13757814\">AUT</a></th>        <th class=\"col_heading level2 col3\" ><a href=\"http://en.wikipedia.org/wiki/Mitä_Hittiä?curid=7824827\">FIN</a></th>        <th class=\"col_heading level2 col4\" ><a href=\"http://en.wikipedia.org/wiki/Media_Control?curid=6170448\">GER</a></th>        <th class=\"col_heading level2 col5\" ><a href=\"http://en.wikipedia.org/wiki/Hungary?curid=13275\">HU</a></th>        <th class=\"col_heading level2 col6\" ><a href=\"http://en.wikipedia.org/wiki/Swiss_Music_Charts?curid=17054761\">SWI</a></th>    </tr></thead><tbody>\n",
       "        </tbody></table>"
      ],
      "text/plain": [
       "<pandas.io.formats.style.Styler at 0x7f5f21bb3e90>"
      ]
     },
     "metadata": {},
     "output_type": "display_data"
    },
    {
     "name": "stdout",
     "output_type": "stream",
     "text": [
      "((LinkedString('', links=()), LinkedString('AVA', links=()), LinkedString('GRE', links=()), LinkedString('SCZ', links=()), LinkedString('STA', links=())),)\n",
      "1 (0, 1, 4, 'short-uppercase-acronyms') None None\n"
     ]
    },
    {
     "data": {
      "text/html": [
       "<style  type=\"text/css\" >\n",
       "    #T_9026ed8c_358e_11eb_81c0_00259091f1e8 .col_heading.level0 {\n",
       "          display: none;\n",
       "    }    #T_9026ed8c_358e_11eb_81c0_00259091f1e8 .col_heading.level1.col1 {\n",
       "          background-color: #ff0;\n",
       "    }    #T_9026ed8c_358e_11eb_81c0_00259091f1e8 .col_heading.level1.col2 {\n",
       "          background-color: #ff0;\n",
       "    }    #T_9026ed8c_358e_11eb_81c0_00259091f1e8 .col_heading.level1.col3 {\n",
       "          background-color: #ff0;\n",
       "    }    #T_9026ed8c_358e_11eb_81c0_00259091f1e8 .col_heading.level1.col4 {\n",
       "          background-color: #ff0;\n",
       "    }</style><table id=\"T_9026ed8c_358e_11eb_81c0_00259091f1e8\" ><thead>    <tr>        <th class=\"blank level0\" ></th>        <th class=\"col_heading level0 col0\" >0</th>        <th class=\"col_heading level0 col1\" >1</th>        <th class=\"col_heading level0 col2\" >2</th>        <th class=\"col_heading level0 col3\" >3</th>        <th class=\"col_heading level0 col4\" >4</th>    </tr>    <tr>        <th class=\"blank level1\" ></th>        <th class=\"col_heading level1 col0\" ></th>        <th class=\"col_heading level1 col1\" >AVA</th>        <th class=\"col_heading level1 col2\" >GRE</th>        <th class=\"col_heading level1 col3\" >SCZ</th>        <th class=\"col_heading level1 col4\" >STA</th>    </tr></thead><tbody>\n",
       "        </tbody></table>"
      ],
      "text/plain": [
       "<pandas.io.formats.style.Styler at 0x7f5f2810f0d0>"
      ]
     },
     "metadata": {},
     "output_type": "display_data"
    },
    {
     "name": "stdout",
     "output_type": "stream",
     "text": [
      "((LinkedString('Year', links=()), LinkedString('AGE', links=()), LinkedString('Team', links=()), LinkedString('LG', links=()), LinkedString('GP', links=()), LinkedString('SK', links=()), LinkedString('SFY', links=()), LinkedString('INT', links=()), LinkedString('YDS', links=()), LinkedString('LNG', links=()), LinkedString('TD', links=()), LinkedString('TOT', links=()), LinkedString('OWR', links=()), LinkedString('OPR', links=()), LinkedString('YDS', links=()), LinkedString('TD', links=())),)\n",
      "1 (0, 3, 15, 'short-uppercase-acronyms') None None\n"
     ]
    },
    {
     "data": {
      "text/html": [
       "<style  type=\"text/css\" >\n",
       "    #T_9029a414_358e_11eb_81c0_00259091f1e8 .col_heading.level0 {\n",
       "          display: none;\n",
       "    }    #T_9029a414_358e_11eb_81c0_00259091f1e8 .col_heading.level1.col3 {\n",
       "          background-color: #ff0;\n",
       "    }    #T_9029a414_358e_11eb_81c0_00259091f1e8 .col_heading.level1.col4 {\n",
       "          background-color: #ff0;\n",
       "    }    #T_9029a414_358e_11eb_81c0_00259091f1e8 .col_heading.level1.col5 {\n",
       "          background-color: #ff0;\n",
       "    }    #T_9029a414_358e_11eb_81c0_00259091f1e8 .col_heading.level1.col6 {\n",
       "          background-color: #ff0;\n",
       "    }    #T_9029a414_358e_11eb_81c0_00259091f1e8 .col_heading.level1.col7 {\n",
       "          background-color: #ff0;\n",
       "    }    #T_9029a414_358e_11eb_81c0_00259091f1e8 .col_heading.level1.col8 {\n",
       "          background-color: #ff0;\n",
       "    }    #T_9029a414_358e_11eb_81c0_00259091f1e8 .col_heading.level1.col9 {\n",
       "          background-color: #ff0;\n",
       "    }    #T_9029a414_358e_11eb_81c0_00259091f1e8 .col_heading.level1.col10 {\n",
       "          background-color: #ff0;\n",
       "    }    #T_9029a414_358e_11eb_81c0_00259091f1e8 .col_heading.level1.col11 {\n",
       "          background-color: #ff0;\n",
       "    }    #T_9029a414_358e_11eb_81c0_00259091f1e8 .col_heading.level1.col12 {\n",
       "          background-color: #ff0;\n",
       "    }    #T_9029a414_358e_11eb_81c0_00259091f1e8 .col_heading.level1.col13 {\n",
       "          background-color: #ff0;\n",
       "    }    #T_9029a414_358e_11eb_81c0_00259091f1e8 .col_heading.level1.col14 {\n",
       "          background-color: #ff0;\n",
       "    }    #T_9029a414_358e_11eb_81c0_00259091f1e8 .col_heading.level1.col15 {\n",
       "          background-color: #ff0;\n",
       "    }</style><table id=\"T_9029a414_358e_11eb_81c0_00259091f1e8\" ><thead>    <tr>        <th class=\"blank level0\" ></th>        <th class=\"col_heading level0 col0\" >0</th>        <th class=\"col_heading level0 col1\" >1</th>        <th class=\"col_heading level0 col2\" >2</th>        <th class=\"col_heading level0 col3\" >3</th>        <th class=\"col_heading level0 col4\" >4</th>        <th class=\"col_heading level0 col5\" >5</th>        <th class=\"col_heading level0 col6\" >6</th>        <th class=\"col_heading level0 col7\" >7</th>        <th class=\"col_heading level0 col8\" >8</th>        <th class=\"col_heading level0 col9\" >9</th>        <th class=\"col_heading level0 col10\" >10</th>        <th class=\"col_heading level0 col11\" >11</th>        <th class=\"col_heading level0 col12\" >12</th>        <th class=\"col_heading level0 col13\" >13</th>        <th class=\"col_heading level0 col14\" >14</th>        <th class=\"col_heading level0 col15\" >15</th>    </tr>    <tr>        <th class=\"blank level1\" ></th>        <th class=\"col_heading level1 col0\" >Year</th>        <th class=\"col_heading level1 col1\" >AGE</th>        <th class=\"col_heading level1 col2\" >Team</th>        <th class=\"col_heading level1 col3\" >LG</th>        <th class=\"col_heading level1 col4\" >GP</th>        <th class=\"col_heading level1 col5\" >SK</th>        <th class=\"col_heading level1 col6\" >SFY</th>        <th class=\"col_heading level1 col7\" >INT</th>        <th class=\"col_heading level1 col8\" >YDS</th>        <th class=\"col_heading level1 col9\" >LNG</th>        <th class=\"col_heading level1 col10\" >TD</th>        <th class=\"col_heading level1 col11\" >TOT</th>        <th class=\"col_heading level1 col12\" >OWR</th>        <th class=\"col_heading level1 col13\" >OPR</th>        <th class=\"col_heading level1 col14\" >YDS</th>        <th class=\"col_heading level1 col15\" >TD</th>    </tr></thead><tbody>\n",
       "        </tbody></table>"
      ],
      "text/plain": [
       "<pandas.io.formats.style.Styler at 0x7f5f21bf18d0>"
      ]
     },
     "metadata": {},
     "output_type": "display_data"
    },
    {
     "name": "stdout",
     "output_type": "stream",
     "text": [
      "((LinkedString('Single', links=()), LinkedString('Year', links=()), LinkedString('Peak chart positions', links=()), LinkedString('Peak chart positions', links=()), LinkedString('Peak chart positions', links=()), LinkedString('Peak chart positions', links=()), LinkedString('Peak chart positions', links=()), LinkedString('Peak chart positions', links=()), LinkedString('Peak chart positions', links=()), LinkedString('Peak chart positions', links=()), LinkedString('Peak chart positions', links=()), LinkedString('Certifications', links=((0, 14, 'http://en.wikipedia.org/wiki/List_of_music_recording_certifications?curid=17627213'),)), LinkedString('Album', links=())), (LinkedString('Single', links=()), LinkedString('Year', links=()), LinkedString('UK', links=((0, 2, 'http://en.wikipedia.org/wiki/UK_Singles_Chart?curid=3349146'),)), LinkedString('AUT', links=((0, 3, 'http://en.wikipedia.org/wiki/Ö3_Austria_Top_40?curid=13757814'),)), LinkedString('CAN', links=((0, 3, 'http://en.wikipedia.org/wiki/Canadian_Singles_Chart?curid=5536421'),)), LinkedString('FRA', links=((0, 3, \"http://en.wikipedia.org/wiki/Syndicat_National_de_l'Édition_Phonographique?curid=4565593\"),)), LinkedString('GER', links=((0, 3, 'http://en.wikipedia.org/wiki/Media_Control_Charts?curid=6170448'),)), LinkedString('ITA', links=((0, 3, 'http://en.wikipedia.org/wiki/Federazione_Industria_Musicale_Italiana?curid=4464404'),)), LinkedString('NLD', links=((0, 3, 'http://en.wikipedia.org/wiki/Dutch_Top_40?curid=4685500'),)), LinkedString('SWI', links=((0, 3, 'http://en.wikipedia.org/wiki/Swiss_Hitparade?curid=17054761'),)), LinkedString('US', links=((0, 2, 'http://en.wikipedia.org/wiki/Billboard_Hot_100?curid=423161'),)), LinkedString('Certifications', links=((0, 14, 'http://en.wikipedia.org/wiki/List_of_music_recording_certifications?curid=17627213'),)), LinkedString('Album', links=())))\n",
      "1 (1, 2, 10, 'short-uppercase-acronyms') None None\n"
     ]
    },
    {
     "data": {
      "text/html": [
       "<style  type=\"text/css\" >\n",
       "    #T_902d5fe6_358e_11eb_81c0_00259091f1e8 .col_heading.level0 {\n",
       "          display: none;\n",
       "    }    #T_902d5fe6_358e_11eb_81c0_00259091f1e8 .col_heading.level2.col2 {\n",
       "          background-color: #ff0;\n",
       "    }    #T_902d5fe6_358e_11eb_81c0_00259091f1e8 .col_heading.level2.col3 {\n",
       "          background-color: #ff0;\n",
       "    }    #T_902d5fe6_358e_11eb_81c0_00259091f1e8 .col_heading.level2.col4 {\n",
       "          background-color: #ff0;\n",
       "    }    #T_902d5fe6_358e_11eb_81c0_00259091f1e8 .col_heading.level2.col5 {\n",
       "          background-color: #ff0;\n",
       "    }    #T_902d5fe6_358e_11eb_81c0_00259091f1e8 .col_heading.level2.col6 {\n",
       "          background-color: #ff0;\n",
       "    }    #T_902d5fe6_358e_11eb_81c0_00259091f1e8 .col_heading.level2.col7 {\n",
       "          background-color: #ff0;\n",
       "    }    #T_902d5fe6_358e_11eb_81c0_00259091f1e8 .col_heading.level2.col8 {\n",
       "          background-color: #ff0;\n",
       "    }    #T_902d5fe6_358e_11eb_81c0_00259091f1e8 .col_heading.level2.col9 {\n",
       "          background-color: #ff0;\n",
       "    }    #T_902d5fe6_358e_11eb_81c0_00259091f1e8 .col_heading.level2.col10 {\n",
       "          background-color: #ff0;\n",
       "    }</style><table id=\"T_902d5fe6_358e_11eb_81c0_00259091f1e8\" ><thead>    <tr>        <th class=\"blank level0\" ></th>        <th class=\"col_heading level0 col0\" >0</th>        <th class=\"col_heading level0 col1\" >1</th>        <th class=\"col_heading level0 col2\" >2</th>        <th class=\"col_heading level0 col3\" >3</th>        <th class=\"col_heading level0 col4\" >4</th>        <th class=\"col_heading level0 col5\" >5</th>        <th class=\"col_heading level0 col6\" >6</th>        <th class=\"col_heading level0 col7\" >7</th>        <th class=\"col_heading level0 col8\" >8</th>        <th class=\"col_heading level0 col9\" >9</th>        <th class=\"col_heading level0 col10\" >10</th>        <th class=\"col_heading level0 col11\" >11</th>        <th class=\"col_heading level0 col12\" >12</th>    </tr>    <tr>        <th class=\"blank level1\" ></th>        <th class=\"col_heading level1 col0\" >Single</th>        <th class=\"col_heading level1 col1\" >Year</th>        <th class=\"col_heading level1 col2\" >Peak chart positions</th>        <th class=\"col_heading level1 col3\" >Peak chart positions</th>        <th class=\"col_heading level1 col4\" >Peak chart positions</th>        <th class=\"col_heading level1 col5\" >Peak chart positions</th>        <th class=\"col_heading level1 col6\" >Peak chart positions</th>        <th class=\"col_heading level1 col7\" >Peak chart positions</th>        <th class=\"col_heading level1 col8\" >Peak chart positions</th>        <th class=\"col_heading level1 col9\" >Peak chart positions</th>        <th class=\"col_heading level1 col10\" >Peak chart positions</th>        <th class=\"col_heading level1 col11\" ><a href=\"http://en.wikipedia.org/wiki/List_of_music_recording_certifications?curid=17627213\">Certifications</a></th>        <th class=\"col_heading level1 col12\" >Album</th>    </tr>    <tr>        <th class=\"blank level2\" ></th>        <th class=\"col_heading level2 col0\" >Single</th>        <th class=\"col_heading level2 col1\" >Year</th>        <th class=\"col_heading level2 col2\" ><a href=\"http://en.wikipedia.org/wiki/UK_Singles_Chart?curid=3349146\">UK</a></th>        <th class=\"col_heading level2 col3\" ><a href=\"http://en.wikipedia.org/wiki/Ö3_Austria_Top_40?curid=13757814\">AUT</a></th>        <th class=\"col_heading level2 col4\" ><a href=\"http://en.wikipedia.org/wiki/Canadian_Singles_Chart?curid=5536421\">CAN</a></th>        <th class=\"col_heading level2 col5\" ><a href=\"http://en.wikipedia.org/wiki/Syndicat_National_de_l'Édition_Phonographique?curid=4565593\">FRA</a></th>        <th class=\"col_heading level2 col6\" ><a href=\"http://en.wikipedia.org/wiki/Media_Control_Charts?curid=6170448\">GER</a></th>        <th class=\"col_heading level2 col7\" ><a href=\"http://en.wikipedia.org/wiki/Federazione_Industria_Musicale_Italiana?curid=4464404\">ITA</a></th>        <th class=\"col_heading level2 col8\" ><a href=\"http://en.wikipedia.org/wiki/Dutch_Top_40?curid=4685500\">NLD</a></th>        <th class=\"col_heading level2 col9\" ><a href=\"http://en.wikipedia.org/wiki/Swiss_Hitparade?curid=17054761\">SWI</a></th>        <th class=\"col_heading level2 col10\" ><a href=\"http://en.wikipedia.org/wiki/Billboard_Hot_100?curid=423161\">US</a></th>        <th class=\"col_heading level2 col11\" ><a href=\"http://en.wikipedia.org/wiki/List_of_music_recording_certifications?curid=17627213\">Certifications</a></th>        <th class=\"col_heading level2 col12\" >Album</th>    </tr></thead><tbody>\n",
       "        </tbody></table>"
      ],
      "text/plain": [
       "<pandas.io.formats.style.Styler at 0x7f5f281303d0>"
      ]
     },
     "metadata": {},
     "output_type": "display_data"
    },
    {
     "name": "stdout",
     "output_type": "stream",
     "text": [
      "((LinkedString('H \\ A', links=()), LinkedString('ADO', links=((0, 3, 'http://en.wikipedia.org/wiki/ADO_Den_Haag?curid=161604'),)), LinkedString('AJX', links=((0, 3, 'http://en.wikipedia.org/wiki/AFC_Ajax?curid=2273'),)), LinkedString('AZ', links=((0, 2, 'http://en.wikipedia.org/wiki/AZ_(football_club)?curid=2289'),)), LinkedString('EXC', links=((0, 3, 'http://en.wikipedia.org/wiki/Excelsior_Rotterdam?curid=79817'),)), LinkedString('FEY', links=((0, 3, 'http://en.wikipedia.org/wiki/Feyenoord?curid=47707'),)), LinkedString('GRO', links=((0, 3, 'http://en.wikipedia.org/wiki/FC_Groningen?curid=1103112'),)), LinkedString('HEE', links=((0, 3, 'http://en.wikipedia.org/wiki/SC_Heerenveen?curid=745757'),)), LinkedString('HER', links=((0, 3, 'http://en.wikipedia.org/wiki/Heracles_Almelo?curid=2144216'),)), LinkedString('NAC', links=((0, 3, 'http://en.wikipedia.org/wiki/NAC_Breda?curid=505173'),)), LinkedString('NEC', links=((0, 3, 'http://en.wikipedia.org/wiki/NEC_(football_club)?curid=834154'),)), LinkedString('PSV', links=((0, 3, 'http://en.wikipedia.org/wiki/PSV_Eindhoven?curid=79820'),)), LinkedString('RKC', links=((0, 3, 'http://en.wikipedia.org/wiki/RKC_Waalwijk?curid=1107824'),)), LinkedString('RJC', links=((0, 3, 'http://en.wikipedia.org/wiki/Roda_JC?curid=834196'),)), LinkedString('SPA', links=((0, 3, 'http://en.wikipedia.org/wiki/Sparta_Rotterdam?curid=79818'),)), LinkedString('TWE', links=((0, 3, 'http://en.wikipedia.org/wiki/FC_Twente?curid=800033'),)), LinkedString('UTR', links=((0, 3, 'http://en.wikipedia.org/wiki/FC_Utrecht?curid=834226'),)), LinkedString('VIT', links=((0, 3, 'http://en.wikipedia.org/wiki/Vitesse?curid=834256'),)), LinkedString('WIL', links=((0, 3, 'http://en.wikipedia.org/wiki/Willem_II_Tilburg?curid=834275'),))),)\n",
      "1 (0, 1, 18, 'short-uppercase-acronyms') None None\n"
     ]
    },
    {
     "data": {
      "text/html": [
       "<style  type=\"text/css\" >\n",
       "    #T_9030db26_358e_11eb_81c0_00259091f1e8 .col_heading.level0 {\n",
       "          display: none;\n",
       "    }    #T_9030db26_358e_11eb_81c0_00259091f1e8 .col_heading.level1.col1 {\n",
       "          background-color: #ff0;\n",
       "    }    #T_9030db26_358e_11eb_81c0_00259091f1e8 .col_heading.level1.col2 {\n",
       "          background-color: #ff0;\n",
       "    }    #T_9030db26_358e_11eb_81c0_00259091f1e8 .col_heading.level1.col3 {\n",
       "          background-color: #ff0;\n",
       "    }    #T_9030db26_358e_11eb_81c0_00259091f1e8 .col_heading.level1.col4 {\n",
       "          background-color: #ff0;\n",
       "    }    #T_9030db26_358e_11eb_81c0_00259091f1e8 .col_heading.level1.col5 {\n",
       "          background-color: #ff0;\n",
       "    }    #T_9030db26_358e_11eb_81c0_00259091f1e8 .col_heading.level1.col6 {\n",
       "          background-color: #ff0;\n",
       "    }    #T_9030db26_358e_11eb_81c0_00259091f1e8 .col_heading.level1.col7 {\n",
       "          background-color: #ff0;\n",
       "    }    #T_9030db26_358e_11eb_81c0_00259091f1e8 .col_heading.level1.col8 {\n",
       "          background-color: #ff0;\n",
       "    }    #T_9030db26_358e_11eb_81c0_00259091f1e8 .col_heading.level1.col9 {\n",
       "          background-color: #ff0;\n",
       "    }    #T_9030db26_358e_11eb_81c0_00259091f1e8 .col_heading.level1.col10 {\n",
       "          background-color: #ff0;\n",
       "    }    #T_9030db26_358e_11eb_81c0_00259091f1e8 .col_heading.level1.col11 {\n",
       "          background-color: #ff0;\n",
       "    }    #T_9030db26_358e_11eb_81c0_00259091f1e8 .col_heading.level1.col12 {\n",
       "          background-color: #ff0;\n",
       "    }    #T_9030db26_358e_11eb_81c0_00259091f1e8 .col_heading.level1.col13 {\n",
       "          background-color: #ff0;\n",
       "    }    #T_9030db26_358e_11eb_81c0_00259091f1e8 .col_heading.level1.col14 {\n",
       "          background-color: #ff0;\n",
       "    }    #T_9030db26_358e_11eb_81c0_00259091f1e8 .col_heading.level1.col15 {\n",
       "          background-color: #ff0;\n",
       "    }    #T_9030db26_358e_11eb_81c0_00259091f1e8 .col_heading.level1.col16 {\n",
       "          background-color: #ff0;\n",
       "    }    #T_9030db26_358e_11eb_81c0_00259091f1e8 .col_heading.level1.col17 {\n",
       "          background-color: #ff0;\n",
       "    }    #T_9030db26_358e_11eb_81c0_00259091f1e8 .col_heading.level1.col18 {\n",
       "          background-color: #ff0;\n",
       "    }</style><table id=\"T_9030db26_358e_11eb_81c0_00259091f1e8\" ><thead>    <tr>        <th class=\"blank level0\" ></th>        <th class=\"col_heading level0 col0\" >0</th>        <th class=\"col_heading level0 col1\" >1</th>        <th class=\"col_heading level0 col2\" >2</th>        <th class=\"col_heading level0 col3\" >3</th>        <th class=\"col_heading level0 col4\" >4</th>        <th class=\"col_heading level0 col5\" >5</th>        <th class=\"col_heading level0 col6\" >6</th>        <th class=\"col_heading level0 col7\" >7</th>        <th class=\"col_heading level0 col8\" >8</th>        <th class=\"col_heading level0 col9\" >9</th>        <th class=\"col_heading level0 col10\" >10</th>        <th class=\"col_heading level0 col11\" >11</th>        <th class=\"col_heading level0 col12\" >12</th>        <th class=\"col_heading level0 col13\" >13</th>        <th class=\"col_heading level0 col14\" >14</th>        <th class=\"col_heading level0 col15\" >15</th>        <th class=\"col_heading level0 col16\" >16</th>        <th class=\"col_heading level0 col17\" >17</th>        <th class=\"col_heading level0 col18\" >18</th>    </tr>    <tr>        <th class=\"blank level1\" ></th>        <th class=\"col_heading level1 col0\" >H \\ A</th>        <th class=\"col_heading level1 col1\" ><a href=\"http://en.wikipedia.org/wiki/ADO_Den_Haag?curid=161604\">ADO</a></th>        <th class=\"col_heading level1 col2\" ><a href=\"http://en.wikipedia.org/wiki/AFC_Ajax?curid=2273\">AJX</a></th>        <th class=\"col_heading level1 col3\" ><a href=\"http://en.wikipedia.org/wiki/AZ_(football_club)?curid=2289\">AZ</a></th>        <th class=\"col_heading level1 col4\" ><a href=\"http://en.wikipedia.org/wiki/Excelsior_Rotterdam?curid=79817\">EXC</a></th>        <th class=\"col_heading level1 col5\" ><a href=\"http://en.wikipedia.org/wiki/Feyenoord?curid=47707\">FEY</a></th>        <th class=\"col_heading level1 col6\" ><a href=\"http://en.wikipedia.org/wiki/FC_Groningen?curid=1103112\">GRO</a></th>        <th class=\"col_heading level1 col7\" ><a href=\"http://en.wikipedia.org/wiki/SC_Heerenveen?curid=745757\">HEE</a></th>        <th class=\"col_heading level1 col8\" ><a href=\"http://en.wikipedia.org/wiki/Heracles_Almelo?curid=2144216\">HER</a></th>        <th class=\"col_heading level1 col9\" ><a href=\"http://en.wikipedia.org/wiki/NAC_Breda?curid=505173\">NAC</a></th>        <th class=\"col_heading level1 col10\" ><a href=\"http://en.wikipedia.org/wiki/NEC_(football_club)?curid=834154\">NEC</a></th>        <th class=\"col_heading level1 col11\" ><a href=\"http://en.wikipedia.org/wiki/PSV_Eindhoven?curid=79820\">PSV</a></th>        <th class=\"col_heading level1 col12\" ><a href=\"http://en.wikipedia.org/wiki/RKC_Waalwijk?curid=1107824\">RKC</a></th>        <th class=\"col_heading level1 col13\" ><a href=\"http://en.wikipedia.org/wiki/Roda_JC?curid=834196\">RJC</a></th>        <th class=\"col_heading level1 col14\" ><a href=\"http://en.wikipedia.org/wiki/Sparta_Rotterdam?curid=79818\">SPA</a></th>        <th class=\"col_heading level1 col15\" ><a href=\"http://en.wikipedia.org/wiki/FC_Twente?curid=800033\">TWE</a></th>        <th class=\"col_heading level1 col16\" ><a href=\"http://en.wikipedia.org/wiki/FC_Utrecht?curid=834226\">UTR</a></th>        <th class=\"col_heading level1 col17\" ><a href=\"http://en.wikipedia.org/wiki/Vitesse?curid=834256\">VIT</a></th>        <th class=\"col_heading level1 col18\" ><a href=\"http://en.wikipedia.org/wiki/Willem_II_Tilburg?curid=834275\">WIL</a></th>    </tr></thead><tbody>\n",
       "        </tbody></table>"
      ],
      "text/plain": [
       "<pandas.io.formats.style.Styler at 0x7f5f2810b450>"
      ]
     },
     "metadata": {},
     "output_type": "display_data"
    },
    {
     "name": "stdout",
     "output_type": "stream",
     "text": [
      "((LinkedString('Team', links=()), LinkedString('BAL', links=()), LinkedString('BOS', links=()), LinkedString('CWS', links=()), LinkedString('CLE', links=()), LinkedString('DET', links=()), LinkedString('KC', links=()), LinkedString('LAA', links=()), LinkedString('MIN', links=()), LinkedString('NYY', links=()), LinkedString('OAK', links=()), LinkedString('SEA', links=()), LinkedString('TB', links=()), LinkedString('TEX', links=()), LinkedString('TOR', links=()), LinkedString('NL', links=())),)\n",
      "1 (0, 1, 15, 'short-uppercase-acronyms') None None\n"
     ]
    },
    {
     "data": {
      "text/html": [
       "<style  type=\"text/css\" >\n",
       "    #T_9033eae6_358e_11eb_81c0_00259091f1e8 .col_heading.level0 {\n",
       "          display: none;\n",
       "    }    #T_9033eae6_358e_11eb_81c0_00259091f1e8 .col_heading.level1.col1 {\n",
       "          background-color: #ff0;\n",
       "    }    #T_9033eae6_358e_11eb_81c0_00259091f1e8 .col_heading.level1.col2 {\n",
       "          background-color: #ff0;\n",
       "    }    #T_9033eae6_358e_11eb_81c0_00259091f1e8 .col_heading.level1.col3 {\n",
       "          background-color: #ff0;\n",
       "    }    #T_9033eae6_358e_11eb_81c0_00259091f1e8 .col_heading.level1.col4 {\n",
       "          background-color: #ff0;\n",
       "    }    #T_9033eae6_358e_11eb_81c0_00259091f1e8 .col_heading.level1.col5 {\n",
       "          background-color: #ff0;\n",
       "    }    #T_9033eae6_358e_11eb_81c0_00259091f1e8 .col_heading.level1.col6 {\n",
       "          background-color: #ff0;\n",
       "    }    #T_9033eae6_358e_11eb_81c0_00259091f1e8 .col_heading.level1.col7 {\n",
       "          background-color: #ff0;\n",
       "    }    #T_9033eae6_358e_11eb_81c0_00259091f1e8 .col_heading.level1.col8 {\n",
       "          background-color: #ff0;\n",
       "    }    #T_9033eae6_358e_11eb_81c0_00259091f1e8 .col_heading.level1.col9 {\n",
       "          background-color: #ff0;\n",
       "    }    #T_9033eae6_358e_11eb_81c0_00259091f1e8 .col_heading.level1.col10 {\n",
       "          background-color: #ff0;\n",
       "    }    #T_9033eae6_358e_11eb_81c0_00259091f1e8 .col_heading.level1.col11 {\n",
       "          background-color: #ff0;\n",
       "    }    #T_9033eae6_358e_11eb_81c0_00259091f1e8 .col_heading.level1.col12 {\n",
       "          background-color: #ff0;\n",
       "    }    #T_9033eae6_358e_11eb_81c0_00259091f1e8 .col_heading.level1.col13 {\n",
       "          background-color: #ff0;\n",
       "    }    #T_9033eae6_358e_11eb_81c0_00259091f1e8 .col_heading.level1.col14 {\n",
       "          background-color: #ff0;\n",
       "    }    #T_9033eae6_358e_11eb_81c0_00259091f1e8 .col_heading.level1.col15 {\n",
       "          background-color: #ff0;\n",
       "    }</style><table id=\"T_9033eae6_358e_11eb_81c0_00259091f1e8\" ><thead>    <tr>        <th class=\"blank level0\" ></th>        <th class=\"col_heading level0 col0\" >0</th>        <th class=\"col_heading level0 col1\" >1</th>        <th class=\"col_heading level0 col2\" >2</th>        <th class=\"col_heading level0 col3\" >3</th>        <th class=\"col_heading level0 col4\" >4</th>        <th class=\"col_heading level0 col5\" >5</th>        <th class=\"col_heading level0 col6\" >6</th>        <th class=\"col_heading level0 col7\" >7</th>        <th class=\"col_heading level0 col8\" >8</th>        <th class=\"col_heading level0 col9\" >9</th>        <th class=\"col_heading level0 col10\" >10</th>        <th class=\"col_heading level0 col11\" >11</th>        <th class=\"col_heading level0 col12\" >12</th>        <th class=\"col_heading level0 col13\" >13</th>        <th class=\"col_heading level0 col14\" >14</th>        <th class=\"col_heading level0 col15\" >15</th>    </tr>    <tr>        <th class=\"blank level1\" ></th>        <th class=\"col_heading level1 col0\" >Team</th>        <th class=\"col_heading level1 col1\" >BAL</th>        <th class=\"col_heading level1 col2\" >BOS</th>        <th class=\"col_heading level1 col3\" >CWS</th>        <th class=\"col_heading level1 col4\" >CLE</th>        <th class=\"col_heading level1 col5\" >DET</th>        <th class=\"col_heading level1 col6\" >KC</th>        <th class=\"col_heading level1 col7\" >LAA</th>        <th class=\"col_heading level1 col8\" >MIN</th>        <th class=\"col_heading level1 col9\" >NYY</th>        <th class=\"col_heading level1 col10\" >OAK</th>        <th class=\"col_heading level1 col11\" >SEA</th>        <th class=\"col_heading level1 col12\" >TB</th>        <th class=\"col_heading level1 col13\" >TEX</th>        <th class=\"col_heading level1 col14\" >TOR</th>        <th class=\"col_heading level1 col15\" >NL</th>    </tr></thead><tbody>\n",
       "        </tbody></table>"
      ],
      "text/plain": [
       "<pandas.io.formats.style.Styler at 0x7f5f21bb3710>"
      ]
     },
     "metadata": {},
     "output_type": "display_data"
    },
    {
     "name": "stdout",
     "output_type": "stream",
     "text": [
      "((LinkedString('', links=()), LinkedString('', links=()), LinkedString('ISL', links=()), LinkedString('NAM', links=()), LinkedString('SMR', links=()), LinkedString('RWA', links=())),)\n",
      "1 (0, 2, 5, 'short-uppercase-acronyms') None None\n"
     ]
    },
    {
     "data": {
      "text/html": [
       "<style  type=\"text/css\" >\n",
       "    #T_90364bf6_358e_11eb_81c0_00259091f1e8 .col_heading.level0 {\n",
       "          display: none;\n",
       "    }    #T_90364bf6_358e_11eb_81c0_00259091f1e8 .col_heading.level1.col2 {\n",
       "          background-color: #ff0;\n",
       "    }    #T_90364bf6_358e_11eb_81c0_00259091f1e8 .col_heading.level1.col3 {\n",
       "          background-color: #ff0;\n",
       "    }    #T_90364bf6_358e_11eb_81c0_00259091f1e8 .col_heading.level1.col4 {\n",
       "          background-color: #ff0;\n",
       "    }    #T_90364bf6_358e_11eb_81c0_00259091f1e8 .col_heading.level1.col5 {\n",
       "          background-color: #ff0;\n",
       "    }</style><table id=\"T_90364bf6_358e_11eb_81c0_00259091f1e8\" ><thead>    <tr>        <th class=\"blank level0\" ></th>        <th class=\"col_heading level0 col0\" >0</th>        <th class=\"col_heading level0 col1\" >1</th>        <th class=\"col_heading level0 col2\" >2</th>        <th class=\"col_heading level0 col3\" >3</th>        <th class=\"col_heading level0 col4\" >4</th>        <th class=\"col_heading level0 col5\" >5</th>    </tr>    <tr>        <th class=\"blank level1\" ></th>        <th class=\"col_heading level1 col0\" ></th>        <th class=\"col_heading level1 col1\" ></th>        <th class=\"col_heading level1 col2\" >ISL</th>        <th class=\"col_heading level1 col3\" >NAM</th>        <th class=\"col_heading level1 col4\" >SMR</th>        <th class=\"col_heading level1 col5\" >RWA</th>    </tr></thead><tbody>\n",
       "        </tbody></table>"
      ],
      "text/plain": [
       "<pandas.io.formats.style.Styler at 0x7f5f21bf18d0>"
      ]
     },
     "metadata": {},
     "output_type": "display_data"
    },
    {
     "name": "stdout",
     "output_type": "stream",
     "text": [
      "((LinkedString('', links=()), LinkedString('Group A', links=()), LinkedString('BAR', links=()), LinkedString('JAM', links=()), LinkedString('HON', links=())),)\n",
      "1 (0, 2, 4, 'short-uppercase-acronyms') None None\n"
     ]
    },
    {
     "data": {
      "text/html": [
       "<style  type=\"text/css\" >\n",
       "    #T_90385db0_358e_11eb_81c0_00259091f1e8 .col_heading.level0 {\n",
       "          display: none;\n",
       "    }    #T_90385db0_358e_11eb_81c0_00259091f1e8 .col_heading.level1.col2 {\n",
       "          background-color: #ff0;\n",
       "    }    #T_90385db0_358e_11eb_81c0_00259091f1e8 .col_heading.level1.col3 {\n",
       "          background-color: #ff0;\n",
       "    }    #T_90385db0_358e_11eb_81c0_00259091f1e8 .col_heading.level1.col4 {\n",
       "          background-color: #ff0;\n",
       "    }</style><table id=\"T_90385db0_358e_11eb_81c0_00259091f1e8\" ><thead>    <tr>        <th class=\"blank level0\" ></th>        <th class=\"col_heading level0 col0\" >0</th>        <th class=\"col_heading level0 col1\" >1</th>        <th class=\"col_heading level0 col2\" >2</th>        <th class=\"col_heading level0 col3\" >3</th>        <th class=\"col_heading level0 col4\" >4</th>    </tr>    <tr>        <th class=\"blank level1\" ></th>        <th class=\"col_heading level1 col0\" ></th>        <th class=\"col_heading level1 col1\" >Group A</th>        <th class=\"col_heading level1 col2\" >BAR</th>        <th class=\"col_heading level1 col3\" >JAM</th>        <th class=\"col_heading level1 col4\" >HON</th>    </tr></thead><tbody>\n",
       "        </tbody></table>"
      ],
      "text/plain": [
       "<pandas.io.formats.style.Styler at 0x7f5f21baefd0>"
      ]
     },
     "metadata": {},
     "output_type": "display_data"
    },
    {
     "name": "stdout",
     "output_type": "stream",
     "text": [
      "((LinkedString('Year', links=()), LinkedString('Singles', links=()), LinkedString('Chart positions', links=()), LinkedString('Chart positions', links=()), LinkedString('Chart positions', links=()), LinkedString('Chart positions', links=()), LinkedString('Chart positions', links=()), LinkedString('Chart positions', links=()), LinkedString('Chart positions', links=()), LinkedString('Chart positions', links=()), LinkedString('Chart positions', links=()), LinkedString('Chart positions', links=()), LinkedString('Chart positions', links=()), LinkedString('Chart positions', links=())), (LinkedString('Year', links=()), LinkedString('Singles', links=()), LinkedString('UK', links=()), LinkedString('IRE', links=()), LinkedString('AUS', links=()), LinkedString('FRA', links=()), LinkedString('GER', links=()), LinkedString('USA', links=()), LinkedString('NL', links=()), LinkedString('CHN', links=()), LinkedString('JPN', links=()), LinkedString('SPA', links=()), LinkedString('ITA', links=()), LinkedString('BEL', links=())))\n",
      "1 (1, 2, 13, 'short-uppercase-acronyms') None None\n"
     ]
    },
    {
     "data": {
      "text/html": [
       "<style  type=\"text/css\" >\n",
       "    #T_903ce3f8_358e_11eb_81c0_00259091f1e8 .col_heading.level0 {\n",
       "          display: none;\n",
       "    }    #T_903ce3f8_358e_11eb_81c0_00259091f1e8 .col_heading.level2.col2 {\n",
       "          background-color: #ff0;\n",
       "    }    #T_903ce3f8_358e_11eb_81c0_00259091f1e8 .col_heading.level2.col3 {\n",
       "          background-color: #ff0;\n",
       "    }    #T_903ce3f8_358e_11eb_81c0_00259091f1e8 .col_heading.level2.col4 {\n",
       "          background-color: #ff0;\n",
       "    }    #T_903ce3f8_358e_11eb_81c0_00259091f1e8 .col_heading.level2.col5 {\n",
       "          background-color: #ff0;\n",
       "    }    #T_903ce3f8_358e_11eb_81c0_00259091f1e8 .col_heading.level2.col6 {\n",
       "          background-color: #ff0;\n",
       "    }    #T_903ce3f8_358e_11eb_81c0_00259091f1e8 .col_heading.level2.col7 {\n",
       "          background-color: #ff0;\n",
       "    }    #T_903ce3f8_358e_11eb_81c0_00259091f1e8 .col_heading.level2.col8 {\n",
       "          background-color: #ff0;\n",
       "    }    #T_903ce3f8_358e_11eb_81c0_00259091f1e8 .col_heading.level2.col9 {\n",
       "          background-color: #ff0;\n",
       "    }    #T_903ce3f8_358e_11eb_81c0_00259091f1e8 .col_heading.level2.col10 {\n",
       "          background-color: #ff0;\n",
       "    }    #T_903ce3f8_358e_11eb_81c0_00259091f1e8 .col_heading.level2.col11 {\n",
       "          background-color: #ff0;\n",
       "    }    #T_903ce3f8_358e_11eb_81c0_00259091f1e8 .col_heading.level2.col12 {\n",
       "          background-color: #ff0;\n",
       "    }    #T_903ce3f8_358e_11eb_81c0_00259091f1e8 .col_heading.level2.col13 {\n",
       "          background-color: #ff0;\n",
       "    }</style><table id=\"T_903ce3f8_358e_11eb_81c0_00259091f1e8\" ><thead>    <tr>        <th class=\"blank level0\" ></th>        <th class=\"col_heading level0 col0\" >0</th>        <th class=\"col_heading level0 col1\" >1</th>        <th class=\"col_heading level0 col2\" >2</th>        <th class=\"col_heading level0 col3\" >3</th>        <th class=\"col_heading level0 col4\" >4</th>        <th class=\"col_heading level0 col5\" >5</th>        <th class=\"col_heading level0 col6\" >6</th>        <th class=\"col_heading level0 col7\" >7</th>        <th class=\"col_heading level0 col8\" >8</th>        <th class=\"col_heading level0 col9\" >9</th>        <th class=\"col_heading level0 col10\" >10</th>        <th class=\"col_heading level0 col11\" >11</th>        <th class=\"col_heading level0 col12\" >12</th>        <th class=\"col_heading level0 col13\" >13</th>    </tr>    <tr>        <th class=\"blank level1\" ></th>        <th class=\"col_heading level1 col0\" >Year</th>        <th class=\"col_heading level1 col1\" >Singles</th>        <th class=\"col_heading level1 col2\" >Chart positions</th>        <th class=\"col_heading level1 col3\" >Chart positions</th>        <th class=\"col_heading level1 col4\" >Chart positions</th>        <th class=\"col_heading level1 col5\" >Chart positions</th>        <th class=\"col_heading level1 col6\" >Chart positions</th>        <th class=\"col_heading level1 col7\" >Chart positions</th>        <th class=\"col_heading level1 col8\" >Chart positions</th>        <th class=\"col_heading level1 col9\" >Chart positions</th>        <th class=\"col_heading level1 col10\" >Chart positions</th>        <th class=\"col_heading level1 col11\" >Chart positions</th>        <th class=\"col_heading level1 col12\" >Chart positions</th>        <th class=\"col_heading level1 col13\" >Chart positions</th>    </tr>    <tr>        <th class=\"blank level2\" ></th>        <th class=\"col_heading level2 col0\" >Year</th>        <th class=\"col_heading level2 col1\" >Singles</th>        <th class=\"col_heading level2 col2\" >UK</th>        <th class=\"col_heading level2 col3\" >IRE</th>        <th class=\"col_heading level2 col4\" >AUS</th>        <th class=\"col_heading level2 col5\" >FRA</th>        <th class=\"col_heading level2 col6\" >GER</th>        <th class=\"col_heading level2 col7\" >USA</th>        <th class=\"col_heading level2 col8\" >NL</th>        <th class=\"col_heading level2 col9\" >CHN</th>        <th class=\"col_heading level2 col10\" >JPN</th>        <th class=\"col_heading level2 col11\" >SPA</th>        <th class=\"col_heading level2 col12\" >ITA</th>        <th class=\"col_heading level2 col13\" >BEL</th>    </tr></thead><tbody>\n",
       "        </tbody></table>"
      ],
      "text/plain": [
       "<pandas.io.formats.style.Styler at 0x7f5f21c23210>"
      ]
     },
     "metadata": {},
     "output_type": "display_data"
    },
    {
     "name": "stdout",
     "output_type": "stream",
     "text": [
      "((LinkedString('Home \\ Away [1 ]', links=()), LinkedString('ALB', links=((0, 3, 'http://en.wikipedia.org/wiki/U.C._AlbinoLeffe?curid=1275574'),)), LinkedString('ARE', links=((0, 3, 'http://en.wikipedia.org/wiki/U.S._Arezzo?curid=1411404'),)), LinkedString('ATA', links=((0, 3, 'http://en.wikipedia.org/wiki/Atalanta_B.C.?curid=210482'),)), LinkedString('AVE', links=((0, 3, 'http://en.wikipedia.org/wiki/A.S._Avellino_1912?curid=2074118'),)), LinkedString('BAR', links=((0, 3, 'http://en.wikipedia.org/wiki/A.S._Bari?curid=1138693'),)), LinkedString('BOL', links=((0, 3, 'http://en.wikipedia.org/wiki/Bologna_F.C._1909?curid=81238'),)), LinkedString('BRE', links=((0, 3, 'http://en.wikipedia.org/wiki/Brescia_Calcio?curid=1116791'),)), LinkedString('CTN', links=((0, 3, 'http://en.wikipedia.org/wiki/Calcio_Catania?curid=1138799'),)), LinkedString('CTZ', links=((0, 3, 'http://en.wikipedia.org/wiki/U.S._Catanzaro_1929?curid=1095695'),)), LinkedString('CES', links=((0, 3, 'http://en.wikipedia.org/wiki/A.C._Cesena?curid=1138777'),)), LinkedString('CRE', links=((0, 3, 'http://en.wikipedia.org/wiki/U.S._Cremonese?curid=1691772'),)), LinkedString('CRO', links=((0, 3, 'http://en.wikipedia.org/wiki/F.C._Crotone?curid=1411410'),)), LinkedString('MAN', links=((0, 3, 'http://en.wikipedia.org/wiki/Mantova_F.C.?curid=2074091'),)), LinkedString('MOD', links=((0, 3, 'http://en.wikipedia.org/wiki/Modena_F.C.?curid=1136879'),)), LinkedString('PES', links=((0, 3, 'http://en.wikipedia.org/wiki/Delfino_Pescara_1936?curid=1411049'),)), LinkedString('PIA', links=((0, 3, 'http://en.wikipedia.org/wiki/S.S.D._Piacenza_Calcio_1919?curid=1136763'),)), LinkedString('RIM', links=((0, 3, 'http://en.wikipedia.org/wiki/A.C._Rimini_1912?curid=1691720'),)), LinkedString('TER', links=((0, 3, 'http://en.wikipedia.org/wiki/Ternana_Calcio?curid=1347951'),)), LinkedString('TOR', links=((0, 3, 'http://en.wikipedia.org/wiki/Torino_F.C.?curid=19450750'),)), LinkedString('TRI', links=((0, 3, 'http://en.wikipedia.org/wiki/Unione_Triestina_2012_S.S.D.?curid=1411374'),)), LinkedString('VER', links=((0, 3, 'http://en.wikipedia.org/wiki/Hellas_Verona_F.C.?curid=14035'),)), LinkedString('VIC', links=((0, 3, 'http://en.wikipedia.org/wiki/Vicenza_Calcio?curid=1136820'),))),)\n",
      "1 (0, 1, 22, 'short-uppercase-acronyms') None None\n"
     ]
    },
    {
     "data": {
      "text/html": [
       "<style  type=\"text/css\" >\n",
       "    #T_904055e2_358e_11eb_81c0_00259091f1e8 .col_heading.level0 {\n",
       "          display: none;\n",
       "    }    #T_904055e2_358e_11eb_81c0_00259091f1e8 .col_heading.level1.col1 {\n",
       "          background-color: #ff0;\n",
       "    }    #T_904055e2_358e_11eb_81c0_00259091f1e8 .col_heading.level1.col2 {\n",
       "          background-color: #ff0;\n",
       "    }    #T_904055e2_358e_11eb_81c0_00259091f1e8 .col_heading.level1.col3 {\n",
       "          background-color: #ff0;\n",
       "    }    #T_904055e2_358e_11eb_81c0_00259091f1e8 .col_heading.level1.col4 {\n",
       "          background-color: #ff0;\n",
       "    }    #T_904055e2_358e_11eb_81c0_00259091f1e8 .col_heading.level1.col5 {\n",
       "          background-color: #ff0;\n",
       "    }    #T_904055e2_358e_11eb_81c0_00259091f1e8 .col_heading.level1.col6 {\n",
       "          background-color: #ff0;\n",
       "    }    #T_904055e2_358e_11eb_81c0_00259091f1e8 .col_heading.level1.col7 {\n",
       "          background-color: #ff0;\n",
       "    }    #T_904055e2_358e_11eb_81c0_00259091f1e8 .col_heading.level1.col8 {\n",
       "          background-color: #ff0;\n",
       "    }    #T_904055e2_358e_11eb_81c0_00259091f1e8 .col_heading.level1.col9 {\n",
       "          background-color: #ff0;\n",
       "    }    #T_904055e2_358e_11eb_81c0_00259091f1e8 .col_heading.level1.col10 {\n",
       "          background-color: #ff0;\n",
       "    }    #T_904055e2_358e_11eb_81c0_00259091f1e8 .col_heading.level1.col11 {\n",
       "          background-color: #ff0;\n",
       "    }    #T_904055e2_358e_11eb_81c0_00259091f1e8 .col_heading.level1.col12 {\n",
       "          background-color: #ff0;\n",
       "    }    #T_904055e2_358e_11eb_81c0_00259091f1e8 .col_heading.level1.col13 {\n",
       "          background-color: #ff0;\n",
       "    }    #T_904055e2_358e_11eb_81c0_00259091f1e8 .col_heading.level1.col14 {\n",
       "          background-color: #ff0;\n",
       "    }    #T_904055e2_358e_11eb_81c0_00259091f1e8 .col_heading.level1.col15 {\n",
       "          background-color: #ff0;\n",
       "    }    #T_904055e2_358e_11eb_81c0_00259091f1e8 .col_heading.level1.col16 {\n",
       "          background-color: #ff0;\n",
       "    }    #T_904055e2_358e_11eb_81c0_00259091f1e8 .col_heading.level1.col17 {\n",
       "          background-color: #ff0;\n",
       "    }    #T_904055e2_358e_11eb_81c0_00259091f1e8 .col_heading.level1.col18 {\n",
       "          background-color: #ff0;\n",
       "    }    #T_904055e2_358e_11eb_81c0_00259091f1e8 .col_heading.level1.col19 {\n",
       "          background-color: #ff0;\n",
       "    }    #T_904055e2_358e_11eb_81c0_00259091f1e8 .col_heading.level1.col20 {\n",
       "          background-color: #ff0;\n",
       "    }    #T_904055e2_358e_11eb_81c0_00259091f1e8 .col_heading.level1.col21 {\n",
       "          background-color: #ff0;\n",
       "    }    #T_904055e2_358e_11eb_81c0_00259091f1e8 .col_heading.level1.col22 {\n",
       "          background-color: #ff0;\n",
       "    }</style><table id=\"T_904055e2_358e_11eb_81c0_00259091f1e8\" ><thead>    <tr>        <th class=\"blank level0\" ></th>        <th class=\"col_heading level0 col0\" >0</th>        <th class=\"col_heading level0 col1\" >1</th>        <th class=\"col_heading level0 col2\" >2</th>        <th class=\"col_heading level0 col3\" >3</th>        <th class=\"col_heading level0 col4\" >4</th>        <th class=\"col_heading level0 col5\" >5</th>        <th class=\"col_heading level0 col6\" >6</th>        <th class=\"col_heading level0 col7\" >7</th>        <th class=\"col_heading level0 col8\" >8</th>        <th class=\"col_heading level0 col9\" >9</th>        <th class=\"col_heading level0 col10\" >10</th>        <th class=\"col_heading level0 col11\" >11</th>        <th class=\"col_heading level0 col12\" >12</th>        <th class=\"col_heading level0 col13\" >13</th>        <th class=\"col_heading level0 col14\" >14</th>        <th class=\"col_heading level0 col15\" >15</th>        <th class=\"col_heading level0 col16\" >16</th>        <th class=\"col_heading level0 col17\" >17</th>        <th class=\"col_heading level0 col18\" >18</th>        <th class=\"col_heading level0 col19\" >19</th>        <th class=\"col_heading level0 col20\" >20</th>        <th class=\"col_heading level0 col21\" >21</th>        <th class=\"col_heading level0 col22\" >22</th>    </tr>    <tr>        <th class=\"blank level1\" ></th>        <th class=\"col_heading level1 col0\" >Home \\ Away [1 ]</th>        <th class=\"col_heading level1 col1\" ><a href=\"http://en.wikipedia.org/wiki/U.C._AlbinoLeffe?curid=1275574\">ALB</a></th>        <th class=\"col_heading level1 col2\" ><a href=\"http://en.wikipedia.org/wiki/U.S._Arezzo?curid=1411404\">ARE</a></th>        <th class=\"col_heading level1 col3\" ><a href=\"http://en.wikipedia.org/wiki/Atalanta_B.C.?curid=210482\">ATA</a></th>        <th class=\"col_heading level1 col4\" ><a href=\"http://en.wikipedia.org/wiki/A.S._Avellino_1912?curid=2074118\">AVE</a></th>        <th class=\"col_heading level1 col5\" ><a href=\"http://en.wikipedia.org/wiki/A.S._Bari?curid=1138693\">BAR</a></th>        <th class=\"col_heading level1 col6\" ><a href=\"http://en.wikipedia.org/wiki/Bologna_F.C._1909?curid=81238\">BOL</a></th>        <th class=\"col_heading level1 col7\" ><a href=\"http://en.wikipedia.org/wiki/Brescia_Calcio?curid=1116791\">BRE</a></th>        <th class=\"col_heading level1 col8\" ><a href=\"http://en.wikipedia.org/wiki/Calcio_Catania?curid=1138799\">CTN</a></th>        <th class=\"col_heading level1 col9\" ><a href=\"http://en.wikipedia.org/wiki/U.S._Catanzaro_1929?curid=1095695\">CTZ</a></th>        <th class=\"col_heading level1 col10\" ><a href=\"http://en.wikipedia.org/wiki/A.C._Cesena?curid=1138777\">CES</a></th>        <th class=\"col_heading level1 col11\" ><a href=\"http://en.wikipedia.org/wiki/U.S._Cremonese?curid=1691772\">CRE</a></th>        <th class=\"col_heading level1 col12\" ><a href=\"http://en.wikipedia.org/wiki/F.C._Crotone?curid=1411410\">CRO</a></th>        <th class=\"col_heading level1 col13\" ><a href=\"http://en.wikipedia.org/wiki/Mantova_F.C.?curid=2074091\">MAN</a></th>        <th class=\"col_heading level1 col14\" ><a href=\"http://en.wikipedia.org/wiki/Modena_F.C.?curid=1136879\">MOD</a></th>        <th class=\"col_heading level1 col15\" ><a href=\"http://en.wikipedia.org/wiki/Delfino_Pescara_1936?curid=1411049\">PES</a></th>        <th class=\"col_heading level1 col16\" ><a href=\"http://en.wikipedia.org/wiki/S.S.D._Piacenza_Calcio_1919?curid=1136763\">PIA</a></th>        <th class=\"col_heading level1 col17\" ><a href=\"http://en.wikipedia.org/wiki/A.C._Rimini_1912?curid=1691720\">RIM</a></th>        <th class=\"col_heading level1 col18\" ><a href=\"http://en.wikipedia.org/wiki/Ternana_Calcio?curid=1347951\">TER</a></th>        <th class=\"col_heading level1 col19\" ><a href=\"http://en.wikipedia.org/wiki/Torino_F.C.?curid=19450750\">TOR</a></th>        <th class=\"col_heading level1 col20\" ><a href=\"http://en.wikipedia.org/wiki/Unione_Triestina_2012_S.S.D.?curid=1411374\">TRI</a></th>        <th class=\"col_heading level1 col21\" ><a href=\"http://en.wikipedia.org/wiki/Hellas_Verona_F.C.?curid=14035\">VER</a></th>        <th class=\"col_heading level1 col22\" ><a href=\"http://en.wikipedia.org/wiki/Vicenza_Calcio?curid=1136820\">VIC</a></th>    </tr></thead><tbody>\n",
       "        </tbody></table>"
      ],
      "text/plain": [
       "<pandas.io.formats.style.Styler at 0x7f5f221caed0>"
      ]
     },
     "metadata": {},
     "output_type": "display_data"
    },
    {
     "name": "stdout",
     "output_type": "stream",
     "text": [
      "((LinkedString('Title', links=()), LinkedString('Album details', links=()), LinkedString('Peak chart positions', links=()), LinkedString('Peak chart positions', links=()), LinkedString('Peak chart positions', links=()), LinkedString('Peak chart positions', links=()), LinkedString('Peak chart positions', links=()), LinkedString('Peak chart positions', links=()), LinkedString('Peak chart positions', links=()), LinkedString('Peak chart positions', links=()), LinkedString('Peak chart positions', links=()), LinkedString('Peak chart positions', links=()), LinkedString('Certifications', links=((0, 14, 'http://en.wikipedia.org/wiki/List_of_music_recording_certifications?curid=17627213'),))), (LinkedString('Title', links=()), LinkedString('Album details', links=()), LinkedString('UK', links=((0, 2, 'http://en.wikipedia.org/wiki/UK_Albums_Chart?curid=2465857'),)), LinkedString('CAN', links=((0, 3, 'http://en.wikipedia.org/wiki/Canadian_Albums_Chart?curid=9331428'),)), LinkedString('AUS', links=((0, 3, 'http://en.wikipedia.org/wiki/ARIA_Charts?curid=3002226'),)), LinkedString('AUT', links=((0, 3, 'http://en.wikipedia.org/wiki/Ö3_Austria_Top_40?curid=13757814'),)), LinkedString('FIN', links=((0, 3, \"http://en.wikipedia.org/wiki/Finland's_Official_List?curid=7824827\"),)), LinkedString('SWE', links=((0, 3, 'http://en.wikipedia.org/wiki/Swedish_Albums_Chart?curid=11002747'),)), LinkedString('NOR', links=((0, 3, 'http://en.wikipedia.org/wiki/VG-lista?curid=8262087'),)), LinkedString('GER', links=((0, 3, 'http://en.wikipedia.org/wiki/Media_Control_Charts?curid=6170448'),)), LinkedString('JPN', links=((0, 3, 'http://en.wikipedia.org/wiki/Japanese_Albums_Chart?curid=2758023'),)), LinkedString('US', links=((0, 2, 'http://en.wikipedia.org/wiki/Billboard_200?curid=730350'),)), LinkedString('Certifications', links=((0, 14, 'http://en.wikipedia.org/wiki/List_of_music_recording_certifications?curid=17627213'),))))\n",
      "1 (1, 2, 11, 'short-uppercase-acronyms') None None\n"
     ]
    },
    {
     "data": {
      "text/html": [
       "<style  type=\"text/css\" >\n",
       "    #T_90437466_358e_11eb_81c0_00259091f1e8 .col_heading.level0 {\n",
       "          display: none;\n",
       "    }    #T_90437466_358e_11eb_81c0_00259091f1e8 .col_heading.level2.col2 {\n",
       "          background-color: #ff0;\n",
       "    }    #T_90437466_358e_11eb_81c0_00259091f1e8 .col_heading.level2.col3 {\n",
       "          background-color: #ff0;\n",
       "    }    #T_90437466_358e_11eb_81c0_00259091f1e8 .col_heading.level2.col4 {\n",
       "          background-color: #ff0;\n",
       "    }    #T_90437466_358e_11eb_81c0_00259091f1e8 .col_heading.level2.col5 {\n",
       "          background-color: #ff0;\n",
       "    }    #T_90437466_358e_11eb_81c0_00259091f1e8 .col_heading.level2.col6 {\n",
       "          background-color: #ff0;\n",
       "    }    #T_90437466_358e_11eb_81c0_00259091f1e8 .col_heading.level2.col7 {\n",
       "          background-color: #ff0;\n",
       "    }    #T_90437466_358e_11eb_81c0_00259091f1e8 .col_heading.level2.col8 {\n",
       "          background-color: #ff0;\n",
       "    }    #T_90437466_358e_11eb_81c0_00259091f1e8 .col_heading.level2.col9 {\n",
       "          background-color: #ff0;\n",
       "    }    #T_90437466_358e_11eb_81c0_00259091f1e8 .col_heading.level2.col10 {\n",
       "          background-color: #ff0;\n",
       "    }    #T_90437466_358e_11eb_81c0_00259091f1e8 .col_heading.level2.col11 {\n",
       "          background-color: #ff0;\n",
       "    }</style><table id=\"T_90437466_358e_11eb_81c0_00259091f1e8\" ><thead>    <tr>        <th class=\"blank level0\" ></th>        <th class=\"col_heading level0 col0\" >0</th>        <th class=\"col_heading level0 col1\" >1</th>        <th class=\"col_heading level0 col2\" >2</th>        <th class=\"col_heading level0 col3\" >3</th>        <th class=\"col_heading level0 col4\" >4</th>        <th class=\"col_heading level0 col5\" >5</th>        <th class=\"col_heading level0 col6\" >6</th>        <th class=\"col_heading level0 col7\" >7</th>        <th class=\"col_heading level0 col8\" >8</th>        <th class=\"col_heading level0 col9\" >9</th>        <th class=\"col_heading level0 col10\" >10</th>        <th class=\"col_heading level0 col11\" >11</th>        <th class=\"col_heading level0 col12\" >12</th>    </tr>    <tr>        <th class=\"blank level1\" ></th>        <th class=\"col_heading level1 col0\" >Title</th>        <th class=\"col_heading level1 col1\" >Album details</th>        <th class=\"col_heading level1 col2\" >Peak chart positions</th>        <th class=\"col_heading level1 col3\" >Peak chart positions</th>        <th class=\"col_heading level1 col4\" >Peak chart positions</th>        <th class=\"col_heading level1 col5\" >Peak chart positions</th>        <th class=\"col_heading level1 col6\" >Peak chart positions</th>        <th class=\"col_heading level1 col7\" >Peak chart positions</th>        <th class=\"col_heading level1 col8\" >Peak chart positions</th>        <th class=\"col_heading level1 col9\" >Peak chart positions</th>        <th class=\"col_heading level1 col10\" >Peak chart positions</th>        <th class=\"col_heading level1 col11\" >Peak chart positions</th>        <th class=\"col_heading level1 col12\" ><a href=\"http://en.wikipedia.org/wiki/List_of_music_recording_certifications?curid=17627213\">Certifications</a></th>    </tr>    <tr>        <th class=\"blank level2\" ></th>        <th class=\"col_heading level2 col0\" >Title</th>        <th class=\"col_heading level2 col1\" >Album details</th>        <th class=\"col_heading level2 col2\" ><a href=\"http://en.wikipedia.org/wiki/UK_Albums_Chart?curid=2465857\">UK</a></th>        <th class=\"col_heading level2 col3\" ><a href=\"http://en.wikipedia.org/wiki/Canadian_Albums_Chart?curid=9331428\">CAN</a></th>        <th class=\"col_heading level2 col4\" ><a href=\"http://en.wikipedia.org/wiki/ARIA_Charts?curid=3002226\">AUS</a></th>        <th class=\"col_heading level2 col5\" ><a href=\"http://en.wikipedia.org/wiki/Ö3_Austria_Top_40?curid=13757814\">AUT</a></th>        <th class=\"col_heading level2 col6\" ><a href=\"http://en.wikipedia.org/wiki/Finland's_Official_List?curid=7824827\">FIN</a></th>        <th class=\"col_heading level2 col7\" ><a href=\"http://en.wikipedia.org/wiki/Swedish_Albums_Chart?curid=11002747\">SWE</a></th>        <th class=\"col_heading level2 col8\" ><a href=\"http://en.wikipedia.org/wiki/VG-lista?curid=8262087\">NOR</a></th>        <th class=\"col_heading level2 col9\" ><a href=\"http://en.wikipedia.org/wiki/Media_Control_Charts?curid=6170448\">GER</a></th>        <th class=\"col_heading level2 col10\" ><a href=\"http://en.wikipedia.org/wiki/Japanese_Albums_Chart?curid=2758023\">JPN</a></th>        <th class=\"col_heading level2 col11\" ><a href=\"http://en.wikipedia.org/wiki/Billboard_200?curid=730350\">US</a></th>        <th class=\"col_heading level2 col12\" ><a href=\"http://en.wikipedia.org/wiki/List_of_music_recording_certifications?curid=17627213\">Certifications</a></th>    </tr></thead><tbody>\n",
       "        </tbody></table>"
      ],
      "text/plain": [
       "<pandas.io.formats.style.Styler at 0x7f5f21c8d090>"
      ]
     },
     "metadata": {},
     "output_type": "display_data"
    },
    {
     "name": "stdout",
     "output_type": "stream",
     "text": [
      "((LinkedString('Title', links=()), LinkedString('Album details', links=()), LinkedString('Peak chart positions', links=()), LinkedString('Peak chart positions', links=()), LinkedString('Peak chart positions', links=()), LinkedString('Peak chart positions', links=()), LinkedString('Peak chart positions', links=()), LinkedString('Peak chart positions', links=()), LinkedString('Peak chart positions', links=()), LinkedString('Peak chart positions', links=()), LinkedString('Peak chart positions', links=()), LinkedString('Peak chart positions', links=()), LinkedString('Peak chart positions', links=()), LinkedString('Peak chart positions', links=()), LinkedString('Peak chart positions', links=())), (LinkedString('Title', links=()), LinkedString('Album details', links=()), LinkedString('UK', links=((0, 2, 'http://en.wikipedia.org/wiki/UK_Albums_Chart?curid=2465857'),)), LinkedString('AUT', links=((0, 3, 'http://en.wikipedia.org/wiki/Ö3_Austria_Top_40?curid=13757814'),)), LinkedString('BEL (FLA)', links=((0, 9, 'http://en.wikipedia.org/wiki/Ultratop_50?curid=6836546'),)), LinkedString('BEL (WAL)', links=((0, 9, 'http://en.wikipedia.org/wiki/Ultratop_50?curid=6836546'),)), LinkedString('FIN', links=((0, 3, 'http://en.wikipedia.org/wiki/The_Official_Finnish_Charts?curid=7824827'),)), LinkedString('GER', links=((0, 3, 'http://en.wikipedia.org/wiki/Media_Control_Charts?curid=6170448'),)), LinkedString('ITA', links=((0, 3, 'http://en.wikipedia.org/wiki/Federazione_Industria_Musicale_Italiana?curid=4464404'),)), LinkedString('IRL', links=((0, 3, 'http://en.wikipedia.org/wiki/Irish_Albums_Chart?curid=5784179'),)), LinkedString('JPN', links=((0, 3, 'http://en.wikipedia.org/wiki/Oricon?curid=2758023'),)), LinkedString('NL', links=((0, 2, 'http://en.wikipedia.org/wiki/MegaCharts?curid=6013155'),)), LinkedString('SCO', links=((0, 3, 'http://en.wikipedia.org/wiki/Scottish_Albums_Chart?curid=26905588'),)), LinkedString('SPA', links=((0, 3, 'http://en.wikipedia.org/wiki/Productores_de_Música_de_España?curid=12567453'),)), LinkedString('SWI', links=((0, 3, 'http://en.wikipedia.org/wiki/Swiss_Music_Charts?curid=17054761'),))))\n",
      "1 (1, 6, 14, 'short-uppercase-acronyms') None None\n"
     ]
    },
    {
     "data": {
      "text/html": [
       "<style  type=\"text/css\" >\n",
       "    #T_9046f956_358e_11eb_81c0_00259091f1e8 .col_heading.level0 {\n",
       "          display: none;\n",
       "    }    #T_9046f956_358e_11eb_81c0_00259091f1e8 .col_heading.level2.col6 {\n",
       "          background-color: #ff0;\n",
       "    }    #T_9046f956_358e_11eb_81c0_00259091f1e8 .col_heading.level2.col7 {\n",
       "          background-color: #ff0;\n",
       "    }    #T_9046f956_358e_11eb_81c0_00259091f1e8 .col_heading.level2.col8 {\n",
       "          background-color: #ff0;\n",
       "    }    #T_9046f956_358e_11eb_81c0_00259091f1e8 .col_heading.level2.col9 {\n",
       "          background-color: #ff0;\n",
       "    }    #T_9046f956_358e_11eb_81c0_00259091f1e8 .col_heading.level2.col10 {\n",
       "          background-color: #ff0;\n",
       "    }    #T_9046f956_358e_11eb_81c0_00259091f1e8 .col_heading.level2.col11 {\n",
       "          background-color: #ff0;\n",
       "    }    #T_9046f956_358e_11eb_81c0_00259091f1e8 .col_heading.level2.col12 {\n",
       "          background-color: #ff0;\n",
       "    }    #T_9046f956_358e_11eb_81c0_00259091f1e8 .col_heading.level2.col13 {\n",
       "          background-color: #ff0;\n",
       "    }    #T_9046f956_358e_11eb_81c0_00259091f1e8 .col_heading.level2.col14 {\n",
       "          background-color: #ff0;\n",
       "    }</style><table id=\"T_9046f956_358e_11eb_81c0_00259091f1e8\" ><thead>    <tr>        <th class=\"blank level0\" ></th>        <th class=\"col_heading level0 col0\" >0</th>        <th class=\"col_heading level0 col1\" >1</th>        <th class=\"col_heading level0 col2\" >2</th>        <th class=\"col_heading level0 col3\" >3</th>        <th class=\"col_heading level0 col4\" >4</th>        <th class=\"col_heading level0 col5\" >5</th>        <th class=\"col_heading level0 col6\" >6</th>        <th class=\"col_heading level0 col7\" >7</th>        <th class=\"col_heading level0 col8\" >8</th>        <th class=\"col_heading level0 col9\" >9</th>        <th class=\"col_heading level0 col10\" >10</th>        <th class=\"col_heading level0 col11\" >11</th>        <th class=\"col_heading level0 col12\" >12</th>        <th class=\"col_heading level0 col13\" >13</th>        <th class=\"col_heading level0 col14\" >14</th>    </tr>    <tr>        <th class=\"blank level1\" ></th>        <th class=\"col_heading level1 col0\" >Title</th>        <th class=\"col_heading level1 col1\" >Album details</th>        <th class=\"col_heading level1 col2\" >Peak chart positions</th>        <th class=\"col_heading level1 col3\" >Peak chart positions</th>        <th class=\"col_heading level1 col4\" >Peak chart positions</th>        <th class=\"col_heading level1 col5\" >Peak chart positions</th>        <th class=\"col_heading level1 col6\" >Peak chart positions</th>        <th class=\"col_heading level1 col7\" >Peak chart positions</th>        <th class=\"col_heading level1 col8\" >Peak chart positions</th>        <th class=\"col_heading level1 col9\" >Peak chart positions</th>        <th class=\"col_heading level1 col10\" >Peak chart positions</th>        <th class=\"col_heading level1 col11\" >Peak chart positions</th>        <th class=\"col_heading level1 col12\" >Peak chart positions</th>        <th class=\"col_heading level1 col13\" >Peak chart positions</th>        <th class=\"col_heading level1 col14\" >Peak chart positions</th>    </tr>    <tr>        <th class=\"blank level2\" ></th>        <th class=\"col_heading level2 col0\" >Title</th>        <th class=\"col_heading level2 col1\" >Album details</th>        <th class=\"col_heading level2 col2\" ><a href=\"http://en.wikipedia.org/wiki/UK_Albums_Chart?curid=2465857\">UK</a></th>        <th class=\"col_heading level2 col3\" ><a href=\"http://en.wikipedia.org/wiki/Ö3_Austria_Top_40?curid=13757814\">AUT</a></th>        <th class=\"col_heading level2 col4\" ><a href=\"http://en.wikipedia.org/wiki/Ultratop_50?curid=6836546\">BEL (FLA)</a></th>        <th class=\"col_heading level2 col5\" ><a href=\"http://en.wikipedia.org/wiki/Ultratop_50?curid=6836546\">BEL (WAL)</a></th>        <th class=\"col_heading level2 col6\" ><a href=\"http://en.wikipedia.org/wiki/The_Official_Finnish_Charts?curid=7824827\">FIN</a></th>        <th class=\"col_heading level2 col7\" ><a href=\"http://en.wikipedia.org/wiki/Media_Control_Charts?curid=6170448\">GER</a></th>        <th class=\"col_heading level2 col8\" ><a href=\"http://en.wikipedia.org/wiki/Federazione_Industria_Musicale_Italiana?curid=4464404\">ITA</a></th>        <th class=\"col_heading level2 col9\" ><a href=\"http://en.wikipedia.org/wiki/Irish_Albums_Chart?curid=5784179\">IRL</a></th>        <th class=\"col_heading level2 col10\" ><a href=\"http://en.wikipedia.org/wiki/Oricon?curid=2758023\">JPN</a></th>        <th class=\"col_heading level2 col11\" ><a href=\"http://en.wikipedia.org/wiki/MegaCharts?curid=6013155\">NL</a></th>        <th class=\"col_heading level2 col12\" ><a href=\"http://en.wikipedia.org/wiki/Scottish_Albums_Chart?curid=26905588\">SCO</a></th>        <th class=\"col_heading level2 col13\" ><a href=\"http://en.wikipedia.org/wiki/Productores_de_Música_de_España?curid=12567453\">SPA</a></th>        <th class=\"col_heading level2 col14\" ><a href=\"http://en.wikipedia.org/wiki/Swiss_Music_Charts?curid=17054761\">SWI</a></th>    </tr></thead><tbody>\n",
       "        </tbody></table>"
      ],
      "text/plain": [
       "<pandas.io.formats.style.Styler at 0x7f5f21c8d510>"
      ]
     },
     "metadata": {},
     "output_type": "display_data"
    },
    {
     "name": "stdout",
     "output_type": "stream",
     "text": [
      "((LinkedString('Home / Away', links=()), LinkedString('ANG', links=((0, 3, 'http://en.wikipedia.org/wiki/Ankaragücü?curid=2626732'),)), LinkedString('ANK', links=((0, 3, 'http://en.wikipedia.org/wiki/Ankaraspor?curid=2626823'),)), LinkedString('ANT', links=((0, 3, 'http://en.wikipedia.org/wiki/Antalyaspor?curid=5449142'),)), LinkedString('BJK', links=((0, 3, 'http://en.wikipedia.org/wiki/Beşiktaş_JK?curid=1216600'),)), LinkedString('BUR', links=((0, 3, 'http://en.wikipedia.org/wiki/Bursaspor?curid=3829949'),)), LinkedString('ÇRZ', links=((0, 3, 'http://en.wikipedia.org/wiki/Çaykur_Rizespor?curid=2626889'),)), LinkedString('DEN', links=((0, 3, 'http://en.wikipedia.org/wiki/Denizlispor?curid=2412304'),)), LinkedString('FEN', links=((0, 3, 'http://en.wikipedia.org/wiki/Fenerbahçe?curid=979542'),)), LinkedString('GSY', links=((0, 3, 'http://en.wikipedia.org/wiki/Galatasaray?curid=404787'),)), LinkedString('GAZ', links=((0, 3, 'http://en.wikipedia.org/wiki/Gaziantepspor?curid=2626939'),)), LinkedString('GBR', links=((0, 3, 'http://en.wikipedia.org/wiki/Gençlerbirliği?curid=896121'),)), LinkedString('KAY', links=((0, 3, 'http://en.wikipedia.org/wiki/Kayserispor?curid=3150843'),)), LinkedString('KER', links=((0, 3, 'http://en.wikipedia.org/wiki/Kayseri_Erciyesspor?curid=2626968'),)), LinkedString('KON', links=((0, 3, 'http://en.wikipedia.org/wiki/Konyaspor?curid=2627002'),)), LinkedString('SAK', links=((0, 3, 'http://en.wikipedia.org/wiki/Sakaryaspor?curid=2519520'),)), LinkedString('SIV', links=((0, 3, 'http://en.wikipedia.org/wiki/Sivasspor?curid=2627067'),)), LinkedString('TRB', links=((0, 3, 'http://en.wikipedia.org/wiki/Trabzonspor?curid=861374'),)), LinkedString('VMN', links=((0, 3, 'http://en.wikipedia.org/wiki/Vestel_Manisaspor?curid=2627085'),))),)\n",
      "1 (0, 7, 18, 'short-uppercase-acronyms') None None\n"
     ]
    },
    {
     "data": {
      "text/html": [
       "<style  type=\"text/css\" >\n",
       "    #T_904a4e62_358e_11eb_81c0_00259091f1e8 .col_heading.level0 {\n",
       "          display: none;\n",
       "    }    #T_904a4e62_358e_11eb_81c0_00259091f1e8 .col_heading.level1.col7 {\n",
       "          background-color: #ff0;\n",
       "    }    #T_904a4e62_358e_11eb_81c0_00259091f1e8 .col_heading.level1.col8 {\n",
       "          background-color: #ff0;\n",
       "    }    #T_904a4e62_358e_11eb_81c0_00259091f1e8 .col_heading.level1.col9 {\n",
       "          background-color: #ff0;\n",
       "    }    #T_904a4e62_358e_11eb_81c0_00259091f1e8 .col_heading.level1.col10 {\n",
       "          background-color: #ff0;\n",
       "    }    #T_904a4e62_358e_11eb_81c0_00259091f1e8 .col_heading.level1.col11 {\n",
       "          background-color: #ff0;\n",
       "    }    #T_904a4e62_358e_11eb_81c0_00259091f1e8 .col_heading.level1.col12 {\n",
       "          background-color: #ff0;\n",
       "    }    #T_904a4e62_358e_11eb_81c0_00259091f1e8 .col_heading.level1.col13 {\n",
       "          background-color: #ff0;\n",
       "    }    #T_904a4e62_358e_11eb_81c0_00259091f1e8 .col_heading.level1.col14 {\n",
       "          background-color: #ff0;\n",
       "    }    #T_904a4e62_358e_11eb_81c0_00259091f1e8 .col_heading.level1.col15 {\n",
       "          background-color: #ff0;\n",
       "    }    #T_904a4e62_358e_11eb_81c0_00259091f1e8 .col_heading.level1.col16 {\n",
       "          background-color: #ff0;\n",
       "    }    #T_904a4e62_358e_11eb_81c0_00259091f1e8 .col_heading.level1.col17 {\n",
       "          background-color: #ff0;\n",
       "    }    #T_904a4e62_358e_11eb_81c0_00259091f1e8 .col_heading.level1.col18 {\n",
       "          background-color: #ff0;\n",
       "    }</style><table id=\"T_904a4e62_358e_11eb_81c0_00259091f1e8\" ><thead>    <tr>        <th class=\"blank level0\" ></th>        <th class=\"col_heading level0 col0\" >0</th>        <th class=\"col_heading level0 col1\" >1</th>        <th class=\"col_heading level0 col2\" >2</th>        <th class=\"col_heading level0 col3\" >3</th>        <th class=\"col_heading level0 col4\" >4</th>        <th class=\"col_heading level0 col5\" >5</th>        <th class=\"col_heading level0 col6\" >6</th>        <th class=\"col_heading level0 col7\" >7</th>        <th class=\"col_heading level0 col8\" >8</th>        <th class=\"col_heading level0 col9\" >9</th>        <th class=\"col_heading level0 col10\" >10</th>        <th class=\"col_heading level0 col11\" >11</th>        <th class=\"col_heading level0 col12\" >12</th>        <th class=\"col_heading level0 col13\" >13</th>        <th class=\"col_heading level0 col14\" >14</th>        <th class=\"col_heading level0 col15\" >15</th>        <th class=\"col_heading level0 col16\" >16</th>        <th class=\"col_heading level0 col17\" >17</th>        <th class=\"col_heading level0 col18\" >18</th>    </tr>    <tr>        <th class=\"blank level1\" ></th>        <th class=\"col_heading level1 col0\" >Home / Away</th>        <th class=\"col_heading level1 col1\" ><a href=\"http://en.wikipedia.org/wiki/Ankaragücü?curid=2626732\">ANG</a></th>        <th class=\"col_heading level1 col2\" ><a href=\"http://en.wikipedia.org/wiki/Ankaraspor?curid=2626823\">ANK</a></th>        <th class=\"col_heading level1 col3\" ><a href=\"http://en.wikipedia.org/wiki/Antalyaspor?curid=5449142\">ANT</a></th>        <th class=\"col_heading level1 col4\" ><a href=\"http://en.wikipedia.org/wiki/Beşiktaş_JK?curid=1216600\">BJK</a></th>        <th class=\"col_heading level1 col5\" ><a href=\"http://en.wikipedia.org/wiki/Bursaspor?curid=3829949\">BUR</a></th>        <th class=\"col_heading level1 col6\" ><a href=\"http://en.wikipedia.org/wiki/Çaykur_Rizespor?curid=2626889\">ÇRZ</a></th>        <th class=\"col_heading level1 col7\" ><a href=\"http://en.wikipedia.org/wiki/Denizlispor?curid=2412304\">DEN</a></th>        <th class=\"col_heading level1 col8\" ><a href=\"http://en.wikipedia.org/wiki/Fenerbahçe?curid=979542\">FEN</a></th>        <th class=\"col_heading level1 col9\" ><a href=\"http://en.wikipedia.org/wiki/Galatasaray?curid=404787\">GSY</a></th>        <th class=\"col_heading level1 col10\" ><a href=\"http://en.wikipedia.org/wiki/Gaziantepspor?curid=2626939\">GAZ</a></th>        <th class=\"col_heading level1 col11\" ><a href=\"http://en.wikipedia.org/wiki/Gençlerbirliği?curid=896121\">GBR</a></th>        <th class=\"col_heading level1 col12\" ><a href=\"http://en.wikipedia.org/wiki/Kayserispor?curid=3150843\">KAY</a></th>        <th class=\"col_heading level1 col13\" ><a href=\"http://en.wikipedia.org/wiki/Kayseri_Erciyesspor?curid=2626968\">KER</a></th>        <th class=\"col_heading level1 col14\" ><a href=\"http://en.wikipedia.org/wiki/Konyaspor?curid=2627002\">KON</a></th>        <th class=\"col_heading level1 col15\" ><a href=\"http://en.wikipedia.org/wiki/Sakaryaspor?curid=2519520\">SAK</a></th>        <th class=\"col_heading level1 col16\" ><a href=\"http://en.wikipedia.org/wiki/Sivasspor?curid=2627067\">SIV</a></th>        <th class=\"col_heading level1 col17\" ><a href=\"http://en.wikipedia.org/wiki/Trabzonspor?curid=861374\">TRB</a></th>        <th class=\"col_heading level1 col18\" ><a href=\"http://en.wikipedia.org/wiki/Vestel_Manisaspor?curid=2627085\">VMN</a></th>    </tr></thead><tbody>\n",
       "        </tbody></table>"
      ],
      "text/plain": [
       "<pandas.io.formats.style.Styler at 0x7f5f21c1f2d0>"
      ]
     },
     "metadata": {},
     "output_type": "display_data"
    },
    {
     "name": "stdout",
     "output_type": "stream",
     "text": [
      "((LinkedString('', links=()), LinkedString('Pos.', links=()), LinkedString('Rider', links=()), LinkedString('Points', links=()), LinkedString('GER', links=((0, 3, 'http://en.wikipedia.org/wiki/2001_Speedway_Grand_Prix_of_Germany?curid=25309467'),)), LinkedString('GBR', links=((0, 3, 'http://en.wikipedia.org/wiki/2001_Speedway_Grand_Prix_of_Great_Britain?curid=28856398'),)), LinkedString('DEN', links=((0, 3, 'http://en.wikipedia.org/wiki/2001_Speedway_Grand_Prix_of_Denmark?curid=40266297'),)), LinkedString('CZE', links=((0, 3, 'http://en.wikipedia.org/wiki/2001_Speedway_Grand_Prix_of_Czech_Republic'),)), LinkedString('POL', links=((0, 3, 'http://en.wikipedia.org/wiki/2001_Speedway_Grand_Prix_of_Poland'),)), LinkedString('SWE', links=((0, 3, 'http://en.wikipedia.org/wiki/2001_Speedway_Grand_Prix_of_Sweden'),))),)\n",
      "1 (0, 4, 9, 'short-uppercase-acronyms') None None\n"
     ]
    },
    {
     "data": {
      "text/html": [
       "<style  type=\"text/css\" >\n",
       "    #T_904d1250_358e_11eb_81c0_00259091f1e8 .col_heading.level0 {\n",
       "          display: none;\n",
       "    }    #T_904d1250_358e_11eb_81c0_00259091f1e8 .col_heading.level1.col4 {\n",
       "          background-color: #ff0;\n",
       "    }    #T_904d1250_358e_11eb_81c0_00259091f1e8 .col_heading.level1.col5 {\n",
       "          background-color: #ff0;\n",
       "    }    #T_904d1250_358e_11eb_81c0_00259091f1e8 .col_heading.level1.col6 {\n",
       "          background-color: #ff0;\n",
       "    }    #T_904d1250_358e_11eb_81c0_00259091f1e8 .col_heading.level1.col7 {\n",
       "          background-color: #ff0;\n",
       "    }    #T_904d1250_358e_11eb_81c0_00259091f1e8 .col_heading.level1.col8 {\n",
       "          background-color: #ff0;\n",
       "    }    #T_904d1250_358e_11eb_81c0_00259091f1e8 .col_heading.level1.col9 {\n",
       "          background-color: #ff0;\n",
       "    }</style><table id=\"T_904d1250_358e_11eb_81c0_00259091f1e8\" ><thead>    <tr>        <th class=\"blank level0\" ></th>        <th class=\"col_heading level0 col0\" >0</th>        <th class=\"col_heading level0 col1\" >1</th>        <th class=\"col_heading level0 col2\" >2</th>        <th class=\"col_heading level0 col3\" >3</th>        <th class=\"col_heading level0 col4\" >4</th>        <th class=\"col_heading level0 col5\" >5</th>        <th class=\"col_heading level0 col6\" >6</th>        <th class=\"col_heading level0 col7\" >7</th>        <th class=\"col_heading level0 col8\" >8</th>        <th class=\"col_heading level0 col9\" >9</th>    </tr>    <tr>        <th class=\"blank level1\" ></th>        <th class=\"col_heading level1 col0\" ></th>        <th class=\"col_heading level1 col1\" >Pos.</th>        <th class=\"col_heading level1 col2\" >Rider</th>        <th class=\"col_heading level1 col3\" >Points</th>        <th class=\"col_heading level1 col4\" ><a href=\"http://en.wikipedia.org/wiki/2001_Speedway_Grand_Prix_of_Germany?curid=25309467\">GER</a></th>        <th class=\"col_heading level1 col5\" ><a href=\"http://en.wikipedia.org/wiki/2001_Speedway_Grand_Prix_of_Great_Britain?curid=28856398\">GBR</a></th>        <th class=\"col_heading level1 col6\" ><a href=\"http://en.wikipedia.org/wiki/2001_Speedway_Grand_Prix_of_Denmark?curid=40266297\">DEN</a></th>        <th class=\"col_heading level1 col7\" ><a href=\"http://en.wikipedia.org/wiki/2001_Speedway_Grand_Prix_of_Czech_Republic\">CZE</a></th>        <th class=\"col_heading level1 col8\" ><a href=\"http://en.wikipedia.org/wiki/2001_Speedway_Grand_Prix_of_Poland\">POL</a></th>        <th class=\"col_heading level1 col9\" ><a href=\"http://en.wikipedia.org/wiki/2001_Speedway_Grand_Prix_of_Sweden\">SWE</a></th>    </tr></thead><tbody>\n",
       "        </tbody></table>"
      ],
      "text/plain": [
       "<pandas.io.formats.style.Styler at 0x7f5f281151d0>"
      ]
     },
     "metadata": {},
     "output_type": "display_data"
    },
    {
     "name": "stdout",
     "output_type": "stream",
     "text": [
      "((LinkedString('Year', links=()), LinkedString('Album details', links=()), LinkedString('Peak chart positions', links=()), LinkedString('Peak chart positions', links=()), LinkedString('Peak chart positions', links=()), LinkedString('Peak chart positions', links=()), LinkedString('Peak chart positions', links=()), LinkedString('Peak chart positions', links=()), LinkedString('Peak chart positions', links=()), LinkedString('Peak chart positions', links=()), LinkedString('Peak chart positions', links=()), LinkedString('Peak chart positions', links=()), LinkedString('Peak chart positions', links=()), LinkedString('Peak chart positions', links=()), LinkedString('Peak chart positions', links=()), LinkedString('Peak chart positions', links=()), LinkedString('Certifications ( sales thresholds )', links=((17, 33, 'http://en.wikipedia.org/wiki/List_of_music_recording_sales_certifications?curid=17627213'),))), (LinkedString('Year', links=()), LinkedString('Album details', links=()), LinkedString('US', links=((0, 2, 'http://en.wikipedia.org/wiki/United_States?curid=3434750'),)), LinkedString('UK', links=((0, 2, 'http://en.wikipedia.org/wiki/United_Kingdom?curid=31717'),)), LinkedString('AUS', links=((0, 3, 'http://en.wikipedia.org/wiki/Australia?curid=4689264'),)), LinkedString('AUT', links=((0, 3, 'http://en.wikipedia.org/wiki/Austria?curid=26964606'),)), LinkedString('NET', links=((0, 3, 'http://en.wikipedia.org/wiki/Netherlands?curid=21148'),)), LinkedString('CAN', links=((0, 3, 'http://en.wikipedia.org/wiki/Canada?curid=5042916'),)), LinkedString('FIN', links=((0, 3, 'http://en.wikipedia.org/wiki/Finland?curid=10577'),)), LinkedString('FRA', links=((0, 3, 'http://en.wikipedia.org/wiki/France?curid=5843419'),)), LinkedString('ITA', links=((0, 3, 'http://en.wikipedia.org/wiki/Italy?curid=14532'),)), LinkedString('NZ', links=((0, 2, 'http://en.wikipedia.org/wiki/New_Zealand?curid=4913064'),)), LinkedString('NOR', links=((0, 3, 'http://en.wikipedia.org/wiki/Norway?curid=21241'),)), LinkedString('SWE', links=((0, 3, 'http://en.wikipedia.org/wiki/Sweden?curid=5058739'),)), LinkedString('SWI', links=((0, 3, 'http://en.wikipedia.org/wiki/Switzerland?curid=26748'),)), LinkedString('GER', links=((0, 3, 'http://en.wikipedia.org/wiki/Germany?curid=11867'),)), LinkedString('Certifications ( sales thresholds )', links=((17, 33, 'http://en.wikipedia.org/wiki/List_of_music_recording_sales_certifications?curid=17627213'),))))\n",
      "1 (1, 2, 15, 'short-uppercase-acronyms') None None\n"
     ]
    },
    {
     "data": {
      "text/html": [
       "<style  type=\"text/css\" >\n",
       "    #T_9050f622_358e_11eb_81c0_00259091f1e8 .col_heading.level0 {\n",
       "          display: none;\n",
       "    }    #T_9050f622_358e_11eb_81c0_00259091f1e8 .col_heading.level2.col2 {\n",
       "          background-color: #ff0;\n",
       "    }    #T_9050f622_358e_11eb_81c0_00259091f1e8 .col_heading.level2.col3 {\n",
       "          background-color: #ff0;\n",
       "    }    #T_9050f622_358e_11eb_81c0_00259091f1e8 .col_heading.level2.col4 {\n",
       "          background-color: #ff0;\n",
       "    }    #T_9050f622_358e_11eb_81c0_00259091f1e8 .col_heading.level2.col5 {\n",
       "          background-color: #ff0;\n",
       "    }    #T_9050f622_358e_11eb_81c0_00259091f1e8 .col_heading.level2.col6 {\n",
       "          background-color: #ff0;\n",
       "    }    #T_9050f622_358e_11eb_81c0_00259091f1e8 .col_heading.level2.col7 {\n",
       "          background-color: #ff0;\n",
       "    }    #T_9050f622_358e_11eb_81c0_00259091f1e8 .col_heading.level2.col8 {\n",
       "          background-color: #ff0;\n",
       "    }    #T_9050f622_358e_11eb_81c0_00259091f1e8 .col_heading.level2.col9 {\n",
       "          background-color: #ff0;\n",
       "    }    #T_9050f622_358e_11eb_81c0_00259091f1e8 .col_heading.level2.col10 {\n",
       "          background-color: #ff0;\n",
       "    }    #T_9050f622_358e_11eb_81c0_00259091f1e8 .col_heading.level2.col11 {\n",
       "          background-color: #ff0;\n",
       "    }    #T_9050f622_358e_11eb_81c0_00259091f1e8 .col_heading.level2.col12 {\n",
       "          background-color: #ff0;\n",
       "    }    #T_9050f622_358e_11eb_81c0_00259091f1e8 .col_heading.level2.col13 {\n",
       "          background-color: #ff0;\n",
       "    }    #T_9050f622_358e_11eb_81c0_00259091f1e8 .col_heading.level2.col14 {\n",
       "          background-color: #ff0;\n",
       "    }    #T_9050f622_358e_11eb_81c0_00259091f1e8 .col_heading.level2.col15 {\n",
       "          background-color: #ff0;\n",
       "    }</style><table id=\"T_9050f622_358e_11eb_81c0_00259091f1e8\" ><thead>    <tr>        <th class=\"blank level0\" ></th>        <th class=\"col_heading level0 col0\" >0</th>        <th class=\"col_heading level0 col1\" >1</th>        <th class=\"col_heading level0 col2\" >2</th>        <th class=\"col_heading level0 col3\" >3</th>        <th class=\"col_heading level0 col4\" >4</th>        <th class=\"col_heading level0 col5\" >5</th>        <th class=\"col_heading level0 col6\" >6</th>        <th class=\"col_heading level0 col7\" >7</th>        <th class=\"col_heading level0 col8\" >8</th>        <th class=\"col_heading level0 col9\" >9</th>        <th class=\"col_heading level0 col10\" >10</th>        <th class=\"col_heading level0 col11\" >11</th>        <th class=\"col_heading level0 col12\" >12</th>        <th class=\"col_heading level0 col13\" >13</th>        <th class=\"col_heading level0 col14\" >14</th>        <th class=\"col_heading level0 col15\" >15</th>        <th class=\"col_heading level0 col16\" >16</th>    </tr>    <tr>        <th class=\"blank level1\" ></th>        <th class=\"col_heading level1 col0\" >Year</th>        <th class=\"col_heading level1 col1\" >Album details</th>        <th class=\"col_heading level1 col2\" >Peak chart positions</th>        <th class=\"col_heading level1 col3\" >Peak chart positions</th>        <th class=\"col_heading level1 col4\" >Peak chart positions</th>        <th class=\"col_heading level1 col5\" >Peak chart positions</th>        <th class=\"col_heading level1 col6\" >Peak chart positions</th>        <th class=\"col_heading level1 col7\" >Peak chart positions</th>        <th class=\"col_heading level1 col8\" >Peak chart positions</th>        <th class=\"col_heading level1 col9\" >Peak chart positions</th>        <th class=\"col_heading level1 col10\" >Peak chart positions</th>        <th class=\"col_heading level1 col11\" >Peak chart positions</th>        <th class=\"col_heading level1 col12\" >Peak chart positions</th>        <th class=\"col_heading level1 col13\" >Peak chart positions</th>        <th class=\"col_heading level1 col14\" >Peak chart positions</th>        <th class=\"col_heading level1 col15\" >Peak chart positions</th>        <th class=\"col_heading level1 col16\" >Certifications ( <a href=\"http://en.wikipedia.org/wiki/List_of_music_recording_sales_certifications?curid=17627213\">sales thresholds</a> )</th>    </tr>    <tr>        <th class=\"blank level2\" ></th>        <th class=\"col_heading level2 col0\" >Year</th>        <th class=\"col_heading level2 col1\" >Album details</th>        <th class=\"col_heading level2 col2\" ><a href=\"http://en.wikipedia.org/wiki/United_States?curid=3434750\">US</a></th>        <th class=\"col_heading level2 col3\" ><a href=\"http://en.wikipedia.org/wiki/United_Kingdom?curid=31717\">UK</a></th>        <th class=\"col_heading level2 col4\" ><a href=\"http://en.wikipedia.org/wiki/Australia?curid=4689264\">AUS</a></th>        <th class=\"col_heading level2 col5\" ><a href=\"http://en.wikipedia.org/wiki/Austria?curid=26964606\">AUT</a></th>        <th class=\"col_heading level2 col6\" ><a href=\"http://en.wikipedia.org/wiki/Netherlands?curid=21148\">NET</a></th>        <th class=\"col_heading level2 col7\" ><a href=\"http://en.wikipedia.org/wiki/Canada?curid=5042916\">CAN</a></th>        <th class=\"col_heading level2 col8\" ><a href=\"http://en.wikipedia.org/wiki/Finland?curid=10577\">FIN</a></th>        <th class=\"col_heading level2 col9\" ><a href=\"http://en.wikipedia.org/wiki/France?curid=5843419\">FRA</a></th>        <th class=\"col_heading level2 col10\" ><a href=\"http://en.wikipedia.org/wiki/Italy?curid=14532\">ITA</a></th>        <th class=\"col_heading level2 col11\" ><a href=\"http://en.wikipedia.org/wiki/New_Zealand?curid=4913064\">NZ</a></th>        <th class=\"col_heading level2 col12\" ><a href=\"http://en.wikipedia.org/wiki/Norway?curid=21241\">NOR</a></th>        <th class=\"col_heading level2 col13\" ><a href=\"http://en.wikipedia.org/wiki/Sweden?curid=5058739\">SWE</a></th>        <th class=\"col_heading level2 col14\" ><a href=\"http://en.wikipedia.org/wiki/Switzerland?curid=26748\">SWI</a></th>        <th class=\"col_heading level2 col15\" ><a href=\"http://en.wikipedia.org/wiki/Germany?curid=11867\">GER</a></th>        <th class=\"col_heading level2 col16\" >Certifications ( <a href=\"http://en.wikipedia.org/wiki/List_of_music_recording_sales_certifications?curid=17627213\">sales thresholds</a> )</th>    </tr></thead><tbody>\n",
       "        </tbody></table>"
      ],
      "text/plain": [
       "<pandas.io.formats.style.Styler at 0x7f5f28120750>"
      ]
     },
     "metadata": {},
     "output_type": "display_data"
    },
    {
     "name": "stdout",
     "output_type": "stream",
     "text": [
      "((LinkedString('Year', links=()), LinkedString('Single', links=()), LinkedString('Peak positions', links=()), LinkedString('Peak positions', links=()), LinkedString('Peak positions', links=()), LinkedString('Peak positions', links=()), LinkedString('Album', links=())), (LinkedString('Year', links=()), LinkedString('Single', links=()), LinkedString('CAN', links=((0, 3, 'http://en.wikipedia.org/wiki/Canadian_Singles_Chart?curid=5536421'),)), LinkedString('GER', links=((0, 3, 'http://en.wikipedia.org/wiki/GER?curid=2770294'),)), LinkedString('AUT', links=((0, 3, 'http://en.wikipedia.org/wiki/Ö3_Austria_Top_40?curid=13757814'),)), LinkedString('SUI', links=((0, 3, 'http://en.wikipedia.org/wiki/Schweizer_Hitparade?curid=17054761'),)), LinkedString('Album', links=())))\n",
      "1 (1, 2, 5, 'short-uppercase-acronyms') None None\n"
     ]
    },
    {
     "data": {
      "text/html": [
       "<style  type=\"text/css\" >\n",
       "    #T_9053d158_358e_11eb_81c0_00259091f1e8 .col_heading.level0 {\n",
       "          display: none;\n",
       "    }    #T_9053d158_358e_11eb_81c0_00259091f1e8 .col_heading.level2.col2 {\n",
       "          background-color: #ff0;\n",
       "    }    #T_9053d158_358e_11eb_81c0_00259091f1e8 .col_heading.level2.col3 {\n",
       "          background-color: #ff0;\n",
       "    }    #T_9053d158_358e_11eb_81c0_00259091f1e8 .col_heading.level2.col4 {\n",
       "          background-color: #ff0;\n",
       "    }    #T_9053d158_358e_11eb_81c0_00259091f1e8 .col_heading.level2.col5 {\n",
       "          background-color: #ff0;\n",
       "    }</style><table id=\"T_9053d158_358e_11eb_81c0_00259091f1e8\" ><thead>    <tr>        <th class=\"blank level0\" ></th>        <th class=\"col_heading level0 col0\" >0</th>        <th class=\"col_heading level0 col1\" >1</th>        <th class=\"col_heading level0 col2\" >2</th>        <th class=\"col_heading level0 col3\" >3</th>        <th class=\"col_heading level0 col4\" >4</th>        <th class=\"col_heading level0 col5\" >5</th>        <th class=\"col_heading level0 col6\" >6</th>    </tr>    <tr>        <th class=\"blank level1\" ></th>        <th class=\"col_heading level1 col0\" >Year</th>        <th class=\"col_heading level1 col1\" >Single</th>        <th class=\"col_heading level1 col2\" >Peak positions</th>        <th class=\"col_heading level1 col3\" >Peak positions</th>        <th class=\"col_heading level1 col4\" >Peak positions</th>        <th class=\"col_heading level1 col5\" >Peak positions</th>        <th class=\"col_heading level1 col6\" >Album</th>    </tr>    <tr>        <th class=\"blank level2\" ></th>        <th class=\"col_heading level2 col0\" >Year</th>        <th class=\"col_heading level2 col1\" >Single</th>        <th class=\"col_heading level2 col2\" ><a href=\"http://en.wikipedia.org/wiki/Canadian_Singles_Chart?curid=5536421\">CAN</a></th>        <th class=\"col_heading level2 col3\" ><a href=\"http://en.wikipedia.org/wiki/GER?curid=2770294\">GER</a></th>        <th class=\"col_heading level2 col4\" ><a href=\"http://en.wikipedia.org/wiki/Ö3_Austria_Top_40?curid=13757814\">AUT</a></th>        <th class=\"col_heading level2 col5\" ><a href=\"http://en.wikipedia.org/wiki/Schweizer_Hitparade?curid=17054761\">SUI</a></th>        <th class=\"col_heading level2 col6\" >Album</th>    </tr></thead><tbody>\n",
       "        </tbody></table>"
      ],
      "text/plain": [
       "<pandas.io.formats.style.Styler at 0x7f5f2801fa50>"
      ]
     },
     "metadata": {},
     "output_type": "display_data"
    },
    {
     "name": "stdout",
     "output_type": "stream",
     "text": [
      "((LinkedString('Home \\ Away [1 ]', links=()), LinkedString('BOL', links=((0, 3, 'http://en.wikipedia.org/wiki/Bologna_F.C._1909?curid=81238'),)), LinkedString('HEL', links=((0, 3, 'http://en.wikipedia.org/wiki/Hellas_Verona_F.C.?curid=14035'),)), LinkedString('VEN', links=((0, 3, 'http://en.wikipedia.org/wiki/F.B.C._Unione_Venezia?curid=30873379'),)), LinkedString('VIC', links=((0, 3, 'http://en.wikipedia.org/wiki/Vicenza_Calcio?curid=1136820'),))),)\n",
      "1 (0, 1, 4, 'short-uppercase-acronyms') None None\n"
     ]
    },
    {
     "data": {
      "text/html": [
       "<style  type=\"text/css\" >\n",
       "    #T_9056c28c_358e_11eb_81c0_00259091f1e8 .col_heading.level0 {\n",
       "          display: none;\n",
       "    }    #T_9056c28c_358e_11eb_81c0_00259091f1e8 .col_heading.level1.col1 {\n",
       "          background-color: #ff0;\n",
       "    }    #T_9056c28c_358e_11eb_81c0_00259091f1e8 .col_heading.level1.col2 {\n",
       "          background-color: #ff0;\n",
       "    }    #T_9056c28c_358e_11eb_81c0_00259091f1e8 .col_heading.level1.col3 {\n",
       "          background-color: #ff0;\n",
       "    }    #T_9056c28c_358e_11eb_81c0_00259091f1e8 .col_heading.level1.col4 {\n",
       "          background-color: #ff0;\n",
       "    }</style><table id=\"T_9056c28c_358e_11eb_81c0_00259091f1e8\" ><thead>    <tr>        <th class=\"blank level0\" ></th>        <th class=\"col_heading level0 col0\" >0</th>        <th class=\"col_heading level0 col1\" >1</th>        <th class=\"col_heading level0 col2\" >2</th>        <th class=\"col_heading level0 col3\" >3</th>        <th class=\"col_heading level0 col4\" >4</th>    </tr>    <tr>        <th class=\"blank level1\" ></th>        <th class=\"col_heading level1 col0\" >Home \\ Away [1 ]</th>        <th class=\"col_heading level1 col1\" ><a href=\"http://en.wikipedia.org/wiki/Bologna_F.C._1909?curid=81238\">BOL</a></th>        <th class=\"col_heading level1 col2\" ><a href=\"http://en.wikipedia.org/wiki/Hellas_Verona_F.C.?curid=14035\">HEL</a></th>        <th class=\"col_heading level1 col3\" ><a href=\"http://en.wikipedia.org/wiki/F.B.C._Unione_Venezia?curid=30873379\">VEN</a></th>        <th class=\"col_heading level1 col4\" ><a href=\"http://en.wikipedia.org/wiki/Vicenza_Calcio?curid=1136820\">VIC</a></th>    </tr></thead><tbody>\n",
       "        </tbody></table>"
      ],
      "text/plain": [
       "<pandas.io.formats.style.Styler at 0x7f5f21bc0850>"
      ]
     },
     "metadata": {},
     "output_type": "display_data"
    },
    {
     "name": "stdout",
     "output_type": "stream",
     "text": [
      "((LinkedString('Home \\ Away [1 ]', links=()), LinkedString('ALE', links=((0, 3, 'http://en.wikipedia.org/wiki/U.S._Alessandria_Calcio_1912?curid=4404202'),)), LinkedString('AMB', links=((0, 3, 'http://en.wikipedia.org/wiki/F.C._Internazionale_Milano?curid=15116'),)), LinkedString('BAR', links=((0, 3, 'http://en.wikipedia.org/wiki/A.S._Bari?curid=1138693'),)), LinkedString('BOL', links=((0, 3, 'http://en.wikipedia.org/wiki/Bologna_F.C._1909?curid=81238'),)), LinkedString('BRE', links=((0, 3, 'http://en.wikipedia.org/wiki/Brescia_Calcio?curid=1116791'),)), LinkedString('CSL', links=((0, 3, 'http://en.wikipedia.org/wiki/A.S._Casale_Calcio?curid=2928598'),)), LinkedString('FIO', links=((0, 3, 'http://en.wikipedia.org/wiki/ACF_Fiorentina?curid=3165'),)), LinkedString('GEN', links=((0, 3, 'http://en.wikipedia.org/wiki/Genoa_C.F.C.?curid=30872779'),)), LinkedString('JUV', links=((0, 3, 'http://en.wikipedia.org/wiki/Juventus_F.C.?curid=16415'),)), LinkedString('LAZ', links=((0, 3, 'http://en.wikipedia.org/wiki/S.S._Lazio?curid=28984'),)), LinkedString('MIL', links=((0, 3, 'http://en.wikipedia.org/wiki/A.C._Milan?curid=18940588'),)), LinkedString('MOD', links=((0, 3, 'http://en.wikipedia.org/wiki/Modena_F.C.?curid=1136879'),)), LinkedString('NAP', links=((0, 3, 'http://en.wikipedia.org/wiki/S.S.C._Napoli?curid=1130620'),)), LinkedString('PPA', links=((0, 3, 'http://en.wikipedia.org/wiki/Aurora_Pro_Patria_1919?curid=2876425'),)), LinkedString('PVE', links=((0, 3, 'http://en.wikipedia.org/wiki/F.C._Pro_Vercelli_1892?curid=35450207'),)), LinkedString('ROM', links=((0, 3, 'http://en.wikipedia.org/wiki/A.S._Roma?curid=2358'),)), LinkedString('TOR', links=((0, 3, 'http://en.wikipedia.org/wiki/Torino_F.C.?curid=19450750'),)), LinkedString('TRI', links=((0, 3, 'http://en.wikipedia.org/wiki/Unione_Triestina_2012_S.S.D.?curid=1411374'),))),)\n",
      "1 (0, 1, 18, 'short-uppercase-acronyms') None None\n"
     ]
    },
    {
     "data": {
      "text/html": [
       "<style  type=\"text/css\" >\n",
       "    #T_9059d76a_358e_11eb_81c0_00259091f1e8 .col_heading.level0 {\n",
       "          display: none;\n",
       "    }    #T_9059d76a_358e_11eb_81c0_00259091f1e8 .col_heading.level1.col1 {\n",
       "          background-color: #ff0;\n",
       "    }    #T_9059d76a_358e_11eb_81c0_00259091f1e8 .col_heading.level1.col2 {\n",
       "          background-color: #ff0;\n",
       "    }    #T_9059d76a_358e_11eb_81c0_00259091f1e8 .col_heading.level1.col3 {\n",
       "          background-color: #ff0;\n",
       "    }    #T_9059d76a_358e_11eb_81c0_00259091f1e8 .col_heading.level1.col4 {\n",
       "          background-color: #ff0;\n",
       "    }    #T_9059d76a_358e_11eb_81c0_00259091f1e8 .col_heading.level1.col5 {\n",
       "          background-color: #ff0;\n",
       "    }    #T_9059d76a_358e_11eb_81c0_00259091f1e8 .col_heading.level1.col6 {\n",
       "          background-color: #ff0;\n",
       "    }    #T_9059d76a_358e_11eb_81c0_00259091f1e8 .col_heading.level1.col7 {\n",
       "          background-color: #ff0;\n",
       "    }    #T_9059d76a_358e_11eb_81c0_00259091f1e8 .col_heading.level1.col8 {\n",
       "          background-color: #ff0;\n",
       "    }    #T_9059d76a_358e_11eb_81c0_00259091f1e8 .col_heading.level1.col9 {\n",
       "          background-color: #ff0;\n",
       "    }    #T_9059d76a_358e_11eb_81c0_00259091f1e8 .col_heading.level1.col10 {\n",
       "          background-color: #ff0;\n",
       "    }    #T_9059d76a_358e_11eb_81c0_00259091f1e8 .col_heading.level1.col11 {\n",
       "          background-color: #ff0;\n",
       "    }    #T_9059d76a_358e_11eb_81c0_00259091f1e8 .col_heading.level1.col12 {\n",
       "          background-color: #ff0;\n",
       "    }    #T_9059d76a_358e_11eb_81c0_00259091f1e8 .col_heading.level1.col13 {\n",
       "          background-color: #ff0;\n",
       "    }    #T_9059d76a_358e_11eb_81c0_00259091f1e8 .col_heading.level1.col14 {\n",
       "          background-color: #ff0;\n",
       "    }    #T_9059d76a_358e_11eb_81c0_00259091f1e8 .col_heading.level1.col15 {\n",
       "          background-color: #ff0;\n",
       "    }    #T_9059d76a_358e_11eb_81c0_00259091f1e8 .col_heading.level1.col16 {\n",
       "          background-color: #ff0;\n",
       "    }    #T_9059d76a_358e_11eb_81c0_00259091f1e8 .col_heading.level1.col17 {\n",
       "          background-color: #ff0;\n",
       "    }    #T_9059d76a_358e_11eb_81c0_00259091f1e8 .col_heading.level1.col18 {\n",
       "          background-color: #ff0;\n",
       "    }</style><table id=\"T_9059d76a_358e_11eb_81c0_00259091f1e8\" ><thead>    <tr>        <th class=\"blank level0\" ></th>        <th class=\"col_heading level0 col0\" >0</th>        <th class=\"col_heading level0 col1\" >1</th>        <th class=\"col_heading level0 col2\" >2</th>        <th class=\"col_heading level0 col3\" >3</th>        <th class=\"col_heading level0 col4\" >4</th>        <th class=\"col_heading level0 col5\" >5</th>        <th class=\"col_heading level0 col6\" >6</th>        <th class=\"col_heading level0 col7\" >7</th>        <th class=\"col_heading level0 col8\" >8</th>        <th class=\"col_heading level0 col9\" >9</th>        <th class=\"col_heading level0 col10\" >10</th>        <th class=\"col_heading level0 col11\" >11</th>        <th class=\"col_heading level0 col12\" >12</th>        <th class=\"col_heading level0 col13\" >13</th>        <th class=\"col_heading level0 col14\" >14</th>        <th class=\"col_heading level0 col15\" >15</th>        <th class=\"col_heading level0 col16\" >16</th>        <th class=\"col_heading level0 col17\" >17</th>        <th class=\"col_heading level0 col18\" >18</th>    </tr>    <tr>        <th class=\"blank level1\" ></th>        <th class=\"col_heading level1 col0\" >Home \\ Away [1 ]</th>        <th class=\"col_heading level1 col1\" ><a href=\"http://en.wikipedia.org/wiki/U.S._Alessandria_Calcio_1912?curid=4404202\">ALE</a></th>        <th class=\"col_heading level1 col2\" ><a href=\"http://en.wikipedia.org/wiki/F.C._Internazionale_Milano?curid=15116\">AMB</a></th>        <th class=\"col_heading level1 col3\" ><a href=\"http://en.wikipedia.org/wiki/A.S._Bari?curid=1138693\">BAR</a></th>        <th class=\"col_heading level1 col4\" ><a href=\"http://en.wikipedia.org/wiki/Bologna_F.C._1909?curid=81238\">BOL</a></th>        <th class=\"col_heading level1 col5\" ><a href=\"http://en.wikipedia.org/wiki/Brescia_Calcio?curid=1116791\">BRE</a></th>        <th class=\"col_heading level1 col6\" ><a href=\"http://en.wikipedia.org/wiki/A.S._Casale_Calcio?curid=2928598\">CSL</a></th>        <th class=\"col_heading level1 col7\" ><a href=\"http://en.wikipedia.org/wiki/ACF_Fiorentina?curid=3165\">FIO</a></th>        <th class=\"col_heading level1 col8\" ><a href=\"http://en.wikipedia.org/wiki/Genoa_C.F.C.?curid=30872779\">GEN</a></th>        <th class=\"col_heading level1 col9\" ><a href=\"http://en.wikipedia.org/wiki/Juventus_F.C.?curid=16415\">JUV</a></th>        <th class=\"col_heading level1 col10\" ><a href=\"http://en.wikipedia.org/wiki/S.S._Lazio?curid=28984\">LAZ</a></th>        <th class=\"col_heading level1 col11\" ><a href=\"http://en.wikipedia.org/wiki/A.C._Milan?curid=18940588\">MIL</a></th>        <th class=\"col_heading level1 col12\" ><a href=\"http://en.wikipedia.org/wiki/Modena_F.C.?curid=1136879\">MOD</a></th>        <th class=\"col_heading level1 col13\" ><a href=\"http://en.wikipedia.org/wiki/S.S.C._Napoli?curid=1130620\">NAP</a></th>        <th class=\"col_heading level1 col14\" ><a href=\"http://en.wikipedia.org/wiki/Aurora_Pro_Patria_1919?curid=2876425\">PPA</a></th>        <th class=\"col_heading level1 col15\" ><a href=\"http://en.wikipedia.org/wiki/F.C._Pro_Vercelli_1892?curid=35450207\">PVE</a></th>        <th class=\"col_heading level1 col16\" ><a href=\"http://en.wikipedia.org/wiki/A.S._Roma?curid=2358\">ROM</a></th>        <th class=\"col_heading level1 col17\" ><a href=\"http://en.wikipedia.org/wiki/Torino_F.C.?curid=19450750\">TOR</a></th>        <th class=\"col_heading level1 col18\" ><a href=\"http://en.wikipedia.org/wiki/Unione_Triestina_2012_S.S.D.?curid=1411374\">TRI</a></th>    </tr></thead><tbody>\n",
       "        </tbody></table>"
      ],
      "text/plain": [
       "<pandas.io.formats.style.Styler at 0x7f5faddf3f50>"
      ]
     },
     "metadata": {},
     "output_type": "display_data"
    },
    {
     "name": "stdout",
     "output_type": "stream",
     "text": [
      "((LinkedString('Prefectures', links=((0, 11, 'http://en.wikipedia.org/wiki/Prefectures_of_Japan?curid=74517'),)), LinkedString('NHK', links=((0, 3, 'http://en.wikipedia.org/wiki/NHK?curid=147782'),)), LinkedString('NNN', links=((0, 3, 'http://en.wikipedia.org/wiki/Nippon_News_Network?curid=1327898'),)), LinkedString('JNN', links=((0, 3, 'http://en.wikipedia.org/wiki/Japan_News_Network?curid=981463'),)), LinkedString('FNN', links=((0, 3, 'http://en.wikipedia.org/wiki/Fuji_News_Network?curid=981656'),)), LinkedString('ANN', links=((0, 3, 'http://en.wikipedia.org/wiki/All-Nippon_News_Network?curid=1327961'),)), LinkedString('TXN', links=((0, 3, 'http://en.wikipedia.org/wiki/TXN?curid=981674'),))),)\n",
      "1 (0, 1, 6, 'short-uppercase-acronyms') None None\n"
     ]
    },
    {
     "data": {
      "text/html": [
       "<style  type=\"text/css\" >\n",
       "    #T_905c28c6_358e_11eb_81c0_00259091f1e8 .col_heading.level0 {\n",
       "          display: none;\n",
       "    }    #T_905c28c6_358e_11eb_81c0_00259091f1e8 .col_heading.level1.col1 {\n",
       "          background-color: #ff0;\n",
       "    }    #T_905c28c6_358e_11eb_81c0_00259091f1e8 .col_heading.level1.col2 {\n",
       "          background-color: #ff0;\n",
       "    }    #T_905c28c6_358e_11eb_81c0_00259091f1e8 .col_heading.level1.col3 {\n",
       "          background-color: #ff0;\n",
       "    }    #T_905c28c6_358e_11eb_81c0_00259091f1e8 .col_heading.level1.col4 {\n",
       "          background-color: #ff0;\n",
       "    }    #T_905c28c6_358e_11eb_81c0_00259091f1e8 .col_heading.level1.col5 {\n",
       "          background-color: #ff0;\n",
       "    }    #T_905c28c6_358e_11eb_81c0_00259091f1e8 .col_heading.level1.col6 {\n",
       "          background-color: #ff0;\n",
       "    }</style><table id=\"T_905c28c6_358e_11eb_81c0_00259091f1e8\" ><thead>    <tr>        <th class=\"blank level0\" ></th>        <th class=\"col_heading level0 col0\" >0</th>        <th class=\"col_heading level0 col1\" >1</th>        <th class=\"col_heading level0 col2\" >2</th>        <th class=\"col_heading level0 col3\" >3</th>        <th class=\"col_heading level0 col4\" >4</th>        <th class=\"col_heading level0 col5\" >5</th>        <th class=\"col_heading level0 col6\" >6</th>    </tr>    <tr>        <th class=\"blank level1\" ></th>        <th class=\"col_heading level1 col0\" ><a href=\"http://en.wikipedia.org/wiki/Prefectures_of_Japan?curid=74517\">Prefectures</a></th>        <th class=\"col_heading level1 col1\" ><a href=\"http://en.wikipedia.org/wiki/NHK?curid=147782\">NHK</a></th>        <th class=\"col_heading level1 col2\" ><a href=\"http://en.wikipedia.org/wiki/Nippon_News_Network?curid=1327898\">NNN</a></th>        <th class=\"col_heading level1 col3\" ><a href=\"http://en.wikipedia.org/wiki/Japan_News_Network?curid=981463\">JNN</a></th>        <th class=\"col_heading level1 col4\" ><a href=\"http://en.wikipedia.org/wiki/Fuji_News_Network?curid=981656\">FNN</a></th>        <th class=\"col_heading level1 col5\" ><a href=\"http://en.wikipedia.org/wiki/All-Nippon_News_Network?curid=1327961\">ANN</a></th>        <th class=\"col_heading level1 col6\" ><a href=\"http://en.wikipedia.org/wiki/TXN?curid=981674\">TXN</a></th>    </tr></thead><tbody>\n",
       "        </tbody></table>"
      ],
      "text/plain": [
       "<pandas.io.formats.style.Styler at 0x7f5f21ba2450>"
      ]
     },
     "metadata": {},
     "output_type": "display_data"
    },
    {
     "name": "stdout",
     "output_type": "stream",
     "text": [
      "((LinkedString('Season', links=()), LinkedString('Team', links=()), LinkedString('G', links=()), LinkedString('MIN', links=()), LinkedString('PPG', links=()), LinkedString('PTS', links=()), LinkedString('RPG', links=()), LinkedString('REB', links=()), LinkedString('APG', links=()), LinkedString('AST', links=()), LinkedString('STL', links=()), LinkedString('BLK', links=()), LinkedString('FG%', links=()), LinkedString('3P%', links=()), LinkedString('FT%', links=())),)\n",
      "1 (0, 3, 11, 'short-uppercase-acronyms') None None\n"
     ]
    },
    {
     "data": {
      "text/html": [
       "<style  type=\"text/css\" >\n",
       "    #T_905f187e_358e_11eb_81c0_00259091f1e8 .col_heading.level0 {\n",
       "          display: none;\n",
       "    }    #T_905f187e_358e_11eb_81c0_00259091f1e8 .col_heading.level1.col3 {\n",
       "          background-color: #ff0;\n",
       "    }    #T_905f187e_358e_11eb_81c0_00259091f1e8 .col_heading.level1.col4 {\n",
       "          background-color: #ff0;\n",
       "    }    #T_905f187e_358e_11eb_81c0_00259091f1e8 .col_heading.level1.col5 {\n",
       "          background-color: #ff0;\n",
       "    }    #T_905f187e_358e_11eb_81c0_00259091f1e8 .col_heading.level1.col6 {\n",
       "          background-color: #ff0;\n",
       "    }    #T_905f187e_358e_11eb_81c0_00259091f1e8 .col_heading.level1.col7 {\n",
       "          background-color: #ff0;\n",
       "    }    #T_905f187e_358e_11eb_81c0_00259091f1e8 .col_heading.level1.col8 {\n",
       "          background-color: #ff0;\n",
       "    }    #T_905f187e_358e_11eb_81c0_00259091f1e8 .col_heading.level1.col9 {\n",
       "          background-color: #ff0;\n",
       "    }    #T_905f187e_358e_11eb_81c0_00259091f1e8 .col_heading.level1.col10 {\n",
       "          background-color: #ff0;\n",
       "    }    #T_905f187e_358e_11eb_81c0_00259091f1e8 .col_heading.level1.col11 {\n",
       "          background-color: #ff0;\n",
       "    }</style><table id=\"T_905f187e_358e_11eb_81c0_00259091f1e8\" ><thead>    <tr>        <th class=\"blank level0\" ></th>        <th class=\"col_heading level0 col0\" >0</th>        <th class=\"col_heading level0 col1\" >1</th>        <th class=\"col_heading level0 col2\" >2</th>        <th class=\"col_heading level0 col3\" >3</th>        <th class=\"col_heading level0 col4\" >4</th>        <th class=\"col_heading level0 col5\" >5</th>        <th class=\"col_heading level0 col6\" >6</th>        <th class=\"col_heading level0 col7\" >7</th>        <th class=\"col_heading level0 col8\" >8</th>        <th class=\"col_heading level0 col9\" >9</th>        <th class=\"col_heading level0 col10\" >10</th>        <th class=\"col_heading level0 col11\" >11</th>        <th class=\"col_heading level0 col12\" >12</th>        <th class=\"col_heading level0 col13\" >13</th>        <th class=\"col_heading level0 col14\" >14</th>    </tr>    <tr>        <th class=\"blank level1\" ></th>        <th class=\"col_heading level1 col0\" >Season</th>        <th class=\"col_heading level1 col1\" >Team</th>        <th class=\"col_heading level1 col2\" >G</th>        <th class=\"col_heading level1 col3\" >MIN</th>        <th class=\"col_heading level1 col4\" >PPG</th>        <th class=\"col_heading level1 col5\" >PTS</th>        <th class=\"col_heading level1 col6\" >RPG</th>        <th class=\"col_heading level1 col7\" >REB</th>        <th class=\"col_heading level1 col8\" >APG</th>        <th class=\"col_heading level1 col9\" >AST</th>        <th class=\"col_heading level1 col10\" >STL</th>        <th class=\"col_heading level1 col11\" >BLK</th>        <th class=\"col_heading level1 col12\" >FG%</th>        <th class=\"col_heading level1 col13\" >3P%</th>        <th class=\"col_heading level1 col14\" >FT%</th>    </tr></thead><tbody>\n",
       "        </tbody></table>"
      ],
      "text/plain": [
       "<pandas.io.formats.style.Styler at 0x7f5f2817f050>"
      ]
     },
     "metadata": {},
     "output_type": "display_data"
    },
    {
     "name": "stdout",
     "output_type": "stream",
     "text": [
      "((LinkedString('Home \\ Away [1 ]', links=()), LinkedString('USM', links=((0, 3, 'http://en.wikipedia.org/wiki/Unione_Sportiva_Milanese'),)), LinkedString('AMO', links=((0, 3, 'http://en.wikipedia.org/wiki/Audax_Modena'),)), LinkedString('BOL', links=((0, 3, 'http://en.wikipedia.org/wiki/Bologna_F.C._1909?curid=81238'),)), LinkedString('CHI', links=((0, 3, 'http://en.wikipedia.org/wiki/FC_Chiasso?curid=5728928'),)), LinkedString('', links=()), LinkedString('MIL', links=((0, 3, 'http://en.wikipedia.org/wiki/A.C._Milan?curid=18940588'),))),)\n",
      "1 (0, 1, 4, 'short-uppercase-acronyms') None None\n"
     ]
    },
    {
     "data": {
      "text/html": [
       "<style  type=\"text/css\" >\n",
       "    #T_9061a152_358e_11eb_81c0_00259091f1e8 .col_heading.level0 {\n",
       "          display: none;\n",
       "    }    #T_9061a152_358e_11eb_81c0_00259091f1e8 .col_heading.level1.col1 {\n",
       "          background-color: #ff0;\n",
       "    }    #T_9061a152_358e_11eb_81c0_00259091f1e8 .col_heading.level1.col2 {\n",
       "          background-color: #ff0;\n",
       "    }    #T_9061a152_358e_11eb_81c0_00259091f1e8 .col_heading.level1.col3 {\n",
       "          background-color: #ff0;\n",
       "    }    #T_9061a152_358e_11eb_81c0_00259091f1e8 .col_heading.level1.col4 {\n",
       "          background-color: #ff0;\n",
       "    }</style><table id=\"T_9061a152_358e_11eb_81c0_00259091f1e8\" ><thead>    <tr>        <th class=\"blank level0\" ></th>        <th class=\"col_heading level0 col0\" >0</th>        <th class=\"col_heading level0 col1\" >1</th>        <th class=\"col_heading level0 col2\" >2</th>        <th class=\"col_heading level0 col3\" >3</th>        <th class=\"col_heading level0 col4\" >4</th>        <th class=\"col_heading level0 col5\" >5</th>        <th class=\"col_heading level0 col6\" >6</th>    </tr>    <tr>        <th class=\"blank level1\" ></th>        <th class=\"col_heading level1 col0\" >Home \\ Away [1 ]</th>        <th class=\"col_heading level1 col1\" ><a href=\"http://en.wikipedia.org/wiki/Unione_Sportiva_Milanese\">USM</a></th>        <th class=\"col_heading level1 col2\" ><a href=\"http://en.wikipedia.org/wiki/Audax_Modena\">AMO</a></th>        <th class=\"col_heading level1 col3\" ><a href=\"http://en.wikipedia.org/wiki/Bologna_F.C._1909?curid=81238\">BOL</a></th>        <th class=\"col_heading level1 col4\" ><a href=\"http://en.wikipedia.org/wiki/FC_Chiasso?curid=5728928\">CHI</a></th>        <th class=\"col_heading level1 col5\" ></th>        <th class=\"col_heading level1 col6\" ><a href=\"http://en.wikipedia.org/wiki/A.C._Milan?curid=18940588\">MIL</a></th>    </tr></thead><tbody>\n",
       "        </tbody></table>"
      ],
      "text/plain": [
       "<pandas.io.formats.style.Styler at 0x7f5f28115a90>"
      ]
     },
     "metadata": {},
     "output_type": "display_data"
    },
    {
     "name": "stdout",
     "output_type": "stream",
     "text": [
      "((LinkedString('Home \\ Away [1 ]', links=()), LinkedString('AMT', links=((0, 3, 'http://en.wikipedia.org/wiki/Amatori_G.C._Torino'),)), LinkedString('BIE', links=((0, 3, 'http://en.wikipedia.org/wiki/A.S.D._Junior_Biellese_Libertas?curid=2928433'),)), LinkedString('JUV', links=((0, 3, 'http://en.wikipedia.org/wiki/Juventus_F.C.?curid=16415'),)), LinkedString('PVE', links=((0, 3, 'http://en.wikipedia.org/wiki/F.C._Pro_Vercelli_1892?curid=35450207'),)), LinkedString('TOR', links=((0, 3, 'http://en.wikipedia.org/wiki/Torino_F.C.?curid=19450750'),)), LinkedString('ALE', links=((0, 3, 'http://en.wikipedia.org/wiki/U.S._Alessandria_Calcio_1912?curid=4404202'),))),)\n",
      "1 (0, 1, 6, 'short-uppercase-acronyms') None None\n"
     ]
    },
    {
     "data": {
      "text/html": [
       "<style  type=\"text/css\" >\n",
       "    #T_90642aee_358e_11eb_81c0_00259091f1e8 .col_heading.level0 {\n",
       "          display: none;\n",
       "    }    #T_90642aee_358e_11eb_81c0_00259091f1e8 .col_heading.level1.col1 {\n",
       "          background-color: #ff0;\n",
       "    }    #T_90642aee_358e_11eb_81c0_00259091f1e8 .col_heading.level1.col2 {\n",
       "          background-color: #ff0;\n",
       "    }    #T_90642aee_358e_11eb_81c0_00259091f1e8 .col_heading.level1.col3 {\n",
       "          background-color: #ff0;\n",
       "    }    #T_90642aee_358e_11eb_81c0_00259091f1e8 .col_heading.level1.col4 {\n",
       "          background-color: #ff0;\n",
       "    }    #T_90642aee_358e_11eb_81c0_00259091f1e8 .col_heading.level1.col5 {\n",
       "          background-color: #ff0;\n",
       "    }    #T_90642aee_358e_11eb_81c0_00259091f1e8 .col_heading.level1.col6 {\n",
       "          background-color: #ff0;\n",
       "    }</style><table id=\"T_90642aee_358e_11eb_81c0_00259091f1e8\" ><thead>    <tr>        <th class=\"blank level0\" ></th>        <th class=\"col_heading level0 col0\" >0</th>        <th class=\"col_heading level0 col1\" >1</th>        <th class=\"col_heading level0 col2\" >2</th>        <th class=\"col_heading level0 col3\" >3</th>        <th class=\"col_heading level0 col4\" >4</th>        <th class=\"col_heading level0 col5\" >5</th>        <th class=\"col_heading level0 col6\" >6</th>    </tr>    <tr>        <th class=\"blank level1\" ></th>        <th class=\"col_heading level1 col0\" >Home \\ Away [1 ]</th>        <th class=\"col_heading level1 col1\" ><a href=\"http://en.wikipedia.org/wiki/Amatori_G.C._Torino\">AMT</a></th>        <th class=\"col_heading level1 col2\" ><a href=\"http://en.wikipedia.org/wiki/A.S.D._Junior_Biellese_Libertas?curid=2928433\">BIE</a></th>        <th class=\"col_heading level1 col3\" ><a href=\"http://en.wikipedia.org/wiki/Juventus_F.C.?curid=16415\">JUV</a></th>        <th class=\"col_heading level1 col4\" ><a href=\"http://en.wikipedia.org/wiki/F.C._Pro_Vercelli_1892?curid=35450207\">PVE</a></th>        <th class=\"col_heading level1 col5\" ><a href=\"http://en.wikipedia.org/wiki/Torino_F.C.?curid=19450750\">TOR</a></th>        <th class=\"col_heading level1 col6\" ><a href=\"http://en.wikipedia.org/wiki/U.S._Alessandria_Calcio_1912?curid=4404202\">ALE</a></th>    </tr></thead><tbody>\n",
       "        </tbody></table>"
      ],
      "text/plain": [
       "<pandas.io.formats.style.Styler at 0x7f5f2812b490>"
      ]
     },
     "metadata": {},
     "output_type": "display_data"
    },
    {
     "name": "stdout",
     "output_type": "stream",
     "text": [
      "((LinkedString('Home \\ Away [1 ]', links=()), LinkedString('ARO', links=((0, 3, 'http://en.wikipedia.org/wiki/S.S._Alba-Audace_Roma?curid=13374192'),)), LinkedString('INA', links=((0, 3, 'http://en.wikipedia.org/wiki/U.S._Internazionale_Napoli?curid=12145438'),)), LinkedString('LIV', links=((0, 3, 'http://en.wikipedia.org/wiki/A.S._Livorno_Calcio?curid=1135871'),))),)\n",
      "1 (0, 1, 3, 'short-uppercase-acronyms') None None\n"
     ]
    },
    {
     "data": {
      "text/html": [
       "<style  type=\"text/css\" >\n",
       "    #T_90666642_358e_11eb_81c0_00259091f1e8 .col_heading.level0 {\n",
       "          display: none;\n",
       "    }    #T_90666642_358e_11eb_81c0_00259091f1e8 .col_heading.level1.col1 {\n",
       "          background-color: #ff0;\n",
       "    }    #T_90666642_358e_11eb_81c0_00259091f1e8 .col_heading.level1.col2 {\n",
       "          background-color: #ff0;\n",
       "    }    #T_90666642_358e_11eb_81c0_00259091f1e8 .col_heading.level1.col3 {\n",
       "          background-color: #ff0;\n",
       "    }</style><table id=\"T_90666642_358e_11eb_81c0_00259091f1e8\" ><thead>    <tr>        <th class=\"blank level0\" ></th>        <th class=\"col_heading level0 col0\" >0</th>        <th class=\"col_heading level0 col1\" >1</th>        <th class=\"col_heading level0 col2\" >2</th>        <th class=\"col_heading level0 col3\" >3</th>    </tr>    <tr>        <th class=\"blank level1\" ></th>        <th class=\"col_heading level1 col0\" >Home \\ Away [1 ]</th>        <th class=\"col_heading level1 col1\" ><a href=\"http://en.wikipedia.org/wiki/S.S._Alba-Audace_Roma?curid=13374192\">ARO</a></th>        <th class=\"col_heading level1 col2\" ><a href=\"http://en.wikipedia.org/wiki/U.S._Internazionale_Napoli?curid=12145438\">INA</a></th>        <th class=\"col_heading level1 col3\" ><a href=\"http://en.wikipedia.org/wiki/A.S._Livorno_Calcio?curid=1135871\">LIV</a></th>    </tr></thead><tbody>\n",
       "        </tbody></table>"
      ],
      "text/plain": [
       "<pandas.io.formats.style.Styler at 0x7f5f21baee50>"
      ]
     },
     "metadata": {},
     "output_type": "display_data"
    },
    {
     "name": "stdout",
     "output_type": "stream",
     "text": [
      "((LinkedString('Home \\ Away [1 ]', links=()), LinkedString('BRO', links=((0, 3, 'http://en.wikipedia.org/wiki/C.D._Broncos?curid=8058279'),)), LinkedString('FED', links=((0, 3, 'http://en.wikipedia.org/wiki/C.D._Federal?curid=5130084'),)), LinkedString('MAR', links=((0, 3, 'http://en.wikipedia.org/wiki/C.D._Marathón?curid=1126403'),)), LinkedString('MOT', links=((0, 3, 'http://en.wikipedia.org/wiki/C.D._Motagua?curid=1037353'),)), LinkedString('OLI', links=((0, 3, 'http://en.wikipedia.org/wiki/C.D._Olimpia?curid=1125808'),)), LinkedString('PLA', links=((0, 3, 'http://en.wikipedia.org/wiki/Platense_F.C.?curid=3419152'),)), LinkedString('RES', links=((0, 3, 'http://en.wikipedia.org/wiki/Real_C.D._España?curid=1125902'),)), LinkedString('UNI', links=((0, 3, 'http://en.wikipedia.org/wiki/Pumas_UNAH?curid=12540414'),)), LinkedString('VIC', links=((0, 3, 'http://en.wikipedia.org/wiki/C.D._Victoria?curid=3659788'),)), LinkedString('VID', links=((0, 3, 'http://en.wikipedia.org/wiki/C.D.S._Vida?curid=3659485'),))),)\n",
      "1 (0, 1, 10, 'short-uppercase-acronyms') None None\n"
     ]
    },
    {
     "data": {
      "text/html": [
       "<style  type=\"text/css\" >\n",
       "    #T_9068f902_358e_11eb_81c0_00259091f1e8 .col_heading.level0 {\n",
       "          display: none;\n",
       "    }    #T_9068f902_358e_11eb_81c0_00259091f1e8 .col_heading.level1.col1 {\n",
       "          background-color: #ff0;\n",
       "    }    #T_9068f902_358e_11eb_81c0_00259091f1e8 .col_heading.level1.col2 {\n",
       "          background-color: #ff0;\n",
       "    }    #T_9068f902_358e_11eb_81c0_00259091f1e8 .col_heading.level1.col3 {\n",
       "          background-color: #ff0;\n",
       "    }    #T_9068f902_358e_11eb_81c0_00259091f1e8 .col_heading.level1.col4 {\n",
       "          background-color: #ff0;\n",
       "    }    #T_9068f902_358e_11eb_81c0_00259091f1e8 .col_heading.level1.col5 {\n",
       "          background-color: #ff0;\n",
       "    }    #T_9068f902_358e_11eb_81c0_00259091f1e8 .col_heading.level1.col6 {\n",
       "          background-color: #ff0;\n",
       "    }    #T_9068f902_358e_11eb_81c0_00259091f1e8 .col_heading.level1.col7 {\n",
       "          background-color: #ff0;\n",
       "    }    #T_9068f902_358e_11eb_81c0_00259091f1e8 .col_heading.level1.col8 {\n",
       "          background-color: #ff0;\n",
       "    }    #T_9068f902_358e_11eb_81c0_00259091f1e8 .col_heading.level1.col9 {\n",
       "          background-color: #ff0;\n",
       "    }    #T_9068f902_358e_11eb_81c0_00259091f1e8 .col_heading.level1.col10 {\n",
       "          background-color: #ff0;\n",
       "    }</style><table id=\"T_9068f902_358e_11eb_81c0_00259091f1e8\" ><thead>    <tr>        <th class=\"blank level0\" ></th>        <th class=\"col_heading level0 col0\" >0</th>        <th class=\"col_heading level0 col1\" >1</th>        <th class=\"col_heading level0 col2\" >2</th>        <th class=\"col_heading level0 col3\" >3</th>        <th class=\"col_heading level0 col4\" >4</th>        <th class=\"col_heading level0 col5\" >5</th>        <th class=\"col_heading level0 col6\" >6</th>        <th class=\"col_heading level0 col7\" >7</th>        <th class=\"col_heading level0 col8\" >8</th>        <th class=\"col_heading level0 col9\" >9</th>        <th class=\"col_heading level0 col10\" >10</th>    </tr>    <tr>        <th class=\"blank level1\" ></th>        <th class=\"col_heading level1 col0\" >Home \\ Away [1 ]</th>        <th class=\"col_heading level1 col1\" ><a href=\"http://en.wikipedia.org/wiki/C.D._Broncos?curid=8058279\">BRO</a></th>        <th class=\"col_heading level1 col2\" ><a href=\"http://en.wikipedia.org/wiki/C.D._Federal?curid=5130084\">FED</a></th>        <th class=\"col_heading level1 col3\" ><a href=\"http://en.wikipedia.org/wiki/C.D._Marathón?curid=1126403\">MAR</a></th>        <th class=\"col_heading level1 col4\" ><a href=\"http://en.wikipedia.org/wiki/C.D._Motagua?curid=1037353\">MOT</a></th>        <th class=\"col_heading level1 col5\" ><a href=\"http://en.wikipedia.org/wiki/C.D._Olimpia?curid=1125808\">OLI</a></th>        <th class=\"col_heading level1 col6\" ><a href=\"http://en.wikipedia.org/wiki/Platense_F.C.?curid=3419152\">PLA</a></th>        <th class=\"col_heading level1 col7\" ><a href=\"http://en.wikipedia.org/wiki/Real_C.D._España?curid=1125902\">RES</a></th>        <th class=\"col_heading level1 col8\" ><a href=\"http://en.wikipedia.org/wiki/Pumas_UNAH?curid=12540414\">UNI</a></th>        <th class=\"col_heading level1 col9\" ><a href=\"http://en.wikipedia.org/wiki/C.D._Victoria?curid=3659788\">VIC</a></th>        <th class=\"col_heading level1 col10\" ><a href=\"http://en.wikipedia.org/wiki/C.D.S._Vida?curid=3659485\">VID</a></th>    </tr></thead><tbody>\n",
       "        </tbody></table>"
      ],
      "text/plain": [
       "<pandas.io.formats.style.Styler at 0x7f5f2812b310>"
      ]
     },
     "metadata": {},
     "output_type": "display_data"
    },
    {
     "name": "stdout",
     "output_type": "stream",
     "text": [
      "((LinkedString('Title', links=()), LinkedString('Album details', links=()), LinkedString('Peak chart positions', links=()), LinkedString('Peak chart positions', links=()), LinkedString('Peak chart positions', links=()), LinkedString('Peak chart positions', links=()), LinkedString('Peak chart positions', links=()), LinkedString('Peak chart positions', links=()), LinkedString('Peak chart positions', links=()), LinkedString('Peak chart positions', links=()), LinkedString('Peak chart positions', links=()), LinkedString('Peak chart positions', links=()), LinkedString('Peak chart positions', links=()), LinkedString('Certifications', links=((0, 14, 'http://en.wikipedia.org/wiki/List_of_music_recording_certifications?curid=17627213'),))), (LinkedString('Title', links=()), LinkedString('Album details', links=()), LinkedString('US', links=((0, 2, 'http://en.wikipedia.org/wiki/Billboard_200?curid=730350'),)), LinkedString('US R&B', links=()), LinkedString('AUS', links=((0, 3, 'http://en.wikipedia.org/wiki/ARIA_Charts?curid=3002226'),)), LinkedString('AUT', links=((0, 3, 'http://en.wikipedia.org/wiki/Ö3_Austria_Top_40?curid=13757814'),)), LinkedString('CAN', links=((0, 3, 'http://en.wikipedia.org/wiki/Canadian_Albums_Chart?curid=9331428'),)), LinkedString('FRA', links=((0, 3, 'http://en.wikipedia.org/wiki/French_Albums_Chart?curid=4565593'),)), LinkedString('GER', links=((0, 3, 'http://en.wikipedia.org/wiki/Media_Control_Charts?curid=6170448'),)), LinkedString('NED', links=((0, 3, 'http://en.wikipedia.org/wiki/Dutch_Mega_Top_50?curid=5437229'),)), LinkedString('SWE', links=((0, 3, 'http://en.wikipedia.org/wiki/Sverigetopplistan?curid=11002747'),)), LinkedString('SWI', links=((0, 3, 'http://en.wikipedia.org/wiki/Swiss_Music_Charts?curid=17054761'),)), LinkedString('UK', links=((0, 2, 'http://en.wikipedia.org/wiki/UK_Albums_Chart?curid=2465857'),)), LinkedString('Certifications', links=((0, 14, 'http://en.wikipedia.org/wiki/List_of_music_recording_certifications?curid=17627213'),))))\n",
      "1 (1, 4, 12, 'short-uppercase-acronyms') None None\n"
     ]
    },
    {
     "data": {
      "text/html": [
       "<style  type=\"text/css\" >\n",
       "    #T_906c1dc6_358e_11eb_81c0_00259091f1e8 .col_heading.level0 {\n",
       "          display: none;\n",
       "    }    #T_906c1dc6_358e_11eb_81c0_00259091f1e8 .col_heading.level2.col4 {\n",
       "          background-color: #ff0;\n",
       "    }    #T_906c1dc6_358e_11eb_81c0_00259091f1e8 .col_heading.level2.col5 {\n",
       "          background-color: #ff0;\n",
       "    }    #T_906c1dc6_358e_11eb_81c0_00259091f1e8 .col_heading.level2.col6 {\n",
       "          background-color: #ff0;\n",
       "    }    #T_906c1dc6_358e_11eb_81c0_00259091f1e8 .col_heading.level2.col7 {\n",
       "          background-color: #ff0;\n",
       "    }    #T_906c1dc6_358e_11eb_81c0_00259091f1e8 .col_heading.level2.col8 {\n",
       "          background-color: #ff0;\n",
       "    }    #T_906c1dc6_358e_11eb_81c0_00259091f1e8 .col_heading.level2.col9 {\n",
       "          background-color: #ff0;\n",
       "    }    #T_906c1dc6_358e_11eb_81c0_00259091f1e8 .col_heading.level2.col10 {\n",
       "          background-color: #ff0;\n",
       "    }    #T_906c1dc6_358e_11eb_81c0_00259091f1e8 .col_heading.level2.col11 {\n",
       "          background-color: #ff0;\n",
       "    }    #T_906c1dc6_358e_11eb_81c0_00259091f1e8 .col_heading.level2.col12 {\n",
       "          background-color: #ff0;\n",
       "    }</style><table id=\"T_906c1dc6_358e_11eb_81c0_00259091f1e8\" ><thead>    <tr>        <th class=\"blank level0\" ></th>        <th class=\"col_heading level0 col0\" >0</th>        <th class=\"col_heading level0 col1\" >1</th>        <th class=\"col_heading level0 col2\" >2</th>        <th class=\"col_heading level0 col3\" >3</th>        <th class=\"col_heading level0 col4\" >4</th>        <th class=\"col_heading level0 col5\" >5</th>        <th class=\"col_heading level0 col6\" >6</th>        <th class=\"col_heading level0 col7\" >7</th>        <th class=\"col_heading level0 col8\" >8</th>        <th class=\"col_heading level0 col9\" >9</th>        <th class=\"col_heading level0 col10\" >10</th>        <th class=\"col_heading level0 col11\" >11</th>        <th class=\"col_heading level0 col12\" >12</th>        <th class=\"col_heading level0 col13\" >13</th>    </tr>    <tr>        <th class=\"blank level1\" ></th>        <th class=\"col_heading level1 col0\" >Title</th>        <th class=\"col_heading level1 col1\" >Album details</th>        <th class=\"col_heading level1 col2\" >Peak chart positions</th>        <th class=\"col_heading level1 col3\" >Peak chart positions</th>        <th class=\"col_heading level1 col4\" >Peak chart positions</th>        <th class=\"col_heading level1 col5\" >Peak chart positions</th>        <th class=\"col_heading level1 col6\" >Peak chart positions</th>        <th class=\"col_heading level1 col7\" >Peak chart positions</th>        <th class=\"col_heading level1 col8\" >Peak chart positions</th>        <th class=\"col_heading level1 col9\" >Peak chart positions</th>        <th class=\"col_heading level1 col10\" >Peak chart positions</th>        <th class=\"col_heading level1 col11\" >Peak chart positions</th>        <th class=\"col_heading level1 col12\" >Peak chart positions</th>        <th class=\"col_heading level1 col13\" ><a href=\"http://en.wikipedia.org/wiki/List_of_music_recording_certifications?curid=17627213\">Certifications</a></th>    </tr>    <tr>        <th class=\"blank level2\" ></th>        <th class=\"col_heading level2 col0\" >Title</th>        <th class=\"col_heading level2 col1\" >Album details</th>        <th class=\"col_heading level2 col2\" ><a href=\"http://en.wikipedia.org/wiki/Billboard_200?curid=730350\">US</a></th>        <th class=\"col_heading level2 col3\" >US R&B</th>        <th class=\"col_heading level2 col4\" ><a href=\"http://en.wikipedia.org/wiki/ARIA_Charts?curid=3002226\">AUS</a></th>        <th class=\"col_heading level2 col5\" ><a href=\"http://en.wikipedia.org/wiki/Ö3_Austria_Top_40?curid=13757814\">AUT</a></th>        <th class=\"col_heading level2 col6\" ><a href=\"http://en.wikipedia.org/wiki/Canadian_Albums_Chart?curid=9331428\">CAN</a></th>        <th class=\"col_heading level2 col7\" ><a href=\"http://en.wikipedia.org/wiki/French_Albums_Chart?curid=4565593\">FRA</a></th>        <th class=\"col_heading level2 col8\" ><a href=\"http://en.wikipedia.org/wiki/Media_Control_Charts?curid=6170448\">GER</a></th>        <th class=\"col_heading level2 col9\" ><a href=\"http://en.wikipedia.org/wiki/Dutch_Mega_Top_50?curid=5437229\">NED</a></th>        <th class=\"col_heading level2 col10\" ><a href=\"http://en.wikipedia.org/wiki/Sverigetopplistan?curid=11002747\">SWE</a></th>        <th class=\"col_heading level2 col11\" ><a href=\"http://en.wikipedia.org/wiki/Swiss_Music_Charts?curid=17054761\">SWI</a></th>        <th class=\"col_heading level2 col12\" ><a href=\"http://en.wikipedia.org/wiki/UK_Albums_Chart?curid=2465857\">UK</a></th>        <th class=\"col_heading level2 col13\" ><a href=\"http://en.wikipedia.org/wiki/List_of_music_recording_certifications?curid=17627213\">Certifications</a></th>    </tr></thead><tbody>\n",
       "        </tbody></table>"
      ],
      "text/plain": [
       "<pandas.io.formats.style.Styler at 0x7f5f21cb9990>"
      ]
     },
     "metadata": {},
     "output_type": "display_data"
    },
    {
     "name": "stdout",
     "output_type": "stream",
     "text": [
      "((LinkedString('Year', links=()), LinkedString('Title', links=()), LinkedString('Peak chart positions', links=()), LinkedString('Peak chart positions', links=()), LinkedString('Peak chart positions', links=()), LinkedString('Peak chart positions', links=()), LinkedString('Peak chart positions', links=()), LinkedString('Peak chart positions', links=()), LinkedString('Peak chart positions', links=()), LinkedString('Peak chart positions', links=()), LinkedString('Peak chart positions', links=()), LinkedString('Peak chart positions', links=()), LinkedString('Peak chart positions', links=()), LinkedString('Peak chart positions', links=()), LinkedString('Peak chart positions', links=()), LinkedString('Peak chart positions', links=()), LinkedString('Album', links=())), (LinkedString('Year', links=()), LinkedString('Title', links=()), LinkedString('AUS', links=((0, 3, 'http://en.wikipedia.org/wiki/ARIA_Charts?curid=3002226'),)), LinkedString('AUT', links=((0, 3, 'http://en.wikipedia.org/wiki/Ö3_Austria_Top_40?curid=13757814'),)), LinkedString('BEL (Wal)', links=((0, 3, 'http://en.wikipedia.org/wiki/Ultratop_50?curid=6836546'),)), LinkedString('CH', links=((0, 2, 'http://en.wikipedia.org/wiki/Swiss_Music_Charts?curid=17054761'),)), LinkedString('FIN', links=((0, 3, 'http://en.wikipedia.org/wiki/Mitä_hittiä?curid=7824827'),)), LinkedString('FRA', links=((0, 3, 'http://en.wikipedia.org/wiki/SNEP?curid=4565593'),)), LinkedString('GER', links=((0, 3, 'http://en.wikipedia.org/wiki/Media_Control_Charts?curid=6170448'),)), LinkedString('ITA', links=((0, 3, 'http://en.wikipedia.org/wiki/Federation_of_the_Italian_Music_Industry?curid=4464404'),)), LinkedString('NLD', links=((0, 3, 'http://en.wikipedia.org/wiki/Dutch_Top_40?curid=4685500'),)), LinkedString('N.Z.', links=((0, 4, 'http://en.wikipedia.org/wiki/Recording_Industry_Association_of_New_Zealand?curid=1588487'),)), LinkedString('SPA', links=((0, 3, 'http://en.wikipedia.org/wiki/Productores_de_Música_de_España?curid=12567453'),)), LinkedString('SWE', links=((0, 3, 'http://en.wikipedia.org/wiki/Sverigetopplistan?curid=11002747'),)), LinkedString('UK', links=((0, 2, 'http://en.wikipedia.org/wiki/UK_Singles_Chart?curid=3349146'),)), LinkedString('U.S. Mod', links=((0, 8, 'http://en.wikipedia.org/wiki/Alternative_Songs?curid=1156307'),)), LinkedString('Album', links=())))\n",
      "1 (1, 5, 10, 'short-uppercase-acronyms') None None\n"
     ]
    },
    {
     "data": {
      "text/html": [
       "<style  type=\"text/css\" >\n",
       "    #T_906f767e_358e_11eb_81c0_00259091f1e8 .col_heading.level0 {\n",
       "          display: none;\n",
       "    }    #T_906f767e_358e_11eb_81c0_00259091f1e8 .col_heading.level2.col5 {\n",
       "          background-color: #ff0;\n",
       "    }    #T_906f767e_358e_11eb_81c0_00259091f1e8 .col_heading.level2.col6 {\n",
       "          background-color: #ff0;\n",
       "    }    #T_906f767e_358e_11eb_81c0_00259091f1e8 .col_heading.level2.col7 {\n",
       "          background-color: #ff0;\n",
       "    }    #T_906f767e_358e_11eb_81c0_00259091f1e8 .col_heading.level2.col8 {\n",
       "          background-color: #ff0;\n",
       "    }    #T_906f767e_358e_11eb_81c0_00259091f1e8 .col_heading.level2.col9 {\n",
       "          background-color: #ff0;\n",
       "    }    #T_906f767e_358e_11eb_81c0_00259091f1e8 .col_heading.level2.col10 {\n",
       "          background-color: #ff0;\n",
       "    }</style><table id=\"T_906f767e_358e_11eb_81c0_00259091f1e8\" ><thead>    <tr>        <th class=\"blank level0\" ></th>        <th class=\"col_heading level0 col0\" >0</th>        <th class=\"col_heading level0 col1\" >1</th>        <th class=\"col_heading level0 col2\" >2</th>        <th class=\"col_heading level0 col3\" >3</th>        <th class=\"col_heading level0 col4\" >4</th>        <th class=\"col_heading level0 col5\" >5</th>        <th class=\"col_heading level0 col6\" >6</th>        <th class=\"col_heading level0 col7\" >7</th>        <th class=\"col_heading level0 col8\" >8</th>        <th class=\"col_heading level0 col9\" >9</th>        <th class=\"col_heading level0 col10\" >10</th>        <th class=\"col_heading level0 col11\" >11</th>        <th class=\"col_heading level0 col12\" >12</th>        <th class=\"col_heading level0 col13\" >13</th>        <th class=\"col_heading level0 col14\" >14</th>        <th class=\"col_heading level0 col15\" >15</th>        <th class=\"col_heading level0 col16\" >16</th>    </tr>    <tr>        <th class=\"blank level1\" ></th>        <th class=\"col_heading level1 col0\" >Year</th>        <th class=\"col_heading level1 col1\" >Title</th>        <th class=\"col_heading level1 col2\" >Peak chart positions</th>        <th class=\"col_heading level1 col3\" >Peak chart positions</th>        <th class=\"col_heading level1 col4\" >Peak chart positions</th>        <th class=\"col_heading level1 col5\" >Peak chart positions</th>        <th class=\"col_heading level1 col6\" >Peak chart positions</th>        <th class=\"col_heading level1 col7\" >Peak chart positions</th>        <th class=\"col_heading level1 col8\" >Peak chart positions</th>        <th class=\"col_heading level1 col9\" >Peak chart positions</th>        <th class=\"col_heading level1 col10\" >Peak chart positions</th>        <th class=\"col_heading level1 col11\" >Peak chart positions</th>        <th class=\"col_heading level1 col12\" >Peak chart positions</th>        <th class=\"col_heading level1 col13\" >Peak chart positions</th>        <th class=\"col_heading level1 col14\" >Peak chart positions</th>        <th class=\"col_heading level1 col15\" >Peak chart positions</th>        <th class=\"col_heading level1 col16\" >Album</th>    </tr>    <tr>        <th class=\"blank level2\" ></th>        <th class=\"col_heading level2 col0\" >Year</th>        <th class=\"col_heading level2 col1\" >Title</th>        <th class=\"col_heading level2 col2\" ><a href=\"http://en.wikipedia.org/wiki/ARIA_Charts?curid=3002226\">AUS</a></th>        <th class=\"col_heading level2 col3\" ><a href=\"http://en.wikipedia.org/wiki/Ö3_Austria_Top_40?curid=13757814\">AUT</a></th>        <th class=\"col_heading level2 col4\" ><a href=\"http://en.wikipedia.org/wiki/Ultratop_50?curid=6836546\">BEL</a> (Wal)</th>        <th class=\"col_heading level2 col5\" ><a href=\"http://en.wikipedia.org/wiki/Swiss_Music_Charts?curid=17054761\">CH</a></th>        <th class=\"col_heading level2 col6\" ><a href=\"http://en.wikipedia.org/wiki/Mitä_hittiä?curid=7824827\">FIN</a></th>        <th class=\"col_heading level2 col7\" ><a href=\"http://en.wikipedia.org/wiki/SNEP?curid=4565593\">FRA</a></th>        <th class=\"col_heading level2 col8\" ><a href=\"http://en.wikipedia.org/wiki/Media_Control_Charts?curid=6170448\">GER</a></th>        <th class=\"col_heading level2 col9\" ><a href=\"http://en.wikipedia.org/wiki/Federation_of_the_Italian_Music_Industry?curid=4464404\">ITA</a></th>        <th class=\"col_heading level2 col10\" ><a href=\"http://en.wikipedia.org/wiki/Dutch_Top_40?curid=4685500\">NLD</a></th>        <th class=\"col_heading level2 col11\" ><a href=\"http://en.wikipedia.org/wiki/Recording_Industry_Association_of_New_Zealand?curid=1588487\">N.Z.</a></th>        <th class=\"col_heading level2 col12\" ><a href=\"http://en.wikipedia.org/wiki/Productores_de_Música_de_España?curid=12567453\">SPA</a></th>        <th class=\"col_heading level2 col13\" ><a href=\"http://en.wikipedia.org/wiki/Sverigetopplistan?curid=11002747\">SWE</a></th>        <th class=\"col_heading level2 col14\" ><a href=\"http://en.wikipedia.org/wiki/UK_Singles_Chart?curid=3349146\">UK</a></th>        <th class=\"col_heading level2 col15\" ><a href=\"http://en.wikipedia.org/wiki/Alternative_Songs?curid=1156307\">U.S. Mod</a></th>        <th class=\"col_heading level2 col16\" >Album</th>    </tr></thead><tbody>\n",
       "        </tbody></table>"
      ],
      "text/plain": [
       "<pandas.io.formats.style.Styler at 0x7f5f21be5310>"
      ]
     },
     "metadata": {},
     "output_type": "display_data"
    },
    {
     "name": "stdout",
     "output_type": "stream",
     "text": [
      "((LinkedString('Pos', links=()), LinkedString('Rider', links=()), LinkedString('Bike', links=()), LinkedString('JPN', links=((0, 3, 'http://en.wikipedia.org/wiki/1998_Japanese_motorcycle_Grand_Prix?curid=20109120'),)), LinkedString('MAL', links=((0, 3, 'http://en.wikipedia.org/wiki/1998_Malaysian_motorcycle_Grand_Prix?curid=20109204'),)), LinkedString('ESP', links=((0, 3, 'http://en.wikipedia.org/wiki/1998_Spanish_motorcycle_Grand_Prix?curid=20109244'),)), LinkedString('ITA', links=((0, 3, 'http://en.wikipedia.org/wiki/1998_Italian_motorcycle_Grand_Prix?curid=20109308'),)), LinkedString('FRA', links=((0, 3, 'http://en.wikipedia.org/wiki/1998_French_motorcycle_Grand_Prix?curid=20109350'),)), LinkedString('MAD', links=((0, 3, 'http://en.wikipedia.org/wiki/1998_Madrid_motorcycle_Grand_Prix?curid=20110157'),)), LinkedString('NED', links=((0, 3, 'http://en.wikipedia.org/wiki/1998_Dutch_TT?curid=20110184'),)), LinkedString('GBR', links=((0, 3, 'http://en.wikipedia.org/wiki/1998_British_motorcycle_Grand_Prix?curid=20110197'),)), LinkedString('GER', links=((0, 3, 'http://en.wikipedia.org/wiki/1998_German_motorcycle_Grand_Prix?curid=20110239'),)), LinkedString('CZE', links=((0, 3, 'http://en.wikipedia.org/wiki/1998_Czech_Republic_motorcycle_Grand_Prix?curid=20110282'),)), LinkedString('IMO', links=((0, 3, 'http://en.wikipedia.org/wiki/1998_City_of_Imola_motorcycle_Grand_Prix?curid=20110310'),)), LinkedString('CAT', links=((0, 3, 'http://en.wikipedia.org/wiki/1998_Catalan_motorcycle_Grand_Prix?curid=20110340'),)), LinkedString('AUS', links=((0, 3, 'http://en.wikipedia.org/wiki/1998_Australian_motorcycle_Grand_Prix?curid=20110367'),)), LinkedString('ARG', links=((0, 3, 'http://en.wikipedia.org/wiki/1998_Argentine_motorcycle_Grand_Prix?curid=20110393'),)), LinkedString('Pts', links=())),)\n",
      "1 (0, 3, 16, 'short-uppercase-acronyms') None None\n"
     ]
    },
    {
     "data": {
      "text/html": [
       "<style  type=\"text/css\" >\n",
       "    #T_90729598_358e_11eb_81c0_00259091f1e8 .col_heading.level0 {\n",
       "          display: none;\n",
       "    }    #T_90729598_358e_11eb_81c0_00259091f1e8 .col_heading.level1.col3 {\n",
       "          background-color: #ff0;\n",
       "    }    #T_90729598_358e_11eb_81c0_00259091f1e8 .col_heading.level1.col4 {\n",
       "          background-color: #ff0;\n",
       "    }    #T_90729598_358e_11eb_81c0_00259091f1e8 .col_heading.level1.col5 {\n",
       "          background-color: #ff0;\n",
       "    }    #T_90729598_358e_11eb_81c0_00259091f1e8 .col_heading.level1.col6 {\n",
       "          background-color: #ff0;\n",
       "    }    #T_90729598_358e_11eb_81c0_00259091f1e8 .col_heading.level1.col7 {\n",
       "          background-color: #ff0;\n",
       "    }    #T_90729598_358e_11eb_81c0_00259091f1e8 .col_heading.level1.col8 {\n",
       "          background-color: #ff0;\n",
       "    }    #T_90729598_358e_11eb_81c0_00259091f1e8 .col_heading.level1.col9 {\n",
       "          background-color: #ff0;\n",
       "    }    #T_90729598_358e_11eb_81c0_00259091f1e8 .col_heading.level1.col10 {\n",
       "          background-color: #ff0;\n",
       "    }    #T_90729598_358e_11eb_81c0_00259091f1e8 .col_heading.level1.col11 {\n",
       "          background-color: #ff0;\n",
       "    }    #T_90729598_358e_11eb_81c0_00259091f1e8 .col_heading.level1.col12 {\n",
       "          background-color: #ff0;\n",
       "    }    #T_90729598_358e_11eb_81c0_00259091f1e8 .col_heading.level1.col13 {\n",
       "          background-color: #ff0;\n",
       "    }    #T_90729598_358e_11eb_81c0_00259091f1e8 .col_heading.level1.col14 {\n",
       "          background-color: #ff0;\n",
       "    }    #T_90729598_358e_11eb_81c0_00259091f1e8 .col_heading.level1.col15 {\n",
       "          background-color: #ff0;\n",
       "    }    #T_90729598_358e_11eb_81c0_00259091f1e8 .col_heading.level1.col16 {\n",
       "          background-color: #ff0;\n",
       "    }</style><table id=\"T_90729598_358e_11eb_81c0_00259091f1e8\" ><thead>    <tr>        <th class=\"blank level0\" ></th>        <th class=\"col_heading level0 col0\" >0</th>        <th class=\"col_heading level0 col1\" >1</th>        <th class=\"col_heading level0 col2\" >2</th>        <th class=\"col_heading level0 col3\" >3</th>        <th class=\"col_heading level0 col4\" >4</th>        <th class=\"col_heading level0 col5\" >5</th>        <th class=\"col_heading level0 col6\" >6</th>        <th class=\"col_heading level0 col7\" >7</th>        <th class=\"col_heading level0 col8\" >8</th>        <th class=\"col_heading level0 col9\" >9</th>        <th class=\"col_heading level0 col10\" >10</th>        <th class=\"col_heading level0 col11\" >11</th>        <th class=\"col_heading level0 col12\" >12</th>        <th class=\"col_heading level0 col13\" >13</th>        <th class=\"col_heading level0 col14\" >14</th>        <th class=\"col_heading level0 col15\" >15</th>        <th class=\"col_heading level0 col16\" >16</th>        <th class=\"col_heading level0 col17\" >17</th>    </tr>    <tr>        <th class=\"blank level1\" ></th>        <th class=\"col_heading level1 col0\" >Pos</th>        <th class=\"col_heading level1 col1\" >Rider</th>        <th class=\"col_heading level1 col2\" >Bike</th>        <th class=\"col_heading level1 col3\" ><a href=\"http://en.wikipedia.org/wiki/1998_Japanese_motorcycle_Grand_Prix?curid=20109120\">JPN</a></th>        <th class=\"col_heading level1 col4\" ><a href=\"http://en.wikipedia.org/wiki/1998_Malaysian_motorcycle_Grand_Prix?curid=20109204\">MAL</a></th>        <th class=\"col_heading level1 col5\" ><a href=\"http://en.wikipedia.org/wiki/1998_Spanish_motorcycle_Grand_Prix?curid=20109244\">ESP</a></th>        <th class=\"col_heading level1 col6\" ><a href=\"http://en.wikipedia.org/wiki/1998_Italian_motorcycle_Grand_Prix?curid=20109308\">ITA</a></th>        <th class=\"col_heading level1 col7\" ><a href=\"http://en.wikipedia.org/wiki/1998_French_motorcycle_Grand_Prix?curid=20109350\">FRA</a></th>        <th class=\"col_heading level1 col8\" ><a href=\"http://en.wikipedia.org/wiki/1998_Madrid_motorcycle_Grand_Prix?curid=20110157\">MAD</a></th>        <th class=\"col_heading level1 col9\" ><a href=\"http://en.wikipedia.org/wiki/1998_Dutch_TT?curid=20110184\">NED</a></th>        <th class=\"col_heading level1 col10\" ><a href=\"http://en.wikipedia.org/wiki/1998_British_motorcycle_Grand_Prix?curid=20110197\">GBR</a></th>        <th class=\"col_heading level1 col11\" ><a href=\"http://en.wikipedia.org/wiki/1998_German_motorcycle_Grand_Prix?curid=20110239\">GER</a></th>        <th class=\"col_heading level1 col12\" ><a href=\"http://en.wikipedia.org/wiki/1998_Czech_Republic_motorcycle_Grand_Prix?curid=20110282\">CZE</a></th>        <th class=\"col_heading level1 col13\" ><a href=\"http://en.wikipedia.org/wiki/1998_City_of_Imola_motorcycle_Grand_Prix?curid=20110310\">IMO</a></th>        <th class=\"col_heading level1 col14\" ><a href=\"http://en.wikipedia.org/wiki/1998_Catalan_motorcycle_Grand_Prix?curid=20110340\">CAT</a></th>        <th class=\"col_heading level1 col15\" ><a href=\"http://en.wikipedia.org/wiki/1998_Australian_motorcycle_Grand_Prix?curid=20110367\">AUS</a></th>        <th class=\"col_heading level1 col16\" ><a href=\"http://en.wikipedia.org/wiki/1998_Argentine_motorcycle_Grand_Prix?curid=20110393\">ARG</a></th>        <th class=\"col_heading level1 col17\" >Pts</th>    </tr></thead><tbody>\n",
       "        </tbody></table>"
      ],
      "text/plain": [
       "<pandas.io.formats.style.Styler at 0x7f5f21be58d0>"
      ]
     },
     "metadata": {},
     "output_type": "display_data"
    },
    {
     "name": "stdout",
     "output_type": "stream",
     "text": [
      "((LinkedString('Pos', links=()), LinkedString('Driver', links=()), LinkedString('HOC', links=((0, 3, 'http://en.wikipedia.org/wiki/Hockenheimring?curid=948414'),)), LinkedString('ADR', links=((0, 3, 'http://en.wikipedia.org/wiki/Adria_International_Raceway?curid=8886415'),)), LinkedString('NÜR', links=((0, 3, 'http://en.wikipedia.org/wiki/Nürburgring?curid=22122'),)), LinkedString('LAU', links=((0, 3, 'http://en.wikipedia.org/wiki/EuroSpeedway?curid=2308429'),)), LinkedString('NOR', links=((0, 3, 'http://en.wikipedia.org/wiki/Norisring?curid=3950164'),)), LinkedString('DON', links=((0, 3, 'http://en.wikipedia.org/wiki/Donington_Park?curid=391884'),)), LinkedString('NÜR', links=((0, 3, 'http://en.wikipedia.org/wiki/Nürburgring?curid=22122'),)), LinkedString('A1R', links=((0, 3, 'http://en.wikipedia.org/wiki/A1-Ring?curid=1219699'),)), LinkedString('ZAN', links=((0, 3, 'http://en.wikipedia.org/wiki/Circuit_Park_Zandvoort?curid=7767'),)), LinkedString('HOC', links=((0, 3, 'http://en.wikipedia.org/wiki/Hockenheimring?curid=948414'),)), LinkedString('Points', links=())),)\n",
      "1 (0, 5, 7, 'short-uppercase-acronyms') None None\n"
     ]
    },
    {
     "data": {
      "text/html": [
       "<style  type=\"text/css\" >\n",
       "    #T_9075602a_358e_11eb_81c0_00259091f1e8 .col_heading.level0 {\n",
       "          display: none;\n",
       "    }    #T_9075602a_358e_11eb_81c0_00259091f1e8 .col_heading.level1.col5 {\n",
       "          background-color: #ff0;\n",
       "    }    #T_9075602a_358e_11eb_81c0_00259091f1e8 .col_heading.level1.col6 {\n",
       "          background-color: #ff0;\n",
       "    }    #T_9075602a_358e_11eb_81c0_00259091f1e8 .col_heading.level1.col7 {\n",
       "          background-color: #ff0;\n",
       "    }</style><table id=\"T_9075602a_358e_11eb_81c0_00259091f1e8\" ><thead>    <tr>        <th class=\"blank level0\" ></th>        <th class=\"col_heading level0 col0\" >0</th>        <th class=\"col_heading level0 col1\" >1</th>        <th class=\"col_heading level0 col2\" >2</th>        <th class=\"col_heading level0 col3\" >3</th>        <th class=\"col_heading level0 col4\" >4</th>        <th class=\"col_heading level0 col5\" >5</th>        <th class=\"col_heading level0 col6\" >6</th>        <th class=\"col_heading level0 col7\" >7</th>        <th class=\"col_heading level0 col8\" >8</th>        <th class=\"col_heading level0 col9\" >9</th>        <th class=\"col_heading level0 col10\" >10</th>        <th class=\"col_heading level0 col11\" >11</th>        <th class=\"col_heading level0 col12\" >12</th>    </tr>    <tr>        <th class=\"blank level1\" ></th>        <th class=\"col_heading level1 col0\" >Pos</th>        <th class=\"col_heading level1 col1\" >Driver</th>        <th class=\"col_heading level1 col2\" ><a href=\"http://en.wikipedia.org/wiki/Hockenheimring?curid=948414\">HOC</a></th>        <th class=\"col_heading level1 col3\" ><a href=\"http://en.wikipedia.org/wiki/Adria_International_Raceway?curid=8886415\">ADR</a></th>        <th class=\"col_heading level1 col4\" ><a href=\"http://en.wikipedia.org/wiki/Nürburgring?curid=22122\">NÜR</a></th>        <th class=\"col_heading level1 col5\" ><a href=\"http://en.wikipedia.org/wiki/EuroSpeedway?curid=2308429\">LAU</a></th>        <th class=\"col_heading level1 col6\" ><a href=\"http://en.wikipedia.org/wiki/Norisring?curid=3950164\">NOR</a></th>        <th class=\"col_heading level1 col7\" ><a href=\"http://en.wikipedia.org/wiki/Donington_Park?curid=391884\">DON</a></th>        <th class=\"col_heading level1 col8\" ><a href=\"http://en.wikipedia.org/wiki/Nürburgring?curid=22122\">NÜR</a></th>        <th class=\"col_heading level1 col9\" ><a href=\"http://en.wikipedia.org/wiki/A1-Ring?curid=1219699\">A1R</a></th>        <th class=\"col_heading level1 col10\" ><a href=\"http://en.wikipedia.org/wiki/Circuit_Park_Zandvoort?curid=7767\">ZAN</a></th>        <th class=\"col_heading level1 col11\" ><a href=\"http://en.wikipedia.org/wiki/Hockenheimring?curid=948414\">HOC</a></th>        <th class=\"col_heading level1 col12\" >Points</th>    </tr></thead><tbody>\n",
       "        </tbody></table>"
      ],
      "text/plain": [
       "<pandas.io.formats.style.Styler at 0x7f5f21be5e50>"
      ]
     },
     "metadata": {},
     "output_type": "display_data"
    },
    {
     "name": "stdout",
     "output_type": "stream",
     "text": [
      "((LinkedString('Refrigerant', links=()), LinkedString('ODP', links=()), LinkedString('GWP', links=())),)\n",
      "1\n"
     ]
    },
    {
     "data": {
      "text/html": [
       "<style  type=\"text/css\" >\n",
       "    #T_9077680c_358e_11eb_81c0_00259091f1e8 .col_heading.level0 {\n",
       "          display: none;\n",
       "    }</style><table id=\"T_9077680c_358e_11eb_81c0_00259091f1e8\" ><thead>    <tr>        <th class=\"blank level0\" ></th>        <th class=\"col_heading level0 col0\" >0</th>        <th class=\"col_heading level0 col1\" >1</th>        <th class=\"col_heading level0 col2\" >2</th>    </tr>    <tr>        <th class=\"blank level1\" ></th>        <th class=\"col_heading level1 col0\" >Refrigerant</th>        <th class=\"col_heading level1 col1\" >ODP</th>        <th class=\"col_heading level1 col2\" >GWP</th>    </tr></thead><tbody>\n",
       "        </tbody></table>"
      ],
      "text/plain": [
       "<takco.table.TakcoAccessor at 0x7f5f8ed49ed0>"
      ]
     },
     "metadata": {},
     "output_type": "display_data"
    },
    {
     "name": "stdout",
     "output_type": "stream",
     "text": [
      "((LinkedString('Pos.', links=()), LinkedString('Luger', links=()), LinkedString('CES', links=()), LinkedString('PAC', links=()), LinkedString('CAL', links=()), LinkedString('NAG', links=()), LinkedString('KÖN', links=()), LinkedString('OBH', links=()), LinkedString('ALT', links=()), LinkedString('WIN', links=()), LinkedString('SIG', links=()), LinkedString('Points', links=())),)\n",
      "1 (0, 2, 5, 'short-uppercase-acronyms') None None\n"
     ]
    },
    {
     "data": {
      "text/html": [
       "<style  type=\"text/css\" >\n",
       "    #T_9079ca2a_358e_11eb_81c0_00259091f1e8 .col_heading.level0 {\n",
       "          display: none;\n",
       "    }    #T_9079ca2a_358e_11eb_81c0_00259091f1e8 .col_heading.level1.col2 {\n",
       "          background-color: #ff0;\n",
       "    }    #T_9079ca2a_358e_11eb_81c0_00259091f1e8 .col_heading.level1.col3 {\n",
       "          background-color: #ff0;\n",
       "    }    #T_9079ca2a_358e_11eb_81c0_00259091f1e8 .col_heading.level1.col4 {\n",
       "          background-color: #ff0;\n",
       "    }    #T_9079ca2a_358e_11eb_81c0_00259091f1e8 .col_heading.level1.col5 {\n",
       "          background-color: #ff0;\n",
       "    }</style><table id=\"T_9079ca2a_358e_11eb_81c0_00259091f1e8\" ><thead>    <tr>        <th class=\"blank level0\" ></th>        <th class=\"col_heading level0 col0\" >0</th>        <th class=\"col_heading level0 col1\" >1</th>        <th class=\"col_heading level0 col2\" >2</th>        <th class=\"col_heading level0 col3\" >3</th>        <th class=\"col_heading level0 col4\" >4</th>        <th class=\"col_heading level0 col5\" >5</th>        <th class=\"col_heading level0 col6\" >6</th>        <th class=\"col_heading level0 col7\" >7</th>        <th class=\"col_heading level0 col8\" >8</th>        <th class=\"col_heading level0 col9\" >9</th>        <th class=\"col_heading level0 col10\" >10</th>        <th class=\"col_heading level0 col11\" >11</th>    </tr>    <tr>        <th class=\"blank level1\" ></th>        <th class=\"col_heading level1 col0\" >Pos.</th>        <th class=\"col_heading level1 col1\" >Luger</th>        <th class=\"col_heading level1 col2\" >CES</th>        <th class=\"col_heading level1 col3\" >PAC</th>        <th class=\"col_heading level1 col4\" >CAL</th>        <th class=\"col_heading level1 col5\" >NAG</th>        <th class=\"col_heading level1 col6\" >KÖN</th>        <th class=\"col_heading level1 col7\" >OBH</th>        <th class=\"col_heading level1 col8\" >ALT</th>        <th class=\"col_heading level1 col9\" >WIN</th>        <th class=\"col_heading level1 col10\" >SIG</th>        <th class=\"col_heading level1 col11\" >Points</th>    </tr></thead><tbody>\n",
       "        </tbody></table>"
      ],
      "text/plain": [
       "<pandas.io.formats.style.Styler at 0x7f5f2218af90>"
      ]
     },
     "metadata": {},
     "output_type": "display_data"
    },
    {
     "name": "stdout",
     "output_type": "stream",
     "text": [
      "((LinkedString('Year', links=()), LinkedString('Title', links=()), LinkedString('Chart positions', links=()), LinkedString('Chart positions', links=()), LinkedString('Chart positions', links=()), LinkedString('Chart positions', links=()), LinkedString('Chart positions', links=()), LinkedString('Chart positions', links=()), LinkedString('Chart positions', links=())), (LinkedString('Year', links=()), LinkedString('Title', links=()), LinkedString('UK', links=((0, 2, 'http://en.wikipedia.org/wiki/UK_Singles_Chart?curid=3349146'),)), LinkedString('AUS', links=((0, 3, 'http://en.wikipedia.org/wiki/ARIA_Charts?curid=3002226'),)), LinkedString('NLD', links=((0, 3, 'http://en.wikipedia.org/wiki/Dutch_Top_40?curid=4685500'),)), LinkedString('IRL', links=((0, 3, 'http://en.wikipedia.org/wiki/International_Recording_Media_Association?curid=1932760'),)), LinkedString('FIN', links=((0, 3, 'http://en.wikipedia.org/wiki/Mitä_hittiä?curid=7824827'),)), LinkedString('BEL', links=((0, 3, 'http://en.wikipedia.org/wiki/Ultratop?curid=6836546'),)), LinkedString('NZ', links=((0, 2, 'http://en.wikipedia.org/wiki/Recording_Industry_Association_of_New_Zealand?curid=1588487'),))))\n",
      "1 (1, 2, 8, 'short-uppercase-acronyms') None None\n"
     ]
    },
    {
     "data": {
      "text/html": [
       "<style  type=\"text/css\" >\n",
       "    #T_907ca9fc_358e_11eb_81c0_00259091f1e8 .col_heading.level0 {\n",
       "          display: none;\n",
       "    }    #T_907ca9fc_358e_11eb_81c0_00259091f1e8 .col_heading.level2.col2 {\n",
       "          background-color: #ff0;\n",
       "    }    #T_907ca9fc_358e_11eb_81c0_00259091f1e8 .col_heading.level2.col3 {\n",
       "          background-color: #ff0;\n",
       "    }    #T_907ca9fc_358e_11eb_81c0_00259091f1e8 .col_heading.level2.col4 {\n",
       "          background-color: #ff0;\n",
       "    }    #T_907ca9fc_358e_11eb_81c0_00259091f1e8 .col_heading.level2.col5 {\n",
       "          background-color: #ff0;\n",
       "    }    #T_907ca9fc_358e_11eb_81c0_00259091f1e8 .col_heading.level2.col6 {\n",
       "          background-color: #ff0;\n",
       "    }    #T_907ca9fc_358e_11eb_81c0_00259091f1e8 .col_heading.level2.col7 {\n",
       "          background-color: #ff0;\n",
       "    }    #T_907ca9fc_358e_11eb_81c0_00259091f1e8 .col_heading.level2.col8 {\n",
       "          background-color: #ff0;\n",
       "    }</style><table id=\"T_907ca9fc_358e_11eb_81c0_00259091f1e8\" ><thead>    <tr>        <th class=\"blank level0\" ></th>        <th class=\"col_heading level0 col0\" >0</th>        <th class=\"col_heading level0 col1\" >1</th>        <th class=\"col_heading level0 col2\" >2</th>        <th class=\"col_heading level0 col3\" >3</th>        <th class=\"col_heading level0 col4\" >4</th>        <th class=\"col_heading level0 col5\" >5</th>        <th class=\"col_heading level0 col6\" >6</th>        <th class=\"col_heading level0 col7\" >7</th>        <th class=\"col_heading level0 col8\" >8</th>    </tr>    <tr>        <th class=\"blank level1\" ></th>        <th class=\"col_heading level1 col0\" >Year</th>        <th class=\"col_heading level1 col1\" >Title</th>        <th class=\"col_heading level1 col2\" >Chart positions</th>        <th class=\"col_heading level1 col3\" >Chart positions</th>        <th class=\"col_heading level1 col4\" >Chart positions</th>        <th class=\"col_heading level1 col5\" >Chart positions</th>        <th class=\"col_heading level1 col6\" >Chart positions</th>        <th class=\"col_heading level1 col7\" >Chart positions</th>        <th class=\"col_heading level1 col8\" >Chart positions</th>    </tr>    <tr>        <th class=\"blank level2\" ></th>        <th class=\"col_heading level2 col0\" >Year</th>        <th class=\"col_heading level2 col1\" >Title</th>        <th class=\"col_heading level2 col2\" ><a href=\"http://en.wikipedia.org/wiki/UK_Singles_Chart?curid=3349146\">UK</a></th>        <th class=\"col_heading level2 col3\" ><a href=\"http://en.wikipedia.org/wiki/ARIA_Charts?curid=3002226\">AUS</a></th>        <th class=\"col_heading level2 col4\" ><a href=\"http://en.wikipedia.org/wiki/Dutch_Top_40?curid=4685500\">NLD</a></th>        <th class=\"col_heading level2 col5\" ><a href=\"http://en.wikipedia.org/wiki/International_Recording_Media_Association?curid=1932760\">IRL</a></th>        <th class=\"col_heading level2 col6\" ><a href=\"http://en.wikipedia.org/wiki/Mitä_hittiä?curid=7824827\">FIN</a></th>        <th class=\"col_heading level2 col7\" ><a href=\"http://en.wikipedia.org/wiki/Ultratop?curid=6836546\">BEL</a></th>        <th class=\"col_heading level2 col8\" ><a href=\"http://en.wikipedia.org/wiki/Recording_Industry_Association_of_New_Zealand?curid=1588487\">NZ</a></th>    </tr></thead><tbody>\n",
       "        </tbody></table>"
      ],
      "text/plain": [
       "<pandas.io.formats.style.Styler at 0x7f5f28006b10>"
      ]
     },
     "metadata": {},
     "output_type": "display_data"
    },
    {
     "name": "stdout",
     "output_type": "stream",
     "text": [
      "((LinkedString('Home \\ Away [1 ]', links=()), LinkedString('ATA', links=((0, 3, 'http://en.wikipedia.org/wiki/Atalanta_B.C.?curid=210482'),)), LinkedString('BAR', links=((0, 3, 'http://en.wikipedia.org/wiki/A.S._Bari?curid=1138693'),)), LinkedString('CRE', links=((0, 3, 'http://en.wikipedia.org/wiki/U.S._Cremonese?curid=1691772'),)), LinkedString('DER', links=((0, 3, 'http://en.wikipedia.org/wiki/Derthona_F.B.C._1908?curid=12664812'),)), LinkedString('FIO', links=((0, 3, 'http://en.wikipedia.org/wiki/ACF_Fiorentina?curid=3165'),)), LinkedString('LCE', links=((0, 3, 'http://en.wikipedia.org/wiki/U.S._Lecce?curid=1135354'),)), LinkedString('LIG', links=((0, 3, 'http://en.wikipedia.org/wiki/U.C._Sampdoria?curid=574307'),)), LinkedString('LUC', links=((0, 3, 'http://en.wikipedia.org/wiki/F.C._Lucchese_1905?curid=33707714'),)), LinkedString('MFA', links=((0, 3, 'http://en.wikipedia.org/wiki/A.S.D._Unione_Fincantieri_Monfalcone?curid=15911093'),)), LinkedString('NOV', links=((0, 3, 'http://en.wikipedia.org/wiki/Novara_Calcio?curid=2870673'),)), LinkedString('PAD', links=((0, 3, 'http://en.wikipedia.org/wiki/Calcio_Padova?curid=1614647'),)), LinkedString('PAL', links=((0, 3, 'http://en.wikipedia.org/wiki/U.S._Città_di_Palermo?curid=520651'),)), LinkedString('PAR', links=((0, 3, 'http://en.wikipedia.org/wiki/Parma_F.C.?curid=62611'),)), LinkedString('PST', links=((0, 3, 'http://en.wikipedia.org/wiki/U.S._Pistoiese_1921?curid=2905311'),)), LinkedString('SEV', links=((0, 3, 'http://en.wikipedia.org/wiki/S.S.C._Venezia?curid=30873379'),)), LinkedString('SPE', links=((0, 3, 'http://en.wikipedia.org/wiki/Spezia_Calcio?curid=2877829'),)), LinkedString('UDI', links=((0, 3, 'http://en.wikipedia.org/wiki/Udinese_Calcio?curid=149877'),)), LinkedString('VER', links=((0, 3, 'http://en.wikipedia.org/wiki/Hellas_Verona_F.C.?curid=14035'),))),)\n",
      "1 (0, 1, 18, 'short-uppercase-acronyms') None None\n"
     ]
    },
    {
     "data": {
      "text/html": [
       "<style  type=\"text/css\" >\n",
       "    #T_907faf94_358e_11eb_81c0_00259091f1e8 .col_heading.level0 {\n",
       "          display: none;\n",
       "    }    #T_907faf94_358e_11eb_81c0_00259091f1e8 .col_heading.level1.col1 {\n",
       "          background-color: #ff0;\n",
       "    }    #T_907faf94_358e_11eb_81c0_00259091f1e8 .col_heading.level1.col2 {\n",
       "          background-color: #ff0;\n",
       "    }    #T_907faf94_358e_11eb_81c0_00259091f1e8 .col_heading.level1.col3 {\n",
       "          background-color: #ff0;\n",
       "    }    #T_907faf94_358e_11eb_81c0_00259091f1e8 .col_heading.level1.col4 {\n",
       "          background-color: #ff0;\n",
       "    }    #T_907faf94_358e_11eb_81c0_00259091f1e8 .col_heading.level1.col5 {\n",
       "          background-color: #ff0;\n",
       "    }    #T_907faf94_358e_11eb_81c0_00259091f1e8 .col_heading.level1.col6 {\n",
       "          background-color: #ff0;\n",
       "    }    #T_907faf94_358e_11eb_81c0_00259091f1e8 .col_heading.level1.col7 {\n",
       "          background-color: #ff0;\n",
       "    }    #T_907faf94_358e_11eb_81c0_00259091f1e8 .col_heading.level1.col8 {\n",
       "          background-color: #ff0;\n",
       "    }    #T_907faf94_358e_11eb_81c0_00259091f1e8 .col_heading.level1.col9 {\n",
       "          background-color: #ff0;\n",
       "    }    #T_907faf94_358e_11eb_81c0_00259091f1e8 .col_heading.level1.col10 {\n",
       "          background-color: #ff0;\n",
       "    }    #T_907faf94_358e_11eb_81c0_00259091f1e8 .col_heading.level1.col11 {\n",
       "          background-color: #ff0;\n",
       "    }    #T_907faf94_358e_11eb_81c0_00259091f1e8 .col_heading.level1.col12 {\n",
       "          background-color: #ff0;\n",
       "    }    #T_907faf94_358e_11eb_81c0_00259091f1e8 .col_heading.level1.col13 {\n",
       "          background-color: #ff0;\n",
       "    }    #T_907faf94_358e_11eb_81c0_00259091f1e8 .col_heading.level1.col14 {\n",
       "          background-color: #ff0;\n",
       "    }    #T_907faf94_358e_11eb_81c0_00259091f1e8 .col_heading.level1.col15 {\n",
       "          background-color: #ff0;\n",
       "    }    #T_907faf94_358e_11eb_81c0_00259091f1e8 .col_heading.level1.col16 {\n",
       "          background-color: #ff0;\n",
       "    }    #T_907faf94_358e_11eb_81c0_00259091f1e8 .col_heading.level1.col17 {\n",
       "          background-color: #ff0;\n",
       "    }    #T_907faf94_358e_11eb_81c0_00259091f1e8 .col_heading.level1.col18 {\n",
       "          background-color: #ff0;\n",
       "    }</style><table id=\"T_907faf94_358e_11eb_81c0_00259091f1e8\" ><thead>    <tr>        <th class=\"blank level0\" ></th>        <th class=\"col_heading level0 col0\" >0</th>        <th class=\"col_heading level0 col1\" >1</th>        <th class=\"col_heading level0 col2\" >2</th>        <th class=\"col_heading level0 col3\" >3</th>        <th class=\"col_heading level0 col4\" >4</th>        <th class=\"col_heading level0 col5\" >5</th>        <th class=\"col_heading level0 col6\" >6</th>        <th class=\"col_heading level0 col7\" >7</th>        <th class=\"col_heading level0 col8\" >8</th>        <th class=\"col_heading level0 col9\" >9</th>        <th class=\"col_heading level0 col10\" >10</th>        <th class=\"col_heading level0 col11\" >11</th>        <th class=\"col_heading level0 col12\" >12</th>        <th class=\"col_heading level0 col13\" >13</th>        <th class=\"col_heading level0 col14\" >14</th>        <th class=\"col_heading level0 col15\" >15</th>        <th class=\"col_heading level0 col16\" >16</th>        <th class=\"col_heading level0 col17\" >17</th>        <th class=\"col_heading level0 col18\" >18</th>    </tr>    <tr>        <th class=\"blank level1\" ></th>        <th class=\"col_heading level1 col0\" >Home \\ Away [1 ]</th>        <th class=\"col_heading level1 col1\" ><a href=\"http://en.wikipedia.org/wiki/Atalanta_B.C.?curid=210482\">ATA</a></th>        <th class=\"col_heading level1 col2\" ><a href=\"http://en.wikipedia.org/wiki/A.S._Bari?curid=1138693\">BAR</a></th>        <th class=\"col_heading level1 col3\" ><a href=\"http://en.wikipedia.org/wiki/U.S._Cremonese?curid=1691772\">CRE</a></th>        <th class=\"col_heading level1 col4\" ><a href=\"http://en.wikipedia.org/wiki/Derthona_F.B.C._1908?curid=12664812\">DER</a></th>        <th class=\"col_heading level1 col5\" ><a href=\"http://en.wikipedia.org/wiki/ACF_Fiorentina?curid=3165\">FIO</a></th>        <th class=\"col_heading level1 col6\" ><a href=\"http://en.wikipedia.org/wiki/U.S._Lecce?curid=1135354\">LCE</a></th>        <th class=\"col_heading level1 col7\" ><a href=\"http://en.wikipedia.org/wiki/U.C._Sampdoria?curid=574307\">LIG</a></th>        <th class=\"col_heading level1 col8\" ><a href=\"http://en.wikipedia.org/wiki/F.C._Lucchese_1905?curid=33707714\">LUC</a></th>        <th class=\"col_heading level1 col9\" ><a href=\"http://en.wikipedia.org/wiki/A.S.D._Unione_Fincantieri_Monfalcone?curid=15911093\">MFA</a></th>        <th class=\"col_heading level1 col10\" ><a href=\"http://en.wikipedia.org/wiki/Novara_Calcio?curid=2870673\">NOV</a></th>        <th class=\"col_heading level1 col11\" ><a href=\"http://en.wikipedia.org/wiki/Calcio_Padova?curid=1614647\">PAD</a></th>        <th class=\"col_heading level1 col12\" ><a href=\"http://en.wikipedia.org/wiki/U.S._Città_di_Palermo?curid=520651\">PAL</a></th>        <th class=\"col_heading level1 col13\" ><a href=\"http://en.wikipedia.org/wiki/Parma_F.C.?curid=62611\">PAR</a></th>        <th class=\"col_heading level1 col14\" ><a href=\"http://en.wikipedia.org/wiki/U.S._Pistoiese_1921?curid=2905311\">PST</a></th>        <th class=\"col_heading level1 col15\" ><a href=\"http://en.wikipedia.org/wiki/S.S.C._Venezia?curid=30873379\">SEV</a></th>        <th class=\"col_heading level1 col16\" ><a href=\"http://en.wikipedia.org/wiki/Spezia_Calcio?curid=2877829\">SPE</a></th>        <th class=\"col_heading level1 col17\" ><a href=\"http://en.wikipedia.org/wiki/Udinese_Calcio?curid=149877\">UDI</a></th>        <th class=\"col_heading level1 col18\" ><a href=\"http://en.wikipedia.org/wiki/Hellas_Verona_F.C.?curid=14035\">VER</a></th>    </tr></thead><tbody>\n",
       "        </tbody></table>"
      ],
      "text/plain": [
       "<pandas.io.formats.style.Styler at 0x7f5f2816bd90>"
      ]
     },
     "metadata": {},
     "output_type": "display_data"
    },
    {
     "name": "stdout",
     "output_type": "stream",
     "text": [
      "((LinkedString('Year', links=()), LinkedString('Class', links=()), LinkedString('Team', links=()), LinkedString('Bike', links=()), LinkedString('DAY', links=()), LinkedString('FON', links=()), LinkedString('FON', links=()), LinkedString('RAT', links=()), LinkedString('RAT', links=()), LinkedString('INF', links=()), LinkedString('INF', links=()), LinkedString('RAM', links=()), LinkedString('RAM', links=()), LinkedString('M-O', links=()), LinkedString('M-O', links=()), LinkedString('LAG', links=()), LinkedString('VIR', links=()), LinkedString('VIR', links=()), LinkedString('Pts', links=()), LinkedString('Pos', links=())), (LinkedString('Year', links=()), LinkedString('Class', links=()), LinkedString('Team', links=()), LinkedString('Bike', links=()), LinkedString('R1', links=()), LinkedString('R1', links=()), LinkedString('R2', links=()), LinkedString('R1', links=()), LinkedString('R2', links=()), LinkedString('R1', links=()), LinkedString('R2', links=()), LinkedString('R1', links=()), LinkedString('R2', links=()), LinkedString('R1', links=()), LinkedString('R2', links=()), LinkedString('R1', links=()), LinkedString('R1', links=()), LinkedString('R2', links=()), LinkedString('Pts', links=()), LinkedString('Pos', links=())))\n",
      "1 (0, 5, 14, 'SpannedRepeat') None None\n"
     ]
    },
    {
     "data": {
      "text/html": [
       "<style  type=\"text/css\" >\n",
       "    #T_90830fc2_358e_11eb_81c0_00259091f1e8 .col_heading.level0 {\n",
       "          display: none;\n",
       "    }    #T_90830fc2_358e_11eb_81c0_00259091f1e8 .col_heading.level1.col5 {\n",
       "          background-color: #ff0;\n",
       "    }    #T_90830fc2_358e_11eb_81c0_00259091f1e8 .col_heading.level1.col6 {\n",
       "          background-color: #ff0;\n",
       "    }    #T_90830fc2_358e_11eb_81c0_00259091f1e8 .col_heading.level1.col7 {\n",
       "          background-color: #ff0;\n",
       "    }    #T_90830fc2_358e_11eb_81c0_00259091f1e8 .col_heading.level1.col8 {\n",
       "          background-color: #ff0;\n",
       "    }    #T_90830fc2_358e_11eb_81c0_00259091f1e8 .col_heading.level1.col9 {\n",
       "          background-color: #ff0;\n",
       "    }    #T_90830fc2_358e_11eb_81c0_00259091f1e8 .col_heading.level1.col10 {\n",
       "          background-color: #ff0;\n",
       "    }    #T_90830fc2_358e_11eb_81c0_00259091f1e8 .col_heading.level1.col11 {\n",
       "          background-color: #ff0;\n",
       "    }    #T_90830fc2_358e_11eb_81c0_00259091f1e8 .col_heading.level1.col12 {\n",
       "          background-color: #ff0;\n",
       "    }    #T_90830fc2_358e_11eb_81c0_00259091f1e8 .col_heading.level1.col13 {\n",
       "          background-color: #ff0;\n",
       "    }    #T_90830fc2_358e_11eb_81c0_00259091f1e8 .col_heading.level1.col14 {\n",
       "          background-color: #ff0;\n",
       "    }</style><table id=\"T_90830fc2_358e_11eb_81c0_00259091f1e8\" ><thead>    <tr>        <th class=\"blank level0\" ></th>        <th class=\"col_heading level0 col0\" >0</th>        <th class=\"col_heading level0 col1\" >1</th>        <th class=\"col_heading level0 col2\" >2</th>        <th class=\"col_heading level0 col3\" >3</th>        <th class=\"col_heading level0 col4\" >4</th>        <th class=\"col_heading level0 col5\" >5</th>        <th class=\"col_heading level0 col6\" >6</th>        <th class=\"col_heading level0 col7\" >7</th>        <th class=\"col_heading level0 col8\" >8</th>        <th class=\"col_heading level0 col9\" >9</th>        <th class=\"col_heading level0 col10\" >10</th>        <th class=\"col_heading level0 col11\" >11</th>        <th class=\"col_heading level0 col12\" >12</th>        <th class=\"col_heading level0 col13\" >13</th>        <th class=\"col_heading level0 col14\" >14</th>        <th class=\"col_heading level0 col15\" >15</th>        <th class=\"col_heading level0 col16\" >16</th>        <th class=\"col_heading level0 col17\" >17</th>        <th class=\"col_heading level0 col18\" >18</th>        <th class=\"col_heading level0 col19\" >19</th>    </tr>    <tr>        <th class=\"blank level1\" ></th>        <th class=\"col_heading level1 col0\" >Year</th>        <th class=\"col_heading level1 col1\" >Class</th>        <th class=\"col_heading level1 col2\" >Team</th>        <th class=\"col_heading level1 col3\" >Bike</th>        <th class=\"col_heading level1 col4\" >DAY</th>        <th class=\"col_heading level1 col5\" >FON</th>        <th class=\"col_heading level1 col6\" >FON</th>        <th class=\"col_heading level1 col7\" >RAT</th>        <th class=\"col_heading level1 col8\" >RAT</th>        <th class=\"col_heading level1 col9\" >INF</th>        <th class=\"col_heading level1 col10\" >INF</th>        <th class=\"col_heading level1 col11\" >RAM</th>        <th class=\"col_heading level1 col12\" >RAM</th>        <th class=\"col_heading level1 col13\" >M-O</th>        <th class=\"col_heading level1 col14\" >M-O</th>        <th class=\"col_heading level1 col15\" >LAG</th>        <th class=\"col_heading level1 col16\" >VIR</th>        <th class=\"col_heading level1 col17\" >VIR</th>        <th class=\"col_heading level1 col18\" >Pts</th>        <th class=\"col_heading level1 col19\" >Pos</th>    </tr>    <tr>        <th class=\"blank level2\" ></th>        <th class=\"col_heading level2 col0\" >Year</th>        <th class=\"col_heading level2 col1\" >Class</th>        <th class=\"col_heading level2 col2\" >Team</th>        <th class=\"col_heading level2 col3\" >Bike</th>        <th class=\"col_heading level2 col4\" >R1</th>        <th class=\"col_heading level2 col5\" >R1</th>        <th class=\"col_heading level2 col6\" >R2</th>        <th class=\"col_heading level2 col7\" >R1</th>        <th class=\"col_heading level2 col8\" >R2</th>        <th class=\"col_heading level2 col9\" >R1</th>        <th class=\"col_heading level2 col10\" >R2</th>        <th class=\"col_heading level2 col11\" >R1</th>        <th class=\"col_heading level2 col12\" >R2</th>        <th class=\"col_heading level2 col13\" >R1</th>        <th class=\"col_heading level2 col14\" >R2</th>        <th class=\"col_heading level2 col15\" >R1</th>        <th class=\"col_heading level2 col16\" >R1</th>        <th class=\"col_heading level2 col17\" >R2</th>        <th class=\"col_heading level2 col18\" >Pts</th>        <th class=\"col_heading level2 col19\" >Pos</th>    </tr></thead><tbody>\n",
       "        </tbody></table>"
      ],
      "text/plain": [
       "<pandas.io.formats.style.Styler at 0x7f5f21bae710>"
      ]
     },
     "metadata": {},
     "output_type": "display_data"
    },
    {
     "name": "stdout",
     "output_type": "stream",
     "text": [
      "((LinkedString('Home/Away', links=()), LinkedString('AEK', links=((0, 3, 'http://en.wikipedia.org/wiki/AEK_Athens_F.C.?curid=990655'),)), LinkedString('APA', links=((0, 3, 'http://en.wikipedia.org/wiki/Apollon_Smyrnis_F.C.?curid=6638269'),)), LinkedString('ARI', links=((0, 3, 'http://en.wikipedia.org/wiki/Aris_Thessaloniki_F.C.?curid=25625594'),)), LinkedString('ATH', links=((0, 3, 'http://en.wikipedia.org/wiki/Athinaikos_F.C.?curid=1848539'),)), LinkedString('EDE', links=()), LinkedString('ETH', links=((0, 3, 'http://en.wikipedia.org/wiki/Ethnikos_Piraeus_F.C.?curid=6638110'),)), LinkedString('ION', links=((0, 3, 'http://en.wikipedia.org/wiki/Ionikos_F.C.?curid=4221189'),)), LinkedString('IRA', links=((0, 3, 'http://en.wikipedia.org/wiki/Iraklis_Thessaloniki_F.C.?curid=4221322'),)), LinkedString('KAL', links=((0, 3, 'http://en.wikipedia.org/wiki/Kalamata_F.C.?curid=5239835'),)), LinkedString('LAR', links=((0, 3, 'http://en.wikipedia.org/wiki/Larissa_F.C.?curid=2238706'),)), LinkedString('OFI', links=((0, 3, 'http://en.wikipedia.org/wiki/OFI_Crete?curid=2241876'),)), LinkedString('OLY', links=((0, 3, 'http://en.wikipedia.org/wiki/Olympiacos_F.C.?curid=1229550'),)), LinkedString('PNC', links=((0, 3, 'http://en.wikipedia.org/wiki/Panachaiki_2005_F.C.?curid=33643201'),)), LinkedString('PAO', links=((0, 3, 'http://en.wikipedia.org/wiki/Panathinaikos_FC?curid=1053145'),)), LinkedString('PNL', links=((0, 3, 'http://en.wikipedia.org/wiki/Paniliakos_F.C.?curid=2905291'),)), LinkedString('PAN', links=((0, 3, 'http://en.wikipedia.org/wiki/Panionios_F.C.?curid=2408935'),)), LinkedString('PAOK', links=((0, 4, 'http://en.wikipedia.org/wiki/PAOK_F.C.?curid=887670'),)), LinkedString('SKX', links=((0, 3, 'http://en.wikipedia.org/wiki/Skoda_Xanthi_F.C.?curid=2047859'),))),)\n",
      "1 (0, 1, 18, 'short-uppercase-acronyms') None None\n"
     ]
    },
    {
     "data": {
      "text/html": [
       "<style  type=\"text/css\" >\n",
       "    #T_9087242c_358e_11eb_81c0_00259091f1e8 .col_heading.level0 {\n",
       "          display: none;\n",
       "    }    #T_9087242c_358e_11eb_81c0_00259091f1e8 .col_heading.level1.col1 {\n",
       "          background-color: #ff0;\n",
       "    }    #T_9087242c_358e_11eb_81c0_00259091f1e8 .col_heading.level1.col2 {\n",
       "          background-color: #ff0;\n",
       "    }    #T_9087242c_358e_11eb_81c0_00259091f1e8 .col_heading.level1.col3 {\n",
       "          background-color: #ff0;\n",
       "    }    #T_9087242c_358e_11eb_81c0_00259091f1e8 .col_heading.level1.col4 {\n",
       "          background-color: #ff0;\n",
       "    }    #T_9087242c_358e_11eb_81c0_00259091f1e8 .col_heading.level1.col5 {\n",
       "          background-color: #ff0;\n",
       "    }    #T_9087242c_358e_11eb_81c0_00259091f1e8 .col_heading.level1.col6 {\n",
       "          background-color: #ff0;\n",
       "    }    #T_9087242c_358e_11eb_81c0_00259091f1e8 .col_heading.level1.col7 {\n",
       "          background-color: #ff0;\n",
       "    }    #T_9087242c_358e_11eb_81c0_00259091f1e8 .col_heading.level1.col8 {\n",
       "          background-color: #ff0;\n",
       "    }    #T_9087242c_358e_11eb_81c0_00259091f1e8 .col_heading.level1.col9 {\n",
       "          background-color: #ff0;\n",
       "    }    #T_9087242c_358e_11eb_81c0_00259091f1e8 .col_heading.level1.col10 {\n",
       "          background-color: #ff0;\n",
       "    }    #T_9087242c_358e_11eb_81c0_00259091f1e8 .col_heading.level1.col11 {\n",
       "          background-color: #ff0;\n",
       "    }    #T_9087242c_358e_11eb_81c0_00259091f1e8 .col_heading.level1.col12 {\n",
       "          background-color: #ff0;\n",
       "    }    #T_9087242c_358e_11eb_81c0_00259091f1e8 .col_heading.level1.col13 {\n",
       "          background-color: #ff0;\n",
       "    }    #T_9087242c_358e_11eb_81c0_00259091f1e8 .col_heading.level1.col14 {\n",
       "          background-color: #ff0;\n",
       "    }    #T_9087242c_358e_11eb_81c0_00259091f1e8 .col_heading.level1.col15 {\n",
       "          background-color: #ff0;\n",
       "    }    #T_9087242c_358e_11eb_81c0_00259091f1e8 .col_heading.level1.col16 {\n",
       "          background-color: #ff0;\n",
       "    }    #T_9087242c_358e_11eb_81c0_00259091f1e8 .col_heading.level1.col17 {\n",
       "          background-color: #ff0;\n",
       "    }    #T_9087242c_358e_11eb_81c0_00259091f1e8 .col_heading.level1.col18 {\n",
       "          background-color: #ff0;\n",
       "    }</style><table id=\"T_9087242c_358e_11eb_81c0_00259091f1e8\" ><thead>    <tr>        <th class=\"blank level0\" ></th>        <th class=\"col_heading level0 col0\" >0</th>        <th class=\"col_heading level0 col1\" >1</th>        <th class=\"col_heading level0 col2\" >2</th>        <th class=\"col_heading level0 col3\" >3</th>        <th class=\"col_heading level0 col4\" >4</th>        <th class=\"col_heading level0 col5\" >5</th>        <th class=\"col_heading level0 col6\" >6</th>        <th class=\"col_heading level0 col7\" >7</th>        <th class=\"col_heading level0 col8\" >8</th>        <th class=\"col_heading level0 col9\" >9</th>        <th class=\"col_heading level0 col10\" >10</th>        <th class=\"col_heading level0 col11\" >11</th>        <th class=\"col_heading level0 col12\" >12</th>        <th class=\"col_heading level0 col13\" >13</th>        <th class=\"col_heading level0 col14\" >14</th>        <th class=\"col_heading level0 col15\" >15</th>        <th class=\"col_heading level0 col16\" >16</th>        <th class=\"col_heading level0 col17\" >17</th>        <th class=\"col_heading level0 col18\" >18</th>    </tr>    <tr>        <th class=\"blank level1\" ></th>        <th class=\"col_heading level1 col0\" >Home/Away</th>        <th class=\"col_heading level1 col1\" ><a href=\"http://en.wikipedia.org/wiki/AEK_Athens_F.C.?curid=990655\">AEK</a></th>        <th class=\"col_heading level1 col2\" ><a href=\"http://en.wikipedia.org/wiki/Apollon_Smyrnis_F.C.?curid=6638269\">APA</a></th>        <th class=\"col_heading level1 col3\" ><a href=\"http://en.wikipedia.org/wiki/Aris_Thessaloniki_F.C.?curid=25625594\">ARI</a></th>        <th class=\"col_heading level1 col4\" ><a href=\"http://en.wikipedia.org/wiki/Athinaikos_F.C.?curid=1848539\">ATH</a></th>        <th class=\"col_heading level1 col5\" >EDE</th>        <th class=\"col_heading level1 col6\" ><a href=\"http://en.wikipedia.org/wiki/Ethnikos_Piraeus_F.C.?curid=6638110\">ETH</a></th>        <th class=\"col_heading level1 col7\" ><a href=\"http://en.wikipedia.org/wiki/Ionikos_F.C.?curid=4221189\">ION</a></th>        <th class=\"col_heading level1 col8\" ><a href=\"http://en.wikipedia.org/wiki/Iraklis_Thessaloniki_F.C.?curid=4221322\">IRA</a></th>        <th class=\"col_heading level1 col9\" ><a href=\"http://en.wikipedia.org/wiki/Kalamata_F.C.?curid=5239835\">KAL</a></th>        <th class=\"col_heading level1 col10\" ><a href=\"http://en.wikipedia.org/wiki/Larissa_F.C.?curid=2238706\">LAR</a></th>        <th class=\"col_heading level1 col11\" ><a href=\"http://en.wikipedia.org/wiki/OFI_Crete?curid=2241876\">OFI</a></th>        <th class=\"col_heading level1 col12\" ><a href=\"http://en.wikipedia.org/wiki/Olympiacos_F.C.?curid=1229550\">OLY</a></th>        <th class=\"col_heading level1 col13\" ><a href=\"http://en.wikipedia.org/wiki/Panachaiki_2005_F.C.?curid=33643201\">PNC</a></th>        <th class=\"col_heading level1 col14\" ><a href=\"http://en.wikipedia.org/wiki/Panathinaikos_FC?curid=1053145\">PAO</a></th>        <th class=\"col_heading level1 col15\" ><a href=\"http://en.wikipedia.org/wiki/Paniliakos_F.C.?curid=2905291\">PNL</a></th>        <th class=\"col_heading level1 col16\" ><a href=\"http://en.wikipedia.org/wiki/Panionios_F.C.?curid=2408935\">PAN</a></th>        <th class=\"col_heading level1 col17\" ><a href=\"http://en.wikipedia.org/wiki/PAOK_F.C.?curid=887670\">PAOK</a></th>        <th class=\"col_heading level1 col18\" ><a href=\"http://en.wikipedia.org/wiki/Skoda_Xanthi_F.C.?curid=2047859\">SKX</a></th>    </tr></thead><tbody>\n",
       "        </tbody></table>"
      ],
      "text/plain": [
       "<pandas.io.formats.style.Styler at 0x7f5f8ed49ed0>"
      ]
     },
     "metadata": {},
     "output_type": "display_data"
    },
    {
     "name": "stdout",
     "output_type": "stream",
     "text": [
      "((LinkedString('Pos', links=()), LinkedString('Rider', links=()), LinkedString('Bike', links=()), LinkedString('AUS', links=((0, 3, 'http://en.wikipedia.org/wiki/1994_Australian_motorcycle_Grand_Prix?curid=17521855'),)), LinkedString('MAL', links=((0, 3, 'http://en.wikipedia.org/wiki/1994_Malaysian_motorcycle_Grand_Prix?curid=17521887'),)), LinkedString('JPN', links=((0, 3, 'http://en.wikipedia.org/wiki/1994_Japanese_motorcycle_Grand_Prix?curid=17521912'),)), LinkedString('ESP', links=((0, 3, 'http://en.wikipedia.org/wiki/1994_Spanish_motorcycle_Grand_Prix?curid=17521936'),)), LinkedString('AUT', links=((0, 3, 'http://en.wikipedia.org/wiki/1994_Austrian_motorcycle_Grand_Prix?curid=17521970'),)), LinkedString('GER', links=((0, 3, 'http://en.wikipedia.org/wiki/1994_German_motorcycle_Grand_Prix?curid=17521990'),)), LinkedString('NED', links=((0, 3, 'http://en.wikipedia.org/wiki/1994_Dutch_TT?curid=17522010'),)), LinkedString('ITA', links=((0, 3, 'http://en.wikipedia.org/wiki/1994_Italian_motorcycle_Grand_Prix?curid=17526549'),)), LinkedString('FRA', links=((0, 3, 'http://en.wikipedia.org/wiki/1994_French_motorcycle_Grand_Prix?curid=17526605'),)), LinkedString('GBR', links=((0, 3, 'http://en.wikipedia.org/wiki/1994_British_motorcycle_Grand_Prix?curid=17541549'),)), LinkedString('CZE', links=((0, 3, 'http://en.wikipedia.org/wiki/1994_Czech_Republic_motorcycle_Grand_Prix?curid=17541577'),)), LinkedString('USA', links=((0, 3, 'http://en.wikipedia.org/wiki/1994_United_States_motorcycle_Grand_Prix?curid=17541620'),)), LinkedString('ARG', links=((0, 3, 'http://en.wikipedia.org/wiki/1994_Argentine_motorcycle_Grand_Prix?curid=17541718'),)), LinkedString('EUR', links=((0, 3, 'http://en.wikipedia.org/wiki/1994_European_motorcycle_Grand_Prix?curid=17541760'),)), LinkedString('Pts', links=())),)\n",
      "1 (0, 3, 16, 'short-uppercase-acronyms') None None\n"
     ]
    },
    {
     "data": {
      "text/html": [
       "<style  type=\"text/css\" >\n",
       "    #T_9089db9a_358e_11eb_81c0_00259091f1e8 .col_heading.level0 {\n",
       "          display: none;\n",
       "    }    #T_9089db9a_358e_11eb_81c0_00259091f1e8 .col_heading.level1.col3 {\n",
       "          background-color: #ff0;\n",
       "    }    #T_9089db9a_358e_11eb_81c0_00259091f1e8 .col_heading.level1.col4 {\n",
       "          background-color: #ff0;\n",
       "    }    #T_9089db9a_358e_11eb_81c0_00259091f1e8 .col_heading.level1.col5 {\n",
       "          background-color: #ff0;\n",
       "    }    #T_9089db9a_358e_11eb_81c0_00259091f1e8 .col_heading.level1.col6 {\n",
       "          background-color: #ff0;\n",
       "    }    #T_9089db9a_358e_11eb_81c0_00259091f1e8 .col_heading.level1.col7 {\n",
       "          background-color: #ff0;\n",
       "    }    #T_9089db9a_358e_11eb_81c0_00259091f1e8 .col_heading.level1.col8 {\n",
       "          background-color: #ff0;\n",
       "    }    #T_9089db9a_358e_11eb_81c0_00259091f1e8 .col_heading.level1.col9 {\n",
       "          background-color: #ff0;\n",
       "    }    #T_9089db9a_358e_11eb_81c0_00259091f1e8 .col_heading.level1.col10 {\n",
       "          background-color: #ff0;\n",
       "    }    #T_9089db9a_358e_11eb_81c0_00259091f1e8 .col_heading.level1.col11 {\n",
       "          background-color: #ff0;\n",
       "    }    #T_9089db9a_358e_11eb_81c0_00259091f1e8 .col_heading.level1.col12 {\n",
       "          background-color: #ff0;\n",
       "    }    #T_9089db9a_358e_11eb_81c0_00259091f1e8 .col_heading.level1.col13 {\n",
       "          background-color: #ff0;\n",
       "    }    #T_9089db9a_358e_11eb_81c0_00259091f1e8 .col_heading.level1.col14 {\n",
       "          background-color: #ff0;\n",
       "    }    #T_9089db9a_358e_11eb_81c0_00259091f1e8 .col_heading.level1.col15 {\n",
       "          background-color: #ff0;\n",
       "    }    #T_9089db9a_358e_11eb_81c0_00259091f1e8 .col_heading.level1.col16 {\n",
       "          background-color: #ff0;\n",
       "    }</style><table id=\"T_9089db9a_358e_11eb_81c0_00259091f1e8\" ><thead>    <tr>        <th class=\"blank level0\" ></th>        <th class=\"col_heading level0 col0\" >0</th>        <th class=\"col_heading level0 col1\" >1</th>        <th class=\"col_heading level0 col2\" >2</th>        <th class=\"col_heading level0 col3\" >3</th>        <th class=\"col_heading level0 col4\" >4</th>        <th class=\"col_heading level0 col5\" >5</th>        <th class=\"col_heading level0 col6\" >6</th>        <th class=\"col_heading level0 col7\" >7</th>        <th class=\"col_heading level0 col8\" >8</th>        <th class=\"col_heading level0 col9\" >9</th>        <th class=\"col_heading level0 col10\" >10</th>        <th class=\"col_heading level0 col11\" >11</th>        <th class=\"col_heading level0 col12\" >12</th>        <th class=\"col_heading level0 col13\" >13</th>        <th class=\"col_heading level0 col14\" >14</th>        <th class=\"col_heading level0 col15\" >15</th>        <th class=\"col_heading level0 col16\" >16</th>        <th class=\"col_heading level0 col17\" >17</th>    </tr>    <tr>        <th class=\"blank level1\" ></th>        <th class=\"col_heading level1 col0\" >Pos</th>        <th class=\"col_heading level1 col1\" >Rider</th>        <th class=\"col_heading level1 col2\" >Bike</th>        <th class=\"col_heading level1 col3\" ><a href=\"http://en.wikipedia.org/wiki/1994_Australian_motorcycle_Grand_Prix?curid=17521855\">AUS</a></th>        <th class=\"col_heading level1 col4\" ><a href=\"http://en.wikipedia.org/wiki/1994_Malaysian_motorcycle_Grand_Prix?curid=17521887\">MAL</a></th>        <th class=\"col_heading level1 col5\" ><a href=\"http://en.wikipedia.org/wiki/1994_Japanese_motorcycle_Grand_Prix?curid=17521912\">JPN</a></th>        <th class=\"col_heading level1 col6\" ><a href=\"http://en.wikipedia.org/wiki/1994_Spanish_motorcycle_Grand_Prix?curid=17521936\">ESP</a></th>        <th class=\"col_heading level1 col7\" ><a href=\"http://en.wikipedia.org/wiki/1994_Austrian_motorcycle_Grand_Prix?curid=17521970\">AUT</a></th>        <th class=\"col_heading level1 col8\" ><a href=\"http://en.wikipedia.org/wiki/1994_German_motorcycle_Grand_Prix?curid=17521990\">GER</a></th>        <th class=\"col_heading level1 col9\" ><a href=\"http://en.wikipedia.org/wiki/1994_Dutch_TT?curid=17522010\">NED</a></th>        <th class=\"col_heading level1 col10\" ><a href=\"http://en.wikipedia.org/wiki/1994_Italian_motorcycle_Grand_Prix?curid=17526549\">ITA</a></th>        <th class=\"col_heading level1 col11\" ><a href=\"http://en.wikipedia.org/wiki/1994_French_motorcycle_Grand_Prix?curid=17526605\">FRA</a></th>        <th class=\"col_heading level1 col12\" ><a href=\"http://en.wikipedia.org/wiki/1994_British_motorcycle_Grand_Prix?curid=17541549\">GBR</a></th>        <th class=\"col_heading level1 col13\" ><a href=\"http://en.wikipedia.org/wiki/1994_Czech_Republic_motorcycle_Grand_Prix?curid=17541577\">CZE</a></th>        <th class=\"col_heading level1 col14\" ><a href=\"http://en.wikipedia.org/wiki/1994_United_States_motorcycle_Grand_Prix?curid=17541620\">USA</a></th>        <th class=\"col_heading level1 col15\" ><a href=\"http://en.wikipedia.org/wiki/1994_Argentine_motorcycle_Grand_Prix?curid=17541718\">ARG</a></th>        <th class=\"col_heading level1 col16\" ><a href=\"http://en.wikipedia.org/wiki/1994_European_motorcycle_Grand_Prix?curid=17541760\">EUR</a></th>        <th class=\"col_heading level1 col17\" >Pts</th>    </tr></thead><tbody>\n",
       "        </tbody></table>"
      ],
      "text/plain": [
       "<pandas.io.formats.style.Styler at 0x7f601dc76750>"
      ]
     },
     "metadata": {},
     "output_type": "display_data"
    },
    {
     "name": "stdout",
     "output_type": "stream",
     "text": [
      "((LinkedString('Single', links=()), LinkedString('Year', links=()), LinkedString('Peak chart positions', links=()), LinkedString('Peak chart positions', links=()), LinkedString('Peak chart positions', links=()), LinkedString('Peak chart positions', links=()), LinkedString('Peak chart positions', links=()), LinkedString('Peak chart positions', links=()), LinkedString('Peak chart positions', links=()), LinkedString('Peak chart positions', links=()), LinkedString('Peak chart positions', links=()), LinkedString('Peak chart positions', links=()), LinkedString('Certifications', links=((0, 14, 'http://en.wikipedia.org/wiki/List_of_music_recording_certifications?curid=17627213'),)), LinkedString('Album', links=())), (LinkedString('Single', links=()), LinkedString('Year', links=()), LinkedString('IRE', links=((0, 3, 'http://en.wikipedia.org/wiki/Irish_Singles_Chart?curid=3627762'),)), LinkedString('AUS', links=((0, 3, 'http://en.wikipedia.org/wiki/ARIA_Charts?curid=3002226'),)), LinkedString('AUT', links=((0, 3, 'http://en.wikipedia.org/wiki/Ö3_Austria_Top_40?curid=13757814'),)), LinkedString('GER', links=((0, 3, 'http://en.wikipedia.org/wiki/Media_Control_Charts?curid=6170448'),)), LinkedString('NLD', links=((0, 3, 'http://en.wikipedia.org/wiki/Dutch_Top_40?curid=4685500'),)), LinkedString('NZ', links=((0, 2, 'http://en.wikipedia.org/wiki/Recording_Industry_Association_of_New_Zealand?curid=1588487'),)), LinkedString('NOR', links=((0, 3, 'http://en.wikipedia.org/wiki/VG-lista?curid=8262087'),)), LinkedString('SWE', links=((0, 3, 'http://en.wikipedia.org/wiki/Sverigetopplistan?curid=11002747'),)), LinkedString('SWI', links=((0, 3, 'http://en.wikipedia.org/wiki/Swiss_Music_Charts?curid=17054761'),)), LinkedString('UK', links=((0, 2, 'http://en.wikipedia.org/wiki/UK_Singles_Chart?curid=3349146'),)), LinkedString('Certifications', links=((0, 14, 'http://en.wikipedia.org/wiki/List_of_music_recording_certifications?curid=17627213'),)), LinkedString('Album', links=())))\n",
      "1 (1, 2, 11, 'short-uppercase-acronyms') None None\n"
     ]
    },
    {
     "data": {
      "text/html": [
       "<style  type=\"text/css\" >\n",
       "    #T_908d7fde_358e_11eb_81c0_00259091f1e8 .col_heading.level0 {\n",
       "          display: none;\n",
       "    }    #T_908d7fde_358e_11eb_81c0_00259091f1e8 .col_heading.level2.col2 {\n",
       "          background-color: #ff0;\n",
       "    }    #T_908d7fde_358e_11eb_81c0_00259091f1e8 .col_heading.level2.col3 {\n",
       "          background-color: #ff0;\n",
       "    }    #T_908d7fde_358e_11eb_81c0_00259091f1e8 .col_heading.level2.col4 {\n",
       "          background-color: #ff0;\n",
       "    }    #T_908d7fde_358e_11eb_81c0_00259091f1e8 .col_heading.level2.col5 {\n",
       "          background-color: #ff0;\n",
       "    }    #T_908d7fde_358e_11eb_81c0_00259091f1e8 .col_heading.level2.col6 {\n",
       "          background-color: #ff0;\n",
       "    }    #T_908d7fde_358e_11eb_81c0_00259091f1e8 .col_heading.level2.col7 {\n",
       "          background-color: #ff0;\n",
       "    }    #T_908d7fde_358e_11eb_81c0_00259091f1e8 .col_heading.level2.col8 {\n",
       "          background-color: #ff0;\n",
       "    }    #T_908d7fde_358e_11eb_81c0_00259091f1e8 .col_heading.level2.col9 {\n",
       "          background-color: #ff0;\n",
       "    }    #T_908d7fde_358e_11eb_81c0_00259091f1e8 .col_heading.level2.col10 {\n",
       "          background-color: #ff0;\n",
       "    }    #T_908d7fde_358e_11eb_81c0_00259091f1e8 .col_heading.level2.col11 {\n",
       "          background-color: #ff0;\n",
       "    }</style><table id=\"T_908d7fde_358e_11eb_81c0_00259091f1e8\" ><thead>    <tr>        <th class=\"blank level0\" ></th>        <th class=\"col_heading level0 col0\" >0</th>        <th class=\"col_heading level0 col1\" >1</th>        <th class=\"col_heading level0 col2\" >2</th>        <th class=\"col_heading level0 col3\" >3</th>        <th class=\"col_heading level0 col4\" >4</th>        <th class=\"col_heading level0 col5\" >5</th>        <th class=\"col_heading level0 col6\" >6</th>        <th class=\"col_heading level0 col7\" >7</th>        <th class=\"col_heading level0 col8\" >8</th>        <th class=\"col_heading level0 col9\" >9</th>        <th class=\"col_heading level0 col10\" >10</th>        <th class=\"col_heading level0 col11\" >11</th>        <th class=\"col_heading level0 col12\" >12</th>        <th class=\"col_heading level0 col13\" >13</th>    </tr>    <tr>        <th class=\"blank level1\" ></th>        <th class=\"col_heading level1 col0\" >Single</th>        <th class=\"col_heading level1 col1\" >Year</th>        <th class=\"col_heading level1 col2\" >Peak chart positions</th>        <th class=\"col_heading level1 col3\" >Peak chart positions</th>        <th class=\"col_heading level1 col4\" >Peak chart positions</th>        <th class=\"col_heading level1 col5\" >Peak chart positions</th>        <th class=\"col_heading level1 col6\" >Peak chart positions</th>        <th class=\"col_heading level1 col7\" >Peak chart positions</th>        <th class=\"col_heading level1 col8\" >Peak chart positions</th>        <th class=\"col_heading level1 col9\" >Peak chart positions</th>        <th class=\"col_heading level1 col10\" >Peak chart positions</th>        <th class=\"col_heading level1 col11\" >Peak chart positions</th>        <th class=\"col_heading level1 col12\" ><a href=\"http://en.wikipedia.org/wiki/List_of_music_recording_certifications?curid=17627213\">Certifications</a></th>        <th class=\"col_heading level1 col13\" >Album</th>    </tr>    <tr>        <th class=\"blank level2\" ></th>        <th class=\"col_heading level2 col0\" >Single</th>        <th class=\"col_heading level2 col1\" >Year</th>        <th class=\"col_heading level2 col2\" ><a href=\"http://en.wikipedia.org/wiki/Irish_Singles_Chart?curid=3627762\">IRE</a></th>        <th class=\"col_heading level2 col3\" ><a href=\"http://en.wikipedia.org/wiki/ARIA_Charts?curid=3002226\">AUS</a></th>        <th class=\"col_heading level2 col4\" ><a href=\"http://en.wikipedia.org/wiki/Ö3_Austria_Top_40?curid=13757814\">AUT</a></th>        <th class=\"col_heading level2 col5\" ><a href=\"http://en.wikipedia.org/wiki/Media_Control_Charts?curid=6170448\">GER</a></th>        <th class=\"col_heading level2 col6\" ><a href=\"http://en.wikipedia.org/wiki/Dutch_Top_40?curid=4685500\">NLD</a></th>        <th class=\"col_heading level2 col7\" ><a href=\"http://en.wikipedia.org/wiki/Recording_Industry_Association_of_New_Zealand?curid=1588487\">NZ</a></th>        <th class=\"col_heading level2 col8\" ><a href=\"http://en.wikipedia.org/wiki/VG-lista?curid=8262087\">NOR</a></th>        <th class=\"col_heading level2 col9\" ><a href=\"http://en.wikipedia.org/wiki/Sverigetopplistan?curid=11002747\">SWE</a></th>        <th class=\"col_heading level2 col10\" ><a href=\"http://en.wikipedia.org/wiki/Swiss_Music_Charts?curid=17054761\">SWI</a></th>        <th class=\"col_heading level2 col11\" ><a href=\"http://en.wikipedia.org/wiki/UK_Singles_Chart?curid=3349146\">UK</a></th>        <th class=\"col_heading level2 col12\" ><a href=\"http://en.wikipedia.org/wiki/List_of_music_recording_certifications?curid=17627213\">Certifications</a></th>        <th class=\"col_heading level2 col13\" >Album</th>    </tr></thead><tbody>\n",
       "        </tbody></table>"
      ],
      "text/plain": [
       "<pandas.io.formats.style.Styler at 0x7f5f21be5190>"
      ]
     },
     "metadata": {},
     "output_type": "display_data"
    },
    {
     "name": "stdout",
     "output_type": "stream",
     "text": [
      "((LinkedString('Year', links=()), LinkedString('Single', links=()), LinkedString('Peak chart positions', links=()), LinkedString('Peak chart positions', links=()), LinkedString('Peak chart positions', links=()), LinkedString('Peak chart positions', links=()), LinkedString('Peak chart positions', links=()), LinkedString('Peak chart positions', links=()), LinkedString('Peak chart positions', links=()), LinkedString('Peak chart positions', links=()), LinkedString('Peak chart positions', links=()), LinkedString('Album', links=())), (LinkedString('Year', links=()), LinkedString('Single', links=()), LinkedString('NOR', links=((0, 3, 'http://en.wikipedia.org/wiki/VG-lista?curid=8262087'),)), LinkedString('AUT', links=((0, 3, 'http://en.wikipedia.org/wiki/Ö3_Austria_Top_40?curid=13757814'),)), LinkedString('BEL', links=((0, 3, 'http://en.wikipedia.org/wiki/Ultratop_50?curid=6836546'),)), LinkedString('NL', links=((0, 2, 'http://en.wikipedia.org/wiki/MegaCharts?curid=6013155'),)), LinkedString('FIN', links=((0, 3, 'http://en.wikipedia.org/wiki/The_Official_Finnish_Charts?curid=7824827'),)), LinkedString('GER', links=((0, 3, 'http://en.wikipedia.org/wiki/Media_Control_Charts?curid=6170448'),)), LinkedString('SWI', links=((0, 3, 'http://en.wikipedia.org/wiki/Swiss_Music_Charts?curid=17054761'),)), LinkedString('SWE', links=((0, 3, 'http://en.wikipedia.org/wiki/Sverigetopplistan?curid=11002747'),)), LinkedString('UK', links=((0, 2, 'http://en.wikipedia.org/wiki/UK_Singles_Chart?curid=3349146'),)), LinkedString('Album', links=())))\n",
      "1 (1, 2, 10, 'short-uppercase-acronyms') None None\n"
     ]
    },
    {
     "data": {
      "text/html": [
       "<style  type=\"text/css\" >\n",
       "    #T_90908ce2_358e_11eb_81c0_00259091f1e8 .col_heading.level0 {\n",
       "          display: none;\n",
       "    }    #T_90908ce2_358e_11eb_81c0_00259091f1e8 .col_heading.level2.col2 {\n",
       "          background-color: #ff0;\n",
       "    }    #T_90908ce2_358e_11eb_81c0_00259091f1e8 .col_heading.level2.col3 {\n",
       "          background-color: #ff0;\n",
       "    }    #T_90908ce2_358e_11eb_81c0_00259091f1e8 .col_heading.level2.col4 {\n",
       "          background-color: #ff0;\n",
       "    }    #T_90908ce2_358e_11eb_81c0_00259091f1e8 .col_heading.level2.col5 {\n",
       "          background-color: #ff0;\n",
       "    }    #T_90908ce2_358e_11eb_81c0_00259091f1e8 .col_heading.level2.col6 {\n",
       "          background-color: #ff0;\n",
       "    }    #T_90908ce2_358e_11eb_81c0_00259091f1e8 .col_heading.level2.col7 {\n",
       "          background-color: #ff0;\n",
       "    }    #T_90908ce2_358e_11eb_81c0_00259091f1e8 .col_heading.level2.col8 {\n",
       "          background-color: #ff0;\n",
       "    }    #T_90908ce2_358e_11eb_81c0_00259091f1e8 .col_heading.level2.col9 {\n",
       "          background-color: #ff0;\n",
       "    }    #T_90908ce2_358e_11eb_81c0_00259091f1e8 .col_heading.level2.col10 {\n",
       "          background-color: #ff0;\n",
       "    }</style><table id=\"T_90908ce2_358e_11eb_81c0_00259091f1e8\" ><thead>    <tr>        <th class=\"blank level0\" ></th>        <th class=\"col_heading level0 col0\" >0</th>        <th class=\"col_heading level0 col1\" >1</th>        <th class=\"col_heading level0 col2\" >2</th>        <th class=\"col_heading level0 col3\" >3</th>        <th class=\"col_heading level0 col4\" >4</th>        <th class=\"col_heading level0 col5\" >5</th>        <th class=\"col_heading level0 col6\" >6</th>        <th class=\"col_heading level0 col7\" >7</th>        <th class=\"col_heading level0 col8\" >8</th>        <th class=\"col_heading level0 col9\" >9</th>        <th class=\"col_heading level0 col10\" >10</th>        <th class=\"col_heading level0 col11\" >11</th>    </tr>    <tr>        <th class=\"blank level1\" ></th>        <th class=\"col_heading level1 col0\" >Year</th>        <th class=\"col_heading level1 col1\" >Single</th>        <th class=\"col_heading level1 col2\" >Peak chart positions</th>        <th class=\"col_heading level1 col3\" >Peak chart positions</th>        <th class=\"col_heading level1 col4\" >Peak chart positions</th>        <th class=\"col_heading level1 col5\" >Peak chart positions</th>        <th class=\"col_heading level1 col6\" >Peak chart positions</th>        <th class=\"col_heading level1 col7\" >Peak chart positions</th>        <th class=\"col_heading level1 col8\" >Peak chart positions</th>        <th class=\"col_heading level1 col9\" >Peak chart positions</th>        <th class=\"col_heading level1 col10\" >Peak chart positions</th>        <th class=\"col_heading level1 col11\" >Album</th>    </tr>    <tr>        <th class=\"blank level2\" ></th>        <th class=\"col_heading level2 col0\" >Year</th>        <th class=\"col_heading level2 col1\" >Single</th>        <th class=\"col_heading level2 col2\" ><a href=\"http://en.wikipedia.org/wiki/VG-lista?curid=8262087\">NOR</a></th>        <th class=\"col_heading level2 col3\" ><a href=\"http://en.wikipedia.org/wiki/Ö3_Austria_Top_40?curid=13757814\">AUT</a></th>        <th class=\"col_heading level2 col4\" ><a href=\"http://en.wikipedia.org/wiki/Ultratop_50?curid=6836546\">BEL</a></th>        <th class=\"col_heading level2 col5\" ><a href=\"http://en.wikipedia.org/wiki/MegaCharts?curid=6013155\">NL</a></th>        <th class=\"col_heading level2 col6\" ><a href=\"http://en.wikipedia.org/wiki/The_Official_Finnish_Charts?curid=7824827\">FIN</a></th>        <th class=\"col_heading level2 col7\" ><a href=\"http://en.wikipedia.org/wiki/Media_Control_Charts?curid=6170448\">GER</a></th>        <th class=\"col_heading level2 col8\" ><a href=\"http://en.wikipedia.org/wiki/Swiss_Music_Charts?curid=17054761\">SWI</a></th>        <th class=\"col_heading level2 col9\" ><a href=\"http://en.wikipedia.org/wiki/Sverigetopplistan?curid=11002747\">SWE</a></th>        <th class=\"col_heading level2 col10\" ><a href=\"http://en.wikipedia.org/wiki/UK_Singles_Chart?curid=3349146\">UK</a></th>        <th class=\"col_heading level2 col11\" >Album</th>    </tr></thead><tbody>\n",
       "        </tbody></table>"
      ],
      "text/plain": [
       "<pandas.io.formats.style.Styler at 0x7f5f21c1f450>"
      ]
     },
     "metadata": {},
     "output_type": "display_data"
    },
    {
     "name": "stdout",
     "output_type": "stream",
     "text": [
      "((LinkedString('Year', links=()), LinkedString('Album details', links=()), LinkedString('Peak chart positions', links=()), LinkedString('Peak chart positions', links=()), LinkedString('Peak chart positions', links=()), LinkedString('Peak chart positions', links=()), LinkedString('Peak chart positions', links=()), LinkedString('Peak chart positions', links=()), LinkedString('Peak chart positions', links=()), LinkedString('Peak chart positions', links=()), LinkedString('Peak chart positions', links=()), LinkedString('Peak chart positions', links=()), LinkedString('Certifications ( sales thresholds )', links=((0, 14, 'http://en.wikipedia.org/wiki/Music_recording_sales_certification?curid=308242'), (17, 33, 'http://en.wikipedia.org/wiki/List_of_music_recording_certifications?curid=17627213')))), (LinkedString('Year', links=()), LinkedString('Album details', links=()), LinkedString('UK', links=((0, 2, 'http://en.wikipedia.org/wiki/UK_Albums_Chart?curid=2465857'),)), LinkedString('US', links=((0, 2, 'http://en.wikipedia.org/wiki/Billboard_200?curid=730350'),)), LinkedString('AUS', links=((0, 3, 'http://en.wikipedia.org/wiki/Kent_Music_Report?curid=8949413'),)), LinkedString('NZ', links=((0, 2, 'http://en.wikipedia.org/wiki/Recording_Industry_Association_of_New_Zealand?curid=1588487'),)), LinkedString('NOR', links=((0, 3, 'http://en.wikipedia.org/wiki/VG-lista?curid=8262087'),)), LinkedString('NLD', links=((0, 3, 'http://en.wikipedia.org/wiki/MegaCharts?curid=6013155'),)), LinkedString('FRA', links=((0, 3, 'http://en.wikipedia.org/wiki/SNEP?curid=4565593'),)), LinkedString('SWE', links=((0, 3, 'http://en.wikipedia.org/wiki/Sverigetopplistan?curid=11002747'),)), LinkedString('JPN', links=((0, 3, 'http://en.wikipedia.org/wiki/Oricon?curid=2758023'),)), LinkedString('GER', links=((0, 3, 'http://en.wikipedia.org/wiki/Media_Control_Charts?curid=6170448'),)), LinkedString('Certifications ( sales thresholds )', links=((0, 14, 'http://en.wikipedia.org/wiki/Music_recording_sales_certification?curid=308242'), (17, 33, 'http://en.wikipedia.org/wiki/List_of_music_recording_certifications?curid=17627213')))))\n",
      "1 (1, 2, 11, 'short-uppercase-acronyms') None None\n"
     ]
    },
    {
     "data": {
      "text/html": [
       "<style  type=\"text/css\" >\n",
       "    #T_90941948_358e_11eb_81c0_00259091f1e8 .col_heading.level0 {\n",
       "          display: none;\n",
       "    }    #T_90941948_358e_11eb_81c0_00259091f1e8 .col_heading.level2.col2 {\n",
       "          background-color: #ff0;\n",
       "    }    #T_90941948_358e_11eb_81c0_00259091f1e8 .col_heading.level2.col3 {\n",
       "          background-color: #ff0;\n",
       "    }    #T_90941948_358e_11eb_81c0_00259091f1e8 .col_heading.level2.col4 {\n",
       "          background-color: #ff0;\n",
       "    }    #T_90941948_358e_11eb_81c0_00259091f1e8 .col_heading.level2.col5 {\n",
       "          background-color: #ff0;\n",
       "    }    #T_90941948_358e_11eb_81c0_00259091f1e8 .col_heading.level2.col6 {\n",
       "          background-color: #ff0;\n",
       "    }    #T_90941948_358e_11eb_81c0_00259091f1e8 .col_heading.level2.col7 {\n",
       "          background-color: #ff0;\n",
       "    }    #T_90941948_358e_11eb_81c0_00259091f1e8 .col_heading.level2.col8 {\n",
       "          background-color: #ff0;\n",
       "    }    #T_90941948_358e_11eb_81c0_00259091f1e8 .col_heading.level2.col9 {\n",
       "          background-color: #ff0;\n",
       "    }    #T_90941948_358e_11eb_81c0_00259091f1e8 .col_heading.level2.col10 {\n",
       "          background-color: #ff0;\n",
       "    }    #T_90941948_358e_11eb_81c0_00259091f1e8 .col_heading.level2.col11 {\n",
       "          background-color: #ff0;\n",
       "    }</style><table id=\"T_90941948_358e_11eb_81c0_00259091f1e8\" ><thead>    <tr>        <th class=\"blank level0\" ></th>        <th class=\"col_heading level0 col0\" >0</th>        <th class=\"col_heading level0 col1\" >1</th>        <th class=\"col_heading level0 col2\" >2</th>        <th class=\"col_heading level0 col3\" >3</th>        <th class=\"col_heading level0 col4\" >4</th>        <th class=\"col_heading level0 col5\" >5</th>        <th class=\"col_heading level0 col6\" >6</th>        <th class=\"col_heading level0 col7\" >7</th>        <th class=\"col_heading level0 col8\" >8</th>        <th class=\"col_heading level0 col9\" >9</th>        <th class=\"col_heading level0 col10\" >10</th>        <th class=\"col_heading level0 col11\" >11</th>        <th class=\"col_heading level0 col12\" >12</th>    </tr>    <tr>        <th class=\"blank level1\" ></th>        <th class=\"col_heading level1 col0\" >Year</th>        <th class=\"col_heading level1 col1\" >Album details</th>        <th class=\"col_heading level1 col2\" >Peak chart positions</th>        <th class=\"col_heading level1 col3\" >Peak chart positions</th>        <th class=\"col_heading level1 col4\" >Peak chart positions</th>        <th class=\"col_heading level1 col5\" >Peak chart positions</th>        <th class=\"col_heading level1 col6\" >Peak chart positions</th>        <th class=\"col_heading level1 col7\" >Peak chart positions</th>        <th class=\"col_heading level1 col8\" >Peak chart positions</th>        <th class=\"col_heading level1 col9\" >Peak chart positions</th>        <th class=\"col_heading level1 col10\" >Peak chart positions</th>        <th class=\"col_heading level1 col11\" >Peak chart positions</th>        <th class=\"col_heading level1 col12\" ><a href=\"http://en.wikipedia.org/wiki/Music_recording_sales_certification?curid=308242\">Certifications</a> ( <a href=\"http://en.wikipedia.org/wiki/List_of_music_recording_certifications?curid=17627213\">sales thresholds</a> )</th>    </tr>    <tr>        <th class=\"blank level2\" ></th>        <th class=\"col_heading level2 col0\" >Year</th>        <th class=\"col_heading level2 col1\" >Album details</th>        <th class=\"col_heading level2 col2\" ><a href=\"http://en.wikipedia.org/wiki/UK_Albums_Chart?curid=2465857\">UK</a></th>        <th class=\"col_heading level2 col3\" ><a href=\"http://en.wikipedia.org/wiki/Billboard_200?curid=730350\">US</a></th>        <th class=\"col_heading level2 col4\" ><a href=\"http://en.wikipedia.org/wiki/Kent_Music_Report?curid=8949413\">AUS</a></th>        <th class=\"col_heading level2 col5\" ><a href=\"http://en.wikipedia.org/wiki/Recording_Industry_Association_of_New_Zealand?curid=1588487\">NZ</a></th>        <th class=\"col_heading level2 col6\" ><a href=\"http://en.wikipedia.org/wiki/VG-lista?curid=8262087\">NOR</a></th>        <th class=\"col_heading level2 col7\" ><a href=\"http://en.wikipedia.org/wiki/MegaCharts?curid=6013155\">NLD</a></th>        <th class=\"col_heading level2 col8\" ><a href=\"http://en.wikipedia.org/wiki/SNEP?curid=4565593\">FRA</a></th>        <th class=\"col_heading level2 col9\" ><a href=\"http://en.wikipedia.org/wiki/Sverigetopplistan?curid=11002747\">SWE</a></th>        <th class=\"col_heading level2 col10\" ><a href=\"http://en.wikipedia.org/wiki/Oricon?curid=2758023\">JPN</a></th>        <th class=\"col_heading level2 col11\" ><a href=\"http://en.wikipedia.org/wiki/Media_Control_Charts?curid=6170448\">GER</a></th>        <th class=\"col_heading level2 col12\" ><a href=\"http://en.wikipedia.org/wiki/Music_recording_sales_certification?curid=308242\">Certifications</a> ( <a href=\"http://en.wikipedia.org/wiki/List_of_music_recording_certifications?curid=17627213\">sales thresholds</a> )</th>    </tr></thead><tbody>\n",
       "        </tbody></table>"
      ],
      "text/plain": [
       "<pandas.io.formats.style.Styler at 0x7f5f21be5a50>"
      ]
     },
     "metadata": {},
     "output_type": "display_data"
    },
    {
     "name": "stdout",
     "output_type": "stream",
     "text": [
      "((LinkedString('Year', links=()), LinkedString('Single', links=()), LinkedString('Peak chart positions', links=()), LinkedString('Peak chart positions', links=()), LinkedString('Peak chart positions', links=()), LinkedString('Peak chart positions', links=()), LinkedString('Peak chart positions', links=()), LinkedString('Peak chart positions', links=()), LinkedString('Peak chart positions', links=()), LinkedString('Peak chart positions', links=()), LinkedString('Peak chart positions', links=()), LinkedString('Peak chart positions', links=()), LinkedString('Certifications ( sales thresholds )', links=((0, 14, 'http://en.wikipedia.org/wiki/Music_recording_sales_certification?curid=308242'), (17, 33, 'http://en.wikipedia.org/wiki/List_of_music_recording_sales_certifications?curid=17627213'))), LinkedString('Album', links=())), (LinkedString('Year', links=()), LinkedString('Single', links=()), LinkedString('BEL (Vl)', links=((0, 8, 'http://en.wikipedia.org/wiki/Ultratop_50?curid=6836546'),)), LinkedString('BEL (Wa)', links=((0, 8, 'http://en.wikipedia.org/wiki/Ultratop_50?curid=6836546'),)), LinkedString('CZE', links=((0, 3, 'http://en.wikipedia.org/wiki/Czech_Singles_Chart?curid=33613110'),)), LinkedString('DEN', links=((0, 3, 'http://en.wikipedia.org/wiki/Danish_Singles_Chart?curid=14496566'),)), LinkedString('FRA', links=((0, 3, 'http://en.wikipedia.org/wiki/French_Singles_Chart?curid=4565593'),)), LinkedString('ITA', links=((0, 3, 'http://en.wikipedia.org/wiki/Italian_Singles_Chart?curid=4464404'),)), LinkedString('NED', links=((0, 3, 'http://en.wikipedia.org/wiki/Dutch_Singles_Chart?curid=4685500'),)), LinkedString('SUI', links=((0, 3, 'http://en.wikipedia.org/wiki/Swiss_Singles_Chart?curid=17054761'),)), LinkedString('SVK', links=((0, 3, 'http://en.wikipedia.org/wiki/Slovak_Singles_Chart?curid=33523904'),)), LinkedString('SWE', links=((0, 3, 'http://en.wikipedia.org/wiki/Swedish_Singles_Chart?curid=11002747'),)), LinkedString('Certifications ( sales thresholds )', links=((0, 14, 'http://en.wikipedia.org/wiki/Music_recording_sales_certification?curid=308242'), (17, 33, 'http://en.wikipedia.org/wiki/List_of_music_recording_sales_certifications?curid=17627213'))), LinkedString('Album', links=())))\n",
      "1 (1, 4, 11, 'short-uppercase-acronyms') None None\n"
     ]
    },
    {
     "data": {
      "text/html": [
       "<style  type=\"text/css\" >\n",
       "    #T_9097dbaa_358e_11eb_81c0_00259091f1e8 .col_heading.level0 {\n",
       "          display: none;\n",
       "    }    #T_9097dbaa_358e_11eb_81c0_00259091f1e8 .col_heading.level2.col4 {\n",
       "          background-color: #ff0;\n",
       "    }    #T_9097dbaa_358e_11eb_81c0_00259091f1e8 .col_heading.level2.col5 {\n",
       "          background-color: #ff0;\n",
       "    }    #T_9097dbaa_358e_11eb_81c0_00259091f1e8 .col_heading.level2.col6 {\n",
       "          background-color: #ff0;\n",
       "    }    #T_9097dbaa_358e_11eb_81c0_00259091f1e8 .col_heading.level2.col7 {\n",
       "          background-color: #ff0;\n",
       "    }    #T_9097dbaa_358e_11eb_81c0_00259091f1e8 .col_heading.level2.col8 {\n",
       "          background-color: #ff0;\n",
       "    }    #T_9097dbaa_358e_11eb_81c0_00259091f1e8 .col_heading.level2.col9 {\n",
       "          background-color: #ff0;\n",
       "    }    #T_9097dbaa_358e_11eb_81c0_00259091f1e8 .col_heading.level2.col10 {\n",
       "          background-color: #ff0;\n",
       "    }    #T_9097dbaa_358e_11eb_81c0_00259091f1e8 .col_heading.level2.col11 {\n",
       "          background-color: #ff0;\n",
       "    }</style><table id=\"T_9097dbaa_358e_11eb_81c0_00259091f1e8\" ><thead>    <tr>        <th class=\"blank level0\" ></th>        <th class=\"col_heading level0 col0\" >0</th>        <th class=\"col_heading level0 col1\" >1</th>        <th class=\"col_heading level0 col2\" >2</th>        <th class=\"col_heading level0 col3\" >3</th>        <th class=\"col_heading level0 col4\" >4</th>        <th class=\"col_heading level0 col5\" >5</th>        <th class=\"col_heading level0 col6\" >6</th>        <th class=\"col_heading level0 col7\" >7</th>        <th class=\"col_heading level0 col8\" >8</th>        <th class=\"col_heading level0 col9\" >9</th>        <th class=\"col_heading level0 col10\" >10</th>        <th class=\"col_heading level0 col11\" >11</th>        <th class=\"col_heading level0 col12\" >12</th>        <th class=\"col_heading level0 col13\" >13</th>    </tr>    <tr>        <th class=\"blank level1\" ></th>        <th class=\"col_heading level1 col0\" >Year</th>        <th class=\"col_heading level1 col1\" >Single</th>        <th class=\"col_heading level1 col2\" >Peak chart positions</th>        <th class=\"col_heading level1 col3\" >Peak chart positions</th>        <th class=\"col_heading level1 col4\" >Peak chart positions</th>        <th class=\"col_heading level1 col5\" >Peak chart positions</th>        <th class=\"col_heading level1 col6\" >Peak chart positions</th>        <th class=\"col_heading level1 col7\" >Peak chart positions</th>        <th class=\"col_heading level1 col8\" >Peak chart positions</th>        <th class=\"col_heading level1 col9\" >Peak chart positions</th>        <th class=\"col_heading level1 col10\" >Peak chart positions</th>        <th class=\"col_heading level1 col11\" >Peak chart positions</th>        <th class=\"col_heading level1 col12\" ><a href=\"http://en.wikipedia.org/wiki/Music_recording_sales_certification?curid=308242\">Certifications</a> ( <a href=\"http://en.wikipedia.org/wiki/List_of_music_recording_sales_certifications?curid=17627213\">sales thresholds</a> )</th>        <th class=\"col_heading level1 col13\" >Album</th>    </tr>    <tr>        <th class=\"blank level2\" ></th>        <th class=\"col_heading level2 col0\" >Year</th>        <th class=\"col_heading level2 col1\" >Single</th>        <th class=\"col_heading level2 col2\" ><a href=\"http://en.wikipedia.org/wiki/Ultratop_50?curid=6836546\">BEL (Vl)</a></th>        <th class=\"col_heading level2 col3\" ><a href=\"http://en.wikipedia.org/wiki/Ultratop_50?curid=6836546\">BEL (Wa)</a></th>        <th class=\"col_heading level2 col4\" ><a href=\"http://en.wikipedia.org/wiki/Czech_Singles_Chart?curid=33613110\">CZE</a></th>        <th class=\"col_heading level2 col5\" ><a href=\"http://en.wikipedia.org/wiki/Danish_Singles_Chart?curid=14496566\">DEN</a></th>        <th class=\"col_heading level2 col6\" ><a href=\"http://en.wikipedia.org/wiki/French_Singles_Chart?curid=4565593\">FRA</a></th>        <th class=\"col_heading level2 col7\" ><a href=\"http://en.wikipedia.org/wiki/Italian_Singles_Chart?curid=4464404\">ITA</a></th>        <th class=\"col_heading level2 col8\" ><a href=\"http://en.wikipedia.org/wiki/Dutch_Singles_Chart?curid=4685500\">NED</a></th>        <th class=\"col_heading level2 col9\" ><a href=\"http://en.wikipedia.org/wiki/Swiss_Singles_Chart?curid=17054761\">SUI</a></th>        <th class=\"col_heading level2 col10\" ><a href=\"http://en.wikipedia.org/wiki/Slovak_Singles_Chart?curid=33523904\">SVK</a></th>        <th class=\"col_heading level2 col11\" ><a href=\"http://en.wikipedia.org/wiki/Swedish_Singles_Chart?curid=11002747\">SWE</a></th>        <th class=\"col_heading level2 col12\" ><a href=\"http://en.wikipedia.org/wiki/Music_recording_sales_certification?curid=308242\">Certifications</a> ( <a href=\"http://en.wikipedia.org/wiki/List_of_music_recording_sales_certifications?curid=17627213\">sales thresholds</a> )</th>        <th class=\"col_heading level2 col13\" >Album</th>    </tr></thead><tbody>\n",
       "        </tbody></table>"
      ],
      "text/plain": [
       "<pandas.io.formats.style.Styler at 0x7f5f2816bd90>"
      ]
     },
     "metadata": {},
     "output_type": "display_data"
    },
    {
     "name": "stdout",
     "output_type": "stream",
     "text": [
      "((LinkedString('Player', links=()), LinkedString('GP', links=()), LinkedString('MPG', links=()), LinkedString('FG%', links=()), LinkedString('3FG%', links=()), LinkedString('FT%', links=()), LinkedString('RPG', links=()), LinkedString('APG', links=()), LinkedString('SPG', links=()), LinkedString('BPG', links=()), LinkedString('PPG', links=())),)\n",
      "1 (0, 6, 10, 'short-uppercase-acronyms') None None\n"
     ]
    },
    {
     "data": {
      "text/html": [
       "<style  type=\"text/css\" >\n",
       "    #T_909a66c2_358e_11eb_81c0_00259091f1e8 .col_heading.level0 {\n",
       "          display: none;\n",
       "    }    #T_909a66c2_358e_11eb_81c0_00259091f1e8 .col_heading.level1.col6 {\n",
       "          background-color: #ff0;\n",
       "    }    #T_909a66c2_358e_11eb_81c0_00259091f1e8 .col_heading.level1.col7 {\n",
       "          background-color: #ff0;\n",
       "    }    #T_909a66c2_358e_11eb_81c0_00259091f1e8 .col_heading.level1.col8 {\n",
       "          background-color: #ff0;\n",
       "    }    #T_909a66c2_358e_11eb_81c0_00259091f1e8 .col_heading.level1.col9 {\n",
       "          background-color: #ff0;\n",
       "    }    #T_909a66c2_358e_11eb_81c0_00259091f1e8 .col_heading.level1.col10 {\n",
       "          background-color: #ff0;\n",
       "    }</style><table id=\"T_909a66c2_358e_11eb_81c0_00259091f1e8\" ><thead>    <tr>        <th class=\"blank level0\" ></th>        <th class=\"col_heading level0 col0\" >0</th>        <th class=\"col_heading level0 col1\" >1</th>        <th class=\"col_heading level0 col2\" >2</th>        <th class=\"col_heading level0 col3\" >3</th>        <th class=\"col_heading level0 col4\" >4</th>        <th class=\"col_heading level0 col5\" >5</th>        <th class=\"col_heading level0 col6\" >6</th>        <th class=\"col_heading level0 col7\" >7</th>        <th class=\"col_heading level0 col8\" >8</th>        <th class=\"col_heading level0 col9\" >9</th>        <th class=\"col_heading level0 col10\" >10</th>    </tr>    <tr>        <th class=\"blank level1\" ></th>        <th class=\"col_heading level1 col0\" >Player</th>        <th class=\"col_heading level1 col1\" >GP</th>        <th class=\"col_heading level1 col2\" >MPG</th>        <th class=\"col_heading level1 col3\" >FG%</th>        <th class=\"col_heading level1 col4\" >3FG%</th>        <th class=\"col_heading level1 col5\" >FT%</th>        <th class=\"col_heading level1 col6\" >RPG</th>        <th class=\"col_heading level1 col7\" >APG</th>        <th class=\"col_heading level1 col8\" >SPG</th>        <th class=\"col_heading level1 col9\" >BPG</th>        <th class=\"col_heading level1 col10\" >PPG</th>    </tr></thead><tbody>\n",
       "        </tbody></table>"
      ],
      "text/plain": [
       "<pandas.io.formats.style.Styler at 0x7f5fb1120fd0>"
      ]
     },
     "metadata": {},
     "output_type": "display_data"
    },
    {
     "name": "stdout",
     "output_type": "stream",
     "text": [
      "((LinkedString('Pos', links=()), LinkedString('Driver', links=()), LinkedString('ITA', links=((0, 3, 'http://en.wikipedia.org/wiki/2005_FIA_WTCC_Race_of_Italy?curid=24734358'),)), LinkedString('ITA', links=((0, 3, 'http://en.wikipedia.org/wiki/2005_FIA_WTCC_Race_of_Italy?curid=24734358'),)), LinkedString('FRA', links=((0, 3, 'http://en.wikipedia.org/wiki/2005_FIA_WTCC_Race_of_France?curid=24746890'),)), LinkedString('FRA', links=((0, 3, 'http://en.wikipedia.org/wiki/2005_FIA_WTCC_Race_of_France?curid=24746890'),)), LinkedString('UK', links=((0, 2, 'http://en.wikipedia.org/wiki/2005_FIA_WTCC_Race_of_UK?curid=24811980'),)), LinkedString('UK', links=((0, 2, 'http://en.wikipedia.org/wiki/2005_FIA_WTCC_Race_of_UK?curid=24811980'),)), LinkedString('SMR', links=((0, 3, 'http://en.wikipedia.org/wiki/2005_FIA_WTCC_Race_of_San_Marino?curid=28169269'),)), LinkedString('SMR', links=((0, 3, 'http://en.wikipedia.org/wiki/2005_FIA_WTCC_Race_of_San_Marino?curid=28169269'),)), LinkedString('MEX', links=((0, 3, 'http://en.wikipedia.org/wiki/2005_FIA_WTCC_Race_of_Mexico?curid=31751881'),)), LinkedString('MEX', links=((0, 3, 'http://en.wikipedia.org/wiki/2005_FIA_WTCC_Race_of_Mexico?curid=31751881'),)), LinkedString('BEL', links=((0, 3, 'http://en.wikipedia.org/wiki/2005_FIA_WTCC_Race_of_Belgium?curid=31761364'),)), LinkedString('BEL', links=((0, 3, 'http://en.wikipedia.org/wiki/2005_FIA_WTCC_Race_of_Belgium?curid=31761364'),)), LinkedString('GER', links=((0, 3, 'http://en.wikipedia.org/wiki/2005_FIA_WTCC_Race_of_Germany?curid=31771267'),)), LinkedString('GER', links=((0, 3, 'http://en.wikipedia.org/wiki/2005_FIA_WTCC_Race_of_Germany?curid=31771267'),)), LinkedString('TUR', links=((0, 3, 'http://en.wikipedia.org/wiki/2005_FIA_WTCC_Race_of_Turkey?curid=31780493'),)), LinkedString('TUR', links=((0, 3, 'http://en.wikipedia.org/wiki/2005_FIA_WTCC_Race_of_Turkey?curid=31780493'),)), LinkedString('ESP', links=((0, 3, 'http://en.wikipedia.org/wiki/2005_FIA_WTCC_Race_of_Spain?curid=31790848'),)), LinkedString('ESP', links=((0, 3, 'http://en.wikipedia.org/wiki/2005_FIA_WTCC_Race_of_Spain?curid=31790848'),)), LinkedString('MAC', links=((0, 3, 'http://en.wikipedia.org/wiki/2005_Guia_Race_of_Macau?curid=31802661'),)), LinkedString('MAC', links=((0, 3, 'http://en.wikipedia.org/wiki/2005_Guia_Race_of_Macau?curid=31802661'),)), LinkedString('Pts', links=())),)\n",
      "1 (0, 2, 21, 'short-uppercase-acronyms') None None\n"
     ]
    },
    {
     "data": {
      "text/html": [
       "<style  type=\"text/css\" >\n",
       "    #T_909de568_358e_11eb_81c0_00259091f1e8 .col_heading.level0 {\n",
       "          display: none;\n",
       "    }    #T_909de568_358e_11eb_81c0_00259091f1e8 .col_heading.level1.col2 {\n",
       "          background-color: #ff0;\n",
       "    }    #T_909de568_358e_11eb_81c0_00259091f1e8 .col_heading.level1.col3 {\n",
       "          background-color: #ff0;\n",
       "    }    #T_909de568_358e_11eb_81c0_00259091f1e8 .col_heading.level1.col4 {\n",
       "          background-color: #ff0;\n",
       "    }    #T_909de568_358e_11eb_81c0_00259091f1e8 .col_heading.level1.col5 {\n",
       "          background-color: #ff0;\n",
       "    }    #T_909de568_358e_11eb_81c0_00259091f1e8 .col_heading.level1.col6 {\n",
       "          background-color: #ff0;\n",
       "    }    #T_909de568_358e_11eb_81c0_00259091f1e8 .col_heading.level1.col7 {\n",
       "          background-color: #ff0;\n",
       "    }    #T_909de568_358e_11eb_81c0_00259091f1e8 .col_heading.level1.col8 {\n",
       "          background-color: #ff0;\n",
       "    }    #T_909de568_358e_11eb_81c0_00259091f1e8 .col_heading.level1.col9 {\n",
       "          background-color: #ff0;\n",
       "    }    #T_909de568_358e_11eb_81c0_00259091f1e8 .col_heading.level1.col10 {\n",
       "          background-color: #ff0;\n",
       "    }    #T_909de568_358e_11eb_81c0_00259091f1e8 .col_heading.level1.col11 {\n",
       "          background-color: #ff0;\n",
       "    }    #T_909de568_358e_11eb_81c0_00259091f1e8 .col_heading.level1.col12 {\n",
       "          background-color: #ff0;\n",
       "    }    #T_909de568_358e_11eb_81c0_00259091f1e8 .col_heading.level1.col13 {\n",
       "          background-color: #ff0;\n",
       "    }    #T_909de568_358e_11eb_81c0_00259091f1e8 .col_heading.level1.col14 {\n",
       "          background-color: #ff0;\n",
       "    }    #T_909de568_358e_11eb_81c0_00259091f1e8 .col_heading.level1.col15 {\n",
       "          background-color: #ff0;\n",
       "    }    #T_909de568_358e_11eb_81c0_00259091f1e8 .col_heading.level1.col16 {\n",
       "          background-color: #ff0;\n",
       "    }    #T_909de568_358e_11eb_81c0_00259091f1e8 .col_heading.level1.col17 {\n",
       "          background-color: #ff0;\n",
       "    }    #T_909de568_358e_11eb_81c0_00259091f1e8 .col_heading.level1.col18 {\n",
       "          background-color: #ff0;\n",
       "    }    #T_909de568_358e_11eb_81c0_00259091f1e8 .col_heading.level1.col19 {\n",
       "          background-color: #ff0;\n",
       "    }    #T_909de568_358e_11eb_81c0_00259091f1e8 .col_heading.level1.col20 {\n",
       "          background-color: #ff0;\n",
       "    }    #T_909de568_358e_11eb_81c0_00259091f1e8 .col_heading.level1.col21 {\n",
       "          background-color: #ff0;\n",
       "    }</style><table id=\"T_909de568_358e_11eb_81c0_00259091f1e8\" ><thead>    <tr>        <th class=\"blank level0\" ></th>        <th class=\"col_heading level0 col0\" >0</th>        <th class=\"col_heading level0 col1\" >1</th>        <th class=\"col_heading level0 col2\" >2</th>        <th class=\"col_heading level0 col3\" >3</th>        <th class=\"col_heading level0 col4\" >4</th>        <th class=\"col_heading level0 col5\" >5</th>        <th class=\"col_heading level0 col6\" >6</th>        <th class=\"col_heading level0 col7\" >7</th>        <th class=\"col_heading level0 col8\" >8</th>        <th class=\"col_heading level0 col9\" >9</th>        <th class=\"col_heading level0 col10\" >10</th>        <th class=\"col_heading level0 col11\" >11</th>        <th class=\"col_heading level0 col12\" >12</th>        <th class=\"col_heading level0 col13\" >13</th>        <th class=\"col_heading level0 col14\" >14</th>        <th class=\"col_heading level0 col15\" >15</th>        <th class=\"col_heading level0 col16\" >16</th>        <th class=\"col_heading level0 col17\" >17</th>        <th class=\"col_heading level0 col18\" >18</th>        <th class=\"col_heading level0 col19\" >19</th>        <th class=\"col_heading level0 col20\" >20</th>        <th class=\"col_heading level0 col21\" >21</th>        <th class=\"col_heading level0 col22\" >22</th>    </tr>    <tr>        <th class=\"blank level1\" ></th>        <th class=\"col_heading level1 col0\" >Pos</th>        <th class=\"col_heading level1 col1\" >Driver</th>        <th class=\"col_heading level1 col2\" ><a href=\"http://en.wikipedia.org/wiki/2005_FIA_WTCC_Race_of_Italy?curid=24734358\">ITA</a></th>        <th class=\"col_heading level1 col3\" ><a href=\"http://en.wikipedia.org/wiki/2005_FIA_WTCC_Race_of_Italy?curid=24734358\">ITA</a></th>        <th class=\"col_heading level1 col4\" ><a href=\"http://en.wikipedia.org/wiki/2005_FIA_WTCC_Race_of_France?curid=24746890\">FRA</a></th>        <th class=\"col_heading level1 col5\" ><a href=\"http://en.wikipedia.org/wiki/2005_FIA_WTCC_Race_of_France?curid=24746890\">FRA</a></th>        <th class=\"col_heading level1 col6\" ><a href=\"http://en.wikipedia.org/wiki/2005_FIA_WTCC_Race_of_UK?curid=24811980\">UK</a></th>        <th class=\"col_heading level1 col7\" ><a href=\"http://en.wikipedia.org/wiki/2005_FIA_WTCC_Race_of_UK?curid=24811980\">UK</a></th>        <th class=\"col_heading level1 col8\" ><a href=\"http://en.wikipedia.org/wiki/2005_FIA_WTCC_Race_of_San_Marino?curid=28169269\">SMR</a></th>        <th class=\"col_heading level1 col9\" ><a href=\"http://en.wikipedia.org/wiki/2005_FIA_WTCC_Race_of_San_Marino?curid=28169269\">SMR</a></th>        <th class=\"col_heading level1 col10\" ><a href=\"http://en.wikipedia.org/wiki/2005_FIA_WTCC_Race_of_Mexico?curid=31751881\">MEX</a></th>        <th class=\"col_heading level1 col11\" ><a href=\"http://en.wikipedia.org/wiki/2005_FIA_WTCC_Race_of_Mexico?curid=31751881\">MEX</a></th>        <th class=\"col_heading level1 col12\" ><a href=\"http://en.wikipedia.org/wiki/2005_FIA_WTCC_Race_of_Belgium?curid=31761364\">BEL</a></th>        <th class=\"col_heading level1 col13\" ><a href=\"http://en.wikipedia.org/wiki/2005_FIA_WTCC_Race_of_Belgium?curid=31761364\">BEL</a></th>        <th class=\"col_heading level1 col14\" ><a href=\"http://en.wikipedia.org/wiki/2005_FIA_WTCC_Race_of_Germany?curid=31771267\">GER</a></th>        <th class=\"col_heading level1 col15\" ><a href=\"http://en.wikipedia.org/wiki/2005_FIA_WTCC_Race_of_Germany?curid=31771267\">GER</a></th>        <th class=\"col_heading level1 col16\" ><a href=\"http://en.wikipedia.org/wiki/2005_FIA_WTCC_Race_of_Turkey?curid=31780493\">TUR</a></th>        <th class=\"col_heading level1 col17\" ><a href=\"http://en.wikipedia.org/wiki/2005_FIA_WTCC_Race_of_Turkey?curid=31780493\">TUR</a></th>        <th class=\"col_heading level1 col18\" ><a href=\"http://en.wikipedia.org/wiki/2005_FIA_WTCC_Race_of_Spain?curid=31790848\">ESP</a></th>        <th class=\"col_heading level1 col19\" ><a href=\"http://en.wikipedia.org/wiki/2005_FIA_WTCC_Race_of_Spain?curid=31790848\">ESP</a></th>        <th class=\"col_heading level1 col20\" ><a href=\"http://en.wikipedia.org/wiki/2005_Guia_Race_of_Macau?curid=31802661\">MAC</a></th>        <th class=\"col_heading level1 col21\" ><a href=\"http://en.wikipedia.org/wiki/2005_Guia_Race_of_Macau?curid=31802661\">MAC</a></th>        <th class=\"col_heading level1 col22\" >Pts</th>    </tr></thead><tbody>\n",
       "        </tbody></table>"
      ],
      "text/plain": [
       "<pandas.io.formats.style.Styler at 0x7f5f2811a710>"
      ]
     },
     "metadata": {},
     "output_type": "display_data"
    },
    {
     "name": "stdout",
     "output_type": "stream",
     "text": [
      "((LinkedString('Year', links=()), LinkedString('Title', links=()), LinkedString('Peak chart positions', links=()), LinkedString('Peak chart positions', links=()), LinkedString('Peak chart positions', links=()), LinkedString('Peak chart positions', links=()), LinkedString('Peak chart positions', links=()), LinkedString('Peak chart positions', links=()), LinkedString('Peak chart positions', links=()), LinkedString('Peak chart positions', links=())), (LinkedString('Year', links=()), LinkedString('Title', links=()), LinkedString('AUT', links=((0, 3, 'http://en.wikipedia.org/wiki/Ö3_Austria_Top_40?curid=13757814'),)), LinkedString('FIN', links=((0, 3, 'http://en.wikipedia.org/wiki/Mitä_Hittiä?curid=7824827'),)), LinkedString('FRA', links=((0, 3, \"http://en.wikipedia.org/wiki/Syndicat_National_de_l'Édition_Phonographique?curid=4565593\"),)), LinkedString('GER', links=((0, 3, 'http://en.wikipedia.org/wiki/Media_Control_Charts?curid=6170448'),)), LinkedString('SWE', links=((0, 3, 'http://en.wikipedia.org/wiki/Sverigetopplistan?curid=11002747'),)), LinkedString('SWI', links=((0, 3, 'http://en.wikipedia.org/wiki/Swiss_Music_Charts?curid=17054761'),)), LinkedString('ESP', links=((0, 3, 'http://en.wikipedia.org/wiki/Spanish_Music_Charts'),)), LinkedString('BEL (Wal)', links=((0, 9, 'http://en.wikipedia.org/wiki/Ultrapop'),))))\n",
      "1 (1, 2, 8, 'short-uppercase-acronyms') None None\n"
     ]
    },
    {
     "data": {
      "text/html": [
       "<style  type=\"text/css\" >\n",
       "    #T_90a0dad4_358e_11eb_81c0_00259091f1e8 .col_heading.level0 {\n",
       "          display: none;\n",
       "    }    #T_90a0dad4_358e_11eb_81c0_00259091f1e8 .col_heading.level2.col2 {\n",
       "          background-color: #ff0;\n",
       "    }    #T_90a0dad4_358e_11eb_81c0_00259091f1e8 .col_heading.level2.col3 {\n",
       "          background-color: #ff0;\n",
       "    }    #T_90a0dad4_358e_11eb_81c0_00259091f1e8 .col_heading.level2.col4 {\n",
       "          background-color: #ff0;\n",
       "    }    #T_90a0dad4_358e_11eb_81c0_00259091f1e8 .col_heading.level2.col5 {\n",
       "          background-color: #ff0;\n",
       "    }    #T_90a0dad4_358e_11eb_81c0_00259091f1e8 .col_heading.level2.col6 {\n",
       "          background-color: #ff0;\n",
       "    }    #T_90a0dad4_358e_11eb_81c0_00259091f1e8 .col_heading.level2.col7 {\n",
       "          background-color: #ff0;\n",
       "    }    #T_90a0dad4_358e_11eb_81c0_00259091f1e8 .col_heading.level2.col8 {\n",
       "          background-color: #ff0;\n",
       "    }</style><table id=\"T_90a0dad4_358e_11eb_81c0_00259091f1e8\" ><thead>    <tr>        <th class=\"blank level0\" ></th>        <th class=\"col_heading level0 col0\" >0</th>        <th class=\"col_heading level0 col1\" >1</th>        <th class=\"col_heading level0 col2\" >2</th>        <th class=\"col_heading level0 col3\" >3</th>        <th class=\"col_heading level0 col4\" >4</th>        <th class=\"col_heading level0 col5\" >5</th>        <th class=\"col_heading level0 col6\" >6</th>        <th class=\"col_heading level0 col7\" >7</th>        <th class=\"col_heading level0 col8\" >8</th>        <th class=\"col_heading level0 col9\" >9</th>    </tr>    <tr>        <th class=\"blank level1\" ></th>        <th class=\"col_heading level1 col0\" >Year</th>        <th class=\"col_heading level1 col1\" >Title</th>        <th class=\"col_heading level1 col2\" >Peak chart positions</th>        <th class=\"col_heading level1 col3\" >Peak chart positions</th>        <th class=\"col_heading level1 col4\" >Peak chart positions</th>        <th class=\"col_heading level1 col5\" >Peak chart positions</th>        <th class=\"col_heading level1 col6\" >Peak chart positions</th>        <th class=\"col_heading level1 col7\" >Peak chart positions</th>        <th class=\"col_heading level1 col8\" >Peak chart positions</th>        <th class=\"col_heading level1 col9\" >Peak chart positions</th>    </tr>    <tr>        <th class=\"blank level2\" ></th>        <th class=\"col_heading level2 col0\" >Year</th>        <th class=\"col_heading level2 col1\" >Title</th>        <th class=\"col_heading level2 col2\" ><a href=\"http://en.wikipedia.org/wiki/Ö3_Austria_Top_40?curid=13757814\">AUT</a></th>        <th class=\"col_heading level2 col3\" ><a href=\"http://en.wikipedia.org/wiki/Mitä_Hittiä?curid=7824827\">FIN</a></th>        <th class=\"col_heading level2 col4\" ><a href=\"http://en.wikipedia.org/wiki/Syndicat_National_de_l'Édition_Phonographique?curid=4565593\">FRA</a></th>        <th class=\"col_heading level2 col5\" ><a href=\"http://en.wikipedia.org/wiki/Media_Control_Charts?curid=6170448\">GER</a></th>        <th class=\"col_heading level2 col6\" ><a href=\"http://en.wikipedia.org/wiki/Sverigetopplistan?curid=11002747\">SWE</a></th>        <th class=\"col_heading level2 col7\" ><a href=\"http://en.wikipedia.org/wiki/Swiss_Music_Charts?curid=17054761\">SWI</a></th>        <th class=\"col_heading level2 col8\" ><a href=\"http://en.wikipedia.org/wiki/Spanish_Music_Charts\">ESP</a></th>        <th class=\"col_heading level2 col9\" ><a href=\"http://en.wikipedia.org/wiki/Ultrapop\">BEL (Wal)</a></th>    </tr></thead><tbody>\n",
       "        </tbody></table>"
      ],
      "text/plain": [
       "<pandas.io.formats.style.Styler at 0x7f5f2811a550>"
      ]
     },
     "metadata": {},
     "output_type": "display_data"
    },
    {
     "name": "stdout",
     "output_type": "stream",
     "text": [
      "((LinkedString('Home \\ Away [1 ]', links=()), LinkedString('ATH', links=((0, 3, 'http://en.wikipedia.org/wiki/Athletic_Bilbao?curid=80824'),)), LinkedString('ATM', links=((0, 3, 'http://en.wikipedia.org/wiki/Atlético_Madrid?curid=84197'),)), LinkedString('BAR', links=((0, 3, 'http://en.wikipedia.org/wiki/FC_Barcelona?curid=68187'),)), LinkedString('BET', links=((0, 3, 'http://en.wikipedia.org/wiki/Real_Betis?curid=834322'),)), LinkedString('CEL', links=((0, 3, 'http://en.wikipedia.org/wiki/Celta_de_Vigo?curid=24119395'),)), LinkedString('ALA', links=((0, 3, 'http://en.wikipedia.org/wiki/Deportivo_Alavés?curid=958234'),)), LinkedString('DEP', links=((0, 3, 'http://en.wikipedia.org/wiki/Deportivo_de_La_Coruña?curid=200764'),)), LinkedString('ESP', links=((0, 3, 'http://en.wikipedia.org/wiki/RCD_Espanyol?curid=30875941'),)), LinkedString('MLG', links=((0, 3, 'http://en.wikipedia.org/wiki/Málaga_CF?curid=834335'),)), LinkedString('MLL', links=((0, 3, 'http://en.wikipedia.org/wiki/RCD_Mallorca?curid=322630'),)), LinkedString('NUM', links=((0, 3, 'http://en.wikipedia.org/wiki/CD_Numancia?curid=82773'),)), LinkedString('RAC', links=((0, 3, 'http://en.wikipedia.org/wiki/Racing_de_Santander?curid=7614075'),)), LinkedString('RVA', links=((0, 3, 'http://en.wikipedia.org/wiki/Rayo_Vallecano?curid=958372'),)), LinkedString('RMA', links=((0, 3, 'http://en.wikipedia.org/wiki/Real_Madrid_C.F.?curid=26413'),)), LinkedString('ROV', links=((0, 3, 'http://en.wikipedia.org/wiki/Real_Oviedo?curid=80801'),)), LinkedString('RSO', links=((0, 3, 'http://en.wikipedia.org/wiki/Real_Sociedad?curid=143279'),)), LinkedString('SEV', links=((0, 3, 'http://en.wikipedia.org/wiki/Sevilla_FC?curid=243500'),)), LinkedString('VAL', links=((0, 3, 'http://en.wikipedia.org/wiki/Valencia_CF?curid=32780'),)), LinkedString('VLD', links=((0, 3, 'http://en.wikipedia.org/wiki/Real_Valladolid?curid=295563'),)), LinkedString('ZAR', links=((0, 3, 'http://en.wikipedia.org/wiki/Real_Zaragoza?curid=84496'),))),)\n",
      "1 (0, 1, 20, 'short-uppercase-acronyms') None None\n"
     ]
    },
    {
     "data": {
      "text/html": [
       "<style  type=\"text/css\" >\n",
       "    #T_90a42536_358e_11eb_81c0_00259091f1e8 .col_heading.level0 {\n",
       "          display: none;\n",
       "    }    #T_90a42536_358e_11eb_81c0_00259091f1e8 .col_heading.level1.col1 {\n",
       "          background-color: #ff0;\n",
       "    }    #T_90a42536_358e_11eb_81c0_00259091f1e8 .col_heading.level1.col2 {\n",
       "          background-color: #ff0;\n",
       "    }    #T_90a42536_358e_11eb_81c0_00259091f1e8 .col_heading.level1.col3 {\n",
       "          background-color: #ff0;\n",
       "    }    #T_90a42536_358e_11eb_81c0_00259091f1e8 .col_heading.level1.col4 {\n",
       "          background-color: #ff0;\n",
       "    }    #T_90a42536_358e_11eb_81c0_00259091f1e8 .col_heading.level1.col5 {\n",
       "          background-color: #ff0;\n",
       "    }    #T_90a42536_358e_11eb_81c0_00259091f1e8 .col_heading.level1.col6 {\n",
       "          background-color: #ff0;\n",
       "    }    #T_90a42536_358e_11eb_81c0_00259091f1e8 .col_heading.level1.col7 {\n",
       "          background-color: #ff0;\n",
       "    }    #T_90a42536_358e_11eb_81c0_00259091f1e8 .col_heading.level1.col8 {\n",
       "          background-color: #ff0;\n",
       "    }    #T_90a42536_358e_11eb_81c0_00259091f1e8 .col_heading.level1.col9 {\n",
       "          background-color: #ff0;\n",
       "    }    #T_90a42536_358e_11eb_81c0_00259091f1e8 .col_heading.level1.col10 {\n",
       "          background-color: #ff0;\n",
       "    }    #T_90a42536_358e_11eb_81c0_00259091f1e8 .col_heading.level1.col11 {\n",
       "          background-color: #ff0;\n",
       "    }    #T_90a42536_358e_11eb_81c0_00259091f1e8 .col_heading.level1.col12 {\n",
       "          background-color: #ff0;\n",
       "    }    #T_90a42536_358e_11eb_81c0_00259091f1e8 .col_heading.level1.col13 {\n",
       "          background-color: #ff0;\n",
       "    }    #T_90a42536_358e_11eb_81c0_00259091f1e8 .col_heading.level1.col14 {\n",
       "          background-color: #ff0;\n",
       "    }    #T_90a42536_358e_11eb_81c0_00259091f1e8 .col_heading.level1.col15 {\n",
       "          background-color: #ff0;\n",
       "    }    #T_90a42536_358e_11eb_81c0_00259091f1e8 .col_heading.level1.col16 {\n",
       "          background-color: #ff0;\n",
       "    }    #T_90a42536_358e_11eb_81c0_00259091f1e8 .col_heading.level1.col17 {\n",
       "          background-color: #ff0;\n",
       "    }    #T_90a42536_358e_11eb_81c0_00259091f1e8 .col_heading.level1.col18 {\n",
       "          background-color: #ff0;\n",
       "    }    #T_90a42536_358e_11eb_81c0_00259091f1e8 .col_heading.level1.col19 {\n",
       "          background-color: #ff0;\n",
       "    }    #T_90a42536_358e_11eb_81c0_00259091f1e8 .col_heading.level1.col20 {\n",
       "          background-color: #ff0;\n",
       "    }</style><table id=\"T_90a42536_358e_11eb_81c0_00259091f1e8\" ><thead>    <tr>        <th class=\"blank level0\" ></th>        <th class=\"col_heading level0 col0\" >0</th>        <th class=\"col_heading level0 col1\" >1</th>        <th class=\"col_heading level0 col2\" >2</th>        <th class=\"col_heading level0 col3\" >3</th>        <th class=\"col_heading level0 col4\" >4</th>        <th class=\"col_heading level0 col5\" >5</th>        <th class=\"col_heading level0 col6\" >6</th>        <th class=\"col_heading level0 col7\" >7</th>        <th class=\"col_heading level0 col8\" >8</th>        <th class=\"col_heading level0 col9\" >9</th>        <th class=\"col_heading level0 col10\" >10</th>        <th class=\"col_heading level0 col11\" >11</th>        <th class=\"col_heading level0 col12\" >12</th>        <th class=\"col_heading level0 col13\" >13</th>        <th class=\"col_heading level0 col14\" >14</th>        <th class=\"col_heading level0 col15\" >15</th>        <th class=\"col_heading level0 col16\" >16</th>        <th class=\"col_heading level0 col17\" >17</th>        <th class=\"col_heading level0 col18\" >18</th>        <th class=\"col_heading level0 col19\" >19</th>        <th class=\"col_heading level0 col20\" >20</th>    </tr>    <tr>        <th class=\"blank level1\" ></th>        <th class=\"col_heading level1 col0\" >Home \\ Away [1 ]</th>        <th class=\"col_heading level1 col1\" ><a href=\"http://en.wikipedia.org/wiki/Athletic_Bilbao?curid=80824\">ATH</a></th>        <th class=\"col_heading level1 col2\" ><a href=\"http://en.wikipedia.org/wiki/Atlético_Madrid?curid=84197\">ATM</a></th>        <th class=\"col_heading level1 col3\" ><a href=\"http://en.wikipedia.org/wiki/FC_Barcelona?curid=68187\">BAR</a></th>        <th class=\"col_heading level1 col4\" ><a href=\"http://en.wikipedia.org/wiki/Real_Betis?curid=834322\">BET</a></th>        <th class=\"col_heading level1 col5\" ><a href=\"http://en.wikipedia.org/wiki/Celta_de_Vigo?curid=24119395\">CEL</a></th>        <th class=\"col_heading level1 col6\" ><a href=\"http://en.wikipedia.org/wiki/Deportivo_Alavés?curid=958234\">ALA</a></th>        <th class=\"col_heading level1 col7\" ><a href=\"http://en.wikipedia.org/wiki/Deportivo_de_La_Coruña?curid=200764\">DEP</a></th>        <th class=\"col_heading level1 col8\" ><a href=\"http://en.wikipedia.org/wiki/RCD_Espanyol?curid=30875941\">ESP</a></th>        <th class=\"col_heading level1 col9\" ><a href=\"http://en.wikipedia.org/wiki/Málaga_CF?curid=834335\">MLG</a></th>        <th class=\"col_heading level1 col10\" ><a href=\"http://en.wikipedia.org/wiki/RCD_Mallorca?curid=322630\">MLL</a></th>        <th class=\"col_heading level1 col11\" ><a href=\"http://en.wikipedia.org/wiki/CD_Numancia?curid=82773\">NUM</a></th>        <th class=\"col_heading level1 col12\" ><a href=\"http://en.wikipedia.org/wiki/Racing_de_Santander?curid=7614075\">RAC</a></th>        <th class=\"col_heading level1 col13\" ><a href=\"http://en.wikipedia.org/wiki/Rayo_Vallecano?curid=958372\">RVA</a></th>        <th class=\"col_heading level1 col14\" ><a href=\"http://en.wikipedia.org/wiki/Real_Madrid_C.F.?curid=26413\">RMA</a></th>        <th class=\"col_heading level1 col15\" ><a href=\"http://en.wikipedia.org/wiki/Real_Oviedo?curid=80801\">ROV</a></th>        <th class=\"col_heading level1 col16\" ><a href=\"http://en.wikipedia.org/wiki/Real_Sociedad?curid=143279\">RSO</a></th>        <th class=\"col_heading level1 col17\" ><a href=\"http://en.wikipedia.org/wiki/Sevilla_FC?curid=243500\">SEV</a></th>        <th class=\"col_heading level1 col18\" ><a href=\"http://en.wikipedia.org/wiki/Valencia_CF?curid=32780\">VAL</a></th>        <th class=\"col_heading level1 col19\" ><a href=\"http://en.wikipedia.org/wiki/Real_Valladolid?curid=295563\">VLD</a></th>        <th class=\"col_heading level1 col20\" ><a href=\"http://en.wikipedia.org/wiki/Real_Zaragoza?curid=84496\">ZAR</a></th>    </tr></thead><tbody>\n",
       "        </tbody></table>"
      ],
      "text/plain": [
       "<pandas.io.formats.style.Styler at 0x7f5f2811a190>"
      ]
     },
     "metadata": {},
     "output_type": "display_data"
    },
    {
     "name": "stdout",
     "output_type": "stream",
     "text": [
      "((LinkedString('Pos.', links=()), LinkedString('Rider', links=()), LinkedString('Points', links=()), LinkedString('CZE', links=((0, 3, 'http://en.wikipedia.org/wiki/2000_Speedway_Grand_Prix_of_Czech_Republic?curid=25282226'),)), LinkedString('SWE', links=((0, 3, 'http://en.wikipedia.org/wiki/2000_Speedway_Grand_Prix_of_Sweden?curid=25291684'),)), LinkedString('POL', links=((0, 3, 'http://en.wikipedia.org/wiki/2000_Speedway_Grand_Prix_of_Poland?curid=25291998'),)), LinkedString('GBR', links=((0, 3, 'http://en.wikipedia.org/wiki/2000_Speedway_Grand_Prix_of_Great_Britain?curid=25292225'),)), LinkedString('DEN', links=((0, 3, 'http://en.wikipedia.org/wiki/2000_Speedway_Grand_Prix_of_Denmark?curid=25292520'),)), LinkedString('EUR', links=((0, 3, 'http://en.wikipedia.org/wiki/2000_Speedway_Grand_Prix_of_Europe?curid=25293032'),))),)\n",
      "1 (0, 3, 8, 'short-uppercase-acronyms') None None\n"
     ]
    },
    {
     "data": {
      "text/html": [
       "<style  type=\"text/css\" >\n",
       "    #T_90a704c2_358e_11eb_81c0_00259091f1e8 .col_heading.level0 {\n",
       "          display: none;\n",
       "    }    #T_90a704c2_358e_11eb_81c0_00259091f1e8 .col_heading.level1.col3 {\n",
       "          background-color: #ff0;\n",
       "    }    #T_90a704c2_358e_11eb_81c0_00259091f1e8 .col_heading.level1.col4 {\n",
       "          background-color: #ff0;\n",
       "    }    #T_90a704c2_358e_11eb_81c0_00259091f1e8 .col_heading.level1.col5 {\n",
       "          background-color: #ff0;\n",
       "    }    #T_90a704c2_358e_11eb_81c0_00259091f1e8 .col_heading.level1.col6 {\n",
       "          background-color: #ff0;\n",
       "    }    #T_90a704c2_358e_11eb_81c0_00259091f1e8 .col_heading.level1.col7 {\n",
       "          background-color: #ff0;\n",
       "    }    #T_90a704c2_358e_11eb_81c0_00259091f1e8 .col_heading.level1.col8 {\n",
       "          background-color: #ff0;\n",
       "    }</style><table id=\"T_90a704c2_358e_11eb_81c0_00259091f1e8\" ><thead>    <tr>        <th class=\"blank level0\" ></th>        <th class=\"col_heading level0 col0\" >0</th>        <th class=\"col_heading level0 col1\" >1</th>        <th class=\"col_heading level0 col2\" >2</th>        <th class=\"col_heading level0 col3\" >3</th>        <th class=\"col_heading level0 col4\" >4</th>        <th class=\"col_heading level0 col5\" >5</th>        <th class=\"col_heading level0 col6\" >6</th>        <th class=\"col_heading level0 col7\" >7</th>        <th class=\"col_heading level0 col8\" >8</th>    </tr>    <tr>        <th class=\"blank level1\" ></th>        <th class=\"col_heading level1 col0\" >Pos.</th>        <th class=\"col_heading level1 col1\" >Rider</th>        <th class=\"col_heading level1 col2\" >Points</th>        <th class=\"col_heading level1 col3\" ><a href=\"http://en.wikipedia.org/wiki/2000_Speedway_Grand_Prix_of_Czech_Republic?curid=25282226\">CZE</a></th>        <th class=\"col_heading level1 col4\" ><a href=\"http://en.wikipedia.org/wiki/2000_Speedway_Grand_Prix_of_Sweden?curid=25291684\">SWE</a></th>        <th class=\"col_heading level1 col5\" ><a href=\"http://en.wikipedia.org/wiki/2000_Speedway_Grand_Prix_of_Poland?curid=25291998\">POL</a></th>        <th class=\"col_heading level1 col6\" ><a href=\"http://en.wikipedia.org/wiki/2000_Speedway_Grand_Prix_of_Great_Britain?curid=25292225\">GBR</a></th>        <th class=\"col_heading level1 col7\" ><a href=\"http://en.wikipedia.org/wiki/2000_Speedway_Grand_Prix_of_Denmark?curid=25292520\">DEN</a></th>        <th class=\"col_heading level1 col8\" ><a href=\"http://en.wikipedia.org/wiki/2000_Speedway_Grand_Prix_of_Europe?curid=25293032\">EUR</a></th>    </tr></thead><tbody>\n",
       "        </tbody></table>"
      ],
      "text/plain": [
       "<pandas.io.formats.style.Styler at 0x7f5f28120fd0>"
      ]
     },
     "metadata": {},
     "output_type": "display_data"
    },
    {
     "name": "stdout",
     "output_type": "stream",
     "text": [
      "((LinkedString('Date', links=()), LinkedString('Name', links=()), LinkedString('JHR', links=((0, 3, 'http://en.wikipedia.org/wiki/Johor?curid=26301463'),)), LinkedString('KDH', links=((0, 3, 'http://en.wikipedia.org/wiki/Kedah?curid=336694'),)), LinkedString('KTN', links=((0, 3, 'http://en.wikipedia.org/wiki/Kelantan?curid=288480'),)), LinkedString('KUL', links=((0, 3, 'http://en.wikipedia.org/wiki/Kuala_Lumpur?curid=16854'),)), LinkedString('LBN', links=((0, 3, 'http://en.wikipedia.org/wiki/Labuan_Territory?curid=369717'),)), LinkedString('MLK', links=((0, 3, 'http://en.wikipedia.org/wiki/Malacca?curid=33588423'),)), LinkedString('NSN', links=((0, 3, 'http://en.wikipedia.org/wiki/Negeri_Sembilan?curid=376437'),)), LinkedString('PHG', links=((0, 3, 'http://en.wikipedia.org/wiki/Pahang?curid=87900'),)), LinkedString('PNG', links=((0, 3, 'http://en.wikipedia.org/wiki/Penang?curid=59575'),)), LinkedString('PRK', links=((0, 3, 'http://en.wikipedia.org/wiki/Perak?curid=163306'),)), LinkedString('PRS', links=((0, 3, 'http://en.wikipedia.org/wiki/Perlis?curid=315844'),)), LinkedString('PJY', links=((0, 3, 'http://en.wikipedia.org/wiki/Putrajaya?curid=59569'),)), LinkedString('SBH', links=((0, 3, 'http://en.wikipedia.org/wiki/Sabah?curid=28678'),)), LinkedString('SGR', links=((0, 3, 'http://en.wikipedia.org/wiki/Selangor?curid=236714'),)), LinkedString('SRW', links=((0, 3, 'http://en.wikipedia.org/wiki/Sarawak?curid=28258'),)), LinkedString('TRG', links=((0, 3, 'http://en.wikipedia.org/wiki/Terengganu?curid=376431'),))),)\n",
      "1 (0, 2, 17, 'short-uppercase-acronyms') None None\n"
     ]
    },
    {
     "data": {
      "text/html": [
       "<style  type=\"text/css\" >\n",
       "    #T_90aa1a2c_358e_11eb_81c0_00259091f1e8 .col_heading.level0 {\n",
       "          display: none;\n",
       "    }    #T_90aa1a2c_358e_11eb_81c0_00259091f1e8 .col_heading.level1.col2 {\n",
       "          background-color: #ff0;\n",
       "    }    #T_90aa1a2c_358e_11eb_81c0_00259091f1e8 .col_heading.level1.col3 {\n",
       "          background-color: #ff0;\n",
       "    }    #T_90aa1a2c_358e_11eb_81c0_00259091f1e8 .col_heading.level1.col4 {\n",
       "          background-color: #ff0;\n",
       "    }    #T_90aa1a2c_358e_11eb_81c0_00259091f1e8 .col_heading.level1.col5 {\n",
       "          background-color: #ff0;\n",
       "    }    #T_90aa1a2c_358e_11eb_81c0_00259091f1e8 .col_heading.level1.col6 {\n",
       "          background-color: #ff0;\n",
       "    }    #T_90aa1a2c_358e_11eb_81c0_00259091f1e8 .col_heading.level1.col7 {\n",
       "          background-color: #ff0;\n",
       "    }    #T_90aa1a2c_358e_11eb_81c0_00259091f1e8 .col_heading.level1.col8 {\n",
       "          background-color: #ff0;\n",
       "    }    #T_90aa1a2c_358e_11eb_81c0_00259091f1e8 .col_heading.level1.col9 {\n",
       "          background-color: #ff0;\n",
       "    }    #T_90aa1a2c_358e_11eb_81c0_00259091f1e8 .col_heading.level1.col10 {\n",
       "          background-color: #ff0;\n",
       "    }    #T_90aa1a2c_358e_11eb_81c0_00259091f1e8 .col_heading.level1.col11 {\n",
       "          background-color: #ff0;\n",
       "    }    #T_90aa1a2c_358e_11eb_81c0_00259091f1e8 .col_heading.level1.col12 {\n",
       "          background-color: #ff0;\n",
       "    }    #T_90aa1a2c_358e_11eb_81c0_00259091f1e8 .col_heading.level1.col13 {\n",
       "          background-color: #ff0;\n",
       "    }    #T_90aa1a2c_358e_11eb_81c0_00259091f1e8 .col_heading.level1.col14 {\n",
       "          background-color: #ff0;\n",
       "    }    #T_90aa1a2c_358e_11eb_81c0_00259091f1e8 .col_heading.level1.col15 {\n",
       "          background-color: #ff0;\n",
       "    }    #T_90aa1a2c_358e_11eb_81c0_00259091f1e8 .col_heading.level1.col16 {\n",
       "          background-color: #ff0;\n",
       "    }    #T_90aa1a2c_358e_11eb_81c0_00259091f1e8 .col_heading.level1.col17 {\n",
       "          background-color: #ff0;\n",
       "    }</style><table id=\"T_90aa1a2c_358e_11eb_81c0_00259091f1e8\" ><thead>    <tr>        <th class=\"blank level0\" ></th>        <th class=\"col_heading level0 col0\" >0</th>        <th class=\"col_heading level0 col1\" >1</th>        <th class=\"col_heading level0 col2\" >2</th>        <th class=\"col_heading level0 col3\" >3</th>        <th class=\"col_heading level0 col4\" >4</th>        <th class=\"col_heading level0 col5\" >5</th>        <th class=\"col_heading level0 col6\" >6</th>        <th class=\"col_heading level0 col7\" >7</th>        <th class=\"col_heading level0 col8\" >8</th>        <th class=\"col_heading level0 col9\" >9</th>        <th class=\"col_heading level0 col10\" >10</th>        <th class=\"col_heading level0 col11\" >11</th>        <th class=\"col_heading level0 col12\" >12</th>        <th class=\"col_heading level0 col13\" >13</th>        <th class=\"col_heading level0 col14\" >14</th>        <th class=\"col_heading level0 col15\" >15</th>        <th class=\"col_heading level0 col16\" >16</th>        <th class=\"col_heading level0 col17\" >17</th>    </tr>    <tr>        <th class=\"blank level1\" ></th>        <th class=\"col_heading level1 col0\" >Date</th>        <th class=\"col_heading level1 col1\" >Name</th>        <th class=\"col_heading level1 col2\" ><a href=\"http://en.wikipedia.org/wiki/Johor?curid=26301463\">JHR</a></th>        <th class=\"col_heading level1 col3\" ><a href=\"http://en.wikipedia.org/wiki/Kedah?curid=336694\">KDH</a></th>        <th class=\"col_heading level1 col4\" ><a href=\"http://en.wikipedia.org/wiki/Kelantan?curid=288480\">KTN</a></th>        <th class=\"col_heading level1 col5\" ><a href=\"http://en.wikipedia.org/wiki/Kuala_Lumpur?curid=16854\">KUL</a></th>        <th class=\"col_heading level1 col6\" ><a href=\"http://en.wikipedia.org/wiki/Labuan_Territory?curid=369717\">LBN</a></th>        <th class=\"col_heading level1 col7\" ><a href=\"http://en.wikipedia.org/wiki/Malacca?curid=33588423\">MLK</a></th>        <th class=\"col_heading level1 col8\" ><a href=\"http://en.wikipedia.org/wiki/Negeri_Sembilan?curid=376437\">NSN</a></th>        <th class=\"col_heading level1 col9\" ><a href=\"http://en.wikipedia.org/wiki/Pahang?curid=87900\">PHG</a></th>        <th class=\"col_heading level1 col10\" ><a href=\"http://en.wikipedia.org/wiki/Penang?curid=59575\">PNG</a></th>        <th class=\"col_heading level1 col11\" ><a href=\"http://en.wikipedia.org/wiki/Perak?curid=163306\">PRK</a></th>        <th class=\"col_heading level1 col12\" ><a href=\"http://en.wikipedia.org/wiki/Perlis?curid=315844\">PRS</a></th>        <th class=\"col_heading level1 col13\" ><a href=\"http://en.wikipedia.org/wiki/Putrajaya?curid=59569\">PJY</a></th>        <th class=\"col_heading level1 col14\" ><a href=\"http://en.wikipedia.org/wiki/Sabah?curid=28678\">SBH</a></th>        <th class=\"col_heading level1 col15\" ><a href=\"http://en.wikipedia.org/wiki/Selangor?curid=236714\">SGR</a></th>        <th class=\"col_heading level1 col16\" ><a href=\"http://en.wikipedia.org/wiki/Sarawak?curid=28258\">SRW</a></th>        <th class=\"col_heading level1 col17\" ><a href=\"http://en.wikipedia.org/wiki/Terengganu?curid=376431\">TRG</a></th>    </tr></thead><tbody>\n",
       "        </tbody></table>"
      ],
      "text/plain": [
       "<pandas.io.formats.style.Styler at 0x7f5f2810f550>"
      ]
     },
     "metadata": {},
     "output_type": "display_data"
    },
    {
     "name": "stdout",
     "output_type": "stream",
     "text": [
      "((LinkedString('', links=()), LinkedString('AGO', links=((0, 3, 'http://en.wikipedia.org/wiki/AGOVV_Apeldoorn?curid=2140032'),)), LinkedString('CAM', links=((0, 3, 'http://en.wikipedia.org/wiki/Cambuur_Leeuwarden?curid=448135'),)), LinkedString('DBO', links=((0, 3, 'http://en.wikipedia.org/wiki/FC_Den_Bosch?curid=11407'),)), LinkedString('DOR', links=((0, 3, 'http://en.wikipedia.org/wiki/FC_Dordrecht?curid=2200822'),)), LinkedString('EIN', links=((0, 3, 'http://en.wikipedia.org/wiki/FC_Eindhoven?curid=2201086'),)), LinkedString('EMM', links=((0, 3, 'http://en.wikipedia.org/wiki/FC_Emmen?curid=2152050'),)), LinkedString('FOR', links=((0, 3, 'http://en.wikipedia.org/wiki/Fortuna_Sittard?curid=1336325'),)), LinkedString('GAE', links=((0, 3, 'http://en.wikipedia.org/wiki/Go_Ahead_Eagles?curid=1926859'),)), LinkedString('GRA', links=((0, 3, 'http://en.wikipedia.org/wiki/De_Graafschap?curid=1218784'),)), LinkedString('HAA', links=((0, 3, 'http://en.wikipedia.org/wiki/HFC_Haarlem?curid=2173100'),)), LinkedString('HEL', links=((0, 3, 'http://en.wikipedia.org/wiki/Helmond_Sport?curid=2172924'),)), LinkedString('MVV', links=((0, 3, 'http://en.wikipedia.org/wiki/MVV_Maastricht?curid=1766663'),)), LinkedString('OMN', links=((0, 3, 'http://en.wikipedia.org/wiki/FC_Omniworld?curid=2169767'),)), LinkedString('RBC', links=((0, 3, 'http://en.wikipedia.org/wiki/RBC_Roosendaal?curid=1218846'),)), LinkedString('STO', links=((0, 3, 'http://en.wikipedia.org/wiki/Stormvogels_Telstar?curid=1016387'),)), LinkedString('TOP', links=((0, 3, 'http://en.wikipedia.org/wiki/TOP_Oss?curid=1193665'),)), LinkedString('VEE', links=((0, 3, 'http://en.wikipedia.org/wiki/BV_Veendam?curid=2195975'),)), LinkedString('VOL', links=((0, 3, 'http://en.wikipedia.org/wiki/FC_Volendam?curid=2202202'),)), LinkedString('VVV', links=((0, 3, 'http://en.wikipedia.org/wiki/VVV-Venlo?curid=2202473'),)), LinkedString('ZWO', links=((0, 3, 'http://en.wikipedia.org/wiki/FC_Zwolle?curid=876200'),))),)\n",
      "1 (0, 1, 20, 'short-uppercase-acronyms') None None\n"
     ]
    },
    {
     "data": {
      "text/html": [
       "<style  type=\"text/css\" >\n",
       "    #T_90ad40d0_358e_11eb_81c0_00259091f1e8 .col_heading.level0 {\n",
       "          display: none;\n",
       "    }    #T_90ad40d0_358e_11eb_81c0_00259091f1e8 .col_heading.level1.col1 {\n",
       "          background-color: #ff0;\n",
       "    }    #T_90ad40d0_358e_11eb_81c0_00259091f1e8 .col_heading.level1.col2 {\n",
       "          background-color: #ff0;\n",
       "    }    #T_90ad40d0_358e_11eb_81c0_00259091f1e8 .col_heading.level1.col3 {\n",
       "          background-color: #ff0;\n",
       "    }    #T_90ad40d0_358e_11eb_81c0_00259091f1e8 .col_heading.level1.col4 {\n",
       "          background-color: #ff0;\n",
       "    }    #T_90ad40d0_358e_11eb_81c0_00259091f1e8 .col_heading.level1.col5 {\n",
       "          background-color: #ff0;\n",
       "    }    #T_90ad40d0_358e_11eb_81c0_00259091f1e8 .col_heading.level1.col6 {\n",
       "          background-color: #ff0;\n",
       "    }    #T_90ad40d0_358e_11eb_81c0_00259091f1e8 .col_heading.level1.col7 {\n",
       "          background-color: #ff0;\n",
       "    }    #T_90ad40d0_358e_11eb_81c0_00259091f1e8 .col_heading.level1.col8 {\n",
       "          background-color: #ff0;\n",
       "    }    #T_90ad40d0_358e_11eb_81c0_00259091f1e8 .col_heading.level1.col9 {\n",
       "          background-color: #ff0;\n",
       "    }    #T_90ad40d0_358e_11eb_81c0_00259091f1e8 .col_heading.level1.col10 {\n",
       "          background-color: #ff0;\n",
       "    }    #T_90ad40d0_358e_11eb_81c0_00259091f1e8 .col_heading.level1.col11 {\n",
       "          background-color: #ff0;\n",
       "    }    #T_90ad40d0_358e_11eb_81c0_00259091f1e8 .col_heading.level1.col12 {\n",
       "          background-color: #ff0;\n",
       "    }    #T_90ad40d0_358e_11eb_81c0_00259091f1e8 .col_heading.level1.col13 {\n",
       "          background-color: #ff0;\n",
       "    }    #T_90ad40d0_358e_11eb_81c0_00259091f1e8 .col_heading.level1.col14 {\n",
       "          background-color: #ff0;\n",
       "    }    #T_90ad40d0_358e_11eb_81c0_00259091f1e8 .col_heading.level1.col15 {\n",
       "          background-color: #ff0;\n",
       "    }    #T_90ad40d0_358e_11eb_81c0_00259091f1e8 .col_heading.level1.col16 {\n",
       "          background-color: #ff0;\n",
       "    }    #T_90ad40d0_358e_11eb_81c0_00259091f1e8 .col_heading.level1.col17 {\n",
       "          background-color: #ff0;\n",
       "    }    #T_90ad40d0_358e_11eb_81c0_00259091f1e8 .col_heading.level1.col18 {\n",
       "          background-color: #ff0;\n",
       "    }    #T_90ad40d0_358e_11eb_81c0_00259091f1e8 .col_heading.level1.col19 {\n",
       "          background-color: #ff0;\n",
       "    }    #T_90ad40d0_358e_11eb_81c0_00259091f1e8 .col_heading.level1.col20 {\n",
       "          background-color: #ff0;\n",
       "    }</style><table id=\"T_90ad40d0_358e_11eb_81c0_00259091f1e8\" ><thead>    <tr>        <th class=\"blank level0\" ></th>        <th class=\"col_heading level0 col0\" >0</th>        <th class=\"col_heading level0 col1\" >1</th>        <th class=\"col_heading level0 col2\" >2</th>        <th class=\"col_heading level0 col3\" >3</th>        <th class=\"col_heading level0 col4\" >4</th>        <th class=\"col_heading level0 col5\" >5</th>        <th class=\"col_heading level0 col6\" >6</th>        <th class=\"col_heading level0 col7\" >7</th>        <th class=\"col_heading level0 col8\" >8</th>        <th class=\"col_heading level0 col9\" >9</th>        <th class=\"col_heading level0 col10\" >10</th>        <th class=\"col_heading level0 col11\" >11</th>        <th class=\"col_heading level0 col12\" >12</th>        <th class=\"col_heading level0 col13\" >13</th>        <th class=\"col_heading level0 col14\" >14</th>        <th class=\"col_heading level0 col15\" >15</th>        <th class=\"col_heading level0 col16\" >16</th>        <th class=\"col_heading level0 col17\" >17</th>        <th class=\"col_heading level0 col18\" >18</th>        <th class=\"col_heading level0 col19\" >19</th>        <th class=\"col_heading level0 col20\" >20</th>    </tr>    <tr>        <th class=\"blank level1\" ></th>        <th class=\"col_heading level1 col0\" ></th>        <th class=\"col_heading level1 col1\" ><a href=\"http://en.wikipedia.org/wiki/AGOVV_Apeldoorn?curid=2140032\">AGO</a></th>        <th class=\"col_heading level1 col2\" ><a href=\"http://en.wikipedia.org/wiki/Cambuur_Leeuwarden?curid=448135\">CAM</a></th>        <th class=\"col_heading level1 col3\" ><a href=\"http://en.wikipedia.org/wiki/FC_Den_Bosch?curid=11407\">DBO</a></th>        <th class=\"col_heading level1 col4\" ><a href=\"http://en.wikipedia.org/wiki/FC_Dordrecht?curid=2200822\">DOR</a></th>        <th class=\"col_heading level1 col5\" ><a href=\"http://en.wikipedia.org/wiki/FC_Eindhoven?curid=2201086\">EIN</a></th>        <th class=\"col_heading level1 col6\" ><a href=\"http://en.wikipedia.org/wiki/FC_Emmen?curid=2152050\">EMM</a></th>        <th class=\"col_heading level1 col7\" ><a href=\"http://en.wikipedia.org/wiki/Fortuna_Sittard?curid=1336325\">FOR</a></th>        <th class=\"col_heading level1 col8\" ><a href=\"http://en.wikipedia.org/wiki/Go_Ahead_Eagles?curid=1926859\">GAE</a></th>        <th class=\"col_heading level1 col9\" ><a href=\"http://en.wikipedia.org/wiki/De_Graafschap?curid=1218784\">GRA</a></th>        <th class=\"col_heading level1 col10\" ><a href=\"http://en.wikipedia.org/wiki/HFC_Haarlem?curid=2173100\">HAA</a></th>        <th class=\"col_heading level1 col11\" ><a href=\"http://en.wikipedia.org/wiki/Helmond_Sport?curid=2172924\">HEL</a></th>        <th class=\"col_heading level1 col12\" ><a href=\"http://en.wikipedia.org/wiki/MVV_Maastricht?curid=1766663\">MVV</a></th>        <th class=\"col_heading level1 col13\" ><a href=\"http://en.wikipedia.org/wiki/FC_Omniworld?curid=2169767\">OMN</a></th>        <th class=\"col_heading level1 col14\" ><a href=\"http://en.wikipedia.org/wiki/RBC_Roosendaal?curid=1218846\">RBC</a></th>        <th class=\"col_heading level1 col15\" ><a href=\"http://en.wikipedia.org/wiki/Stormvogels_Telstar?curid=1016387\">STO</a></th>        <th class=\"col_heading level1 col16\" ><a href=\"http://en.wikipedia.org/wiki/TOP_Oss?curid=1193665\">TOP</a></th>        <th class=\"col_heading level1 col17\" ><a href=\"http://en.wikipedia.org/wiki/BV_Veendam?curid=2195975\">VEE</a></th>        <th class=\"col_heading level1 col18\" ><a href=\"http://en.wikipedia.org/wiki/FC_Volendam?curid=2202202\">VOL</a></th>        <th class=\"col_heading level1 col19\" ><a href=\"http://en.wikipedia.org/wiki/VVV-Venlo?curid=2202473\">VVV</a></th>        <th class=\"col_heading level1 col20\" ><a href=\"http://en.wikipedia.org/wiki/FC_Zwolle?curid=876200\">ZWO</a></th>    </tr></thead><tbody>\n",
       "        </tbody></table>"
      ],
      "text/plain": [
       "<pandas.io.formats.style.Styler at 0x7f5f22164050>"
      ]
     },
     "metadata": {},
     "output_type": "display_data"
    },
    {
     "name": "stdout",
     "output_type": "stream",
     "text": [
      "((LinkedString('Home \\ Away [1 ]', links=()), LinkedString('ATH', links=((0, 3, 'http://en.wikipedia.org/wiki/Athletic_Bilbao?curid=80824'),)), LinkedString('ATM', links=((0, 3, 'http://en.wikipedia.org/wiki/Atlético_Madrid?curid=84197'),)), LinkedString('BAR', links=((0, 3, 'http://en.wikipedia.org/wiki/FC_Barcelona?curid=68187'),)), LinkedString('BET', links=((0, 3, 'http://en.wikipedia.org/wiki/Real_Betis?curid=834322'),)), LinkedString('CEL', links=((0, 3, 'http://en.wikipedia.org/wiki/Celta_de_Vigo?curid=24119395'),)), LinkedString('COM', links=((0, 3, 'http://en.wikipedia.org/wiki/SD_Compostela?curid=7940435'),)), LinkedString('DEP', links=((0, 3, 'http://en.wikipedia.org/wiki/Deportivo_de_La_Coruña?curid=200764'),)), LinkedString('ESP', links=((0, 3, 'http://en.wikipedia.org/wiki/RCD_Espanyol?curid=30875941'),)), LinkedString('MLL', links=((0, 3, 'http://en.wikipedia.org/wiki/RCD_Mallorca?curid=322630'),)), LinkedString('MER', links=((0, 3, 'http://en.wikipedia.org/wiki/CP_Mérida?curid=9205605'),)), LinkedString('RAC', links=((0, 3, 'http://en.wikipedia.org/wiki/Racing_de_Santander?curid=7614075'),)), LinkedString('RMA', links=((0, 3, 'http://en.wikipedia.org/wiki/Real_Madrid_C.F.?curid=26413'),)), LinkedString('ROV', links=((0, 3, 'http://en.wikipedia.org/wiki/Real_Oviedo?curid=80801'),)), LinkedString('RSO', links=((0, 3, 'http://en.wikipedia.org/wiki/Real_Sociedad?curid=143279'),)), LinkedString('SAL', links=((0, 3, 'http://en.wikipedia.org/wiki/UD_Salamanca?curid=24102765'),)), LinkedString('SPG', links=((0, 3, 'http://en.wikipedia.org/wiki/Sporting_de_Gijón?curid=79943'),)), LinkedString('TEN', links=((0, 3, 'http://en.wikipedia.org/wiki/CD_Tenerife?curid=1769413'),)), LinkedString('VAL', links=((0, 3, 'http://en.wikipedia.org/wiki/Valencia_CF?curid=32780'),)), LinkedString('VLD', links=((0, 3, 'http://en.wikipedia.org/wiki/Real_Valladolid?curid=295563'),)), LinkedString('ZAR', links=((0, 3, 'http://en.wikipedia.org/wiki/Real_Zaragoza?curid=84496'),))),)\n",
      "1 (0, 1, 20, 'short-uppercase-acronyms') None None\n"
     ]
    },
    {
     "data": {
      "text/html": [
       "<style  type=\"text/css\" >\n",
       "    #T_90b0fcb6_358e_11eb_81c0_00259091f1e8 .col_heading.level0 {\n",
       "          display: none;\n",
       "    }    #T_90b0fcb6_358e_11eb_81c0_00259091f1e8 .col_heading.level1.col1 {\n",
       "          background-color: #ff0;\n",
       "    }    #T_90b0fcb6_358e_11eb_81c0_00259091f1e8 .col_heading.level1.col2 {\n",
       "          background-color: #ff0;\n",
       "    }    #T_90b0fcb6_358e_11eb_81c0_00259091f1e8 .col_heading.level1.col3 {\n",
       "          background-color: #ff0;\n",
       "    }    #T_90b0fcb6_358e_11eb_81c0_00259091f1e8 .col_heading.level1.col4 {\n",
       "          background-color: #ff0;\n",
       "    }    #T_90b0fcb6_358e_11eb_81c0_00259091f1e8 .col_heading.level1.col5 {\n",
       "          background-color: #ff0;\n",
       "    }    #T_90b0fcb6_358e_11eb_81c0_00259091f1e8 .col_heading.level1.col6 {\n",
       "          background-color: #ff0;\n",
       "    }    #T_90b0fcb6_358e_11eb_81c0_00259091f1e8 .col_heading.level1.col7 {\n",
       "          background-color: #ff0;\n",
       "    }    #T_90b0fcb6_358e_11eb_81c0_00259091f1e8 .col_heading.level1.col8 {\n",
       "          background-color: #ff0;\n",
       "    }    #T_90b0fcb6_358e_11eb_81c0_00259091f1e8 .col_heading.level1.col9 {\n",
       "          background-color: #ff0;\n",
       "    }    #T_90b0fcb6_358e_11eb_81c0_00259091f1e8 .col_heading.level1.col10 {\n",
       "          background-color: #ff0;\n",
       "    }    #T_90b0fcb6_358e_11eb_81c0_00259091f1e8 .col_heading.level1.col11 {\n",
       "          background-color: #ff0;\n",
       "    }    #T_90b0fcb6_358e_11eb_81c0_00259091f1e8 .col_heading.level1.col12 {\n",
       "          background-color: #ff0;\n",
       "    }    #T_90b0fcb6_358e_11eb_81c0_00259091f1e8 .col_heading.level1.col13 {\n",
       "          background-color: #ff0;\n",
       "    }    #T_90b0fcb6_358e_11eb_81c0_00259091f1e8 .col_heading.level1.col14 {\n",
       "          background-color: #ff0;\n",
       "    }    #T_90b0fcb6_358e_11eb_81c0_00259091f1e8 .col_heading.level1.col15 {\n",
       "          background-color: #ff0;\n",
       "    }    #T_90b0fcb6_358e_11eb_81c0_00259091f1e8 .col_heading.level1.col16 {\n",
       "          background-color: #ff0;\n",
       "    }    #T_90b0fcb6_358e_11eb_81c0_00259091f1e8 .col_heading.level1.col17 {\n",
       "          background-color: #ff0;\n",
       "    }    #T_90b0fcb6_358e_11eb_81c0_00259091f1e8 .col_heading.level1.col18 {\n",
       "          background-color: #ff0;\n",
       "    }    #T_90b0fcb6_358e_11eb_81c0_00259091f1e8 .col_heading.level1.col19 {\n",
       "          background-color: #ff0;\n",
       "    }    #T_90b0fcb6_358e_11eb_81c0_00259091f1e8 .col_heading.level1.col20 {\n",
       "          background-color: #ff0;\n",
       "    }</style><table id=\"T_90b0fcb6_358e_11eb_81c0_00259091f1e8\" ><thead>    <tr>        <th class=\"blank level0\" ></th>        <th class=\"col_heading level0 col0\" >0</th>        <th class=\"col_heading level0 col1\" >1</th>        <th class=\"col_heading level0 col2\" >2</th>        <th class=\"col_heading level0 col3\" >3</th>        <th class=\"col_heading level0 col4\" >4</th>        <th class=\"col_heading level0 col5\" >5</th>        <th class=\"col_heading level0 col6\" >6</th>        <th class=\"col_heading level0 col7\" >7</th>        <th class=\"col_heading level0 col8\" >8</th>        <th class=\"col_heading level0 col9\" >9</th>        <th class=\"col_heading level0 col10\" >10</th>        <th class=\"col_heading level0 col11\" >11</th>        <th class=\"col_heading level0 col12\" >12</th>        <th class=\"col_heading level0 col13\" >13</th>        <th class=\"col_heading level0 col14\" >14</th>        <th class=\"col_heading level0 col15\" >15</th>        <th class=\"col_heading level0 col16\" >16</th>        <th class=\"col_heading level0 col17\" >17</th>        <th class=\"col_heading level0 col18\" >18</th>        <th class=\"col_heading level0 col19\" >19</th>        <th class=\"col_heading level0 col20\" >20</th>    </tr>    <tr>        <th class=\"blank level1\" ></th>        <th class=\"col_heading level1 col0\" >Home \\ Away [1 ]</th>        <th class=\"col_heading level1 col1\" ><a href=\"http://en.wikipedia.org/wiki/Athletic_Bilbao?curid=80824\">ATH</a></th>        <th class=\"col_heading level1 col2\" ><a href=\"http://en.wikipedia.org/wiki/Atlético_Madrid?curid=84197\">ATM</a></th>        <th class=\"col_heading level1 col3\" ><a href=\"http://en.wikipedia.org/wiki/FC_Barcelona?curid=68187\">BAR</a></th>        <th class=\"col_heading level1 col4\" ><a href=\"http://en.wikipedia.org/wiki/Real_Betis?curid=834322\">BET</a></th>        <th class=\"col_heading level1 col5\" ><a href=\"http://en.wikipedia.org/wiki/Celta_de_Vigo?curid=24119395\">CEL</a></th>        <th class=\"col_heading level1 col6\" ><a href=\"http://en.wikipedia.org/wiki/SD_Compostela?curid=7940435\">COM</a></th>        <th class=\"col_heading level1 col7\" ><a href=\"http://en.wikipedia.org/wiki/Deportivo_de_La_Coruña?curid=200764\">DEP</a></th>        <th class=\"col_heading level1 col8\" ><a href=\"http://en.wikipedia.org/wiki/RCD_Espanyol?curid=30875941\">ESP</a></th>        <th class=\"col_heading level1 col9\" ><a href=\"http://en.wikipedia.org/wiki/RCD_Mallorca?curid=322630\">MLL</a></th>        <th class=\"col_heading level1 col10\" ><a href=\"http://en.wikipedia.org/wiki/CP_Mérida?curid=9205605\">MER</a></th>        <th class=\"col_heading level1 col11\" ><a href=\"http://en.wikipedia.org/wiki/Racing_de_Santander?curid=7614075\">RAC</a></th>        <th class=\"col_heading level1 col12\" ><a href=\"http://en.wikipedia.org/wiki/Real_Madrid_C.F.?curid=26413\">RMA</a></th>        <th class=\"col_heading level1 col13\" ><a href=\"http://en.wikipedia.org/wiki/Real_Oviedo?curid=80801\">ROV</a></th>        <th class=\"col_heading level1 col14\" ><a href=\"http://en.wikipedia.org/wiki/Real_Sociedad?curid=143279\">RSO</a></th>        <th class=\"col_heading level1 col15\" ><a href=\"http://en.wikipedia.org/wiki/UD_Salamanca?curid=24102765\">SAL</a></th>        <th class=\"col_heading level1 col16\" ><a href=\"http://en.wikipedia.org/wiki/Sporting_de_Gijón?curid=79943\">SPG</a></th>        <th class=\"col_heading level1 col17\" ><a href=\"http://en.wikipedia.org/wiki/CD_Tenerife?curid=1769413\">TEN</a></th>        <th class=\"col_heading level1 col18\" ><a href=\"http://en.wikipedia.org/wiki/Valencia_CF?curid=32780\">VAL</a></th>        <th class=\"col_heading level1 col19\" ><a href=\"http://en.wikipedia.org/wiki/Real_Valladolid?curid=295563\">VLD</a></th>        <th class=\"col_heading level1 col20\" ><a href=\"http://en.wikipedia.org/wiki/Real_Zaragoza?curid=84496\">ZAR</a></th>    </tr></thead><tbody>\n",
       "        </tbody></table>"
      ],
      "text/plain": [
       "<pandas.io.formats.style.Styler at 0x7f5f21beb9d0>"
      ]
     },
     "metadata": {},
     "output_type": "display_data"
    },
    {
     "name": "stdout",
     "output_type": "stream",
     "text": [
      "((LinkedString('', links=()), LinkedString('COB', links=((0, 3, 'http://en.wikipedia.org/wiki/Cobreloa?curid=1902298'),)), LinkedString('OLI', links=((0, 3, 'http://en.wikipedia.org/wiki/Club_Olimpia?curid=1691624'),)), LinkedString('GIM', links=((0, 3, 'http://en.wikipedia.org/wiki/Club_de_Gimnasia_y_Esgrima_La_Plata?curid=1104613'),)), LinkedString('AL', links=((0, 2, 'http://en.wikipedia.org/wiki/Alianza_Lima?curid=1232972'),))),)\n",
      "1 (0, 1, 4, 'short-uppercase-acronyms') None None\n"
     ]
    },
    {
     "data": {
      "text/html": [
       "<style  type=\"text/css\" >\n",
       "    #T_90b34764_358e_11eb_81c0_00259091f1e8 .col_heading.level0 {\n",
       "          display: none;\n",
       "    }    #T_90b34764_358e_11eb_81c0_00259091f1e8 .col_heading.level1.col1 {\n",
       "          background-color: #ff0;\n",
       "    }    #T_90b34764_358e_11eb_81c0_00259091f1e8 .col_heading.level1.col2 {\n",
       "          background-color: #ff0;\n",
       "    }    #T_90b34764_358e_11eb_81c0_00259091f1e8 .col_heading.level1.col3 {\n",
       "          background-color: #ff0;\n",
       "    }    #T_90b34764_358e_11eb_81c0_00259091f1e8 .col_heading.level1.col4 {\n",
       "          background-color: #ff0;\n",
       "    }</style><table id=\"T_90b34764_358e_11eb_81c0_00259091f1e8\" ><thead>    <tr>        <th class=\"blank level0\" ></th>        <th class=\"col_heading level0 col0\" >0</th>        <th class=\"col_heading level0 col1\" >1</th>        <th class=\"col_heading level0 col2\" >2</th>        <th class=\"col_heading level0 col3\" >3</th>        <th class=\"col_heading level0 col4\" >4</th>    </tr>    <tr>        <th class=\"blank level1\" ></th>        <th class=\"col_heading level1 col0\" ></th>        <th class=\"col_heading level1 col1\" ><a href=\"http://en.wikipedia.org/wiki/Cobreloa?curid=1902298\">COB</a></th>        <th class=\"col_heading level1 col2\" ><a href=\"http://en.wikipedia.org/wiki/Club_Olimpia?curid=1691624\">OLI</a></th>        <th class=\"col_heading level1 col3\" ><a href=\"http://en.wikipedia.org/wiki/Club_de_Gimnasia_y_Esgrima_La_Plata?curid=1104613\">GIM</a></th>        <th class=\"col_heading level1 col4\" ><a href=\"http://en.wikipedia.org/wiki/Alianza_Lima?curid=1232972\">AL</a></th>    </tr></thead><tbody>\n",
       "        </tbody></table>"
      ],
      "text/plain": [
       "<pandas.io.formats.style.Styler at 0x7f5f2218af90>"
      ]
     },
     "metadata": {},
     "output_type": "display_data"
    },
    {
     "name": "stdout",
     "output_type": "stream",
     "text": [
      "((LinkedString('Year', links=()), LinkedString('GP', links=()), LinkedString('MPG', links=()), LinkedString('FGM', links=()), LinkedString('FGA', links=()), LinkedString('FG%', links=()), LinkedString('3PM', links=()), LinkedString('3PA', links=()), LinkedString('3P%', links=()), LinkedString('FTM', links=()), LinkedString('FTA', links=()), LinkedString('FT%', links=()), LinkedString('DRPG', links=()), LinkedString('ORPG', links=()), LinkedString('RPG', links=()), LinkedString('APG', links=()), LinkedString('SPG', links=()), LinkedString('BPG', links=()), LinkedString('TOPG', links=()), LinkedString('FPG', links=()), LinkedString('PPG', links=())),)\n",
      "1 (0, 9, 20, 'short-uppercase-acronyms') None None\n"
     ]
    },
    {
     "data": {
      "text/html": [
       "<style  type=\"text/css\" >\n",
       "    #T_90b67e2a_358e_11eb_81c0_00259091f1e8 .col_heading.level0 {\n",
       "          display: none;\n",
       "    }    #T_90b67e2a_358e_11eb_81c0_00259091f1e8 .col_heading.level1.col9 {\n",
       "          background-color: #ff0;\n",
       "    }    #T_90b67e2a_358e_11eb_81c0_00259091f1e8 .col_heading.level1.col10 {\n",
       "          background-color: #ff0;\n",
       "    }    #T_90b67e2a_358e_11eb_81c0_00259091f1e8 .col_heading.level1.col11 {\n",
       "          background-color: #ff0;\n",
       "    }    #T_90b67e2a_358e_11eb_81c0_00259091f1e8 .col_heading.level1.col12 {\n",
       "          background-color: #ff0;\n",
       "    }    #T_90b67e2a_358e_11eb_81c0_00259091f1e8 .col_heading.level1.col13 {\n",
       "          background-color: #ff0;\n",
       "    }    #T_90b67e2a_358e_11eb_81c0_00259091f1e8 .col_heading.level1.col14 {\n",
       "          background-color: #ff0;\n",
       "    }    #T_90b67e2a_358e_11eb_81c0_00259091f1e8 .col_heading.level1.col15 {\n",
       "          background-color: #ff0;\n",
       "    }    #T_90b67e2a_358e_11eb_81c0_00259091f1e8 .col_heading.level1.col16 {\n",
       "          background-color: #ff0;\n",
       "    }    #T_90b67e2a_358e_11eb_81c0_00259091f1e8 .col_heading.level1.col17 {\n",
       "          background-color: #ff0;\n",
       "    }    #T_90b67e2a_358e_11eb_81c0_00259091f1e8 .col_heading.level1.col18 {\n",
       "          background-color: #ff0;\n",
       "    }    #T_90b67e2a_358e_11eb_81c0_00259091f1e8 .col_heading.level1.col19 {\n",
       "          background-color: #ff0;\n",
       "    }    #T_90b67e2a_358e_11eb_81c0_00259091f1e8 .col_heading.level1.col20 {\n",
       "          background-color: #ff0;\n",
       "    }</style><table id=\"T_90b67e2a_358e_11eb_81c0_00259091f1e8\" ><thead>    <tr>        <th class=\"blank level0\" ></th>        <th class=\"col_heading level0 col0\" >0</th>        <th class=\"col_heading level0 col1\" >1</th>        <th class=\"col_heading level0 col2\" >2</th>        <th class=\"col_heading level0 col3\" >3</th>        <th class=\"col_heading level0 col4\" >4</th>        <th class=\"col_heading level0 col5\" >5</th>        <th class=\"col_heading level0 col6\" >6</th>        <th class=\"col_heading level0 col7\" >7</th>        <th class=\"col_heading level0 col8\" >8</th>        <th class=\"col_heading level0 col9\" >9</th>        <th class=\"col_heading level0 col10\" >10</th>        <th class=\"col_heading level0 col11\" >11</th>        <th class=\"col_heading level0 col12\" >12</th>        <th class=\"col_heading level0 col13\" >13</th>        <th class=\"col_heading level0 col14\" >14</th>        <th class=\"col_heading level0 col15\" >15</th>        <th class=\"col_heading level0 col16\" >16</th>        <th class=\"col_heading level0 col17\" >17</th>        <th class=\"col_heading level0 col18\" >18</th>        <th class=\"col_heading level0 col19\" >19</th>        <th class=\"col_heading level0 col20\" >20</th>    </tr>    <tr>        <th class=\"blank level1\" ></th>        <th class=\"col_heading level1 col0\" >Year</th>        <th class=\"col_heading level1 col1\" >GP</th>        <th class=\"col_heading level1 col2\" >MPG</th>        <th class=\"col_heading level1 col3\" >FGM</th>        <th class=\"col_heading level1 col4\" >FGA</th>        <th class=\"col_heading level1 col5\" >FG%</th>        <th class=\"col_heading level1 col6\" >3PM</th>        <th class=\"col_heading level1 col7\" >3PA</th>        <th class=\"col_heading level1 col8\" >3P%</th>        <th class=\"col_heading level1 col9\" >FTM</th>        <th class=\"col_heading level1 col10\" >FTA</th>        <th class=\"col_heading level1 col11\" >FT%</th>        <th class=\"col_heading level1 col12\" >DRPG</th>        <th class=\"col_heading level1 col13\" >ORPG</th>        <th class=\"col_heading level1 col14\" >RPG</th>        <th class=\"col_heading level1 col15\" >APG</th>        <th class=\"col_heading level1 col16\" >SPG</th>        <th class=\"col_heading level1 col17\" >BPG</th>        <th class=\"col_heading level1 col18\" >TOPG</th>        <th class=\"col_heading level1 col19\" >FPG</th>        <th class=\"col_heading level1 col20\" >PPG</th>    </tr></thead><tbody>\n",
       "        </tbody></table>"
      ],
      "text/plain": [
       "<pandas.io.formats.style.Styler at 0x7f5f21ba2d90>"
      ]
     },
     "metadata": {},
     "output_type": "display_data"
    },
    {
     "name": "stdout",
     "output_type": "stream",
     "text": [
      "((LinkedString('Year', links=()), LinkedString('Title', links=()), LinkedString('Chart positions', links=()), LinkedString('Chart positions', links=()), LinkedString('Chart positions', links=()), LinkedString('Chart positions', links=()), LinkedString('Chart positions', links=()), LinkedString('Chart positions', links=()), LinkedString('Chart positions', links=()), LinkedString('Certifications', links=())), (LinkedString('Year', links=()), LinkedString('Title', links=()), LinkedString('UK', links=((0, 2, 'http://en.wikipedia.org/wiki/UK_Albums_Chart?curid=2465857'),)), LinkedString('AUT', links=((0, 3, 'http://en.wikipedia.org/wiki/Media_Control_Charts?curid=6170448'),)), LinkedString('GER', links=((0, 3, 'http://en.wikipedia.org/wiki/Media_Control_Charts?curid=6170448'),)), LinkedString('ITA', links=((0, 3, 'http://en.wikipedia.org/wiki/Federazione_Industria_Musicale_Italiana?curid=4464404'),)), LinkedString('NLD', links=((0, 3, 'http://en.wikipedia.org/wiki/MegaCharts?curid=6013155'),)), LinkedString('SWE', links=((0, 3, 'http://en.wikipedia.org/wiki/Sverigetopplistan?curid=11002747'),)), LinkedString('SWI', links=((0, 3, 'http://en.wikipedia.org/wiki/Swiss_Music_Charts?curid=17054761'),)), LinkedString('Certifications', links=())))\n",
      "1 (1, 2, 8, 'short-uppercase-acronyms') None None\n"
     ]
    },
    {
     "data": {
      "text/html": [
       "<style  type=\"text/css\" >\n",
       "    #T_90b992ea_358e_11eb_81c0_00259091f1e8 .col_heading.level0 {\n",
       "          display: none;\n",
       "    }    #T_90b992ea_358e_11eb_81c0_00259091f1e8 .col_heading.level2.col2 {\n",
       "          background-color: #ff0;\n",
       "    }    #T_90b992ea_358e_11eb_81c0_00259091f1e8 .col_heading.level2.col3 {\n",
       "          background-color: #ff0;\n",
       "    }    #T_90b992ea_358e_11eb_81c0_00259091f1e8 .col_heading.level2.col4 {\n",
       "          background-color: #ff0;\n",
       "    }    #T_90b992ea_358e_11eb_81c0_00259091f1e8 .col_heading.level2.col5 {\n",
       "          background-color: #ff0;\n",
       "    }    #T_90b992ea_358e_11eb_81c0_00259091f1e8 .col_heading.level2.col6 {\n",
       "          background-color: #ff0;\n",
       "    }    #T_90b992ea_358e_11eb_81c0_00259091f1e8 .col_heading.level2.col7 {\n",
       "          background-color: #ff0;\n",
       "    }    #T_90b992ea_358e_11eb_81c0_00259091f1e8 .col_heading.level2.col8 {\n",
       "          background-color: #ff0;\n",
       "    }</style><table id=\"T_90b992ea_358e_11eb_81c0_00259091f1e8\" ><thead>    <tr>        <th class=\"blank level0\" ></th>        <th class=\"col_heading level0 col0\" >0</th>        <th class=\"col_heading level0 col1\" >1</th>        <th class=\"col_heading level0 col2\" >2</th>        <th class=\"col_heading level0 col3\" >3</th>        <th class=\"col_heading level0 col4\" >4</th>        <th class=\"col_heading level0 col5\" >5</th>        <th class=\"col_heading level0 col6\" >6</th>        <th class=\"col_heading level0 col7\" >7</th>        <th class=\"col_heading level0 col8\" >8</th>        <th class=\"col_heading level0 col9\" >9</th>    </tr>    <tr>        <th class=\"blank level1\" ></th>        <th class=\"col_heading level1 col0\" >Year</th>        <th class=\"col_heading level1 col1\" >Title</th>        <th class=\"col_heading level1 col2\" >Chart positions</th>        <th class=\"col_heading level1 col3\" >Chart positions</th>        <th class=\"col_heading level1 col4\" >Chart positions</th>        <th class=\"col_heading level1 col5\" >Chart positions</th>        <th class=\"col_heading level1 col6\" >Chart positions</th>        <th class=\"col_heading level1 col7\" >Chart positions</th>        <th class=\"col_heading level1 col8\" >Chart positions</th>        <th class=\"col_heading level1 col9\" >Certifications</th>    </tr>    <tr>        <th class=\"blank level2\" ></th>        <th class=\"col_heading level2 col0\" >Year</th>        <th class=\"col_heading level2 col1\" >Title</th>        <th class=\"col_heading level2 col2\" ><a href=\"http://en.wikipedia.org/wiki/UK_Albums_Chart?curid=2465857\">UK</a></th>        <th class=\"col_heading level2 col3\" ><a href=\"http://en.wikipedia.org/wiki/Media_Control_Charts?curid=6170448\">AUT</a></th>        <th class=\"col_heading level2 col4\" ><a href=\"http://en.wikipedia.org/wiki/Media_Control_Charts?curid=6170448\">GER</a></th>        <th class=\"col_heading level2 col5\" ><a href=\"http://en.wikipedia.org/wiki/Federazione_Industria_Musicale_Italiana?curid=4464404\">ITA</a></th>        <th class=\"col_heading level2 col6\" ><a href=\"http://en.wikipedia.org/wiki/MegaCharts?curid=6013155\">NLD</a></th>        <th class=\"col_heading level2 col7\" ><a href=\"http://en.wikipedia.org/wiki/Sverigetopplistan?curid=11002747\">SWE</a></th>        <th class=\"col_heading level2 col8\" ><a href=\"http://en.wikipedia.org/wiki/Swiss_Music_Charts?curid=17054761\">SWI</a></th>        <th class=\"col_heading level2 col9\" >Certifications</th>    </tr></thead><tbody>\n",
       "        </tbody></table>"
      ],
      "text/plain": [
       "<pandas.io.formats.style.Styler at 0x7f5f21c97950>"
      ]
     },
     "metadata": {},
     "output_type": "display_data"
    },
    {
     "name": "stdout",
     "output_type": "stream",
     "text": [
      "((LinkedString('Rank', links=()), LinkedString('Manufacturers', links=()), LinkedString('Event', links=()), LinkedString('Event', links=()), LinkedString('Event', links=()), LinkedString('Event', links=()), LinkedString('Event', links=()), LinkedString('Event', links=()), LinkedString('Event', links=()), LinkedString('Event', links=()), LinkedString('Event', links=()), LinkedString('Event', links=()), LinkedString('Total points', links=())), (LinkedString('Rank', links=()), LinkedString('Manufacturers', links=()), LinkedString('MON', links=((0, 3, 'http://en.wikipedia.org/wiki/Rallye_Automobile_Monte_Carlo?curid=227411'),)), LinkedString('POR', links=((0, 3, 'http://en.wikipedia.org/wiki/Rallye_de_Portugal?curid=5543374'),)), LinkedString('KEN', links=((0, 3, 'http://en.wikipedia.org/wiki/Safari_Rally?curid=412775'),)), LinkedString('FRA', links=((0, 3, 'http://en.wikipedia.org/wiki/Rallye_de_France?curid=5368059'),)), LinkedString('GRC', links=((0, 3, 'http://en.wikipedia.org/wiki/Acropolis_Rally_Greece?curid=1445607'),)), LinkedString('NZL', links=((0, 3, 'http://en.wikipedia.org/wiki/Rally_New_Zealand?curid=1445593'),)), LinkedString('BRA', links=((0, 3, 'http://en.wikipedia.org/wiki/Rallye_do_Brasil?curid=14197222'),)), LinkedString('FIN', links=((0, 3, 'http://en.wikipedia.org/wiki/Rally_Finland?curid=881363'),)), LinkedString('ITA', links=((0, 3, 'http://en.wikipedia.org/wiki/Rallye_Sanremo?curid=15678463'),)), LinkedString('GBR', links=((0, 3, 'http://en.wikipedia.org/wiki/Rally_GB?curid=275036'),)), LinkedString('Total points', links=())))\n",
      "1 (1, 2, 11, 'short-uppercase-acronyms') None None\n"
     ]
    },
    {
     "data": {
      "text/html": [
       "<style  type=\"text/css\" >\n",
       "    #T_90bc9422_358e_11eb_81c0_00259091f1e8 .col_heading.level0 {\n",
       "          display: none;\n",
       "    }    #T_90bc9422_358e_11eb_81c0_00259091f1e8 .col_heading.level2.col2 {\n",
       "          background-color: #ff0;\n",
       "    }    #T_90bc9422_358e_11eb_81c0_00259091f1e8 .col_heading.level2.col3 {\n",
       "          background-color: #ff0;\n",
       "    }    #T_90bc9422_358e_11eb_81c0_00259091f1e8 .col_heading.level2.col4 {\n",
       "          background-color: #ff0;\n",
       "    }    #T_90bc9422_358e_11eb_81c0_00259091f1e8 .col_heading.level2.col5 {\n",
       "          background-color: #ff0;\n",
       "    }    #T_90bc9422_358e_11eb_81c0_00259091f1e8 .col_heading.level2.col6 {\n",
       "          background-color: #ff0;\n",
       "    }    #T_90bc9422_358e_11eb_81c0_00259091f1e8 .col_heading.level2.col7 {\n",
       "          background-color: #ff0;\n",
       "    }    #T_90bc9422_358e_11eb_81c0_00259091f1e8 .col_heading.level2.col8 {\n",
       "          background-color: #ff0;\n",
       "    }    #T_90bc9422_358e_11eb_81c0_00259091f1e8 .col_heading.level2.col9 {\n",
       "          background-color: #ff0;\n",
       "    }    #T_90bc9422_358e_11eb_81c0_00259091f1e8 .col_heading.level2.col10 {\n",
       "          background-color: #ff0;\n",
       "    }    #T_90bc9422_358e_11eb_81c0_00259091f1e8 .col_heading.level2.col11 {\n",
       "          background-color: #ff0;\n",
       "    }</style><table id=\"T_90bc9422_358e_11eb_81c0_00259091f1e8\" ><thead>    <tr>        <th class=\"blank level0\" ></th>        <th class=\"col_heading level0 col0\" >0</th>        <th class=\"col_heading level0 col1\" >1</th>        <th class=\"col_heading level0 col2\" >2</th>        <th class=\"col_heading level0 col3\" >3</th>        <th class=\"col_heading level0 col4\" >4</th>        <th class=\"col_heading level0 col5\" >5</th>        <th class=\"col_heading level0 col6\" >6</th>        <th class=\"col_heading level0 col7\" >7</th>        <th class=\"col_heading level0 col8\" >8</th>        <th class=\"col_heading level0 col9\" >9</th>        <th class=\"col_heading level0 col10\" >10</th>        <th class=\"col_heading level0 col11\" >11</th>        <th class=\"col_heading level0 col12\" >12</th>    </tr>    <tr>        <th class=\"blank level1\" ></th>        <th class=\"col_heading level1 col0\" >Rank</th>        <th class=\"col_heading level1 col1\" >Manufacturers</th>        <th class=\"col_heading level1 col2\" >Event</th>        <th class=\"col_heading level1 col3\" >Event</th>        <th class=\"col_heading level1 col4\" >Event</th>        <th class=\"col_heading level1 col5\" >Event</th>        <th class=\"col_heading level1 col6\" >Event</th>        <th class=\"col_heading level1 col7\" >Event</th>        <th class=\"col_heading level1 col8\" >Event</th>        <th class=\"col_heading level1 col9\" >Event</th>        <th class=\"col_heading level1 col10\" >Event</th>        <th class=\"col_heading level1 col11\" >Event</th>        <th class=\"col_heading level1 col12\" >Total points</th>    </tr>    <tr>        <th class=\"blank level2\" ></th>        <th class=\"col_heading level2 col0\" >Rank</th>        <th class=\"col_heading level2 col1\" >Manufacturers</th>        <th class=\"col_heading level2 col2\" ><a href=\"http://en.wikipedia.org/wiki/Rallye_Automobile_Monte_Carlo?curid=227411\">MON</a></th>        <th class=\"col_heading level2 col3\" ><a href=\"http://en.wikipedia.org/wiki/Rallye_de_Portugal?curid=5543374\">POR</a></th>        <th class=\"col_heading level2 col4\" ><a href=\"http://en.wikipedia.org/wiki/Safari_Rally?curid=412775\">KEN</a></th>        <th class=\"col_heading level2 col5\" ><a href=\"http://en.wikipedia.org/wiki/Rallye_de_France?curid=5368059\">FRA</a></th>        <th class=\"col_heading level2 col6\" ><a href=\"http://en.wikipedia.org/wiki/Acropolis_Rally_Greece?curid=1445607\">GRC</a></th>        <th class=\"col_heading level2 col7\" ><a href=\"http://en.wikipedia.org/wiki/Rally_New_Zealand?curid=1445593\">NZL</a></th>        <th class=\"col_heading level2 col8\" ><a href=\"http://en.wikipedia.org/wiki/Rallye_do_Brasil?curid=14197222\">BRA</a></th>        <th class=\"col_heading level2 col9\" ><a href=\"http://en.wikipedia.org/wiki/Rally_Finland?curid=881363\">FIN</a></th>        <th class=\"col_heading level2 col10\" ><a href=\"http://en.wikipedia.org/wiki/Rallye_Sanremo?curid=15678463\">ITA</a></th>        <th class=\"col_heading level2 col11\" ><a href=\"http://en.wikipedia.org/wiki/Rally_GB?curid=275036\">GBR</a></th>        <th class=\"col_heading level2 col12\" >Total points</th>    </tr></thead><tbody>\n",
       "        </tbody></table>"
      ],
      "text/plain": [
       "<pandas.io.formats.style.Styler at 0x7f5f21ba2410>"
      ]
     },
     "metadata": {},
     "output_type": "display_data"
    },
    {
     "name": "stdout",
     "output_type": "stream",
     "text": [
      "((LinkedString('Rank', links=()), LinkedString('Driver', links=()), LinkedString('Event', links=()), LinkedString('Event', links=()), LinkedString('Event', links=()), LinkedString('Event', links=()), LinkedString('Event', links=()), LinkedString('Event', links=()), LinkedString('Event', links=()), LinkedString('Event', links=()), LinkedString('Event', links=()), LinkedString('Event', links=()), LinkedString('Event', links=()), LinkedString('Event', links=()), LinkedString('Total points', links=())), (LinkedString('Rank', links=()), LinkedString('Driver', links=()), LinkedString('MON', links=((0, 3, 'http://en.wikipedia.org/wiki/Rallye_Automobile_Monte_Carlo?curid=227411'),)), LinkedString('SWE', links=((0, 3, 'http://en.wikipedia.org/wiki/Swedish_Rally?curid=469490'),)), LinkedString('POR', links=((0, 3, 'http://en.wikipedia.org/wiki/Rallye_de_Portugal?curid=5543374'),)), LinkedString('KEN', links=((0, 3, 'http://en.wikipedia.org/wiki/Safari_Rally?curid=412775'),)), LinkedString('FRA', links=((0, 3, 'http://en.wikipedia.org/wiki/Rallye_de_France?curid=5368059'),)), LinkedString('GRC', links=((0, 3, 'http://en.wikipedia.org/wiki/Acropolis_Rally_Greece?curid=1445607'),)), LinkedString('ARG', links=((0, 3, 'http://en.wikipedia.org/wiki/Rally_Argentina?curid=1445609'),)), LinkedString('BRA', links=((0, 3, 'http://en.wikipedia.org/wiki/Rallye_do_Brasil?curid=14197222'),)), LinkedString('FIN', links=((0, 3, 'http://en.wikipedia.org/wiki/Rally_Finland?curid=881363'),)), LinkedString('ITA', links=((0, 3, 'http://en.wikipedia.org/wiki/Rallye_Sanremo?curid=15678463'),)), LinkedString('CIV', links=((0, 3, \"http://en.wikipedia.org/wiki/Rallye_Côte_d'Ivoire?curid=7348525\"),)), LinkedString('GBR', links=((0, 3, 'http://en.wikipedia.org/wiki/Rally_GB?curid=275036'),)), LinkedString('Total points', links=())))\n",
      "1 (1, 2, 13, 'short-uppercase-acronyms') None None\n"
     ]
    },
    {
     "data": {
      "text/html": [
       "<style  type=\"text/css\" >\n",
       "    #T_90bfc8f4_358e_11eb_81c0_00259091f1e8 .col_heading.level0 {\n",
       "          display: none;\n",
       "    }    #T_90bfc8f4_358e_11eb_81c0_00259091f1e8 .col_heading.level2.col2 {\n",
       "          background-color: #ff0;\n",
       "    }    #T_90bfc8f4_358e_11eb_81c0_00259091f1e8 .col_heading.level2.col3 {\n",
       "          background-color: #ff0;\n",
       "    }    #T_90bfc8f4_358e_11eb_81c0_00259091f1e8 .col_heading.level2.col4 {\n",
       "          background-color: #ff0;\n",
       "    }    #T_90bfc8f4_358e_11eb_81c0_00259091f1e8 .col_heading.level2.col5 {\n",
       "          background-color: #ff0;\n",
       "    }    #T_90bfc8f4_358e_11eb_81c0_00259091f1e8 .col_heading.level2.col6 {\n",
       "          background-color: #ff0;\n",
       "    }    #T_90bfc8f4_358e_11eb_81c0_00259091f1e8 .col_heading.level2.col7 {\n",
       "          background-color: #ff0;\n",
       "    }    #T_90bfc8f4_358e_11eb_81c0_00259091f1e8 .col_heading.level2.col8 {\n",
       "          background-color: #ff0;\n",
       "    }    #T_90bfc8f4_358e_11eb_81c0_00259091f1e8 .col_heading.level2.col9 {\n",
       "          background-color: #ff0;\n",
       "    }    #T_90bfc8f4_358e_11eb_81c0_00259091f1e8 .col_heading.level2.col10 {\n",
       "          background-color: #ff0;\n",
       "    }    #T_90bfc8f4_358e_11eb_81c0_00259091f1e8 .col_heading.level2.col11 {\n",
       "          background-color: #ff0;\n",
       "    }    #T_90bfc8f4_358e_11eb_81c0_00259091f1e8 .col_heading.level2.col12 {\n",
       "          background-color: #ff0;\n",
       "    }    #T_90bfc8f4_358e_11eb_81c0_00259091f1e8 .col_heading.level2.col13 {\n",
       "          background-color: #ff0;\n",
       "    }</style><table id=\"T_90bfc8f4_358e_11eb_81c0_00259091f1e8\" ><thead>    <tr>        <th class=\"blank level0\" ></th>        <th class=\"col_heading level0 col0\" >0</th>        <th class=\"col_heading level0 col1\" >1</th>        <th class=\"col_heading level0 col2\" >2</th>        <th class=\"col_heading level0 col3\" >3</th>        <th class=\"col_heading level0 col4\" >4</th>        <th class=\"col_heading level0 col5\" >5</th>        <th class=\"col_heading level0 col6\" >6</th>        <th class=\"col_heading level0 col7\" >7</th>        <th class=\"col_heading level0 col8\" >8</th>        <th class=\"col_heading level0 col9\" >9</th>        <th class=\"col_heading level0 col10\" >10</th>        <th class=\"col_heading level0 col11\" >11</th>        <th class=\"col_heading level0 col12\" >12</th>        <th class=\"col_heading level0 col13\" >13</th>        <th class=\"col_heading level0 col14\" >14</th>    </tr>    <tr>        <th class=\"blank level1\" ></th>        <th class=\"col_heading level1 col0\" >Rank</th>        <th class=\"col_heading level1 col1\" >Driver</th>        <th class=\"col_heading level1 col2\" >Event</th>        <th class=\"col_heading level1 col3\" >Event</th>        <th class=\"col_heading level1 col4\" >Event</th>        <th class=\"col_heading level1 col5\" >Event</th>        <th class=\"col_heading level1 col6\" >Event</th>        <th class=\"col_heading level1 col7\" >Event</th>        <th class=\"col_heading level1 col8\" >Event</th>        <th class=\"col_heading level1 col9\" >Event</th>        <th class=\"col_heading level1 col10\" >Event</th>        <th class=\"col_heading level1 col11\" >Event</th>        <th class=\"col_heading level1 col12\" >Event</th>        <th class=\"col_heading level1 col13\" >Event</th>        <th class=\"col_heading level1 col14\" >Total points</th>    </tr>    <tr>        <th class=\"blank level2\" ></th>        <th class=\"col_heading level2 col0\" >Rank</th>        <th class=\"col_heading level2 col1\" >Driver</th>        <th class=\"col_heading level2 col2\" ><a href=\"http://en.wikipedia.org/wiki/Rallye_Automobile_Monte_Carlo?curid=227411\">MON</a></th>        <th class=\"col_heading level2 col3\" ><a href=\"http://en.wikipedia.org/wiki/Swedish_Rally?curid=469490\">SWE</a></th>        <th class=\"col_heading level2 col4\" ><a href=\"http://en.wikipedia.org/wiki/Rallye_de_Portugal?curid=5543374\">POR</a></th>        <th class=\"col_heading level2 col5\" ><a href=\"http://en.wikipedia.org/wiki/Safari_Rally?curid=412775\">KEN</a></th>        <th class=\"col_heading level2 col6\" ><a href=\"http://en.wikipedia.org/wiki/Rallye_de_France?curid=5368059\">FRA</a></th>        <th class=\"col_heading level2 col7\" ><a href=\"http://en.wikipedia.org/wiki/Acropolis_Rally_Greece?curid=1445607\">GRC</a></th>        <th class=\"col_heading level2 col8\" ><a href=\"http://en.wikipedia.org/wiki/Rally_Argentina?curid=1445609\">ARG</a></th>        <th class=\"col_heading level2 col9\" ><a href=\"http://en.wikipedia.org/wiki/Rallye_do_Brasil?curid=14197222\">BRA</a></th>        <th class=\"col_heading level2 col10\" ><a href=\"http://en.wikipedia.org/wiki/Rally_Finland?curid=881363\">FIN</a></th>        <th class=\"col_heading level2 col11\" ><a href=\"http://en.wikipedia.org/wiki/Rallye_Sanremo?curid=15678463\">ITA</a></th>        <th class=\"col_heading level2 col12\" ><a href=\"http://en.wikipedia.org/wiki/Rallye_Côte_d'Ivoire?curid=7348525\">CIV</a></th>        <th class=\"col_heading level2 col13\" ><a href=\"http://en.wikipedia.org/wiki/Rally_GB?curid=275036\">GBR</a></th>        <th class=\"col_heading level2 col14\" >Total points</th>    </tr></thead><tbody>\n",
       "        </tbody></table>"
      ],
      "text/plain": [
       "<pandas.io.formats.style.Styler at 0x7f5f21c1fd10>"
      ]
     },
     "metadata": {},
     "output_type": "display_data"
    },
    {
     "name": "stdout",
     "output_type": "stream",
     "text": [
      "((LinkedString('', links=()), LinkedString('MIN', links=((0, 3, 'http://en.wikipedia.org/wiki/Clube_Atlético_Mineiro?curid=187305'),)), LinkedString('CER', links=((0, 3, 'http://en.wikipedia.org/wiki/Cerro_Porteño?curid=1892350'),)), LinkedString('OLI', links=((0, 3, 'http://en.wikipedia.org/wiki/Olimpia_Asunción?curid=1691624'),)), LinkedString('SÃO', links=((0, 3, 'http://en.wikipedia.org/wiki/São_Paulo_Futebol_Clube?curid=187274'),))),)\n",
      "1 (0, 1, 3, 'short-uppercase-acronyms') None None\n"
     ]
    },
    {
     "data": {
      "text/html": [
       "<style  type=\"text/css\" >\n",
       "    #T_90c22798_358e_11eb_81c0_00259091f1e8 .col_heading.level0 {\n",
       "          display: none;\n",
       "    }    #T_90c22798_358e_11eb_81c0_00259091f1e8 .col_heading.level1.col1 {\n",
       "          background-color: #ff0;\n",
       "    }    #T_90c22798_358e_11eb_81c0_00259091f1e8 .col_heading.level1.col2 {\n",
       "          background-color: #ff0;\n",
       "    }    #T_90c22798_358e_11eb_81c0_00259091f1e8 .col_heading.level1.col3 {\n",
       "          background-color: #ff0;\n",
       "    }</style><table id=\"T_90c22798_358e_11eb_81c0_00259091f1e8\" ><thead>    <tr>        <th class=\"blank level0\" ></th>        <th class=\"col_heading level0 col0\" >0</th>        <th class=\"col_heading level0 col1\" >1</th>        <th class=\"col_heading level0 col2\" >2</th>        <th class=\"col_heading level0 col3\" >3</th>        <th class=\"col_heading level0 col4\" >4</th>    </tr>    <tr>        <th class=\"blank level1\" ></th>        <th class=\"col_heading level1 col0\" ></th>        <th class=\"col_heading level1 col1\" ><a href=\"http://en.wikipedia.org/wiki/Clube_Atlético_Mineiro?curid=187305\">MIN</a></th>        <th class=\"col_heading level1 col2\" ><a href=\"http://en.wikipedia.org/wiki/Cerro_Porteño?curid=1892350\">CER</a></th>        <th class=\"col_heading level1 col3\" ><a href=\"http://en.wikipedia.org/wiki/Olimpia_Asunción?curid=1691624\">OLI</a></th>        <th class=\"col_heading level1 col4\" ><a href=\"http://en.wikipedia.org/wiki/São_Paulo_Futebol_Clube?curid=187274\">SÃO</a></th>    </tr></thead><tbody>\n",
       "        </tbody></table>"
      ],
      "text/plain": [
       "<pandas.io.formats.style.Styler at 0x7f5f21cb9990>"
      ]
     },
     "metadata": {},
     "output_type": "display_data"
    },
    {
     "name": "stdout",
     "output_type": "stream",
     "text": [
      "((LinkedString('Pos', links=()), LinkedString('Country', links=()), LinkedString('STP', links=((0, 3, 'http://en.wikipedia.org/wiki/2003_Grand_Prix_of_St._Petersburg?curid=18308914'),)), LinkedString('MTY', links=((0, 3, 'http://en.wikipedia.org/wiki/2003_Tecate_Telmex_Monterrey_Grand_Prix?curid=18357242'),)), LinkedString('LBH', links=((0, 3, 'http://en.wikipedia.org/wiki/2003_Toyota_Grand_Prix_of_Long_Beach?curid=18404269'),)), LinkedString('BRH', links=((0, 3, 'http://en.wikipedia.org/wiki/2003_London_Champ_Car_Trophy?curid=18520643'),)), LinkedString('LAU', links=((0, 3, 'http://en.wikipedia.org/wiki/2003_German_500?curid=18600952'),)), LinkedString('MIL', links=((0, 3, 'http://en.wikipedia.org/wiki/2003_Milwaukee_Mile_Centennial_250?curid=18698314'),)), LinkedString('LAG', links=((0, 3, 'http://en.wikipedia.org/wiki/2003_Grand_Prix_of_Monterey?curid=18805166'),)), LinkedString('POR', links=((0, 3, \"http://en.wikipedia.org/wiki/2003_G.I._Joe's_200?curid=18899550\"),)), LinkedString('CLE', links=((0, 3, 'http://en.wikipedia.org/wiki/2003_U.S._Bank_Cleveland_Grand_Prix?curid=18943126'),)), LinkedString('TOR', links=((0, 3, 'http://en.wikipedia.org/wiki/2003_Molson_Indy_Toronto?curid=19504008'),)), LinkedString('VAN', links=((0, 3, 'http://en.wikipedia.org/wiki/2003_Molson_Indy_Vancouver?curid=19517271'),)), LinkedString('ROA', links=((0, 3, 'http://en.wikipedia.org/wiki/2003_Mario_Andretti_Grand_Prix_at_Road_America?curid=19953254'),)), LinkedString('MDO', links=((0, 3, 'http://en.wikipedia.org/wiki/2003_Champ_Car_Grand_Prix_of_Mid-Ohio?curid=20105433'),)), LinkedString('MTL', links=((0, 3, 'http://en.wikipedia.org/wiki/2003_Molson_Indy_Montreal?curid=20132346'),)), LinkedString('DEN', links=((0, 3, 'http://en.wikipedia.org/wiki/2003_Centrix_Financial_Grand_Prix_of_Denver?curid=20145763'),)), LinkedString('MIA', links=((0, 3, 'http://en.wikipedia.org/wiki/2003_Grand_Prix_Americas_(Champ_Car_race)?curid=20233860'),)), LinkedString('MEX', links=((0, 3, 'http://en.wikipedia.org/wiki/2003_Gran_Premio_Telmex-Gigante?curid=20577733'),)), LinkedString('SUR', links=((0, 3, 'http://en.wikipedia.org/wiki/2003_Lexmark_Indy_300?curid=15080993'),)), LinkedString('Pts', links=())),)\n",
      "1 (0, 2, 19, 'short-uppercase-acronyms') None None\n"
     ]
    },
    {
     "data": {
      "text/html": [
       "<style  type=\"text/css\" >\n",
       "    #T_90c62640_358e_11eb_81c0_00259091f1e8 .col_heading.level0 {\n",
       "          display: none;\n",
       "    }    #T_90c62640_358e_11eb_81c0_00259091f1e8 .col_heading.level1.col2 {\n",
       "          background-color: #ff0;\n",
       "    }    #T_90c62640_358e_11eb_81c0_00259091f1e8 .col_heading.level1.col3 {\n",
       "          background-color: #ff0;\n",
       "    }    #T_90c62640_358e_11eb_81c0_00259091f1e8 .col_heading.level1.col4 {\n",
       "          background-color: #ff0;\n",
       "    }    #T_90c62640_358e_11eb_81c0_00259091f1e8 .col_heading.level1.col5 {\n",
       "          background-color: #ff0;\n",
       "    }    #T_90c62640_358e_11eb_81c0_00259091f1e8 .col_heading.level1.col6 {\n",
       "          background-color: #ff0;\n",
       "    }    #T_90c62640_358e_11eb_81c0_00259091f1e8 .col_heading.level1.col7 {\n",
       "          background-color: #ff0;\n",
       "    }    #T_90c62640_358e_11eb_81c0_00259091f1e8 .col_heading.level1.col8 {\n",
       "          background-color: #ff0;\n",
       "    }    #T_90c62640_358e_11eb_81c0_00259091f1e8 .col_heading.level1.col9 {\n",
       "          background-color: #ff0;\n",
       "    }    #T_90c62640_358e_11eb_81c0_00259091f1e8 .col_heading.level1.col10 {\n",
       "          background-color: #ff0;\n",
       "    }    #T_90c62640_358e_11eb_81c0_00259091f1e8 .col_heading.level1.col11 {\n",
       "          background-color: #ff0;\n",
       "    }    #T_90c62640_358e_11eb_81c0_00259091f1e8 .col_heading.level1.col12 {\n",
       "          background-color: #ff0;\n",
       "    }    #T_90c62640_358e_11eb_81c0_00259091f1e8 .col_heading.level1.col13 {\n",
       "          background-color: #ff0;\n",
       "    }    #T_90c62640_358e_11eb_81c0_00259091f1e8 .col_heading.level1.col14 {\n",
       "          background-color: #ff0;\n",
       "    }    #T_90c62640_358e_11eb_81c0_00259091f1e8 .col_heading.level1.col15 {\n",
       "          background-color: #ff0;\n",
       "    }    #T_90c62640_358e_11eb_81c0_00259091f1e8 .col_heading.level1.col16 {\n",
       "          background-color: #ff0;\n",
       "    }    #T_90c62640_358e_11eb_81c0_00259091f1e8 .col_heading.level1.col17 {\n",
       "          background-color: #ff0;\n",
       "    }    #T_90c62640_358e_11eb_81c0_00259091f1e8 .col_heading.level1.col18 {\n",
       "          background-color: #ff0;\n",
       "    }    #T_90c62640_358e_11eb_81c0_00259091f1e8 .col_heading.level1.col19 {\n",
       "          background-color: #ff0;\n",
       "    }</style><table id=\"T_90c62640_358e_11eb_81c0_00259091f1e8\" ><thead>    <tr>        <th class=\"blank level0\" ></th>        <th class=\"col_heading level0 col0\" >0</th>        <th class=\"col_heading level0 col1\" >1</th>        <th class=\"col_heading level0 col2\" >2</th>        <th class=\"col_heading level0 col3\" >3</th>        <th class=\"col_heading level0 col4\" >4</th>        <th class=\"col_heading level0 col5\" >5</th>        <th class=\"col_heading level0 col6\" >6</th>        <th class=\"col_heading level0 col7\" >7</th>        <th class=\"col_heading level0 col8\" >8</th>        <th class=\"col_heading level0 col9\" >9</th>        <th class=\"col_heading level0 col10\" >10</th>        <th class=\"col_heading level0 col11\" >11</th>        <th class=\"col_heading level0 col12\" >12</th>        <th class=\"col_heading level0 col13\" >13</th>        <th class=\"col_heading level0 col14\" >14</th>        <th class=\"col_heading level0 col15\" >15</th>        <th class=\"col_heading level0 col16\" >16</th>        <th class=\"col_heading level0 col17\" >17</th>        <th class=\"col_heading level0 col18\" >18</th>        <th class=\"col_heading level0 col19\" >19</th>        <th class=\"col_heading level0 col20\" >20</th>    </tr>    <tr>        <th class=\"blank level1\" ></th>        <th class=\"col_heading level1 col0\" >Pos</th>        <th class=\"col_heading level1 col1\" >Country</th>        <th class=\"col_heading level1 col2\" ><a href=\"http://en.wikipedia.org/wiki/2003_Grand_Prix_of_St._Petersburg?curid=18308914\">STP</a></th>        <th class=\"col_heading level1 col3\" ><a href=\"http://en.wikipedia.org/wiki/2003_Tecate_Telmex_Monterrey_Grand_Prix?curid=18357242\">MTY</a></th>        <th class=\"col_heading level1 col4\" ><a href=\"http://en.wikipedia.org/wiki/2003_Toyota_Grand_Prix_of_Long_Beach?curid=18404269\">LBH</a></th>        <th class=\"col_heading level1 col5\" ><a href=\"http://en.wikipedia.org/wiki/2003_London_Champ_Car_Trophy?curid=18520643\">BRH</a></th>        <th class=\"col_heading level1 col6\" ><a href=\"http://en.wikipedia.org/wiki/2003_German_500?curid=18600952\">LAU</a></th>        <th class=\"col_heading level1 col7\" ><a href=\"http://en.wikipedia.org/wiki/2003_Milwaukee_Mile_Centennial_250?curid=18698314\">MIL</a></th>        <th class=\"col_heading level1 col8\" ><a href=\"http://en.wikipedia.org/wiki/2003_Grand_Prix_of_Monterey?curid=18805166\">LAG</a></th>        <th class=\"col_heading level1 col9\" ><a href=\"http://en.wikipedia.org/wiki/2003_G.I._Joe's_200?curid=18899550\">POR</a></th>        <th class=\"col_heading level1 col10\" ><a href=\"http://en.wikipedia.org/wiki/2003_U.S._Bank_Cleveland_Grand_Prix?curid=18943126\">CLE</a></th>        <th class=\"col_heading level1 col11\" ><a href=\"http://en.wikipedia.org/wiki/2003_Molson_Indy_Toronto?curid=19504008\">TOR</a></th>        <th class=\"col_heading level1 col12\" ><a href=\"http://en.wikipedia.org/wiki/2003_Molson_Indy_Vancouver?curid=19517271\">VAN</a></th>        <th class=\"col_heading level1 col13\" ><a href=\"http://en.wikipedia.org/wiki/2003_Mario_Andretti_Grand_Prix_at_Road_America?curid=19953254\">ROA</a></th>        <th class=\"col_heading level1 col14\" ><a href=\"http://en.wikipedia.org/wiki/2003_Champ_Car_Grand_Prix_of_Mid-Ohio?curid=20105433\">MDO</a></th>        <th class=\"col_heading level1 col15\" ><a href=\"http://en.wikipedia.org/wiki/2003_Molson_Indy_Montreal?curid=20132346\">MTL</a></th>        <th class=\"col_heading level1 col16\" ><a href=\"http://en.wikipedia.org/wiki/2003_Centrix_Financial_Grand_Prix_of_Denver?curid=20145763\">DEN</a></th>        <th class=\"col_heading level1 col17\" ><a href=\"http://en.wikipedia.org/wiki/2003_Grand_Prix_Americas_(Champ_Car_race)?curid=20233860\">MIA</a></th>        <th class=\"col_heading level1 col18\" ><a href=\"http://en.wikipedia.org/wiki/2003_Gran_Premio_Telmex-Gigante?curid=20577733\">MEX</a></th>        <th class=\"col_heading level1 col19\" ><a href=\"http://en.wikipedia.org/wiki/2003_Lexmark_Indy_300?curid=15080993\">SUR</a></th>        <th class=\"col_heading level1 col20\" >Pts</th>    </tr></thead><tbody>\n",
       "        </tbody></table>"
      ],
      "text/plain": [
       "<pandas.io.formats.style.Styler at 0x7f5f2812bcd0>"
      ]
     },
     "metadata": {},
     "output_type": "display_data"
    },
    {
     "name": "stdout",
     "output_type": "stream",
     "text": [
      "((LinkedString('Year', links=()), LinkedString('Single', links=()), LinkedString('Album', links=()), LinkedString('Peak positions', links=()), LinkedString('Peak positions', links=()), LinkedString('Peak positions', links=()), LinkedString('Peak positions', links=()), LinkedString('Peak positions', links=())), (LinkedString('Year', links=()), LinkedString('Single', links=()), LinkedString('Album', links=()), LinkedString('GER', links=((0, 3, 'http://en.wikipedia.org/wiki/Germany?curid=11867'),)), LinkedString('AUT', links=((0, 3, 'http://en.wikipedia.org/wiki/Austria?curid=26964606'),)), LinkedString('SUI', links=((0, 3, 'http://en.wikipedia.org/wiki/Switzerland?curid=26748'),)), LinkedString('NET', links=((0, 3, 'http://en.wikipedia.org/wiki/Netherlands?curid=21148'),)), LinkedString('JAP', links=((0, 3, 'http://en.wikipedia.org/wiki/Japan_Hot_100?curid=17731995'),))))\n",
      "1 (1, 3, 7, 'short-uppercase-acronyms') None None\n"
     ]
    },
    {
     "data": {
      "text/html": [
       "<style  type=\"text/css\" >\n",
       "    #T_90c8da66_358e_11eb_81c0_00259091f1e8 .col_heading.level0 {\n",
       "          display: none;\n",
       "    }    #T_90c8da66_358e_11eb_81c0_00259091f1e8 .col_heading.level2.col3 {\n",
       "          background-color: #ff0;\n",
       "    }    #T_90c8da66_358e_11eb_81c0_00259091f1e8 .col_heading.level2.col4 {\n",
       "          background-color: #ff0;\n",
       "    }    #T_90c8da66_358e_11eb_81c0_00259091f1e8 .col_heading.level2.col5 {\n",
       "          background-color: #ff0;\n",
       "    }    #T_90c8da66_358e_11eb_81c0_00259091f1e8 .col_heading.level2.col6 {\n",
       "          background-color: #ff0;\n",
       "    }    #T_90c8da66_358e_11eb_81c0_00259091f1e8 .col_heading.level2.col7 {\n",
       "          background-color: #ff0;\n",
       "    }</style><table id=\"T_90c8da66_358e_11eb_81c0_00259091f1e8\" ><thead>    <tr>        <th class=\"blank level0\" ></th>        <th class=\"col_heading level0 col0\" >0</th>        <th class=\"col_heading level0 col1\" >1</th>        <th class=\"col_heading level0 col2\" >2</th>        <th class=\"col_heading level0 col3\" >3</th>        <th class=\"col_heading level0 col4\" >4</th>        <th class=\"col_heading level0 col5\" >5</th>        <th class=\"col_heading level0 col6\" >6</th>        <th class=\"col_heading level0 col7\" >7</th>    </tr>    <tr>        <th class=\"blank level1\" ></th>        <th class=\"col_heading level1 col0\" >Year</th>        <th class=\"col_heading level1 col1\" >Single</th>        <th class=\"col_heading level1 col2\" >Album</th>        <th class=\"col_heading level1 col3\" >Peak positions</th>        <th class=\"col_heading level1 col4\" >Peak positions</th>        <th class=\"col_heading level1 col5\" >Peak positions</th>        <th class=\"col_heading level1 col6\" >Peak positions</th>        <th class=\"col_heading level1 col7\" >Peak positions</th>    </tr>    <tr>        <th class=\"blank level2\" ></th>        <th class=\"col_heading level2 col0\" >Year</th>        <th class=\"col_heading level2 col1\" >Single</th>        <th class=\"col_heading level2 col2\" >Album</th>        <th class=\"col_heading level2 col3\" ><a href=\"http://en.wikipedia.org/wiki/Germany?curid=11867\">GER</a></th>        <th class=\"col_heading level2 col4\" ><a href=\"http://en.wikipedia.org/wiki/Austria?curid=26964606\">AUT</a></th>        <th class=\"col_heading level2 col5\" ><a href=\"http://en.wikipedia.org/wiki/Switzerland?curid=26748\">SUI</a></th>        <th class=\"col_heading level2 col6\" ><a href=\"http://en.wikipedia.org/wiki/Netherlands?curid=21148\">NET</a></th>        <th class=\"col_heading level2 col7\" ><a href=\"http://en.wikipedia.org/wiki/Japan_Hot_100?curid=17731995\">JAP</a></th>    </tr></thead><tbody>\n",
       "        </tbody></table>"
      ],
      "text/plain": [
       "<pandas.io.formats.style.Styler at 0x7f5f21beb2d0>"
      ]
     },
     "metadata": {},
     "output_type": "display_data"
    },
    {
     "name": "stdout",
     "output_type": "stream",
     "text": [
      "((LinkedString('Home \\ Away [1 ]', links=()), LinkedString('BOL', links=((0, 3, 'http://en.wikipedia.org/wiki/Bologna_F.C._1909?curid=81238'),)), LinkedString('CTZ', links=((0, 3, 'http://en.wikipedia.org/wiki/U.S._Catanzaro_1929?curid=1095695'),)), LinkedString('CES', links=((0, 3, 'http://en.wikipedia.org/wiki/A.C._Cesena?curid=1138777'),)), LinkedString('FIO', links=((0, 3, 'http://en.wikipedia.org/wiki/ACF_Fiorentina?curid=3165'),)), LinkedString('FOG', links=((0, 3, 'http://en.wikipedia.org/wiki/A.C.D._Foggia_Calcio?curid=2883481'),)), LinkedString('GEN', links=((0, 3, 'http://en.wikipedia.org/wiki/Genoa_C.F.C.?curid=30872779'),)), LinkedString('INT', links=((0, 3, 'http://en.wikipedia.org/wiki/Inter_Milan?curid=15116'),)), LinkedString('JUV', links=((0, 3, 'http://en.wikipedia.org/wiki/Juventus_F.C.?curid=16415'),)), LinkedString('LAZ', links=((0, 3, 'http://en.wikipedia.org/wiki/S.S._Lazio?curid=28984'),)), LinkedString('MIL', links=((0, 3, 'http://en.wikipedia.org/wiki/A.C._Milan?curid=18940588'),)), LinkedString('NAP', links=((0, 3, 'http://en.wikipedia.org/wiki/S.S.C._Napoli?curid=1130620'),)), LinkedString('PER', links=((0, 3, 'http://en.wikipedia.org/wiki/A.C._Perugia_Calcio?curid=2592452'),)), LinkedString('ROM', links=((0, 3, 'http://en.wikipedia.org/wiki/A.S._Roma?curid=2358'),)), LinkedString('SAM', links=((0, 3, 'http://en.wikipedia.org/wiki/U.C._Sampdoria?curid=574307'),)), LinkedString('TOR', links=((0, 3, 'http://en.wikipedia.org/wiki/Torino_F.C.?curid=19450750'),)), LinkedString('VER', links=((0, 3, 'http://en.wikipedia.org/wiki/Hellas_Verona_F.C.?curid=14035'),))),)\n",
      "1 (0, 1, 16, 'short-uppercase-acronyms') None None\n"
     ]
    },
    {
     "data": {
      "text/html": [
       "<style  type=\"text/css\" >\n",
       "    #T_90cc1258_358e_11eb_81c0_00259091f1e8 .col_heading.level0 {\n",
       "          display: none;\n",
       "    }    #T_90cc1258_358e_11eb_81c0_00259091f1e8 .col_heading.level1.col1 {\n",
       "          background-color: #ff0;\n",
       "    }    #T_90cc1258_358e_11eb_81c0_00259091f1e8 .col_heading.level1.col2 {\n",
       "          background-color: #ff0;\n",
       "    }    #T_90cc1258_358e_11eb_81c0_00259091f1e8 .col_heading.level1.col3 {\n",
       "          background-color: #ff0;\n",
       "    }    #T_90cc1258_358e_11eb_81c0_00259091f1e8 .col_heading.level1.col4 {\n",
       "          background-color: #ff0;\n",
       "    }    #T_90cc1258_358e_11eb_81c0_00259091f1e8 .col_heading.level1.col5 {\n",
       "          background-color: #ff0;\n",
       "    }    #T_90cc1258_358e_11eb_81c0_00259091f1e8 .col_heading.level1.col6 {\n",
       "          background-color: #ff0;\n",
       "    }    #T_90cc1258_358e_11eb_81c0_00259091f1e8 .col_heading.level1.col7 {\n",
       "          background-color: #ff0;\n",
       "    }    #T_90cc1258_358e_11eb_81c0_00259091f1e8 .col_heading.level1.col8 {\n",
       "          background-color: #ff0;\n",
       "    }    #T_90cc1258_358e_11eb_81c0_00259091f1e8 .col_heading.level1.col9 {\n",
       "          background-color: #ff0;\n",
       "    }    #T_90cc1258_358e_11eb_81c0_00259091f1e8 .col_heading.level1.col10 {\n",
       "          background-color: #ff0;\n",
       "    }    #T_90cc1258_358e_11eb_81c0_00259091f1e8 .col_heading.level1.col11 {\n",
       "          background-color: #ff0;\n",
       "    }    #T_90cc1258_358e_11eb_81c0_00259091f1e8 .col_heading.level1.col12 {\n",
       "          background-color: #ff0;\n",
       "    }    #T_90cc1258_358e_11eb_81c0_00259091f1e8 .col_heading.level1.col13 {\n",
       "          background-color: #ff0;\n",
       "    }    #T_90cc1258_358e_11eb_81c0_00259091f1e8 .col_heading.level1.col14 {\n",
       "          background-color: #ff0;\n",
       "    }    #T_90cc1258_358e_11eb_81c0_00259091f1e8 .col_heading.level1.col15 {\n",
       "          background-color: #ff0;\n",
       "    }    #T_90cc1258_358e_11eb_81c0_00259091f1e8 .col_heading.level1.col16 {\n",
       "          background-color: #ff0;\n",
       "    }</style><table id=\"T_90cc1258_358e_11eb_81c0_00259091f1e8\" ><thead>    <tr>        <th class=\"blank level0\" ></th>        <th class=\"col_heading level0 col0\" >0</th>        <th class=\"col_heading level0 col1\" >1</th>        <th class=\"col_heading level0 col2\" >2</th>        <th class=\"col_heading level0 col3\" >3</th>        <th class=\"col_heading level0 col4\" >4</th>        <th class=\"col_heading level0 col5\" >5</th>        <th class=\"col_heading level0 col6\" >6</th>        <th class=\"col_heading level0 col7\" >7</th>        <th class=\"col_heading level0 col8\" >8</th>        <th class=\"col_heading level0 col9\" >9</th>        <th class=\"col_heading level0 col10\" >10</th>        <th class=\"col_heading level0 col11\" >11</th>        <th class=\"col_heading level0 col12\" >12</th>        <th class=\"col_heading level0 col13\" >13</th>        <th class=\"col_heading level0 col14\" >14</th>        <th class=\"col_heading level0 col15\" >15</th>        <th class=\"col_heading level0 col16\" >16</th>    </tr>    <tr>        <th class=\"blank level1\" ></th>        <th class=\"col_heading level1 col0\" >Home \\ Away [1 ]</th>        <th class=\"col_heading level1 col1\" ><a href=\"http://en.wikipedia.org/wiki/Bologna_F.C._1909?curid=81238\">BOL</a></th>        <th class=\"col_heading level1 col2\" ><a href=\"http://en.wikipedia.org/wiki/U.S._Catanzaro_1929?curid=1095695\">CTZ</a></th>        <th class=\"col_heading level1 col3\" ><a href=\"http://en.wikipedia.org/wiki/A.C._Cesena?curid=1138777\">CES</a></th>        <th class=\"col_heading level1 col4\" ><a href=\"http://en.wikipedia.org/wiki/ACF_Fiorentina?curid=3165\">FIO</a></th>        <th class=\"col_heading level1 col5\" ><a href=\"http://en.wikipedia.org/wiki/A.C.D._Foggia_Calcio?curid=2883481\">FOG</a></th>        <th class=\"col_heading level1 col6\" ><a href=\"http://en.wikipedia.org/wiki/Genoa_C.F.C.?curid=30872779\">GEN</a></th>        <th class=\"col_heading level1 col7\" ><a href=\"http://en.wikipedia.org/wiki/Inter_Milan?curid=15116\">INT</a></th>        <th class=\"col_heading level1 col8\" ><a href=\"http://en.wikipedia.org/wiki/Juventus_F.C.?curid=16415\">JUV</a></th>        <th class=\"col_heading level1 col9\" ><a href=\"http://en.wikipedia.org/wiki/S.S._Lazio?curid=28984\">LAZ</a></th>        <th class=\"col_heading level1 col10\" ><a href=\"http://en.wikipedia.org/wiki/A.C._Milan?curid=18940588\">MIL</a></th>        <th class=\"col_heading level1 col11\" ><a href=\"http://en.wikipedia.org/wiki/S.S.C._Napoli?curid=1130620\">NAP</a></th>        <th class=\"col_heading level1 col12\" ><a href=\"http://en.wikipedia.org/wiki/A.C._Perugia_Calcio?curid=2592452\">PER</a></th>        <th class=\"col_heading level1 col13\" ><a href=\"http://en.wikipedia.org/wiki/A.S._Roma?curid=2358\">ROM</a></th>        <th class=\"col_heading level1 col14\" ><a href=\"http://en.wikipedia.org/wiki/U.C._Sampdoria?curid=574307\">SAM</a></th>        <th class=\"col_heading level1 col15\" ><a href=\"http://en.wikipedia.org/wiki/Torino_F.C.?curid=19450750\">TOR</a></th>        <th class=\"col_heading level1 col16\" ><a href=\"http://en.wikipedia.org/wiki/Hellas_Verona_F.C.?curid=14035\">VER</a></th>    </tr></thead><tbody>\n",
       "        </tbody></table>"
      ],
      "text/plain": [
       "<pandas.io.formats.style.Styler at 0x7f5f21bb31d0>"
      ]
     },
     "metadata": {},
     "output_type": "display_data"
    },
    {
     "name": "stdout",
     "output_type": "stream",
     "text": [
      "((LinkedString('Home \\ Away [1 ]', links=()), LinkedString('BOL', links=((0, 3, 'http://en.wikipedia.org/wiki/Bologna_F.C._1909?curid=81238'),)), LinkedString('CAG', links=((0, 3, 'http://en.wikipedia.org/wiki/Cagliari_Calcio?curid=1116811'),)), LinkedString('CES', links=((0, 3, 'http://en.wikipedia.org/wiki/A.C._Cesena?curid=1138777'),)), LinkedString('FIO', links=((0, 3, 'http://en.wikipedia.org/wiki/ACF_Fiorentina?curid=3165'),)), LinkedString('FOG', links=((0, 3, 'http://en.wikipedia.org/wiki/A.C.D._Foggia_Calcio?curid=2883481'),)), LinkedString('GEN', links=((0, 3, 'http://en.wikipedia.org/wiki/Genoa_C.F.C.?curid=30872779'),)), LinkedString('INT', links=((0, 3, 'http://en.wikipedia.org/wiki/Inter_Milan?curid=15116'),)), LinkedString('JUV', links=((0, 3, 'http://en.wikipedia.org/wiki/Juventus_F.C.?curid=16415'),)), LinkedString('LRV', links=((0, 3, 'http://en.wikipedia.org/wiki/Vicenza_Calcio?curid=1136820'),)), LinkedString('LAZ', links=((0, 3, 'http://en.wikipedia.org/wiki/S.S._Lazio?curid=28984'),)), LinkedString('MIL', links=((0, 3, 'http://en.wikipedia.org/wiki/A.C._Milan?curid=18940588'),)), LinkedString('NAP', links=((0, 3, 'http://en.wikipedia.org/wiki/S.S.C._Napoli?curid=1130620'),)), LinkedString('ROM', links=((0, 3, 'http://en.wikipedia.org/wiki/A.S._Roma?curid=2358'),)), LinkedString('SAM', links=((0, 3, 'http://en.wikipedia.org/wiki/U.C._Sampdoria?curid=574307'),)), LinkedString('TOR', links=((0, 3, 'http://en.wikipedia.org/wiki/Torino_F.C.?curid=19450750'),)), LinkedString('VER', links=((0, 3, 'http://en.wikipedia.org/wiki/Hellas_Verona_F.C.?curid=14035'),))),)\n",
      "1 (0, 1, 16, 'short-uppercase-acronyms') None None\n"
     ]
    },
    {
     "data": {
      "text/html": [
       "<style  type=\"text/css\" >\n",
       "    #T_90cedc90_358e_11eb_81c0_00259091f1e8 .col_heading.level0 {\n",
       "          display: none;\n",
       "    }    #T_90cedc90_358e_11eb_81c0_00259091f1e8 .col_heading.level1.col1 {\n",
       "          background-color: #ff0;\n",
       "    }    #T_90cedc90_358e_11eb_81c0_00259091f1e8 .col_heading.level1.col2 {\n",
       "          background-color: #ff0;\n",
       "    }    #T_90cedc90_358e_11eb_81c0_00259091f1e8 .col_heading.level1.col3 {\n",
       "          background-color: #ff0;\n",
       "    }    #T_90cedc90_358e_11eb_81c0_00259091f1e8 .col_heading.level1.col4 {\n",
       "          background-color: #ff0;\n",
       "    }    #T_90cedc90_358e_11eb_81c0_00259091f1e8 .col_heading.level1.col5 {\n",
       "          background-color: #ff0;\n",
       "    }    #T_90cedc90_358e_11eb_81c0_00259091f1e8 .col_heading.level1.col6 {\n",
       "          background-color: #ff0;\n",
       "    }    #T_90cedc90_358e_11eb_81c0_00259091f1e8 .col_heading.level1.col7 {\n",
       "          background-color: #ff0;\n",
       "    }    #T_90cedc90_358e_11eb_81c0_00259091f1e8 .col_heading.level1.col8 {\n",
       "          background-color: #ff0;\n",
       "    }    #T_90cedc90_358e_11eb_81c0_00259091f1e8 .col_heading.level1.col9 {\n",
       "          background-color: #ff0;\n",
       "    }    #T_90cedc90_358e_11eb_81c0_00259091f1e8 .col_heading.level1.col10 {\n",
       "          background-color: #ff0;\n",
       "    }    #T_90cedc90_358e_11eb_81c0_00259091f1e8 .col_heading.level1.col11 {\n",
       "          background-color: #ff0;\n",
       "    }    #T_90cedc90_358e_11eb_81c0_00259091f1e8 .col_heading.level1.col12 {\n",
       "          background-color: #ff0;\n",
       "    }    #T_90cedc90_358e_11eb_81c0_00259091f1e8 .col_heading.level1.col13 {\n",
       "          background-color: #ff0;\n",
       "    }    #T_90cedc90_358e_11eb_81c0_00259091f1e8 .col_heading.level1.col14 {\n",
       "          background-color: #ff0;\n",
       "    }    #T_90cedc90_358e_11eb_81c0_00259091f1e8 .col_heading.level1.col15 {\n",
       "          background-color: #ff0;\n",
       "    }    #T_90cedc90_358e_11eb_81c0_00259091f1e8 .col_heading.level1.col16 {\n",
       "          background-color: #ff0;\n",
       "    }</style><table id=\"T_90cedc90_358e_11eb_81c0_00259091f1e8\" ><thead>    <tr>        <th class=\"blank level0\" ></th>        <th class=\"col_heading level0 col0\" >0</th>        <th class=\"col_heading level0 col1\" >1</th>        <th class=\"col_heading level0 col2\" >2</th>        <th class=\"col_heading level0 col3\" >3</th>        <th class=\"col_heading level0 col4\" >4</th>        <th class=\"col_heading level0 col5\" >5</th>        <th class=\"col_heading level0 col6\" >6</th>        <th class=\"col_heading level0 col7\" >7</th>        <th class=\"col_heading level0 col8\" >8</th>        <th class=\"col_heading level0 col9\" >9</th>        <th class=\"col_heading level0 col10\" >10</th>        <th class=\"col_heading level0 col11\" >11</th>        <th class=\"col_heading level0 col12\" >12</th>        <th class=\"col_heading level0 col13\" >13</th>        <th class=\"col_heading level0 col14\" >14</th>        <th class=\"col_heading level0 col15\" >15</th>        <th class=\"col_heading level0 col16\" >16</th>    </tr>    <tr>        <th class=\"blank level1\" ></th>        <th class=\"col_heading level1 col0\" >Home \\ Away [1 ]</th>        <th class=\"col_heading level1 col1\" ><a href=\"http://en.wikipedia.org/wiki/Bologna_F.C._1909?curid=81238\">BOL</a></th>        <th class=\"col_heading level1 col2\" ><a href=\"http://en.wikipedia.org/wiki/Cagliari_Calcio?curid=1116811\">CAG</a></th>        <th class=\"col_heading level1 col3\" ><a href=\"http://en.wikipedia.org/wiki/A.C._Cesena?curid=1138777\">CES</a></th>        <th class=\"col_heading level1 col4\" ><a href=\"http://en.wikipedia.org/wiki/ACF_Fiorentina?curid=3165\">FIO</a></th>        <th class=\"col_heading level1 col5\" ><a href=\"http://en.wikipedia.org/wiki/A.C.D._Foggia_Calcio?curid=2883481\">FOG</a></th>        <th class=\"col_heading level1 col6\" ><a href=\"http://en.wikipedia.org/wiki/Genoa_C.F.C.?curid=30872779\">GEN</a></th>        <th class=\"col_heading level1 col7\" ><a href=\"http://en.wikipedia.org/wiki/Inter_Milan?curid=15116\">INT</a></th>        <th class=\"col_heading level1 col8\" ><a href=\"http://en.wikipedia.org/wiki/Juventus_F.C.?curid=16415\">JUV</a></th>        <th class=\"col_heading level1 col9\" ><a href=\"http://en.wikipedia.org/wiki/Vicenza_Calcio?curid=1136820\">LRV</a></th>        <th class=\"col_heading level1 col10\" ><a href=\"http://en.wikipedia.org/wiki/S.S._Lazio?curid=28984\">LAZ</a></th>        <th class=\"col_heading level1 col11\" ><a href=\"http://en.wikipedia.org/wiki/A.C._Milan?curid=18940588\">MIL</a></th>        <th class=\"col_heading level1 col12\" ><a href=\"http://en.wikipedia.org/wiki/S.S.C._Napoli?curid=1130620\">NAP</a></th>        <th class=\"col_heading level1 col13\" ><a href=\"http://en.wikipedia.org/wiki/A.S._Roma?curid=2358\">ROM</a></th>        <th class=\"col_heading level1 col14\" ><a href=\"http://en.wikipedia.org/wiki/U.C._Sampdoria?curid=574307\">SAM</a></th>        <th class=\"col_heading level1 col15\" ><a href=\"http://en.wikipedia.org/wiki/Torino_F.C.?curid=19450750\">TOR</a></th>        <th class=\"col_heading level1 col16\" ><a href=\"http://en.wikipedia.org/wiki/Hellas_Verona_F.C.?curid=14035\">VER</a></th>    </tr></thead><tbody>\n",
       "        </tbody></table>"
      ],
      "text/plain": [
       "<pandas.io.formats.style.Styler at 0x7f5f2812ba90>"
      ]
     },
     "metadata": {},
     "output_type": "display_data"
    },
    {
     "name": "stdout",
     "output_type": "stream",
     "text": [
      "((LinkedString('Player', links=()), LinkedString('MAS', links=((0, 3, 'http://en.wikipedia.org/wiki/2008_Malaysia_Super_Series?curid=15020450'),)), LinkedString('KOR', links=((0, 3, 'http://en.wikipedia.org/wiki/2008_Korea_Open_Super_Series?curid=15362522'),)), LinkedString('ENG', links=((0, 3, 'http://en.wikipedia.org/wiki/2008_All_England_Super_Series?curid=15362699'),)), LinkedString('SIN', links=((0, 3, 'http://en.wikipedia.org/wiki/2008_Singapore_Super_Series?curid=17943682'),)), LinkedString('INA', links=((0, 3, 'http://en.wikipedia.org/wiki/2008_Indonesia_Super_Series?curid=18106977'),)), LinkedString('CHN', links=((0, 3, 'http://en.wikipedia.org/wiki/2008_China_Masters_Super_Series?curid=19523010'),)), LinkedString('JPN', links=((0, 3, 'http://en.wikipedia.org/wiki/2008_Japan_Super_Series?curid=19424998'),)), LinkedString('DEN', links=((0, 3, 'http://en.wikipedia.org/wiki/2008_Denmark_Super_Series?curid=20038363'),)), LinkedString('CHN', links=((0, 3, 'http://en.wikipedia.org/wiki/2008_China_Masters_Super_Series?curid=19523010'),)), LinkedString('Points', links=())),)\n",
      "1 (0, 1, 9, 'short-uppercase-acronyms') None None\n"
     ]
    },
    {
     "data": {
      "text/html": [
       "<style  type=\"text/css\" >\n",
       "    #T_90d1e520_358e_11eb_81c0_00259091f1e8 .col_heading.level0 {\n",
       "          display: none;\n",
       "    }    #T_90d1e520_358e_11eb_81c0_00259091f1e8 .col_heading.level1.col1 {\n",
       "          background-color: #ff0;\n",
       "    }    #T_90d1e520_358e_11eb_81c0_00259091f1e8 .col_heading.level1.col2 {\n",
       "          background-color: #ff0;\n",
       "    }    #T_90d1e520_358e_11eb_81c0_00259091f1e8 .col_heading.level1.col3 {\n",
       "          background-color: #ff0;\n",
       "    }    #T_90d1e520_358e_11eb_81c0_00259091f1e8 .col_heading.level1.col4 {\n",
       "          background-color: #ff0;\n",
       "    }    #T_90d1e520_358e_11eb_81c0_00259091f1e8 .col_heading.level1.col5 {\n",
       "          background-color: #ff0;\n",
       "    }    #T_90d1e520_358e_11eb_81c0_00259091f1e8 .col_heading.level1.col6 {\n",
       "          background-color: #ff0;\n",
       "    }    #T_90d1e520_358e_11eb_81c0_00259091f1e8 .col_heading.level1.col7 {\n",
       "          background-color: #ff0;\n",
       "    }    #T_90d1e520_358e_11eb_81c0_00259091f1e8 .col_heading.level1.col8 {\n",
       "          background-color: #ff0;\n",
       "    }    #T_90d1e520_358e_11eb_81c0_00259091f1e8 .col_heading.level1.col9 {\n",
       "          background-color: #ff0;\n",
       "    }</style><table id=\"T_90d1e520_358e_11eb_81c0_00259091f1e8\" ><thead>    <tr>        <th class=\"blank level0\" ></th>        <th class=\"col_heading level0 col0\" >0</th>        <th class=\"col_heading level0 col1\" >1</th>        <th class=\"col_heading level0 col2\" >2</th>        <th class=\"col_heading level0 col3\" >3</th>        <th class=\"col_heading level0 col4\" >4</th>        <th class=\"col_heading level0 col5\" >5</th>        <th class=\"col_heading level0 col6\" >6</th>        <th class=\"col_heading level0 col7\" >7</th>        <th class=\"col_heading level0 col8\" >8</th>        <th class=\"col_heading level0 col9\" >9</th>        <th class=\"col_heading level0 col10\" >10</th>    </tr>    <tr>        <th class=\"blank level1\" ></th>        <th class=\"col_heading level1 col0\" >Player</th>        <th class=\"col_heading level1 col1\" ><a href=\"http://en.wikipedia.org/wiki/2008_Malaysia_Super_Series?curid=15020450\">MAS</a></th>        <th class=\"col_heading level1 col2\" ><a href=\"http://en.wikipedia.org/wiki/2008_Korea_Open_Super_Series?curid=15362522\">KOR</a></th>        <th class=\"col_heading level1 col3\" ><a href=\"http://en.wikipedia.org/wiki/2008_All_England_Super_Series?curid=15362699\">ENG</a></th>        <th class=\"col_heading level1 col4\" ><a href=\"http://en.wikipedia.org/wiki/2008_Singapore_Super_Series?curid=17943682\">SIN</a></th>        <th class=\"col_heading level1 col5\" ><a href=\"http://en.wikipedia.org/wiki/2008_Indonesia_Super_Series?curid=18106977\">INA</a></th>        <th class=\"col_heading level1 col6\" ><a href=\"http://en.wikipedia.org/wiki/2008_China_Masters_Super_Series?curid=19523010\">CHN</a></th>        <th class=\"col_heading level1 col7\" ><a href=\"http://en.wikipedia.org/wiki/2008_Japan_Super_Series?curid=19424998\">JPN</a></th>        <th class=\"col_heading level1 col8\" ><a href=\"http://en.wikipedia.org/wiki/2008_Denmark_Super_Series?curid=20038363\">DEN</a></th>        <th class=\"col_heading level1 col9\" ><a href=\"http://en.wikipedia.org/wiki/2008_China_Masters_Super_Series?curid=19523010\">CHN</a></th>        <th class=\"col_heading level1 col10\" >Points</th>    </tr></thead><tbody>\n",
       "        </tbody></table>"
      ],
      "text/plain": [
       "<pandas.io.formats.style.Styler at 0x7f5f2816f9d0>"
      ]
     },
     "metadata": {},
     "output_type": "display_data"
    },
    {
     "name": "stdout",
     "output_type": "stream",
     "text": [
      "((LinkedString('Year', links=()), LinkedString('Title', links=()), LinkedString('Peak chart positions', links=()), LinkedString('Peak chart positions', links=()), LinkedString('Peak chart positions', links=()), LinkedString('Peak chart positions', links=()), LinkedString('Peak chart positions', links=()), LinkedString('Peak chart positions', links=()), LinkedString('Peak chart positions', links=()), LinkedString('Peak chart positions', links=()), LinkedString('Peak chart positions', links=()), LinkedString('Peak chart positions', links=()), LinkedString('Certifications ( sales thresholds )', links=((0, 14, 'http://en.wikipedia.org/wiki/Music_recording_sales_certification?curid=308242'), (17, 33, 'http://en.wikipedia.org/wiki/List_of_music_recording_sales_certifications?curid=17627213'))), LinkedString('Album', links=())), (LinkedString('Year', links=()), LinkedString('Title', links=()), LinkedString('AUT', links=((0, 3, 'http://en.wikipedia.org/wiki/Austrian_Singles_Chart?curid=13757814'),)), LinkedString('FIN', links=((0, 3, 'http://en.wikipedia.org/wiki/Finnish_Singles_Chart?curid=7824827'),)), LinkedString('FRA', links=((0, 3, 'http://en.wikipedia.org/wiki/French_Singles_Chart?curid=4565593'),)), LinkedString('GER', links=((0, 3, 'http://en.wikipedia.org/wiki/German_Singles_Chart?curid=6170448'),)), LinkedString('IRE', links=((0, 3, 'http://en.wikipedia.org/wiki/Irish_Singles_Chart?curid=3627762'),)), LinkedString('ITA', links=((0, 3, 'http://en.wikipedia.org/wiki/Italian_Singles_Chart?curid=4464404'),)), LinkedString('NED', links=((0, 3, 'http://en.wikipedia.org/wiki/Dutch_Top_40?curid=4685500'),)), LinkedString('SUI', links=((0, 3, 'http://en.wikipedia.org/wiki/Swiss_Singles_Chart?curid=17054761'),)), LinkedString('SWE', links=((0, 3, 'http://en.wikipedia.org/wiki/Swedish_Singles_Chart?curid=11002747'),)), LinkedString('UK', links=((0, 2, 'http://en.wikipedia.org/wiki/UK_Singles_Chart?curid=3349146'),)), LinkedString('Certifications ( sales thresholds )', links=((0, 14, 'http://en.wikipedia.org/wiki/Music_recording_sales_certification?curid=308242'), (17, 33, 'http://en.wikipedia.org/wiki/List_of_music_recording_sales_certifications?curid=17627213'))), LinkedString('Album', links=())))\n",
      "1 (1, 2, 11, 'short-uppercase-acronyms') None None\n"
     ]
    },
    {
     "data": {
      "text/html": [
       "<style  type=\"text/css\" >\n",
       "    #T_90d530c2_358e_11eb_81c0_00259091f1e8 .col_heading.level0 {\n",
       "          display: none;\n",
       "    }    #T_90d530c2_358e_11eb_81c0_00259091f1e8 .col_heading.level2.col2 {\n",
       "          background-color: #ff0;\n",
       "    }    #T_90d530c2_358e_11eb_81c0_00259091f1e8 .col_heading.level2.col3 {\n",
       "          background-color: #ff0;\n",
       "    }    #T_90d530c2_358e_11eb_81c0_00259091f1e8 .col_heading.level2.col4 {\n",
       "          background-color: #ff0;\n",
       "    }    #T_90d530c2_358e_11eb_81c0_00259091f1e8 .col_heading.level2.col5 {\n",
       "          background-color: #ff0;\n",
       "    }    #T_90d530c2_358e_11eb_81c0_00259091f1e8 .col_heading.level2.col6 {\n",
       "          background-color: #ff0;\n",
       "    }    #T_90d530c2_358e_11eb_81c0_00259091f1e8 .col_heading.level2.col7 {\n",
       "          background-color: #ff0;\n",
       "    }    #T_90d530c2_358e_11eb_81c0_00259091f1e8 .col_heading.level2.col8 {\n",
       "          background-color: #ff0;\n",
       "    }    #T_90d530c2_358e_11eb_81c0_00259091f1e8 .col_heading.level2.col9 {\n",
       "          background-color: #ff0;\n",
       "    }    #T_90d530c2_358e_11eb_81c0_00259091f1e8 .col_heading.level2.col10 {\n",
       "          background-color: #ff0;\n",
       "    }    #T_90d530c2_358e_11eb_81c0_00259091f1e8 .col_heading.level2.col11 {\n",
       "          background-color: #ff0;\n",
       "    }</style><table id=\"T_90d530c2_358e_11eb_81c0_00259091f1e8\" ><thead>    <tr>        <th class=\"blank level0\" ></th>        <th class=\"col_heading level0 col0\" >0</th>        <th class=\"col_heading level0 col1\" >1</th>        <th class=\"col_heading level0 col2\" >2</th>        <th class=\"col_heading level0 col3\" >3</th>        <th class=\"col_heading level0 col4\" >4</th>        <th class=\"col_heading level0 col5\" >5</th>        <th class=\"col_heading level0 col6\" >6</th>        <th class=\"col_heading level0 col7\" >7</th>        <th class=\"col_heading level0 col8\" >8</th>        <th class=\"col_heading level0 col9\" >9</th>        <th class=\"col_heading level0 col10\" >10</th>        <th class=\"col_heading level0 col11\" >11</th>        <th class=\"col_heading level0 col12\" >12</th>        <th class=\"col_heading level0 col13\" >13</th>    </tr>    <tr>        <th class=\"blank level1\" ></th>        <th class=\"col_heading level1 col0\" >Year</th>        <th class=\"col_heading level1 col1\" >Title</th>        <th class=\"col_heading level1 col2\" >Peak chart positions</th>        <th class=\"col_heading level1 col3\" >Peak chart positions</th>        <th class=\"col_heading level1 col4\" >Peak chart positions</th>        <th class=\"col_heading level1 col5\" >Peak chart positions</th>        <th class=\"col_heading level1 col6\" >Peak chart positions</th>        <th class=\"col_heading level1 col7\" >Peak chart positions</th>        <th class=\"col_heading level1 col8\" >Peak chart positions</th>        <th class=\"col_heading level1 col9\" >Peak chart positions</th>        <th class=\"col_heading level1 col10\" >Peak chart positions</th>        <th class=\"col_heading level1 col11\" >Peak chart positions</th>        <th class=\"col_heading level1 col12\" ><a href=\"http://en.wikipedia.org/wiki/Music_recording_sales_certification?curid=308242\">Certifications</a> ( <a href=\"http://en.wikipedia.org/wiki/List_of_music_recording_sales_certifications?curid=17627213\">sales thresholds</a> )</th>        <th class=\"col_heading level1 col13\" >Album</th>    </tr>    <tr>        <th class=\"blank level2\" ></th>        <th class=\"col_heading level2 col0\" >Year</th>        <th class=\"col_heading level2 col1\" >Title</th>        <th class=\"col_heading level2 col2\" ><a href=\"http://en.wikipedia.org/wiki/Austrian_Singles_Chart?curid=13757814\">AUT</a></th>        <th class=\"col_heading level2 col3\" ><a href=\"http://en.wikipedia.org/wiki/Finnish_Singles_Chart?curid=7824827\">FIN</a></th>        <th class=\"col_heading level2 col4\" ><a href=\"http://en.wikipedia.org/wiki/French_Singles_Chart?curid=4565593\">FRA</a></th>        <th class=\"col_heading level2 col5\" ><a href=\"http://en.wikipedia.org/wiki/German_Singles_Chart?curid=6170448\">GER</a></th>        <th class=\"col_heading level2 col6\" ><a href=\"http://en.wikipedia.org/wiki/Irish_Singles_Chart?curid=3627762\">IRE</a></th>        <th class=\"col_heading level2 col7\" ><a href=\"http://en.wikipedia.org/wiki/Italian_Singles_Chart?curid=4464404\">ITA</a></th>        <th class=\"col_heading level2 col8\" ><a href=\"http://en.wikipedia.org/wiki/Dutch_Top_40?curid=4685500\">NED</a></th>        <th class=\"col_heading level2 col9\" ><a href=\"http://en.wikipedia.org/wiki/Swiss_Singles_Chart?curid=17054761\">SUI</a></th>        <th class=\"col_heading level2 col10\" ><a href=\"http://en.wikipedia.org/wiki/Swedish_Singles_Chart?curid=11002747\">SWE</a></th>        <th class=\"col_heading level2 col11\" ><a href=\"http://en.wikipedia.org/wiki/UK_Singles_Chart?curid=3349146\">UK</a></th>        <th class=\"col_heading level2 col12\" ><a href=\"http://en.wikipedia.org/wiki/Music_recording_sales_certification?curid=308242\">Certifications</a> ( <a href=\"http://en.wikipedia.org/wiki/List_of_music_recording_sales_certifications?curid=17627213\">sales thresholds</a> )</th>        <th class=\"col_heading level2 col13\" >Album</th>    </tr></thead><tbody>\n",
       "        </tbody></table>"
      ],
      "text/plain": [
       "<pandas.io.formats.style.Styler at 0x7f5f2810f0d0>"
      ]
     },
     "metadata": {},
     "output_type": "display_data"
    },
    {
     "name": "stdout",
     "output_type": "stream",
     "text": [
      "((LinkedString('Year', links=()), LinkedString('GOP', links=((0, 3, 'http://en.wikipedia.org/wiki/Republican_Party_(United_States)?curid=32070'),)), LinkedString('DEM', links=((0, 3, 'http://en.wikipedia.org/wiki/Democratic_Party_(United_States)?curid=5043544'),))),)\n",
      "1\n"
     ]
    },
    {
     "data": {
      "text/html": [
       "<style  type=\"text/css\" >\n",
       "    #T_90d7a6cc_358e_11eb_81c0_00259091f1e8 .col_heading.level0 {\n",
       "          display: none;\n",
       "    }</style><table id=\"T_90d7a6cc_358e_11eb_81c0_00259091f1e8\" ><thead>    <tr>        <th class=\"blank level0\" ></th>        <th class=\"col_heading level0 col0\" >0</th>        <th class=\"col_heading level0 col1\" >1</th>        <th class=\"col_heading level0 col2\" >2</th>    </tr>    <tr>        <th class=\"blank level1\" ></th>        <th class=\"col_heading level1 col0\" >Year</th>        <th class=\"col_heading level1 col1\" ><a href=\"http://en.wikipedia.org/wiki/Republican_Party_(United_States)?curid=32070\">GOP</a></th>        <th class=\"col_heading level1 col2\" ><a href=\"http://en.wikipedia.org/wiki/Democratic_Party_(United_States)?curid=5043544\">DEM</a></th>    </tr></thead><tbody>\n",
       "        </tbody></table>"
      ],
      "text/plain": [
       "<takco.table.TakcoAccessor at 0x7f5f21ba2710>"
      ]
     },
     "metadata": {},
     "output_type": "display_data"
    },
    {
     "name": "stdout",
     "output_type": "stream",
     "text": [
      "((LinkedString('Pos', links=()), LinkedString('Team', links=()), LinkedString('BRN', links=((0, 3, 'http://en.wikipedia.org/wiki/Masaryk_Circuit?curid=1172797'),)), LinkedString('EST', links=((0, 3, 'http://en.wikipedia.org/wiki/Autódromo_do_Estoril?curid=1374113'),)), LinkedString('JER', links=((0, 3, 'http://en.wikipedia.org/wiki/Circuito_de_Jerez?curid=1416541'),)), LinkedString('MOZ', links=((0, 3, 'http://en.wikipedia.org/wiki/Autodromo_Nazionale_Monza?curid=952083'),)), LinkedString('SPA', links=((0, 3, 'http://en.wikipedia.org/wiki/Circuit_de_Spa-Francorchamps?curid=948477'),)), LinkedString('DON', links=((0, 3, 'http://en.wikipedia.org/wiki/Donington_Park?curid=391884'),)), LinkedString('DIJ', links=((0, 3, 'http://en.wikipedia.org/wiki/Dijon-Prenois?curid=1376489'),)), LinkedString('ZOL', links=((0, 3, 'http://en.wikipedia.org/wiki/Zolder?curid=1359186'),)), LinkedString('NÜR1', links=((0, 4, 'http://en.wikipedia.org/wiki/Nürburgring?curid=22122'),)), LinkedString('NÜR2', links=((0, 4, 'http://en.wikipedia.org/wiki/Nürburgring?curid=22122'),)), LinkedString('Pts', links=())),)\n",
      "1 (0, 2, 9, 'short-uppercase-acronyms') None None\n"
     ]
    },
    {
     "data": {
      "text/html": [
       "<style  type=\"text/css\" >\n",
       "    #T_90da4a4e_358e_11eb_81c0_00259091f1e8 .col_heading.level0 {\n",
       "          display: none;\n",
       "    }    #T_90da4a4e_358e_11eb_81c0_00259091f1e8 .col_heading.level1.col2 {\n",
       "          background-color: #ff0;\n",
       "    }    #T_90da4a4e_358e_11eb_81c0_00259091f1e8 .col_heading.level1.col3 {\n",
       "          background-color: #ff0;\n",
       "    }    #T_90da4a4e_358e_11eb_81c0_00259091f1e8 .col_heading.level1.col4 {\n",
       "          background-color: #ff0;\n",
       "    }    #T_90da4a4e_358e_11eb_81c0_00259091f1e8 .col_heading.level1.col5 {\n",
       "          background-color: #ff0;\n",
       "    }    #T_90da4a4e_358e_11eb_81c0_00259091f1e8 .col_heading.level1.col6 {\n",
       "          background-color: #ff0;\n",
       "    }    #T_90da4a4e_358e_11eb_81c0_00259091f1e8 .col_heading.level1.col7 {\n",
       "          background-color: #ff0;\n",
       "    }    #T_90da4a4e_358e_11eb_81c0_00259091f1e8 .col_heading.level1.col8 {\n",
       "          background-color: #ff0;\n",
       "    }    #T_90da4a4e_358e_11eb_81c0_00259091f1e8 .col_heading.level1.col9 {\n",
       "          background-color: #ff0;\n",
       "    }</style><table id=\"T_90da4a4e_358e_11eb_81c0_00259091f1e8\" ><thead>    <tr>        <th class=\"blank level0\" ></th>        <th class=\"col_heading level0 col0\" >0</th>        <th class=\"col_heading level0 col1\" >1</th>        <th class=\"col_heading level0 col2\" >2</th>        <th class=\"col_heading level0 col3\" >3</th>        <th class=\"col_heading level0 col4\" >4</th>        <th class=\"col_heading level0 col5\" >5</th>        <th class=\"col_heading level0 col6\" >6</th>        <th class=\"col_heading level0 col7\" >7</th>        <th class=\"col_heading level0 col8\" >8</th>        <th class=\"col_heading level0 col9\" >9</th>        <th class=\"col_heading level0 col10\" >10</th>        <th class=\"col_heading level0 col11\" >11</th>        <th class=\"col_heading level0 col12\" >12</th>    </tr>    <tr>        <th class=\"blank level1\" ></th>        <th class=\"col_heading level1 col0\" >Pos</th>        <th class=\"col_heading level1 col1\" >Team</th>        <th class=\"col_heading level1 col2\" ><a href=\"http://en.wikipedia.org/wiki/Masaryk_Circuit?curid=1172797\">BRN</a></th>        <th class=\"col_heading level1 col3\" ><a href=\"http://en.wikipedia.org/wiki/Autódromo_do_Estoril?curid=1374113\">EST</a></th>        <th class=\"col_heading level1 col4\" ><a href=\"http://en.wikipedia.org/wiki/Circuito_de_Jerez?curid=1416541\">JER</a></th>        <th class=\"col_heading level1 col5\" ><a href=\"http://en.wikipedia.org/wiki/Autodromo_Nazionale_Monza?curid=952083\">MOZ</a></th>        <th class=\"col_heading level1 col6\" ><a href=\"http://en.wikipedia.org/wiki/Circuit_de_Spa-Francorchamps?curid=948477\">SPA</a></th>        <th class=\"col_heading level1 col7\" ><a href=\"http://en.wikipedia.org/wiki/Donington_Park?curid=391884\">DON</a></th>        <th class=\"col_heading level1 col8\" ><a href=\"http://en.wikipedia.org/wiki/Dijon-Prenois?curid=1376489\">DIJ</a></th>        <th class=\"col_heading level1 col9\" ><a href=\"http://en.wikipedia.org/wiki/Zolder?curid=1359186\">ZOL</a></th>        <th class=\"col_heading level1 col10\" ><a href=\"http://en.wikipedia.org/wiki/Nürburgring?curid=22122\">NÜR1</a></th>        <th class=\"col_heading level1 col11\" ><a href=\"http://en.wikipedia.org/wiki/Nürburgring?curid=22122\">NÜR2</a></th>        <th class=\"col_heading level1 col12\" >Pts</th>    </tr></thead><tbody>\n",
       "        </tbody></table>"
      ],
      "text/plain": [
       "<pandas.io.formats.style.Styler at 0x7f5f21bae750>"
      ]
     },
     "metadata": {},
     "output_type": "display_data"
    },
    {
     "name": "stdout",
     "output_type": "stream",
     "text": [
      "((LinkedString('Pos', links=()), LinkedString('Driver', links=()), LinkedString('THR', links=((0, 3, 'http://en.wikipedia.org/wiki/Thruxton_Circuit?curid=3538081'),)), LinkedString('BHI', links=((0, 3, 'http://en.wikipedia.org/wiki/Brands_Hatch?curid=1068202'),)), LinkedString('BHI', links=((0, 3, 'http://en.wikipedia.org/wiki/Brands_Hatch?curid=1068202'),)), LinkedString('SNE', links=((0, 3, 'http://en.wikipedia.org/wiki/Snetterton_Motor_Racing_Circuit?curid=4237101'),)), LinkedString('SIL', links=((0, 3, 'http://en.wikipedia.org/wiki/Silverstone_Circuit?curid=522676'),)), LinkedString('SIL', links=((0, 3, 'http://en.wikipedia.org/wiki/Silverstone_Circuit?curid=522676'),)), LinkedString('OUL', links=((0, 3, 'http://en.wikipedia.org/wiki/Oulton_Park?curid=3347772'),)), LinkedString('DON', links=((0, 3, 'http://en.wikipedia.org/wiki/Donington_Park?curid=391884'),)), LinkedString('DON', links=((0, 3, 'http://en.wikipedia.org/wiki/Donington_Park?curid=391884'),)), LinkedString('BHGP', links=((0, 4, 'http://en.wikipedia.org/wiki/Brands_Hatch?curid=1068202'),)), LinkedString('BHGP', links=((0, 4, 'http://en.wikipedia.org/wiki/Brands_Hatch?curid=1068202'),)), LinkedString('SIL', links=((0, 3, 'http://en.wikipedia.org/wiki/Silverstone_Circuit?curid=522676'),)), LinkedString('KNO', links=((0, 3, 'http://en.wikipedia.org/wiki/Knockhill_Racing_Circuit?curid=4958777'),)), LinkedString('KNO', links=((0, 3, 'http://en.wikipedia.org/wiki/Knockhill_Racing_Circuit?curid=4958777'),)), LinkedString('OUL', links=((0, 3, 'http://en.wikipedia.org/wiki/Oulton_Park?curid=3347772'),)), LinkedString('BHI', links=((0, 3, 'http://en.wikipedia.org/wiki/Brands_Hatch?curid=1068202'),)), LinkedString('BHI', links=((0, 3, 'http://en.wikipedia.org/wiki/Brands_Hatch?curid=1068202'),)), LinkedString('SIL', links=((0, 3, 'http://en.wikipedia.org/wiki/Silverstone_Circuit?curid=522676'),)), LinkedString('SIL', links=((0, 3, 'http://en.wikipedia.org/wiki/Silverstone_Circuit?curid=522676'),)), LinkedString('DON', links=((0, 3, 'http://en.wikipedia.org/wiki/Donington_Park?curid=391884'),)), LinkedString('DON', links=((0, 3, 'http://en.wikipedia.org/wiki/Donington_Park?curid=391884'),)), LinkedString('Pts', links=())),)\n",
      "1 (0, 2, 22, 'short-uppercase-acronyms') None None\n"
     ]
    },
    {
     "data": {
      "text/html": [
       "<style  type=\"text/css\" >\n",
       "    #T_90dd6878_358e_11eb_81c0_00259091f1e8 .col_heading.level0 {\n",
       "          display: none;\n",
       "    }    #T_90dd6878_358e_11eb_81c0_00259091f1e8 .col_heading.level1.col2 {\n",
       "          background-color: #ff0;\n",
       "    }    #T_90dd6878_358e_11eb_81c0_00259091f1e8 .col_heading.level1.col3 {\n",
       "          background-color: #ff0;\n",
       "    }    #T_90dd6878_358e_11eb_81c0_00259091f1e8 .col_heading.level1.col4 {\n",
       "          background-color: #ff0;\n",
       "    }    #T_90dd6878_358e_11eb_81c0_00259091f1e8 .col_heading.level1.col5 {\n",
       "          background-color: #ff0;\n",
       "    }    #T_90dd6878_358e_11eb_81c0_00259091f1e8 .col_heading.level1.col6 {\n",
       "          background-color: #ff0;\n",
       "    }    #T_90dd6878_358e_11eb_81c0_00259091f1e8 .col_heading.level1.col7 {\n",
       "          background-color: #ff0;\n",
       "    }    #T_90dd6878_358e_11eb_81c0_00259091f1e8 .col_heading.level1.col8 {\n",
       "          background-color: #ff0;\n",
       "    }    #T_90dd6878_358e_11eb_81c0_00259091f1e8 .col_heading.level1.col9 {\n",
       "          background-color: #ff0;\n",
       "    }    #T_90dd6878_358e_11eb_81c0_00259091f1e8 .col_heading.level1.col10 {\n",
       "          background-color: #ff0;\n",
       "    }    #T_90dd6878_358e_11eb_81c0_00259091f1e8 .col_heading.level1.col11 {\n",
       "          background-color: #ff0;\n",
       "    }    #T_90dd6878_358e_11eb_81c0_00259091f1e8 .col_heading.level1.col12 {\n",
       "          background-color: #ff0;\n",
       "    }    #T_90dd6878_358e_11eb_81c0_00259091f1e8 .col_heading.level1.col13 {\n",
       "          background-color: #ff0;\n",
       "    }    #T_90dd6878_358e_11eb_81c0_00259091f1e8 .col_heading.level1.col14 {\n",
       "          background-color: #ff0;\n",
       "    }    #T_90dd6878_358e_11eb_81c0_00259091f1e8 .col_heading.level1.col15 {\n",
       "          background-color: #ff0;\n",
       "    }    #T_90dd6878_358e_11eb_81c0_00259091f1e8 .col_heading.level1.col16 {\n",
       "          background-color: #ff0;\n",
       "    }    #T_90dd6878_358e_11eb_81c0_00259091f1e8 .col_heading.level1.col17 {\n",
       "          background-color: #ff0;\n",
       "    }    #T_90dd6878_358e_11eb_81c0_00259091f1e8 .col_heading.level1.col18 {\n",
       "          background-color: #ff0;\n",
       "    }    #T_90dd6878_358e_11eb_81c0_00259091f1e8 .col_heading.level1.col19 {\n",
       "          background-color: #ff0;\n",
       "    }    #T_90dd6878_358e_11eb_81c0_00259091f1e8 .col_heading.level1.col20 {\n",
       "          background-color: #ff0;\n",
       "    }    #T_90dd6878_358e_11eb_81c0_00259091f1e8 .col_heading.level1.col21 {\n",
       "          background-color: #ff0;\n",
       "    }    #T_90dd6878_358e_11eb_81c0_00259091f1e8 .col_heading.level1.col22 {\n",
       "          background-color: #ff0;\n",
       "    }</style><table id=\"T_90dd6878_358e_11eb_81c0_00259091f1e8\" ><thead>    <tr>        <th class=\"blank level0\" ></th>        <th class=\"col_heading level0 col0\" >0</th>        <th class=\"col_heading level0 col1\" >1</th>        <th class=\"col_heading level0 col2\" >2</th>        <th class=\"col_heading level0 col3\" >3</th>        <th class=\"col_heading level0 col4\" >4</th>        <th class=\"col_heading level0 col5\" >5</th>        <th class=\"col_heading level0 col6\" >6</th>        <th class=\"col_heading level0 col7\" >7</th>        <th class=\"col_heading level0 col8\" >8</th>        <th class=\"col_heading level0 col9\" >9</th>        <th class=\"col_heading level0 col10\" >10</th>        <th class=\"col_heading level0 col11\" >11</th>        <th class=\"col_heading level0 col12\" >12</th>        <th class=\"col_heading level0 col13\" >13</th>        <th class=\"col_heading level0 col14\" >14</th>        <th class=\"col_heading level0 col15\" >15</th>        <th class=\"col_heading level0 col16\" >16</th>        <th class=\"col_heading level0 col17\" >17</th>        <th class=\"col_heading level0 col18\" >18</th>        <th class=\"col_heading level0 col19\" >19</th>        <th class=\"col_heading level0 col20\" >20</th>        <th class=\"col_heading level0 col21\" >21</th>        <th class=\"col_heading level0 col22\" >22</th>        <th class=\"col_heading level0 col23\" >23</th>    </tr>    <tr>        <th class=\"blank level1\" ></th>        <th class=\"col_heading level1 col0\" >Pos</th>        <th class=\"col_heading level1 col1\" >Driver</th>        <th class=\"col_heading level1 col2\" ><a href=\"http://en.wikipedia.org/wiki/Thruxton_Circuit?curid=3538081\">THR</a></th>        <th class=\"col_heading level1 col3\" ><a href=\"http://en.wikipedia.org/wiki/Brands_Hatch?curid=1068202\">BHI</a></th>        <th class=\"col_heading level1 col4\" ><a href=\"http://en.wikipedia.org/wiki/Brands_Hatch?curid=1068202\">BHI</a></th>        <th class=\"col_heading level1 col5\" ><a href=\"http://en.wikipedia.org/wiki/Snetterton_Motor_Racing_Circuit?curid=4237101\">SNE</a></th>        <th class=\"col_heading level1 col6\" ><a href=\"http://en.wikipedia.org/wiki/Silverstone_Circuit?curid=522676\">SIL</a></th>        <th class=\"col_heading level1 col7\" ><a href=\"http://en.wikipedia.org/wiki/Silverstone_Circuit?curid=522676\">SIL</a></th>        <th class=\"col_heading level1 col8\" ><a href=\"http://en.wikipedia.org/wiki/Oulton_Park?curid=3347772\">OUL</a></th>        <th class=\"col_heading level1 col9\" ><a href=\"http://en.wikipedia.org/wiki/Donington_Park?curid=391884\">DON</a></th>        <th class=\"col_heading level1 col10\" ><a href=\"http://en.wikipedia.org/wiki/Donington_Park?curid=391884\">DON</a></th>        <th class=\"col_heading level1 col11\" ><a href=\"http://en.wikipedia.org/wiki/Brands_Hatch?curid=1068202\">BHGP</a></th>        <th class=\"col_heading level1 col12\" ><a href=\"http://en.wikipedia.org/wiki/Brands_Hatch?curid=1068202\">BHGP</a></th>        <th class=\"col_heading level1 col13\" ><a href=\"http://en.wikipedia.org/wiki/Silverstone_Circuit?curid=522676\">SIL</a></th>        <th class=\"col_heading level1 col14\" ><a href=\"http://en.wikipedia.org/wiki/Knockhill_Racing_Circuit?curid=4958777\">KNO</a></th>        <th class=\"col_heading level1 col15\" ><a href=\"http://en.wikipedia.org/wiki/Knockhill_Racing_Circuit?curid=4958777\">KNO</a></th>        <th class=\"col_heading level1 col16\" ><a href=\"http://en.wikipedia.org/wiki/Oulton_Park?curid=3347772\">OUL</a></th>        <th class=\"col_heading level1 col17\" ><a href=\"http://en.wikipedia.org/wiki/Brands_Hatch?curid=1068202\">BHI</a></th>        <th class=\"col_heading level1 col18\" ><a href=\"http://en.wikipedia.org/wiki/Brands_Hatch?curid=1068202\">BHI</a></th>        <th class=\"col_heading level1 col19\" ><a href=\"http://en.wikipedia.org/wiki/Silverstone_Circuit?curid=522676\">SIL</a></th>        <th class=\"col_heading level1 col20\" ><a href=\"http://en.wikipedia.org/wiki/Silverstone_Circuit?curid=522676\">SIL</a></th>        <th class=\"col_heading level1 col21\" ><a href=\"http://en.wikipedia.org/wiki/Donington_Park?curid=391884\">DON</a></th>        <th class=\"col_heading level1 col22\" ><a href=\"http://en.wikipedia.org/wiki/Donington_Park?curid=391884\">DON</a></th>        <th class=\"col_heading level1 col23\" >Pts</th>    </tr></thead><tbody>\n",
       "        </tbody></table>"
      ],
      "text/plain": [
       "<pandas.io.formats.style.Styler at 0x7f5f2811a710>"
      ]
     },
     "metadata": {},
     "output_type": "display_data"
    },
    {
     "name": "stdout",
     "output_type": "stream",
     "text": [
      "((LinkedString('Home \\ Away [1 ]', links=()), LinkedString('AMB', links=((0, 3, 'http://en.wikipedia.org/wiki/F.C._Internazionale_Milano?curid=15116'),)), LinkedString('BAR', links=((0, 3, 'http://en.wikipedia.org/wiki/A.S._Bari?curid=1138693'),)), LinkedString('BOL', links=((0, 3, 'http://en.wikipedia.org/wiki/Bologna_F.C._1909?curid=81238'),)), LinkedString('GEN', links=((0, 3, 'http://en.wikipedia.org/wiki/Genoa_C.F.C.?curid=30872779'),)), LinkedString('JUV', links=((0, 3, 'http://en.wikipedia.org/wiki/Juventus_F.C.?curid=16415'),)), LinkedString('LAZ', links=((0, 3, 'http://en.wikipedia.org/wiki/S.S._Lazio?curid=28984'),)), LinkedString('LIG', links=((0, 3, 'http://en.wikipedia.org/wiki/U.C._Sampdoria?curid=574307'),)), LinkedString('LIV', links=((0, 3, 'http://en.wikipedia.org/wiki/A.S._Livorno_Calcio?curid=1135871'),)), LinkedString('LUC', links=((0, 3, 'http://en.wikipedia.org/wiki/F.C._Lucchese_1905?curid=33707714'),)), LinkedString('MIL', links=((0, 3, 'http://en.wikipedia.org/wiki/A.C._Milan?curid=18940588'),)), LinkedString('MOD', links=((0, 3, 'http://en.wikipedia.org/wiki/Modena_F.C.?curid=1136879'),)), LinkedString('NAP', links=((0, 3, 'http://en.wikipedia.org/wiki/S.S.C._Napoli?curid=1130620'),)), LinkedString('NOV', links=((0, 3, 'http://en.wikipedia.org/wiki/Novara_Calcio?curid=2870673'),)), LinkedString('ROM', links=((0, 3, 'http://en.wikipedia.org/wiki/A.S._Roma?curid=2358'),)), LinkedString('TOR', links=((0, 3, 'http://en.wikipedia.org/wiki/Torino_F.C.?curid=19450750'),)), LinkedString('TRI', links=((0, 3, 'http://en.wikipedia.org/wiki/Unione_Triestina_2012_S.S.D.?curid=1411374'),))),)\n",
      "1 (0, 1, 16, 'short-uppercase-acronyms') None None\n"
     ]
    },
    {
     "data": {
      "text/html": [
       "<style  type=\"text/css\" >\n",
       "    #T_90e0c3d8_358e_11eb_81c0_00259091f1e8 .col_heading.level0 {\n",
       "          display: none;\n",
       "    }    #T_90e0c3d8_358e_11eb_81c0_00259091f1e8 .col_heading.level1.col1 {\n",
       "          background-color: #ff0;\n",
       "    }    #T_90e0c3d8_358e_11eb_81c0_00259091f1e8 .col_heading.level1.col2 {\n",
       "          background-color: #ff0;\n",
       "    }    #T_90e0c3d8_358e_11eb_81c0_00259091f1e8 .col_heading.level1.col3 {\n",
       "          background-color: #ff0;\n",
       "    }    #T_90e0c3d8_358e_11eb_81c0_00259091f1e8 .col_heading.level1.col4 {\n",
       "          background-color: #ff0;\n",
       "    }    #T_90e0c3d8_358e_11eb_81c0_00259091f1e8 .col_heading.level1.col5 {\n",
       "          background-color: #ff0;\n",
       "    }    #T_90e0c3d8_358e_11eb_81c0_00259091f1e8 .col_heading.level1.col6 {\n",
       "          background-color: #ff0;\n",
       "    }    #T_90e0c3d8_358e_11eb_81c0_00259091f1e8 .col_heading.level1.col7 {\n",
       "          background-color: #ff0;\n",
       "    }    #T_90e0c3d8_358e_11eb_81c0_00259091f1e8 .col_heading.level1.col8 {\n",
       "          background-color: #ff0;\n",
       "    }    #T_90e0c3d8_358e_11eb_81c0_00259091f1e8 .col_heading.level1.col9 {\n",
       "          background-color: #ff0;\n",
       "    }    #T_90e0c3d8_358e_11eb_81c0_00259091f1e8 .col_heading.level1.col10 {\n",
       "          background-color: #ff0;\n",
       "    }    #T_90e0c3d8_358e_11eb_81c0_00259091f1e8 .col_heading.level1.col11 {\n",
       "          background-color: #ff0;\n",
       "    }    #T_90e0c3d8_358e_11eb_81c0_00259091f1e8 .col_heading.level1.col12 {\n",
       "          background-color: #ff0;\n",
       "    }    #T_90e0c3d8_358e_11eb_81c0_00259091f1e8 .col_heading.level1.col13 {\n",
       "          background-color: #ff0;\n",
       "    }    #T_90e0c3d8_358e_11eb_81c0_00259091f1e8 .col_heading.level1.col14 {\n",
       "          background-color: #ff0;\n",
       "    }    #T_90e0c3d8_358e_11eb_81c0_00259091f1e8 .col_heading.level1.col15 {\n",
       "          background-color: #ff0;\n",
       "    }    #T_90e0c3d8_358e_11eb_81c0_00259091f1e8 .col_heading.level1.col16 {\n",
       "          background-color: #ff0;\n",
       "    }</style><table id=\"T_90e0c3d8_358e_11eb_81c0_00259091f1e8\" ><thead>    <tr>        <th class=\"blank level0\" ></th>        <th class=\"col_heading level0 col0\" >0</th>        <th class=\"col_heading level0 col1\" >1</th>        <th class=\"col_heading level0 col2\" >2</th>        <th class=\"col_heading level0 col3\" >3</th>        <th class=\"col_heading level0 col4\" >4</th>        <th class=\"col_heading level0 col5\" >5</th>        <th class=\"col_heading level0 col6\" >6</th>        <th class=\"col_heading level0 col7\" >7</th>        <th class=\"col_heading level0 col8\" >8</th>        <th class=\"col_heading level0 col9\" >9</th>        <th class=\"col_heading level0 col10\" >10</th>        <th class=\"col_heading level0 col11\" >11</th>        <th class=\"col_heading level0 col12\" >12</th>        <th class=\"col_heading level0 col13\" >13</th>        <th class=\"col_heading level0 col14\" >14</th>        <th class=\"col_heading level0 col15\" >15</th>        <th class=\"col_heading level0 col16\" >16</th>    </tr>    <tr>        <th class=\"blank level1\" ></th>        <th class=\"col_heading level1 col0\" >Home \\ Away [1 ]</th>        <th class=\"col_heading level1 col1\" ><a href=\"http://en.wikipedia.org/wiki/F.C._Internazionale_Milano?curid=15116\">AMB</a></th>        <th class=\"col_heading level1 col2\" ><a href=\"http://en.wikipedia.org/wiki/A.S._Bari?curid=1138693\">BAR</a></th>        <th class=\"col_heading level1 col3\" ><a href=\"http://en.wikipedia.org/wiki/Bologna_F.C._1909?curid=81238\">BOL</a></th>        <th class=\"col_heading level1 col4\" ><a href=\"http://en.wikipedia.org/wiki/Genoa_C.F.C.?curid=30872779\">GEN</a></th>        <th class=\"col_heading level1 col5\" ><a href=\"http://en.wikipedia.org/wiki/Juventus_F.C.?curid=16415\">JUV</a></th>        <th class=\"col_heading level1 col6\" ><a href=\"http://en.wikipedia.org/wiki/S.S._Lazio?curid=28984\">LAZ</a></th>        <th class=\"col_heading level1 col7\" ><a href=\"http://en.wikipedia.org/wiki/U.C._Sampdoria?curid=574307\">LIG</a></th>        <th class=\"col_heading level1 col8\" ><a href=\"http://en.wikipedia.org/wiki/A.S._Livorno_Calcio?curid=1135871\">LIV</a></th>        <th class=\"col_heading level1 col9\" ><a href=\"http://en.wikipedia.org/wiki/F.C._Lucchese_1905?curid=33707714\">LUC</a></th>        <th class=\"col_heading level1 col10\" ><a href=\"http://en.wikipedia.org/wiki/A.C._Milan?curid=18940588\">MIL</a></th>        <th class=\"col_heading level1 col11\" ><a href=\"http://en.wikipedia.org/wiki/Modena_F.C.?curid=1136879\">MOD</a></th>        <th class=\"col_heading level1 col12\" ><a href=\"http://en.wikipedia.org/wiki/S.S.C._Napoli?curid=1130620\">NAP</a></th>        <th class=\"col_heading level1 col13\" ><a href=\"http://en.wikipedia.org/wiki/Novara_Calcio?curid=2870673\">NOV</a></th>        <th class=\"col_heading level1 col14\" ><a href=\"http://en.wikipedia.org/wiki/A.S._Roma?curid=2358\">ROM</a></th>        <th class=\"col_heading level1 col15\" ><a href=\"http://en.wikipedia.org/wiki/Torino_F.C.?curid=19450750\">TOR</a></th>        <th class=\"col_heading level1 col16\" ><a href=\"http://en.wikipedia.org/wiki/Unione_Triestina_2012_S.S.D.?curid=1411374\">TRI</a></th>    </tr></thead><tbody>\n",
       "        </tbody></table>"
      ],
      "text/plain": [
       "<pandas.io.formats.style.Styler at 0x7f601dc76750>"
      ]
     },
     "metadata": {},
     "output_type": "display_data"
    },
    {
     "name": "stdout",
     "output_type": "stream",
     "text": [
      "((LinkedString('Pos', links=()), LinkedString('Driver', links=()), LinkedString('BHI', links=((0, 3, 'http://en.wikipedia.org/wiki/Brands_Hatch?curid=1068202'),)), LinkedString('BHI', links=((0, 3, 'http://en.wikipedia.org/wiki/Brands_Hatch?curid=1068202'),)), LinkedString('BHI', links=((0, 3, 'http://en.wikipedia.org/wiki/Brands_Hatch?curid=1068202'),)), LinkedString('ROC', links=((0, 3, 'http://en.wikipedia.org/wiki/Rockingham_Motor_Speedway?curid=516261'),)), LinkedString('ROC', links=((0, 3, 'http://en.wikipedia.org/wiki/Rockingham_Motor_Speedway?curid=516261'),)), LinkedString('ROC', links=((0, 3, 'http://en.wikipedia.org/wiki/Rockingham_Motor_Speedway?curid=516261'),)), LinkedString('DON', links=((0, 3, 'http://en.wikipedia.org/wiki/Donington_Park?curid=391884'),)), LinkedString('DON', links=((0, 3, 'http://en.wikipedia.org/wiki/Donington_Park?curid=391884'),)), LinkedString('DON', links=((0, 3, 'http://en.wikipedia.org/wiki/Donington_Park?curid=391884'),)), LinkedString('THR', links=((0, 3, 'http://en.wikipedia.org/wiki/Thruxton_Circuit?curid=3538081'),)), LinkedString('THR', links=((0, 3, 'http://en.wikipedia.org/wiki/Thruxton_Circuit?curid=3538081'),)), LinkedString('THR', links=((0, 3, 'http://en.wikipedia.org/wiki/Thruxton_Circuit?curid=3538081'),)), LinkedString('CRO', links=((0, 3, 'http://en.wikipedia.org/wiki/Croft_Circuit?curid=3606322'),)), LinkedString('CRO', links=((0, 3, 'http://en.wikipedia.org/wiki/Croft_Circuit?curid=3606322'),)), LinkedString('CRO', links=((0, 3, 'http://en.wikipedia.org/wiki/Croft_Circuit?curid=3606322'),)), LinkedString('SNE', links=((0, 3, 'http://en.wikipedia.org/wiki/Snetterton_Motor_Racing_Circuit?curid=4237101'),)), LinkedString('SNE', links=((0, 3, 'http://en.wikipedia.org/wiki/Snetterton_Motor_Racing_Circuit?curid=4237101'),)), LinkedString('SNE', links=((0, 3, 'http://en.wikipedia.org/wiki/Snetterton_Motor_Racing_Circuit?curid=4237101'),)), LinkedString('OUL', links=((0, 3, 'http://en.wikipedia.org/wiki/Oulton_Park?curid=3347772'),)), LinkedString('OUL', links=((0, 3, 'http://en.wikipedia.org/wiki/Oulton_Park?curid=3347772'),)), LinkedString('OUL', links=((0, 3, 'http://en.wikipedia.org/wiki/Oulton_Park?curid=3347772'),)), LinkedString('KNO', links=((0, 3, 'http://en.wikipedia.org/wiki/Knockhill_Racing_Circuit?curid=4958777'),)), LinkedString('KNO', links=((0, 3, 'http://en.wikipedia.org/wiki/Knockhill_Racing_Circuit?curid=4958777'),)), LinkedString('KNO', links=((0, 3, 'http://en.wikipedia.org/wiki/Knockhill_Racing_Circuit?curid=4958777'),)), LinkedString('SIL', links=((0, 3, 'http://en.wikipedia.org/wiki/Silverstone_Circuit?curid=522676'),)), LinkedString('SIL', links=((0, 3, 'http://en.wikipedia.org/wiki/Silverstone_Circuit?curid=522676'),)), LinkedString('SIL', links=((0, 3, 'http://en.wikipedia.org/wiki/Silverstone_Circuit?curid=522676'),)), LinkedString('BHI', links=((0, 3, 'http://en.wikipedia.org/wiki/Brands_Hatch?curid=1068202'),)), LinkedString('BHI', links=((0, 3, 'http://en.wikipedia.org/wiki/Brands_Hatch?curid=1068202'),)), LinkedString('BHI', links=((0, 3, 'http://en.wikipedia.org/wiki/Brands_Hatch?curid=1068202'),)), LinkedString('Pts', links=())),)\n",
      "1 (0, 2, 31, 'short-uppercase-acronyms') None None\n"
     ]
    },
    {
     "data": {
      "text/html": [
       "<style  type=\"text/css\" >\n",
       "    #T_90e4dbb2_358e_11eb_81c0_00259091f1e8 .col_heading.level0 {\n",
       "          display: none;\n",
       "    }    #T_90e4dbb2_358e_11eb_81c0_00259091f1e8 .col_heading.level1.col2 {\n",
       "          background-color: #ff0;\n",
       "    }    #T_90e4dbb2_358e_11eb_81c0_00259091f1e8 .col_heading.level1.col3 {\n",
       "          background-color: #ff0;\n",
       "    }    #T_90e4dbb2_358e_11eb_81c0_00259091f1e8 .col_heading.level1.col4 {\n",
       "          background-color: #ff0;\n",
       "    }    #T_90e4dbb2_358e_11eb_81c0_00259091f1e8 .col_heading.level1.col5 {\n",
       "          background-color: #ff0;\n",
       "    }    #T_90e4dbb2_358e_11eb_81c0_00259091f1e8 .col_heading.level1.col6 {\n",
       "          background-color: #ff0;\n",
       "    }    #T_90e4dbb2_358e_11eb_81c0_00259091f1e8 .col_heading.level1.col7 {\n",
       "          background-color: #ff0;\n",
       "    }    #T_90e4dbb2_358e_11eb_81c0_00259091f1e8 .col_heading.level1.col8 {\n",
       "          background-color: #ff0;\n",
       "    }    #T_90e4dbb2_358e_11eb_81c0_00259091f1e8 .col_heading.level1.col9 {\n",
       "          background-color: #ff0;\n",
       "    }    #T_90e4dbb2_358e_11eb_81c0_00259091f1e8 .col_heading.level1.col10 {\n",
       "          background-color: #ff0;\n",
       "    }    #T_90e4dbb2_358e_11eb_81c0_00259091f1e8 .col_heading.level1.col11 {\n",
       "          background-color: #ff0;\n",
       "    }    #T_90e4dbb2_358e_11eb_81c0_00259091f1e8 .col_heading.level1.col12 {\n",
       "          background-color: #ff0;\n",
       "    }    #T_90e4dbb2_358e_11eb_81c0_00259091f1e8 .col_heading.level1.col13 {\n",
       "          background-color: #ff0;\n",
       "    }    #T_90e4dbb2_358e_11eb_81c0_00259091f1e8 .col_heading.level1.col14 {\n",
       "          background-color: #ff0;\n",
       "    }    #T_90e4dbb2_358e_11eb_81c0_00259091f1e8 .col_heading.level1.col15 {\n",
       "          background-color: #ff0;\n",
       "    }    #T_90e4dbb2_358e_11eb_81c0_00259091f1e8 .col_heading.level1.col16 {\n",
       "          background-color: #ff0;\n",
       "    }    #T_90e4dbb2_358e_11eb_81c0_00259091f1e8 .col_heading.level1.col17 {\n",
       "          background-color: #ff0;\n",
       "    }    #T_90e4dbb2_358e_11eb_81c0_00259091f1e8 .col_heading.level1.col18 {\n",
       "          background-color: #ff0;\n",
       "    }    #T_90e4dbb2_358e_11eb_81c0_00259091f1e8 .col_heading.level1.col19 {\n",
       "          background-color: #ff0;\n",
       "    }    #T_90e4dbb2_358e_11eb_81c0_00259091f1e8 .col_heading.level1.col20 {\n",
       "          background-color: #ff0;\n",
       "    }    #T_90e4dbb2_358e_11eb_81c0_00259091f1e8 .col_heading.level1.col21 {\n",
       "          background-color: #ff0;\n",
       "    }    #T_90e4dbb2_358e_11eb_81c0_00259091f1e8 .col_heading.level1.col22 {\n",
       "          background-color: #ff0;\n",
       "    }    #T_90e4dbb2_358e_11eb_81c0_00259091f1e8 .col_heading.level1.col23 {\n",
       "          background-color: #ff0;\n",
       "    }    #T_90e4dbb2_358e_11eb_81c0_00259091f1e8 .col_heading.level1.col24 {\n",
       "          background-color: #ff0;\n",
       "    }    #T_90e4dbb2_358e_11eb_81c0_00259091f1e8 .col_heading.level1.col25 {\n",
       "          background-color: #ff0;\n",
       "    }    #T_90e4dbb2_358e_11eb_81c0_00259091f1e8 .col_heading.level1.col26 {\n",
       "          background-color: #ff0;\n",
       "    }    #T_90e4dbb2_358e_11eb_81c0_00259091f1e8 .col_heading.level1.col27 {\n",
       "          background-color: #ff0;\n",
       "    }    #T_90e4dbb2_358e_11eb_81c0_00259091f1e8 .col_heading.level1.col28 {\n",
       "          background-color: #ff0;\n",
       "    }    #T_90e4dbb2_358e_11eb_81c0_00259091f1e8 .col_heading.level1.col29 {\n",
       "          background-color: #ff0;\n",
       "    }    #T_90e4dbb2_358e_11eb_81c0_00259091f1e8 .col_heading.level1.col30 {\n",
       "          background-color: #ff0;\n",
       "    }    #T_90e4dbb2_358e_11eb_81c0_00259091f1e8 .col_heading.level1.col31 {\n",
       "          background-color: #ff0;\n",
       "    }</style><table id=\"T_90e4dbb2_358e_11eb_81c0_00259091f1e8\" ><thead>    <tr>        <th class=\"blank level0\" ></th>        <th class=\"col_heading level0 col0\" >0</th>        <th class=\"col_heading level0 col1\" >1</th>        <th class=\"col_heading level0 col2\" >2</th>        <th class=\"col_heading level0 col3\" >3</th>        <th class=\"col_heading level0 col4\" >4</th>        <th class=\"col_heading level0 col5\" >5</th>        <th class=\"col_heading level0 col6\" >6</th>        <th class=\"col_heading level0 col7\" >7</th>        <th class=\"col_heading level0 col8\" >8</th>        <th class=\"col_heading level0 col9\" >9</th>        <th class=\"col_heading level0 col10\" >10</th>        <th class=\"col_heading level0 col11\" >11</th>        <th class=\"col_heading level0 col12\" >12</th>        <th class=\"col_heading level0 col13\" >13</th>        <th class=\"col_heading level0 col14\" >14</th>        <th class=\"col_heading level0 col15\" >15</th>        <th class=\"col_heading level0 col16\" >16</th>        <th class=\"col_heading level0 col17\" >17</th>        <th class=\"col_heading level0 col18\" >18</th>        <th class=\"col_heading level0 col19\" >19</th>        <th class=\"col_heading level0 col20\" >20</th>        <th class=\"col_heading level0 col21\" >21</th>        <th class=\"col_heading level0 col22\" >22</th>        <th class=\"col_heading level0 col23\" >23</th>        <th class=\"col_heading level0 col24\" >24</th>        <th class=\"col_heading level0 col25\" >25</th>        <th class=\"col_heading level0 col26\" >26</th>        <th class=\"col_heading level0 col27\" >27</th>        <th class=\"col_heading level0 col28\" >28</th>        <th class=\"col_heading level0 col29\" >29</th>        <th class=\"col_heading level0 col30\" >30</th>        <th class=\"col_heading level0 col31\" >31</th>        <th class=\"col_heading level0 col32\" >32</th>    </tr>    <tr>        <th class=\"blank level1\" ></th>        <th class=\"col_heading level1 col0\" >Pos</th>        <th class=\"col_heading level1 col1\" >Driver</th>        <th class=\"col_heading level1 col2\" ><a href=\"http://en.wikipedia.org/wiki/Brands_Hatch?curid=1068202\">BHI</a></th>        <th class=\"col_heading level1 col3\" ><a href=\"http://en.wikipedia.org/wiki/Brands_Hatch?curid=1068202\">BHI</a></th>        <th class=\"col_heading level1 col4\" ><a href=\"http://en.wikipedia.org/wiki/Brands_Hatch?curid=1068202\">BHI</a></th>        <th class=\"col_heading level1 col5\" ><a href=\"http://en.wikipedia.org/wiki/Rockingham_Motor_Speedway?curid=516261\">ROC</a></th>        <th class=\"col_heading level1 col6\" ><a href=\"http://en.wikipedia.org/wiki/Rockingham_Motor_Speedway?curid=516261\">ROC</a></th>        <th class=\"col_heading level1 col7\" ><a href=\"http://en.wikipedia.org/wiki/Rockingham_Motor_Speedway?curid=516261\">ROC</a></th>        <th class=\"col_heading level1 col8\" ><a href=\"http://en.wikipedia.org/wiki/Donington_Park?curid=391884\">DON</a></th>        <th class=\"col_heading level1 col9\" ><a href=\"http://en.wikipedia.org/wiki/Donington_Park?curid=391884\">DON</a></th>        <th class=\"col_heading level1 col10\" ><a href=\"http://en.wikipedia.org/wiki/Donington_Park?curid=391884\">DON</a></th>        <th class=\"col_heading level1 col11\" ><a href=\"http://en.wikipedia.org/wiki/Thruxton_Circuit?curid=3538081\">THR</a></th>        <th class=\"col_heading level1 col12\" ><a href=\"http://en.wikipedia.org/wiki/Thruxton_Circuit?curid=3538081\">THR</a></th>        <th class=\"col_heading level1 col13\" ><a href=\"http://en.wikipedia.org/wiki/Thruxton_Circuit?curid=3538081\">THR</a></th>        <th class=\"col_heading level1 col14\" ><a href=\"http://en.wikipedia.org/wiki/Croft_Circuit?curid=3606322\">CRO</a></th>        <th class=\"col_heading level1 col15\" ><a href=\"http://en.wikipedia.org/wiki/Croft_Circuit?curid=3606322\">CRO</a></th>        <th class=\"col_heading level1 col16\" ><a href=\"http://en.wikipedia.org/wiki/Croft_Circuit?curid=3606322\">CRO</a></th>        <th class=\"col_heading level1 col17\" ><a href=\"http://en.wikipedia.org/wiki/Snetterton_Motor_Racing_Circuit?curid=4237101\">SNE</a></th>        <th class=\"col_heading level1 col18\" ><a href=\"http://en.wikipedia.org/wiki/Snetterton_Motor_Racing_Circuit?curid=4237101\">SNE</a></th>        <th class=\"col_heading level1 col19\" ><a href=\"http://en.wikipedia.org/wiki/Snetterton_Motor_Racing_Circuit?curid=4237101\">SNE</a></th>        <th class=\"col_heading level1 col20\" ><a href=\"http://en.wikipedia.org/wiki/Oulton_Park?curid=3347772\">OUL</a></th>        <th class=\"col_heading level1 col21\" ><a href=\"http://en.wikipedia.org/wiki/Oulton_Park?curid=3347772\">OUL</a></th>        <th class=\"col_heading level1 col22\" ><a href=\"http://en.wikipedia.org/wiki/Oulton_Park?curid=3347772\">OUL</a></th>        <th class=\"col_heading level1 col23\" ><a href=\"http://en.wikipedia.org/wiki/Knockhill_Racing_Circuit?curid=4958777\">KNO</a></th>        <th class=\"col_heading level1 col24\" ><a href=\"http://en.wikipedia.org/wiki/Knockhill_Racing_Circuit?curid=4958777\">KNO</a></th>        <th class=\"col_heading level1 col25\" ><a href=\"http://en.wikipedia.org/wiki/Knockhill_Racing_Circuit?curid=4958777\">KNO</a></th>        <th class=\"col_heading level1 col26\" ><a href=\"http://en.wikipedia.org/wiki/Silverstone_Circuit?curid=522676\">SIL</a></th>        <th class=\"col_heading level1 col27\" ><a href=\"http://en.wikipedia.org/wiki/Silverstone_Circuit?curid=522676\">SIL</a></th>        <th class=\"col_heading level1 col28\" ><a href=\"http://en.wikipedia.org/wiki/Silverstone_Circuit?curid=522676\">SIL</a></th>        <th class=\"col_heading level1 col29\" ><a href=\"http://en.wikipedia.org/wiki/Brands_Hatch?curid=1068202\">BHI</a></th>        <th class=\"col_heading level1 col30\" ><a href=\"http://en.wikipedia.org/wiki/Brands_Hatch?curid=1068202\">BHI</a></th>        <th class=\"col_heading level1 col31\" ><a href=\"http://en.wikipedia.org/wiki/Brands_Hatch?curid=1068202\">BHI</a></th>        <th class=\"col_heading level1 col32\" >Pts</th>    </tr></thead><tbody>\n",
       "        </tbody></table>"
      ],
      "text/plain": [
       "<pandas.io.formats.style.Styler at 0x7f601dc76750>"
      ]
     },
     "metadata": {},
     "output_type": "display_data"
    },
    {
     "name": "stdout",
     "output_type": "stream",
     "text": [
      "((LinkedString('Rank', links=()), LinkedString('Name', links=()), LinkedString('Car', links=()), LinkedString('SUZ', links=((0, 3, 'http://en.wikipedia.org/wiki/Suzuka_Circuit?curid=748984'),)), LinkedString('MIN', links=((0, 3, 'http://en.wikipedia.org/wiki/Mine_Circuit?curid=31997122'),)), LinkedString('FUJ', links=((0, 3, 'http://en.wikipedia.org/wiki/Fuji_Speedway?curid=249152'),)), LinkedString('SUZ', links=((0, 3, 'http://en.wikipedia.org/wiki/Suzuka_Circuit?curid=748984'),)), LinkedString('SGO', links=((0, 3, 'http://en.wikipedia.org/wiki/Sportsland_SUGO?curid=13377073'),)), LinkedString('FUJ', links=((0, 3, 'http://en.wikipedia.org/wiki/Fuji_Speedway?curid=249152'),)), LinkedString('MIN', links=((0, 3, 'http://en.wikipedia.org/wiki/Mine_Circuit?curid=31997122'),)), LinkedString('MOT', links=((0, 3, 'http://en.wikipedia.org/wiki/Twin_Ring_Motegi?curid=2015774'),)), LinkedString('FUJ', links=((0, 3, 'http://en.wikipedia.org/wiki/Fuji_Speedway?curid=249152'),)), LinkedString('SUZ', links=((0, 3, 'http://en.wikipedia.org/wiki/Suzuka_Circuit?curid=748984'),)), LinkedString('Points', links=())),)\n",
      "1 (0, 3, 12, 'short-uppercase-acronyms') None None\n"
     ]
    },
    {
     "data": {
      "text/html": [
       "<style  type=\"text/css\" >\n",
       "    #T_90e7ec58_358e_11eb_81c0_00259091f1e8 .col_heading.level0 {\n",
       "          display: none;\n",
       "    }    #T_90e7ec58_358e_11eb_81c0_00259091f1e8 .col_heading.level1.col3 {\n",
       "          background-color: #ff0;\n",
       "    }    #T_90e7ec58_358e_11eb_81c0_00259091f1e8 .col_heading.level1.col4 {\n",
       "          background-color: #ff0;\n",
       "    }    #T_90e7ec58_358e_11eb_81c0_00259091f1e8 .col_heading.level1.col5 {\n",
       "          background-color: #ff0;\n",
       "    }    #T_90e7ec58_358e_11eb_81c0_00259091f1e8 .col_heading.level1.col6 {\n",
       "          background-color: #ff0;\n",
       "    }    #T_90e7ec58_358e_11eb_81c0_00259091f1e8 .col_heading.level1.col7 {\n",
       "          background-color: #ff0;\n",
       "    }    #T_90e7ec58_358e_11eb_81c0_00259091f1e8 .col_heading.level1.col8 {\n",
       "          background-color: #ff0;\n",
       "    }    #T_90e7ec58_358e_11eb_81c0_00259091f1e8 .col_heading.level1.col9 {\n",
       "          background-color: #ff0;\n",
       "    }    #T_90e7ec58_358e_11eb_81c0_00259091f1e8 .col_heading.level1.col10 {\n",
       "          background-color: #ff0;\n",
       "    }    #T_90e7ec58_358e_11eb_81c0_00259091f1e8 .col_heading.level1.col11 {\n",
       "          background-color: #ff0;\n",
       "    }    #T_90e7ec58_358e_11eb_81c0_00259091f1e8 .col_heading.level1.col12 {\n",
       "          background-color: #ff0;\n",
       "    }</style><table id=\"T_90e7ec58_358e_11eb_81c0_00259091f1e8\" ><thead>    <tr>        <th class=\"blank level0\" ></th>        <th class=\"col_heading level0 col0\" >0</th>        <th class=\"col_heading level0 col1\" >1</th>        <th class=\"col_heading level0 col2\" >2</th>        <th class=\"col_heading level0 col3\" >3</th>        <th class=\"col_heading level0 col4\" >4</th>        <th class=\"col_heading level0 col5\" >5</th>        <th class=\"col_heading level0 col6\" >6</th>        <th class=\"col_heading level0 col7\" >7</th>        <th class=\"col_heading level0 col8\" >8</th>        <th class=\"col_heading level0 col9\" >9</th>        <th class=\"col_heading level0 col10\" >10</th>        <th class=\"col_heading level0 col11\" >11</th>        <th class=\"col_heading level0 col12\" >12</th>        <th class=\"col_heading level0 col13\" >13</th>    </tr>    <tr>        <th class=\"blank level1\" ></th>        <th class=\"col_heading level1 col0\" >Rank</th>        <th class=\"col_heading level1 col1\" >Name</th>        <th class=\"col_heading level1 col2\" >Car</th>        <th class=\"col_heading level1 col3\" ><a href=\"http://en.wikipedia.org/wiki/Suzuka_Circuit?curid=748984\">SUZ</a></th>        <th class=\"col_heading level1 col4\" ><a href=\"http://en.wikipedia.org/wiki/Mine_Circuit?curid=31997122\">MIN</a></th>        <th class=\"col_heading level1 col5\" ><a href=\"http://en.wikipedia.org/wiki/Fuji_Speedway?curid=249152\">FUJ</a></th>        <th class=\"col_heading level1 col6\" ><a href=\"http://en.wikipedia.org/wiki/Suzuka_Circuit?curid=748984\">SUZ</a></th>        <th class=\"col_heading level1 col7\" ><a href=\"http://en.wikipedia.org/wiki/Sportsland_SUGO?curid=13377073\">SGO</a></th>        <th class=\"col_heading level1 col8\" ><a href=\"http://en.wikipedia.org/wiki/Fuji_Speedway?curid=249152\">FUJ</a></th>        <th class=\"col_heading level1 col9\" ><a href=\"http://en.wikipedia.org/wiki/Mine_Circuit?curid=31997122\">MIN</a></th>        <th class=\"col_heading level1 col10\" ><a href=\"http://en.wikipedia.org/wiki/Twin_Ring_Motegi?curid=2015774\">MOT</a></th>        <th class=\"col_heading level1 col11\" ><a href=\"http://en.wikipedia.org/wiki/Fuji_Speedway?curid=249152\">FUJ</a></th>        <th class=\"col_heading level1 col12\" ><a href=\"http://en.wikipedia.org/wiki/Suzuka_Circuit?curid=748984\">SUZ</a></th>        <th class=\"col_heading level1 col13\" >Points</th>    </tr></thead><tbody>\n",
       "        </tbody></table>"
      ],
      "text/plain": [
       "<pandas.io.formats.style.Styler at 0x7f5f21c1f190>"
      ]
     },
     "metadata": {},
     "output_type": "display_data"
    },
    {
     "name": "stdout",
     "output_type": "stream",
     "text": [
      "((LinkedString('Rank', links=()), LinkedString('Name', links=()), LinkedString('SUZ', links=((0, 3, 'http://en.wikipedia.org/wiki/Suzuka_Circuit?curid=748984'),)), LinkedString('MOT', links=((0, 3, 'http://en.wikipedia.org/wiki/Twin_Ring_Motegi?curid=2015774'),)), LinkedString('MIN', links=((0, 3, 'http://en.wikipedia.org/wiki/Mine_Circuit?curid=31997122'),)), LinkedString('FUJ', links=((0, 3, 'http://en.wikipedia.org/wiki/Fuji_Speedway?curid=249152'),)), LinkedString('SUZ', links=((0, 3, 'http://en.wikipedia.org/wiki/Suzuka_Circuit?curid=748984'),)), LinkedString('SGO', links=((0, 3, 'http://en.wikipedia.org/wiki/Sportsland_SUGO?curid=13377073'),)), LinkedString('FUJ', links=((0, 3, 'http://en.wikipedia.org/wiki/Fuji_Speedway?curid=249152'),)), LinkedString('MIN', links=((0, 3, 'http://en.wikipedia.org/wiki/Mine_Circuit?curid=31997122'),)), LinkedString('MOT', links=((0, 3, 'http://en.wikipedia.org/wiki/Twin_Ring_Motegi?curid=2015774'),)), LinkedString('SUZ', links=((0, 3, 'http://en.wikipedia.org/wiki/Suzuka_Circuit?curid=748984'),)), LinkedString('Points', links=())),)\n",
      "1 (0, 2, 11, 'short-uppercase-acronyms') None None\n"
     ]
    },
    {
     "data": {
      "text/html": [
       "<style  type=\"text/css\" >\n",
       "    #T_90ea7f36_358e_11eb_81c0_00259091f1e8 .col_heading.level0 {\n",
       "          display: none;\n",
       "    }    #T_90ea7f36_358e_11eb_81c0_00259091f1e8 .col_heading.level1.col2 {\n",
       "          background-color: #ff0;\n",
       "    }    #T_90ea7f36_358e_11eb_81c0_00259091f1e8 .col_heading.level1.col3 {\n",
       "          background-color: #ff0;\n",
       "    }    #T_90ea7f36_358e_11eb_81c0_00259091f1e8 .col_heading.level1.col4 {\n",
       "          background-color: #ff0;\n",
       "    }    #T_90ea7f36_358e_11eb_81c0_00259091f1e8 .col_heading.level1.col5 {\n",
       "          background-color: #ff0;\n",
       "    }    #T_90ea7f36_358e_11eb_81c0_00259091f1e8 .col_heading.level1.col6 {\n",
       "          background-color: #ff0;\n",
       "    }    #T_90ea7f36_358e_11eb_81c0_00259091f1e8 .col_heading.level1.col7 {\n",
       "          background-color: #ff0;\n",
       "    }    #T_90ea7f36_358e_11eb_81c0_00259091f1e8 .col_heading.level1.col8 {\n",
       "          background-color: #ff0;\n",
       "    }    #T_90ea7f36_358e_11eb_81c0_00259091f1e8 .col_heading.level1.col9 {\n",
       "          background-color: #ff0;\n",
       "    }    #T_90ea7f36_358e_11eb_81c0_00259091f1e8 .col_heading.level1.col10 {\n",
       "          background-color: #ff0;\n",
       "    }    #T_90ea7f36_358e_11eb_81c0_00259091f1e8 .col_heading.level1.col11 {\n",
       "          background-color: #ff0;\n",
       "    }</style><table id=\"T_90ea7f36_358e_11eb_81c0_00259091f1e8\" ><thead>    <tr>        <th class=\"blank level0\" ></th>        <th class=\"col_heading level0 col0\" >0</th>        <th class=\"col_heading level0 col1\" >1</th>        <th class=\"col_heading level0 col2\" >2</th>        <th class=\"col_heading level0 col3\" >3</th>        <th class=\"col_heading level0 col4\" >4</th>        <th class=\"col_heading level0 col5\" >5</th>        <th class=\"col_heading level0 col6\" >6</th>        <th class=\"col_heading level0 col7\" >7</th>        <th class=\"col_heading level0 col8\" >8</th>        <th class=\"col_heading level0 col9\" >9</th>        <th class=\"col_heading level0 col10\" >10</th>        <th class=\"col_heading level0 col11\" >11</th>        <th class=\"col_heading level0 col12\" >12</th>    </tr>    <tr>        <th class=\"blank level1\" ></th>        <th class=\"col_heading level1 col0\" >Rank</th>        <th class=\"col_heading level1 col1\" >Name</th>        <th class=\"col_heading level1 col2\" ><a href=\"http://en.wikipedia.org/wiki/Suzuka_Circuit?curid=748984\">SUZ</a></th>        <th class=\"col_heading level1 col3\" ><a href=\"http://en.wikipedia.org/wiki/Twin_Ring_Motegi?curid=2015774\">MOT</a></th>        <th class=\"col_heading level1 col4\" ><a href=\"http://en.wikipedia.org/wiki/Mine_Circuit?curid=31997122\">MIN</a></th>        <th class=\"col_heading level1 col5\" ><a href=\"http://en.wikipedia.org/wiki/Fuji_Speedway?curid=249152\">FUJ</a></th>        <th class=\"col_heading level1 col6\" ><a href=\"http://en.wikipedia.org/wiki/Suzuka_Circuit?curid=748984\">SUZ</a></th>        <th class=\"col_heading level1 col7\" ><a href=\"http://en.wikipedia.org/wiki/Sportsland_SUGO?curid=13377073\">SGO</a></th>        <th class=\"col_heading level1 col8\" ><a href=\"http://en.wikipedia.org/wiki/Fuji_Speedway?curid=249152\">FUJ</a></th>        <th class=\"col_heading level1 col9\" ><a href=\"http://en.wikipedia.org/wiki/Mine_Circuit?curid=31997122\">MIN</a></th>        <th class=\"col_heading level1 col10\" ><a href=\"http://en.wikipedia.org/wiki/Twin_Ring_Motegi?curid=2015774\">MOT</a></th>        <th class=\"col_heading level1 col11\" ><a href=\"http://en.wikipedia.org/wiki/Suzuka_Circuit?curid=748984\">SUZ</a></th>        <th class=\"col_heading level1 col12\" >Points</th>    </tr></thead><tbody>\n",
       "        </tbody></table>"
      ],
      "text/plain": [
       "<pandas.io.formats.style.Styler at 0x7f5f21bb3f10>"
      ]
     },
     "metadata": {},
     "output_type": "display_data"
    },
    {
     "name": "stdout",
     "output_type": "stream",
     "text": [
      "((LinkedString('Home \\ Away [1 ]', links=()), LinkedString('ALD', links=((0, 3, 'http://en.wikipedia.org/wiki/Aldershot_F.C.?curid=243438'),)), LinkedString('BLP', links=((0, 3, 'http://en.wikipedia.org/wiki/Blackpool_F.C.?curid=245357'),)), LinkedString('BOL', links=((0, 3, 'http://en.wikipedia.org/wiki/Bolton_Wanderers_F.C.?curid=298601'),)), LinkedString('BRE', links=((0, 3, 'http://en.wikipedia.org/wiki/Brentford_F.C.?curid=451122'),)), LinkedString('BRI', links=((0, 3, 'http://en.wikipedia.org/wiki/Bristol_City_F.C.?curid=4392'),)), LinkedString('BRO', links=((0, 3, 'http://en.wikipedia.org/wiki/Bristol_Rovers_F.C.?curid=241161'),)), LinkedString('BRY', links=((0, 3, 'http://en.wikipedia.org/wiki/Bury_F.C.?curid=451156'),)), LinkedString('CAR', links=((0, 3, 'http://en.wikipedia.org/wiki/Cardiff_City_F.C.?curid=5624949'),)), LinkedString('CHR', links=((0, 3, 'http://en.wikipedia.org/wiki/Chester_F.C.?curid=22971525'),)), LinkedString('CHS', links=((0, 3, 'http://en.wikipedia.org/wiki/Chesterfield_F.C.?curid=451126'),)), LinkedString('FUL', links=((0, 3, 'http://en.wikipedia.org/wiki/Fulham_F.C.?curid=11228'),)), LinkedString('GIL', links=((0, 3, 'http://en.wikipedia.org/wiki/Gillingham_F.C.?curid=165278'),)), LinkedString('HUD', links=((0, 3, 'http://en.wikipedia.org/wiki/Huddersfield_Town_F.C.?curid=236211'),)), LinkedString('MAN', links=((0, 3, 'http://en.wikipedia.org/wiki/Mansfield_Town_F.C.?curid=451164'),)), LinkedString('NOR', links=((0, 3, 'http://en.wikipedia.org/wiki/Northampton_Town_F.C.?curid=425750'),)), LinkedString('NTC', links=((0, 3, 'http://en.wikipedia.org/wiki/Notts_County_F.C.?curid=448599'),)), LinkedString('PVA', links=((0, 3, 'http://en.wikipedia.org/wiki/Port_Vale_F.C.?curid=203456'),)), LinkedString('PRE', links=((0, 3, 'http://en.wikipedia.org/wiki/Preston_North_End_F.C.?curid=429092'),)), LinkedString('REA', links=((0, 3, 'http://en.wikipedia.org/wiki/Reading_F.C.?curid=168007'),)), LinkedString('SHE', links=((0, 3, 'http://en.wikipedia.org/wiki/Sheffield_United_F.C.?curid=314933'),)), LinkedString('STD', links=((0, 3, 'http://en.wikipedia.org/wiki/Southend_United_F.C.?curid=451168'),)), LinkedString('SWA', links=((0, 3, 'http://en.wikipedia.org/wiki/Swansea_City_A.F.C.?curid=451169'),)), LinkedString('WIG', links=((0, 3, 'http://en.wikipedia.org/wiki/Wigan_Athletic_F.C.?curid=367030'),)), LinkedString('WOL', links=((0, 3, 'http://en.wikipedia.org/wiki/Wolverhampton_Wanderers_F.C.?curid=217730'),))),)\n",
      "1 (0, 1, 24, 'short-uppercase-acronyms') None None\n"
     ]
    },
    {
     "data": {
      "text/html": [
       "<style  type=\"text/css\" >\n",
       "    #T_90edeb12_358e_11eb_81c0_00259091f1e8 .col_heading.level0 {\n",
       "          display: none;\n",
       "    }    #T_90edeb12_358e_11eb_81c0_00259091f1e8 .col_heading.level1.col1 {\n",
       "          background-color: #ff0;\n",
       "    }    #T_90edeb12_358e_11eb_81c0_00259091f1e8 .col_heading.level1.col2 {\n",
       "          background-color: #ff0;\n",
       "    }    #T_90edeb12_358e_11eb_81c0_00259091f1e8 .col_heading.level1.col3 {\n",
       "          background-color: #ff0;\n",
       "    }    #T_90edeb12_358e_11eb_81c0_00259091f1e8 .col_heading.level1.col4 {\n",
       "          background-color: #ff0;\n",
       "    }    #T_90edeb12_358e_11eb_81c0_00259091f1e8 .col_heading.level1.col5 {\n",
       "          background-color: #ff0;\n",
       "    }    #T_90edeb12_358e_11eb_81c0_00259091f1e8 .col_heading.level1.col6 {\n",
       "          background-color: #ff0;\n",
       "    }    #T_90edeb12_358e_11eb_81c0_00259091f1e8 .col_heading.level1.col7 {\n",
       "          background-color: #ff0;\n",
       "    }    #T_90edeb12_358e_11eb_81c0_00259091f1e8 .col_heading.level1.col8 {\n",
       "          background-color: #ff0;\n",
       "    }    #T_90edeb12_358e_11eb_81c0_00259091f1e8 .col_heading.level1.col9 {\n",
       "          background-color: #ff0;\n",
       "    }    #T_90edeb12_358e_11eb_81c0_00259091f1e8 .col_heading.level1.col10 {\n",
       "          background-color: #ff0;\n",
       "    }    #T_90edeb12_358e_11eb_81c0_00259091f1e8 .col_heading.level1.col11 {\n",
       "          background-color: #ff0;\n",
       "    }    #T_90edeb12_358e_11eb_81c0_00259091f1e8 .col_heading.level1.col12 {\n",
       "          background-color: #ff0;\n",
       "    }    #T_90edeb12_358e_11eb_81c0_00259091f1e8 .col_heading.level1.col13 {\n",
       "          background-color: #ff0;\n",
       "    }    #T_90edeb12_358e_11eb_81c0_00259091f1e8 .col_heading.level1.col14 {\n",
       "          background-color: #ff0;\n",
       "    }    #T_90edeb12_358e_11eb_81c0_00259091f1e8 .col_heading.level1.col15 {\n",
       "          background-color: #ff0;\n",
       "    }    #T_90edeb12_358e_11eb_81c0_00259091f1e8 .col_heading.level1.col16 {\n",
       "          background-color: #ff0;\n",
       "    }    #T_90edeb12_358e_11eb_81c0_00259091f1e8 .col_heading.level1.col17 {\n",
       "          background-color: #ff0;\n",
       "    }    #T_90edeb12_358e_11eb_81c0_00259091f1e8 .col_heading.level1.col18 {\n",
       "          background-color: #ff0;\n",
       "    }    #T_90edeb12_358e_11eb_81c0_00259091f1e8 .col_heading.level1.col19 {\n",
       "          background-color: #ff0;\n",
       "    }    #T_90edeb12_358e_11eb_81c0_00259091f1e8 .col_heading.level1.col20 {\n",
       "          background-color: #ff0;\n",
       "    }    #T_90edeb12_358e_11eb_81c0_00259091f1e8 .col_heading.level1.col21 {\n",
       "          background-color: #ff0;\n",
       "    }    #T_90edeb12_358e_11eb_81c0_00259091f1e8 .col_heading.level1.col22 {\n",
       "          background-color: #ff0;\n",
       "    }    #T_90edeb12_358e_11eb_81c0_00259091f1e8 .col_heading.level1.col23 {\n",
       "          background-color: #ff0;\n",
       "    }    #T_90edeb12_358e_11eb_81c0_00259091f1e8 .col_heading.level1.col24 {\n",
       "          background-color: #ff0;\n",
       "    }</style><table id=\"T_90edeb12_358e_11eb_81c0_00259091f1e8\" ><thead>    <tr>        <th class=\"blank level0\" ></th>        <th class=\"col_heading level0 col0\" >0</th>        <th class=\"col_heading level0 col1\" >1</th>        <th class=\"col_heading level0 col2\" >2</th>        <th class=\"col_heading level0 col3\" >3</th>        <th class=\"col_heading level0 col4\" >4</th>        <th class=\"col_heading level0 col5\" >5</th>        <th class=\"col_heading level0 col6\" >6</th>        <th class=\"col_heading level0 col7\" >7</th>        <th class=\"col_heading level0 col8\" >8</th>        <th class=\"col_heading level0 col9\" >9</th>        <th class=\"col_heading level0 col10\" >10</th>        <th class=\"col_heading level0 col11\" >11</th>        <th class=\"col_heading level0 col12\" >12</th>        <th class=\"col_heading level0 col13\" >13</th>        <th class=\"col_heading level0 col14\" >14</th>        <th class=\"col_heading level0 col15\" >15</th>        <th class=\"col_heading level0 col16\" >16</th>        <th class=\"col_heading level0 col17\" >17</th>        <th class=\"col_heading level0 col18\" >18</th>        <th class=\"col_heading level0 col19\" >19</th>        <th class=\"col_heading level0 col20\" >20</th>        <th class=\"col_heading level0 col21\" >21</th>        <th class=\"col_heading level0 col22\" >22</th>        <th class=\"col_heading level0 col23\" >23</th>        <th class=\"col_heading level0 col24\" >24</th>    </tr>    <tr>        <th class=\"blank level1\" ></th>        <th class=\"col_heading level1 col0\" >Home \\ Away [1 ]</th>        <th class=\"col_heading level1 col1\" ><a href=\"http://en.wikipedia.org/wiki/Aldershot_F.C.?curid=243438\">ALD</a></th>        <th class=\"col_heading level1 col2\" ><a href=\"http://en.wikipedia.org/wiki/Blackpool_F.C.?curid=245357\">BLP</a></th>        <th class=\"col_heading level1 col3\" ><a href=\"http://en.wikipedia.org/wiki/Bolton_Wanderers_F.C.?curid=298601\">BOL</a></th>        <th class=\"col_heading level1 col4\" ><a href=\"http://en.wikipedia.org/wiki/Brentford_F.C.?curid=451122\">BRE</a></th>        <th class=\"col_heading level1 col5\" ><a href=\"http://en.wikipedia.org/wiki/Bristol_City_F.C.?curid=4392\">BRI</a></th>        <th class=\"col_heading level1 col6\" ><a href=\"http://en.wikipedia.org/wiki/Bristol_Rovers_F.C.?curid=241161\">BRO</a></th>        <th class=\"col_heading level1 col7\" ><a href=\"http://en.wikipedia.org/wiki/Bury_F.C.?curid=451156\">BRY</a></th>        <th class=\"col_heading level1 col8\" ><a href=\"http://en.wikipedia.org/wiki/Cardiff_City_F.C.?curid=5624949\">CAR</a></th>        <th class=\"col_heading level1 col9\" ><a href=\"http://en.wikipedia.org/wiki/Chester_F.C.?curid=22971525\">CHR</a></th>        <th class=\"col_heading level1 col10\" ><a href=\"http://en.wikipedia.org/wiki/Chesterfield_F.C.?curid=451126\">CHS</a></th>        <th class=\"col_heading level1 col11\" ><a href=\"http://en.wikipedia.org/wiki/Fulham_F.C.?curid=11228\">FUL</a></th>        <th class=\"col_heading level1 col12\" ><a href=\"http://en.wikipedia.org/wiki/Gillingham_F.C.?curid=165278\">GIL</a></th>        <th class=\"col_heading level1 col13\" ><a href=\"http://en.wikipedia.org/wiki/Huddersfield_Town_F.C.?curid=236211\">HUD</a></th>        <th class=\"col_heading level1 col14\" ><a href=\"http://en.wikipedia.org/wiki/Mansfield_Town_F.C.?curid=451164\">MAN</a></th>        <th class=\"col_heading level1 col15\" ><a href=\"http://en.wikipedia.org/wiki/Northampton_Town_F.C.?curid=425750\">NOR</a></th>        <th class=\"col_heading level1 col16\" ><a href=\"http://en.wikipedia.org/wiki/Notts_County_F.C.?curid=448599\">NTC</a></th>        <th class=\"col_heading level1 col17\" ><a href=\"http://en.wikipedia.org/wiki/Port_Vale_F.C.?curid=203456\">PVA</a></th>        <th class=\"col_heading level1 col18\" ><a href=\"http://en.wikipedia.org/wiki/Preston_North_End_F.C.?curid=429092\">PRE</a></th>        <th class=\"col_heading level1 col19\" ><a href=\"http://en.wikipedia.org/wiki/Reading_F.C.?curid=168007\">REA</a></th>        <th class=\"col_heading level1 col20\" ><a href=\"http://en.wikipedia.org/wiki/Sheffield_United_F.C.?curid=314933\">SHE</a></th>        <th class=\"col_heading level1 col21\" ><a href=\"http://en.wikipedia.org/wiki/Southend_United_F.C.?curid=451168\">STD</a></th>        <th class=\"col_heading level1 col22\" ><a href=\"http://en.wikipedia.org/wiki/Swansea_City_A.F.C.?curid=451169\">SWA</a></th>        <th class=\"col_heading level1 col23\" ><a href=\"http://en.wikipedia.org/wiki/Wigan_Athletic_F.C.?curid=367030\">WIG</a></th>        <th class=\"col_heading level1 col24\" ><a href=\"http://en.wikipedia.org/wiki/Wolverhampton_Wanderers_F.C.?curid=217730\">WOL</a></th>    </tr></thead><tbody>\n",
       "        </tbody></table>"
      ],
      "text/plain": [
       "<pandas.io.formats.style.Styler at 0x7f5f2810b450>"
      ]
     },
     "metadata": {},
     "output_type": "display_data"
    },
    {
     "name": "stdout",
     "output_type": "stream",
     "text": [
      "((LinkedString('Pos', links=()), LinkedString('Rider', links=()), LinkedString('Bike', links=()), LinkedString('JPN', links=((0, 3, 'http://en.wikipedia.org/wiki/2001_Japanese_motorcycle_Grand_Prix?curid=24246376'),)), LinkedString('RSA', links=((0, 3, 'http://en.wikipedia.org/wiki/2001_South_African_motorcycle_Grand_Prix?curid=24257664'),)), LinkedString('ESP', links=((0, 3, 'http://en.wikipedia.org/wiki/2001_Spanish_motorcycle_Grand_Prix?curid=24257840'),)), LinkedString('FRA', links=((0, 3, 'http://en.wikipedia.org/wiki/2001_French_motorcycle_Grand_Prix?curid=24275991'),)), LinkedString('ITA', links=((0, 3, 'http://en.wikipedia.org/wiki/2001_Italian_motorcycle_Grand_Prix?curid=24397692'),)), LinkedString('CAT', links=((0, 3, 'http://en.wikipedia.org/wiki/2001_Catalan_motorcycle_Grand_Prix?curid=24397757'),)), LinkedString('NED', links=((0, 3, 'http://en.wikipedia.org/wiki/2001_Dutch_TT?curid=24397806'),)), LinkedString('GBR', links=((0, 3, 'http://en.wikipedia.org/wiki/2001_British_motorcycle_Grand_Prix?curid=24397886'),)), LinkedString('GER', links=((0, 3, 'http://en.wikipedia.org/wiki/2001_German_motorcycle_Grand_Prix?curid=24413878'),)), LinkedString('CZE', links=((0, 3, 'http://en.wikipedia.org/wiki/2001_Czech_Republic_motorcycle_Grand_Prix?curid=24413954'),)), LinkedString('POR', links=((0, 3, 'http://en.wikipedia.org/wiki/2001_Portuguese_motorcycle_Grand_Prix?curid=24472275'),)), LinkedString('VAL', links=((0, 3, 'http://en.wikipedia.org/wiki/2001_Valencian_Community_motorcycle_Grand_Prix?curid=24472335'),)), LinkedString('PAC', links=((0, 3, 'http://en.wikipedia.org/wiki/2001_Pacific_motorcycle_Grand_Prix?curid=24526852'),)), LinkedString('AUS', links=((0, 3, 'http://en.wikipedia.org/wiki/2001_Australian_motorcycle_Grand_Prix?curid=24538259'),)), LinkedString('MAL', links=((0, 3, 'http://en.wikipedia.org/wiki/2001_Malaysian_motorcycle_Grand_Prix?curid=24551925'),)), LinkedString('RIO', links=((0, 3, 'http://en.wikipedia.org/wiki/2001_Rio_de_Janeiro_motorcycle_Grand_Prix?curid=24551985'),)), LinkedString('Pts', links=())),)\n",
      "1 (0, 3, 18, 'short-uppercase-acronyms') None None\n"
     ]
    },
    {
     "data": {
      "text/html": [
       "<style  type=\"text/css\" >\n",
       "    #T_90f131f0_358e_11eb_81c0_00259091f1e8 .col_heading.level0 {\n",
       "          display: none;\n",
       "    }    #T_90f131f0_358e_11eb_81c0_00259091f1e8 .col_heading.level1.col3 {\n",
       "          background-color: #ff0;\n",
       "    }    #T_90f131f0_358e_11eb_81c0_00259091f1e8 .col_heading.level1.col4 {\n",
       "          background-color: #ff0;\n",
       "    }    #T_90f131f0_358e_11eb_81c0_00259091f1e8 .col_heading.level1.col5 {\n",
       "          background-color: #ff0;\n",
       "    }    #T_90f131f0_358e_11eb_81c0_00259091f1e8 .col_heading.level1.col6 {\n",
       "          background-color: #ff0;\n",
       "    }    #T_90f131f0_358e_11eb_81c0_00259091f1e8 .col_heading.level1.col7 {\n",
       "          background-color: #ff0;\n",
       "    }    #T_90f131f0_358e_11eb_81c0_00259091f1e8 .col_heading.level1.col8 {\n",
       "          background-color: #ff0;\n",
       "    }    #T_90f131f0_358e_11eb_81c0_00259091f1e8 .col_heading.level1.col9 {\n",
       "          background-color: #ff0;\n",
       "    }    #T_90f131f0_358e_11eb_81c0_00259091f1e8 .col_heading.level1.col10 {\n",
       "          background-color: #ff0;\n",
       "    }    #T_90f131f0_358e_11eb_81c0_00259091f1e8 .col_heading.level1.col11 {\n",
       "          background-color: #ff0;\n",
       "    }    #T_90f131f0_358e_11eb_81c0_00259091f1e8 .col_heading.level1.col12 {\n",
       "          background-color: #ff0;\n",
       "    }    #T_90f131f0_358e_11eb_81c0_00259091f1e8 .col_heading.level1.col13 {\n",
       "          background-color: #ff0;\n",
       "    }    #T_90f131f0_358e_11eb_81c0_00259091f1e8 .col_heading.level1.col14 {\n",
       "          background-color: #ff0;\n",
       "    }    #T_90f131f0_358e_11eb_81c0_00259091f1e8 .col_heading.level1.col15 {\n",
       "          background-color: #ff0;\n",
       "    }    #T_90f131f0_358e_11eb_81c0_00259091f1e8 .col_heading.level1.col16 {\n",
       "          background-color: #ff0;\n",
       "    }    #T_90f131f0_358e_11eb_81c0_00259091f1e8 .col_heading.level1.col17 {\n",
       "          background-color: #ff0;\n",
       "    }    #T_90f131f0_358e_11eb_81c0_00259091f1e8 .col_heading.level1.col18 {\n",
       "          background-color: #ff0;\n",
       "    }</style><table id=\"T_90f131f0_358e_11eb_81c0_00259091f1e8\" ><thead>    <tr>        <th class=\"blank level0\" ></th>        <th class=\"col_heading level0 col0\" >0</th>        <th class=\"col_heading level0 col1\" >1</th>        <th class=\"col_heading level0 col2\" >2</th>        <th class=\"col_heading level0 col3\" >3</th>        <th class=\"col_heading level0 col4\" >4</th>        <th class=\"col_heading level0 col5\" >5</th>        <th class=\"col_heading level0 col6\" >6</th>        <th class=\"col_heading level0 col7\" >7</th>        <th class=\"col_heading level0 col8\" >8</th>        <th class=\"col_heading level0 col9\" >9</th>        <th class=\"col_heading level0 col10\" >10</th>        <th class=\"col_heading level0 col11\" >11</th>        <th class=\"col_heading level0 col12\" >12</th>        <th class=\"col_heading level0 col13\" >13</th>        <th class=\"col_heading level0 col14\" >14</th>        <th class=\"col_heading level0 col15\" >15</th>        <th class=\"col_heading level0 col16\" >16</th>        <th class=\"col_heading level0 col17\" >17</th>        <th class=\"col_heading level0 col18\" >18</th>        <th class=\"col_heading level0 col19\" >19</th>    </tr>    <tr>        <th class=\"blank level1\" ></th>        <th class=\"col_heading level1 col0\" >Pos</th>        <th class=\"col_heading level1 col1\" >Rider</th>        <th class=\"col_heading level1 col2\" >Bike</th>        <th class=\"col_heading level1 col3\" ><a href=\"http://en.wikipedia.org/wiki/2001_Japanese_motorcycle_Grand_Prix?curid=24246376\">JPN</a></th>        <th class=\"col_heading level1 col4\" ><a href=\"http://en.wikipedia.org/wiki/2001_South_African_motorcycle_Grand_Prix?curid=24257664\">RSA</a></th>        <th class=\"col_heading level1 col5\" ><a href=\"http://en.wikipedia.org/wiki/2001_Spanish_motorcycle_Grand_Prix?curid=24257840\">ESP</a></th>        <th class=\"col_heading level1 col6\" ><a href=\"http://en.wikipedia.org/wiki/2001_French_motorcycle_Grand_Prix?curid=24275991\">FRA</a></th>        <th class=\"col_heading level1 col7\" ><a href=\"http://en.wikipedia.org/wiki/2001_Italian_motorcycle_Grand_Prix?curid=24397692\">ITA</a></th>        <th class=\"col_heading level1 col8\" ><a href=\"http://en.wikipedia.org/wiki/2001_Catalan_motorcycle_Grand_Prix?curid=24397757\">CAT</a></th>        <th class=\"col_heading level1 col9\" ><a href=\"http://en.wikipedia.org/wiki/2001_Dutch_TT?curid=24397806\">NED</a></th>        <th class=\"col_heading level1 col10\" ><a href=\"http://en.wikipedia.org/wiki/2001_British_motorcycle_Grand_Prix?curid=24397886\">GBR</a></th>        <th class=\"col_heading level1 col11\" ><a href=\"http://en.wikipedia.org/wiki/2001_German_motorcycle_Grand_Prix?curid=24413878\">GER</a></th>        <th class=\"col_heading level1 col12\" ><a href=\"http://en.wikipedia.org/wiki/2001_Czech_Republic_motorcycle_Grand_Prix?curid=24413954\">CZE</a></th>        <th class=\"col_heading level1 col13\" ><a href=\"http://en.wikipedia.org/wiki/2001_Portuguese_motorcycle_Grand_Prix?curid=24472275\">POR</a></th>        <th class=\"col_heading level1 col14\" ><a href=\"http://en.wikipedia.org/wiki/2001_Valencian_Community_motorcycle_Grand_Prix?curid=24472335\">VAL</a></th>        <th class=\"col_heading level1 col15\" ><a href=\"http://en.wikipedia.org/wiki/2001_Pacific_motorcycle_Grand_Prix?curid=24526852\">PAC</a></th>        <th class=\"col_heading level1 col16\" ><a href=\"http://en.wikipedia.org/wiki/2001_Australian_motorcycle_Grand_Prix?curid=24538259\">AUS</a></th>        <th class=\"col_heading level1 col17\" ><a href=\"http://en.wikipedia.org/wiki/2001_Malaysian_motorcycle_Grand_Prix?curid=24551925\">MAL</a></th>        <th class=\"col_heading level1 col18\" ><a href=\"http://en.wikipedia.org/wiki/2001_Rio_de_Janeiro_motorcycle_Grand_Prix?curid=24551985\">RIO</a></th>        <th class=\"col_heading level1 col19\" >Pts</th>    </tr></thead><tbody>\n",
       "        </tbody></table>"
      ],
      "text/plain": [
       "<pandas.io.formats.style.Styler at 0x7f5f21bb3b50>"
      ]
     },
     "metadata": {},
     "output_type": "display_data"
    },
    {
     "name": "stdout",
     "output_type": "stream",
     "text": [
      "((LinkedString('Pos', links=()), LinkedString('Rider', links=()), LinkedString('Constructor', links=()), LinkedString('JPN', links=((0, 3, 'http://en.wikipedia.org/wiki/2002_Japanese_motorcycle_Grand_Prix?curid=17034845'),)), LinkedString('SAF', links=((0, 3, 'http://en.wikipedia.org/wiki/2002_South_African_motorcycle_Grand_Prix?curid=17035864'),)), LinkedString('ESP', links=((0, 3, 'http://en.wikipedia.org/wiki/2002_Spanish_motorcycle_Grand_Prix?curid=17036277'),)), LinkedString('FRA', links=((0, 3, 'http://en.wikipedia.org/wiki/2002_French_motorcycle_Grand_Prix?curid=17036702'),)), LinkedString('ITA', links=((0, 3, 'http://en.wikipedia.org/wiki/2002_Italian_motorcycle_Grand_Prix?curid=17036934'),)), LinkedString('CAT', links=((0, 3, 'http://en.wikipedia.org/wiki/2002_Catalan_motorcycle_Grand_Prix?curid=17038035'),)), LinkedString('NED', links=((0, 3, 'http://en.wikipedia.org/wiki/2002_Dutch_TT?curid=17039811'),)), LinkedString('GBR', links=((0, 3, 'http://en.wikipedia.org/wiki/2002_British_motorcycle_Grand_Prix?curid=17039960'),)), LinkedString('GER', links=((0, 3, 'http://en.wikipedia.org/wiki/2002_German_motorcycle_Grand_Prix?curid=17040134'),)), LinkedString('CZE', links=((0, 3, 'http://en.wikipedia.org/wiki/2002_Czech_Republic_motorcycle_Grand_Prix?curid=17040290'),)), LinkedString('POR', links=((0, 3, 'http://en.wikipedia.org/wiki/2002_Portuguese_motorcycle_Grand_Prix?curid=17040374'),)), LinkedString('RIO', links=((0, 3, 'http://en.wikipedia.org/wiki/2002_Rio_de_Janeiro_motorcycle_Grand_Prix?curid=17050986'),)), LinkedString('PAC', links=((0, 3, 'http://en.wikipedia.org/wiki/2002_Pacific_motorcycle_Grand_Prix?curid=17051093'),)), LinkedString('MAL', links=((0, 3, 'http://en.wikipedia.org/wiki/2002_Malaysian_motorcycle_Grand_Prix?curid=17051191'),)), LinkedString('AUS', links=((0, 3, 'http://en.wikipedia.org/wiki/2002_Australian_motorcycle_Grand_Prix?curid=17052054'),)), LinkedString('VAL', links=((0, 3, 'http://en.wikipedia.org/wiki/2002_Valencian_Community_motorcycle_Grand_Prix?curid=17052183'),)), LinkedString('Points', links=())),)\n",
      "1 (0, 3, 18, 'short-uppercase-acronyms') None None\n"
     ]
    },
    {
     "data": {
      "text/html": [
       "<style  type=\"text/css\" >\n",
       "    #T_90f45b14_358e_11eb_81c0_00259091f1e8 .col_heading.level0 {\n",
       "          display: none;\n",
       "    }    #T_90f45b14_358e_11eb_81c0_00259091f1e8 .col_heading.level1.col3 {\n",
       "          background-color: #ff0;\n",
       "    }    #T_90f45b14_358e_11eb_81c0_00259091f1e8 .col_heading.level1.col4 {\n",
       "          background-color: #ff0;\n",
       "    }    #T_90f45b14_358e_11eb_81c0_00259091f1e8 .col_heading.level1.col5 {\n",
       "          background-color: #ff0;\n",
       "    }    #T_90f45b14_358e_11eb_81c0_00259091f1e8 .col_heading.level1.col6 {\n",
       "          background-color: #ff0;\n",
       "    }    #T_90f45b14_358e_11eb_81c0_00259091f1e8 .col_heading.level1.col7 {\n",
       "          background-color: #ff0;\n",
       "    }    #T_90f45b14_358e_11eb_81c0_00259091f1e8 .col_heading.level1.col8 {\n",
       "          background-color: #ff0;\n",
       "    }    #T_90f45b14_358e_11eb_81c0_00259091f1e8 .col_heading.level1.col9 {\n",
       "          background-color: #ff0;\n",
       "    }    #T_90f45b14_358e_11eb_81c0_00259091f1e8 .col_heading.level1.col10 {\n",
       "          background-color: #ff0;\n",
       "    }    #T_90f45b14_358e_11eb_81c0_00259091f1e8 .col_heading.level1.col11 {\n",
       "          background-color: #ff0;\n",
       "    }    #T_90f45b14_358e_11eb_81c0_00259091f1e8 .col_heading.level1.col12 {\n",
       "          background-color: #ff0;\n",
       "    }    #T_90f45b14_358e_11eb_81c0_00259091f1e8 .col_heading.level1.col13 {\n",
       "          background-color: #ff0;\n",
       "    }    #T_90f45b14_358e_11eb_81c0_00259091f1e8 .col_heading.level1.col14 {\n",
       "          background-color: #ff0;\n",
       "    }    #T_90f45b14_358e_11eb_81c0_00259091f1e8 .col_heading.level1.col15 {\n",
       "          background-color: #ff0;\n",
       "    }    #T_90f45b14_358e_11eb_81c0_00259091f1e8 .col_heading.level1.col16 {\n",
       "          background-color: #ff0;\n",
       "    }    #T_90f45b14_358e_11eb_81c0_00259091f1e8 .col_heading.level1.col17 {\n",
       "          background-color: #ff0;\n",
       "    }    #T_90f45b14_358e_11eb_81c0_00259091f1e8 .col_heading.level1.col18 {\n",
       "          background-color: #ff0;\n",
       "    }</style><table id=\"T_90f45b14_358e_11eb_81c0_00259091f1e8\" ><thead>    <tr>        <th class=\"blank level0\" ></th>        <th class=\"col_heading level0 col0\" >0</th>        <th class=\"col_heading level0 col1\" >1</th>        <th class=\"col_heading level0 col2\" >2</th>        <th class=\"col_heading level0 col3\" >3</th>        <th class=\"col_heading level0 col4\" >4</th>        <th class=\"col_heading level0 col5\" >5</th>        <th class=\"col_heading level0 col6\" >6</th>        <th class=\"col_heading level0 col7\" >7</th>        <th class=\"col_heading level0 col8\" >8</th>        <th class=\"col_heading level0 col9\" >9</th>        <th class=\"col_heading level0 col10\" >10</th>        <th class=\"col_heading level0 col11\" >11</th>        <th class=\"col_heading level0 col12\" >12</th>        <th class=\"col_heading level0 col13\" >13</th>        <th class=\"col_heading level0 col14\" >14</th>        <th class=\"col_heading level0 col15\" >15</th>        <th class=\"col_heading level0 col16\" >16</th>        <th class=\"col_heading level0 col17\" >17</th>        <th class=\"col_heading level0 col18\" >18</th>        <th class=\"col_heading level0 col19\" >19</th>    </tr>    <tr>        <th class=\"blank level1\" ></th>        <th class=\"col_heading level1 col0\" >Pos</th>        <th class=\"col_heading level1 col1\" >Rider</th>        <th class=\"col_heading level1 col2\" >Constructor</th>        <th class=\"col_heading level1 col3\" ><a href=\"http://en.wikipedia.org/wiki/2002_Japanese_motorcycle_Grand_Prix?curid=17034845\">JPN</a></th>        <th class=\"col_heading level1 col4\" ><a href=\"http://en.wikipedia.org/wiki/2002_South_African_motorcycle_Grand_Prix?curid=17035864\">SAF</a></th>        <th class=\"col_heading level1 col5\" ><a href=\"http://en.wikipedia.org/wiki/2002_Spanish_motorcycle_Grand_Prix?curid=17036277\">ESP</a></th>        <th class=\"col_heading level1 col6\" ><a href=\"http://en.wikipedia.org/wiki/2002_French_motorcycle_Grand_Prix?curid=17036702\">FRA</a></th>        <th class=\"col_heading level1 col7\" ><a href=\"http://en.wikipedia.org/wiki/2002_Italian_motorcycle_Grand_Prix?curid=17036934\">ITA</a></th>        <th class=\"col_heading level1 col8\" ><a href=\"http://en.wikipedia.org/wiki/2002_Catalan_motorcycle_Grand_Prix?curid=17038035\">CAT</a></th>        <th class=\"col_heading level1 col9\" ><a href=\"http://en.wikipedia.org/wiki/2002_Dutch_TT?curid=17039811\">NED</a></th>        <th class=\"col_heading level1 col10\" ><a href=\"http://en.wikipedia.org/wiki/2002_British_motorcycle_Grand_Prix?curid=17039960\">GBR</a></th>        <th class=\"col_heading level1 col11\" ><a href=\"http://en.wikipedia.org/wiki/2002_German_motorcycle_Grand_Prix?curid=17040134\">GER</a></th>        <th class=\"col_heading level1 col12\" ><a href=\"http://en.wikipedia.org/wiki/2002_Czech_Republic_motorcycle_Grand_Prix?curid=17040290\">CZE</a></th>        <th class=\"col_heading level1 col13\" ><a href=\"http://en.wikipedia.org/wiki/2002_Portuguese_motorcycle_Grand_Prix?curid=17040374\">POR</a></th>        <th class=\"col_heading level1 col14\" ><a href=\"http://en.wikipedia.org/wiki/2002_Rio_de_Janeiro_motorcycle_Grand_Prix?curid=17050986\">RIO</a></th>        <th class=\"col_heading level1 col15\" ><a href=\"http://en.wikipedia.org/wiki/2002_Pacific_motorcycle_Grand_Prix?curid=17051093\">PAC</a></th>        <th class=\"col_heading level1 col16\" ><a href=\"http://en.wikipedia.org/wiki/2002_Malaysian_motorcycle_Grand_Prix?curid=17051191\">MAL</a></th>        <th class=\"col_heading level1 col17\" ><a href=\"http://en.wikipedia.org/wiki/2002_Australian_motorcycle_Grand_Prix?curid=17052054\">AUS</a></th>        <th class=\"col_heading level1 col18\" ><a href=\"http://en.wikipedia.org/wiki/2002_Valencian_Community_motorcycle_Grand_Prix?curid=17052183\">VAL</a></th>        <th class=\"col_heading level1 col19\" >Points</th>    </tr></thead><tbody>\n",
       "        </tbody></table>"
      ],
      "text/plain": [
       "<pandas.io.formats.style.Styler at 0x7f5f8ed49c50>"
      ]
     },
     "metadata": {},
     "output_type": "display_data"
    },
    {
     "name": "stdout",
     "output_type": "stream",
     "text": [
      "((LinkedString('Year', links=()), LinkedString('Title', links=()), LinkedString('Album', links=()), LinkedString('Chart positions', links=()), LinkedString('Chart positions', links=()), LinkedString('Chart positions', links=()), LinkedString('Chart positions', links=()), LinkedString('Chart positions', links=()), LinkedString('Chart positions', links=()), LinkedString('Chart positions', links=()), LinkedString('Chart positions', links=()), LinkedString('Chart positions', links=()), LinkedString('Chart positions', links=()), LinkedString('Chart positions', links=())), (LinkedString('Year', links=()), LinkedString('Title', links=()), LinkedString('Album', links=()), LinkedString('U.S. Hot100', links=()), LinkedString('U.S. AC', links=()), LinkedString('CAN', links=()), LinkedString('UK', links=()), LinkedString('GER', links=()), LinkedString('NOR', links=()), LinkedString('SWE', links=()), LinkedString('IRE', links=()), LinkedString('BEL', links=()), LinkedString('NET', links=()), LinkedString('FRA', links=())))\n",
      "1 (1, 5, 13, 'short-uppercase-acronyms') None None\n"
     ]
    },
    {
     "data": {
      "text/html": [
       "<style  type=\"text/css\" >\n",
       "    #T_90f78a32_358e_11eb_81c0_00259091f1e8 .col_heading.level0 {\n",
       "          display: none;\n",
       "    }    #T_90f78a32_358e_11eb_81c0_00259091f1e8 .col_heading.level2.col5 {\n",
       "          background-color: #ff0;\n",
       "    }    #T_90f78a32_358e_11eb_81c0_00259091f1e8 .col_heading.level2.col6 {\n",
       "          background-color: #ff0;\n",
       "    }    #T_90f78a32_358e_11eb_81c0_00259091f1e8 .col_heading.level2.col7 {\n",
       "          background-color: #ff0;\n",
       "    }    #T_90f78a32_358e_11eb_81c0_00259091f1e8 .col_heading.level2.col8 {\n",
       "          background-color: #ff0;\n",
       "    }    #T_90f78a32_358e_11eb_81c0_00259091f1e8 .col_heading.level2.col9 {\n",
       "          background-color: #ff0;\n",
       "    }    #T_90f78a32_358e_11eb_81c0_00259091f1e8 .col_heading.level2.col10 {\n",
       "          background-color: #ff0;\n",
       "    }    #T_90f78a32_358e_11eb_81c0_00259091f1e8 .col_heading.level2.col11 {\n",
       "          background-color: #ff0;\n",
       "    }    #T_90f78a32_358e_11eb_81c0_00259091f1e8 .col_heading.level2.col12 {\n",
       "          background-color: #ff0;\n",
       "    }    #T_90f78a32_358e_11eb_81c0_00259091f1e8 .col_heading.level2.col13 {\n",
       "          background-color: #ff0;\n",
       "    }</style><table id=\"T_90f78a32_358e_11eb_81c0_00259091f1e8\" ><thead>    <tr>        <th class=\"blank level0\" ></th>        <th class=\"col_heading level0 col0\" >0</th>        <th class=\"col_heading level0 col1\" >1</th>        <th class=\"col_heading level0 col2\" >2</th>        <th class=\"col_heading level0 col3\" >3</th>        <th class=\"col_heading level0 col4\" >4</th>        <th class=\"col_heading level0 col5\" >5</th>        <th class=\"col_heading level0 col6\" >6</th>        <th class=\"col_heading level0 col7\" >7</th>        <th class=\"col_heading level0 col8\" >8</th>        <th class=\"col_heading level0 col9\" >9</th>        <th class=\"col_heading level0 col10\" >10</th>        <th class=\"col_heading level0 col11\" >11</th>        <th class=\"col_heading level0 col12\" >12</th>        <th class=\"col_heading level0 col13\" >13</th>    </tr>    <tr>        <th class=\"blank level1\" ></th>        <th class=\"col_heading level1 col0\" >Year</th>        <th class=\"col_heading level1 col1\" >Title</th>        <th class=\"col_heading level1 col2\" >Album</th>        <th class=\"col_heading level1 col3\" >Chart positions</th>        <th class=\"col_heading level1 col4\" >Chart positions</th>        <th class=\"col_heading level1 col5\" >Chart positions</th>        <th class=\"col_heading level1 col6\" >Chart positions</th>        <th class=\"col_heading level1 col7\" >Chart positions</th>        <th class=\"col_heading level1 col8\" >Chart positions</th>        <th class=\"col_heading level1 col9\" >Chart positions</th>        <th class=\"col_heading level1 col10\" >Chart positions</th>        <th class=\"col_heading level1 col11\" >Chart positions</th>        <th class=\"col_heading level1 col12\" >Chart positions</th>        <th class=\"col_heading level1 col13\" >Chart positions</th>    </tr>    <tr>        <th class=\"blank level2\" ></th>        <th class=\"col_heading level2 col0\" >Year</th>        <th class=\"col_heading level2 col1\" >Title</th>        <th class=\"col_heading level2 col2\" >Album</th>        <th class=\"col_heading level2 col3\" >U.S. Hot100</th>        <th class=\"col_heading level2 col4\" >U.S. AC</th>        <th class=\"col_heading level2 col5\" >CAN</th>        <th class=\"col_heading level2 col6\" >UK</th>        <th class=\"col_heading level2 col7\" >GER</th>        <th class=\"col_heading level2 col8\" >NOR</th>        <th class=\"col_heading level2 col9\" >SWE</th>        <th class=\"col_heading level2 col10\" >IRE</th>        <th class=\"col_heading level2 col11\" >BEL</th>        <th class=\"col_heading level2 col12\" >NET</th>        <th class=\"col_heading level2 col13\" >FRA</th>    </tr></thead><tbody>\n",
       "        </tbody></table>"
      ],
      "text/plain": [
       "<pandas.io.formats.style.Styler at 0x7f5faddf3f50>"
      ]
     },
     "metadata": {},
     "output_type": "display_data"
    },
    {
     "name": "stdout",
     "output_type": "stream",
     "text": [
      "((LinkedString('Home \\ Away [1 ]', links=()), LinkedString('ACC', links=((0, 3, 'http://en.wikipedia.org/wiki/Accrington_Stanley_F.C._(1891)?curid=13493933'),)), LinkedString('BRW', links=((0, 3, 'http://en.wikipedia.org/wiki/Barrow_A.F.C.?curid=712826'),)), LinkedString('CRL', links=((0, 3, 'http://en.wikipedia.org/wiki/Carlisle_United_F.C.?curid=451157'),)), LinkedString('CHS', links=((0, 3, 'http://en.wikipedia.org/wiki/Chesterfield_F.C.?curid=451126'),)), LinkedString('CRE', links=((0, 3, 'http://en.wikipedia.org/wiki/Crewe_Alexandra_F.C.?curid=69438'),)), LinkedString('DAR', links=((0, 3, 'http://en.wikipedia.org/wiki/Darlington_F.C.?curid=451159'),)), LinkedString('DON', links=((0, 3, 'http://en.wikipedia.org/wiki/Doncaster_Rovers_F.C.?curid=451160'),)), LinkedString('GAT', links=((0, 3, 'http://en.wikipedia.org/wiki/Gateshead_F.C.?curid=696588'),)), LinkedString('HAL', links=((0, 3, 'http://en.wikipedia.org/wiki/Halifax_Town_A.F.C.?curid=451200'),)), LinkedString('HAR', links=((0, 3, 'http://en.wikipedia.org/wiki/Hartlepool_United_F.C.?curid=451130'),)), LinkedString('HUL', links=((0, 3, 'http://en.wikipedia.org/wiki/Hull_City_A.F.C.?curid=451358'),)), LinkedString('LIN', links=((0, 3, 'http://en.wikipedia.org/wiki/Lincoln_City_F.C.?curid=451163'),)), LinkedString('NEL', links=((0, 3, 'http://en.wikipedia.org/wiki/Nelson_F.C.?curid=2205875'),)), LinkedString('NWB', links=((0, 3, 'http://en.wikipedia.org/wiki/New_Brighton_A.F.C.,_New_Zealand?curid=3726454'),)), LinkedString('ROC', links=((0, 3, 'http://en.wikipedia.org/wiki/Rochdale_A.F.C.?curid=451166'),)), LinkedString('ROT', links=((0, 3, 'http://en.wikipedia.org/wiki/Rotherham_County_F.C.?curid=2505721'),)), LinkedString('SOU', links=((0, 3, 'http://en.wikipedia.org/wiki/Southport_F.C.?curid=1239131'),)), LinkedString('STP', links=((0, 3, 'http://en.wikipedia.org/wiki/Stockport_County_F.C.?curid=451135'),)), LinkedString('TRA', links=((0, 3, 'http://en.wikipedia.org/wiki/Tranmere_Rovers_F.C.?curid=69219'),)), LinkedString('WIG', links=((0, 3, 'http://en.wikipedia.org/wiki/Wigan_Borough_F.C.?curid=1109452'),)), LinkedString('WRE', links=((0, 3, 'http://en.wikipedia.org/wiki/Wrexham_F.C.?curid=413286'),)), LinkedString('YOR', links=((0, 3, 'http://en.wikipedia.org/wiki/York_City_F.C.?curid=451170'),))),)\n",
      "1 (0, 1, 22, 'short-uppercase-acronyms') None None\n"
     ]
    },
    {
     "data": {
      "text/html": [
       "<style  type=\"text/css\" >\n",
       "    #T_90faef06_358e_11eb_81c0_00259091f1e8 .col_heading.level0 {\n",
       "          display: none;\n",
       "    }    #T_90faef06_358e_11eb_81c0_00259091f1e8 .col_heading.level1.col1 {\n",
       "          background-color: #ff0;\n",
       "    }    #T_90faef06_358e_11eb_81c0_00259091f1e8 .col_heading.level1.col2 {\n",
       "          background-color: #ff0;\n",
       "    }    #T_90faef06_358e_11eb_81c0_00259091f1e8 .col_heading.level1.col3 {\n",
       "          background-color: #ff0;\n",
       "    }    #T_90faef06_358e_11eb_81c0_00259091f1e8 .col_heading.level1.col4 {\n",
       "          background-color: #ff0;\n",
       "    }    #T_90faef06_358e_11eb_81c0_00259091f1e8 .col_heading.level1.col5 {\n",
       "          background-color: #ff0;\n",
       "    }    #T_90faef06_358e_11eb_81c0_00259091f1e8 .col_heading.level1.col6 {\n",
       "          background-color: #ff0;\n",
       "    }    #T_90faef06_358e_11eb_81c0_00259091f1e8 .col_heading.level1.col7 {\n",
       "          background-color: #ff0;\n",
       "    }    #T_90faef06_358e_11eb_81c0_00259091f1e8 .col_heading.level1.col8 {\n",
       "          background-color: #ff0;\n",
       "    }    #T_90faef06_358e_11eb_81c0_00259091f1e8 .col_heading.level1.col9 {\n",
       "          background-color: #ff0;\n",
       "    }    #T_90faef06_358e_11eb_81c0_00259091f1e8 .col_heading.level1.col10 {\n",
       "          background-color: #ff0;\n",
       "    }    #T_90faef06_358e_11eb_81c0_00259091f1e8 .col_heading.level1.col11 {\n",
       "          background-color: #ff0;\n",
       "    }    #T_90faef06_358e_11eb_81c0_00259091f1e8 .col_heading.level1.col12 {\n",
       "          background-color: #ff0;\n",
       "    }    #T_90faef06_358e_11eb_81c0_00259091f1e8 .col_heading.level1.col13 {\n",
       "          background-color: #ff0;\n",
       "    }    #T_90faef06_358e_11eb_81c0_00259091f1e8 .col_heading.level1.col14 {\n",
       "          background-color: #ff0;\n",
       "    }    #T_90faef06_358e_11eb_81c0_00259091f1e8 .col_heading.level1.col15 {\n",
       "          background-color: #ff0;\n",
       "    }    #T_90faef06_358e_11eb_81c0_00259091f1e8 .col_heading.level1.col16 {\n",
       "          background-color: #ff0;\n",
       "    }    #T_90faef06_358e_11eb_81c0_00259091f1e8 .col_heading.level1.col17 {\n",
       "          background-color: #ff0;\n",
       "    }    #T_90faef06_358e_11eb_81c0_00259091f1e8 .col_heading.level1.col18 {\n",
       "          background-color: #ff0;\n",
       "    }    #T_90faef06_358e_11eb_81c0_00259091f1e8 .col_heading.level1.col19 {\n",
       "          background-color: #ff0;\n",
       "    }    #T_90faef06_358e_11eb_81c0_00259091f1e8 .col_heading.level1.col20 {\n",
       "          background-color: #ff0;\n",
       "    }    #T_90faef06_358e_11eb_81c0_00259091f1e8 .col_heading.level1.col21 {\n",
       "          background-color: #ff0;\n",
       "    }    #T_90faef06_358e_11eb_81c0_00259091f1e8 .col_heading.level1.col22 {\n",
       "          background-color: #ff0;\n",
       "    }</style><table id=\"T_90faef06_358e_11eb_81c0_00259091f1e8\" ><thead>    <tr>        <th class=\"blank level0\" ></th>        <th class=\"col_heading level0 col0\" >0</th>        <th class=\"col_heading level0 col1\" >1</th>        <th class=\"col_heading level0 col2\" >2</th>        <th class=\"col_heading level0 col3\" >3</th>        <th class=\"col_heading level0 col4\" >4</th>        <th class=\"col_heading level0 col5\" >5</th>        <th class=\"col_heading level0 col6\" >6</th>        <th class=\"col_heading level0 col7\" >7</th>        <th class=\"col_heading level0 col8\" >8</th>        <th class=\"col_heading level0 col9\" >9</th>        <th class=\"col_heading level0 col10\" >10</th>        <th class=\"col_heading level0 col11\" >11</th>        <th class=\"col_heading level0 col12\" >12</th>        <th class=\"col_heading level0 col13\" >13</th>        <th class=\"col_heading level0 col14\" >14</th>        <th class=\"col_heading level0 col15\" >15</th>        <th class=\"col_heading level0 col16\" >16</th>        <th class=\"col_heading level0 col17\" >17</th>        <th class=\"col_heading level0 col18\" >18</th>        <th class=\"col_heading level0 col19\" >19</th>        <th class=\"col_heading level0 col20\" >20</th>        <th class=\"col_heading level0 col21\" >21</th>        <th class=\"col_heading level0 col22\" >22</th>    </tr>    <tr>        <th class=\"blank level1\" ></th>        <th class=\"col_heading level1 col0\" >Home \\ Away [1 ]</th>        <th class=\"col_heading level1 col1\" ><a href=\"http://en.wikipedia.org/wiki/Accrington_Stanley_F.C._(1891)?curid=13493933\">ACC</a></th>        <th class=\"col_heading level1 col2\" ><a href=\"http://en.wikipedia.org/wiki/Barrow_A.F.C.?curid=712826\">BRW</a></th>        <th class=\"col_heading level1 col3\" ><a href=\"http://en.wikipedia.org/wiki/Carlisle_United_F.C.?curid=451157\">CRL</a></th>        <th class=\"col_heading level1 col4\" ><a href=\"http://en.wikipedia.org/wiki/Chesterfield_F.C.?curid=451126\">CHS</a></th>        <th class=\"col_heading level1 col5\" ><a href=\"http://en.wikipedia.org/wiki/Crewe_Alexandra_F.C.?curid=69438\">CRE</a></th>        <th class=\"col_heading level1 col6\" ><a href=\"http://en.wikipedia.org/wiki/Darlington_F.C.?curid=451159\">DAR</a></th>        <th class=\"col_heading level1 col7\" ><a href=\"http://en.wikipedia.org/wiki/Doncaster_Rovers_F.C.?curid=451160\">DON</a></th>        <th class=\"col_heading level1 col8\" ><a href=\"http://en.wikipedia.org/wiki/Gateshead_F.C.?curid=696588\">GAT</a></th>        <th class=\"col_heading level1 col9\" ><a href=\"http://en.wikipedia.org/wiki/Halifax_Town_A.F.C.?curid=451200\">HAL</a></th>        <th class=\"col_heading level1 col10\" ><a href=\"http://en.wikipedia.org/wiki/Hartlepool_United_F.C.?curid=451130\">HAR</a></th>        <th class=\"col_heading level1 col11\" ><a href=\"http://en.wikipedia.org/wiki/Hull_City_A.F.C.?curid=451358\">HUL</a></th>        <th class=\"col_heading level1 col12\" ><a href=\"http://en.wikipedia.org/wiki/Lincoln_City_F.C.?curid=451163\">LIN</a></th>        <th class=\"col_heading level1 col13\" ><a href=\"http://en.wikipedia.org/wiki/Nelson_F.C.?curid=2205875\">NEL</a></th>        <th class=\"col_heading level1 col14\" ><a href=\"http://en.wikipedia.org/wiki/New_Brighton_A.F.C.,_New_Zealand?curid=3726454\">NWB</a></th>        <th class=\"col_heading level1 col15\" ><a href=\"http://en.wikipedia.org/wiki/Rochdale_A.F.C.?curid=451166\">ROC</a></th>        <th class=\"col_heading level1 col16\" ><a href=\"http://en.wikipedia.org/wiki/Rotherham_County_F.C.?curid=2505721\">ROT</a></th>        <th class=\"col_heading level1 col17\" ><a href=\"http://en.wikipedia.org/wiki/Southport_F.C.?curid=1239131\">SOU</a></th>        <th class=\"col_heading level1 col18\" ><a href=\"http://en.wikipedia.org/wiki/Stockport_County_F.C.?curid=451135\">STP</a></th>        <th class=\"col_heading level1 col19\" ><a href=\"http://en.wikipedia.org/wiki/Tranmere_Rovers_F.C.?curid=69219\">TRA</a></th>        <th class=\"col_heading level1 col20\" ><a href=\"http://en.wikipedia.org/wiki/Wigan_Borough_F.C.?curid=1109452\">WIG</a></th>        <th class=\"col_heading level1 col21\" ><a href=\"http://en.wikipedia.org/wiki/Wrexham_F.C.?curid=413286\">WRE</a></th>        <th class=\"col_heading level1 col22\" ><a href=\"http://en.wikipedia.org/wiki/York_City_F.C.?curid=451170\">YOR</a></th>    </tr></thead><tbody>\n",
       "        </tbody></table>"
      ],
      "text/plain": [
       "<pandas.io.formats.style.Styler at 0x7f5f2812bcd0>"
      ]
     },
     "metadata": {},
     "output_type": "display_data"
    },
    {
     "name": "stdout",
     "output_type": "stream",
     "text": [
      "((LinkedString('Player', links=()), LinkedString('GP', links=()), LinkedString('REB', links=()), LinkedString('AST', links=()), LinkedString('STL', links=()), LinkedString('BLK', links=()), LinkedString('PTS', links=()), LinkedString('AVG', links=())),)\n",
      "1 (0, 1, 7, 'short-uppercase-acronyms') None None\n"
     ]
    },
    {
     "data": {
      "text/html": [
       "<style  type=\"text/css\" >\n",
       "    #T_90fdcc80_358e_11eb_81c0_00259091f1e8 .col_heading.level0 {\n",
       "          display: none;\n",
       "    }    #T_90fdcc80_358e_11eb_81c0_00259091f1e8 .col_heading.level1.col1 {\n",
       "          background-color: #ff0;\n",
       "    }    #T_90fdcc80_358e_11eb_81c0_00259091f1e8 .col_heading.level1.col2 {\n",
       "          background-color: #ff0;\n",
       "    }    #T_90fdcc80_358e_11eb_81c0_00259091f1e8 .col_heading.level1.col3 {\n",
       "          background-color: #ff0;\n",
       "    }    #T_90fdcc80_358e_11eb_81c0_00259091f1e8 .col_heading.level1.col4 {\n",
       "          background-color: #ff0;\n",
       "    }    #T_90fdcc80_358e_11eb_81c0_00259091f1e8 .col_heading.level1.col5 {\n",
       "          background-color: #ff0;\n",
       "    }    #T_90fdcc80_358e_11eb_81c0_00259091f1e8 .col_heading.level1.col6 {\n",
       "          background-color: #ff0;\n",
       "    }    #T_90fdcc80_358e_11eb_81c0_00259091f1e8 .col_heading.level1.col7 {\n",
       "          background-color: #ff0;\n",
       "    }</style><table id=\"T_90fdcc80_358e_11eb_81c0_00259091f1e8\" ><thead>    <tr>        <th class=\"blank level0\" ></th>        <th class=\"col_heading level0 col0\" >0</th>        <th class=\"col_heading level0 col1\" >1</th>        <th class=\"col_heading level0 col2\" >2</th>        <th class=\"col_heading level0 col3\" >3</th>        <th class=\"col_heading level0 col4\" >4</th>        <th class=\"col_heading level0 col5\" >5</th>        <th class=\"col_heading level0 col6\" >6</th>        <th class=\"col_heading level0 col7\" >7</th>    </tr>    <tr>        <th class=\"blank level1\" ></th>        <th class=\"col_heading level1 col0\" >Player</th>        <th class=\"col_heading level1 col1\" >GP</th>        <th class=\"col_heading level1 col2\" >REB</th>        <th class=\"col_heading level1 col3\" >AST</th>        <th class=\"col_heading level1 col4\" >STL</th>        <th class=\"col_heading level1 col5\" >BLK</th>        <th class=\"col_heading level1 col6\" >PTS</th>        <th class=\"col_heading level1 col7\" >AVG</th>    </tr></thead><tbody>\n",
       "        </tbody></table>"
      ],
      "text/plain": [
       "<pandas.io.formats.style.Styler at 0x7f5f21be50d0>"
      ]
     },
     "metadata": {},
     "output_type": "display_data"
    },
    {
     "name": "stdout",
     "output_type": "stream",
     "text": [
      "((LinkedString('WLB', links=((0, 3, 'http://en.wikipedia.org/wiki/Linebacker?curid=492475'),)), LinkedString('MLB', links=((0, 3, 'http://en.wikipedia.org/wiki/Linebacker?curid=492475'),)), LinkedString('SLB', links=((0, 3, 'http://en.wikipedia.org/wiki/Linebacker?curid=492475'),))),)\n",
      "1 (0, 0, 2, 'short-uppercase-acronyms') None None\n"
     ]
    },
    {
     "data": {
      "text/html": [
       "<style  type=\"text/css\" >\n",
       "    #T_90ffff1e_358e_11eb_81c0_00259091f1e8 .col_heading.level0 {\n",
       "          display: none;\n",
       "    }    #T_90ffff1e_358e_11eb_81c0_00259091f1e8 .col_heading.level1.col0 {\n",
       "          background-color: #ff0;\n",
       "    }    #T_90ffff1e_358e_11eb_81c0_00259091f1e8 .col_heading.level1.col1 {\n",
       "          background-color: #ff0;\n",
       "    }    #T_90ffff1e_358e_11eb_81c0_00259091f1e8 .col_heading.level1.col2 {\n",
       "          background-color: #ff0;\n",
       "    }</style><table id=\"T_90ffff1e_358e_11eb_81c0_00259091f1e8\" ><thead>    <tr>        <th class=\"blank level0\" ></th>        <th class=\"col_heading level0 col0\" >0</th>        <th class=\"col_heading level0 col1\" >1</th>        <th class=\"col_heading level0 col2\" >2</th>    </tr>    <tr>        <th class=\"blank level1\" ></th>        <th class=\"col_heading level1 col0\" ><a href=\"http://en.wikipedia.org/wiki/Linebacker?curid=492475\">WLB</a></th>        <th class=\"col_heading level1 col1\" ><a href=\"http://en.wikipedia.org/wiki/Linebacker?curid=492475\">MLB</a></th>        <th class=\"col_heading level1 col2\" ><a href=\"http://en.wikipedia.org/wiki/Linebacker?curid=492475\">SLB</a></th>    </tr></thead><tbody>\n",
       "        </tbody></table>"
      ],
      "text/plain": [
       "<pandas.io.formats.style.Styler at 0x7f5f28115dd0>"
      ]
     },
     "metadata": {},
     "output_type": "display_data"
    },
    {
     "name": "stdout",
     "output_type": "stream",
     "text": [
      "((LinkedString('Pos', links=()), LinkedString('Manufacturer', links=()), LinkedString('SAF', links=((0, 3, 'http://en.wikipedia.org/wiki/2004_South_African_motorcycle_Grand_Prix?curid=17095118'),)), LinkedString('ESP', links=((0, 3, 'http://en.wikipedia.org/wiki/2004_Spanish_motorcycle_Grand_Prix?curid=17159059'),)), LinkedString('FRA', links=((0, 3, 'http://en.wikipedia.org/wiki/2004_French_motorcycle_Grand_Prix?curid=17159246'),)), LinkedString('ITA', links=((0, 3, 'http://en.wikipedia.org/wiki/2004_Italian_motorcycle_Grand_Prix?curid=17159291'),)), LinkedString('CAT', links=((0, 3, 'http://en.wikipedia.org/wiki/2004_Catalan_motorcycle_Grand_Prix?curid=17159381'),)), LinkedString('NED', links=((0, 3, 'http://en.wikipedia.org/wiki/2004_Dutch_TT?curid=17159406'),)), LinkedString('RIO', links=((0, 3, 'http://en.wikipedia.org/wiki/2004_Rio_de_Janeiro_motorcycle_Grand_Prix?curid=17159473'),)), LinkedString('GER', links=((0, 3, 'http://en.wikipedia.org/wiki/2004_German_motorcycle_Grand_Prix?curid=17159851'),)), LinkedString('GBR', links=((0, 3, 'http://en.wikipedia.org/wiki/2004_British_motorcycle_Grand_Prix?curid=17159869'),)), LinkedString('CZE', links=((0, 3, 'http://en.wikipedia.org/wiki/2004_Czech_Republic_motorcycle_Grand_Prix?curid=17159906'),)), LinkedString('POR', links=((0, 3, 'http://en.wikipedia.org/wiki/2004_Portuguese_motorcycle_Grand_Prix?curid=17159936'),)), LinkedString('JPN', links=((0, 3, 'http://en.wikipedia.org/wiki/2004_Japanese_motorcycle_Grand_Prix?curid=17159988'),)), LinkedString('QAT', links=((0, 3, 'http://en.wikipedia.org/wiki/2004_Qatar_motorcycle_Grand_Prix?curid=17160044'),)), LinkedString('MAL', links=((0, 3, 'http://en.wikipedia.org/wiki/2004_Malaysian_motorcycle_Grand_Prix?curid=17160628'),)), LinkedString('AUS', links=((0, 3, 'http://en.wikipedia.org/wiki/2004_Australian_motorcycle_Grand_Prix?curid=17160665'),)), LinkedString('VAL', links=((0, 3, 'http://en.wikipedia.org/wiki/2004_Valencian_Community_motorcycle_Grand_Prix?curid=17160705'),)), LinkedString('Pts', links=())),)\n",
      "1 (0, 2, 17, 'short-uppercase-acronyms') None None\n"
     ]
    },
    {
     "data": {
      "text/html": [
       "<style  type=\"text/css\" >\n",
       "    #T_9103121c_358e_11eb_81c0_00259091f1e8 .col_heading.level0 {\n",
       "          display: none;\n",
       "    }    #T_9103121c_358e_11eb_81c0_00259091f1e8 .col_heading.level1.col2 {\n",
       "          background-color: #ff0;\n",
       "    }    #T_9103121c_358e_11eb_81c0_00259091f1e8 .col_heading.level1.col3 {\n",
       "          background-color: #ff0;\n",
       "    }    #T_9103121c_358e_11eb_81c0_00259091f1e8 .col_heading.level1.col4 {\n",
       "          background-color: #ff0;\n",
       "    }    #T_9103121c_358e_11eb_81c0_00259091f1e8 .col_heading.level1.col5 {\n",
       "          background-color: #ff0;\n",
       "    }    #T_9103121c_358e_11eb_81c0_00259091f1e8 .col_heading.level1.col6 {\n",
       "          background-color: #ff0;\n",
       "    }    #T_9103121c_358e_11eb_81c0_00259091f1e8 .col_heading.level1.col7 {\n",
       "          background-color: #ff0;\n",
       "    }    #T_9103121c_358e_11eb_81c0_00259091f1e8 .col_heading.level1.col8 {\n",
       "          background-color: #ff0;\n",
       "    }    #T_9103121c_358e_11eb_81c0_00259091f1e8 .col_heading.level1.col9 {\n",
       "          background-color: #ff0;\n",
       "    }    #T_9103121c_358e_11eb_81c0_00259091f1e8 .col_heading.level1.col10 {\n",
       "          background-color: #ff0;\n",
       "    }    #T_9103121c_358e_11eb_81c0_00259091f1e8 .col_heading.level1.col11 {\n",
       "          background-color: #ff0;\n",
       "    }    #T_9103121c_358e_11eb_81c0_00259091f1e8 .col_heading.level1.col12 {\n",
       "          background-color: #ff0;\n",
       "    }    #T_9103121c_358e_11eb_81c0_00259091f1e8 .col_heading.level1.col13 {\n",
       "          background-color: #ff0;\n",
       "    }    #T_9103121c_358e_11eb_81c0_00259091f1e8 .col_heading.level1.col14 {\n",
       "          background-color: #ff0;\n",
       "    }    #T_9103121c_358e_11eb_81c0_00259091f1e8 .col_heading.level1.col15 {\n",
       "          background-color: #ff0;\n",
       "    }    #T_9103121c_358e_11eb_81c0_00259091f1e8 .col_heading.level1.col16 {\n",
       "          background-color: #ff0;\n",
       "    }    #T_9103121c_358e_11eb_81c0_00259091f1e8 .col_heading.level1.col17 {\n",
       "          background-color: #ff0;\n",
       "    }</style><table id=\"T_9103121c_358e_11eb_81c0_00259091f1e8\" ><thead>    <tr>        <th class=\"blank level0\" ></th>        <th class=\"col_heading level0 col0\" >0</th>        <th class=\"col_heading level0 col1\" >1</th>        <th class=\"col_heading level0 col2\" >2</th>        <th class=\"col_heading level0 col3\" >3</th>        <th class=\"col_heading level0 col4\" >4</th>        <th class=\"col_heading level0 col5\" >5</th>        <th class=\"col_heading level0 col6\" >6</th>        <th class=\"col_heading level0 col7\" >7</th>        <th class=\"col_heading level0 col8\" >8</th>        <th class=\"col_heading level0 col9\" >9</th>        <th class=\"col_heading level0 col10\" >10</th>        <th class=\"col_heading level0 col11\" >11</th>        <th class=\"col_heading level0 col12\" >12</th>        <th class=\"col_heading level0 col13\" >13</th>        <th class=\"col_heading level0 col14\" >14</th>        <th class=\"col_heading level0 col15\" >15</th>        <th class=\"col_heading level0 col16\" >16</th>        <th class=\"col_heading level0 col17\" >17</th>        <th class=\"col_heading level0 col18\" >18</th>    </tr>    <tr>        <th class=\"blank level1\" ></th>        <th class=\"col_heading level1 col0\" >Pos</th>        <th class=\"col_heading level1 col1\" >Manufacturer</th>        <th class=\"col_heading level1 col2\" ><a href=\"http://en.wikipedia.org/wiki/2004_South_African_motorcycle_Grand_Prix?curid=17095118\">SAF</a></th>        <th class=\"col_heading level1 col3\" ><a href=\"http://en.wikipedia.org/wiki/2004_Spanish_motorcycle_Grand_Prix?curid=17159059\">ESP</a></th>        <th class=\"col_heading level1 col4\" ><a href=\"http://en.wikipedia.org/wiki/2004_French_motorcycle_Grand_Prix?curid=17159246\">FRA</a></th>        <th class=\"col_heading level1 col5\" ><a href=\"http://en.wikipedia.org/wiki/2004_Italian_motorcycle_Grand_Prix?curid=17159291\">ITA</a></th>        <th class=\"col_heading level1 col6\" ><a href=\"http://en.wikipedia.org/wiki/2004_Catalan_motorcycle_Grand_Prix?curid=17159381\">CAT</a></th>        <th class=\"col_heading level1 col7\" ><a href=\"http://en.wikipedia.org/wiki/2004_Dutch_TT?curid=17159406\">NED</a></th>        <th class=\"col_heading level1 col8\" ><a href=\"http://en.wikipedia.org/wiki/2004_Rio_de_Janeiro_motorcycle_Grand_Prix?curid=17159473\">RIO</a></th>        <th class=\"col_heading level1 col9\" ><a href=\"http://en.wikipedia.org/wiki/2004_German_motorcycle_Grand_Prix?curid=17159851\">GER</a></th>        <th class=\"col_heading level1 col10\" ><a href=\"http://en.wikipedia.org/wiki/2004_British_motorcycle_Grand_Prix?curid=17159869\">GBR</a></th>        <th class=\"col_heading level1 col11\" ><a href=\"http://en.wikipedia.org/wiki/2004_Czech_Republic_motorcycle_Grand_Prix?curid=17159906\">CZE</a></th>        <th class=\"col_heading level1 col12\" ><a href=\"http://en.wikipedia.org/wiki/2004_Portuguese_motorcycle_Grand_Prix?curid=17159936\">POR</a></th>        <th class=\"col_heading level1 col13\" ><a href=\"http://en.wikipedia.org/wiki/2004_Japanese_motorcycle_Grand_Prix?curid=17159988\">JPN</a></th>        <th class=\"col_heading level1 col14\" ><a href=\"http://en.wikipedia.org/wiki/2004_Qatar_motorcycle_Grand_Prix?curid=17160044\">QAT</a></th>        <th class=\"col_heading level1 col15\" ><a href=\"http://en.wikipedia.org/wiki/2004_Malaysian_motorcycle_Grand_Prix?curid=17160628\">MAL</a></th>        <th class=\"col_heading level1 col16\" ><a href=\"http://en.wikipedia.org/wiki/2004_Australian_motorcycle_Grand_Prix?curid=17160665\">AUS</a></th>        <th class=\"col_heading level1 col17\" ><a href=\"http://en.wikipedia.org/wiki/2004_Valencian_Community_motorcycle_Grand_Prix?curid=17160705\">VAL</a></th>        <th class=\"col_heading level1 col18\" >Pts</th>    </tr></thead><tbody>\n",
       "        </tbody></table>"
      ],
      "text/plain": [
       "<pandas.io.formats.style.Styler at 0x7f5f8c7f3610>"
      ]
     },
     "metadata": {},
     "output_type": "display_data"
    },
    {
     "name": "stdout",
     "output_type": "stream",
     "text": [
      "((LinkedString('Pos', links=()), LinkedString('Driver', links=()), LinkedString('MON', links=((0, 3, 'http://en.wikipedia.org/wiki/2007_Monte_Carlo_Rally?curid=35415535'),)), LinkedString('SWE', links=()), LinkedString('NOR', links=((0, 3, 'http://en.wikipedia.org/wiki/2007_Rally_Norway?curid=9560055'),)), LinkedString('MEX', links=((0, 3, 'http://en.wikipedia.org/wiki/2007_Rally_Mexico?curid=9994990'),)), LinkedString('POR', links=((0, 3, 'http://en.wikipedia.org/wiki/2007_Rally_Portugal?curid=11466513'),)), LinkedString('ARG', links=((0, 3, 'http://en.wikipedia.org/wiki/2007_Rally_Argentina?curid=13244302'),)), LinkedString('ITA', links=((0, 3, \"http://en.wikipedia.org/wiki/2007_Rally_d'Italia_Sardegna?curid=13122867\"),)), LinkedString('GRC', links=((0, 3, 'http://en.wikipedia.org/wiki/2007_Acropolis_Rally?curid=13121938'),)), LinkedString('FIN', links=((0, 3, 'http://en.wikipedia.org/wiki/2007_Rally_Finland?curid=13050822'),)), LinkedString('GER', links=((0, 3, 'http://en.wikipedia.org/wiki/2007_Rallye_Deutschland?curid=13049722'),)), LinkedString('NZL', links=((0, 3, 'http://en.wikipedia.org/wiki/2007_Rally_New_Zealand?curid=13033447'),)), LinkedString('ESP', links=((0, 3, 'http://en.wikipedia.org/wiki/2007_Rally_Catalunya?curid=14498722'),)), LinkedString('FRA', links=((0, 3, 'http://en.wikipedia.org/wiki/2007_Tour_de_Corse?curid=15135730'),)), LinkedString('JPN', links=((0, 3, 'http://en.wikipedia.org/wiki/2007_Rally_Japan?curid=15342956'),)), LinkedString('IRL', links=((0, 3, 'http://en.wikipedia.org/wiki/2007_Rally_Ireland?curid=14469302'),)), LinkedString('GBR', links=((0, 3, 'http://en.wikipedia.org/wiki/2007_Rally_GB?curid=15343203'),)), LinkedString('Pts', links=())),)\n",
      "1 (0, 2, 17, 'short-uppercase-acronyms') None None\n"
     ]
    },
    {
     "data": {
      "text/html": [
       "<style  type=\"text/css\" >\n",
       "    #T_91062f2e_358e_11eb_81c0_00259091f1e8 .col_heading.level0 {\n",
       "          display: none;\n",
       "    }    #T_91062f2e_358e_11eb_81c0_00259091f1e8 .col_heading.level1.col2 {\n",
       "          background-color: #ff0;\n",
       "    }    #T_91062f2e_358e_11eb_81c0_00259091f1e8 .col_heading.level1.col3 {\n",
       "          background-color: #ff0;\n",
       "    }    #T_91062f2e_358e_11eb_81c0_00259091f1e8 .col_heading.level1.col4 {\n",
       "          background-color: #ff0;\n",
       "    }    #T_91062f2e_358e_11eb_81c0_00259091f1e8 .col_heading.level1.col5 {\n",
       "          background-color: #ff0;\n",
       "    }    #T_91062f2e_358e_11eb_81c0_00259091f1e8 .col_heading.level1.col6 {\n",
       "          background-color: #ff0;\n",
       "    }    #T_91062f2e_358e_11eb_81c0_00259091f1e8 .col_heading.level1.col7 {\n",
       "          background-color: #ff0;\n",
       "    }    #T_91062f2e_358e_11eb_81c0_00259091f1e8 .col_heading.level1.col8 {\n",
       "          background-color: #ff0;\n",
       "    }    #T_91062f2e_358e_11eb_81c0_00259091f1e8 .col_heading.level1.col9 {\n",
       "          background-color: #ff0;\n",
       "    }    #T_91062f2e_358e_11eb_81c0_00259091f1e8 .col_heading.level1.col10 {\n",
       "          background-color: #ff0;\n",
       "    }    #T_91062f2e_358e_11eb_81c0_00259091f1e8 .col_heading.level1.col11 {\n",
       "          background-color: #ff0;\n",
       "    }    #T_91062f2e_358e_11eb_81c0_00259091f1e8 .col_heading.level1.col12 {\n",
       "          background-color: #ff0;\n",
       "    }    #T_91062f2e_358e_11eb_81c0_00259091f1e8 .col_heading.level1.col13 {\n",
       "          background-color: #ff0;\n",
       "    }    #T_91062f2e_358e_11eb_81c0_00259091f1e8 .col_heading.level1.col14 {\n",
       "          background-color: #ff0;\n",
       "    }    #T_91062f2e_358e_11eb_81c0_00259091f1e8 .col_heading.level1.col15 {\n",
       "          background-color: #ff0;\n",
       "    }    #T_91062f2e_358e_11eb_81c0_00259091f1e8 .col_heading.level1.col16 {\n",
       "          background-color: #ff0;\n",
       "    }    #T_91062f2e_358e_11eb_81c0_00259091f1e8 .col_heading.level1.col17 {\n",
       "          background-color: #ff0;\n",
       "    }</style><table id=\"T_91062f2e_358e_11eb_81c0_00259091f1e8\" ><thead>    <tr>        <th class=\"blank level0\" ></th>        <th class=\"col_heading level0 col0\" >0</th>        <th class=\"col_heading level0 col1\" >1</th>        <th class=\"col_heading level0 col2\" >2</th>        <th class=\"col_heading level0 col3\" >3</th>        <th class=\"col_heading level0 col4\" >4</th>        <th class=\"col_heading level0 col5\" >5</th>        <th class=\"col_heading level0 col6\" >6</th>        <th class=\"col_heading level0 col7\" >7</th>        <th class=\"col_heading level0 col8\" >8</th>        <th class=\"col_heading level0 col9\" >9</th>        <th class=\"col_heading level0 col10\" >10</th>        <th class=\"col_heading level0 col11\" >11</th>        <th class=\"col_heading level0 col12\" >12</th>        <th class=\"col_heading level0 col13\" >13</th>        <th class=\"col_heading level0 col14\" >14</th>        <th class=\"col_heading level0 col15\" >15</th>        <th class=\"col_heading level0 col16\" >16</th>        <th class=\"col_heading level0 col17\" >17</th>        <th class=\"col_heading level0 col18\" >18</th>    </tr>    <tr>        <th class=\"blank level1\" ></th>        <th class=\"col_heading level1 col0\" >Pos</th>        <th class=\"col_heading level1 col1\" >Driver</th>        <th class=\"col_heading level1 col2\" ><a href=\"http://en.wikipedia.org/wiki/2007_Monte_Carlo_Rally?curid=35415535\">MON</a></th>        <th class=\"col_heading level1 col3\" >SWE</th>        <th class=\"col_heading level1 col4\" ><a href=\"http://en.wikipedia.org/wiki/2007_Rally_Norway?curid=9560055\">NOR</a></th>        <th class=\"col_heading level1 col5\" ><a href=\"http://en.wikipedia.org/wiki/2007_Rally_Mexico?curid=9994990\">MEX</a></th>        <th class=\"col_heading level1 col6\" ><a href=\"http://en.wikipedia.org/wiki/2007_Rally_Portugal?curid=11466513\">POR</a></th>        <th class=\"col_heading level1 col7\" ><a href=\"http://en.wikipedia.org/wiki/2007_Rally_Argentina?curid=13244302\">ARG</a></th>        <th class=\"col_heading level1 col8\" ><a href=\"http://en.wikipedia.org/wiki/2007_Rally_d'Italia_Sardegna?curid=13122867\">ITA</a></th>        <th class=\"col_heading level1 col9\" ><a href=\"http://en.wikipedia.org/wiki/2007_Acropolis_Rally?curid=13121938\">GRC</a></th>        <th class=\"col_heading level1 col10\" ><a href=\"http://en.wikipedia.org/wiki/2007_Rally_Finland?curid=13050822\">FIN</a></th>        <th class=\"col_heading level1 col11\" ><a href=\"http://en.wikipedia.org/wiki/2007_Rallye_Deutschland?curid=13049722\">GER</a></th>        <th class=\"col_heading level1 col12\" ><a href=\"http://en.wikipedia.org/wiki/2007_Rally_New_Zealand?curid=13033447\">NZL</a></th>        <th class=\"col_heading level1 col13\" ><a href=\"http://en.wikipedia.org/wiki/2007_Rally_Catalunya?curid=14498722\">ESP</a></th>        <th class=\"col_heading level1 col14\" ><a href=\"http://en.wikipedia.org/wiki/2007_Tour_de_Corse?curid=15135730\">FRA</a></th>        <th class=\"col_heading level1 col15\" ><a href=\"http://en.wikipedia.org/wiki/2007_Rally_Japan?curid=15342956\">JPN</a></th>        <th class=\"col_heading level1 col16\" ><a href=\"http://en.wikipedia.org/wiki/2007_Rally_Ireland?curid=14469302\">IRL</a></th>        <th class=\"col_heading level1 col17\" ><a href=\"http://en.wikipedia.org/wiki/2007_Rally_GB?curid=15343203\">GBR</a></th>        <th class=\"col_heading level1 col18\" >Pts</th>    </tr></thead><tbody>\n",
       "        </tbody></table>"
      ],
      "text/plain": [
       "<pandas.io.formats.style.Styler at 0x7f5f2811a390>"
      ]
     },
     "metadata": {},
     "output_type": "display_data"
    },
    {
     "name": "stdout",
     "output_type": "stream",
     "text": [
      "((LinkedString('Pos', links=()), LinkedString('Team', links=()), LinkedString('THR', links=((0, 3, 'http://en.wikipedia.org/wiki/Thruxton_Circuit?curid=3538081'),)), LinkedString('SIL', links=((0, 3, 'http://en.wikipedia.org/wiki/Silverstone_Circuit?curid=522676'),)), LinkedString('DON', links=((0, 3, 'http://en.wikipedia.org/wiki/Donington_Park?curid=391884'),)), LinkedString('BHI', links=((0, 3, 'http://en.wikipedia.org/wiki/Brands_Hatch?curid=1068202'),)), LinkedString('OUL', links=((0, 3, 'http://en.wikipedia.org/wiki/Oulton_Park?curid=3347772'),)), LinkedString('DON', links=((0, 3, 'http://en.wikipedia.org/wiki/Donington_Park?curid=391884'),)), LinkedString('CRO', links=((0, 3, 'http://en.wikipedia.org/wiki/Croft_Circuit?curid=3606322'),)), LinkedString('SNE', links=((0, 3, 'http://en.wikipedia.org/wiki/Snetterton_Motor_Racing_Circuit?curid=4237101'),)), LinkedString('THR', links=((0, 3, 'http://en.wikipedia.org/wiki/Thruxton_Circuit?curid=3538081'),)), LinkedString('KNO', links=((0, 3, 'http://en.wikipedia.org/wiki/Knockhill_Racing_Circuit?curid=4958777'),)), LinkedString('BHI', links=((0, 3, 'http://en.wikipedia.org/wiki/Brands_Hatch?curid=1068202'),)), LinkedString('OUL', links=((0, 3, 'http://en.wikipedia.org/wiki/Oulton_Park?curid=3347772'),)), LinkedString('SIL', links=((0, 3, 'http://en.wikipedia.org/wiki/Silverstone_Circuit?curid=522676'),)), LinkedString('Pts', links=())),)\n",
      "1 (0, 2, 14, 'short-uppercase-acronyms') None None\n"
     ]
    },
    {
     "data": {
      "text/html": [
       "<style  type=\"text/css\" >\n",
       "    #T_9109535c_358e_11eb_81c0_00259091f1e8 .col_heading.level0 {\n",
       "          display: none;\n",
       "    }    #T_9109535c_358e_11eb_81c0_00259091f1e8 .col_heading.level1.col2 {\n",
       "          background-color: #ff0;\n",
       "    }    #T_9109535c_358e_11eb_81c0_00259091f1e8 .col_heading.level1.col3 {\n",
       "          background-color: #ff0;\n",
       "    }    #T_9109535c_358e_11eb_81c0_00259091f1e8 .col_heading.level1.col4 {\n",
       "          background-color: #ff0;\n",
       "    }    #T_9109535c_358e_11eb_81c0_00259091f1e8 .col_heading.level1.col5 {\n",
       "          background-color: #ff0;\n",
       "    }    #T_9109535c_358e_11eb_81c0_00259091f1e8 .col_heading.level1.col6 {\n",
       "          background-color: #ff0;\n",
       "    }    #T_9109535c_358e_11eb_81c0_00259091f1e8 .col_heading.level1.col7 {\n",
       "          background-color: #ff0;\n",
       "    }    #T_9109535c_358e_11eb_81c0_00259091f1e8 .col_heading.level1.col8 {\n",
       "          background-color: #ff0;\n",
       "    }    #T_9109535c_358e_11eb_81c0_00259091f1e8 .col_heading.level1.col9 {\n",
       "          background-color: #ff0;\n",
       "    }    #T_9109535c_358e_11eb_81c0_00259091f1e8 .col_heading.level1.col10 {\n",
       "          background-color: #ff0;\n",
       "    }    #T_9109535c_358e_11eb_81c0_00259091f1e8 .col_heading.level1.col11 {\n",
       "          background-color: #ff0;\n",
       "    }    #T_9109535c_358e_11eb_81c0_00259091f1e8 .col_heading.level1.col12 {\n",
       "          background-color: #ff0;\n",
       "    }    #T_9109535c_358e_11eb_81c0_00259091f1e8 .col_heading.level1.col13 {\n",
       "          background-color: #ff0;\n",
       "    }    #T_9109535c_358e_11eb_81c0_00259091f1e8 .col_heading.level1.col14 {\n",
       "          background-color: #ff0;\n",
       "    }</style><table id=\"T_9109535c_358e_11eb_81c0_00259091f1e8\" ><thead>    <tr>        <th class=\"blank level0\" ></th>        <th class=\"col_heading level0 col0\" >0</th>        <th class=\"col_heading level0 col1\" >1</th>        <th class=\"col_heading level0 col2\" >2</th>        <th class=\"col_heading level0 col3\" >3</th>        <th class=\"col_heading level0 col4\" >4</th>        <th class=\"col_heading level0 col5\" >5</th>        <th class=\"col_heading level0 col6\" >6</th>        <th class=\"col_heading level0 col7\" >7</th>        <th class=\"col_heading level0 col8\" >8</th>        <th class=\"col_heading level0 col9\" >9</th>        <th class=\"col_heading level0 col10\" >10</th>        <th class=\"col_heading level0 col11\" >11</th>        <th class=\"col_heading level0 col12\" >12</th>        <th class=\"col_heading level0 col13\" >13</th>        <th class=\"col_heading level0 col14\" >14</th>        <th class=\"col_heading level0 col15\" >15</th>    </tr>    <tr>        <th class=\"blank level1\" ></th>        <th class=\"col_heading level1 col0\" >Pos</th>        <th class=\"col_heading level1 col1\" >Team</th>        <th class=\"col_heading level1 col2\" ><a href=\"http://en.wikipedia.org/wiki/Thruxton_Circuit?curid=3538081\">THR</a></th>        <th class=\"col_heading level1 col3\" ><a href=\"http://en.wikipedia.org/wiki/Silverstone_Circuit?curid=522676\">SIL</a></th>        <th class=\"col_heading level1 col4\" ><a href=\"http://en.wikipedia.org/wiki/Donington_Park?curid=391884\">DON</a></th>        <th class=\"col_heading level1 col5\" ><a href=\"http://en.wikipedia.org/wiki/Brands_Hatch?curid=1068202\">BHI</a></th>        <th class=\"col_heading level1 col6\" ><a href=\"http://en.wikipedia.org/wiki/Oulton_Park?curid=3347772\">OUL</a></th>        <th class=\"col_heading level1 col7\" ><a href=\"http://en.wikipedia.org/wiki/Donington_Park?curid=391884\">DON</a></th>        <th class=\"col_heading level1 col8\" ><a href=\"http://en.wikipedia.org/wiki/Croft_Circuit?curid=3606322\">CRO</a></th>        <th class=\"col_heading level1 col9\" ><a href=\"http://en.wikipedia.org/wiki/Snetterton_Motor_Racing_Circuit?curid=4237101\">SNE</a></th>        <th class=\"col_heading level1 col10\" ><a href=\"http://en.wikipedia.org/wiki/Thruxton_Circuit?curid=3538081\">THR</a></th>        <th class=\"col_heading level1 col11\" ><a href=\"http://en.wikipedia.org/wiki/Knockhill_Racing_Circuit?curid=4958777\">KNO</a></th>        <th class=\"col_heading level1 col12\" ><a href=\"http://en.wikipedia.org/wiki/Brands_Hatch?curid=1068202\">BHI</a></th>        <th class=\"col_heading level1 col13\" ><a href=\"http://en.wikipedia.org/wiki/Oulton_Park?curid=3347772\">OUL</a></th>        <th class=\"col_heading level1 col14\" ><a href=\"http://en.wikipedia.org/wiki/Silverstone_Circuit?curid=522676\">SIL</a></th>        <th class=\"col_heading level1 col15\" >Pts</th>    </tr></thead><tbody>\n",
       "        </tbody></table>"
      ],
      "text/plain": [
       "<pandas.io.formats.style.Styler at 0x7f5f221caed0>"
      ]
     },
     "metadata": {},
     "output_type": "display_data"
    },
    {
     "name": "stdout",
     "output_type": "stream",
     "text": [
      "((LinkedString('Player!', links=()), LinkedString('G', links=()), LinkedString('GS', links=()), LinkedString('MIN', links=()), LinkedString('AVG', links=()), LinkedString('FG', links=()), LinkedString('FGA', links=()), LinkedString('PCT', links=()), LinkedString('3P', links=()), LinkedString('3PA', links=()), LinkedString('PCT', links=()), LinkedString('FT', links=()), LinkedString('FTA', links=()), LinkedString('PCT', links=()), LinkedString('OFF', links=()), LinkedString('DEF', links=()), LinkedString('TOT', links=()), LinkedString('AVG', links=()), LinkedString('PF', links=()), LinkedString('DQ', links=()), LinkedString('AST', links=()), LinkedString('TO', links=()), LinkedString('BK', links=()), LinkedString('ST', links=()), LinkedString('PTS', links=()), LinkedString('AVG', links=())),)\n",
      "1 (0, 10, 25, 'short-uppercase-acronyms') None None\n"
     ]
    },
    {
     "data": {
      "text/html": [
       "<style  type=\"text/css\" >\n",
       "    #T_910d60e6_358e_11eb_81c0_00259091f1e8 .col_heading.level0 {\n",
       "          display: none;\n",
       "    }    #T_910d60e6_358e_11eb_81c0_00259091f1e8 .col_heading.level1.col10 {\n",
       "          background-color: #ff0;\n",
       "    }    #T_910d60e6_358e_11eb_81c0_00259091f1e8 .col_heading.level1.col11 {\n",
       "          background-color: #ff0;\n",
       "    }    #T_910d60e6_358e_11eb_81c0_00259091f1e8 .col_heading.level1.col12 {\n",
       "          background-color: #ff0;\n",
       "    }    #T_910d60e6_358e_11eb_81c0_00259091f1e8 .col_heading.level1.col13 {\n",
       "          background-color: #ff0;\n",
       "    }    #T_910d60e6_358e_11eb_81c0_00259091f1e8 .col_heading.level1.col14 {\n",
       "          background-color: #ff0;\n",
       "    }    #T_910d60e6_358e_11eb_81c0_00259091f1e8 .col_heading.level1.col15 {\n",
       "          background-color: #ff0;\n",
       "    }    #T_910d60e6_358e_11eb_81c0_00259091f1e8 .col_heading.level1.col16 {\n",
       "          background-color: #ff0;\n",
       "    }    #T_910d60e6_358e_11eb_81c0_00259091f1e8 .col_heading.level1.col17 {\n",
       "          background-color: #ff0;\n",
       "    }    #T_910d60e6_358e_11eb_81c0_00259091f1e8 .col_heading.level1.col18 {\n",
       "          background-color: #ff0;\n",
       "    }    #T_910d60e6_358e_11eb_81c0_00259091f1e8 .col_heading.level1.col19 {\n",
       "          background-color: #ff0;\n",
       "    }    #T_910d60e6_358e_11eb_81c0_00259091f1e8 .col_heading.level1.col20 {\n",
       "          background-color: #ff0;\n",
       "    }    #T_910d60e6_358e_11eb_81c0_00259091f1e8 .col_heading.level1.col21 {\n",
       "          background-color: #ff0;\n",
       "    }    #T_910d60e6_358e_11eb_81c0_00259091f1e8 .col_heading.level1.col22 {\n",
       "          background-color: #ff0;\n",
       "    }    #T_910d60e6_358e_11eb_81c0_00259091f1e8 .col_heading.level1.col23 {\n",
       "          background-color: #ff0;\n",
       "    }    #T_910d60e6_358e_11eb_81c0_00259091f1e8 .col_heading.level1.col24 {\n",
       "          background-color: #ff0;\n",
       "    }    #T_910d60e6_358e_11eb_81c0_00259091f1e8 .col_heading.level1.col25 {\n",
       "          background-color: #ff0;\n",
       "    }</style><table id=\"T_910d60e6_358e_11eb_81c0_00259091f1e8\" ><thead>    <tr>        <th class=\"blank level0\" ></th>        <th class=\"col_heading level0 col0\" >0</th>        <th class=\"col_heading level0 col1\" >1</th>        <th class=\"col_heading level0 col2\" >2</th>        <th class=\"col_heading level0 col3\" >3</th>        <th class=\"col_heading level0 col4\" >4</th>        <th class=\"col_heading level0 col5\" >5</th>        <th class=\"col_heading level0 col6\" >6</th>        <th class=\"col_heading level0 col7\" >7</th>        <th class=\"col_heading level0 col8\" >8</th>        <th class=\"col_heading level0 col9\" >9</th>        <th class=\"col_heading level0 col10\" >10</th>        <th class=\"col_heading level0 col11\" >11</th>        <th class=\"col_heading level0 col12\" >12</th>        <th class=\"col_heading level0 col13\" >13</th>        <th class=\"col_heading level0 col14\" >14</th>        <th class=\"col_heading level0 col15\" >15</th>        <th class=\"col_heading level0 col16\" >16</th>        <th class=\"col_heading level0 col17\" >17</th>        <th class=\"col_heading level0 col18\" >18</th>        <th class=\"col_heading level0 col19\" >19</th>        <th class=\"col_heading level0 col20\" >20</th>        <th class=\"col_heading level0 col21\" >21</th>        <th class=\"col_heading level0 col22\" >22</th>        <th class=\"col_heading level0 col23\" >23</th>        <th class=\"col_heading level0 col24\" >24</th>        <th class=\"col_heading level0 col25\" >25</th>    </tr>    <tr>        <th class=\"blank level1\" ></th>        <th class=\"col_heading level1 col0\" >Player!</th>        <th class=\"col_heading level1 col1\" >G</th>        <th class=\"col_heading level1 col2\" >GS</th>        <th class=\"col_heading level1 col3\" >MIN</th>        <th class=\"col_heading level1 col4\" >AVG</th>        <th class=\"col_heading level1 col5\" >FG</th>        <th class=\"col_heading level1 col6\" >FGA</th>        <th class=\"col_heading level1 col7\" >PCT</th>        <th class=\"col_heading level1 col8\" >3P</th>        <th class=\"col_heading level1 col9\" >3PA</th>        <th class=\"col_heading level1 col10\" >PCT</th>        <th class=\"col_heading level1 col11\" >FT</th>        <th class=\"col_heading level1 col12\" >FTA</th>        <th class=\"col_heading level1 col13\" >PCT</th>        <th class=\"col_heading level1 col14\" >OFF</th>        <th class=\"col_heading level1 col15\" >DEF</th>        <th class=\"col_heading level1 col16\" >TOT</th>        <th class=\"col_heading level1 col17\" >AVG</th>        <th class=\"col_heading level1 col18\" >PF</th>        <th class=\"col_heading level1 col19\" >DQ</th>        <th class=\"col_heading level1 col20\" >AST</th>        <th class=\"col_heading level1 col21\" >TO</th>        <th class=\"col_heading level1 col22\" >BK</th>        <th class=\"col_heading level1 col23\" >ST</th>        <th class=\"col_heading level1 col24\" >PTS</th>        <th class=\"col_heading level1 col25\" >AVG</th>    </tr></thead><tbody>\n",
       "        </tbody></table>"
      ],
      "text/plain": [
       "<pandas.io.formats.style.Styler at 0x7f5f221ca8d0>"
      ]
     },
     "metadata": {},
     "output_type": "display_data"
    },
    {
     "name": "stdout",
     "output_type": "stream",
     "text": [
      "((LinkedString('Home \\ Away [1 ]', links=()), LinkedString('ALF', links=((0, 3, 'http://en.wikipedia.org/wiki/Alfreton_Town_F.C.?curid=1611549'),)), LinkedString('BRW', links=((0, 3, 'http://en.wikipedia.org/wiki/Barrow_A.F.C.?curid=712826'),)), LinkedString('BLY', links=((0, 3, 'http://en.wikipedia.org/wiki/Blyth_Spartans_A.F.C.?curid=3136045'),)), LinkedString('DRO', links=((0, 3, 'http://en.wikipedia.org/wiki/Droylsden_F.C.?curid=2760082'),)), LinkedString('FAR', links=((0, 3, 'http://en.wikipedia.org/wiki/Farsley_Celtic_F.C.?curid=3666837'),)), LinkedString('GAI', links=((0, 3, 'http://en.wikipedia.org/wiki/Gainsborough_Trinity_F.C.?curid=2213051'),)), LinkedString('HAR', links=((0, 3, 'http://en.wikipedia.org/wiki/Harrogate_Town_F.C.?curid=2738873'),)), LinkedString('HIN', links=((0, 3, 'http://en.wikipedia.org/wiki/Hinckley_United_F.C.?curid=2257199'),)), LinkedString('HUC', links=((0, 3, 'http://en.wikipedia.org/wiki/Hucknall_Town_F.C.?curid=595232'),)), LinkedString('HYD', links=((0, 3, 'http://en.wikipedia.org/wiki/Hyde_United_F.C.?curid=8200305'),)), LinkedString('KET', links=((0, 3, 'http://en.wikipedia.org/wiki/Kettering_Town_F.C.?curid=17958043'),)), LinkedString('LNC', links=((0, 3, 'http://en.wikipedia.org/wiki/Lancaster_City_F.C.?curid=2199334'),)), LinkedString('LEI', links=((0, 3, 'http://en.wikipedia.org/wiki/Leigh_RMI_F.C.?curid=451202'),)), LinkedString('MOG', links=((0, 3, 'http://en.wikipedia.org/wiki/Moor_Green_F.C.?curid=3087239'),)), LinkedString('NUN', links=((0, 3, 'http://en.wikipedia.org/wiki/Nuneaton_Borough_F.C.?curid=2148467'),)), LinkedString('RED', links=((0, 3, 'http://en.wikipedia.org/wiki/Redditch_United_F.C.?curid=1615856'),)), LinkedString('SCA', links=((0, 3, 'http://en.wikipedia.org/wiki/Scarborough_F.C.?curid=946449'),)), LinkedString('STL', links=((0, 3, 'http://en.wikipedia.org/wiki/Stalybridge_Celtic_F.C.?curid=387835'),)), LinkedString('VAU', links=((0, 3, 'http://en.wikipedia.org/wiki/Vauxhall_Motors_F.C.?curid=1510100'),)), LinkedString('WRC', links=((0, 3, 'http://en.wikipedia.org/wiki/Worcester_City_F.C.?curid=3660386'),)), LinkedString('WRK', links=((0, 3, 'http://en.wikipedia.org/wiki/Workington_A.F.C.?curid=2172712'),)), LinkedString('WKS', links=((0, 3, 'http://en.wikipedia.org/wiki/Worksop_Town_F.C.?curid=3552498'),))),)\n",
      "1 (0, 1, 22, 'short-uppercase-acronyms') None None\n"
     ]
    },
    {
     "data": {
      "text/html": [
       "<style  type=\"text/css\" >\n",
       "    #T_9110d6b8_358e_11eb_81c0_00259091f1e8 .col_heading.level0 {\n",
       "          display: none;\n",
       "    }    #T_9110d6b8_358e_11eb_81c0_00259091f1e8 .col_heading.level1.col1 {\n",
       "          background-color: #ff0;\n",
       "    }    #T_9110d6b8_358e_11eb_81c0_00259091f1e8 .col_heading.level1.col2 {\n",
       "          background-color: #ff0;\n",
       "    }    #T_9110d6b8_358e_11eb_81c0_00259091f1e8 .col_heading.level1.col3 {\n",
       "          background-color: #ff0;\n",
       "    }    #T_9110d6b8_358e_11eb_81c0_00259091f1e8 .col_heading.level1.col4 {\n",
       "          background-color: #ff0;\n",
       "    }    #T_9110d6b8_358e_11eb_81c0_00259091f1e8 .col_heading.level1.col5 {\n",
       "          background-color: #ff0;\n",
       "    }    #T_9110d6b8_358e_11eb_81c0_00259091f1e8 .col_heading.level1.col6 {\n",
       "          background-color: #ff0;\n",
       "    }    #T_9110d6b8_358e_11eb_81c0_00259091f1e8 .col_heading.level1.col7 {\n",
       "          background-color: #ff0;\n",
       "    }    #T_9110d6b8_358e_11eb_81c0_00259091f1e8 .col_heading.level1.col8 {\n",
       "          background-color: #ff0;\n",
       "    }    #T_9110d6b8_358e_11eb_81c0_00259091f1e8 .col_heading.level1.col9 {\n",
       "          background-color: #ff0;\n",
       "    }    #T_9110d6b8_358e_11eb_81c0_00259091f1e8 .col_heading.level1.col10 {\n",
       "          background-color: #ff0;\n",
       "    }    #T_9110d6b8_358e_11eb_81c0_00259091f1e8 .col_heading.level1.col11 {\n",
       "          background-color: #ff0;\n",
       "    }    #T_9110d6b8_358e_11eb_81c0_00259091f1e8 .col_heading.level1.col12 {\n",
       "          background-color: #ff0;\n",
       "    }    #T_9110d6b8_358e_11eb_81c0_00259091f1e8 .col_heading.level1.col13 {\n",
       "          background-color: #ff0;\n",
       "    }    #T_9110d6b8_358e_11eb_81c0_00259091f1e8 .col_heading.level1.col14 {\n",
       "          background-color: #ff0;\n",
       "    }    #T_9110d6b8_358e_11eb_81c0_00259091f1e8 .col_heading.level1.col15 {\n",
       "          background-color: #ff0;\n",
       "    }    #T_9110d6b8_358e_11eb_81c0_00259091f1e8 .col_heading.level1.col16 {\n",
       "          background-color: #ff0;\n",
       "    }    #T_9110d6b8_358e_11eb_81c0_00259091f1e8 .col_heading.level1.col17 {\n",
       "          background-color: #ff0;\n",
       "    }    #T_9110d6b8_358e_11eb_81c0_00259091f1e8 .col_heading.level1.col18 {\n",
       "          background-color: #ff0;\n",
       "    }    #T_9110d6b8_358e_11eb_81c0_00259091f1e8 .col_heading.level1.col19 {\n",
       "          background-color: #ff0;\n",
       "    }    #T_9110d6b8_358e_11eb_81c0_00259091f1e8 .col_heading.level1.col20 {\n",
       "          background-color: #ff0;\n",
       "    }    #T_9110d6b8_358e_11eb_81c0_00259091f1e8 .col_heading.level1.col21 {\n",
       "          background-color: #ff0;\n",
       "    }    #T_9110d6b8_358e_11eb_81c0_00259091f1e8 .col_heading.level1.col22 {\n",
       "          background-color: #ff0;\n",
       "    }</style><table id=\"T_9110d6b8_358e_11eb_81c0_00259091f1e8\" ><thead>    <tr>        <th class=\"blank level0\" ></th>        <th class=\"col_heading level0 col0\" >0</th>        <th class=\"col_heading level0 col1\" >1</th>        <th class=\"col_heading level0 col2\" >2</th>        <th class=\"col_heading level0 col3\" >3</th>        <th class=\"col_heading level0 col4\" >4</th>        <th class=\"col_heading level0 col5\" >5</th>        <th class=\"col_heading level0 col6\" >6</th>        <th class=\"col_heading level0 col7\" >7</th>        <th class=\"col_heading level0 col8\" >8</th>        <th class=\"col_heading level0 col9\" >9</th>        <th class=\"col_heading level0 col10\" >10</th>        <th class=\"col_heading level0 col11\" >11</th>        <th class=\"col_heading level0 col12\" >12</th>        <th class=\"col_heading level0 col13\" >13</th>        <th class=\"col_heading level0 col14\" >14</th>        <th class=\"col_heading level0 col15\" >15</th>        <th class=\"col_heading level0 col16\" >16</th>        <th class=\"col_heading level0 col17\" >17</th>        <th class=\"col_heading level0 col18\" >18</th>        <th class=\"col_heading level0 col19\" >19</th>        <th class=\"col_heading level0 col20\" >20</th>        <th class=\"col_heading level0 col21\" >21</th>        <th class=\"col_heading level0 col22\" >22</th>    </tr>    <tr>        <th class=\"blank level1\" ></th>        <th class=\"col_heading level1 col0\" >Home \\ Away [1 ]</th>        <th class=\"col_heading level1 col1\" ><a href=\"http://en.wikipedia.org/wiki/Alfreton_Town_F.C.?curid=1611549\">ALF</a></th>        <th class=\"col_heading level1 col2\" ><a href=\"http://en.wikipedia.org/wiki/Barrow_A.F.C.?curid=712826\">BRW</a></th>        <th class=\"col_heading level1 col3\" ><a href=\"http://en.wikipedia.org/wiki/Blyth_Spartans_A.F.C.?curid=3136045\">BLY</a></th>        <th class=\"col_heading level1 col4\" ><a href=\"http://en.wikipedia.org/wiki/Droylsden_F.C.?curid=2760082\">DRO</a></th>        <th class=\"col_heading level1 col5\" ><a href=\"http://en.wikipedia.org/wiki/Farsley_Celtic_F.C.?curid=3666837\">FAR</a></th>        <th class=\"col_heading level1 col6\" ><a href=\"http://en.wikipedia.org/wiki/Gainsborough_Trinity_F.C.?curid=2213051\">GAI</a></th>        <th class=\"col_heading level1 col7\" ><a href=\"http://en.wikipedia.org/wiki/Harrogate_Town_F.C.?curid=2738873\">HAR</a></th>        <th class=\"col_heading level1 col8\" ><a href=\"http://en.wikipedia.org/wiki/Hinckley_United_F.C.?curid=2257199\">HIN</a></th>        <th class=\"col_heading level1 col9\" ><a href=\"http://en.wikipedia.org/wiki/Hucknall_Town_F.C.?curid=595232\">HUC</a></th>        <th class=\"col_heading level1 col10\" ><a href=\"http://en.wikipedia.org/wiki/Hyde_United_F.C.?curid=8200305\">HYD</a></th>        <th class=\"col_heading level1 col11\" ><a href=\"http://en.wikipedia.org/wiki/Kettering_Town_F.C.?curid=17958043\">KET</a></th>        <th class=\"col_heading level1 col12\" ><a href=\"http://en.wikipedia.org/wiki/Lancaster_City_F.C.?curid=2199334\">LNC</a></th>        <th class=\"col_heading level1 col13\" ><a href=\"http://en.wikipedia.org/wiki/Leigh_RMI_F.C.?curid=451202\">LEI</a></th>        <th class=\"col_heading level1 col14\" ><a href=\"http://en.wikipedia.org/wiki/Moor_Green_F.C.?curid=3087239\">MOG</a></th>        <th class=\"col_heading level1 col15\" ><a href=\"http://en.wikipedia.org/wiki/Nuneaton_Borough_F.C.?curid=2148467\">NUN</a></th>        <th class=\"col_heading level1 col16\" ><a href=\"http://en.wikipedia.org/wiki/Redditch_United_F.C.?curid=1615856\">RED</a></th>        <th class=\"col_heading level1 col17\" ><a href=\"http://en.wikipedia.org/wiki/Scarborough_F.C.?curid=946449\">SCA</a></th>        <th class=\"col_heading level1 col18\" ><a href=\"http://en.wikipedia.org/wiki/Stalybridge_Celtic_F.C.?curid=387835\">STL</a></th>        <th class=\"col_heading level1 col19\" ><a href=\"http://en.wikipedia.org/wiki/Vauxhall_Motors_F.C.?curid=1510100\">VAU</a></th>        <th class=\"col_heading level1 col20\" ><a href=\"http://en.wikipedia.org/wiki/Worcester_City_F.C.?curid=3660386\">WRC</a></th>        <th class=\"col_heading level1 col21\" ><a href=\"http://en.wikipedia.org/wiki/Workington_A.F.C.?curid=2172712\">WRK</a></th>        <th class=\"col_heading level1 col22\" ><a href=\"http://en.wikipedia.org/wiki/Worksop_Town_F.C.?curid=3552498\">WKS</a></th>    </tr></thead><tbody>\n",
       "        </tbody></table>"
      ],
      "text/plain": [
       "<pandas.io.formats.style.Styler at 0x7f5f21be5e50>"
      ]
     },
     "metadata": {},
     "output_type": "display_data"
    },
    {
     "name": "stdout",
     "output_type": "stream",
     "text": [
      "((LinkedString('Team', links=()), LinkedString('MAS', links=((0, 3, 'http://en.wikipedia.org/wiki/2007_Malaysia_Super_Series?curid=8739177'),)), LinkedString('KOR', links=((0, 3, 'http://en.wikipedia.org/wiki/2007_Korea_Open_Super_Series?curid=8739321'),)), LinkedString('ENG', links=((0, 3, 'http://en.wikipedia.org/wiki/2007_All_England_Super_Series?curid=8858807'),)), LinkedString('SUI', links=((0, 3, 'http://en.wikipedia.org/wiki/2007_Swiss_Open_Super_Series?curid=8858898'),)), LinkedString('SIN', links=((0, 3, 'http://en.wikipedia.org/wiki/2007_Singapore_Super_Series?curid=9636232'),)), LinkedString('INA', links=((0, 3, 'http://en.wikipedia.org/wiki/2007_Indonesia_Super_Series?curid=10126106'),)), LinkedString('CHN', links=((0, 3, 'http://en.wikipedia.org/wiki/2007_China_Masters_Super_Series?curid=12097193'),)), LinkedString('JPN', links=((0, 3, 'http://en.wikipedia.org/wiki/2007_Japan_Super_Series?curid=13015736'),)), LinkedString('DEN', links=((0, 3, 'http://en.wikipedia.org/wiki/2007_Denmark_Super_Series?curid=13039101'),)), LinkedString('FRA', links=((0, 3, 'http://en.wikipedia.org/wiki/2007_French_Super_Series?curid=13856326'),)), LinkedString('CHN', links=((0, 3, 'http://en.wikipedia.org/wiki/2007_China_Masters_Super_Series?curid=12097193'),)), LinkedString('HKG', links=((0, 3, 'http://en.wikipedia.org/wiki/2007_Hong_Kong_Super_Series?curid=14409137'),)), LinkedString('Total', links=())),)\n",
      "1 (0, 1, 12, 'short-uppercase-acronyms') None None\n"
     ]
    },
    {
     "data": {
      "text/html": [
       "<style  type=\"text/css\" >\n",
       "    #T_9113906a_358e_11eb_81c0_00259091f1e8 .col_heading.level0 {\n",
       "          display: none;\n",
       "    }    #T_9113906a_358e_11eb_81c0_00259091f1e8 .col_heading.level1.col1 {\n",
       "          background-color: #ff0;\n",
       "    }    #T_9113906a_358e_11eb_81c0_00259091f1e8 .col_heading.level1.col2 {\n",
       "          background-color: #ff0;\n",
       "    }    #T_9113906a_358e_11eb_81c0_00259091f1e8 .col_heading.level1.col3 {\n",
       "          background-color: #ff0;\n",
       "    }    #T_9113906a_358e_11eb_81c0_00259091f1e8 .col_heading.level1.col4 {\n",
       "          background-color: #ff0;\n",
       "    }    #T_9113906a_358e_11eb_81c0_00259091f1e8 .col_heading.level1.col5 {\n",
       "          background-color: #ff0;\n",
       "    }    #T_9113906a_358e_11eb_81c0_00259091f1e8 .col_heading.level1.col6 {\n",
       "          background-color: #ff0;\n",
       "    }    #T_9113906a_358e_11eb_81c0_00259091f1e8 .col_heading.level1.col7 {\n",
       "          background-color: #ff0;\n",
       "    }    #T_9113906a_358e_11eb_81c0_00259091f1e8 .col_heading.level1.col8 {\n",
       "          background-color: #ff0;\n",
       "    }    #T_9113906a_358e_11eb_81c0_00259091f1e8 .col_heading.level1.col9 {\n",
       "          background-color: #ff0;\n",
       "    }    #T_9113906a_358e_11eb_81c0_00259091f1e8 .col_heading.level1.col10 {\n",
       "          background-color: #ff0;\n",
       "    }    #T_9113906a_358e_11eb_81c0_00259091f1e8 .col_heading.level1.col11 {\n",
       "          background-color: #ff0;\n",
       "    }    #T_9113906a_358e_11eb_81c0_00259091f1e8 .col_heading.level1.col12 {\n",
       "          background-color: #ff0;\n",
       "    }</style><table id=\"T_9113906a_358e_11eb_81c0_00259091f1e8\" ><thead>    <tr>        <th class=\"blank level0\" ></th>        <th class=\"col_heading level0 col0\" >0</th>        <th class=\"col_heading level0 col1\" >1</th>        <th class=\"col_heading level0 col2\" >2</th>        <th class=\"col_heading level0 col3\" >3</th>        <th class=\"col_heading level0 col4\" >4</th>        <th class=\"col_heading level0 col5\" >5</th>        <th class=\"col_heading level0 col6\" >6</th>        <th class=\"col_heading level0 col7\" >7</th>        <th class=\"col_heading level0 col8\" >8</th>        <th class=\"col_heading level0 col9\" >9</th>        <th class=\"col_heading level0 col10\" >10</th>        <th class=\"col_heading level0 col11\" >11</th>        <th class=\"col_heading level0 col12\" >12</th>        <th class=\"col_heading level0 col13\" >13</th>    </tr>    <tr>        <th class=\"blank level1\" ></th>        <th class=\"col_heading level1 col0\" >Team</th>        <th class=\"col_heading level1 col1\" ><a href=\"http://en.wikipedia.org/wiki/2007_Malaysia_Super_Series?curid=8739177\">MAS</a></th>        <th class=\"col_heading level1 col2\" ><a href=\"http://en.wikipedia.org/wiki/2007_Korea_Open_Super_Series?curid=8739321\">KOR</a></th>        <th class=\"col_heading level1 col3\" ><a href=\"http://en.wikipedia.org/wiki/2007_All_England_Super_Series?curid=8858807\">ENG</a></th>        <th class=\"col_heading level1 col4\" ><a href=\"http://en.wikipedia.org/wiki/2007_Swiss_Open_Super_Series?curid=8858898\">SUI</a></th>        <th class=\"col_heading level1 col5\" ><a href=\"http://en.wikipedia.org/wiki/2007_Singapore_Super_Series?curid=9636232\">SIN</a></th>        <th class=\"col_heading level1 col6\" ><a href=\"http://en.wikipedia.org/wiki/2007_Indonesia_Super_Series?curid=10126106\">INA</a></th>        <th class=\"col_heading level1 col7\" ><a href=\"http://en.wikipedia.org/wiki/2007_China_Masters_Super_Series?curid=12097193\">CHN</a></th>        <th class=\"col_heading level1 col8\" ><a href=\"http://en.wikipedia.org/wiki/2007_Japan_Super_Series?curid=13015736\">JPN</a></th>        <th class=\"col_heading level1 col9\" ><a href=\"http://en.wikipedia.org/wiki/2007_Denmark_Super_Series?curid=13039101\">DEN</a></th>        <th class=\"col_heading level1 col10\" ><a href=\"http://en.wikipedia.org/wiki/2007_French_Super_Series?curid=13856326\">FRA</a></th>        <th class=\"col_heading level1 col11\" ><a href=\"http://en.wikipedia.org/wiki/2007_China_Masters_Super_Series?curid=12097193\">CHN</a></th>        <th class=\"col_heading level1 col12\" ><a href=\"http://en.wikipedia.org/wiki/2007_Hong_Kong_Super_Series?curid=14409137\">HKG</a></th>        <th class=\"col_heading level1 col13\" >Total</th>    </tr></thead><tbody>\n",
       "        </tbody></table>"
      ],
      "text/plain": [
       "<pandas.io.formats.style.Styler at 0x7f5f21bb3c50>"
      ]
     },
     "metadata": {},
     "output_type": "display_data"
    },
    {
     "name": "stdout",
     "output_type": "stream",
     "text": [
      "((LinkedString('Title', links=()), LinkedString('Album details', links=()), LinkedString('Peak chart positions', links=()), LinkedString('Peak chart positions', links=()), LinkedString('Peak chart positions', links=()), LinkedString('Peak chart positions', links=()), LinkedString('Peak chart positions', links=()), LinkedString('Peak chart positions', links=()), LinkedString('Peak chart positions', links=()), LinkedString('Peak chart positions', links=()), LinkedString('Peak chart positions', links=()), LinkedString('Peak chart positions', links=()), LinkedString('Certifications', links=((0, 14, 'http://en.wikipedia.org/wiki/List_of_music_recording_certifications?curid=17627213'),))), (LinkedString('Title', links=()), LinkedString('Album details', links=()), LinkedString('NL', links=((0, 2, 'http://en.wikipedia.org/wiki/Dutch_Albums_Chart?curid=6013155'),)), LinkedString('AUT', links=((0, 3, 'http://en.wikipedia.org/wiki/Austrian_Albums_Chart?curid=13757814'),)), LinkedString('BEL (FL)', links=((0, 3, 'http://en.wikipedia.org/wiki/Ultratop?curid=6836546'),)), LinkedString('FIN', links=((0, 3, 'http://en.wikipedia.org/wiki/Finnish_Albums_Chart?curid=7824827'),)), LinkedString('FRA', links=((0, 3, 'http://en.wikipedia.org/wiki/SNEP?curid=4565593'),)), LinkedString('GER', links=((0, 3, 'http://en.wikipedia.org/wiki/Media_Control_Charts?curid=6170448'),)), LinkedString('ITA', links=((0, 3, 'http://en.wikipedia.org/wiki/FIMI?curid=4464404'),)), LinkedString('NOR', links=((0, 3, 'http://en.wikipedia.org/wiki/VG-lista?curid=8262087'),)), LinkedString('SWE', links=((0, 3, 'http://en.wikipedia.org/wiki/Sverigetopplistan?curid=11002747'),)), LinkedString('SWI', links=((0, 3, 'http://en.wikipedia.org/wiki/Swiss_Music_Charts?curid=17054761'),)), LinkedString('Certifications', links=((0, 14, 'http://en.wikipedia.org/wiki/List_of_music_recording_certifications?curid=17627213'),))))\n",
      "1 (1, 5, 11, 'short-uppercase-acronyms') None None\n"
     ]
    },
    {
     "data": {
      "text/html": [
       "<style  type=\"text/css\" >\n",
       "    #T_9116b36c_358e_11eb_81c0_00259091f1e8 .col_heading.level0 {\n",
       "          display: none;\n",
       "    }    #T_9116b36c_358e_11eb_81c0_00259091f1e8 .col_heading.level2.col5 {\n",
       "          background-color: #ff0;\n",
       "    }    #T_9116b36c_358e_11eb_81c0_00259091f1e8 .col_heading.level2.col6 {\n",
       "          background-color: #ff0;\n",
       "    }    #T_9116b36c_358e_11eb_81c0_00259091f1e8 .col_heading.level2.col7 {\n",
       "          background-color: #ff0;\n",
       "    }    #T_9116b36c_358e_11eb_81c0_00259091f1e8 .col_heading.level2.col8 {\n",
       "          background-color: #ff0;\n",
       "    }    #T_9116b36c_358e_11eb_81c0_00259091f1e8 .col_heading.level2.col9 {\n",
       "          background-color: #ff0;\n",
       "    }    #T_9116b36c_358e_11eb_81c0_00259091f1e8 .col_heading.level2.col10 {\n",
       "          background-color: #ff0;\n",
       "    }    #T_9116b36c_358e_11eb_81c0_00259091f1e8 .col_heading.level2.col11 {\n",
       "          background-color: #ff0;\n",
       "    }</style><table id=\"T_9116b36c_358e_11eb_81c0_00259091f1e8\" ><thead>    <tr>        <th class=\"blank level0\" ></th>        <th class=\"col_heading level0 col0\" >0</th>        <th class=\"col_heading level0 col1\" >1</th>        <th class=\"col_heading level0 col2\" >2</th>        <th class=\"col_heading level0 col3\" >3</th>        <th class=\"col_heading level0 col4\" >4</th>        <th class=\"col_heading level0 col5\" >5</th>        <th class=\"col_heading level0 col6\" >6</th>        <th class=\"col_heading level0 col7\" >7</th>        <th class=\"col_heading level0 col8\" >8</th>        <th class=\"col_heading level0 col9\" >9</th>        <th class=\"col_heading level0 col10\" >10</th>        <th class=\"col_heading level0 col11\" >11</th>        <th class=\"col_heading level0 col12\" >12</th>    </tr>    <tr>        <th class=\"blank level1\" ></th>        <th class=\"col_heading level1 col0\" >Title</th>        <th class=\"col_heading level1 col1\" >Album details</th>        <th class=\"col_heading level1 col2\" >Peak chart positions</th>        <th class=\"col_heading level1 col3\" >Peak chart positions</th>        <th class=\"col_heading level1 col4\" >Peak chart positions</th>        <th class=\"col_heading level1 col5\" >Peak chart positions</th>        <th class=\"col_heading level1 col6\" >Peak chart positions</th>        <th class=\"col_heading level1 col7\" >Peak chart positions</th>        <th class=\"col_heading level1 col8\" >Peak chart positions</th>        <th class=\"col_heading level1 col9\" >Peak chart positions</th>        <th class=\"col_heading level1 col10\" >Peak chart positions</th>        <th class=\"col_heading level1 col11\" >Peak chart positions</th>        <th class=\"col_heading level1 col12\" ><a href=\"http://en.wikipedia.org/wiki/List_of_music_recording_certifications?curid=17627213\">Certifications</a></th>    </tr>    <tr>        <th class=\"blank level2\" ></th>        <th class=\"col_heading level2 col0\" >Title</th>        <th class=\"col_heading level2 col1\" >Album details</th>        <th class=\"col_heading level2 col2\" ><a href=\"http://en.wikipedia.org/wiki/Dutch_Albums_Chart?curid=6013155\">NL</a></th>        <th class=\"col_heading level2 col3\" ><a href=\"http://en.wikipedia.org/wiki/Austrian_Albums_Chart?curid=13757814\">AUT</a></th>        <th class=\"col_heading level2 col4\" ><a href=\"http://en.wikipedia.org/wiki/Ultratop?curid=6836546\">BEL</a> (FL)</th>        <th class=\"col_heading level2 col5\" ><a href=\"http://en.wikipedia.org/wiki/Finnish_Albums_Chart?curid=7824827\">FIN</a></th>        <th class=\"col_heading level2 col6\" ><a href=\"http://en.wikipedia.org/wiki/SNEP?curid=4565593\">FRA</a></th>        <th class=\"col_heading level2 col7\" ><a href=\"http://en.wikipedia.org/wiki/Media_Control_Charts?curid=6170448\">GER</a></th>        <th class=\"col_heading level2 col8\" ><a href=\"http://en.wikipedia.org/wiki/FIMI?curid=4464404\">ITA</a></th>        <th class=\"col_heading level2 col9\" ><a href=\"http://en.wikipedia.org/wiki/VG-lista?curid=8262087\">NOR</a></th>        <th class=\"col_heading level2 col10\" ><a href=\"http://en.wikipedia.org/wiki/Sverigetopplistan?curid=11002747\">SWE</a></th>        <th class=\"col_heading level2 col11\" ><a href=\"http://en.wikipedia.org/wiki/Swiss_Music_Charts?curid=17054761\">SWI</a></th>        <th class=\"col_heading level2 col12\" ><a href=\"http://en.wikipedia.org/wiki/List_of_music_recording_certifications?curid=17627213\">Certifications</a></th>    </tr></thead><tbody>\n",
       "        </tbody></table>"
      ],
      "text/plain": [
       "<pandas.io.formats.style.Styler at 0x7f5f2810f350>"
      ]
     },
     "metadata": {},
     "output_type": "display_data"
    },
    {
     "name": "stdout",
     "output_type": "stream",
     "text": [
      "((LinkedString('', links=()), LinkedString('SLB', links=((0, 3, 'http://en.wikipedia.org/wiki/S.L._Benfica?curid=574076'),)), LinkedString('CEL', links=((0, 3, 'http://en.wikipedia.org/wiki/Celtic_F.C.?curid=69708'),)), LinkedString('MIL', links=((0, 3, 'http://en.wikipedia.org/wiki/A.C._Milan?curid=18940588'),)), LinkedString('SD', links=((0, 2, 'http://en.wikipedia.org/wiki/FC_Shakhtar_Donetsk?curid=861305'),))),)\n",
      "1 (0, 1, 4, 'short-uppercase-acronyms') None None\n"
     ]
    },
    {
     "data": {
      "text/html": [
       "<style  type=\"text/css\" >\n",
       "    #T_9118f5be_358e_11eb_81c0_00259091f1e8 .col_heading.level0 {\n",
       "          display: none;\n",
       "    }    #T_9118f5be_358e_11eb_81c0_00259091f1e8 .col_heading.level1.col1 {\n",
       "          background-color: #ff0;\n",
       "    }    #T_9118f5be_358e_11eb_81c0_00259091f1e8 .col_heading.level1.col2 {\n",
       "          background-color: #ff0;\n",
       "    }    #T_9118f5be_358e_11eb_81c0_00259091f1e8 .col_heading.level1.col3 {\n",
       "          background-color: #ff0;\n",
       "    }    #T_9118f5be_358e_11eb_81c0_00259091f1e8 .col_heading.level1.col4 {\n",
       "          background-color: #ff0;\n",
       "    }</style><table id=\"T_9118f5be_358e_11eb_81c0_00259091f1e8\" ><thead>    <tr>        <th class=\"blank level0\" ></th>        <th class=\"col_heading level0 col0\" >0</th>        <th class=\"col_heading level0 col1\" >1</th>        <th class=\"col_heading level0 col2\" >2</th>        <th class=\"col_heading level0 col3\" >3</th>        <th class=\"col_heading level0 col4\" >4</th>    </tr>    <tr>        <th class=\"blank level1\" ></th>        <th class=\"col_heading level1 col0\" ></th>        <th class=\"col_heading level1 col1\" ><a href=\"http://en.wikipedia.org/wiki/S.L._Benfica?curid=574076\">SLB</a></th>        <th class=\"col_heading level1 col2\" ><a href=\"http://en.wikipedia.org/wiki/Celtic_F.C.?curid=69708\">CEL</a></th>        <th class=\"col_heading level1 col3\" ><a href=\"http://en.wikipedia.org/wiki/A.C._Milan?curid=18940588\">MIL</a></th>        <th class=\"col_heading level1 col4\" ><a href=\"http://en.wikipedia.org/wiki/FC_Shakhtar_Donetsk?curid=861305\">SD</a></th>    </tr></thead><tbody>\n",
       "        </tbody></table>"
      ],
      "text/plain": [
       "<pandas.io.formats.style.Styler at 0x7f5f28130590>"
      ]
     },
     "metadata": {},
     "output_type": "display_data"
    },
    {
     "name": "stdout",
     "output_type": "stream",
     "text": [
      "((LinkedString('Year', links=()), LinkedString('Class', links=()), LinkedString('Team', links=()), LinkedString('Bike', links=()), LinkedString('DAY', links=()), LinkedString('FON', links=()), LinkedString('FON', links=()), LinkedString('RAT', links=()), LinkedString('RAT', links=()), LinkedString('INF', links=()), LinkedString('RAM', links=()), LinkedString('RAM', links=()), LinkedString('M-O', links=()), LinkedString('VIR', links=()), LinkedString('Pts', links=()), LinkedString('Pos', links=())), (LinkedString('Year', links=()), LinkedString('Class', links=()), LinkedString('Team', links=()), LinkedString('Bike', links=()), LinkedString('R1', links=()), LinkedString('R1', links=()), LinkedString('R2', links=()), LinkedString('R1', links=()), LinkedString('R2', links=()), LinkedString('R2', links=()), LinkedString('R1', links=()), LinkedString('R2', links=()), LinkedString('R1', links=()), LinkedString('R1', links=()), LinkedString('Pts', links=()), LinkedString('Pos', links=())))\n",
      "1 (0, 4, 11, 'short-uppercase-acronyms') None None\n"
     ]
    },
    {
     "data": {
      "text/html": [
       "<style  type=\"text/css\" >\n",
       "    #T_911c81fc_358e_11eb_81c0_00259091f1e8 .col_heading.level0 {\n",
       "          display: none;\n",
       "    }    #T_911c81fc_358e_11eb_81c0_00259091f1e8 .col_heading.level1.col4 {\n",
       "          background-color: #ff0;\n",
       "    }    #T_911c81fc_358e_11eb_81c0_00259091f1e8 .col_heading.level1.col5 {\n",
       "          background-color: #ff0;\n",
       "    }    #T_911c81fc_358e_11eb_81c0_00259091f1e8 .col_heading.level1.col6 {\n",
       "          background-color: #ff0;\n",
       "    }    #T_911c81fc_358e_11eb_81c0_00259091f1e8 .col_heading.level1.col7 {\n",
       "          background-color: #ff0;\n",
       "    }    #T_911c81fc_358e_11eb_81c0_00259091f1e8 .col_heading.level1.col8 {\n",
       "          background-color: #ff0;\n",
       "    }    #T_911c81fc_358e_11eb_81c0_00259091f1e8 .col_heading.level1.col9 {\n",
       "          background-color: #ff0;\n",
       "    }    #T_911c81fc_358e_11eb_81c0_00259091f1e8 .col_heading.level1.col10 {\n",
       "          background-color: #ff0;\n",
       "    }    #T_911c81fc_358e_11eb_81c0_00259091f1e8 .col_heading.level1.col11 {\n",
       "          background-color: #ff0;\n",
       "    }</style><table id=\"T_911c81fc_358e_11eb_81c0_00259091f1e8\" ><thead>    <tr>        <th class=\"blank level0\" ></th>        <th class=\"col_heading level0 col0\" >0</th>        <th class=\"col_heading level0 col1\" >1</th>        <th class=\"col_heading level0 col2\" >2</th>        <th class=\"col_heading level0 col3\" >3</th>        <th class=\"col_heading level0 col4\" >4</th>        <th class=\"col_heading level0 col5\" >5</th>        <th class=\"col_heading level0 col6\" >6</th>        <th class=\"col_heading level0 col7\" >7</th>        <th class=\"col_heading level0 col8\" >8</th>        <th class=\"col_heading level0 col9\" >9</th>        <th class=\"col_heading level0 col10\" >10</th>        <th class=\"col_heading level0 col11\" >11</th>        <th class=\"col_heading level0 col12\" >12</th>        <th class=\"col_heading level0 col13\" >13</th>        <th class=\"col_heading level0 col14\" >14</th>        <th class=\"col_heading level0 col15\" >15</th>    </tr>    <tr>        <th class=\"blank level1\" ></th>        <th class=\"col_heading level1 col0\" >Year</th>        <th class=\"col_heading level1 col1\" >Class</th>        <th class=\"col_heading level1 col2\" >Team</th>        <th class=\"col_heading level1 col3\" >Bike</th>        <th class=\"col_heading level1 col4\" >DAY</th>        <th class=\"col_heading level1 col5\" >FON</th>        <th class=\"col_heading level1 col6\" >FON</th>        <th class=\"col_heading level1 col7\" >RAT</th>        <th class=\"col_heading level1 col8\" >RAT</th>        <th class=\"col_heading level1 col9\" >INF</th>        <th class=\"col_heading level1 col10\" >RAM</th>        <th class=\"col_heading level1 col11\" >RAM</th>        <th class=\"col_heading level1 col12\" >M-O</th>        <th class=\"col_heading level1 col13\" >VIR</th>        <th class=\"col_heading level1 col14\" >Pts</th>        <th class=\"col_heading level1 col15\" >Pos</th>    </tr>    <tr>        <th class=\"blank level2\" ></th>        <th class=\"col_heading level2 col0\" >Year</th>        <th class=\"col_heading level2 col1\" >Class</th>        <th class=\"col_heading level2 col2\" >Team</th>        <th class=\"col_heading level2 col3\" >Bike</th>        <th class=\"col_heading level2 col4\" >R1</th>        <th class=\"col_heading level2 col5\" >R1</th>        <th class=\"col_heading level2 col6\" >R2</th>        <th class=\"col_heading level2 col7\" >R1</th>        <th class=\"col_heading level2 col8\" >R2</th>        <th class=\"col_heading level2 col9\" >R2</th>        <th class=\"col_heading level2 col10\" >R1</th>        <th class=\"col_heading level2 col11\" >R2</th>        <th class=\"col_heading level2 col12\" >R1</th>        <th class=\"col_heading level2 col13\" >R1</th>        <th class=\"col_heading level2 col14\" >Pts</th>        <th class=\"col_heading level2 col15\" >Pos</th>    </tr></thead><tbody>\n",
       "        </tbody></table>"
      ],
      "text/plain": [
       "<pandas.io.formats.style.Styler at 0x7f5fac57c2d0>"
      ]
     },
     "metadata": {},
     "output_type": "display_data"
    },
    {
     "name": "stdout",
     "output_type": "stream",
     "text": [
      "((LinkedString('', links=()), LinkedString('AIK', links=((0, 3, 'http://en.wikipedia.org/wiki/AIK_Fotboll?curid=233773'),)), LinkedString('DIF', links=((0, 3, 'http://en.wikipedia.org/wiki/Djurgårdens_IF_Fotboll?curid=1817087'),)), LinkedString('IFE', links=((0, 3, 'http://en.wikipedia.org/wiki/IF_Elfsborg?curid=895607'),)), LinkedString('GAIS', links=((0, 4, 'http://en.wikipedia.org/wiki/GAIS?curid=1825408'),)), LinkedString('GIF', links=((0, 3, 'http://en.wikipedia.org/wiki/Gefle_IF?curid=1750889'),)), LinkedString('IFKG', links=((0, 4, 'http://en.wikipedia.org/wiki/IFK_Göteborg?curid=475370'),)), LinkedString('HBK', links=((0, 3, 'http://en.wikipedia.org/wiki/Halmstads_BK?curid=1748518'),)), LinkedString('HAM', links=((0, 3, 'http://en.wikipedia.org/wiki/Hammarby_IF?curid=2108151'),)), LinkedString('HEL', links=((0, 3, 'http://en.wikipedia.org/wiki/Helsingborgs_IF?curid=1505028'),)), LinkedString('BKH', links=((0, 3, 'http://en.wikipedia.org/wiki/BK_Häcken?curid=1816965'),)), LinkedString('KFF', links=((0, 3, 'http://en.wikipedia.org/wiki/Kalmar_FF?curid=1816948'),)), LinkedString('MFF', links=((0, 3, 'http://en.wikipedia.org/wiki/Malmö_FF?curid=691956'),)), LinkedString('ÖIS', links=((0, 3, 'http://en.wikipedia.org/wiki/Örgryte_IS?curid=1611343'),)), LinkedString('ÖIF', links=((0, 3, 'http://en.wikipedia.org/wiki/Östers_IF?curid=827861'),))),)\n",
      "1 (0, 1, 12, 'short-uppercase-acronyms') None None\n"
     ]
    },
    {
     "data": {
      "text/html": [
       "<style  type=\"text/css\" >\n",
       "    #T_911f60a2_358e_11eb_81c0_00259091f1e8 .col_heading.level0 {\n",
       "          display: none;\n",
       "    }    #T_911f60a2_358e_11eb_81c0_00259091f1e8 .col_heading.level1.col1 {\n",
       "          background-color: #ff0;\n",
       "    }    #T_911f60a2_358e_11eb_81c0_00259091f1e8 .col_heading.level1.col2 {\n",
       "          background-color: #ff0;\n",
       "    }    #T_911f60a2_358e_11eb_81c0_00259091f1e8 .col_heading.level1.col3 {\n",
       "          background-color: #ff0;\n",
       "    }    #T_911f60a2_358e_11eb_81c0_00259091f1e8 .col_heading.level1.col4 {\n",
       "          background-color: #ff0;\n",
       "    }    #T_911f60a2_358e_11eb_81c0_00259091f1e8 .col_heading.level1.col5 {\n",
       "          background-color: #ff0;\n",
       "    }    #T_911f60a2_358e_11eb_81c0_00259091f1e8 .col_heading.level1.col6 {\n",
       "          background-color: #ff0;\n",
       "    }    #T_911f60a2_358e_11eb_81c0_00259091f1e8 .col_heading.level1.col7 {\n",
       "          background-color: #ff0;\n",
       "    }    #T_911f60a2_358e_11eb_81c0_00259091f1e8 .col_heading.level1.col8 {\n",
       "          background-color: #ff0;\n",
       "    }    #T_911f60a2_358e_11eb_81c0_00259091f1e8 .col_heading.level1.col9 {\n",
       "          background-color: #ff0;\n",
       "    }    #T_911f60a2_358e_11eb_81c0_00259091f1e8 .col_heading.level1.col10 {\n",
       "          background-color: #ff0;\n",
       "    }    #T_911f60a2_358e_11eb_81c0_00259091f1e8 .col_heading.level1.col11 {\n",
       "          background-color: #ff0;\n",
       "    }    #T_911f60a2_358e_11eb_81c0_00259091f1e8 .col_heading.level1.col12 {\n",
       "          background-color: #ff0;\n",
       "    }</style><table id=\"T_911f60a2_358e_11eb_81c0_00259091f1e8\" ><thead>    <tr>        <th class=\"blank level0\" ></th>        <th class=\"col_heading level0 col0\" >0</th>        <th class=\"col_heading level0 col1\" >1</th>        <th class=\"col_heading level0 col2\" >2</th>        <th class=\"col_heading level0 col3\" >3</th>        <th class=\"col_heading level0 col4\" >4</th>        <th class=\"col_heading level0 col5\" >5</th>        <th class=\"col_heading level0 col6\" >6</th>        <th class=\"col_heading level0 col7\" >7</th>        <th class=\"col_heading level0 col8\" >8</th>        <th class=\"col_heading level0 col9\" >9</th>        <th class=\"col_heading level0 col10\" >10</th>        <th class=\"col_heading level0 col11\" >11</th>        <th class=\"col_heading level0 col12\" >12</th>        <th class=\"col_heading level0 col13\" >13</th>        <th class=\"col_heading level0 col14\" >14</th>    </tr>    <tr>        <th class=\"blank level1\" ></th>        <th class=\"col_heading level1 col0\" ></th>        <th class=\"col_heading level1 col1\" ><a href=\"http://en.wikipedia.org/wiki/AIK_Fotboll?curid=233773\">AIK</a></th>        <th class=\"col_heading level1 col2\" ><a href=\"http://en.wikipedia.org/wiki/Djurgårdens_IF_Fotboll?curid=1817087\">DIF</a></th>        <th class=\"col_heading level1 col3\" ><a href=\"http://en.wikipedia.org/wiki/IF_Elfsborg?curid=895607\">IFE</a></th>        <th class=\"col_heading level1 col4\" ><a href=\"http://en.wikipedia.org/wiki/GAIS?curid=1825408\">GAIS</a></th>        <th class=\"col_heading level1 col5\" ><a href=\"http://en.wikipedia.org/wiki/Gefle_IF?curid=1750889\">GIF</a></th>        <th class=\"col_heading level1 col6\" ><a href=\"http://en.wikipedia.org/wiki/IFK_Göteborg?curid=475370\">IFKG</a></th>        <th class=\"col_heading level1 col7\" ><a href=\"http://en.wikipedia.org/wiki/Halmstads_BK?curid=1748518\">HBK</a></th>        <th class=\"col_heading level1 col8\" ><a href=\"http://en.wikipedia.org/wiki/Hammarby_IF?curid=2108151\">HAM</a></th>        <th class=\"col_heading level1 col9\" ><a href=\"http://en.wikipedia.org/wiki/Helsingborgs_IF?curid=1505028\">HEL</a></th>        <th class=\"col_heading level1 col10\" ><a href=\"http://en.wikipedia.org/wiki/BK_Häcken?curid=1816965\">BKH</a></th>        <th class=\"col_heading level1 col11\" ><a href=\"http://en.wikipedia.org/wiki/Kalmar_FF?curid=1816948\">KFF</a></th>        <th class=\"col_heading level1 col12\" ><a href=\"http://en.wikipedia.org/wiki/Malmö_FF?curid=691956\">MFF</a></th>        <th class=\"col_heading level1 col13\" ><a href=\"http://en.wikipedia.org/wiki/Örgryte_IS?curid=1611343\">ÖIS</a></th>        <th class=\"col_heading level1 col14\" ><a href=\"http://en.wikipedia.org/wiki/Östers_IF?curid=827861\">ÖIF</a></th>    </tr></thead><tbody>\n",
       "        </tbody></table>"
      ],
      "text/plain": [
       "<pandas.io.formats.style.Styler at 0x7f5f221ca890>"
      ]
     },
     "metadata": {},
     "output_type": "display_data"
    },
    {
     "name": "stdout",
     "output_type": "stream",
     "text": [
      "((LinkedString('Year', links=()), LinkedString('Song', links=()), LinkedString('Chart peak positions', links=()), LinkedString('Chart peak positions', links=()), LinkedString('Chart peak positions', links=()), LinkedString('Chart peak positions', links=()), LinkedString('Chart peak positions', links=()), LinkedString('Chart peak positions', links=()), LinkedString('Chart peak positions', links=()), LinkedString('Chart peak positions', links=()), LinkedString('Album', links=())), (LinkedString('Year', links=()), LinkedString('Song', links=()), LinkedString('UK', links=((0, 2, 'http://en.wikipedia.org/wiki/UK_Singles_Chart?curid=3349146'),)), LinkedString('AUT', links=((0, 3, 'http://en.wikipedia.org/wiki/Ö3_Austria_Top_40?curid=13757814'),)), LinkedString('FRA', links=()), LinkedString('GER', links=()), LinkedString('IRE', links=((0, 3, 'http://en.wikipedia.org/wiki/Irish_Singles_Chart?curid=3627762'),)), LinkedString('SWE', links=()), LinkedString('SWI', links=()), LinkedString('US Dance', links=((0, 8, 'http://en.wikipedia.org/wiki/Hot_Dance_Club_Play?curid=2048096'),)), LinkedString('Album', links=())))\n",
      "1 (1, 2, 8, 'short-uppercase-acronyms') None None\n"
     ]
    },
    {
     "data": {
      "text/html": [
       "<style  type=\"text/css\" >\n",
       "    #T_91225578_358e_11eb_81c0_00259091f1e8 .col_heading.level0 {\n",
       "          display: none;\n",
       "    }    #T_91225578_358e_11eb_81c0_00259091f1e8 .col_heading.level2.col2 {\n",
       "          background-color: #ff0;\n",
       "    }    #T_91225578_358e_11eb_81c0_00259091f1e8 .col_heading.level2.col3 {\n",
       "          background-color: #ff0;\n",
       "    }    #T_91225578_358e_11eb_81c0_00259091f1e8 .col_heading.level2.col4 {\n",
       "          background-color: #ff0;\n",
       "    }    #T_91225578_358e_11eb_81c0_00259091f1e8 .col_heading.level2.col5 {\n",
       "          background-color: #ff0;\n",
       "    }    #T_91225578_358e_11eb_81c0_00259091f1e8 .col_heading.level2.col6 {\n",
       "          background-color: #ff0;\n",
       "    }    #T_91225578_358e_11eb_81c0_00259091f1e8 .col_heading.level2.col7 {\n",
       "          background-color: #ff0;\n",
       "    }    #T_91225578_358e_11eb_81c0_00259091f1e8 .col_heading.level2.col8 {\n",
       "          background-color: #ff0;\n",
       "    }</style><table id=\"T_91225578_358e_11eb_81c0_00259091f1e8\" ><thead>    <tr>        <th class=\"blank level0\" ></th>        <th class=\"col_heading level0 col0\" >0</th>        <th class=\"col_heading level0 col1\" >1</th>        <th class=\"col_heading level0 col2\" >2</th>        <th class=\"col_heading level0 col3\" >3</th>        <th class=\"col_heading level0 col4\" >4</th>        <th class=\"col_heading level0 col5\" >5</th>        <th class=\"col_heading level0 col6\" >6</th>        <th class=\"col_heading level0 col7\" >7</th>        <th class=\"col_heading level0 col8\" >8</th>        <th class=\"col_heading level0 col9\" >9</th>        <th class=\"col_heading level0 col10\" >10</th>    </tr>    <tr>        <th class=\"blank level1\" ></th>        <th class=\"col_heading level1 col0\" >Year</th>        <th class=\"col_heading level1 col1\" >Song</th>        <th class=\"col_heading level1 col2\" >Chart peak positions</th>        <th class=\"col_heading level1 col3\" >Chart peak positions</th>        <th class=\"col_heading level1 col4\" >Chart peak positions</th>        <th class=\"col_heading level1 col5\" >Chart peak positions</th>        <th class=\"col_heading level1 col6\" >Chart peak positions</th>        <th class=\"col_heading level1 col7\" >Chart peak positions</th>        <th class=\"col_heading level1 col8\" >Chart peak positions</th>        <th class=\"col_heading level1 col9\" >Chart peak positions</th>        <th class=\"col_heading level1 col10\" >Album</th>    </tr>    <tr>        <th class=\"blank level2\" ></th>        <th class=\"col_heading level2 col0\" >Year</th>        <th class=\"col_heading level2 col1\" >Song</th>        <th class=\"col_heading level2 col2\" ><a href=\"http://en.wikipedia.org/wiki/UK_Singles_Chart?curid=3349146\">UK</a></th>        <th class=\"col_heading level2 col3\" ><a href=\"http://en.wikipedia.org/wiki/Ö3_Austria_Top_40?curid=13757814\">AUT</a></th>        <th class=\"col_heading level2 col4\" >FRA</th>        <th class=\"col_heading level2 col5\" >GER</th>        <th class=\"col_heading level2 col6\" ><a href=\"http://en.wikipedia.org/wiki/Irish_Singles_Chart?curid=3627762\">IRE</a></th>        <th class=\"col_heading level2 col7\" >SWE</th>        <th class=\"col_heading level2 col8\" >SWI</th>        <th class=\"col_heading level2 col9\" ><a href=\"http://en.wikipedia.org/wiki/Hot_Dance_Club_Play?curid=2048096\">US Dance</a></th>        <th class=\"col_heading level2 col10\" >Album</th>    </tr></thead><tbody>\n",
       "        </tbody></table>"
      ],
      "text/plain": [
       "<pandas.io.formats.style.Styler at 0x7f5f21bb3a50>"
      ]
     },
     "metadata": {},
     "output_type": "display_data"
    },
    {
     "name": "stdout",
     "output_type": "stream",
     "text": [
      "((LinkedString('Title', links=()), LinkedString('Album details', links=()), LinkedString('Peak chart positions', links=()), LinkedString('Peak chart positions', links=()), LinkedString('Peak chart positions', links=()), LinkedString('Peak chart positions', links=()), LinkedString('Peak chart positions', links=()), LinkedString('Peak chart positions', links=()), LinkedString('Peak chart positions', links=()), LinkedString('Peak chart positions', links=()), LinkedString('Peak chart positions', links=()), LinkedString('Peak chart positions', links=()), LinkedString('Certifications', links=((0, 14, 'http://en.wikipedia.org/wiki/Music_recording_sales_certification?curid=308242'),))), (LinkedString('Title', links=()), LinkedString('Album details', links=()), LinkedString('US', links=((0, 2, 'http://en.wikipedia.org/wiki/Billboard_200?curid=730350'),)), LinkedString('AUS', links=((0, 3, 'http://en.wikipedia.org/wiki/Australian_Recording_Industry_Association?curid=308882'),)), LinkedString('AUT', links=((0, 3, 'http://en.wikipedia.org/wiki/International_Federation_of_the_Phonographic_Industry?curid=180086'),)), LinkedString('FRA', links=((0, 3, \"http://en.wikipedia.org/wiki/Syndicat_National_de_l'Édition_Phonographique?curid=4565593\"),)), LinkedString('GER', links=((0, 3, 'http://en.wikipedia.org/wiki/German_Albums_Chart?curid=6170448'),)), LinkedString('IRE', links=((0, 3, 'http://en.wikipedia.org/wiki/Irish_Albums_Chart?curid=5784179'),)), LinkedString('ITA', links=((0, 3, 'http://en.wikipedia.org/wiki/Federazione_Industria_Musicale_Italiana?curid=4464404'),)), LinkedString('JPN', links=((0, 3, 'http://en.wikipedia.org/wiki/Oricon?curid=2758023'),)), LinkedString('NZ', links=((0, 2, 'http://en.wikipedia.org/wiki/RIANZ?curid=1588487'),)), LinkedString('UK', links=((0, 2, 'http://en.wikipedia.org/wiki/UK_Albums_Chart?curid=2465857'),)), LinkedString('Certifications', links=((0, 14, 'http://en.wikipedia.org/wiki/Music_recording_sales_certification?curid=308242'),))))\n",
      "1 (1, 2, 11, 'short-uppercase-acronyms') None None\n"
     ]
    },
    {
     "data": {
      "text/html": [
       "<style  type=\"text/css\" >\n",
       "    #T_9125a4f8_358e_11eb_81c0_00259091f1e8 .col_heading.level0 {\n",
       "          display: none;\n",
       "    }    #T_9125a4f8_358e_11eb_81c0_00259091f1e8 .col_heading.level2.col2 {\n",
       "          background-color: #ff0;\n",
       "    }    #T_9125a4f8_358e_11eb_81c0_00259091f1e8 .col_heading.level2.col3 {\n",
       "          background-color: #ff0;\n",
       "    }    #T_9125a4f8_358e_11eb_81c0_00259091f1e8 .col_heading.level2.col4 {\n",
       "          background-color: #ff0;\n",
       "    }    #T_9125a4f8_358e_11eb_81c0_00259091f1e8 .col_heading.level2.col5 {\n",
       "          background-color: #ff0;\n",
       "    }    #T_9125a4f8_358e_11eb_81c0_00259091f1e8 .col_heading.level2.col6 {\n",
       "          background-color: #ff0;\n",
       "    }    #T_9125a4f8_358e_11eb_81c0_00259091f1e8 .col_heading.level2.col7 {\n",
       "          background-color: #ff0;\n",
       "    }    #T_9125a4f8_358e_11eb_81c0_00259091f1e8 .col_heading.level2.col8 {\n",
       "          background-color: #ff0;\n",
       "    }    #T_9125a4f8_358e_11eb_81c0_00259091f1e8 .col_heading.level2.col9 {\n",
       "          background-color: #ff0;\n",
       "    }    #T_9125a4f8_358e_11eb_81c0_00259091f1e8 .col_heading.level2.col10 {\n",
       "          background-color: #ff0;\n",
       "    }    #T_9125a4f8_358e_11eb_81c0_00259091f1e8 .col_heading.level2.col11 {\n",
       "          background-color: #ff0;\n",
       "    }</style><table id=\"T_9125a4f8_358e_11eb_81c0_00259091f1e8\" ><thead>    <tr>        <th class=\"blank level0\" ></th>        <th class=\"col_heading level0 col0\" >0</th>        <th class=\"col_heading level0 col1\" >1</th>        <th class=\"col_heading level0 col2\" >2</th>        <th class=\"col_heading level0 col3\" >3</th>        <th class=\"col_heading level0 col4\" >4</th>        <th class=\"col_heading level0 col5\" >5</th>        <th class=\"col_heading level0 col6\" >6</th>        <th class=\"col_heading level0 col7\" >7</th>        <th class=\"col_heading level0 col8\" >8</th>        <th class=\"col_heading level0 col9\" >9</th>        <th class=\"col_heading level0 col10\" >10</th>        <th class=\"col_heading level0 col11\" >11</th>        <th class=\"col_heading level0 col12\" >12</th>    </tr>    <tr>        <th class=\"blank level1\" ></th>        <th class=\"col_heading level1 col0\" >Title</th>        <th class=\"col_heading level1 col1\" >Album details</th>        <th class=\"col_heading level1 col2\" >Peak chart positions</th>        <th class=\"col_heading level1 col3\" >Peak chart positions</th>        <th class=\"col_heading level1 col4\" >Peak chart positions</th>        <th class=\"col_heading level1 col5\" >Peak chart positions</th>        <th class=\"col_heading level1 col6\" >Peak chart positions</th>        <th class=\"col_heading level1 col7\" >Peak chart positions</th>        <th class=\"col_heading level1 col8\" >Peak chart positions</th>        <th class=\"col_heading level1 col9\" >Peak chart positions</th>        <th class=\"col_heading level1 col10\" >Peak chart positions</th>        <th class=\"col_heading level1 col11\" >Peak chart positions</th>        <th class=\"col_heading level1 col12\" ><a href=\"http://en.wikipedia.org/wiki/Music_recording_sales_certification?curid=308242\">Certifications</a></th>    </tr>    <tr>        <th class=\"blank level2\" ></th>        <th class=\"col_heading level2 col0\" >Title</th>        <th class=\"col_heading level2 col1\" >Album details</th>        <th class=\"col_heading level2 col2\" ><a href=\"http://en.wikipedia.org/wiki/Billboard_200?curid=730350\">US</a></th>        <th class=\"col_heading level2 col3\" ><a href=\"http://en.wikipedia.org/wiki/Australian_Recording_Industry_Association?curid=308882\">AUS</a></th>        <th class=\"col_heading level2 col4\" ><a href=\"http://en.wikipedia.org/wiki/International_Federation_of_the_Phonographic_Industry?curid=180086\">AUT</a></th>        <th class=\"col_heading level2 col5\" ><a href=\"http://en.wikipedia.org/wiki/Syndicat_National_de_l'Édition_Phonographique?curid=4565593\">FRA</a></th>        <th class=\"col_heading level2 col6\" ><a href=\"http://en.wikipedia.org/wiki/German_Albums_Chart?curid=6170448\">GER</a></th>        <th class=\"col_heading level2 col7\" ><a href=\"http://en.wikipedia.org/wiki/Irish_Albums_Chart?curid=5784179\">IRE</a></th>        <th class=\"col_heading level2 col8\" ><a href=\"http://en.wikipedia.org/wiki/Federazione_Industria_Musicale_Italiana?curid=4464404\">ITA</a></th>        <th class=\"col_heading level2 col9\" ><a href=\"http://en.wikipedia.org/wiki/Oricon?curid=2758023\">JPN</a></th>        <th class=\"col_heading level2 col10\" ><a href=\"http://en.wikipedia.org/wiki/RIANZ?curid=1588487\">NZ</a></th>        <th class=\"col_heading level2 col11\" ><a href=\"http://en.wikipedia.org/wiki/UK_Albums_Chart?curid=2465857\">UK</a></th>        <th class=\"col_heading level2 col12\" ><a href=\"http://en.wikipedia.org/wiki/Music_recording_sales_certification?curid=308242\">Certifications</a></th>    </tr></thead><tbody>\n",
       "        </tbody></table>"
      ],
      "text/plain": [
       "<pandas.io.formats.style.Styler at 0x7f5f21bc05d0>"
      ]
     },
     "metadata": {},
     "output_type": "display_data"
    },
    {
     "name": "stdout",
     "output_type": "stream",
     "text": [
      "((LinkedString('', links=()), LinkedString('BAR', links=((0, 3, 'http://en.wikipedia.org/wiki/FC_Barcelona?curid=68187'),)), LinkedString('DK', links=((0, 2, 'http://en.wikipedia.org/wiki/FC_Dynamo_Kyiv?curid=889025'),)), LinkedString('INT', links=((0, 3, 'http://en.wikipedia.org/wiki/F.C._Internazionale_Milano?curid=15116'),)), LinkedString('RUB', links=((0, 3, 'http://en.wikipedia.org/wiki/FC_Rubin_Kazan?curid=896135'),))),)\n",
      "1"
     ]
    }
   ],
   "source": [
    "import pandas as pd\n",
    "\n",
    "import takco\n",
    "steps = takco.config.build('step', load=['resources/graphs/wikidata.toml','resources/pipelines/TabEL.toml'])\n",
    "hs = steps[0]['unpivot_heuristics']\n",
    "hs = {h.name: h for h in hs}\n",
    "# display.display(hs)\n",
    "\n",
    "def find_pivot(headertext):\n",
    "    return takco.reshape.find_longest_pivot(headertext, hs.values())\n",
    "\n",
    "import re\n",
    "for h, count in header_count.most_common():\n",
    "    if not any(sum(bool(re.match('^[A-Z]{3}$', str(c))) for c in r) > len(r)/2 for r in h):\n",
    "        continue\n",
    "#     if c < 10:\n",
    "#         continue\n",
    "    if h and all(all(isinstance(c, str) for c in r) for r in h):\n",
    "        print(h)\n",
    "        df = pd.DataFrame.takco.from_header(h)\n",
    "        p = find_pivot(h)\n",
    "        if p:\n",
    "            level, colfrom, colto, hname = p\n",
    "            head, cell = None, None\n",
    "            for h,c in hs[hname].split_header(h[level], colfrom, colto):\n",
    "                if h != c:\n",
    "                    head, cell = h, c\n",
    "            print(count, p, head, cell)\n",
    "            display.display(df.takco.highlight_pivot(level, colfrom, colto))\n",
    "        else:\n",
    "            print(count)\n",
    "            display.display(df.takco)"
   ]
  },
  {
   "cell_type": "code",
   "execution_count": 25,
   "metadata": {},
   "outputs": [
    {
     "data": {
      "application/vnd.jupyter.widget-view+json": {
       "model_id": "d9c93b03a1054ea58ab53f4fb80ac895",
       "version_major": 2,
       "version_minor": 0
      },
      "text/plain": [
       "HTML(value='0 examples annotated, 51 examples left')"
      ]
     },
     "metadata": {},
     "output_type": "display_data"
    },
    {
     "data": {
      "application/vnd.jupyter.widget-view+json": {
       "model_id": "e504cd6ed34642d9b04fcaa561c37030",
       "version_major": 2,
       "version_minor": 0
      },
      "text/plain": [
       "HBox(children=(Button(description='good', style=ButtonStyle()), Button(description='bad', style=ButtonStyle())…"
      ]
     },
     "metadata": {},
     "output_type": "display_data"
    },
    {
     "data": {
      "application/vnd.jupyter.widget-view+json": {
       "model_id": "fe0393b2594049f29f17b22bfae10634",
       "version_major": 2,
       "version_minor": 0
      },
      "text/plain": [
       "Output()"
      ]
     },
     "metadata": {},
     "output_type": "display_data"
    },
    {
     "name": "stdout",
     "output_type": "stream",
     "text": [
      "Annotation done.\n"
     ]
    }
   ],
   "source": [
    "def show_pivot(pivot):\n",
    "    tableHeaders = headers[pivot['headerId']]\n",
    "    def make_cell(c,ri,ci,pivot):\n",
    "        cell = c.get(\"tdHtmlString\", \"<th>\"+c.get('text','')+\"</th>\")\n",
    "        if ri == pivot['level'] and ci in range(pivot['colfrom'],pivot['colto']+1):\n",
    "            cell = cell[:3] + ' style=\"background:#8c8;\"' + cell[4:]\n",
    "        return cell\n",
    "    head = [\n",
    "        [make_cell(c,ri,ci,pivot) for ci,c in enumerate(r)]\n",
    "        for ri,r in enumerate(tableHeaders)\n",
    "    ]\n",
    "    head = [[c.replace(\"span=\", \"=\") for c in row] for row in head]\n",
    "    head = \"\".join(f'<tr>{\"\".join(row)}</tr>' for row in head)\n",
    "    html = \"<table>\" + head + \"</table>\"\n",
    "    display.display(display.HTML( html ))\n",
    "    \n",
    "\n",
    "import itertools\n",
    "ns = takco.reshape.NumSuffix()\n",
    "pivots = takco.reshape.yield_pivots(headers.values(), {'numsuffix':ns})\n",
    "pivots = itertools.islice(pivots, 50)\n",
    "\n",
    "from pigeon import annotate\n",
    "annotations = annotate(\n",
    "    list(pivots),\n",
    "    options=['good', 'bad'],\n",
    "    display_fn = show_pivot\n",
    ")"
   ]
  },
  {
   "cell_type": "code",
   "execution_count": 26,
   "metadata": {},
   "outputs": [
    {
     "data": {
      "text/plain": [
       "[({'headerId': 7216962826754076956,\n",
       "   'level': 0,\n",
       "   'colfrom': 0,\n",
       "   'colto': 0,\n",
       "   'heuristic': 'numsuffix'},\n",
       "  'bad'),\n",
       " ({'headerId': 3441036834358993182,\n",
       "   'level': 0,\n",
       "   'colfrom': 0,\n",
       "   'colto': 0,\n",
       "   'heuristic': 'numsuffix'},\n",
       "  'bad'),\n",
       " ({'headerId': 3836035899065722383,\n",
       "   'level': 0,\n",
       "   'colfrom': 0,\n",
       "   'colto': 0,\n",
       "   'heuristic': 'numsuffix'},\n",
       "  'good'),\n",
       " ({'headerId': 778735725590271279,\n",
       "   'level': 0,\n",
       "   'colfrom': 0,\n",
       "   'colto': 0,\n",
       "   'heuristic': 'numsuffix'},\n",
       "  'bad'),\n",
       " ({'headerId': 2036622794261251368,\n",
       "   'level': 0,\n",
       "   'colfrom': 0,\n",
       "   'colto': 0,\n",
       "   'heuristic': 'numsuffix'},\n",
       "  'good'),\n",
       " ({'headerId': 2873865634436721714,\n",
       "   'level': 0,\n",
       "   'colfrom': 4,\n",
       "   'colto': 14,\n",
       "   'heuristic': 'numsuffix'},\n",
       "  'good'),\n",
       " ({'headerId': 130443667544424743,\n",
       "   'level': 0,\n",
       "   'colfrom': 1,\n",
       "   'colto': 2,\n",
       "   'heuristic': 'numsuffix'},\n",
       "  'good'),\n",
       " ({'headerId': 5596464666231700013,\n",
       "   'level': 0,\n",
       "   'colfrom': 1,\n",
       "   'colto': 1,\n",
       "   'heuristic': 'numsuffix'},\n",
       "  'bad'),\n",
       " ({'headerId': 6372646278424920385,\n",
       "   'level': 0,\n",
       "   'colfrom': 2,\n",
       "   'colto': 4,\n",
       "   'heuristic': 'numsuffix'},\n",
       "  'bad'),\n",
       " ({'headerId': 4125005331070022923,\n",
       "   'level': 0,\n",
       "   'colfrom': 3,\n",
       "   'colto': 3,\n",
       "   'heuristic': 'numsuffix'},\n",
       "  'bad'),\n",
       " ({'headerId': 7251311432454886010,\n",
       "   'level': 0,\n",
       "   'colfrom': 1,\n",
       "   'colto': 7,\n",
       "   'heuristic': 'numsuffix'},\n",
       "  'good'),\n",
       " ({'headerId': 5906591977550104310,\n",
       "   'level': 0,\n",
       "   'colfrom': 0,\n",
       "   'colto': 0,\n",
       "   'heuristic': 'numsuffix'},\n",
       "  'good'),\n",
       " ({'headerId': 6752672663247137878,\n",
       "   'level': 0,\n",
       "   'colfrom': 1,\n",
       "   'colto': 4,\n",
       "   'heuristic': 'numsuffix'},\n",
       "  'good'),\n",
       " ({'headerId': 3025290827761038709,\n",
       "   'level': 0,\n",
       "   'colfrom': 1,\n",
       "   'colto': 1,\n",
       "   'heuristic': 'numsuffix'},\n",
       "  'good'),\n",
       " ({'headerId': 7702259129593483600,\n",
       "   'level': 0,\n",
       "   'colfrom': 0,\n",
       "   'colto': 0,\n",
       "   'heuristic': 'numsuffix'},\n",
       "  'good'),\n",
       " ({'headerId': 8985075688640219378,\n",
       "   'level': 2,\n",
       "   'colfrom': 1,\n",
       "   'colto': 3,\n",
       "   'heuristic': 'numsuffix'},\n",
       "  'good'),\n",
       " ({'headerId': 2065500356774652810,\n",
       "   'level': 0,\n",
       "   'colfrom': 3,\n",
       "   'colto': 3,\n",
       "   'heuristic': 'numsuffix'},\n",
       "  'bad'),\n",
       " ({'headerId': 5310639738958274024,\n",
       "   'level': 0,\n",
       "   'colfrom': 3,\n",
       "   'colto': 4,\n",
       "   'heuristic': 'numsuffix'},\n",
       "  'bad'),\n",
       " ({'headerId': 1991426323243781817,\n",
       "   'level': 0,\n",
       "   'colfrom': 5,\n",
       "   'colto': 5,\n",
       "   'heuristic': 'numsuffix'},\n",
       "  'good'),\n",
       " ({'headerId': 3668171251325145398,\n",
       "   'level': 0,\n",
       "   'colfrom': 1,\n",
       "   'colto': 1,\n",
       "   'heuristic': 'numsuffix'},\n",
       "  'bad'),\n",
       " ({'headerId': 3225469494443369137,\n",
       "   'level': 0,\n",
       "   'colfrom': 0,\n",
       "   'colto': 0,\n",
       "   'heuristic': 'numsuffix'},\n",
       "  'bad'),\n",
       " ({'headerId': 65599657716634983,\n",
       "   'level': 0,\n",
       "   'colfrom': 1,\n",
       "   'colto': 4,\n",
       "   'heuristic': 'numsuffix'},\n",
       "  'good'),\n",
       " ({'headerId': 8268039739442532109,\n",
       "   'level': 0,\n",
       "   'colfrom': 0,\n",
       "   'colto': 0,\n",
       "   'heuristic': 'numsuffix'},\n",
       "  'good'),\n",
       " ({'headerId': 2296918560459336776,\n",
       "   'level': 0,\n",
       "   'colfrom': 0,\n",
       "   'colto': 0,\n",
       "   'heuristic': 'numsuffix'},\n",
       "  'good'),\n",
       " ({'headerId': 1615414489725654142,\n",
       "   'level': 1,\n",
       "   'colfrom': 2,\n",
       "   'colto': 10,\n",
       "   'heuristic': 'numsuffix'},\n",
       "  'good'),\n",
       " ({'headerId': 2642551024906913334,\n",
       "   'level': 0,\n",
       "   'colfrom': 0,\n",
       "   'colto': 0,\n",
       "   'heuristic': 'numsuffix'},\n",
       "  'bad'),\n",
       " ({'headerId': 2618251845742318642,\n",
       "   'level': 0,\n",
       "   'colfrom': 0,\n",
       "   'colto': 0,\n",
       "   'heuristic': 'numsuffix'},\n",
       "  'good'),\n",
       " ({'headerId': 3207797449127771565,\n",
       "   'level': 0,\n",
       "   'colfrom': 1,\n",
       "   'colto': 1,\n",
       "   'heuristic': 'numsuffix'},\n",
       "  'good'),\n",
       " ({'headerId': 3479550256579253288,\n",
       "   'level': 0,\n",
       "   'colfrom': 0,\n",
       "   'colto': 0,\n",
       "   'heuristic': 'numsuffix'},\n",
       "  'good'),\n",
       " ({'headerId': 4338591748991288972,\n",
       "   'level': 0,\n",
       "   'colfrom': 1,\n",
       "   'colto': 2,\n",
       "   'heuristic': 'numsuffix'},\n",
       "  'good'),\n",
       " ({'headerId': 2051587439580192064,\n",
       "   'level': 0,\n",
       "   'colfrom': 2,\n",
       "   'colto': 2,\n",
       "   'heuristic': 'numsuffix'},\n",
       "  'good'),\n",
       " ({'headerId': 264011368736681198,\n",
       "   'level': 0,\n",
       "   'colfrom': 4,\n",
       "   'colto': 18,\n",
       "   'heuristic': 'numsuffix'},\n",
       "  'good'),\n",
       " ({'headerId': 3691366244666980579,\n",
       "   'level': 0,\n",
       "   'colfrom': 0,\n",
       "   'colto': 0,\n",
       "   'heuristic': 'numsuffix'},\n",
       "  'good'),\n",
       " ({'headerId': 5119362470716851460,\n",
       "   'level': 0,\n",
       "   'colfrom': 1,\n",
       "   'colto': 1,\n",
       "   'heuristic': 'numsuffix'},\n",
       "  'bad'),\n",
       " ({'headerId': 4854671032258072836,\n",
       "   'level': 0,\n",
       "   'colfrom': 4,\n",
       "   'colto': 14,\n",
       "   'heuristic': 'numsuffix'},\n",
       "  'good'),\n",
       " ({'headerId': 8190159142599143924,\n",
       "   'level': 0,\n",
       "   'colfrom': 0,\n",
       "   'colto': 0,\n",
       "   'heuristic': 'numsuffix'},\n",
       "  'good'),\n",
       " ({'headerId': 7506000193050987831,\n",
       "   'level': 0,\n",
       "   'colfrom': 0,\n",
       "   'colto': 0,\n",
       "   'heuristic': 'numsuffix'},\n",
       "  'good'),\n",
       " ({'headerId': 4611505578490435388,\n",
       "   'level': 0,\n",
       "   'colfrom': 0,\n",
       "   'colto': 0,\n",
       "   'heuristic': 'numsuffix'},\n",
       "  'good'),\n",
       " ({'headerId': 3923451407713725225,\n",
       "   'level': 0,\n",
       "   'colfrom': 0,\n",
       "   'colto': 0,\n",
       "   'heuristic': 'numsuffix'},\n",
       "  'good'),\n",
       " ({'headerId': 407731797276306891,\n",
       "   'level': 0,\n",
       "   'colfrom': 1,\n",
       "   'colto': 2,\n",
       "   'heuristic': 'numsuffix'},\n",
       "  'good'),\n",
       " ({'headerId': 2320646965955135106,\n",
       "   'level': 0,\n",
       "   'colfrom': 1,\n",
       "   'colto': 8,\n",
       "   'heuristic': 'numsuffix'},\n",
       "  'good'),\n",
       " ({'headerId': 452369737961254956,\n",
       "   'level': 0,\n",
       "   'colfrom': 0,\n",
       "   'colto': 0,\n",
       "   'heuristic': 'numsuffix'},\n",
       "  'good'),\n",
       " ({'headerId': 6091172070246089936,\n",
       "   'level': 0,\n",
       "   'colfrom': 4,\n",
       "   'colto': 6,\n",
       "   'heuristic': 'numsuffix'},\n",
       "  'good'),\n",
       " ({'headerId': 964717372720155573,\n",
       "   'level': 0,\n",
       "   'colfrom': 0,\n",
       "   'colto': 0,\n",
       "   'heuristic': 'numsuffix'},\n",
       "  'good'),\n",
       " ({'headerId': 6929667826534143718,\n",
       "   'level': 0,\n",
       "   'colfrom': 3,\n",
       "   'colto': 5,\n",
       "   'heuristic': 'numsuffix'},\n",
       "  'good'),\n",
       " ({'headerId': 7636959889081078192,\n",
       "   'level': 0,\n",
       "   'colfrom': 1,\n",
       "   'colto': 9,\n",
       "   'heuristic': 'numsuffix'},\n",
       "  'good'),\n",
       " ({'headerId': 9218585458551363507,\n",
       "   'level': 0,\n",
       "   'colfrom': 0,\n",
       "   'colto': 0,\n",
       "   'heuristic': 'numsuffix'},\n",
       "  'good'),\n",
       " ({'headerId': 2799280329105615254,\n",
       "   'level': 0,\n",
       "   'colfrom': 0,\n",
       "   'colto': 0,\n",
       "   'heuristic': 'numsuffix'},\n",
       "  'good'),\n",
       " ({'headerId': 4948727567584694652,\n",
       "   'level': 0,\n",
       "   'colfrom': 0,\n",
       "   'colto': 2,\n",
       "   'heuristic': 'numsuffix'},\n",
       "  'bad'),\n",
       " ({'headerId': 434135500206201261,\n",
       "   'level': 0,\n",
       "   'colfrom': 0,\n",
       "   'colto': 0,\n",
       "   'heuristic': 'numsuffix'},\n",
       "  'bad')]"
      ]
     },
     "execution_count": 26,
     "metadata": {},
     "output_type": "execute_result"
    }
   ],
   "source": [
    "annotations"
   ]
  },
  {
   "cell_type": "code",
   "execution_count": null,
   "metadata": {},
   "outputs": [],
   "source": []
  }
 ],
 "metadata": {
  "kernelspec": {
   "display_name": "Python 3",
   "language": "python",
   "name": "python3"
  },
  "language_info": {
   "codemirror_mode": {
    "name": "ipython",
    "version": 3
   },
   "file_extension": ".py",
   "mimetype": "text/x-python",
   "name": "python",
   "nbconvert_exporter": "python",
   "pygments_lexer": "ipython3",
   "version": "3.7.4"
  }
 },
 "nbformat": 4,
 "nbformat_minor": 4
}
