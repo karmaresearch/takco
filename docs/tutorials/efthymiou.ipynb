{
 "cells": [
  {
   "cell_type": "markdown",
   "metadata": {},
   "source": [
    "# Efthymiou"
   ]
  },
  {
   "cell_type": "code",
   "execution_count": 1,
   "metadata": {},
   "outputs": [],
   "source": [
    "%matplotlib inline\n",
    "%load_ext autoreload\n",
    "%autoreload 2\n",
    "import os\n",
    "os.chdir('../../')"
   ]
  },
  {
   "cell_type": "code",
   "execution_count": 43,
   "metadata": {},
   "outputs": [
    {
     "name": "stderr",
     "output_type": "stream",
     "text": [
      "INFO:root:Read 428 tables from data/efthymiou/webtables-evaluation-data/csv/LimayeGS/tables_instance\n",
      "INFO:root:Read 428 entity tables from data/efthymiou/webtables-evaluation-data/csv/LimayeGS/entities_instance\n"
     ]
    },
    {
     "data": {
      "text/plain": [
       "{'name': 'file100415_0_cols1_rows14',\n",
       " 'headers': [],\n",
       " 'rows': [['', 'Vector Prime', 'R . A . Salvator', ''],\n",
       "  ['', 'Dark Tide I : Onslaught', 'Michael Stackpole', ''],\n",
       "  ['', 'Dark Tide II : Ruin', 'Michael Stackpole', ''],\n",
       "  ['', 'Agents of Chaos I : Hero&apos;s Trial', 'James Luceno', ''],\n",
       "  ['', 'Agents of Chaos II : Jedi Eclipse', 'James Luceno', ''],\n",
       "  ['', 'Balance Point', 'Kathy Tyers', ''],\n",
       "  ['', 'Recovery', 'Troy Denning', ''],\n",
       "  ['', 'Edge of Victory I : Conquest', 'Greg Keyes', ''],\n",
       "  ['', 'Edge of Victory II : Rebirth', 'Greg Keyes', ''],\n",
       "  ['', 'Star by Star', 'Troy Denning', ''],\n",
       "  ['', 'Dark Journey', 'Elaine Cunningham', ''],\n",
       "  ['', 'Enemy Lines I : Rebel Dream', 'Aaron Allston', ''],\n",
       "  ['', 'Enemy Lines II : Rebel Stand', 'Aaron Allston', ''],\n",
       "  ['', 'Traitor', 'Matthew Wooding Stover', ''],\n",
       "  []],\n",
       " 'entities': {'-1': {'0': {'http://dbpedia.org/resource/Vector_Prime': 1.0},\n",
       "   '1': {'http://dbpedia.org/resource/Dark_Tide:_Onslaught': 1.0},\n",
       "   '5': {'http://dbpedia.org/resource/Balance_Point': 1.0},\n",
       "   '9': {'http://dbpedia.org/resource/Star_by_Star': 1.0},\n",
       "   '10': {'http://dbpedia.org/resource/Dark_Journey': 1.0},\n",
       "   '13': {'http://dbpedia.org/resource/Traitor_(Star_Wars_novel)': 1.0}}},\n",
       " 'classes': {},\n",
       " 'properties': {},\n",
       " 'keycol': None}"
      ]
     },
     "execution_count": 43,
     "metadata": {},
     "output_type": "execute_result"
    }
   ],
   "source": [
    "import logging as log\n",
    "log.getLogger().setLevel(log.INFO)\n",
    "\n",
    "import takco\n",
    "conf = takco.Config(\"\"\"\n",
    "[[assets]]\n",
    "class = \"T2D\"\n",
    "name = \"LimayeGS\"\n",
    "version = 1\n",
    "path = \"data/efthymiou/webtables-evaluation-data/csv/LimayeGS\"\n",
    "\"\"\")\n",
    "# [t for t in takco.TableSet.dataset('LimayeGS', **conf)]\n",
    "\n",
    "from takco.evaluate.dataset import load\n",
    "next(iter(load(**conf['assets'][0]).tables))"
   ]
  },
  {
   "cell_type": "code",
   "execution_count": null,
   "metadata": {},
   "outputs": [],
   "source": []
  }
 ],
 "metadata": {
  "kernelspec": {
   "display_name": "Python 3",
   "language": "python",
   "name": "python3"
  },
  "language_info": {
   "codemirror_mode": {
    "name": "ipython",
    "version": 3
   },
   "file_extension": ".py",
   "mimetype": "text/x-python",
   "name": "python",
   "nbconvert_exporter": "python",
   "pygments_lexer": "ipython3",
   "version": "3.7.4"
  }
 },
 "nbformat": 4,
 "nbformat_minor": 4
}
