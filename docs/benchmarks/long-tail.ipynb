{
 "cells": [
  {
   "cell_type": "code",
   "execution_count": null,
   "metadata": {},
   "outputs": [],
   "source": [
    "%%capture --no-display\n",
    "from dask.distributed import Client\n",
    "client = Client(address = 'tcp://192.168.62.207:8786')\n",
    "client"
   ]
  },
  {
   "cell_type": "code",
   "execution_count": null,
   "metadata": {},
   "outputs": [],
   "source": [
    "import dask.bag as db import json\n",
    "bag = db.read_text(f'/export/scratch1/home/kruit/nary/output/tabel-164k/8-triples/*').map(json.loads).persist()\n",
    "bag.count().compute()"
   ]
  },
  {
   "cell_type": "code",
   "execution_count": null,
   "metadata": {},
   "outputs": [],
   "source": [
    "triples = bag.map(lambda x:x['triples']).flatten().distinct('hash ').persist()\n",
    "triples.count().compute()"
   ]
  },
  {
   "cell_type": "markdown",
   "metadata": {},
   "source": [
    "## Property tail"
   ]
  },
  {
   "cell_type": "code",
   "execution_count": 3,
   "metadata": {},
   "outputs": [],
   "source": [
    "import trident\n",
    "g = trident.Db('/export/scratch1/home/kruit/nary/data/wikidata.tridentdb')\n",
    "p_count = {p: g.count_p(p) for p in g.all_p()}\n",
    "puri_name = {l.split(' ', 1)[0]:l for l in map(str.strip, open('/export/scratch1/home/kruit/nary/data/kb/wikidata/wikidata-properties.txt'))}\n",
    "def pname(p):\n",
    "    puri = g.lookup_str(p)\n",
    "    if puri:\n",
    "        return puri_name.get(puri[1:-1].replace('http://www.wikidata.org/prop/direct/', ''))"
   ]
  },
  {
   "cell_type": "code",
   "execution_count": 4,
   "metadata": {},
   "outputs": [
    {
     "data": {
      "text/plain": [
       "<matplotlib.axes._subplots.AxesSubplot at 0x7f3c98e96e90>"
      ]
     },
     "execution_count": 4,
     "metadata": {},
     "output_type": "execute_result"
    },
    {
     "data": {
      "image/png": "[encoded data removed]",
      "text/plain": [
       "<Figure size 432x288 with 1 Axes>"
      ]
     },
     "metadata": {
      "needs_background": "light"
     },
     "output_type": "display_data"
    }
   ],
   "source": [
    "import pandas as pd\n",
    "df = pd.Series(p_count).to_frame('count')\n",
    "df = df.sort_values('count', ascending=False).reset_index()\n",
    "df['rank'] = df.index\n",
    "\n",
    "def loglog(df, x, y):\n",
    "    return df.plot.scatter(x, y, loglog=True, xlim=[1,df[x].max()], ylim=[1,df[y].max()])\n",
    "loglog(df, 'rank', 'count')"
   ]
  },
  {
   "cell_type": "code",
   "execution_count": null,
   "metadata": {},
   "outputs": [],
   "source": [
    "def props(tables):\n",
    "    ps = []\n",
    "    for t in tables:\n",
    "        for tr in t.get('triples'):\n",
    "            if tr.get('kind') == 'property': ps.append(tr.get('p'))\n",
    "                return ps\n",
    "            \n",
    "from collections import Counter\n",
    "freq = dict(bag.map_partitions(props).frequencies())\n",
    "p_freq = pd.Series({g.lookup_id(f'<{puri}>'):f for puri,f in freq.i tems()}, name='freq')\n",
    "df2 = df.join(p_freq, on='index')\n",
    "df2 = df2[~df2['freq'].isna()]\n",
    "df2.plot.scatter('rank', 'freq', loglog=True, xlim=[1,df2['rank'].m ax()], ylim=[1,df2['freq'].max()])"
   ]
  },
  {
   "cell_type": "code",
   "execution_count": null,
   "metadata": {},
   "outputs": [],
   "source": [
    "for p in df2.loc[(df2['freq'] / df2['count']).sort_values().index[::-1]][:10].itertuples():\n",
    "    print(pname(p.index), p.count, p.freq)"
   ]
  },
  {
   "cell_type": "code",
   "execution_count": null,
   "metadata": {},
   "outputs": [],
   "source": [
    "def tprops(triples): ps = []\n",
    "    for tr in triples:\n",
    "        if tr.get('kind') == 'property':\n",
    "            ps.append(tr.get('p'))\n",
    "    return ps\n",
    "\n",
    "freq = dict(triples.map_partitions(tprops).frequencies().compute())\n",
    "p_freq = pd.Series({g.lookup_id(f'<{puri}>'):f for puri,f in freq.items()}, name='freq')\n",
    "df2 = df.join(p_freq, on='index')\n",
    "df2 = df2[~df2['freq'].isna()]\n",
    "\n",
    "loglog(df2, 'rank', 'freq')"
   ]
  },
  {
   "cell_type": "code",
   "execution_count": null,
   "metadata": {},
   "outputs": [],
   "source": [
    "for p in df2.loc[(df2['freq'] / df2['count']).sort_values().index[::-1]][:10].itertuples():\n",
    "    print(pname(p.index), p.count, p.freq)"
   ]
  },
  {
   "cell_type": "code",
   "execution_count": null,
   "metadata": {},
   "outputs": [],
   "source": [
    "pcode = 'P4599'\n",
    "\n",
    "def so(triples, pid):\n",
    "    for t in triples:\n",
    "        if t.get('p', '').endswith(pid):\n",
    "            score = t.get('s_score', 1) , min(1, t.get('p_score',1)), t.get('o_score', 1)\n",
    "            yield t.get('s'), t.get('o'), score\n",
    "            \n",
    "pid = g.lookup_id(f'<http://www.wikidata.org/prop/direct/{pcode}>')\n",
    "for su, ou, score in triples.map_partitions(so, pcode).take(10):\n",
    "    s, o = g.lookup_id('<%s>'%su), g.lookup_id('<%s>'%ou)\n",
    "    print(su, ou, g.exists(s,pid,o), score)"
   ]
  },
  {
   "cell_type": "code",
   "execution_count": null,
   "metadata": {},
   "outputs": [],
   "source": [
    "triples.filter(lambda t: t['kind'] == 'property' and t['p'].endswith(pcode)).take(1)"
   ]
  },
  {
   "cell_type": "code",
   "execution_count": null,
   "metadata": {},
   "outputs": [],
   "source": [
    "p_scores = triples.map_partitions(lambda ts: [min(1,t['p_score']) for t in ts if t['kind'] == 'property' and 'p_score' in t]).compute ()\n",
    "pd.Series(p_scores).plot.hist(bins=100)"
   ]
  },
  {
   "cell_type": "markdown",
   "metadata": {},
   "source": [
    "## Subject tail"
   ]
  },
  {
   "cell_type": "code",
   "execution_count": null,
   "metadata": {},
   "outputs": [],
   "source": [
    "get_uris = lambda ts: [i.rsplit('/', 1)[-1] for t in ts for i in [t.get('s'), t.get('o')] if isinstance(i, str)]\n",
    "all_uris = set(triples.map_partitions(all_uris).distinct().compute())\n",
    "len(all_uris)"
   ]
  },
  {
   "cell_type": "code",
   "execution_count": null,
   "metadata": {},
   "outputs": [],
   "source": [
    "import tqdm\n",
    "ss = set(g.lookup_id(f'<http://www.wikidata.org/entity/{u}>') for u in tqdm.tqdm(all_uris))\n",
    "len(ss)"
   ]
  },
  {
   "cell_type": "code",
   "execution_count": null,
   "metadata": {},
   "outputs": [],
   "source": [
    "s_count = {s: g.count_s(s) for s in tqdm.tqdm(ss) if s and g.count_s(s) > 1}\n",
    "\n",
    "import pandas as pd\n",
    "stail = pd.Series(s_count).to_frame('count')\n",
    "stail = stail.sort_values('count', ascending=False).reset_index() stail['rank'] = stail.index\n",
    "\n",
    "def loglog(df, x, y):\n",
    "    return df.plot.scatter(x, y, loglog=True, xlim=[1,df[x].max()], ylim=[1,df[y].max()])\n",
    "loglog(stail, 'rank', 'count')"
   ]
  },
  {
   "cell_type": "code",
   "execution_count": null,
   "metadata": {},
   "outputs": [],
   "source": [
    "triple_s = triples.map_partitions(lambda ts: [t.get('s') for t in ts if t['kind'] == 'property'])\n",
    "\n",
    "s_freq = pd.Series({g.lookup_id('<%s>'%s):f for s,f in triple_s.frequencies()}, name='freq')\n",
    "stail2 = stail.join(s_freq, on='index')\n",
    "stail2 = stail2[~stail2['freq'].isna()]\n",
    "\n",
    "loglog(stail2, 'rank', 'freq')"
   ]
  },
  {
   "cell_type": "code",
   "execution_count": null,
   "metadata": {},
   "outputs": [],
   "source": [
    "import numpy as np\n",
    "smeans = stail2.groupby(10**np.floor(np.log10(stail2['rank'])))['freq'].mean()\n",
    "smeans.plot.bar(logy=True, ylabel='Mean subject extraction frequency')"
   ]
  },
  {
   "cell_type": "markdown",
   "metadata": {},
   "source": [
    "## Object tal"
   ]
  },
  {
   "cell_type": "code",
   "execution_count": null,
   "metadata": {},
   "outputs": [],
   "source": [
    "o_count = {s: g.count_o(s) for s in tqdm.tqdm(ss) if s and g.count_o(s) > 1}\n",
    "\n",
    "import pandas as pd\n",
    "otail = pd.Series(o_count).to_frame('count')\n",
    "otail = otail.sort_values('count', ascending=False).reset_index() otail['rank'] = otail.index\n",
    "\n",
    "def loglog(df, x, y):\n",
    "    return df.plot.scatter(x, y, loglog=True, xlim=[1,df[x].max()], ylim=[1,df[y].max()])\n",
    "\n",
    "loglog(otail, 'rank', 'count')"
   ]
  },
  {
   "cell_type": "code",
   "execution_count": null,
   "metadata": {},
   "outputs": [],
   "source": [
    "triple_o = triples.map_partitions(lambda ts: [t.get('o') for t in ts if t['kind'] == 'property' and isinstance(t.get('o'), str)])\n",
    "\n",
    "o_freq = pd.Series({g.lookup_id('<%s>'%s):f for s,f in triple_o.frequencies()}, name='freq')\n",
    "otail2 = otail.join(o_freq, on='index')\n",
    "otail2 = otail2[~otail2['freq'].isna()]\n",
    "\n",
    "loglog(otail2, 'rank', 'freq')"
   ]
  },
  {
   "cell_type": "code",
   "execution_count": null,
   "metadata": {},
   "outputs": [],
   "source": [
    "import numpy as np\n",
    "omeans = otail2.groupby(10**np.floor(np.log10(otail2['rank'])))['freq'].mean()\n",
    "omeans.plot.bar(logy=True, ylabel='Mean object extraction frequency')"
   ]
  }
 ],
 "metadata": {
  "kernelspec": {
   "display_name": "Python 3",
   "language": "python",
   "name": "python3"
  },
  "language_info": {
   "codemirror_mode": {
    "name": "ipython",
    "version": 3
   },
   "file_extension": ".py",
   "mimetype": "text/x-python",
   "name": "python",
   "nbconvert_exporter": "python",
   "pygments_lexer": "ipython3",
   "version": "3.7.4"
  }
 },
 "nbformat": 4,
 "nbformat_minor": 2
}
